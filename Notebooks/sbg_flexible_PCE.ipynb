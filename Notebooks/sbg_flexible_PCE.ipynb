{
  "nbformat": 4,
  "nbformat_minor": 0,
  "metadata": {
    "colab": {
      "provenance": []
    },
    "kernelspec": {
      "name": "python3",
      "display_name": "Python 3"
    },
    "language_info": {
      "name": "python"
    },
    "widgets": {
      "application/vnd.jupyter.widget-state+json": {
        "a0f75f8ab56644b4a6d2fd4692f04b6e": {
          "model_module": "catboost-widget",
          "model_name": "CatboostWidgetModel",
          "model_module_version": "^1.0.0",
          "state": {
            "_dom_classes": [],
            "_model_module": "catboost-widget",
            "_model_module_version": "^1.0.0",
            "_model_name": "CatboostWidgetModel",
            "_view_count": null,
            "_view_module": "catboost-widget",
            "_view_module_version": "^1.0.0",
            "_view_name": "CatboostWidgetView",
            "data": {
              "catboost_info": {
                "path": "catboost_info",
                "name": "catboost_info",
                "content": {
                  "passed_iterations": 17,
                  "total_iterations": 18,
                  "data": {
                    "iterations": [
                      {
                        "learn": [
                          4.297159761
                        ],
                        "iteration": 0,
                        "passed_time": 0.04673272302,
                        "remaining_time": 0.7944562913,
                        "test": [
                          4.863663067
                        ]
                      },
                      {
                        "learn": [
                          4.288287799
                        ],
                        "iteration": 1,
                        "passed_time": 0.04703139809,
                        "remaining_time": 0.3762511847,
                        "test": [
                          4.858237208
                        ]
                      },
                      {
                        "learn": [
                          4.261490645
                        ],
                        "iteration": 2,
                        "passed_time": 0.04726512506,
                        "remaining_time": 0.2363256253,
                        "test": [
                          4.833180835
                        ]
                      },
                      {
                        "learn": [
                          4.239592584
                        ],
                        "iteration": 3,
                        "passed_time": 0.04770738591,
                        "remaining_time": 0.1669758507,
                        "test": [
                          4.821715793
                        ]
                      },
                      {
                        "learn": [
                          4.229519344
                        ],
                        "iteration": 4,
                        "passed_time": 0.04815617266,
                        "remaining_time": 0.1252060489,
                        "test": [
                          4.800711648
                        ]
                      },
                      {
                        "learn": [
                          4.213046662
                        ],
                        "iteration": 5,
                        "passed_time": 0.04859761073,
                        "remaining_time": 0.09719522145,
                        "test": [
                          4.78271454
                        ]
                      },
                      {
                        "learn": [
                          4.184225609
                        ],
                        "iteration": 6,
                        "passed_time": 0.04902710479,
                        "remaining_time": 0.07704259324,
                        "test": [
                          4.749701428
                        ]
                      },
                      {
                        "learn": [
                          4.152551344
                        ],
                        "iteration": 7,
                        "passed_time": 0.04947551606,
                        "remaining_time": 0.06184439507,
                        "test": [
                          4.724270972
                        ]
                      },
                      {
                        "learn": [
                          4.133428944
                        ],
                        "iteration": 8,
                        "passed_time": 0.04995546132,
                        "remaining_time": 0.04995546132,
                        "test": [
                          4.68715641
                        ]
                      },
                      {
                        "learn": [
                          4.114782197
                        ],
                        "iteration": 9,
                        "passed_time": 0.05043676257,
                        "remaining_time": 0.04034941006,
                        "test": [
                          4.66395097
                        ]
                      },
                      {
                        "learn": [
                          4.107460257
                        ],
                        "iteration": 10,
                        "passed_time": 0.05088744355,
                        "remaining_time": 0.03238291862,
                        "test": [
                          4.663260098
                        ]
                      },
                      {
                        "learn": [
                          4.102580581
                        ],
                        "iteration": 11,
                        "passed_time": 0.05132581049,
                        "remaining_time": 0.02566290525,
                        "test": [
                          4.662253782
                        ]
                      },
                      {
                        "learn": [
                          4.087190859
                        ],
                        "iteration": 12,
                        "passed_time": 0.05175660101,
                        "remaining_time": 0.019906385,
                        "test": [
                          4.634117867
                        ]
                      },
                      {
                        "learn": [
                          4.072224197
                        ],
                        "iteration": 13,
                        "passed_time": 0.05225575531,
                        "remaining_time": 0.0149302158,
                        "test": [
                          4.610230518
                        ]
                      },
                      {
                        "learn": [
                          4.061362178
                        ],
                        "iteration": 14,
                        "passed_time": 0.05279558877,
                        "remaining_time": 0.01055911775,
                        "test": [
                          4.593973926
                        ]
                      },
                      {
                        "learn": [
                          4.051421268
                        ],
                        "iteration": 15,
                        "passed_time": 0.05330718075,
                        "remaining_time": 0.006663397594,
                        "test": [
                          4.589193178
                        ]
                      },
                      {
                        "learn": [
                          4.028322065
                        ],
                        "iteration": 16,
                        "passed_time": 0.05375044076,
                        "remaining_time": 0.003161790633,
                        "test": [
                          4.554495014
                        ]
                      },
                      {
                        "learn": [
                          4.011773406
                        ],
                        "iteration": 17,
                        "passed_time": 0.05418895362,
                        "remaining_time": 0,
                        "test": [
                          4.532437808
                        ]
                      }
                    ],
                    "meta": {
                      "test_sets": [
                        "test"
                      ],
                      "test_metrics": [
                        {
                          "best_value": "Min",
                          "name": "RMSE"
                        }
                      ],
                      "learn_metrics": [
                        {
                          "best_value": "Min",
                          "name": "RMSE"
                        }
                      ],
                      "launch_mode": "Train",
                      "parameters": "",
                      "iteration_count": 18,
                      "learn_sets": [
                        "learn"
                      ],
                      "name": "experiment"
                    }
                  }
                }
              }
            },
            "layout": "IPY_MODEL_d2f2fa25586c40b894755f6d107a6e6c"
          }
        }
      }
    }
  },
  "cells": [
    {
      "cell_type": "code",
      "execution_count": 2,
      "metadata": {
        "id": "A02Yq19tFfAh"
      },
      "outputs": [],
      "source": [
        "import pandas as pd\n",
        "import numpy as np\n",
        "import matplotlib.pyplot as plt"
      ]
    },
    {
      "cell_type": "code",
      "source": [
        "df = pd.read_csv('/content/flexible solar cell.csv')\n",
        "df"
      ],
      "metadata": {
        "colab": {
          "base_uri": "https://localhost:8080/",
          "height": 423
        },
        "id": "4uqVh2POFuZD",
        "outputId": "5d0af665-0fc0-45c7-d09c-3b233d6e6c95"
      },
      "execution_count": 3,
      "outputs": [
        {
          "output_type": "execute_result",
          "data": {
            "text/plain": [
              "     ?H(DOI)  ?L(DOI)  Cell_area_measured Cell_architecture  \\\n",
              "0       0.06     0.06              0.1000               nip   \n",
              "1       0.20     0.80              0.0756               nip   \n",
              "2       0.30     0.53              0.0960               nip   \n",
              "3       0.20     0.70              0.0400               nip   \n",
              "4       0.40     0.33              1.2100               pin   \n",
              "..       ...      ...                 ...               ...   \n",
              "602     0.40     0.33              0.0177               pin   \n",
              "603     0.20     0.60              0.1000               pin   \n",
              "604     0.40     0.33              0.1000               pin   \n",
              "605     0.40     0.33              0.1000               pin   \n",
              "606     0.40     0.33              0.1000               pin   \n",
              "\n",
              "    Substrate_stack_sequence  Perovskite_band_gap   Voc    Jsc      FF    PCE  \n",
              "0                          E                 1.60  1.01  21.15  0.5700  12.18  \n",
              "1                          A                 1.60  0.97  20.00  0.6900  13.30  \n",
              "2                          A                 1.53  1.10  19.30  0.7900  16.80  \n",
              "3                          E                 1.53  1.08  20.06  0.6725  13.03  \n",
              "4                          F                 1.53  1.00  21.46  0.7550  16.16  \n",
              "..                       ...                  ...   ...    ...     ...    ...  \n",
              "602                        H                 1.53  0.96  20.10  0.8300  16.00  \n",
              "603                        A                 1.50  1.01  19.80  0.7700  15.59  \n",
              "604                        A                 1.50  0.83  14.70  0.6100   7.62  \n",
              "605                        A                 1.53  0.96  16.73  0.6500  10.71  \n",
              "606                        A                 1.53  0.98  16.85  0.7300  11.32  \n",
              "\n",
              "[607 rows x 10 columns]"
            ],
            "text/html": [
              "\n",
              "\n",
              "  <div id=\"df-f3a194c5-c3b0-48f3-b03b-8be202d6877a\">\n",
              "    <div class=\"colab-df-container\">\n",
              "      <div>\n",
              "<style scoped>\n",
              "    .dataframe tbody tr th:only-of-type {\n",
              "        vertical-align: middle;\n",
              "    }\n",
              "\n",
              "    .dataframe tbody tr th {\n",
              "        vertical-align: top;\n",
              "    }\n",
              "\n",
              "    .dataframe thead th {\n",
              "        text-align: right;\n",
              "    }\n",
              "</style>\n",
              "<table border=\"1\" class=\"dataframe\">\n",
              "  <thead>\n",
              "    <tr style=\"text-align: right;\">\n",
              "      <th></th>\n",
              "      <th>?H(DOI)</th>\n",
              "      <th>?L(DOI)</th>\n",
              "      <th>Cell_area_measured</th>\n",
              "      <th>Cell_architecture</th>\n",
              "      <th>Substrate_stack_sequence</th>\n",
              "      <th>Perovskite_band_gap</th>\n",
              "      <th>Voc</th>\n",
              "      <th>Jsc</th>\n",
              "      <th>FF</th>\n",
              "      <th>PCE</th>\n",
              "    </tr>\n",
              "  </thead>\n",
              "  <tbody>\n",
              "    <tr>\n",
              "      <th>0</th>\n",
              "      <td>0.06</td>\n",
              "      <td>0.06</td>\n",
              "      <td>0.1000</td>\n",
              "      <td>nip</td>\n",
              "      <td>E</td>\n",
              "      <td>1.60</td>\n",
              "      <td>1.01</td>\n",
              "      <td>21.15</td>\n",
              "      <td>0.5700</td>\n",
              "      <td>12.18</td>\n",
              "    </tr>\n",
              "    <tr>\n",
              "      <th>1</th>\n",
              "      <td>0.20</td>\n",
              "      <td>0.80</td>\n",
              "      <td>0.0756</td>\n",
              "      <td>nip</td>\n",
              "      <td>A</td>\n",
              "      <td>1.60</td>\n",
              "      <td>0.97</td>\n",
              "      <td>20.00</td>\n",
              "      <td>0.6900</td>\n",
              "      <td>13.30</td>\n",
              "    </tr>\n",
              "    <tr>\n",
              "      <th>2</th>\n",
              "      <td>0.30</td>\n",
              "      <td>0.53</td>\n",
              "      <td>0.0960</td>\n",
              "      <td>nip</td>\n",
              "      <td>A</td>\n",
              "      <td>1.53</td>\n",
              "      <td>1.10</td>\n",
              "      <td>19.30</td>\n",
              "      <td>0.7900</td>\n",
              "      <td>16.80</td>\n",
              "    </tr>\n",
              "    <tr>\n",
              "      <th>3</th>\n",
              "      <td>0.20</td>\n",
              "      <td>0.70</td>\n",
              "      <td>0.0400</td>\n",
              "      <td>nip</td>\n",
              "      <td>E</td>\n",
              "      <td>1.53</td>\n",
              "      <td>1.08</td>\n",
              "      <td>20.06</td>\n",
              "      <td>0.6725</td>\n",
              "      <td>13.03</td>\n",
              "    </tr>\n",
              "    <tr>\n",
              "      <th>4</th>\n",
              "      <td>0.40</td>\n",
              "      <td>0.33</td>\n",
              "      <td>1.2100</td>\n",
              "      <td>pin</td>\n",
              "      <td>F</td>\n",
              "      <td>1.53</td>\n",
              "      <td>1.00</td>\n",
              "      <td>21.46</td>\n",
              "      <td>0.7550</td>\n",
              "      <td>16.16</td>\n",
              "    </tr>\n",
              "    <tr>\n",
              "      <th>...</th>\n",
              "      <td>...</td>\n",
              "      <td>...</td>\n",
              "      <td>...</td>\n",
              "      <td>...</td>\n",
              "      <td>...</td>\n",
              "      <td>...</td>\n",
              "      <td>...</td>\n",
              "      <td>...</td>\n",
              "      <td>...</td>\n",
              "      <td>...</td>\n",
              "    </tr>\n",
              "    <tr>\n",
              "      <th>602</th>\n",
              "      <td>0.40</td>\n",
              "      <td>0.33</td>\n",
              "      <td>0.0177</td>\n",
              "      <td>pin</td>\n",
              "      <td>H</td>\n",
              "      <td>1.53</td>\n",
              "      <td>0.96</td>\n",
              "      <td>20.10</td>\n",
              "      <td>0.8300</td>\n",
              "      <td>16.00</td>\n",
              "    </tr>\n",
              "    <tr>\n",
              "      <th>603</th>\n",
              "      <td>0.20</td>\n",
              "      <td>0.60</td>\n",
              "      <td>0.1000</td>\n",
              "      <td>pin</td>\n",
              "      <td>A</td>\n",
              "      <td>1.50</td>\n",
              "      <td>1.01</td>\n",
              "      <td>19.80</td>\n",
              "      <td>0.7700</td>\n",
              "      <td>15.59</td>\n",
              "    </tr>\n",
              "    <tr>\n",
              "      <th>604</th>\n",
              "      <td>0.40</td>\n",
              "      <td>0.33</td>\n",
              "      <td>0.1000</td>\n",
              "      <td>pin</td>\n",
              "      <td>A</td>\n",
              "      <td>1.50</td>\n",
              "      <td>0.83</td>\n",
              "      <td>14.70</td>\n",
              "      <td>0.6100</td>\n",
              "      <td>7.62</td>\n",
              "    </tr>\n",
              "    <tr>\n",
              "      <th>605</th>\n",
              "      <td>0.40</td>\n",
              "      <td>0.33</td>\n",
              "      <td>0.1000</td>\n",
              "      <td>pin</td>\n",
              "      <td>A</td>\n",
              "      <td>1.53</td>\n",
              "      <td>0.96</td>\n",
              "      <td>16.73</td>\n",
              "      <td>0.6500</td>\n",
              "      <td>10.71</td>\n",
              "    </tr>\n",
              "    <tr>\n",
              "      <th>606</th>\n",
              "      <td>0.40</td>\n",
              "      <td>0.33</td>\n",
              "      <td>0.1000</td>\n",
              "      <td>pin</td>\n",
              "      <td>A</td>\n",
              "      <td>1.53</td>\n",
              "      <td>0.98</td>\n",
              "      <td>16.85</td>\n",
              "      <td>0.7300</td>\n",
              "      <td>11.32</td>\n",
              "    </tr>\n",
              "  </tbody>\n",
              "</table>\n",
              "<p>607 rows × 10 columns</p>\n",
              "</div>\n",
              "      <button class=\"colab-df-convert\" onclick=\"convertToInteractive('df-f3a194c5-c3b0-48f3-b03b-8be202d6877a')\"\n",
              "              title=\"Convert this dataframe to an interactive table.\"\n",
              "              style=\"display:none;\">\n",
              "\n",
              "  <svg xmlns=\"http://www.w3.org/2000/svg\" height=\"24px\"viewBox=\"0 0 24 24\"\n",
              "       width=\"24px\">\n",
              "    <path d=\"M0 0h24v24H0V0z\" fill=\"none\"/>\n",
              "    <path d=\"M18.56 5.44l.94 2.06.94-2.06 2.06-.94-2.06-.94-.94-2.06-.94 2.06-2.06.94zm-11 1L8.5 8.5l.94-2.06 2.06-.94-2.06-.94L8.5 2.5l-.94 2.06-2.06.94zm10 10l.94 2.06.94-2.06 2.06-.94-2.06-.94-.94-2.06-.94 2.06-2.06.94z\"/><path d=\"M17.41 7.96l-1.37-1.37c-.4-.4-.92-.59-1.43-.59-.52 0-1.04.2-1.43.59L10.3 9.45l-7.72 7.72c-.78.78-.78 2.05 0 2.83L4 21.41c.39.39.9.59 1.41.59.51 0 1.02-.2 1.41-.59l7.78-7.78 2.81-2.81c.8-.78.8-2.07 0-2.86zM5.41 20L4 18.59l7.72-7.72 1.47 1.35L5.41 20z\"/>\n",
              "  </svg>\n",
              "      </button>\n",
              "\n",
              "\n",
              "\n",
              "    <div id=\"df-7dea77c6-06a2-4fdb-abbf-a851927d52d4\">\n",
              "      <button class=\"colab-df-quickchart\" onclick=\"quickchart('df-7dea77c6-06a2-4fdb-abbf-a851927d52d4')\"\n",
              "              title=\"Suggest charts.\"\n",
              "              style=\"display:none;\">\n",
              "\n",
              "<svg xmlns=\"http://www.w3.org/2000/svg\" height=\"24px\"viewBox=\"0 0 24 24\"\n",
              "     width=\"24px\">\n",
              "    <g>\n",
              "        <path d=\"M19 3H5c-1.1 0-2 .9-2 2v14c0 1.1.9 2 2 2h14c1.1 0 2-.9 2-2V5c0-1.1-.9-2-2-2zM9 17H7v-7h2v7zm4 0h-2V7h2v10zm4 0h-2v-4h2v4z\"/>\n",
              "    </g>\n",
              "</svg>\n",
              "      </button>\n",
              "    </div>\n",
              "\n",
              "<style>\n",
              "  .colab-df-quickchart {\n",
              "    background-color: #E8F0FE;\n",
              "    border: none;\n",
              "    border-radius: 50%;\n",
              "    cursor: pointer;\n",
              "    display: none;\n",
              "    fill: #1967D2;\n",
              "    height: 32px;\n",
              "    padding: 0 0 0 0;\n",
              "    width: 32px;\n",
              "  }\n",
              "\n",
              "  .colab-df-quickchart:hover {\n",
              "    background-color: #E2EBFA;\n",
              "    box-shadow: 0px 1px 2px rgba(60, 64, 67, 0.3), 0px 1px 3px 1px rgba(60, 64, 67, 0.15);\n",
              "    fill: #174EA6;\n",
              "  }\n",
              "\n",
              "  [theme=dark] .colab-df-quickchart {\n",
              "    background-color: #3B4455;\n",
              "    fill: #D2E3FC;\n",
              "  }\n",
              "\n",
              "  [theme=dark] .colab-df-quickchart:hover {\n",
              "    background-color: #434B5C;\n",
              "    box-shadow: 0px 1px 3px 1px rgba(0, 0, 0, 0.15);\n",
              "    filter: drop-shadow(0px 1px 2px rgba(0, 0, 0, 0.3));\n",
              "    fill: #FFFFFF;\n",
              "  }\n",
              "</style>\n",
              "\n",
              "    <script>\n",
              "      async function quickchart(key) {\n",
              "        const containerElement = document.querySelector('#' + key);\n",
              "        const charts = await google.colab.kernel.invokeFunction(\n",
              "            'suggestCharts', [key], {});\n",
              "      }\n",
              "    </script>\n",
              "\n",
              "      <script>\n",
              "\n",
              "function displayQuickchartButton(domScope) {\n",
              "  let quickchartButtonEl =\n",
              "    domScope.querySelector('#df-7dea77c6-06a2-4fdb-abbf-a851927d52d4 button.colab-df-quickchart');\n",
              "  quickchartButtonEl.style.display =\n",
              "    google.colab.kernel.accessAllowed ? 'block' : 'none';\n",
              "}\n",
              "\n",
              "        displayQuickchartButton(document);\n",
              "      </script>\n",
              "      <style>\n",
              "    .colab-df-container {\n",
              "      display:flex;\n",
              "      flex-wrap:wrap;\n",
              "      gap: 12px;\n",
              "    }\n",
              "\n",
              "    .colab-df-convert {\n",
              "      background-color: #E8F0FE;\n",
              "      border: none;\n",
              "      border-radius: 50%;\n",
              "      cursor: pointer;\n",
              "      display: none;\n",
              "      fill: #1967D2;\n",
              "      height: 32px;\n",
              "      padding: 0 0 0 0;\n",
              "      width: 32px;\n",
              "    }\n",
              "\n",
              "    .colab-df-convert:hover {\n",
              "      background-color: #E2EBFA;\n",
              "      box-shadow: 0px 1px 2px rgba(60, 64, 67, 0.3), 0px 1px 3px 1px rgba(60, 64, 67, 0.15);\n",
              "      fill: #174EA6;\n",
              "    }\n",
              "\n",
              "    [theme=dark] .colab-df-convert {\n",
              "      background-color: #3B4455;\n",
              "      fill: #D2E3FC;\n",
              "    }\n",
              "\n",
              "    [theme=dark] .colab-df-convert:hover {\n",
              "      background-color: #434B5C;\n",
              "      box-shadow: 0px 1px 3px 1px rgba(0, 0, 0, 0.15);\n",
              "      filter: drop-shadow(0px 1px 2px rgba(0, 0, 0, 0.3));\n",
              "      fill: #FFFFFF;\n",
              "    }\n",
              "  </style>\n",
              "\n",
              "      <script>\n",
              "        const buttonEl =\n",
              "          document.querySelector('#df-f3a194c5-c3b0-48f3-b03b-8be202d6877a button.colab-df-convert');\n",
              "        buttonEl.style.display =\n",
              "          google.colab.kernel.accessAllowed ? 'block' : 'none';\n",
              "\n",
              "        async function convertToInteractive(key) {\n",
              "          const element = document.querySelector('#df-f3a194c5-c3b0-48f3-b03b-8be202d6877a');\n",
              "          const dataTable =\n",
              "            await google.colab.kernel.invokeFunction('convertToInteractive',\n",
              "                                                     [key], {});\n",
              "          if (!dataTable) return;\n",
              "\n",
              "          const docLinkHtml = 'Like what you see? Visit the ' +\n",
              "            '<a target=\"_blank\" href=https://colab.research.google.com/notebooks/data_table.ipynb>data table notebook</a>'\n",
              "            + ' to learn more about interactive tables.';\n",
              "          element.innerHTML = '';\n",
              "          dataTable['output_type'] = 'display_data';\n",
              "          await google.colab.output.renderOutput(dataTable, element);\n",
              "          const docLink = document.createElement('div');\n",
              "          docLink.innerHTML = docLinkHtml;\n",
              "          element.appendChild(docLink);\n",
              "        }\n",
              "      </script>\n",
              "    </div>\n",
              "  </div>\n"
            ]
          },
          "metadata": {},
          "execution_count": 3
        }
      ]
    },
    {
      "cell_type": "code",
      "source": [
        "# value_mapping = {0: 'pin', 1: 'nip'}\n",
        "# df['Cell_architecture'] = df['Cell_architecture'].replace(value_mapping)\n",
        "# value_mapping1 = {0: 'A', 1: 'B', 2: 'C',3:'D',4:'E',5:'F',6:'G',7:'H'}\n",
        "# df['Substrate_stack_sequence'] = df['Substrate_stack_sequence'].replace(value_mapping1)\n",
        "# df"
      ],
      "metadata": {
        "id": "JAEfDegqGDXx"
      },
      "execution_count": 4,
      "outputs": []
    },
    {
      "cell_type": "code",
      "source": [
        "df['Cell_architecture'].value_counts()"
      ],
      "metadata": {
        "colab": {
          "base_uri": "https://localhost:8080/"
        },
        "id": "q8xkymsSO0ou",
        "outputId": "11dda1b9-3cff-4c0a-8989-7547026866ec"
      },
      "execution_count": 5,
      "outputs": [
        {
          "output_type": "execute_result",
          "data": {
            "text/plain": [
              "nip    306\n",
              "pin    301\n",
              "Name: Cell_architecture, dtype: int64"
            ]
          },
          "metadata": {},
          "execution_count": 5
        }
      ]
    },
    {
      "cell_type": "code",
      "source": [
        "df.info()"
      ],
      "metadata": {
        "colab": {
          "base_uri": "https://localhost:8080/"
        },
        "id": "AKbUChK3GCKA",
        "outputId": "77788c92-3e0c-49c6-b78c-4a08a51a1ae6"
      },
      "execution_count": 6,
      "outputs": [
        {
          "output_type": "stream",
          "name": "stdout",
          "text": [
            "<class 'pandas.core.frame.DataFrame'>\n",
            "RangeIndex: 607 entries, 0 to 606\n",
            "Data columns (total 10 columns):\n",
            " #   Column                    Non-Null Count  Dtype  \n",
            "---  ------                    --------------  -----  \n",
            " 0   ?H(DOI)                   607 non-null    float64\n",
            " 1   ?L(DOI)                   607 non-null    float64\n",
            " 2   Cell_area_measured        607 non-null    float64\n",
            " 3   Cell_architecture         607 non-null    object \n",
            " 4   Substrate_stack_sequence  607 non-null    object \n",
            " 5   Perovskite_band_gap       607 non-null    float64\n",
            " 6   Voc                       607 non-null    float64\n",
            " 7   Jsc                       607 non-null    float64\n",
            " 8   FF                        607 non-null    float64\n",
            " 9   PCE                       607 non-null    float64\n",
            "dtypes: float64(8), object(2)\n",
            "memory usage: 47.5+ KB\n"
          ]
        }
      ]
    },
    {
      "cell_type": "code",
      "source": [
        "df_cat=df.select_dtypes(object)\n",
        "df_cat"
      ],
      "metadata": {
        "colab": {
          "base_uri": "https://localhost:8080/",
          "height": 423
        },
        "id": "Z3CIApo8GIkz",
        "outputId": "f134a172-48c3-49e3-a161-d2820c43b6b2"
      },
      "execution_count": 7,
      "outputs": [
        {
          "output_type": "execute_result",
          "data": {
            "text/plain": [
              "    Cell_architecture Substrate_stack_sequence\n",
              "0                 nip                        E\n",
              "1                 nip                        A\n",
              "2                 nip                        A\n",
              "3                 nip                        E\n",
              "4                 pin                        F\n",
              "..                ...                      ...\n",
              "602               pin                        H\n",
              "603               pin                        A\n",
              "604               pin                        A\n",
              "605               pin                        A\n",
              "606               pin                        A\n",
              "\n",
              "[607 rows x 2 columns]"
            ],
            "text/html": [
              "\n",
              "\n",
              "  <div id=\"df-58042975-698c-4e50-bf72-4f681f7ed334\">\n",
              "    <div class=\"colab-df-container\">\n",
              "      <div>\n",
              "<style scoped>\n",
              "    .dataframe tbody tr th:only-of-type {\n",
              "        vertical-align: middle;\n",
              "    }\n",
              "\n",
              "    .dataframe tbody tr th {\n",
              "        vertical-align: top;\n",
              "    }\n",
              "\n",
              "    .dataframe thead th {\n",
              "        text-align: right;\n",
              "    }\n",
              "</style>\n",
              "<table border=\"1\" class=\"dataframe\">\n",
              "  <thead>\n",
              "    <tr style=\"text-align: right;\">\n",
              "      <th></th>\n",
              "      <th>Cell_architecture</th>\n",
              "      <th>Substrate_stack_sequence</th>\n",
              "    </tr>\n",
              "  </thead>\n",
              "  <tbody>\n",
              "    <tr>\n",
              "      <th>0</th>\n",
              "      <td>nip</td>\n",
              "      <td>E</td>\n",
              "    </tr>\n",
              "    <tr>\n",
              "      <th>1</th>\n",
              "      <td>nip</td>\n",
              "      <td>A</td>\n",
              "    </tr>\n",
              "    <tr>\n",
              "      <th>2</th>\n",
              "      <td>nip</td>\n",
              "      <td>A</td>\n",
              "    </tr>\n",
              "    <tr>\n",
              "      <th>3</th>\n",
              "      <td>nip</td>\n",
              "      <td>E</td>\n",
              "    </tr>\n",
              "    <tr>\n",
              "      <th>4</th>\n",
              "      <td>pin</td>\n",
              "      <td>F</td>\n",
              "    </tr>\n",
              "    <tr>\n",
              "      <th>...</th>\n",
              "      <td>...</td>\n",
              "      <td>...</td>\n",
              "    </tr>\n",
              "    <tr>\n",
              "      <th>602</th>\n",
              "      <td>pin</td>\n",
              "      <td>H</td>\n",
              "    </tr>\n",
              "    <tr>\n",
              "      <th>603</th>\n",
              "      <td>pin</td>\n",
              "      <td>A</td>\n",
              "    </tr>\n",
              "    <tr>\n",
              "      <th>604</th>\n",
              "      <td>pin</td>\n",
              "      <td>A</td>\n",
              "    </tr>\n",
              "    <tr>\n",
              "      <th>605</th>\n",
              "      <td>pin</td>\n",
              "      <td>A</td>\n",
              "    </tr>\n",
              "    <tr>\n",
              "      <th>606</th>\n",
              "      <td>pin</td>\n",
              "      <td>A</td>\n",
              "    </tr>\n",
              "  </tbody>\n",
              "</table>\n",
              "<p>607 rows × 2 columns</p>\n",
              "</div>\n",
              "      <button class=\"colab-df-convert\" onclick=\"convertToInteractive('df-58042975-698c-4e50-bf72-4f681f7ed334')\"\n",
              "              title=\"Convert this dataframe to an interactive table.\"\n",
              "              style=\"display:none;\">\n",
              "\n",
              "  <svg xmlns=\"http://www.w3.org/2000/svg\" height=\"24px\"viewBox=\"0 0 24 24\"\n",
              "       width=\"24px\">\n",
              "    <path d=\"M0 0h24v24H0V0z\" fill=\"none\"/>\n",
              "    <path d=\"M18.56 5.44l.94 2.06.94-2.06 2.06-.94-2.06-.94-.94-2.06-.94 2.06-2.06.94zm-11 1L8.5 8.5l.94-2.06 2.06-.94-2.06-.94L8.5 2.5l-.94 2.06-2.06.94zm10 10l.94 2.06.94-2.06 2.06-.94-2.06-.94-.94-2.06-.94 2.06-2.06.94z\"/><path d=\"M17.41 7.96l-1.37-1.37c-.4-.4-.92-.59-1.43-.59-.52 0-1.04.2-1.43.59L10.3 9.45l-7.72 7.72c-.78.78-.78 2.05 0 2.83L4 21.41c.39.39.9.59 1.41.59.51 0 1.02-.2 1.41-.59l7.78-7.78 2.81-2.81c.8-.78.8-2.07 0-2.86zM5.41 20L4 18.59l7.72-7.72 1.47 1.35L5.41 20z\"/>\n",
              "  </svg>\n",
              "      </button>\n",
              "\n",
              "\n",
              "\n",
              "    <div id=\"df-b7ce03f2-5be9-435f-afd9-1463c8c0ff45\">\n",
              "      <button class=\"colab-df-quickchart\" onclick=\"quickchart('df-b7ce03f2-5be9-435f-afd9-1463c8c0ff45')\"\n",
              "              title=\"Suggest charts.\"\n",
              "              style=\"display:none;\">\n",
              "\n",
              "<svg xmlns=\"http://www.w3.org/2000/svg\" height=\"24px\"viewBox=\"0 0 24 24\"\n",
              "     width=\"24px\">\n",
              "    <g>\n",
              "        <path d=\"M19 3H5c-1.1 0-2 .9-2 2v14c0 1.1.9 2 2 2h14c1.1 0 2-.9 2-2V5c0-1.1-.9-2-2-2zM9 17H7v-7h2v7zm4 0h-2V7h2v10zm4 0h-2v-4h2v4z\"/>\n",
              "    </g>\n",
              "</svg>\n",
              "      </button>\n",
              "    </div>\n",
              "\n",
              "<style>\n",
              "  .colab-df-quickchart {\n",
              "    background-color: #E8F0FE;\n",
              "    border: none;\n",
              "    border-radius: 50%;\n",
              "    cursor: pointer;\n",
              "    display: none;\n",
              "    fill: #1967D2;\n",
              "    height: 32px;\n",
              "    padding: 0 0 0 0;\n",
              "    width: 32px;\n",
              "  }\n",
              "\n",
              "  .colab-df-quickchart:hover {\n",
              "    background-color: #E2EBFA;\n",
              "    box-shadow: 0px 1px 2px rgba(60, 64, 67, 0.3), 0px 1px 3px 1px rgba(60, 64, 67, 0.15);\n",
              "    fill: #174EA6;\n",
              "  }\n",
              "\n",
              "  [theme=dark] .colab-df-quickchart {\n",
              "    background-color: #3B4455;\n",
              "    fill: #D2E3FC;\n",
              "  }\n",
              "\n",
              "  [theme=dark] .colab-df-quickchart:hover {\n",
              "    background-color: #434B5C;\n",
              "    box-shadow: 0px 1px 3px 1px rgba(0, 0, 0, 0.15);\n",
              "    filter: drop-shadow(0px 1px 2px rgba(0, 0, 0, 0.3));\n",
              "    fill: #FFFFFF;\n",
              "  }\n",
              "</style>\n",
              "\n",
              "    <script>\n",
              "      async function quickchart(key) {\n",
              "        const containerElement = document.querySelector('#' + key);\n",
              "        const charts = await google.colab.kernel.invokeFunction(\n",
              "            'suggestCharts', [key], {});\n",
              "      }\n",
              "    </script>\n",
              "\n",
              "      <script>\n",
              "\n",
              "function displayQuickchartButton(domScope) {\n",
              "  let quickchartButtonEl =\n",
              "    domScope.querySelector('#df-b7ce03f2-5be9-435f-afd9-1463c8c0ff45 button.colab-df-quickchart');\n",
              "  quickchartButtonEl.style.display =\n",
              "    google.colab.kernel.accessAllowed ? 'block' : 'none';\n",
              "}\n",
              "\n",
              "        displayQuickchartButton(document);\n",
              "      </script>\n",
              "      <style>\n",
              "    .colab-df-container {\n",
              "      display:flex;\n",
              "      flex-wrap:wrap;\n",
              "      gap: 12px;\n",
              "    }\n",
              "\n",
              "    .colab-df-convert {\n",
              "      background-color: #E8F0FE;\n",
              "      border: none;\n",
              "      border-radius: 50%;\n",
              "      cursor: pointer;\n",
              "      display: none;\n",
              "      fill: #1967D2;\n",
              "      height: 32px;\n",
              "      padding: 0 0 0 0;\n",
              "      width: 32px;\n",
              "    }\n",
              "\n",
              "    .colab-df-convert:hover {\n",
              "      background-color: #E2EBFA;\n",
              "      box-shadow: 0px 1px 2px rgba(60, 64, 67, 0.3), 0px 1px 3px 1px rgba(60, 64, 67, 0.15);\n",
              "      fill: #174EA6;\n",
              "    }\n",
              "\n",
              "    [theme=dark] .colab-df-convert {\n",
              "      background-color: #3B4455;\n",
              "      fill: #D2E3FC;\n",
              "    }\n",
              "\n",
              "    [theme=dark] .colab-df-convert:hover {\n",
              "      background-color: #434B5C;\n",
              "      box-shadow: 0px 1px 3px 1px rgba(0, 0, 0, 0.15);\n",
              "      filter: drop-shadow(0px 1px 2px rgba(0, 0, 0, 0.3));\n",
              "      fill: #FFFFFF;\n",
              "    }\n",
              "  </style>\n",
              "\n",
              "      <script>\n",
              "        const buttonEl =\n",
              "          document.querySelector('#df-58042975-698c-4e50-bf72-4f681f7ed334 button.colab-df-convert');\n",
              "        buttonEl.style.display =\n",
              "          google.colab.kernel.accessAllowed ? 'block' : 'none';\n",
              "\n",
              "        async function convertToInteractive(key) {\n",
              "          const element = document.querySelector('#df-58042975-698c-4e50-bf72-4f681f7ed334');\n",
              "          const dataTable =\n",
              "            await google.colab.kernel.invokeFunction('convertToInteractive',\n",
              "                                                     [key], {});\n",
              "          if (!dataTable) return;\n",
              "\n",
              "          const docLinkHtml = 'Like what you see? Visit the ' +\n",
              "            '<a target=\"_blank\" href=https://colab.research.google.com/notebooks/data_table.ipynb>data table notebook</a>'\n",
              "            + ' to learn more about interactive tables.';\n",
              "          element.innerHTML = '';\n",
              "          dataTable['output_type'] = 'display_data';\n",
              "          await google.colab.output.renderOutput(dataTable, element);\n",
              "          const docLink = document.createElement('div');\n",
              "          docLink.innerHTML = docLinkHtml;\n",
              "          element.appendChild(docLink);\n",
              "        }\n",
              "      </script>\n",
              "    </div>\n",
              "  </div>\n"
            ]
          },
          "metadata": {},
          "execution_count": 7
        }
      ]
    },
    {
      "cell_type": "code",
      "source": [
        "df.info()"
      ],
      "metadata": {
        "colab": {
          "base_uri": "https://localhost:8080/"
        },
        "id": "nOck2AP6GLUw",
        "outputId": "d4c7cf9c-a51d-4d7f-b9ba-2ab4be597437"
      },
      "execution_count": 8,
      "outputs": [
        {
          "output_type": "stream",
          "name": "stdout",
          "text": [
            "<class 'pandas.core.frame.DataFrame'>\n",
            "RangeIndex: 607 entries, 0 to 606\n",
            "Data columns (total 10 columns):\n",
            " #   Column                    Non-Null Count  Dtype  \n",
            "---  ------                    --------------  -----  \n",
            " 0   ?H(DOI)                   607 non-null    float64\n",
            " 1   ?L(DOI)                   607 non-null    float64\n",
            " 2   Cell_area_measured        607 non-null    float64\n",
            " 3   Cell_architecture         607 non-null    object \n",
            " 4   Substrate_stack_sequence  607 non-null    object \n",
            " 5   Perovskite_band_gap       607 non-null    float64\n",
            " 6   Voc                       607 non-null    float64\n",
            " 7   Jsc                       607 non-null    float64\n",
            " 8   FF                        607 non-null    float64\n",
            " 9   PCE                       607 non-null    float64\n",
            "dtypes: float64(8), object(2)\n",
            "memory usage: 47.5+ KB\n"
          ]
        }
      ]
    },
    {
      "cell_type": "code",
      "source": [
        "df_num=df.select_dtypes(['float64'])\n",
        "df_num"
      ],
      "metadata": {
        "colab": {
          "base_uri": "https://localhost:8080/",
          "height": 423
        },
        "id": "XVihPu65GOey",
        "outputId": "27f4d814-04f8-4145-ca44-251ea185c1fa"
      },
      "execution_count": 9,
      "outputs": [
        {
          "output_type": "execute_result",
          "data": {
            "text/plain": [
              "     ?H(DOI)  ?L(DOI)  Cell_area_measured  Perovskite_band_gap   Voc    Jsc  \\\n",
              "0       0.06     0.06              0.1000                 1.60  1.01  21.15   \n",
              "1       0.20     0.80              0.0756                 1.60  0.97  20.00   \n",
              "2       0.30     0.53              0.0960                 1.53  1.10  19.30   \n",
              "3       0.20     0.70              0.0400                 1.53  1.08  20.06   \n",
              "4       0.40     0.33              1.2100                 1.53  1.00  21.46   \n",
              "..       ...      ...                 ...                  ...   ...    ...   \n",
              "602     0.40     0.33              0.0177                 1.53  0.96  20.10   \n",
              "603     0.20     0.60              0.1000                 1.50  1.01  19.80   \n",
              "604     0.40     0.33              0.1000                 1.50  0.83  14.70   \n",
              "605     0.40     0.33              0.1000                 1.53  0.96  16.73   \n",
              "606     0.40     0.33              0.1000                 1.53  0.98  16.85   \n",
              "\n",
              "         FF    PCE  \n",
              "0    0.5700  12.18  \n",
              "1    0.6900  13.30  \n",
              "2    0.7900  16.80  \n",
              "3    0.6725  13.03  \n",
              "4    0.7550  16.16  \n",
              "..      ...    ...  \n",
              "602  0.8300  16.00  \n",
              "603  0.7700  15.59  \n",
              "604  0.6100   7.62  \n",
              "605  0.6500  10.71  \n",
              "606  0.7300  11.32  \n",
              "\n",
              "[607 rows x 8 columns]"
            ],
            "text/html": [
              "\n",
              "\n",
              "  <div id=\"df-eb16efa8-fd94-4519-a6ab-55b2cc0c77a9\">\n",
              "    <div class=\"colab-df-container\">\n",
              "      <div>\n",
              "<style scoped>\n",
              "    .dataframe tbody tr th:only-of-type {\n",
              "        vertical-align: middle;\n",
              "    }\n",
              "\n",
              "    .dataframe tbody tr th {\n",
              "        vertical-align: top;\n",
              "    }\n",
              "\n",
              "    .dataframe thead th {\n",
              "        text-align: right;\n",
              "    }\n",
              "</style>\n",
              "<table border=\"1\" class=\"dataframe\">\n",
              "  <thead>\n",
              "    <tr style=\"text-align: right;\">\n",
              "      <th></th>\n",
              "      <th>?H(DOI)</th>\n",
              "      <th>?L(DOI)</th>\n",
              "      <th>Cell_area_measured</th>\n",
              "      <th>Perovskite_band_gap</th>\n",
              "      <th>Voc</th>\n",
              "      <th>Jsc</th>\n",
              "      <th>FF</th>\n",
              "      <th>PCE</th>\n",
              "    </tr>\n",
              "  </thead>\n",
              "  <tbody>\n",
              "    <tr>\n",
              "      <th>0</th>\n",
              "      <td>0.06</td>\n",
              "      <td>0.06</td>\n",
              "      <td>0.1000</td>\n",
              "      <td>1.60</td>\n",
              "      <td>1.01</td>\n",
              "      <td>21.15</td>\n",
              "      <td>0.5700</td>\n",
              "      <td>12.18</td>\n",
              "    </tr>\n",
              "    <tr>\n",
              "      <th>1</th>\n",
              "      <td>0.20</td>\n",
              "      <td>0.80</td>\n",
              "      <td>0.0756</td>\n",
              "      <td>1.60</td>\n",
              "      <td>0.97</td>\n",
              "      <td>20.00</td>\n",
              "      <td>0.6900</td>\n",
              "      <td>13.30</td>\n",
              "    </tr>\n",
              "    <tr>\n",
              "      <th>2</th>\n",
              "      <td>0.30</td>\n",
              "      <td>0.53</td>\n",
              "      <td>0.0960</td>\n",
              "      <td>1.53</td>\n",
              "      <td>1.10</td>\n",
              "      <td>19.30</td>\n",
              "      <td>0.7900</td>\n",
              "      <td>16.80</td>\n",
              "    </tr>\n",
              "    <tr>\n",
              "      <th>3</th>\n",
              "      <td>0.20</td>\n",
              "      <td>0.70</td>\n",
              "      <td>0.0400</td>\n",
              "      <td>1.53</td>\n",
              "      <td>1.08</td>\n",
              "      <td>20.06</td>\n",
              "      <td>0.6725</td>\n",
              "      <td>13.03</td>\n",
              "    </tr>\n",
              "    <tr>\n",
              "      <th>4</th>\n",
              "      <td>0.40</td>\n",
              "      <td>0.33</td>\n",
              "      <td>1.2100</td>\n",
              "      <td>1.53</td>\n",
              "      <td>1.00</td>\n",
              "      <td>21.46</td>\n",
              "      <td>0.7550</td>\n",
              "      <td>16.16</td>\n",
              "    </tr>\n",
              "    <tr>\n",
              "      <th>...</th>\n",
              "      <td>...</td>\n",
              "      <td>...</td>\n",
              "      <td>...</td>\n",
              "      <td>...</td>\n",
              "      <td>...</td>\n",
              "      <td>...</td>\n",
              "      <td>...</td>\n",
              "      <td>...</td>\n",
              "    </tr>\n",
              "    <tr>\n",
              "      <th>602</th>\n",
              "      <td>0.40</td>\n",
              "      <td>0.33</td>\n",
              "      <td>0.0177</td>\n",
              "      <td>1.53</td>\n",
              "      <td>0.96</td>\n",
              "      <td>20.10</td>\n",
              "      <td>0.8300</td>\n",
              "      <td>16.00</td>\n",
              "    </tr>\n",
              "    <tr>\n",
              "      <th>603</th>\n",
              "      <td>0.20</td>\n",
              "      <td>0.60</td>\n",
              "      <td>0.1000</td>\n",
              "      <td>1.50</td>\n",
              "      <td>1.01</td>\n",
              "      <td>19.80</td>\n",
              "      <td>0.7700</td>\n",
              "      <td>15.59</td>\n",
              "    </tr>\n",
              "    <tr>\n",
              "      <th>604</th>\n",
              "      <td>0.40</td>\n",
              "      <td>0.33</td>\n",
              "      <td>0.1000</td>\n",
              "      <td>1.50</td>\n",
              "      <td>0.83</td>\n",
              "      <td>14.70</td>\n",
              "      <td>0.6100</td>\n",
              "      <td>7.62</td>\n",
              "    </tr>\n",
              "    <tr>\n",
              "      <th>605</th>\n",
              "      <td>0.40</td>\n",
              "      <td>0.33</td>\n",
              "      <td>0.1000</td>\n",
              "      <td>1.53</td>\n",
              "      <td>0.96</td>\n",
              "      <td>16.73</td>\n",
              "      <td>0.6500</td>\n",
              "      <td>10.71</td>\n",
              "    </tr>\n",
              "    <tr>\n",
              "      <th>606</th>\n",
              "      <td>0.40</td>\n",
              "      <td>0.33</td>\n",
              "      <td>0.1000</td>\n",
              "      <td>1.53</td>\n",
              "      <td>0.98</td>\n",
              "      <td>16.85</td>\n",
              "      <td>0.7300</td>\n",
              "      <td>11.32</td>\n",
              "    </tr>\n",
              "  </tbody>\n",
              "</table>\n",
              "<p>607 rows × 8 columns</p>\n",
              "</div>\n",
              "      <button class=\"colab-df-convert\" onclick=\"convertToInteractive('df-eb16efa8-fd94-4519-a6ab-55b2cc0c77a9')\"\n",
              "              title=\"Convert this dataframe to an interactive table.\"\n",
              "              style=\"display:none;\">\n",
              "\n",
              "  <svg xmlns=\"http://www.w3.org/2000/svg\" height=\"24px\"viewBox=\"0 0 24 24\"\n",
              "       width=\"24px\">\n",
              "    <path d=\"M0 0h24v24H0V0z\" fill=\"none\"/>\n",
              "    <path d=\"M18.56 5.44l.94 2.06.94-2.06 2.06-.94-2.06-.94-.94-2.06-.94 2.06-2.06.94zm-11 1L8.5 8.5l.94-2.06 2.06-.94-2.06-.94L8.5 2.5l-.94 2.06-2.06.94zm10 10l.94 2.06.94-2.06 2.06-.94-2.06-.94-.94-2.06-.94 2.06-2.06.94z\"/><path d=\"M17.41 7.96l-1.37-1.37c-.4-.4-.92-.59-1.43-.59-.52 0-1.04.2-1.43.59L10.3 9.45l-7.72 7.72c-.78.78-.78 2.05 0 2.83L4 21.41c.39.39.9.59 1.41.59.51 0 1.02-.2 1.41-.59l7.78-7.78 2.81-2.81c.8-.78.8-2.07 0-2.86zM5.41 20L4 18.59l7.72-7.72 1.47 1.35L5.41 20z\"/>\n",
              "  </svg>\n",
              "      </button>\n",
              "\n",
              "\n",
              "\n",
              "    <div id=\"df-6f474fd0-72d5-41e8-aeb2-4dff7b599696\">\n",
              "      <button class=\"colab-df-quickchart\" onclick=\"quickchart('df-6f474fd0-72d5-41e8-aeb2-4dff7b599696')\"\n",
              "              title=\"Suggest charts.\"\n",
              "              style=\"display:none;\">\n",
              "\n",
              "<svg xmlns=\"http://www.w3.org/2000/svg\" height=\"24px\"viewBox=\"0 0 24 24\"\n",
              "     width=\"24px\">\n",
              "    <g>\n",
              "        <path d=\"M19 3H5c-1.1 0-2 .9-2 2v14c0 1.1.9 2 2 2h14c1.1 0 2-.9 2-2V5c0-1.1-.9-2-2-2zM9 17H7v-7h2v7zm4 0h-2V7h2v10zm4 0h-2v-4h2v4z\"/>\n",
              "    </g>\n",
              "</svg>\n",
              "      </button>\n",
              "    </div>\n",
              "\n",
              "<style>\n",
              "  .colab-df-quickchart {\n",
              "    background-color: #E8F0FE;\n",
              "    border: none;\n",
              "    border-radius: 50%;\n",
              "    cursor: pointer;\n",
              "    display: none;\n",
              "    fill: #1967D2;\n",
              "    height: 32px;\n",
              "    padding: 0 0 0 0;\n",
              "    width: 32px;\n",
              "  }\n",
              "\n",
              "  .colab-df-quickchart:hover {\n",
              "    background-color: #E2EBFA;\n",
              "    box-shadow: 0px 1px 2px rgba(60, 64, 67, 0.3), 0px 1px 3px 1px rgba(60, 64, 67, 0.15);\n",
              "    fill: #174EA6;\n",
              "  }\n",
              "\n",
              "  [theme=dark] .colab-df-quickchart {\n",
              "    background-color: #3B4455;\n",
              "    fill: #D2E3FC;\n",
              "  }\n",
              "\n",
              "  [theme=dark] .colab-df-quickchart:hover {\n",
              "    background-color: #434B5C;\n",
              "    box-shadow: 0px 1px 3px 1px rgba(0, 0, 0, 0.15);\n",
              "    filter: drop-shadow(0px 1px 2px rgba(0, 0, 0, 0.3));\n",
              "    fill: #FFFFFF;\n",
              "  }\n",
              "</style>\n",
              "\n",
              "    <script>\n",
              "      async function quickchart(key) {\n",
              "        const containerElement = document.querySelector('#' + key);\n",
              "        const charts = await google.colab.kernel.invokeFunction(\n",
              "            'suggestCharts', [key], {});\n",
              "      }\n",
              "    </script>\n",
              "\n",
              "      <script>\n",
              "\n",
              "function displayQuickchartButton(domScope) {\n",
              "  let quickchartButtonEl =\n",
              "    domScope.querySelector('#df-6f474fd0-72d5-41e8-aeb2-4dff7b599696 button.colab-df-quickchart');\n",
              "  quickchartButtonEl.style.display =\n",
              "    google.colab.kernel.accessAllowed ? 'block' : 'none';\n",
              "}\n",
              "\n",
              "        displayQuickchartButton(document);\n",
              "      </script>\n",
              "      <style>\n",
              "    .colab-df-container {\n",
              "      display:flex;\n",
              "      flex-wrap:wrap;\n",
              "      gap: 12px;\n",
              "    }\n",
              "\n",
              "    .colab-df-convert {\n",
              "      background-color: #E8F0FE;\n",
              "      border: none;\n",
              "      border-radius: 50%;\n",
              "      cursor: pointer;\n",
              "      display: none;\n",
              "      fill: #1967D2;\n",
              "      height: 32px;\n",
              "      padding: 0 0 0 0;\n",
              "      width: 32px;\n",
              "    }\n",
              "\n",
              "    .colab-df-convert:hover {\n",
              "      background-color: #E2EBFA;\n",
              "      box-shadow: 0px 1px 2px rgba(60, 64, 67, 0.3), 0px 1px 3px 1px rgba(60, 64, 67, 0.15);\n",
              "      fill: #174EA6;\n",
              "    }\n",
              "\n",
              "    [theme=dark] .colab-df-convert {\n",
              "      background-color: #3B4455;\n",
              "      fill: #D2E3FC;\n",
              "    }\n",
              "\n",
              "    [theme=dark] .colab-df-convert:hover {\n",
              "      background-color: #434B5C;\n",
              "      box-shadow: 0px 1px 3px 1px rgba(0, 0, 0, 0.15);\n",
              "      filter: drop-shadow(0px 1px 2px rgba(0, 0, 0, 0.3));\n",
              "      fill: #FFFFFF;\n",
              "    }\n",
              "  </style>\n",
              "\n",
              "      <script>\n",
              "        const buttonEl =\n",
              "          document.querySelector('#df-eb16efa8-fd94-4519-a6ab-55b2cc0c77a9 button.colab-df-convert');\n",
              "        buttonEl.style.display =\n",
              "          google.colab.kernel.accessAllowed ? 'block' : 'none';\n",
              "\n",
              "        async function convertToInteractive(key) {\n",
              "          const element = document.querySelector('#df-eb16efa8-fd94-4519-a6ab-55b2cc0c77a9');\n",
              "          const dataTable =\n",
              "            await google.colab.kernel.invokeFunction('convertToInteractive',\n",
              "                                                     [key], {});\n",
              "          if (!dataTable) return;\n",
              "\n",
              "          const docLinkHtml = 'Like what you see? Visit the ' +\n",
              "            '<a target=\"_blank\" href=https://colab.research.google.com/notebooks/data_table.ipynb>data table notebook</a>'\n",
              "            + ' to learn more about interactive tables.';\n",
              "          element.innerHTML = '';\n",
              "          dataTable['output_type'] = 'display_data';\n",
              "          await google.colab.output.renderOutput(dataTable, element);\n",
              "          const docLink = document.createElement('div');\n",
              "          docLink.innerHTML = docLinkHtml;\n",
              "          element.appendChild(docLink);\n",
              "        }\n",
              "      </script>\n",
              "    </div>\n",
              "  </div>\n"
            ]
          },
          "metadata": {},
          "execution_count": 9
        }
      ]
    },
    {
      "cell_type": "code",
      "source": [
        "df_cat['Cell_architecture'].value_counts()"
      ],
      "metadata": {
        "colab": {
          "base_uri": "https://localhost:8080/"
        },
        "id": "-n3IE5_vGRm-",
        "outputId": "18cdd8c9-46e3-4e22-85c8-40c1484bd283"
      },
      "execution_count": 10,
      "outputs": [
        {
          "output_type": "execute_result",
          "data": {
            "text/plain": [
              "nip    306\n",
              "pin    301\n",
              "Name: Cell_architecture, dtype: int64"
            ]
          },
          "metadata": {},
          "execution_count": 10
        }
      ]
    },
    {
      "cell_type": "code",
      "source": [
        "pd.get_dummies(df_cat['Cell_architecture'])"
      ],
      "metadata": {
        "colab": {
          "base_uri": "https://localhost:8080/",
          "height": 423
        },
        "id": "luAa5ljwGVhS",
        "outputId": "b6f01161-239b-43a3-82a2-ec1822f2fea1"
      },
      "execution_count": 11,
      "outputs": [
        {
          "output_type": "execute_result",
          "data": {
            "text/plain": [
              "     nip  pin\n",
              "0      1    0\n",
              "1      1    0\n",
              "2      1    0\n",
              "3      1    0\n",
              "4      0    1\n",
              "..   ...  ...\n",
              "602    0    1\n",
              "603    0    1\n",
              "604    0    1\n",
              "605    0    1\n",
              "606    0    1\n",
              "\n",
              "[607 rows x 2 columns]"
            ],
            "text/html": [
              "\n",
              "\n",
              "  <div id=\"df-d4d72bd1-d56b-437b-9a86-9ad6ce3ea9e9\">\n",
              "    <div class=\"colab-df-container\">\n",
              "      <div>\n",
              "<style scoped>\n",
              "    .dataframe tbody tr th:only-of-type {\n",
              "        vertical-align: middle;\n",
              "    }\n",
              "\n",
              "    .dataframe tbody tr th {\n",
              "        vertical-align: top;\n",
              "    }\n",
              "\n",
              "    .dataframe thead th {\n",
              "        text-align: right;\n",
              "    }\n",
              "</style>\n",
              "<table border=\"1\" class=\"dataframe\">\n",
              "  <thead>\n",
              "    <tr style=\"text-align: right;\">\n",
              "      <th></th>\n",
              "      <th>nip</th>\n",
              "      <th>pin</th>\n",
              "    </tr>\n",
              "  </thead>\n",
              "  <tbody>\n",
              "    <tr>\n",
              "      <th>0</th>\n",
              "      <td>1</td>\n",
              "      <td>0</td>\n",
              "    </tr>\n",
              "    <tr>\n",
              "      <th>1</th>\n",
              "      <td>1</td>\n",
              "      <td>0</td>\n",
              "    </tr>\n",
              "    <tr>\n",
              "      <th>2</th>\n",
              "      <td>1</td>\n",
              "      <td>0</td>\n",
              "    </tr>\n",
              "    <tr>\n",
              "      <th>3</th>\n",
              "      <td>1</td>\n",
              "      <td>0</td>\n",
              "    </tr>\n",
              "    <tr>\n",
              "      <th>4</th>\n",
              "      <td>0</td>\n",
              "      <td>1</td>\n",
              "    </tr>\n",
              "    <tr>\n",
              "      <th>...</th>\n",
              "      <td>...</td>\n",
              "      <td>...</td>\n",
              "    </tr>\n",
              "    <tr>\n",
              "      <th>602</th>\n",
              "      <td>0</td>\n",
              "      <td>1</td>\n",
              "    </tr>\n",
              "    <tr>\n",
              "      <th>603</th>\n",
              "      <td>0</td>\n",
              "      <td>1</td>\n",
              "    </tr>\n",
              "    <tr>\n",
              "      <th>604</th>\n",
              "      <td>0</td>\n",
              "      <td>1</td>\n",
              "    </tr>\n",
              "    <tr>\n",
              "      <th>605</th>\n",
              "      <td>0</td>\n",
              "      <td>1</td>\n",
              "    </tr>\n",
              "    <tr>\n",
              "      <th>606</th>\n",
              "      <td>0</td>\n",
              "      <td>1</td>\n",
              "    </tr>\n",
              "  </tbody>\n",
              "</table>\n",
              "<p>607 rows × 2 columns</p>\n",
              "</div>\n",
              "      <button class=\"colab-df-convert\" onclick=\"convertToInteractive('df-d4d72bd1-d56b-437b-9a86-9ad6ce3ea9e9')\"\n",
              "              title=\"Convert this dataframe to an interactive table.\"\n",
              "              style=\"display:none;\">\n",
              "\n",
              "  <svg xmlns=\"http://www.w3.org/2000/svg\" height=\"24px\"viewBox=\"0 0 24 24\"\n",
              "       width=\"24px\">\n",
              "    <path d=\"M0 0h24v24H0V0z\" fill=\"none\"/>\n",
              "    <path d=\"M18.56 5.44l.94 2.06.94-2.06 2.06-.94-2.06-.94-.94-2.06-.94 2.06-2.06.94zm-11 1L8.5 8.5l.94-2.06 2.06-.94-2.06-.94L8.5 2.5l-.94 2.06-2.06.94zm10 10l.94 2.06.94-2.06 2.06-.94-2.06-.94-.94-2.06-.94 2.06-2.06.94z\"/><path d=\"M17.41 7.96l-1.37-1.37c-.4-.4-.92-.59-1.43-.59-.52 0-1.04.2-1.43.59L10.3 9.45l-7.72 7.72c-.78.78-.78 2.05 0 2.83L4 21.41c.39.39.9.59 1.41.59.51 0 1.02-.2 1.41-.59l7.78-7.78 2.81-2.81c.8-.78.8-2.07 0-2.86zM5.41 20L4 18.59l7.72-7.72 1.47 1.35L5.41 20z\"/>\n",
              "  </svg>\n",
              "      </button>\n",
              "\n",
              "\n",
              "\n",
              "    <div id=\"df-8a31cfa1-48c4-4619-93cf-cab562a6ee20\">\n",
              "      <button class=\"colab-df-quickchart\" onclick=\"quickchart('df-8a31cfa1-48c4-4619-93cf-cab562a6ee20')\"\n",
              "              title=\"Suggest charts.\"\n",
              "              style=\"display:none;\">\n",
              "\n",
              "<svg xmlns=\"http://www.w3.org/2000/svg\" height=\"24px\"viewBox=\"0 0 24 24\"\n",
              "     width=\"24px\">\n",
              "    <g>\n",
              "        <path d=\"M19 3H5c-1.1 0-2 .9-2 2v14c0 1.1.9 2 2 2h14c1.1 0 2-.9 2-2V5c0-1.1-.9-2-2-2zM9 17H7v-7h2v7zm4 0h-2V7h2v10zm4 0h-2v-4h2v4z\"/>\n",
              "    </g>\n",
              "</svg>\n",
              "      </button>\n",
              "    </div>\n",
              "\n",
              "<style>\n",
              "  .colab-df-quickchart {\n",
              "    background-color: #E8F0FE;\n",
              "    border: none;\n",
              "    border-radius: 50%;\n",
              "    cursor: pointer;\n",
              "    display: none;\n",
              "    fill: #1967D2;\n",
              "    height: 32px;\n",
              "    padding: 0 0 0 0;\n",
              "    width: 32px;\n",
              "  }\n",
              "\n",
              "  .colab-df-quickchart:hover {\n",
              "    background-color: #E2EBFA;\n",
              "    box-shadow: 0px 1px 2px rgba(60, 64, 67, 0.3), 0px 1px 3px 1px rgba(60, 64, 67, 0.15);\n",
              "    fill: #174EA6;\n",
              "  }\n",
              "\n",
              "  [theme=dark] .colab-df-quickchart {\n",
              "    background-color: #3B4455;\n",
              "    fill: #D2E3FC;\n",
              "  }\n",
              "\n",
              "  [theme=dark] .colab-df-quickchart:hover {\n",
              "    background-color: #434B5C;\n",
              "    box-shadow: 0px 1px 3px 1px rgba(0, 0, 0, 0.15);\n",
              "    filter: drop-shadow(0px 1px 2px rgba(0, 0, 0, 0.3));\n",
              "    fill: #FFFFFF;\n",
              "  }\n",
              "</style>\n",
              "\n",
              "    <script>\n",
              "      async function quickchart(key) {\n",
              "        const containerElement = document.querySelector('#' + key);\n",
              "        const charts = await google.colab.kernel.invokeFunction(\n",
              "            'suggestCharts', [key], {});\n",
              "      }\n",
              "    </script>\n",
              "\n",
              "      <script>\n",
              "\n",
              "function displayQuickchartButton(domScope) {\n",
              "  let quickchartButtonEl =\n",
              "    domScope.querySelector('#df-8a31cfa1-48c4-4619-93cf-cab562a6ee20 button.colab-df-quickchart');\n",
              "  quickchartButtonEl.style.display =\n",
              "    google.colab.kernel.accessAllowed ? 'block' : 'none';\n",
              "}\n",
              "\n",
              "        displayQuickchartButton(document);\n",
              "      </script>\n",
              "      <style>\n",
              "    .colab-df-container {\n",
              "      display:flex;\n",
              "      flex-wrap:wrap;\n",
              "      gap: 12px;\n",
              "    }\n",
              "\n",
              "    .colab-df-convert {\n",
              "      background-color: #E8F0FE;\n",
              "      border: none;\n",
              "      border-radius: 50%;\n",
              "      cursor: pointer;\n",
              "      display: none;\n",
              "      fill: #1967D2;\n",
              "      height: 32px;\n",
              "      padding: 0 0 0 0;\n",
              "      width: 32px;\n",
              "    }\n",
              "\n",
              "    .colab-df-convert:hover {\n",
              "      background-color: #E2EBFA;\n",
              "      box-shadow: 0px 1px 2px rgba(60, 64, 67, 0.3), 0px 1px 3px 1px rgba(60, 64, 67, 0.15);\n",
              "      fill: #174EA6;\n",
              "    }\n",
              "\n",
              "    [theme=dark] .colab-df-convert {\n",
              "      background-color: #3B4455;\n",
              "      fill: #D2E3FC;\n",
              "    }\n",
              "\n",
              "    [theme=dark] .colab-df-convert:hover {\n",
              "      background-color: #434B5C;\n",
              "      box-shadow: 0px 1px 3px 1px rgba(0, 0, 0, 0.15);\n",
              "      filter: drop-shadow(0px 1px 2px rgba(0, 0, 0, 0.3));\n",
              "      fill: #FFFFFF;\n",
              "    }\n",
              "  </style>\n",
              "\n",
              "      <script>\n",
              "        const buttonEl =\n",
              "          document.querySelector('#df-d4d72bd1-d56b-437b-9a86-9ad6ce3ea9e9 button.colab-df-convert');\n",
              "        buttonEl.style.display =\n",
              "          google.colab.kernel.accessAllowed ? 'block' : 'none';\n",
              "\n",
              "        async function convertToInteractive(key) {\n",
              "          const element = document.querySelector('#df-d4d72bd1-d56b-437b-9a86-9ad6ce3ea9e9');\n",
              "          const dataTable =\n",
              "            await google.colab.kernel.invokeFunction('convertToInteractive',\n",
              "                                                     [key], {});\n",
              "          if (!dataTable) return;\n",
              "\n",
              "          const docLinkHtml = 'Like what you see? Visit the ' +\n",
              "            '<a target=\"_blank\" href=https://colab.research.google.com/notebooks/data_table.ipynb>data table notebook</a>'\n",
              "            + ' to learn more about interactive tables.';\n",
              "          element.innerHTML = '';\n",
              "          dataTable['output_type'] = 'display_data';\n",
              "          await google.colab.output.renderOutput(dataTable, element);\n",
              "          const docLink = document.createElement('div');\n",
              "          docLink.innerHTML = docLinkHtml;\n",
              "          element.appendChild(docLink);\n",
              "        }\n",
              "      </script>\n",
              "    </div>\n",
              "  </div>\n"
            ]
          },
          "metadata": {},
          "execution_count": 11
        }
      ]
    },
    {
      "cell_type": "code",
      "source": [
        "from sklearn.preprocessing import LabelEncoder"
      ],
      "metadata": {
        "id": "Y0_ED0jnGXyH"
      },
      "execution_count": 12,
      "outputs": []
    },
    {
      "cell_type": "code",
      "source": [
        "le=LabelEncoder()"
      ],
      "metadata": {
        "id": "wW_Ff5zpGcMM"
      },
      "execution_count": 13,
      "outputs": []
    },
    {
      "cell_type": "code",
      "source": [
        "df_cat['Cell_architecture']=le.fit_transform(df_cat['Cell_architecture'])\n",
        "df_cat['Cell_architecture'].value_counts()\n",
        "#2=pin\n",
        "#1=nip\n",
        "#0=Back contacted"
      ],
      "metadata": {
        "id": "IK6wjtdaGeL9",
        "colab": {
          "base_uri": "https://localhost:8080/"
        },
        "outputId": "37d12d7f-1d47-4f7c-858f-acd07bfc775e"
      },
      "execution_count": 14,
      "outputs": [
        {
          "output_type": "execute_result",
          "data": {
            "text/plain": [
              "0    306\n",
              "1    301\n",
              "Name: Cell_architecture, dtype: int64"
            ]
          },
          "metadata": {},
          "execution_count": 14
        }
      ]
    },
    {
      "cell_type": "code",
      "source": [
        "pd.get_dummies(df_cat['Substrate_stack_sequence'])"
      ],
      "metadata": {
        "colab": {
          "base_uri": "https://localhost:8080/",
          "height": 423
        },
        "id": "RTy0rKPBOe7f",
        "outputId": "b263e2e9-9b24-482c-fa63-ec499133dda0"
      },
      "execution_count": 15,
      "outputs": [
        {
          "output_type": "execute_result",
          "data": {
            "text/plain": [
              "     A  B  C  D  E  F  G  H\n",
              "0    0  0  0  0  1  0  0  0\n",
              "1    1  0  0  0  0  0  0  0\n",
              "2    1  0  0  0  0  0  0  0\n",
              "3    0  0  0  0  1  0  0  0\n",
              "4    0  0  0  0  0  1  0  0\n",
              "..  .. .. .. .. .. .. .. ..\n",
              "602  0  0  0  0  0  0  0  1\n",
              "603  1  0  0  0  0  0  0  0\n",
              "604  1  0  0  0  0  0  0  0\n",
              "605  1  0  0  0  0  0  0  0\n",
              "606  1  0  0  0  0  0  0  0\n",
              "\n",
              "[607 rows x 8 columns]"
            ],
            "text/html": [
              "\n",
              "\n",
              "  <div id=\"df-d28d85c8-3b54-401a-be57-5bc6616a132c\">\n",
              "    <div class=\"colab-df-container\">\n",
              "      <div>\n",
              "<style scoped>\n",
              "    .dataframe tbody tr th:only-of-type {\n",
              "        vertical-align: middle;\n",
              "    }\n",
              "\n",
              "    .dataframe tbody tr th {\n",
              "        vertical-align: top;\n",
              "    }\n",
              "\n",
              "    .dataframe thead th {\n",
              "        text-align: right;\n",
              "    }\n",
              "</style>\n",
              "<table border=\"1\" class=\"dataframe\">\n",
              "  <thead>\n",
              "    <tr style=\"text-align: right;\">\n",
              "      <th></th>\n",
              "      <th>A</th>\n",
              "      <th>B</th>\n",
              "      <th>C</th>\n",
              "      <th>D</th>\n",
              "      <th>E</th>\n",
              "      <th>F</th>\n",
              "      <th>G</th>\n",
              "      <th>H</th>\n",
              "    </tr>\n",
              "  </thead>\n",
              "  <tbody>\n",
              "    <tr>\n",
              "      <th>0</th>\n",
              "      <td>0</td>\n",
              "      <td>0</td>\n",
              "      <td>0</td>\n",
              "      <td>0</td>\n",
              "      <td>1</td>\n",
              "      <td>0</td>\n",
              "      <td>0</td>\n",
              "      <td>0</td>\n",
              "    </tr>\n",
              "    <tr>\n",
              "      <th>1</th>\n",
              "      <td>1</td>\n",
              "      <td>0</td>\n",
              "      <td>0</td>\n",
              "      <td>0</td>\n",
              "      <td>0</td>\n",
              "      <td>0</td>\n",
              "      <td>0</td>\n",
              "      <td>0</td>\n",
              "    </tr>\n",
              "    <tr>\n",
              "      <th>2</th>\n",
              "      <td>1</td>\n",
              "      <td>0</td>\n",
              "      <td>0</td>\n",
              "      <td>0</td>\n",
              "      <td>0</td>\n",
              "      <td>0</td>\n",
              "      <td>0</td>\n",
              "      <td>0</td>\n",
              "    </tr>\n",
              "    <tr>\n",
              "      <th>3</th>\n",
              "      <td>0</td>\n",
              "      <td>0</td>\n",
              "      <td>0</td>\n",
              "      <td>0</td>\n",
              "      <td>1</td>\n",
              "      <td>0</td>\n",
              "      <td>0</td>\n",
              "      <td>0</td>\n",
              "    </tr>\n",
              "    <tr>\n",
              "      <th>4</th>\n",
              "      <td>0</td>\n",
              "      <td>0</td>\n",
              "      <td>0</td>\n",
              "      <td>0</td>\n",
              "      <td>0</td>\n",
              "      <td>1</td>\n",
              "      <td>0</td>\n",
              "      <td>0</td>\n",
              "    </tr>\n",
              "    <tr>\n",
              "      <th>...</th>\n",
              "      <td>...</td>\n",
              "      <td>...</td>\n",
              "      <td>...</td>\n",
              "      <td>...</td>\n",
              "      <td>...</td>\n",
              "      <td>...</td>\n",
              "      <td>...</td>\n",
              "      <td>...</td>\n",
              "    </tr>\n",
              "    <tr>\n",
              "      <th>602</th>\n",
              "      <td>0</td>\n",
              "      <td>0</td>\n",
              "      <td>0</td>\n",
              "      <td>0</td>\n",
              "      <td>0</td>\n",
              "      <td>0</td>\n",
              "      <td>0</td>\n",
              "      <td>1</td>\n",
              "    </tr>\n",
              "    <tr>\n",
              "      <th>603</th>\n",
              "      <td>1</td>\n",
              "      <td>0</td>\n",
              "      <td>0</td>\n",
              "      <td>0</td>\n",
              "      <td>0</td>\n",
              "      <td>0</td>\n",
              "      <td>0</td>\n",
              "      <td>0</td>\n",
              "    </tr>\n",
              "    <tr>\n",
              "      <th>604</th>\n",
              "      <td>1</td>\n",
              "      <td>0</td>\n",
              "      <td>0</td>\n",
              "      <td>0</td>\n",
              "      <td>0</td>\n",
              "      <td>0</td>\n",
              "      <td>0</td>\n",
              "      <td>0</td>\n",
              "    </tr>\n",
              "    <tr>\n",
              "      <th>605</th>\n",
              "      <td>1</td>\n",
              "      <td>0</td>\n",
              "      <td>0</td>\n",
              "      <td>0</td>\n",
              "      <td>0</td>\n",
              "      <td>0</td>\n",
              "      <td>0</td>\n",
              "      <td>0</td>\n",
              "    </tr>\n",
              "    <tr>\n",
              "      <th>606</th>\n",
              "      <td>1</td>\n",
              "      <td>0</td>\n",
              "      <td>0</td>\n",
              "      <td>0</td>\n",
              "      <td>0</td>\n",
              "      <td>0</td>\n",
              "      <td>0</td>\n",
              "      <td>0</td>\n",
              "    </tr>\n",
              "  </tbody>\n",
              "</table>\n",
              "<p>607 rows × 8 columns</p>\n",
              "</div>\n",
              "      <button class=\"colab-df-convert\" onclick=\"convertToInteractive('df-d28d85c8-3b54-401a-be57-5bc6616a132c')\"\n",
              "              title=\"Convert this dataframe to an interactive table.\"\n",
              "              style=\"display:none;\">\n",
              "\n",
              "  <svg xmlns=\"http://www.w3.org/2000/svg\" height=\"24px\"viewBox=\"0 0 24 24\"\n",
              "       width=\"24px\">\n",
              "    <path d=\"M0 0h24v24H0V0z\" fill=\"none\"/>\n",
              "    <path d=\"M18.56 5.44l.94 2.06.94-2.06 2.06-.94-2.06-.94-.94-2.06-.94 2.06-2.06.94zm-11 1L8.5 8.5l.94-2.06 2.06-.94-2.06-.94L8.5 2.5l-.94 2.06-2.06.94zm10 10l.94 2.06.94-2.06 2.06-.94-2.06-.94-.94-2.06-.94 2.06-2.06.94z\"/><path d=\"M17.41 7.96l-1.37-1.37c-.4-.4-.92-.59-1.43-.59-.52 0-1.04.2-1.43.59L10.3 9.45l-7.72 7.72c-.78.78-.78 2.05 0 2.83L4 21.41c.39.39.9.59 1.41.59.51 0 1.02-.2 1.41-.59l7.78-7.78 2.81-2.81c.8-.78.8-2.07 0-2.86zM5.41 20L4 18.59l7.72-7.72 1.47 1.35L5.41 20z\"/>\n",
              "  </svg>\n",
              "      </button>\n",
              "\n",
              "\n",
              "\n",
              "    <div id=\"df-7acd053a-a4e2-4276-b611-312976d74896\">\n",
              "      <button class=\"colab-df-quickchart\" onclick=\"quickchart('df-7acd053a-a4e2-4276-b611-312976d74896')\"\n",
              "              title=\"Suggest charts.\"\n",
              "              style=\"display:none;\">\n",
              "\n",
              "<svg xmlns=\"http://www.w3.org/2000/svg\" height=\"24px\"viewBox=\"0 0 24 24\"\n",
              "     width=\"24px\">\n",
              "    <g>\n",
              "        <path d=\"M19 3H5c-1.1 0-2 .9-2 2v14c0 1.1.9 2 2 2h14c1.1 0 2-.9 2-2V5c0-1.1-.9-2-2-2zM9 17H7v-7h2v7zm4 0h-2V7h2v10zm4 0h-2v-4h2v4z\"/>\n",
              "    </g>\n",
              "</svg>\n",
              "      </button>\n",
              "    </div>\n",
              "\n",
              "<style>\n",
              "  .colab-df-quickchart {\n",
              "    background-color: #E8F0FE;\n",
              "    border: none;\n",
              "    border-radius: 50%;\n",
              "    cursor: pointer;\n",
              "    display: none;\n",
              "    fill: #1967D2;\n",
              "    height: 32px;\n",
              "    padding: 0 0 0 0;\n",
              "    width: 32px;\n",
              "  }\n",
              "\n",
              "  .colab-df-quickchart:hover {\n",
              "    background-color: #E2EBFA;\n",
              "    box-shadow: 0px 1px 2px rgba(60, 64, 67, 0.3), 0px 1px 3px 1px rgba(60, 64, 67, 0.15);\n",
              "    fill: #174EA6;\n",
              "  }\n",
              "\n",
              "  [theme=dark] .colab-df-quickchart {\n",
              "    background-color: #3B4455;\n",
              "    fill: #D2E3FC;\n",
              "  }\n",
              "\n",
              "  [theme=dark] .colab-df-quickchart:hover {\n",
              "    background-color: #434B5C;\n",
              "    box-shadow: 0px 1px 3px 1px rgba(0, 0, 0, 0.15);\n",
              "    filter: drop-shadow(0px 1px 2px rgba(0, 0, 0, 0.3));\n",
              "    fill: #FFFFFF;\n",
              "  }\n",
              "</style>\n",
              "\n",
              "    <script>\n",
              "      async function quickchart(key) {\n",
              "        const containerElement = document.querySelector('#' + key);\n",
              "        const charts = await google.colab.kernel.invokeFunction(\n",
              "            'suggestCharts', [key], {});\n",
              "      }\n",
              "    </script>\n",
              "\n",
              "      <script>\n",
              "\n",
              "function displayQuickchartButton(domScope) {\n",
              "  let quickchartButtonEl =\n",
              "    domScope.querySelector('#df-7acd053a-a4e2-4276-b611-312976d74896 button.colab-df-quickchart');\n",
              "  quickchartButtonEl.style.display =\n",
              "    google.colab.kernel.accessAllowed ? 'block' : 'none';\n",
              "}\n",
              "\n",
              "        displayQuickchartButton(document);\n",
              "      </script>\n",
              "      <style>\n",
              "    .colab-df-container {\n",
              "      display:flex;\n",
              "      flex-wrap:wrap;\n",
              "      gap: 12px;\n",
              "    }\n",
              "\n",
              "    .colab-df-convert {\n",
              "      background-color: #E8F0FE;\n",
              "      border: none;\n",
              "      border-radius: 50%;\n",
              "      cursor: pointer;\n",
              "      display: none;\n",
              "      fill: #1967D2;\n",
              "      height: 32px;\n",
              "      padding: 0 0 0 0;\n",
              "      width: 32px;\n",
              "    }\n",
              "\n",
              "    .colab-df-convert:hover {\n",
              "      background-color: #E2EBFA;\n",
              "      box-shadow: 0px 1px 2px rgba(60, 64, 67, 0.3), 0px 1px 3px 1px rgba(60, 64, 67, 0.15);\n",
              "      fill: #174EA6;\n",
              "    }\n",
              "\n",
              "    [theme=dark] .colab-df-convert {\n",
              "      background-color: #3B4455;\n",
              "      fill: #D2E3FC;\n",
              "    }\n",
              "\n",
              "    [theme=dark] .colab-df-convert:hover {\n",
              "      background-color: #434B5C;\n",
              "      box-shadow: 0px 1px 3px 1px rgba(0, 0, 0, 0.15);\n",
              "      filter: drop-shadow(0px 1px 2px rgba(0, 0, 0, 0.3));\n",
              "      fill: #FFFFFF;\n",
              "    }\n",
              "  </style>\n",
              "\n",
              "      <script>\n",
              "        const buttonEl =\n",
              "          document.querySelector('#df-d28d85c8-3b54-401a-be57-5bc6616a132c button.colab-df-convert');\n",
              "        buttonEl.style.display =\n",
              "          google.colab.kernel.accessAllowed ? 'block' : 'none';\n",
              "\n",
              "        async function convertToInteractive(key) {\n",
              "          const element = document.querySelector('#df-d28d85c8-3b54-401a-be57-5bc6616a132c');\n",
              "          const dataTable =\n",
              "            await google.colab.kernel.invokeFunction('convertToInteractive',\n",
              "                                                     [key], {});\n",
              "          if (!dataTable) return;\n",
              "\n",
              "          const docLinkHtml = 'Like what you see? Visit the ' +\n",
              "            '<a target=\"_blank\" href=https://colab.research.google.com/notebooks/data_table.ipynb>data table notebook</a>'\n",
              "            + ' to learn more about interactive tables.';\n",
              "          element.innerHTML = '';\n",
              "          dataTable['output_type'] = 'display_data';\n",
              "          await google.colab.output.renderOutput(dataTable, element);\n",
              "          const docLink = document.createElement('div');\n",
              "          docLink.innerHTML = docLinkHtml;\n",
              "          element.appendChild(docLink);\n",
              "        }\n",
              "      </script>\n",
              "    </div>\n",
              "  </div>\n"
            ]
          },
          "metadata": {},
          "execution_count": 15
        }
      ]
    },
    {
      "cell_type": "code",
      "source": [
        "df_cat['Substrate_stack_sequence']=le.fit_transform(df_cat['Substrate_stack_sequence'])\n",
        "df_cat['Substrate_stack_sequence'].value_counts()"
      ],
      "metadata": {
        "colab": {
          "base_uri": "https://localhost:8080/"
        },
        "id": "O3ulMDJqN2pF",
        "outputId": "60acfcd4-b1fe-4a86-907b-67e6d575b2eb"
      },
      "execution_count": 16,
      "outputs": [
        {
          "output_type": "execute_result",
          "data": {
            "text/plain": [
              "0    234\n",
              "7    146\n",
              "4    142\n",
              "2     47\n",
              "1     12\n",
              "5     10\n",
              "3      9\n",
              "6      7\n",
              "Name: Substrate_stack_sequence, dtype: int64"
            ]
          },
          "metadata": {},
          "execution_count": 16
        }
      ]
    },
    {
      "cell_type": "code",
      "source": [
        "# from sklearn.preprocessing import OneHotEncoder\n",
        "# encoder = OneHotEncoder(sparse=False)\n",
        "# df_cat['class']= encoder.fit_transform(df_cat['class'].values.reshape(-1,1))\n",
        "# df_cat['class']"
      ],
      "metadata": {
        "id": "vaJpGJx8Gg-B"
      },
      "execution_count": 17,
      "outputs": []
    },
    {
      "cell_type": "code",
      "source": [
        "df = pd.concat([pd.DataFrame(df_num),(df_cat)], axis=1)\n",
        "df\n"
      ],
      "metadata": {
        "colab": {
          "base_uri": "https://localhost:8080/",
          "height": 423
        },
        "id": "IrafwZzRGjwy",
        "outputId": "91aa3643-9050-4b91-cab5-4f4f3146bfa5"
      },
      "execution_count": 18,
      "outputs": [
        {
          "output_type": "execute_result",
          "data": {
            "text/plain": [
              "     ?H(DOI)  ?L(DOI)  Cell_area_measured  Perovskite_band_gap   Voc    Jsc  \\\n",
              "0       0.06     0.06              0.1000                 1.60  1.01  21.15   \n",
              "1       0.20     0.80              0.0756                 1.60  0.97  20.00   \n",
              "2       0.30     0.53              0.0960                 1.53  1.10  19.30   \n",
              "3       0.20     0.70              0.0400                 1.53  1.08  20.06   \n",
              "4       0.40     0.33              1.2100                 1.53  1.00  21.46   \n",
              "..       ...      ...                 ...                  ...   ...    ...   \n",
              "602     0.40     0.33              0.0177                 1.53  0.96  20.10   \n",
              "603     0.20     0.60              0.1000                 1.50  1.01  19.80   \n",
              "604     0.40     0.33              0.1000                 1.50  0.83  14.70   \n",
              "605     0.40     0.33              0.1000                 1.53  0.96  16.73   \n",
              "606     0.40     0.33              0.1000                 1.53  0.98  16.85   \n",
              "\n",
              "         FF    PCE  Cell_architecture  Substrate_stack_sequence  \n",
              "0    0.5700  12.18                  0                         4  \n",
              "1    0.6900  13.30                  0                         0  \n",
              "2    0.7900  16.80                  0                         0  \n",
              "3    0.6725  13.03                  0                         4  \n",
              "4    0.7550  16.16                  1                         5  \n",
              "..      ...    ...                ...                       ...  \n",
              "602  0.8300  16.00                  1                         7  \n",
              "603  0.7700  15.59                  1                         0  \n",
              "604  0.6100   7.62                  1                         0  \n",
              "605  0.6500  10.71                  1                         0  \n",
              "606  0.7300  11.32                  1                         0  \n",
              "\n",
              "[607 rows x 10 columns]"
            ],
            "text/html": [
              "\n",
              "\n",
              "  <div id=\"df-b8e795a3-143e-461c-80fd-b085d8f4cd88\">\n",
              "    <div class=\"colab-df-container\">\n",
              "      <div>\n",
              "<style scoped>\n",
              "    .dataframe tbody tr th:only-of-type {\n",
              "        vertical-align: middle;\n",
              "    }\n",
              "\n",
              "    .dataframe tbody tr th {\n",
              "        vertical-align: top;\n",
              "    }\n",
              "\n",
              "    .dataframe thead th {\n",
              "        text-align: right;\n",
              "    }\n",
              "</style>\n",
              "<table border=\"1\" class=\"dataframe\">\n",
              "  <thead>\n",
              "    <tr style=\"text-align: right;\">\n",
              "      <th></th>\n",
              "      <th>?H(DOI)</th>\n",
              "      <th>?L(DOI)</th>\n",
              "      <th>Cell_area_measured</th>\n",
              "      <th>Perovskite_band_gap</th>\n",
              "      <th>Voc</th>\n",
              "      <th>Jsc</th>\n",
              "      <th>FF</th>\n",
              "      <th>PCE</th>\n",
              "      <th>Cell_architecture</th>\n",
              "      <th>Substrate_stack_sequence</th>\n",
              "    </tr>\n",
              "  </thead>\n",
              "  <tbody>\n",
              "    <tr>\n",
              "      <th>0</th>\n",
              "      <td>0.06</td>\n",
              "      <td>0.06</td>\n",
              "      <td>0.1000</td>\n",
              "      <td>1.60</td>\n",
              "      <td>1.01</td>\n",
              "      <td>21.15</td>\n",
              "      <td>0.5700</td>\n",
              "      <td>12.18</td>\n",
              "      <td>0</td>\n",
              "      <td>4</td>\n",
              "    </tr>\n",
              "    <tr>\n",
              "      <th>1</th>\n",
              "      <td>0.20</td>\n",
              "      <td>0.80</td>\n",
              "      <td>0.0756</td>\n",
              "      <td>1.60</td>\n",
              "      <td>0.97</td>\n",
              "      <td>20.00</td>\n",
              "      <td>0.6900</td>\n",
              "      <td>13.30</td>\n",
              "      <td>0</td>\n",
              "      <td>0</td>\n",
              "    </tr>\n",
              "    <tr>\n",
              "      <th>2</th>\n",
              "      <td>0.30</td>\n",
              "      <td>0.53</td>\n",
              "      <td>0.0960</td>\n",
              "      <td>1.53</td>\n",
              "      <td>1.10</td>\n",
              "      <td>19.30</td>\n",
              "      <td>0.7900</td>\n",
              "      <td>16.80</td>\n",
              "      <td>0</td>\n",
              "      <td>0</td>\n",
              "    </tr>\n",
              "    <tr>\n",
              "      <th>3</th>\n",
              "      <td>0.20</td>\n",
              "      <td>0.70</td>\n",
              "      <td>0.0400</td>\n",
              "      <td>1.53</td>\n",
              "      <td>1.08</td>\n",
              "      <td>20.06</td>\n",
              "      <td>0.6725</td>\n",
              "      <td>13.03</td>\n",
              "      <td>0</td>\n",
              "      <td>4</td>\n",
              "    </tr>\n",
              "    <tr>\n",
              "      <th>4</th>\n",
              "      <td>0.40</td>\n",
              "      <td>0.33</td>\n",
              "      <td>1.2100</td>\n",
              "      <td>1.53</td>\n",
              "      <td>1.00</td>\n",
              "      <td>21.46</td>\n",
              "      <td>0.7550</td>\n",
              "      <td>16.16</td>\n",
              "      <td>1</td>\n",
              "      <td>5</td>\n",
              "    </tr>\n",
              "    <tr>\n",
              "      <th>...</th>\n",
              "      <td>...</td>\n",
              "      <td>...</td>\n",
              "      <td>...</td>\n",
              "      <td>...</td>\n",
              "      <td>...</td>\n",
              "      <td>...</td>\n",
              "      <td>...</td>\n",
              "      <td>...</td>\n",
              "      <td>...</td>\n",
              "      <td>...</td>\n",
              "    </tr>\n",
              "    <tr>\n",
              "      <th>602</th>\n",
              "      <td>0.40</td>\n",
              "      <td>0.33</td>\n",
              "      <td>0.0177</td>\n",
              "      <td>1.53</td>\n",
              "      <td>0.96</td>\n",
              "      <td>20.10</td>\n",
              "      <td>0.8300</td>\n",
              "      <td>16.00</td>\n",
              "      <td>1</td>\n",
              "      <td>7</td>\n",
              "    </tr>\n",
              "    <tr>\n",
              "      <th>603</th>\n",
              "      <td>0.20</td>\n",
              "      <td>0.60</td>\n",
              "      <td>0.1000</td>\n",
              "      <td>1.50</td>\n",
              "      <td>1.01</td>\n",
              "      <td>19.80</td>\n",
              "      <td>0.7700</td>\n",
              "      <td>15.59</td>\n",
              "      <td>1</td>\n",
              "      <td>0</td>\n",
              "    </tr>\n",
              "    <tr>\n",
              "      <th>604</th>\n",
              "      <td>0.40</td>\n",
              "      <td>0.33</td>\n",
              "      <td>0.1000</td>\n",
              "      <td>1.50</td>\n",
              "      <td>0.83</td>\n",
              "      <td>14.70</td>\n",
              "      <td>0.6100</td>\n",
              "      <td>7.62</td>\n",
              "      <td>1</td>\n",
              "      <td>0</td>\n",
              "    </tr>\n",
              "    <tr>\n",
              "      <th>605</th>\n",
              "      <td>0.40</td>\n",
              "      <td>0.33</td>\n",
              "      <td>0.1000</td>\n",
              "      <td>1.53</td>\n",
              "      <td>0.96</td>\n",
              "      <td>16.73</td>\n",
              "      <td>0.6500</td>\n",
              "      <td>10.71</td>\n",
              "      <td>1</td>\n",
              "      <td>0</td>\n",
              "    </tr>\n",
              "    <tr>\n",
              "      <th>606</th>\n",
              "      <td>0.40</td>\n",
              "      <td>0.33</td>\n",
              "      <td>0.1000</td>\n",
              "      <td>1.53</td>\n",
              "      <td>0.98</td>\n",
              "      <td>16.85</td>\n",
              "      <td>0.7300</td>\n",
              "      <td>11.32</td>\n",
              "      <td>1</td>\n",
              "      <td>0</td>\n",
              "    </tr>\n",
              "  </tbody>\n",
              "</table>\n",
              "<p>607 rows × 10 columns</p>\n",
              "</div>\n",
              "      <button class=\"colab-df-convert\" onclick=\"convertToInteractive('df-b8e795a3-143e-461c-80fd-b085d8f4cd88')\"\n",
              "              title=\"Convert this dataframe to an interactive table.\"\n",
              "              style=\"display:none;\">\n",
              "\n",
              "  <svg xmlns=\"http://www.w3.org/2000/svg\" height=\"24px\"viewBox=\"0 0 24 24\"\n",
              "       width=\"24px\">\n",
              "    <path d=\"M0 0h24v24H0V0z\" fill=\"none\"/>\n",
              "    <path d=\"M18.56 5.44l.94 2.06.94-2.06 2.06-.94-2.06-.94-.94-2.06-.94 2.06-2.06.94zm-11 1L8.5 8.5l.94-2.06 2.06-.94-2.06-.94L8.5 2.5l-.94 2.06-2.06.94zm10 10l.94 2.06.94-2.06 2.06-.94-2.06-.94-.94-2.06-.94 2.06-2.06.94z\"/><path d=\"M17.41 7.96l-1.37-1.37c-.4-.4-.92-.59-1.43-.59-.52 0-1.04.2-1.43.59L10.3 9.45l-7.72 7.72c-.78.78-.78 2.05 0 2.83L4 21.41c.39.39.9.59 1.41.59.51 0 1.02-.2 1.41-.59l7.78-7.78 2.81-2.81c.8-.78.8-2.07 0-2.86zM5.41 20L4 18.59l7.72-7.72 1.47 1.35L5.41 20z\"/>\n",
              "  </svg>\n",
              "      </button>\n",
              "\n",
              "\n",
              "\n",
              "    <div id=\"df-5fb2296d-eeb6-46ec-87be-958141ca2ecd\">\n",
              "      <button class=\"colab-df-quickchart\" onclick=\"quickchart('df-5fb2296d-eeb6-46ec-87be-958141ca2ecd')\"\n",
              "              title=\"Suggest charts.\"\n",
              "              style=\"display:none;\">\n",
              "\n",
              "<svg xmlns=\"http://www.w3.org/2000/svg\" height=\"24px\"viewBox=\"0 0 24 24\"\n",
              "     width=\"24px\">\n",
              "    <g>\n",
              "        <path d=\"M19 3H5c-1.1 0-2 .9-2 2v14c0 1.1.9 2 2 2h14c1.1 0 2-.9 2-2V5c0-1.1-.9-2-2-2zM9 17H7v-7h2v7zm4 0h-2V7h2v10zm4 0h-2v-4h2v4z\"/>\n",
              "    </g>\n",
              "</svg>\n",
              "      </button>\n",
              "    </div>\n",
              "\n",
              "<style>\n",
              "  .colab-df-quickchart {\n",
              "    background-color: #E8F0FE;\n",
              "    border: none;\n",
              "    border-radius: 50%;\n",
              "    cursor: pointer;\n",
              "    display: none;\n",
              "    fill: #1967D2;\n",
              "    height: 32px;\n",
              "    padding: 0 0 0 0;\n",
              "    width: 32px;\n",
              "  }\n",
              "\n",
              "  .colab-df-quickchart:hover {\n",
              "    background-color: #E2EBFA;\n",
              "    box-shadow: 0px 1px 2px rgba(60, 64, 67, 0.3), 0px 1px 3px 1px rgba(60, 64, 67, 0.15);\n",
              "    fill: #174EA6;\n",
              "  }\n",
              "\n",
              "  [theme=dark] .colab-df-quickchart {\n",
              "    background-color: #3B4455;\n",
              "    fill: #D2E3FC;\n",
              "  }\n",
              "\n",
              "  [theme=dark] .colab-df-quickchart:hover {\n",
              "    background-color: #434B5C;\n",
              "    box-shadow: 0px 1px 3px 1px rgba(0, 0, 0, 0.15);\n",
              "    filter: drop-shadow(0px 1px 2px rgba(0, 0, 0, 0.3));\n",
              "    fill: #FFFFFF;\n",
              "  }\n",
              "</style>\n",
              "\n",
              "    <script>\n",
              "      async function quickchart(key) {\n",
              "        const containerElement = document.querySelector('#' + key);\n",
              "        const charts = await google.colab.kernel.invokeFunction(\n",
              "            'suggestCharts', [key], {});\n",
              "      }\n",
              "    </script>\n",
              "\n",
              "      <script>\n",
              "\n",
              "function displayQuickchartButton(domScope) {\n",
              "  let quickchartButtonEl =\n",
              "    domScope.querySelector('#df-5fb2296d-eeb6-46ec-87be-958141ca2ecd button.colab-df-quickchart');\n",
              "  quickchartButtonEl.style.display =\n",
              "    google.colab.kernel.accessAllowed ? 'block' : 'none';\n",
              "}\n",
              "\n",
              "        displayQuickchartButton(document);\n",
              "      </script>\n",
              "      <style>\n",
              "    .colab-df-container {\n",
              "      display:flex;\n",
              "      flex-wrap:wrap;\n",
              "      gap: 12px;\n",
              "    }\n",
              "\n",
              "    .colab-df-convert {\n",
              "      background-color: #E8F0FE;\n",
              "      border: none;\n",
              "      border-radius: 50%;\n",
              "      cursor: pointer;\n",
              "      display: none;\n",
              "      fill: #1967D2;\n",
              "      height: 32px;\n",
              "      padding: 0 0 0 0;\n",
              "      width: 32px;\n",
              "    }\n",
              "\n",
              "    .colab-df-convert:hover {\n",
              "      background-color: #E2EBFA;\n",
              "      box-shadow: 0px 1px 2px rgba(60, 64, 67, 0.3), 0px 1px 3px 1px rgba(60, 64, 67, 0.15);\n",
              "      fill: #174EA6;\n",
              "    }\n",
              "\n",
              "    [theme=dark] .colab-df-convert {\n",
              "      background-color: #3B4455;\n",
              "      fill: #D2E3FC;\n",
              "    }\n",
              "\n",
              "    [theme=dark] .colab-df-convert:hover {\n",
              "      background-color: #434B5C;\n",
              "      box-shadow: 0px 1px 3px 1px rgba(0, 0, 0, 0.15);\n",
              "      filter: drop-shadow(0px 1px 2px rgba(0, 0, 0, 0.3));\n",
              "      fill: #FFFFFF;\n",
              "    }\n",
              "  </style>\n",
              "\n",
              "      <script>\n",
              "        const buttonEl =\n",
              "          document.querySelector('#df-b8e795a3-143e-461c-80fd-b085d8f4cd88 button.colab-df-convert');\n",
              "        buttonEl.style.display =\n",
              "          google.colab.kernel.accessAllowed ? 'block' : 'none';\n",
              "\n",
              "        async function convertToInteractive(key) {\n",
              "          const element = document.querySelector('#df-b8e795a3-143e-461c-80fd-b085d8f4cd88');\n",
              "          const dataTable =\n",
              "            await google.colab.kernel.invokeFunction('convertToInteractive',\n",
              "                                                     [key], {});\n",
              "          if (!dataTable) return;\n",
              "\n",
              "          const docLinkHtml = 'Like what you see? Visit the ' +\n",
              "            '<a target=\"_blank\" href=https://colab.research.google.com/notebooks/data_table.ipynb>data table notebook</a>'\n",
              "            + ' to learn more about interactive tables.';\n",
              "          element.innerHTML = '';\n",
              "          dataTable['output_type'] = 'display_data';\n",
              "          await google.colab.output.renderOutput(dataTable, element);\n",
              "          const docLink = document.createElement('div');\n",
              "          docLink.innerHTML = docLinkHtml;\n",
              "          element.appendChild(docLink);\n",
              "        }\n",
              "      </script>\n",
              "    </div>\n",
              "  </div>\n"
            ]
          },
          "metadata": {},
          "execution_count": 18
        }
      ]
    },
    {
      "cell_type": "code",
      "source": [
        "df.keys()"
      ],
      "metadata": {
        "colab": {
          "base_uri": "https://localhost:8080/"
        },
        "id": "4yjXnCLDHmNZ",
        "outputId": "1c97354c-ac83-4d0b-8a62-55933449cc11"
      },
      "execution_count": 19,
      "outputs": [
        {
          "output_type": "execute_result",
          "data": {
            "text/plain": [
              "Index(['?H(DOI)', '?L(DOI)', 'Cell_area_measured', 'Perovskite_band_gap',\n",
              "       'Voc', 'Jsc', 'FF', 'PCE', 'Cell_architecture',\n",
              "       'Substrate_stack_sequence'],\n",
              "      dtype='object')"
            ]
          },
          "metadata": {},
          "execution_count": 19
        }
      ]
    },
    {
      "cell_type": "code",
      "source": [
        "df=df[['?H(DOI)', '?L(DOI)', 'Cell_area_measured', 'Perovskite_band_gap','Cell_architecture',\n",
        "       'Substrate_stack_sequence','PCE']]"
      ],
      "metadata": {
        "id": "BHNU77wXHpiH"
      },
      "execution_count": 20,
      "outputs": []
    },
    {
      "cell_type": "code",
      "source": [
        "df"
      ],
      "metadata": {
        "colab": {
          "base_uri": "https://localhost:8080/",
          "height": 423
        },
        "id": "n5jAs1R5G5H3",
        "outputId": "869e98b5-52be-49b5-8bd2-2678f2ae27fb"
      },
      "execution_count": 21,
      "outputs": [
        {
          "output_type": "execute_result",
          "data": {
            "text/plain": [
              "     ?H(DOI)  ?L(DOI)  Cell_area_measured  Perovskite_band_gap  \\\n",
              "0       0.06     0.06              0.1000                 1.60   \n",
              "1       0.20     0.80              0.0756                 1.60   \n",
              "2       0.30     0.53              0.0960                 1.53   \n",
              "3       0.20     0.70              0.0400                 1.53   \n",
              "4       0.40     0.33              1.2100                 1.53   \n",
              "..       ...      ...                 ...                  ...   \n",
              "602     0.40     0.33              0.0177                 1.53   \n",
              "603     0.20     0.60              0.1000                 1.50   \n",
              "604     0.40     0.33              0.1000                 1.50   \n",
              "605     0.40     0.33              0.1000                 1.53   \n",
              "606     0.40     0.33              0.1000                 1.53   \n",
              "\n",
              "     Cell_architecture  Substrate_stack_sequence    PCE  \n",
              "0                    0                         4  12.18  \n",
              "1                    0                         0  13.30  \n",
              "2                    0                         0  16.80  \n",
              "3                    0                         4  13.03  \n",
              "4                    1                         5  16.16  \n",
              "..                 ...                       ...    ...  \n",
              "602                  1                         7  16.00  \n",
              "603                  1                         0  15.59  \n",
              "604                  1                         0   7.62  \n",
              "605                  1                         0  10.71  \n",
              "606                  1                         0  11.32  \n",
              "\n",
              "[607 rows x 7 columns]"
            ],
            "text/html": [
              "\n",
              "\n",
              "  <div id=\"df-4a684862-cd3a-46ca-998e-bbd7a8150cd9\">\n",
              "    <div class=\"colab-df-container\">\n",
              "      <div>\n",
              "<style scoped>\n",
              "    .dataframe tbody tr th:only-of-type {\n",
              "        vertical-align: middle;\n",
              "    }\n",
              "\n",
              "    .dataframe tbody tr th {\n",
              "        vertical-align: top;\n",
              "    }\n",
              "\n",
              "    .dataframe thead th {\n",
              "        text-align: right;\n",
              "    }\n",
              "</style>\n",
              "<table border=\"1\" class=\"dataframe\">\n",
              "  <thead>\n",
              "    <tr style=\"text-align: right;\">\n",
              "      <th></th>\n",
              "      <th>?H(DOI)</th>\n",
              "      <th>?L(DOI)</th>\n",
              "      <th>Cell_area_measured</th>\n",
              "      <th>Perovskite_band_gap</th>\n",
              "      <th>Cell_architecture</th>\n",
              "      <th>Substrate_stack_sequence</th>\n",
              "      <th>PCE</th>\n",
              "    </tr>\n",
              "  </thead>\n",
              "  <tbody>\n",
              "    <tr>\n",
              "      <th>0</th>\n",
              "      <td>0.06</td>\n",
              "      <td>0.06</td>\n",
              "      <td>0.1000</td>\n",
              "      <td>1.60</td>\n",
              "      <td>0</td>\n",
              "      <td>4</td>\n",
              "      <td>12.18</td>\n",
              "    </tr>\n",
              "    <tr>\n",
              "      <th>1</th>\n",
              "      <td>0.20</td>\n",
              "      <td>0.80</td>\n",
              "      <td>0.0756</td>\n",
              "      <td>1.60</td>\n",
              "      <td>0</td>\n",
              "      <td>0</td>\n",
              "      <td>13.30</td>\n",
              "    </tr>\n",
              "    <tr>\n",
              "      <th>2</th>\n",
              "      <td>0.30</td>\n",
              "      <td>0.53</td>\n",
              "      <td>0.0960</td>\n",
              "      <td>1.53</td>\n",
              "      <td>0</td>\n",
              "      <td>0</td>\n",
              "      <td>16.80</td>\n",
              "    </tr>\n",
              "    <tr>\n",
              "      <th>3</th>\n",
              "      <td>0.20</td>\n",
              "      <td>0.70</td>\n",
              "      <td>0.0400</td>\n",
              "      <td>1.53</td>\n",
              "      <td>0</td>\n",
              "      <td>4</td>\n",
              "      <td>13.03</td>\n",
              "    </tr>\n",
              "    <tr>\n",
              "      <th>4</th>\n",
              "      <td>0.40</td>\n",
              "      <td>0.33</td>\n",
              "      <td>1.2100</td>\n",
              "      <td>1.53</td>\n",
              "      <td>1</td>\n",
              "      <td>5</td>\n",
              "      <td>16.16</td>\n",
              "    </tr>\n",
              "    <tr>\n",
              "      <th>...</th>\n",
              "      <td>...</td>\n",
              "      <td>...</td>\n",
              "      <td>...</td>\n",
              "      <td>...</td>\n",
              "      <td>...</td>\n",
              "      <td>...</td>\n",
              "      <td>...</td>\n",
              "    </tr>\n",
              "    <tr>\n",
              "      <th>602</th>\n",
              "      <td>0.40</td>\n",
              "      <td>0.33</td>\n",
              "      <td>0.0177</td>\n",
              "      <td>1.53</td>\n",
              "      <td>1</td>\n",
              "      <td>7</td>\n",
              "      <td>16.00</td>\n",
              "    </tr>\n",
              "    <tr>\n",
              "      <th>603</th>\n",
              "      <td>0.20</td>\n",
              "      <td>0.60</td>\n",
              "      <td>0.1000</td>\n",
              "      <td>1.50</td>\n",
              "      <td>1</td>\n",
              "      <td>0</td>\n",
              "      <td>15.59</td>\n",
              "    </tr>\n",
              "    <tr>\n",
              "      <th>604</th>\n",
              "      <td>0.40</td>\n",
              "      <td>0.33</td>\n",
              "      <td>0.1000</td>\n",
              "      <td>1.50</td>\n",
              "      <td>1</td>\n",
              "      <td>0</td>\n",
              "      <td>7.62</td>\n",
              "    </tr>\n",
              "    <tr>\n",
              "      <th>605</th>\n",
              "      <td>0.40</td>\n",
              "      <td>0.33</td>\n",
              "      <td>0.1000</td>\n",
              "      <td>1.53</td>\n",
              "      <td>1</td>\n",
              "      <td>0</td>\n",
              "      <td>10.71</td>\n",
              "    </tr>\n",
              "    <tr>\n",
              "      <th>606</th>\n",
              "      <td>0.40</td>\n",
              "      <td>0.33</td>\n",
              "      <td>0.1000</td>\n",
              "      <td>1.53</td>\n",
              "      <td>1</td>\n",
              "      <td>0</td>\n",
              "      <td>11.32</td>\n",
              "    </tr>\n",
              "  </tbody>\n",
              "</table>\n",
              "<p>607 rows × 7 columns</p>\n",
              "</div>\n",
              "      <button class=\"colab-df-convert\" onclick=\"convertToInteractive('df-4a684862-cd3a-46ca-998e-bbd7a8150cd9')\"\n",
              "              title=\"Convert this dataframe to an interactive table.\"\n",
              "              style=\"display:none;\">\n",
              "\n",
              "  <svg xmlns=\"http://www.w3.org/2000/svg\" height=\"24px\"viewBox=\"0 0 24 24\"\n",
              "       width=\"24px\">\n",
              "    <path d=\"M0 0h24v24H0V0z\" fill=\"none\"/>\n",
              "    <path d=\"M18.56 5.44l.94 2.06.94-2.06 2.06-.94-2.06-.94-.94-2.06-.94 2.06-2.06.94zm-11 1L8.5 8.5l.94-2.06 2.06-.94-2.06-.94L8.5 2.5l-.94 2.06-2.06.94zm10 10l.94 2.06.94-2.06 2.06-.94-2.06-.94-.94-2.06-.94 2.06-2.06.94z\"/><path d=\"M17.41 7.96l-1.37-1.37c-.4-.4-.92-.59-1.43-.59-.52 0-1.04.2-1.43.59L10.3 9.45l-7.72 7.72c-.78.78-.78 2.05 0 2.83L4 21.41c.39.39.9.59 1.41.59.51 0 1.02-.2 1.41-.59l7.78-7.78 2.81-2.81c.8-.78.8-2.07 0-2.86zM5.41 20L4 18.59l7.72-7.72 1.47 1.35L5.41 20z\"/>\n",
              "  </svg>\n",
              "      </button>\n",
              "\n",
              "\n",
              "\n",
              "    <div id=\"df-ca7c6dd1-e808-4a9b-8cbf-6ef086e6adf4\">\n",
              "      <button class=\"colab-df-quickchart\" onclick=\"quickchart('df-ca7c6dd1-e808-4a9b-8cbf-6ef086e6adf4')\"\n",
              "              title=\"Suggest charts.\"\n",
              "              style=\"display:none;\">\n",
              "\n",
              "<svg xmlns=\"http://www.w3.org/2000/svg\" height=\"24px\"viewBox=\"0 0 24 24\"\n",
              "     width=\"24px\">\n",
              "    <g>\n",
              "        <path d=\"M19 3H5c-1.1 0-2 .9-2 2v14c0 1.1.9 2 2 2h14c1.1 0 2-.9 2-2V5c0-1.1-.9-2-2-2zM9 17H7v-7h2v7zm4 0h-2V7h2v10zm4 0h-2v-4h2v4z\"/>\n",
              "    </g>\n",
              "</svg>\n",
              "      </button>\n",
              "    </div>\n",
              "\n",
              "<style>\n",
              "  .colab-df-quickchart {\n",
              "    background-color: #E8F0FE;\n",
              "    border: none;\n",
              "    border-radius: 50%;\n",
              "    cursor: pointer;\n",
              "    display: none;\n",
              "    fill: #1967D2;\n",
              "    height: 32px;\n",
              "    padding: 0 0 0 0;\n",
              "    width: 32px;\n",
              "  }\n",
              "\n",
              "  .colab-df-quickchart:hover {\n",
              "    background-color: #E2EBFA;\n",
              "    box-shadow: 0px 1px 2px rgba(60, 64, 67, 0.3), 0px 1px 3px 1px rgba(60, 64, 67, 0.15);\n",
              "    fill: #174EA6;\n",
              "  }\n",
              "\n",
              "  [theme=dark] .colab-df-quickchart {\n",
              "    background-color: #3B4455;\n",
              "    fill: #D2E3FC;\n",
              "  }\n",
              "\n",
              "  [theme=dark] .colab-df-quickchart:hover {\n",
              "    background-color: #434B5C;\n",
              "    box-shadow: 0px 1px 3px 1px rgba(0, 0, 0, 0.15);\n",
              "    filter: drop-shadow(0px 1px 2px rgba(0, 0, 0, 0.3));\n",
              "    fill: #FFFFFF;\n",
              "  }\n",
              "</style>\n",
              "\n",
              "    <script>\n",
              "      async function quickchart(key) {\n",
              "        const containerElement = document.querySelector('#' + key);\n",
              "        const charts = await google.colab.kernel.invokeFunction(\n",
              "            'suggestCharts', [key], {});\n",
              "      }\n",
              "    </script>\n",
              "\n",
              "      <script>\n",
              "\n",
              "function displayQuickchartButton(domScope) {\n",
              "  let quickchartButtonEl =\n",
              "    domScope.querySelector('#df-ca7c6dd1-e808-4a9b-8cbf-6ef086e6adf4 button.colab-df-quickchart');\n",
              "  quickchartButtonEl.style.display =\n",
              "    google.colab.kernel.accessAllowed ? 'block' : 'none';\n",
              "}\n",
              "\n",
              "        displayQuickchartButton(document);\n",
              "      </script>\n",
              "      <style>\n",
              "    .colab-df-container {\n",
              "      display:flex;\n",
              "      flex-wrap:wrap;\n",
              "      gap: 12px;\n",
              "    }\n",
              "\n",
              "    .colab-df-convert {\n",
              "      background-color: #E8F0FE;\n",
              "      border: none;\n",
              "      border-radius: 50%;\n",
              "      cursor: pointer;\n",
              "      display: none;\n",
              "      fill: #1967D2;\n",
              "      height: 32px;\n",
              "      padding: 0 0 0 0;\n",
              "      width: 32px;\n",
              "    }\n",
              "\n",
              "    .colab-df-convert:hover {\n",
              "      background-color: #E2EBFA;\n",
              "      box-shadow: 0px 1px 2px rgba(60, 64, 67, 0.3), 0px 1px 3px 1px rgba(60, 64, 67, 0.15);\n",
              "      fill: #174EA6;\n",
              "    }\n",
              "\n",
              "    [theme=dark] .colab-df-convert {\n",
              "      background-color: #3B4455;\n",
              "      fill: #D2E3FC;\n",
              "    }\n",
              "\n",
              "    [theme=dark] .colab-df-convert:hover {\n",
              "      background-color: #434B5C;\n",
              "      box-shadow: 0px 1px 3px 1px rgba(0, 0, 0, 0.15);\n",
              "      filter: drop-shadow(0px 1px 2px rgba(0, 0, 0, 0.3));\n",
              "      fill: #FFFFFF;\n",
              "    }\n",
              "  </style>\n",
              "\n",
              "      <script>\n",
              "        const buttonEl =\n",
              "          document.querySelector('#df-4a684862-cd3a-46ca-998e-bbd7a8150cd9 button.colab-df-convert');\n",
              "        buttonEl.style.display =\n",
              "          google.colab.kernel.accessAllowed ? 'block' : 'none';\n",
              "\n",
              "        async function convertToInteractive(key) {\n",
              "          const element = document.querySelector('#df-4a684862-cd3a-46ca-998e-bbd7a8150cd9');\n",
              "          const dataTable =\n",
              "            await google.colab.kernel.invokeFunction('convertToInteractive',\n",
              "                                                     [key], {});\n",
              "          if (!dataTable) return;\n",
              "\n",
              "          const docLinkHtml = 'Like what you see? Visit the ' +\n",
              "            '<a target=\"_blank\" href=https://colab.research.google.com/notebooks/data_table.ipynb>data table notebook</a>'\n",
              "            + ' to learn more about interactive tables.';\n",
              "          element.innerHTML = '';\n",
              "          dataTable['output_type'] = 'display_data';\n",
              "          await google.colab.output.renderOutput(dataTable, element);\n",
              "          const docLink = document.createElement('div');\n",
              "          docLink.innerHTML = docLinkHtml;\n",
              "          element.appendChild(docLink);\n",
              "        }\n",
              "      </script>\n",
              "    </div>\n",
              "  </div>\n"
            ]
          },
          "metadata": {},
          "execution_count": 21
        }
      ]
    },
    {
      "cell_type": "code",
      "source": [
        "from google.colab import drive\n",
        "drive.mount('/content/drive')"
      ],
      "metadata": {
        "colab": {
          "base_uri": "https://localhost:8080/"
        },
        "id": "9ZAu90S4G77K",
        "outputId": "50e7e7b4-5aef-4fb5-a5ef-7527fc18dcfe"
      },
      "execution_count": 22,
      "outputs": [
        {
          "output_type": "stream",
          "name": "stdout",
          "text": [
            "Mounted at /content/drive\n"
          ]
        }
      ]
    },
    {
      "cell_type": "code",
      "source": [
        "import time\n",
        "import numpy as np\n",
        "import pandas as pd\n",
        "from sklearn.tree import DecisionTreeRegressor\n",
        "from sklearn.model_selection import KFold\n",
        "\n",
        "# Assuming you have your data loaded into the DataFrame df\n",
        "\n",
        "seed = 12\n",
        "kfold = KFold(10, shuffle=True, random_state=seed)\n",
        "i = 1\n",
        "\n",
        "for tr, ts in kfold.split(df):\n",
        "    train = df.iloc[tr]\n",
        "    test = df.iloc[ts]\n",
        "    tr_data_X = train.iloc[:, :-1]\n",
        "    tr_data_Y = train.iloc[:, -1]\n",
        "    ts_data_X = test.iloc[:, :-1]\n",
        "    ts_data_Y = test.iloc[:, -1]\n",
        "\n",
        "    if i == 1:\n",
        "        train.to_csv('/content/drive/MyDrive/sbg_flexible/generated pce/generated_train_1.csv', index=False)\n",
        "        test.to_csv('/content/drive/MyDrive/sbg_flexible/generated pce/generated_test_1.csv', index=False)\n",
        "        print(ts)\n",
        "\n",
        "    i += 1"
      ],
      "metadata": {
        "colab": {
          "base_uri": "https://localhost:8080/"
        },
        "id": "lNOeshHbK5fy",
        "outputId": "d82015fd-2b7f-409e-a3a6-7ede568a5648"
      },
      "execution_count": 23,
      "outputs": [
        {
          "output_type": "stream",
          "name": "stdout",
          "text": [
            "[  3  11  14  20  42  44  56  59  71  78  83 101 111 116 122 130 150 168\n",
            " 173 205 214 226 227 250 265 272 283 301 306 311 324 326 332 333 337 340\n",
            " 344 361 365 380 381 392 401 410 423 428 437 445 463 489 490 519 523 536\n",
            " 546 557 559 578 588 592 593]\n"
          ]
        }
      ]
    },
    {
      "cell_type": "code",
      "source": [
        "# Read the saved training data\n",
        "training_data_df = pd.read_csv('/content/drive/MyDrive/sbg_flexible/generated pce/generated_train_1.csv', header=None)\n",
        "training_data = training_data_df.to_numpy()\n",
        "\n",
        "print(training_data)\n",
        "print(training_data.shape)"
      ],
      "metadata": {
        "colab": {
          "base_uri": "https://localhost:8080/"
        },
        "id": "1U4IlyjrJY2j",
        "outputId": "f47fe2e8-0742-4c3a-d9a5-c476b5bc3f94"
      },
      "execution_count": 24,
      "outputs": [
        {
          "output_type": "stream",
          "name": "stdout",
          "text": [
            "[['?H(DOI)' '?L(DOI)' 'Cell_area_measured' ... 'Cell_architecture'\n",
            "  'Substrate_stack_sequence' 'PCE']\n",
            " ['0.06' '0.06' '0.1' ... '0' '4' '12.18']\n",
            " ['0.2' '0.8' '0.0756' ... '0' '0' '13.3']\n",
            " ...\n",
            " ['0.4' '0.33' '0.1' ... '1' '0' '7.62']\n",
            " ['0.4' '0.33' '0.1' ... '1' '0' '10.71']\n",
            " ['0.4' '0.33' '0.1' ... '1' '0' '11.32']]\n",
            "(547, 7)\n"
          ]
        }
      ]
    },
    {
      "cell_type": "code",
      "source": [
        "test_data_df=pd.read_csv(\"/content/drive/MyDrive/sbg_flexible/generated pce/generated_test_1.csv\",header=None)\n",
        "test_data=test_data_df.to_numpy()\n",
        "print(test_data)\n",
        "print(test_data.shape)"
      ],
      "metadata": {
        "colab": {
          "base_uri": "https://localhost:8080/"
        },
        "id": "MpWxOH1zHjZ2",
        "outputId": "5e331185-9592-459a-c7ba-e29d0d976d7e"
      },
      "execution_count": 25,
      "outputs": [
        {
          "output_type": "stream",
          "name": "stdout",
          "text": [
            "[['?H(DOI)' '?L(DOI)' 'Cell_area_measured' 'Perovskite_band_gap'\n",
            "  'Cell_architecture' 'Substrate_stack_sequence' 'PCE']\n",
            " ['0.2' '0.7' '0.04' '1.53' '0' '4' '13.03']\n",
            " ['0.2' '0.63' '4.052' '1.53' '0' '0' '14.6']\n",
            " ['0.2' '0.63' '7.052' '1.53' '0' '0' '7.8']\n",
            " ['0.2' '0.3' '0.09' '1.5' '1' '5' '14.4']\n",
            " ['0.2' '0.1' '0.09' '1.5' '1' '0' '19.44']\n",
            " ['0.06' '0.83' '0.1' '1.5' '1' '0' '7.3']\n",
            " ['0.3' '0.0' '0.1' '1.5' '1' '0' '3.4']\n",
            " ['0.2' '0.3' '0.16' '1.5' '0' '3' '12.2']\n",
            " ['0.4' '0.6' '4.06' '1.53' '0' '7' '15.4']\n",
            " ['0.25' '0.25' '0.2' '1.5' '1' '0' '5.0']\n",
            " ['0.25' '0.25' '1.12' '1.5' '1' '0' '28.0']\n",
            " ['0.06' '0.1' '2.1' '1.5' '1' '0' '18.35']\n",
            " ['0.21' '0.47' '0.12' '1.53' '0' '4' '10.24']\n",
            " ['0.4' '0.33' '0.1' '1.5' '1' '7' '15.38']\n",
            " ['0.2' '0.43' '1.112' '1.5' '0' '0' '9.79']\n",
            " ['0.2' '0.33' '0.0725' '1.53' '0' '7' '14.9']\n",
            " ['0.24' '0.1' '0.08' '1.5' '1' '2' '20.15']\n",
            " ['0.21' '0.04' '1.4' '1.57' '0' '4' '7.62']\n",
            " ['0.2' '0.33' '0.0875' '1.53' '1' '7' '12.52']\n",
            " ['0.7' '0.2' '0.09' '1.4' '1' '4' '0.25']\n",
            " ['0.1' '0.4' '0.11' '1.5' '1' '0' '15.85']\n",
            " ['0.36' '0.3' '0.0464' '1.5' '1' '2' '15.47']\n",
            " ['0.36' '0.3' '0.0464' '1.5' '1' '2' '15.35']\n",
            " ['0.2' '0.33' '1.2' '1.52' '0' '4' '12.5']\n",
            " ['0.1' '0.45' '0.04' '1.55' '1' '0' '16.7']\n",
            " ['0.22' '0.6' '0.06' '1.5' '1' '2' '14.87']\n",
            " ['0.2' '0.63' '0.1' '1.53' '0' '0' '17.75']\n",
            " ['0.3' '0.1' '0.1' '1.6' '1' '4' '11.0']\n",
            " ['0.08' '0.25' '0.1' '1.55' '0' '7' '1.2']\n",
            " ['0.2' '0.47' '0.09' '1.5' '0' '0' '8.3']\n",
            " ['0.15' '0.15' '0.1' '1.5' '1' '5' '14.2']\n",
            " ['0.3' '0.2' '0.11' '1.55' '1' '0' '16.3']\n",
            " ['0.38' '0.07' '0.04' '1.59' '1' '4' '15.0']\n",
            " ['0.34' '0.11' '0.04' '1.59' '1' '4' '16.02']\n",
            " ['0.2' '0.53' '0.09' '1.53' '0' '0' '12.4']\n",
            " ['0.3' '0.4' '0.07' '1.6' '0' '4' '10.12']\n",
            " ['0.2' '0.51' '0.1' '1.56' '1' '7' '13.36']\n",
            " ['0.2' '0.3' '0.09' '1.5' '1' '4' '14.5']\n",
            " ['0.1' '0.2' '0.12' '1.6' '0' '4' '18.58']\n",
            " ['0.36' '0.37' '0.11' '1.5' '1' '4' '12.37']\n",
            " ['0.36' '0.37' '0.11' '1.5' '1' '4' '12.46']\n",
            " ['0.88' '0.14' '0.09' '1.55' '0' '0' '7.3']\n",
            " ['0.2' '0.83' '0.04' '1.53' '1' '7' '10.82']\n",
            " ['0.1' '0.6' '0.09' '1.6' '1' '4' '18.6']\n",
            " ['0.2' '0.43' '0.1' '1.53' '0' '6' '4.36']\n",
            " ['0.4' '0.53' '0.09' '1.5' '0' '0' '17.3']\n",
            " ['0.2' '0.83' '0.108' '1.5' '0' '0' '12.7']\n",
            " ['0.2' '0.33' '0.09' '1.53' '1' '0' '14.3']\n",
            " ['0.1' '0.1' '0.1' '1.5' '1' '0' '14.62']\n",
            " ['0.2' '0.33' '0.05' '1.5' '0' '4' '18.29']\n",
            " ['0.2' '0.43' '0.05' '1.5' '0' '4' '15.76']\n",
            " ['0.2' '-0.03' '0.08' '1.55' '0' '0' '17.66']\n",
            " ['0.4' '0.33' '0.1' '1.5' '1' '0' '7.9']\n",
            " ['0.2' '0.43' '0.08' '1.6' '1' '7' '15.86']\n",
            " ['0.2' '0.4' '0.12' '1.45' '0' '0' '18.2']\n",
            " ['0.2' '0.43' '0.075' '1.5' '0' '0' '15.1']\n",
            " ['0.2' '0.3' '0.1' '1.5' '0' '0' '15.34']\n",
            " ['0.2' '0.1' '0.1' '1.53' '0' '0' '19.13']\n",
            " ['0.11' '0.4' '0.05' '1.5' '1' '4' '13.85']\n",
            " ['0.4' '0.33' '0.1' '1.5' '1' '0' '10.4']\n",
            " ['0.3' '0.33' '0.286' '1.53' '1' '7' '16.1']]\n",
            "(62, 7)\n"
          ]
        }
      ]
    },
    {
      "cell_type": "code",
      "source": [
        "ts_data_X=test_data[:,:-1]\n",
        "ts_data_Y=test_data[:,-1]\n",
        "print(ts_data_Y.shape)"
      ],
      "metadata": {
        "colab": {
          "base_uri": "https://localhost:8080/"
        },
        "id": "eEKIBHqcHx6G",
        "outputId": "edf070a7-069a-4db9-ffe5-a642309bc77e"
      },
      "execution_count": 26,
      "outputs": [
        {
          "output_type": "stream",
          "name": "stdout",
          "text": [
            "(62,)\n"
          ]
        }
      ]
    },
    {
      "cell_type": "code",
      "source": [
        "type(ts_data_X)"
      ],
      "metadata": {
        "colab": {
          "base_uri": "https://localhost:8080/"
        },
        "id": "FI41OfT-N2e1",
        "outputId": "0856c0be-aa8a-45a9-d4ba-6aee7b11d7fb"
      },
      "execution_count": 27,
      "outputs": [
        {
          "output_type": "execute_result",
          "data": {
            "text/plain": [
              "numpy.ndarray"
            ]
          },
          "metadata": {},
          "execution_count": 27
        }
      ]
    },
    {
      "cell_type": "code",
      "source": [
        "ts_data_X = ts_data_X[1:]\n",
        "ts_data_X = ts_data_X.astype(float)\n",
        "\n",
        "print(ts_data_X)\n",
        "print(ts_data_X.dtype)"
      ],
      "metadata": {
        "colab": {
          "base_uri": "https://localhost:8080/"
        },
        "id": "_QjfJzWJOP23",
        "outputId": "39dcb038-3ae0-4227-853a-14f6ecdbf38a"
      },
      "execution_count": 28,
      "outputs": [
        {
          "output_type": "stream",
          "name": "stdout",
          "text": [
            "[[ 0.2     0.7     0.04    1.53    0.      4.    ]\n",
            " [ 0.2     0.63    4.052   1.53    0.      0.    ]\n",
            " [ 0.2     0.63    7.052   1.53    0.      0.    ]\n",
            " [ 0.2     0.3     0.09    1.5     1.      5.    ]\n",
            " [ 0.2     0.1     0.09    1.5     1.      0.    ]\n",
            " [ 0.06    0.83    0.1     1.5     1.      0.    ]\n",
            " [ 0.3     0.      0.1     1.5     1.      0.    ]\n",
            " [ 0.2     0.3     0.16    1.5     0.      3.    ]\n",
            " [ 0.4     0.6     4.06    1.53    0.      7.    ]\n",
            " [ 0.25    0.25    0.2     1.5     1.      0.    ]\n",
            " [ 0.25    0.25    1.12    1.5     1.      0.    ]\n",
            " [ 0.06    0.1     2.1     1.5     1.      0.    ]\n",
            " [ 0.21    0.47    0.12    1.53    0.      4.    ]\n",
            " [ 0.4     0.33    0.1     1.5     1.      7.    ]\n",
            " [ 0.2     0.43    1.112   1.5     0.      0.    ]\n",
            " [ 0.2     0.33    0.0725  1.53    0.      7.    ]\n",
            " [ 0.24    0.1     0.08    1.5     1.      2.    ]\n",
            " [ 0.21    0.04    1.4     1.57    0.      4.    ]\n",
            " [ 0.2     0.33    0.0875  1.53    1.      7.    ]\n",
            " [ 0.7     0.2     0.09    1.4     1.      4.    ]\n",
            " [ 0.1     0.4     0.11    1.5     1.      0.    ]\n",
            " [ 0.36    0.3     0.0464  1.5     1.      2.    ]\n",
            " [ 0.36    0.3     0.0464  1.5     1.      2.    ]\n",
            " [ 0.2     0.33    1.2     1.52    0.      4.    ]\n",
            " [ 0.1     0.45    0.04    1.55    1.      0.    ]\n",
            " [ 0.22    0.6     0.06    1.5     1.      2.    ]\n",
            " [ 0.2     0.63    0.1     1.53    0.      0.    ]\n",
            " [ 0.3     0.1     0.1     1.6     1.      4.    ]\n",
            " [ 0.08    0.25    0.1     1.55    0.      7.    ]\n",
            " [ 0.2     0.47    0.09    1.5     0.      0.    ]\n",
            " [ 0.15    0.15    0.1     1.5     1.      5.    ]\n",
            " [ 0.3     0.2     0.11    1.55    1.      0.    ]\n",
            " [ 0.38    0.07    0.04    1.59    1.      4.    ]\n",
            " [ 0.34    0.11    0.04    1.59    1.      4.    ]\n",
            " [ 0.2     0.53    0.09    1.53    0.      0.    ]\n",
            " [ 0.3     0.4     0.07    1.6     0.      4.    ]\n",
            " [ 0.2     0.51    0.1     1.56    1.      7.    ]\n",
            " [ 0.2     0.3     0.09    1.5     1.      4.    ]\n",
            " [ 0.1     0.2     0.12    1.6     0.      4.    ]\n",
            " [ 0.36    0.37    0.11    1.5     1.      4.    ]\n",
            " [ 0.36    0.37    0.11    1.5     1.      4.    ]\n",
            " [ 0.88    0.14    0.09    1.55    0.      0.    ]\n",
            " [ 0.2     0.83    0.04    1.53    1.      7.    ]\n",
            " [ 0.1     0.6     0.09    1.6     1.      4.    ]\n",
            " [ 0.2     0.43    0.1     1.53    0.      6.    ]\n",
            " [ 0.4     0.53    0.09    1.5     0.      0.    ]\n",
            " [ 0.2     0.83    0.108   1.5     0.      0.    ]\n",
            " [ 0.2     0.33    0.09    1.53    1.      0.    ]\n",
            " [ 0.1     0.1     0.1     1.5     1.      0.    ]\n",
            " [ 0.2     0.33    0.05    1.5     0.      4.    ]\n",
            " [ 0.2     0.43    0.05    1.5     0.      4.    ]\n",
            " [ 0.2    -0.03    0.08    1.55    0.      0.    ]\n",
            " [ 0.4     0.33    0.1     1.5     1.      0.    ]\n",
            " [ 0.2     0.43    0.08    1.6     1.      7.    ]\n",
            " [ 0.2     0.4     0.12    1.45    0.      0.    ]\n",
            " [ 0.2     0.43    0.075   1.5     0.      0.    ]\n",
            " [ 0.2     0.3     0.1     1.5     0.      0.    ]\n",
            " [ 0.2     0.1     0.1     1.53    0.      0.    ]\n",
            " [ 0.11    0.4     0.05    1.5     1.      4.    ]\n",
            " [ 0.4     0.33    0.1     1.5     1.      0.    ]\n",
            " [ 0.3     0.33    0.286   1.53    1.      7.    ]]\n",
            "float64\n"
          ]
        }
      ]
    },
    {
      "cell_type": "code",
      "source": [
        "df.info()"
      ],
      "metadata": {
        "colab": {
          "base_uri": "https://localhost:8080/"
        },
        "id": "v4HGpmQoLVcW",
        "outputId": "b36712c4-83c3-49f3-c166-beab01b74535"
      },
      "execution_count": 29,
      "outputs": [
        {
          "output_type": "stream",
          "name": "stdout",
          "text": [
            "<class 'pandas.core.frame.DataFrame'>\n",
            "RangeIndex: 607 entries, 0 to 606\n",
            "Data columns (total 7 columns):\n",
            " #   Column                    Non-Null Count  Dtype  \n",
            "---  ------                    --------------  -----  \n",
            " 0   ?H(DOI)                   607 non-null    float64\n",
            " 1   ?L(DOI)                   607 non-null    float64\n",
            " 2   Cell_area_measured        607 non-null    float64\n",
            " 3   Perovskite_band_gap       607 non-null    float64\n",
            " 4   Cell_architecture         607 non-null    int64  \n",
            " 5   Substrate_stack_sequence  607 non-null    int64  \n",
            " 6   PCE                       607 non-null    float64\n",
            "dtypes: float64(5), int64(2)\n",
            "memory usage: 33.3 KB\n"
          ]
        }
      ]
    },
    {
      "cell_type": "code",
      "source": [
        "from sklearn.linear_model import LinearRegression\n",
        "lr = LinearRegression()\n",
        "lr.fit( tr_data_X,  tr_data_Y)"
      ],
      "metadata": {
        "colab": {
          "base_uri": "https://localhost:8080/",
          "height": 74
        },
        "id": "wRgtGRS9H-Dm",
        "outputId": "37ba0708-81be-46d9-ec1a-74bb46384242"
      },
      "execution_count": 30,
      "outputs": [
        {
          "output_type": "execute_result",
          "data": {
            "text/plain": [
              "LinearRegression()"
            ],
            "text/html": [
              "<style>#sk-container-id-1 {color: black;background-color: white;}#sk-container-id-1 pre{padding: 0;}#sk-container-id-1 div.sk-toggleable {background-color: white;}#sk-container-id-1 label.sk-toggleable__label {cursor: pointer;display: block;width: 100%;margin-bottom: 0;padding: 0.3em;box-sizing: border-box;text-align: center;}#sk-container-id-1 label.sk-toggleable__label-arrow:before {content: \"▸\";float: left;margin-right: 0.25em;color: #696969;}#sk-container-id-1 label.sk-toggleable__label-arrow:hover:before {color: black;}#sk-container-id-1 div.sk-estimator:hover label.sk-toggleable__label-arrow:before {color: black;}#sk-container-id-1 div.sk-toggleable__content {max-height: 0;max-width: 0;overflow: hidden;text-align: left;background-color: #f0f8ff;}#sk-container-id-1 div.sk-toggleable__content pre {margin: 0.2em;color: black;border-radius: 0.25em;background-color: #f0f8ff;}#sk-container-id-1 input.sk-toggleable__control:checked~div.sk-toggleable__content {max-height: 200px;max-width: 100%;overflow: auto;}#sk-container-id-1 input.sk-toggleable__control:checked~label.sk-toggleable__label-arrow:before {content: \"▾\";}#sk-container-id-1 div.sk-estimator input.sk-toggleable__control:checked~label.sk-toggleable__label {background-color: #d4ebff;}#sk-container-id-1 div.sk-label input.sk-toggleable__control:checked~label.sk-toggleable__label {background-color: #d4ebff;}#sk-container-id-1 input.sk-hidden--visually {border: 0;clip: rect(1px 1px 1px 1px);clip: rect(1px, 1px, 1px, 1px);height: 1px;margin: -1px;overflow: hidden;padding: 0;position: absolute;width: 1px;}#sk-container-id-1 div.sk-estimator {font-family: monospace;background-color: #f0f8ff;border: 1px dotted black;border-radius: 0.25em;box-sizing: border-box;margin-bottom: 0.5em;}#sk-container-id-1 div.sk-estimator:hover {background-color: #d4ebff;}#sk-container-id-1 div.sk-parallel-item::after {content: \"\";width: 100%;border-bottom: 1px solid gray;flex-grow: 1;}#sk-container-id-1 div.sk-label:hover label.sk-toggleable__label {background-color: #d4ebff;}#sk-container-id-1 div.sk-serial::before {content: \"\";position: absolute;border-left: 1px solid gray;box-sizing: border-box;top: 0;bottom: 0;left: 50%;z-index: 0;}#sk-container-id-1 div.sk-serial {display: flex;flex-direction: column;align-items: center;background-color: white;padding-right: 0.2em;padding-left: 0.2em;position: relative;}#sk-container-id-1 div.sk-item {position: relative;z-index: 1;}#sk-container-id-1 div.sk-parallel {display: flex;align-items: stretch;justify-content: center;background-color: white;position: relative;}#sk-container-id-1 div.sk-item::before, #sk-container-id-1 div.sk-parallel-item::before {content: \"\";position: absolute;border-left: 1px solid gray;box-sizing: border-box;top: 0;bottom: 0;left: 50%;z-index: -1;}#sk-container-id-1 div.sk-parallel-item {display: flex;flex-direction: column;z-index: 1;position: relative;background-color: white;}#sk-container-id-1 div.sk-parallel-item:first-child::after {align-self: flex-end;width: 50%;}#sk-container-id-1 div.sk-parallel-item:last-child::after {align-self: flex-start;width: 50%;}#sk-container-id-1 div.sk-parallel-item:only-child::after {width: 0;}#sk-container-id-1 div.sk-dashed-wrapped {border: 1px dashed gray;margin: 0 0.4em 0.5em 0.4em;box-sizing: border-box;padding-bottom: 0.4em;background-color: white;}#sk-container-id-1 div.sk-label label {font-family: monospace;font-weight: bold;display: inline-block;line-height: 1.2em;}#sk-container-id-1 div.sk-label-container {text-align: center;}#sk-container-id-1 div.sk-container {/* jupyter's `normalize.less` sets `[hidden] { display: none; }` but bootstrap.min.css set `[hidden] { display: none !important; }` so we also need the `!important` here to be able to override the default hidden behavior on the sphinx rendered scikit-learn.org. See: https://github.com/scikit-learn/scikit-learn/issues/21755 */display: inline-block !important;position: relative;}#sk-container-id-1 div.sk-text-repr-fallback {display: none;}</style><div id=\"sk-container-id-1\" class=\"sk-top-container\"><div class=\"sk-text-repr-fallback\"><pre>LinearRegression()</pre><b>In a Jupyter environment, please rerun this cell to show the HTML representation or trust the notebook. <br />On GitHub, the HTML representation is unable to render, please try loading this page with nbviewer.org.</b></div><div class=\"sk-container\" hidden><div class=\"sk-item\"><div class=\"sk-estimator sk-toggleable\"><input class=\"sk-toggleable__control sk-hidden--visually\" id=\"sk-estimator-id-1\" type=\"checkbox\" checked><label for=\"sk-estimator-id-1\" class=\"sk-toggleable__label sk-toggleable__label-arrow\">LinearRegression</label><div class=\"sk-toggleable__content\"><pre>LinearRegression()</pre></div></div></div></div></div>"
            ]
          },
          "metadata": {},
          "execution_count": 30
        }
      ]
    },
    {
      "cell_type": "code",
      "source": [
        "ts_data_X = ts_data_X.astype(float)"
      ],
      "metadata": {
        "id": "Zykc6ChfLVXw"
      },
      "execution_count": 31,
      "outputs": []
    },
    {
      "cell_type": "code",
      "source": [
        "y_pred_lr =lr.predict(ts_data_X)\n",
        "y_pred_lr.shape"
      ],
      "metadata": {
        "colab": {
          "base_uri": "https://localhost:8080/"
        },
        "id": "2qSV2qDdIA7Y",
        "outputId": "7c39dc02-d4c6-4478-b5d6-059a026dd6d6"
      },
      "execution_count": 32,
      "outputs": [
        {
          "output_type": "stream",
          "name": "stderr",
          "text": [
            "/usr/local/lib/python3.10/dist-packages/sklearn/base.py:439: UserWarning: X does not have valid feature names, but LinearRegression was fitted with feature names\n",
            "  warnings.warn(\n"
          ]
        },
        {
          "output_type": "execute_result",
          "data": {
            "text/plain": [
              "(61,)"
            ]
          },
          "metadata": {},
          "execution_count": 32
        }
      ]
    },
    {
      "cell_type": "code",
      "source": [],
      "metadata": {
        "id": "YQUA0p_MPadH"
      },
      "execution_count": 32,
      "outputs": []
    },
    {
      "cell_type": "code",
      "source": [
        "print(ts_data_Y.shape)\n",
        "print(y_pred_lr.shape)"
      ],
      "metadata": {
        "colab": {
          "base_uri": "https://localhost:8080/"
        },
        "id": "76RVoNpCPGCQ",
        "outputId": "346ac86e-4520-4e3c-edaa-58a5c658a237"
      },
      "execution_count": 33,
      "outputs": [
        {
          "output_type": "stream",
          "name": "stdout",
          "text": [
            "(62,)\n",
            "(61,)\n"
          ]
        }
      ]
    },
    {
      "cell_type": "code",
      "source": [
        "ts_data_Y = ts_data_Y[1:].astype(float)"
      ],
      "metadata": {
        "id": "iDPCVqQFPXB6"
      },
      "execution_count": 34,
      "outputs": []
    },
    {
      "cell_type": "code",
      "source": [
        "ts_data_Y"
      ],
      "metadata": {
        "colab": {
          "base_uri": "https://localhost:8080/"
        },
        "id": "4lS15FhdID3_",
        "outputId": "194fc20d-6a9e-402d-b443-ed5091df66a9"
      },
      "execution_count": 35,
      "outputs": [
        {
          "output_type": "execute_result",
          "data": {
            "text/plain": [
              "array([13.03, 14.6 ,  7.8 , 14.4 , 19.44,  7.3 ,  3.4 , 12.2 , 15.4 ,\n",
              "        5.  , 28.  , 18.35, 10.24, 15.38,  9.79, 14.9 , 20.15,  7.62,\n",
              "       12.52,  0.25, 15.85, 15.47, 15.35, 12.5 , 16.7 , 14.87, 17.75,\n",
              "       11.  ,  1.2 ,  8.3 , 14.2 , 16.3 , 15.  , 16.02, 12.4 , 10.12,\n",
              "       13.36, 14.5 , 18.58, 12.37, 12.46,  7.3 , 10.82, 18.6 ,  4.36,\n",
              "       17.3 , 12.7 , 14.3 , 14.62, 18.29, 15.76, 17.66,  7.9 , 15.86,\n",
              "       18.2 , 15.1 , 15.34, 19.13, 13.85, 10.4 , 16.1 ])"
            ]
          },
          "metadata": {},
          "execution_count": 35
        }
      ]
    },
    {
      "cell_type": "code",
      "source": [
        "import matplotlib.pyplot as plt\n",
        "plt.scatter(ts_data_Y, y_pred_lr)\n",
        "plt.xlabel(\"Actual PCE\")\n",
        "plt.ylabel(\"Predicted PCE\")\n",
        "plt.ylim(0,25)\n",
        "plt.xlim(0,25)\n",
        "plt.show()"
      ],
      "metadata": {
        "colab": {
          "base_uri": "https://localhost:8080/",
          "height": 455
        },
        "id": "tEStWkxyIG2w",
        "outputId": "de972332-8fb3-42b6-ac33-20987bcfa55b"
      },
      "execution_count": 36,
      "outputs": [
        {
          "output_type": "display_data",
          "data": {
            "text/plain": [
              "<Figure size 640x480 with 1 Axes>"
            ],
            "image/png": "[encoded data removed]"
          },
          "metadata": {}
        }
      ]
    },
    {
      "cell_type": "code",
      "source": [
        "from sklearn.metrics import r2_score\n",
        "r2_score(ts_data_Y, y_pred_lr)"
      ],
      "metadata": {
        "colab": {
          "base_uri": "https://localhost:8080/"
        },
        "id": "tixuvobYILfn",
        "outputId": "bd84697a-c3cf-4655-f670-98b0cccbdd07"
      },
      "execution_count": 37,
      "outputs": [
        {
          "output_type": "execute_result",
          "data": {
            "text/plain": [
              "0.008172119494157415"
            ]
          },
          "metadata": {},
          "execution_count": 37
        }
      ]
    },
    {
      "cell_type": "code",
      "source": [
        "from sklearn.metrics import mean_squared_error\n",
        "mean_squared_error(ts_data_Y, y_pred_lr)"
      ],
      "metadata": {
        "colab": {
          "base_uri": "https://localhost:8080/"
        },
        "id": "9a0t4z_EIWCW",
        "outputId": "a9d6f93c-b01d-49b7-be5d-a41231ad08c7"
      },
      "execution_count": 38,
      "outputs": [
        {
          "output_type": "execute_result",
          "data": {
            "text/plain": [
              "23.160427978150732"
            ]
          },
          "metadata": {},
          "execution_count": 38
        }
      ]
    },
    {
      "cell_type": "markdown",
      "source": [
        "DTR"
      ],
      "metadata": {
        "id": "tWqfHU2xIyIY"
      }
    },
    {
      "cell_type": "code",
      "source": [
        "import time\n",
        "st = time.time()\n",
        "from sklearn.tree import DecisionTreeRegressor\n",
        "regressor = DecisionTreeRegressor(random_state = 0)\n",
        "regressor.fit(tr_data_X, tr_data_Y)\n"
      ],
      "metadata": {
        "colab": {
          "base_uri": "https://localhost:8080/",
          "height": 74
        },
        "id": "uwfu8t5_IYp2",
        "outputId": "d4d9758b-eb53-45b4-bedf-228fc19a3940"
      },
      "execution_count": 39,
      "outputs": [
        {
          "output_type": "execute_result",
          "data": {
            "text/plain": [
              "DecisionTreeRegressor(random_state=0)"
            ],
            "text/html": [
              "<style>#sk-container-id-2 {color: black;background-color: white;}#sk-container-id-2 pre{padding: 0;}#sk-container-id-2 div.sk-toggleable {background-color: white;}#sk-container-id-2 label.sk-toggleable__label {cursor: pointer;display: block;width: 100%;margin-bottom: 0;padding: 0.3em;box-sizing: border-box;text-align: center;}#sk-container-id-2 label.sk-toggleable__label-arrow:before {content: \"▸\";float: left;margin-right: 0.25em;color: #696969;}#sk-container-id-2 label.sk-toggleable__label-arrow:hover:before {color: black;}#sk-container-id-2 div.sk-estimator:hover label.sk-toggleable__label-arrow:before {color: black;}#sk-container-id-2 div.sk-toggleable__content {max-height: 0;max-width: 0;overflow: hidden;text-align: left;background-color: #f0f8ff;}#sk-container-id-2 div.sk-toggleable__content pre {margin: 0.2em;color: black;border-radius: 0.25em;background-color: #f0f8ff;}#sk-container-id-2 input.sk-toggleable__control:checked~div.sk-toggleable__content {max-height: 200px;max-width: 100%;overflow: auto;}#sk-container-id-2 input.sk-toggleable__control:checked~label.sk-toggleable__label-arrow:before {content: \"▾\";}#sk-container-id-2 div.sk-estimator input.sk-toggleable__control:checked~label.sk-toggleable__label {background-color: #d4ebff;}#sk-container-id-2 div.sk-label input.sk-toggleable__control:checked~label.sk-toggleable__label {background-color: #d4ebff;}#sk-container-id-2 input.sk-hidden--visually {border: 0;clip: rect(1px 1px 1px 1px);clip: rect(1px, 1px, 1px, 1px);height: 1px;margin: -1px;overflow: hidden;padding: 0;position: absolute;width: 1px;}#sk-container-id-2 div.sk-estimator {font-family: monospace;background-color: #f0f8ff;border: 1px dotted black;border-radius: 0.25em;box-sizing: border-box;margin-bottom: 0.5em;}#sk-container-id-2 div.sk-estimator:hover {background-color: #d4ebff;}#sk-container-id-2 div.sk-parallel-item::after {content: \"\";width: 100%;border-bottom: 1px solid gray;flex-grow: 1;}#sk-container-id-2 div.sk-label:hover label.sk-toggleable__label {background-color: #d4ebff;}#sk-container-id-2 div.sk-serial::before {content: \"\";position: absolute;border-left: 1px solid gray;box-sizing: border-box;top: 0;bottom: 0;left: 50%;z-index: 0;}#sk-container-id-2 div.sk-serial {display: flex;flex-direction: column;align-items: center;background-color: white;padding-right: 0.2em;padding-left: 0.2em;position: relative;}#sk-container-id-2 div.sk-item {position: relative;z-index: 1;}#sk-container-id-2 div.sk-parallel {display: flex;align-items: stretch;justify-content: center;background-color: white;position: relative;}#sk-container-id-2 div.sk-item::before, #sk-container-id-2 div.sk-parallel-item::before {content: \"\";position: absolute;border-left: 1px solid gray;box-sizing: border-box;top: 0;bottom: 0;left: 50%;z-index: -1;}#sk-container-id-2 div.sk-parallel-item {display: flex;flex-direction: column;z-index: 1;position: relative;background-color: white;}#sk-container-id-2 div.sk-parallel-item:first-child::after {align-self: flex-end;width: 50%;}#sk-container-id-2 div.sk-parallel-item:last-child::after {align-self: flex-start;width: 50%;}#sk-container-id-2 div.sk-parallel-item:only-child::after {width: 0;}#sk-container-id-2 div.sk-dashed-wrapped {border: 1px dashed gray;margin: 0 0.4em 0.5em 0.4em;box-sizing: border-box;padding-bottom: 0.4em;background-color: white;}#sk-container-id-2 div.sk-label label {font-family: monospace;font-weight: bold;display: inline-block;line-height: 1.2em;}#sk-container-id-2 div.sk-label-container {text-align: center;}#sk-container-id-2 div.sk-container {/* jupyter's `normalize.less` sets `[hidden] { display: none; }` but bootstrap.min.css set `[hidden] { display: none !important; }` so we also need the `!important` here to be able to override the default hidden behavior on the sphinx rendered scikit-learn.org. See: https://github.com/scikit-learn/scikit-learn/issues/21755 */display: inline-block !important;position: relative;}#sk-container-id-2 div.sk-text-repr-fallback {display: none;}</style><div id=\"sk-container-id-2\" class=\"sk-top-container\"><div class=\"sk-text-repr-fallback\"><pre>DecisionTreeRegressor(random_state=0)</pre><b>In a Jupyter environment, please rerun this cell to show the HTML representation or trust the notebook. <br />On GitHub, the HTML representation is unable to render, please try loading this page with nbviewer.org.</b></div><div class=\"sk-container\" hidden><div class=\"sk-item\"><div class=\"sk-estimator sk-toggleable\"><input class=\"sk-toggleable__control sk-hidden--visually\" id=\"sk-estimator-id-2\" type=\"checkbox\" checked><label for=\"sk-estimator-id-2\" class=\"sk-toggleable__label sk-toggleable__label-arrow\">DecisionTreeRegressor</label><div class=\"sk-toggleable__content\"><pre>DecisionTreeRegressor(random_state=0)</pre></div></div></div></div></div>"
            ]
          },
          "metadata": {},
          "execution_count": 39
        }
      ]
    },
    {
      "cell_type": "code",
      "source": [
        "y_pred_dtr =regressor.predict(ts_data_X)\n",
        "et = time.time()\n",
        "elapsed_time = et - st\n",
        "print('DTR:', elapsed_time, 'seconds')\n",
        "y_pred_dtr"
      ],
      "metadata": {
        "colab": {
          "base_uri": "https://localhost:8080/"
        },
        "id": "DleS8PjBIce9",
        "outputId": "447d8846-3c50-42e0-a0bc-762e93f758d2"
      },
      "execution_count": 40,
      "outputs": [
        {
          "output_type": "stream",
          "name": "stdout",
          "text": [
            "DTR: 0.02319645881652832 seconds\n"
          ]
        },
        {
          "output_type": "stream",
          "name": "stderr",
          "text": [
            "/usr/local/lib/python3.10/dist-packages/sklearn/base.py:439: UserWarning: X does not have valid feature names, but DecisionTreeRegressor was fitted with feature names\n",
            "  warnings.warn(\n"
          ]
        },
        {
          "output_type": "execute_result",
          "data": {
            "text/plain": [
              "array([13.03      , 14.6       ,  7.8       , 14.4       , 19.44      ,\n",
              "        7.3       ,  3.9       , 12.2       , 15.4       ,  5.        ,\n",
              "       28.        , 18.35      , 10.24      , 13.024     , 12.065     ,\n",
              "       16.35      , 19.085     ,  7.17      , 12.1       ,  0.25      ,\n",
              "       15.455     , 15.41      , 15.41      , 12.65      , 16.4       ,\n",
              "       12.98      , 15.37333333, 11.55      ,  1.8       ,  8.3       ,\n",
              "       13.95      , 16.3       , 15.        , 16.02      , 11.75      ,\n",
              "       12.01      , 11.78      , 14.5       , 18.58      , 12.415     ,\n",
              "       12.415     ,  7.3       , 11.475     , 17.6       ,  4.14333333,\n",
              "       17.        , 14.50333333, 14.3       , 13.24      , 18.35      ,\n",
              "       15.76      , 17.66      , 11.23      , 15.86      , 17.67      ,\n",
              "       15.05      , 14.285     , 19.22      , 13.85      , 11.23      ,\n",
              "       19.05      ])"
            ]
          },
          "metadata": {},
          "execution_count": 40
        }
      ]
    },
    {
      "cell_type": "code",
      "source": [
        "ts_data_Y"
      ],
      "metadata": {
        "colab": {
          "base_uri": "https://localhost:8080/"
        },
        "id": "gP-juE7EkaBZ",
        "outputId": "3c437c17-b8fc-4cdd-b897-ccea0f5f1651"
      },
      "execution_count": 41,
      "outputs": [
        {
          "output_type": "execute_result",
          "data": {
            "text/plain": [
              "array([13.03, 14.6 ,  7.8 , 14.4 , 19.44,  7.3 ,  3.4 , 12.2 , 15.4 ,\n",
              "        5.  , 28.  , 18.35, 10.24, 15.38,  9.79, 14.9 , 20.15,  7.62,\n",
              "       12.52,  0.25, 15.85, 15.47, 15.35, 12.5 , 16.7 , 14.87, 17.75,\n",
              "       11.  ,  1.2 ,  8.3 , 14.2 , 16.3 , 15.  , 16.02, 12.4 , 10.12,\n",
              "       13.36, 14.5 , 18.58, 12.37, 12.46,  7.3 , 10.82, 18.6 ,  4.36,\n",
              "       17.3 , 12.7 , 14.3 , 14.62, 18.29, 15.76, 17.66,  7.9 , 15.86,\n",
              "       18.2 , 15.1 , 15.34, 19.13, 13.85, 10.4 , 16.1 ])"
            ]
          },
          "metadata": {},
          "execution_count": 41
        }
      ]
    },
    {
      "cell_type": "code",
      "source": [
        "from sklearn.metrics import r2_score,mean_squared_error,mean_absolute_percentage_error,fowlkes_mallows_score\n",
        "score_dtr=r2_score(ts_data_Y, y_pred_dtr)\n",
        "mse_dtr=mean_squared_error(ts_data_Y, y_pred_dtr)\n",
        "mape=mean_absolute_percentage_error(ts_data_Y, y_pred_dtr)\n",
        "mallow=fowlkes_mallows_score(ts_data_Y, y_pred_dtr)\n",
        "import scipy\n",
        "r_dtr=scipy.stats.pearsonr(ts_data_Y,y_pred_dtr)"
      ],
      "metadata": {
        "id": "SQGgXmNGJ9DO",
        "colab": {
          "base_uri": "https://localhost:8080/"
        },
        "outputId": "e172bb8e-a407-4ca2-951d-42e5d5d60932"
      },
      "execution_count": 42,
      "outputs": [
        {
          "output_type": "stream",
          "name": "stderr",
          "text": [
            "/usr/local/lib/python3.10/dist-packages/sklearn/metrics/cluster/_supervised.py:64: UserWarning: Clustering metrics expects discrete values but received continuous values for label, and continuous values for target\n",
            "  warnings.warn(msg, UserWarning)\n"
          ]
        }
      ]
    },
    {
      "cell_type": "code",
      "source": [
        "from sklearn.metrics import r2_score,mean_squared_error,mean_absolute_percentage_error,fowlkes_mallows_score\n",
        "score_dtr=r2_score(ts_data_Y, y_pred_dtr)\n",
        "mse_dtr=mean_squared_error(ts_data_Y, y_pred_dtr)\n",
        "mape=mean_absolute_percentage_error(ts_data_Y, y_pred_dtr)\n",
        "mallow=fowlkes_mallows_score(ts_data_Y, y_pred_dtr)\n",
        "import scipy\n",
        "r_dtr=scipy.stats.pearsonr(ts_data_Y,y_pred_dtr)\n",
        "from sklearn.metrics import mean_squared_log_error,mean_absolute_error\n",
        "msle=mean_squared_log_error(ts_data_Y, y_pred_dtr)\n",
        "mae=mean_absolute_error(ts_data_Y, y_pred_dtr)\n",
        "rmse=np.sqrt(mse_dtr)\n",
        "n = len(ts_data_Y)\n",
        "p = 6  # Number of predictors\n",
        "adjusted_r2 = 1 - (1 - score_dtr) * (n - 1) / (n - p - 1)\n",
        "mbe = np.mean(y_pred_dtr - ts_data_Y)\n",
        "rss = np.sum((y_pred_dtr - ts_data_Y)**2)\n",
        "mpe = np.mean((y_pred_dtr - ts_data_Y) / ts_data_Y) * 100\n",
        "print('R2_dtr=',score_dtr)\n",
        "print('mse_dtr=',mse_dtr)\n",
        "print('R score_dtr=',r_dtr[0])\n",
        "print('mape_dtr=',mape)\n",
        "print('mallow_dtr=',mallow)\n",
        "print('msle= ',msle)\n",
        "print('mae= ',mae)\n",
        "print('rmse= ',rmse)\n",
        "print('adjusted_r2=',adjusted_r2)\n",
        "print('mbe=',mbe)\n",
        "print('rss=',rss)\n",
        "print('mpe=',mpe)"
      ],
      "metadata": {
        "colab": {
          "base_uri": "https://localhost:8080/"
        },
        "id": "0VW6kG9aKDDk",
        "outputId": "b80c5b67-5529-4924-fa16-d1d8d7907e57"
      },
      "execution_count": 43,
      "outputs": [
        {
          "output_type": "stream",
          "name": "stdout",
          "text": [
            "R2_dtr= 0.9579345070232121\n",
            "mse_dtr= 0.9822821475409834\n",
            "R score_dtr= 0.9788088146518217\n",
            "mape_dtr= 0.05316117443616024\n",
            "mallow_dtr= 0.4472135954999579\n",
            "msle=  0.006411808429205234\n",
            "mae=  0.550945355191257\n",
            "rmse=  0.9911014819588272\n",
            "adjusted_r2= 0.9532605633591246\n",
            "mbe= 0.01424590163934439\n",
            "rss= 59.91921099999999\n",
            "mpe= 1.66136512270268\n"
          ]
        },
        {
          "output_type": "stream",
          "name": "stderr",
          "text": [
            "/usr/local/lib/python3.10/dist-packages/sklearn/metrics/cluster/_supervised.py:64: UserWarning: Clustering metrics expects discrete values but received continuous values for label, and continuous values for target\n",
            "  warnings.warn(msg, UserWarning)\n"
          ]
        }
      ]
    },
    {
      "cell_type": "code",
      "source": [
        "from sklearn.metrics import mean_squared_log_error,mean_absolute_error\n",
        "msle=mean_squared_log_error(ts_data_Y, y_pred_dtr)\n",
        "mae=mean_absolute_error(ts_data_Y, y_pred_dtr)\n",
        "rmse=np.sqrt(mse_dtr)\n",
        "print('msle= ',msle)\n",
        "print('mae= ',mae)\n",
        "print('rmse= ',rmse)"
      ],
      "metadata": {
        "colab": {
          "base_uri": "https://localhost:8080/"
        },
        "id": "Ycj8dvpbA3cf",
        "outputId": "700d8319-df90-4ed1-e4af-6f01f5d73843"
      },
      "execution_count": 44,
      "outputs": [
        {
          "output_type": "stream",
          "name": "stdout",
          "text": [
            "msle=  0.006411808429205234\n",
            "mae=  0.550945355191257\n",
            "rmse=  0.9911014819588272\n"
          ]
        }
      ]
    },
    {
      "cell_type": "code",
      "source": [
        "print('R2_dtr=',score_dtr)\n",
        "print('mse_dtr=',mse_dtr)\n",
        "print('R score_dtr=',r_dtr[0])\n",
        "print('mape_dtr=',mape)\n",
        "print('mallow_dtr=',mallow)"
      ],
      "metadata": {
        "colab": {
          "base_uri": "https://localhost:8080/"
        },
        "id": "3GcyMsuTKB2p",
        "outputId": "d0ad1971-d6ec-4205-9feb-5d10e1039e11"
      },
      "execution_count": 45,
      "outputs": [
        {
          "output_type": "stream",
          "name": "stdout",
          "text": [
            "R2_dtr= 0.9579345070232121\n",
            "mse_dtr= 0.9822821475409834\n",
            "R score_dtr= 0.9788088146518217\n",
            "mape_dtr= 0.05316117443616024\n",
            "mallow_dtr= 0.4472135954999579\n"
          ]
        }
      ]
    },
    {
      "cell_type": "code",
      "source": [
        "n = len(ts_data_Y)\n",
        "p = 6  # Number of predictors\n",
        "adjusted_r2 = 1 - (1 - score_dtr) * (n - 1) / (n - p - 1)\n",
        "mbe = np.mean(y_pred_dtr - ts_data_Y)\n",
        "rss = np.sum((y_pred_dtr - ts_data_Y)**2)\n",
        "mpe = np.mean((y_pred_dtr - ts_data_Y) / ts_data_Y) * 100\n",
        "print('adjusted_r2=',adjusted_r2)\n",
        "print('mbe=',mbe)\n",
        "print('rss=',rss)\n",
        "print('mpe=',mpe)"
      ],
      "metadata": {
        "colab": {
          "base_uri": "https://localhost:8080/"
        },
        "id": "Pxf3A0BaFdLT",
        "outputId": "e2547d8a-9301-4dfe-d9aa-855dbb64a2b7"
      },
      "execution_count": 46,
      "outputs": [
        {
          "output_type": "stream",
          "name": "stdout",
          "text": [
            "adjusted_r2= 0.9532605633591246\n",
            "mbe= 0.01424590163934439\n",
            "rss= 59.91921099999999\n",
            "mpe= 1.66136512270268\n"
          ]
        }
      ]
    },
    {
      "cell_type": "code",
      "source": [
        "import warnings\n",
        "import numpy as np\n",
        "import seaborn as sns\n",
        "import matplotlib.pyplot as plt\n",
        "import matplotlib as mpl\n",
        "\n",
        "# Ignore warnings\n",
        "warnings.filterwarnings('ignore')\n",
        "\n",
        "# Assuming you have defined 'ts_data_Y' and 'y_pred_dtr' before this code snippet\n",
        "\n",
        "# Perform linear regression and obtain the coefficients\n",
        "reg = np.polyfit(ts_data_Y, y_pred_dtr, deg=1)\n",
        "slope = reg[0]\n",
        "intercept = reg[1]\n",
        "\n",
        "# Generate the trend line for linear regression\n",
        "trend = slope * ts_data_Y + intercept\n",
        "\n",
        "# Set the style to a light blue or cyan background color\n",
        "plt.figure(figsize=(8, 5))\n",
        "sns.set_style({'axes.facecolor': '#E0FFFF'})  # Set your desired color here\n",
        "\n",
        "# Plot the scatter plot with the specified background color\n",
        "sns.scatterplot(x=ts_data_Y, y=y_pred_dtr, c='yellow', marker='*', edgecolor='black', s=300)\n",
        "mpl.rcParams['axes.linewidth'] = 2.5\n",
        "mpl.rcParams['xtick.major.width'] = 2.5  # Set your desired x-axis tick thickness here\n",
        "mpl.rcParams['ytick.major.width'] = 2.5\n",
        "# Plot the trend line\n",
        "plt.plot(ts_data_Y, trend, color='red', linewidth=2)\n",
        "\n",
        "# Customize the plot (xticks, yticks, labels, title, etc.)\n",
        "font1 = {'family': 'calibari', 'color': 'black', 'fontweight': 'bold', 'size': 18}\n",
        "plt.yticks(color='navy', fontweight='bold', size=12)\n",
        "plt.xlim(0, max(ts_data_Y) + 1)\n",
        "plt.ylim(0, max(y_pred_dtr) + 1)\n",
        "plt.xticks(color='navy', fontweight='bold', size=12)\n",
        "plt.xlabel('True PCE(%)', fontdict=font1)\n",
        "plt.ylabel('Predicted PCE(%)', fontdict=font1)\n",
        "# plt.title('Decisiontree regressor Plot', c='#6f045a', fontdict=font1)\n",
        "\n",
        "# Show the plot\n",
        "plt.show()\n"
      ],
      "metadata": {
        "colab": {
          "base_uri": "https://localhost:8080/",
          "height": 618
        },
        "id": "xGOmx10lIeyt",
        "outputId": "fbc26be4-e9cd-4c8e-d901-10d753fb3458"
      },
      "execution_count": 47,
      "outputs": [
        {
          "output_type": "stream",
          "name": "stderr",
          "text": [
            "WARNING:matplotlib.font_manager:findfont: Font family 'calibari' not found.\n",
            "WARNING:matplotlib.font_manager:findfont: Font family 'calibari' not found.\n",
            "WARNING:matplotlib.font_manager:findfont: Font family 'calibari' not found.\n",
            "WARNING:matplotlib.font_manager:findfont: Font family 'calibari' not found.\n",
            "WARNING:matplotlib.font_manager:findfont: Font family 'calibari' not found.\n",
            "WARNING:matplotlib.font_manager:findfont: Font family 'calibari' not found.\n",
            "WARNING:matplotlib.font_manager:findfont: Font family 'calibari' not found.\n",
            "WARNING:matplotlib.font_manager:findfont: Font family 'calibari' not found.\n"
          ]
        },
        {
          "output_type": "display_data",
          "data": {
            "text/plain": [
              "<Figure size 800x500 with 1 Axes>"
            ],
            "image/png": "[encoded data removed]"
          },
          "metadata": {}
        }
      ]
    },
    {
      "cell_type": "markdown",
      "source": [
        "XGBOOST REGRESSOR"
      ],
      "metadata": {
        "id": "iQGvzUodJT2C"
      }
    },
    {
      "cell_type": "code",
      "source": [
        "import time\n",
        "st = time.time()\n",
        "import xgboost as xgb\n",
        "reg = xgb.XGBRegressor(\n",
        "    n_estimators=100,\n",
        "    reg_lambda=1,\n",
        "    gamma=0,\n",
        "    max_depth=4\n",
        ")"
      ],
      "metadata": {
        "id": "DfFql03nJXWJ"
      },
      "execution_count": 48,
      "outputs": []
    },
    {
      "cell_type": "code",
      "source": [
        "reg.fit(tr_data_X, tr_data_Y)"
      ],
      "metadata": {
        "colab": {
          "base_uri": "https://localhost:8080/",
          "height": 248
        },
        "id": "ZcW-KBmlJayt",
        "outputId": "b18b4a8b-32c3-4482-df82-e1cc4a674ff8"
      },
      "execution_count": 49,
      "outputs": [
        {
          "output_type": "execute_result",
          "data": {
            "text/plain": [
              "XGBRegressor(base_score=None, booster=None, callbacks=None,\n",
              "             colsample_bylevel=None, colsample_bynode=None,\n",
              "             colsample_bytree=None, early_stopping_rounds=None,\n",
              "             enable_categorical=False, eval_metric=None, feature_types=None,\n",
              "             gamma=0, gpu_id=None, grow_policy=None, importance_type=None,\n",
              "             interaction_constraints=None, learning_rate=None, max_bin=None,\n",
              "             max_cat_threshold=None, max_cat_to_onehot=None,\n",
              "             max_delta_step=None, max_depth=4, max_leaves=None,\n",
              "             min_child_weight=None, missing=nan, monotone_constraints=None,\n",
              "             n_estimators=100, n_jobs=None, num_parallel_tree=None,\n",
              "             predictor=None, random_state=None, ...)"
            ],
            "text/html": [
              "<style>#sk-container-id-3 {color: black;background-color: white;}#sk-container-id-3 pre{padding: 0;}#sk-container-id-3 div.sk-toggleable {background-color: white;}#sk-container-id-3 label.sk-toggleable__label {cursor: pointer;display: block;width: 100%;margin-bottom: 0;padding: 0.3em;box-sizing: border-box;text-align: center;}#sk-container-id-3 label.sk-toggleable__label-arrow:before {content: \"▸\";float: left;margin-right: 0.25em;color: #696969;}#sk-container-id-3 label.sk-toggleable__label-arrow:hover:before {color: black;}#sk-container-id-3 div.sk-estimator:hover label.sk-toggleable__label-arrow:before {color: black;}#sk-container-id-3 div.sk-toggleable__content {max-height: 0;max-width: 0;overflow: hidden;text-align: left;background-color: #f0f8ff;}#sk-container-id-3 div.sk-toggleable__content pre {margin: 0.2em;color: black;border-radius: 0.25em;background-color: #f0f8ff;}#sk-container-id-3 input.sk-toggleable__control:checked~div.sk-toggleable__content {max-height: 200px;max-width: 100%;overflow: auto;}#sk-container-id-3 input.sk-toggleable__control:checked~label.sk-toggleable__label-arrow:before {content: \"▾\";}#sk-container-id-3 div.sk-estimator input.sk-toggleable__control:checked~label.sk-toggleable__label {background-color: #d4ebff;}#sk-container-id-3 div.sk-label input.sk-toggleable__control:checked~label.sk-toggleable__label {background-color: #d4ebff;}#sk-container-id-3 input.sk-hidden--visually {border: 0;clip: rect(1px 1px 1px 1px);clip: rect(1px, 1px, 1px, 1px);height: 1px;margin: -1px;overflow: hidden;padding: 0;position: absolute;width: 1px;}#sk-container-id-3 div.sk-estimator {font-family: monospace;background-color: #f0f8ff;border: 1px dotted black;border-radius: 0.25em;box-sizing: border-box;margin-bottom: 0.5em;}#sk-container-id-3 div.sk-estimator:hover {background-color: #d4ebff;}#sk-container-id-3 div.sk-parallel-item::after {content: \"\";width: 100%;border-bottom: 1px solid gray;flex-grow: 1;}#sk-container-id-3 div.sk-label:hover label.sk-toggleable__label {background-color: #d4ebff;}#sk-container-id-3 div.sk-serial::before {content: \"\";position: absolute;border-left: 1px solid gray;box-sizing: border-box;top: 0;bottom: 0;left: 50%;z-index: 0;}#sk-container-id-3 div.sk-serial {display: flex;flex-direction: column;align-items: center;background-color: white;padding-right: 0.2em;padding-left: 0.2em;position: relative;}#sk-container-id-3 div.sk-item {position: relative;z-index: 1;}#sk-container-id-3 div.sk-parallel {display: flex;align-items: stretch;justify-content: center;background-color: white;position: relative;}#sk-container-id-3 div.sk-item::before, #sk-container-id-3 div.sk-parallel-item::before {content: \"\";position: absolute;border-left: 1px solid gray;box-sizing: border-box;top: 0;bottom: 0;left: 50%;z-index: -1;}#sk-container-id-3 div.sk-parallel-item {display: flex;flex-direction: column;z-index: 1;position: relative;background-color: white;}#sk-container-id-3 div.sk-parallel-item:first-child::after {align-self: flex-end;width: 50%;}#sk-container-id-3 div.sk-parallel-item:last-child::after {align-self: flex-start;width: 50%;}#sk-container-id-3 div.sk-parallel-item:only-child::after {width: 0;}#sk-container-id-3 div.sk-dashed-wrapped {border: 1px dashed gray;margin: 0 0.4em 0.5em 0.4em;box-sizing: border-box;padding-bottom: 0.4em;background-color: white;}#sk-container-id-3 div.sk-label label {font-family: monospace;font-weight: bold;display: inline-block;line-height: 1.2em;}#sk-container-id-3 div.sk-label-container {text-align: center;}#sk-container-id-3 div.sk-container {/* jupyter's `normalize.less` sets `[hidden] { display: none; }` but bootstrap.min.css set `[hidden] { display: none !important; }` so we also need the `!important` here to be able to override the default hidden behavior on the sphinx rendered scikit-learn.org. See: https://github.com/scikit-learn/scikit-learn/issues/21755 */display: inline-block !important;position: relative;}#sk-container-id-3 div.sk-text-repr-fallback {display: none;}</style><div id=\"sk-container-id-3\" class=\"sk-top-container\"><div class=\"sk-text-repr-fallback\"><pre>XGBRegressor(base_score=None, booster=None, callbacks=None,\n",
              "             colsample_bylevel=None, colsample_bynode=None,\n",
              "             colsample_bytree=None, early_stopping_rounds=None,\n",
              "             enable_categorical=False, eval_metric=None, feature_types=None,\n",
              "             gamma=0, gpu_id=None, grow_policy=None, importance_type=None,\n",
              "             interaction_constraints=None, learning_rate=None, max_bin=None,\n",
              "             max_cat_threshold=None, max_cat_to_onehot=None,\n",
              "             max_delta_step=None, max_depth=4, max_leaves=None,\n",
              "             min_child_weight=None, missing=nan, monotone_constraints=None,\n",
              "             n_estimators=100, n_jobs=None, num_parallel_tree=None,\n",
              "             predictor=None, random_state=None, ...)</pre><b>In a Jupyter environment, please rerun this cell to show the HTML representation or trust the notebook. <br />On GitHub, the HTML representation is unable to render, please try loading this page with nbviewer.org.</b></div><div class=\"sk-container\" hidden><div class=\"sk-item\"><div class=\"sk-estimator sk-toggleable\"><input class=\"sk-toggleable__control sk-hidden--visually\" id=\"sk-estimator-id-3\" type=\"checkbox\" checked><label for=\"sk-estimator-id-3\" class=\"sk-toggleable__label sk-toggleable__label-arrow\">XGBRegressor</label><div class=\"sk-toggleable__content\"><pre>XGBRegressor(base_score=None, booster=None, callbacks=None,\n",
              "             colsample_bylevel=None, colsample_bynode=None,\n",
              "             colsample_bytree=None, early_stopping_rounds=None,\n",
              "             enable_categorical=False, eval_metric=None, feature_types=None,\n",
              "             gamma=0, gpu_id=None, grow_policy=None, importance_type=None,\n",
              "             interaction_constraints=None, learning_rate=None, max_bin=None,\n",
              "             max_cat_threshold=None, max_cat_to_onehot=None,\n",
              "             max_delta_step=None, max_depth=4, max_leaves=None,\n",
              "             min_child_weight=None, missing=nan, monotone_constraints=None,\n",
              "             n_estimators=100, n_jobs=None, num_parallel_tree=None,\n",
              "             predictor=None, random_state=None, ...)</pre></div></div></div></div></div>"
            ]
          },
          "metadata": {},
          "execution_count": 49
        }
      ]
    },
    {
      "cell_type": "code",
      "source": [
        "y_pred_xgb =reg.predict(ts_data_X)\n",
        "et = time.time()\n",
        "elapsed_time = et - st\n",
        "print('XGB:', elapsed_time, 'seconds')"
      ],
      "metadata": {
        "colab": {
          "base_uri": "https://localhost:8080/"
        },
        "id": "BwjpFyG2Jdh4",
        "outputId": "e1f96116-334f-42ef-87c5-d1b1d6d99656"
      },
      "execution_count": 50,
      "outputs": [
        {
          "output_type": "stream",
          "name": "stdout",
          "text": [
            "XGB: 0.3187563419342041 seconds\n"
          ]
        }
      ]
    },
    {
      "cell_type": "code",
      "source": [
        "y_pred_xgb"
      ],
      "metadata": {
        "colab": {
          "base_uri": "https://localhost:8080/"
        },
        "id": "DDz1YgLzmH9p",
        "outputId": "3db0d62a-0643-47b8-ed30-475add0eb79d"
      },
      "execution_count": 51,
      "outputs": [
        {
          "output_type": "execute_result",
          "data": {
            "text/plain": [
              "array([12.306976 , 14.046677 ,  7.785542 , 14.033399 , 15.236232 ,\n",
              "        7.8171825,  3.819329 , 12.752118 , 15.036647 ,  5.97872  ,\n",
              "       25.242678 , 18.4401   , 10.415771 , 12.470311 , 13.294735 ,\n",
              "       15.049716 , 18.036371 ,  8.161497 , 12.7747755,  2.0107937,\n",
              "       14.801258 , 15.483499 , 15.483499 , 12.5048   , 15.981607 ,\n",
              "       13.120264 , 14.251546 , 11.807087 ,  3.3338594,  9.550208 ,\n",
              "       13.508714 , 12.6265745, 15.076226 , 15.760584 , 12.4165   ,\n",
              "       11.3463545, 11.432045 , 13.679796 , 17.295723 , 12.013965 ,\n",
              "       12.013965 ,  7.666938 , 11.453712 , 18.01521  ,  5.2881722,\n",
              "       15.958208 , 14.684694 , 13.937981 , 13.476399 , 16.35057  ,\n",
              "       15.354308 , 17.219572 , 11.183791 , 16.044521 , 16.70939  ,\n",
              "       13.898987 , 11.910602 , 15.415968 , 13.818454 , 11.183791 ,\n",
              "       18.094873 ], dtype=float32)"
            ]
          },
          "metadata": {},
          "execution_count": 51
        }
      ]
    },
    {
      "cell_type": "code",
      "source": [
        "from sklearn.metrics import r2_score,mean_squared_error,mean_absolute_percentage_error,fowlkes_mallows_score\n",
        "R2_xgb =r2_score(ts_data_Y, y_pred_xgb)\n",
        "mse_xgb= mean_squared_error(ts_data_Y, y_pred_xgb)\n",
        "mape_xgb=mean_absolute_percentage_error(ts_data_Y, y_pred_xgb)\n",
        "mallows_xgb=fowlkes_mallows_score(ts_data_Y, y_pred_xgb)\n",
        "import scipy\n",
        "r_xgb=scipy.stats.pearsonr(ts_data_Y,y_pred_xgb)"
      ],
      "metadata": {
        "id": "U86x6ZdGLJRC"
      },
      "execution_count": 52,
      "outputs": []
    },
    {
      "cell_type": "code",
      "source": [
        "print('R2_xgb=',R2_xgb)\n",
        "print('mse_xgb=',mse_xgb)\n",
        "print('R score_xgb=',r_xgb[0])\n",
        "print('mape_xgb',mape_xgb)\n",
        "print('mallows_xgb',mallows_xgb)"
      ],
      "metadata": {
        "colab": {
          "base_uri": "https://localhost:8080/"
        },
        "id": "pxUuZbJGLNGG",
        "outputId": "244a6b91-2d5b-4511-83f5-10d0d5472486"
      },
      "execution_count": 53,
      "outputs": [
        {
          "output_type": "stream",
          "name": "stdout",
          "text": [
            "R2_xgb= 0.8876047433077768\n",
            "mse_xgb= 2.6245705518767823\n",
            "R score_xgb= 0.9545229752686128\n",
            "mape_xgb 0.22879912222762586\n",
            "mallows_xgb 0.0\n"
          ]
        }
      ]
    },
    {
      "cell_type": "code",
      "source": [
        "from sklearn.metrics import r2_score,mean_squared_error,mean_absolute_percentage_error,fowlkes_mallows_score\n",
        "score_xgb=r2_score(ts_data_Y, y_pred_xgb)\n",
        "mse_xgb=mean_squared_error(ts_data_Y, y_pred_xgb)\n",
        "mape=mean_absolute_percentage_error(ts_data_Y, y_pred_xgb)\n",
        "mallow=fowlkes_mallows_score(ts_data_Y, y_pred_xgb)\n",
        "import scipy\n",
        "r_dtr=scipy.stats.pearsonr(ts_data_Y,y_pred_xgb)\n",
        "from sklearn.metrics import mean_squared_log_error,mean_absolute_error\n",
        "msle=mean_squared_log_error(ts_data_Y, y_pred_xgb)\n",
        "mae=mean_absolute_error(ts_data_Y, y_pred_xgb)\n",
        "rmse=np.sqrt(mse_xgb)\n",
        "n = len(ts_data_Y)\n",
        "p = 6  # Number of predictors\n",
        "adjusted_r2 = 1 - (1 - score_dtr) * (n - 1) / (n - p - 1)\n",
        "mbe = np.mean(y_pred_xgb - ts_data_Y)\n",
        "rss = np.sum((y_pred_xgb - ts_data_Y)**2)\n",
        "mpe = np.mean((y_pred_xgb - ts_data_Y) / ts_data_Y) * 100\n",
        "print('R2_xgb=',score_xgb)\n",
        "print('mse_xgb=',mse_xgb)\n",
        "print('R score_xgb=',r_xgb[0])\n",
        "print('mape_xgb=',mape)\n",
        "print('mallow_xgb=',mallow)\n",
        "print('msle= ',msle)\n",
        "print('mae= ',mae)\n",
        "print('rmse= ',rmse)\n",
        "print('adjusted_r2=',adjusted_r2)\n",
        "print('mbe=',mbe)\n",
        "print('rss=',rss)\n",
        "print('mpe=',mpe)"
      ],
      "metadata": {
        "colab": {
          "base_uri": "https://localhost:8080/"
        },
        "id": "5KWZ-4G3KpUC",
        "outputId": "eb2a092a-93c4-42f8-96f7-39af47055ef7"
      },
      "execution_count": 54,
      "outputs": [
        {
          "output_type": "stream",
          "name": "stdout",
          "text": [
            "R2_xgb= 0.8876047433077768\n",
            "mse_xgb= 2.6245705518767823\n",
            "R score_xgb= 0.9545229752686128\n",
            "mape_xgb= 0.22879912222762586\n",
            "mallow_xgb= 0.0\n",
            "msle=  0.03199492012057716\n",
            "mae=  1.1693564119495325\n",
            "rmse=  1.6200526386129503\n",
            "adjusted_r2= 0.9532605633591246\n",
            "mbe= -0.357314983899476\n",
            "rss= 160.0988036644837\n",
            "mpe= 13.855199334299364\n"
          ]
        }
      ]
    },
    {
      "cell_type": "code",
      "source": [
        "import warnings\n",
        "import numpy as np\n",
        "import seaborn as sns\n",
        "import matplotlib.pyplot as plt\n",
        "import matplotlib as mpl\n",
        "# Ignore warnings\n",
        "warnings.filterwarnings('ignore')\n",
        "\n",
        "# Assuming you have defined 'ts_data_Y' and 'y_pred_dtr' before this code snippet\n",
        "\n",
        "# Perform linear regression and obtain the coefficients\n",
        "reg = np.polyfit(ts_data_Y, y_pred_xgb, deg=1)\n",
        "slope = reg[0]\n",
        "intercept = reg[1]\n",
        "\n",
        "# Generate the trend line for linear regression\n",
        "trend = slope * ts_data_Y + intercept\n",
        "\n",
        "# Set the style to a light blue or cyan background color\n",
        "plt.figure(figsize=(8, 5))\n",
        "sns.set_style({'axes.facecolor': '#E0FFFF'})  # Set your desired color here\n",
        "mpl.rcParams['axes.linewidth'] = 2.5\n",
        "mpl.rcParams['xtick.major.width'] = 2.5  # Set your desired x-axis tick thickness here\n",
        "mpl.rcParams['ytick.major.width'] = 2.5\n",
        "# Plot the scatter plot with the specified background color\n",
        "sns.scatterplot(x=ts_data_Y, y=y_pred_xgb, c='yellow', marker='*', edgecolor='black', s=300)\n",
        "\n",
        "# Plot the trend line\n",
        "plt.plot(ts_data_Y, trend, color='red', linewidth=2)\n",
        "\n",
        "# Customize the plot (xticks, yticks, labels, title, etc.)\n",
        "font1 = {'family': 'calibari', 'color': 'black', 'fontweight': 'bold', 'size': 18}\n",
        "plt.yticks(color='navy', fontweight='bold', size=12)\n",
        "plt.xlim(0, max(ts_data_Y) + 1)\n",
        "plt.ylim(0, max(y_pred_dtr) + 1)\n",
        "plt.xticks(color='navy', fontweight='bold', size=12)\n",
        "plt.xlabel('True PCE(%)', fontdict=font1)\n",
        "plt.ylabel('Predicted PCE(%)', fontdict=font1)\n",
        "# plt.title('Xgboost regressor Plot', c='#6f045a', fontdict=font1)\n",
        "\n",
        "# Show the plot\n",
        "plt.show()\n"
      ],
      "metadata": {
        "colab": {
          "base_uri": "https://localhost:8080/",
          "height": 618
        },
        "id": "io0t8PhbJh4J",
        "outputId": "ff01c37e-1c93-440e-96db-9aa000eb965f"
      },
      "execution_count": 55,
      "outputs": [
        {
          "output_type": "stream",
          "name": "stderr",
          "text": [
            "WARNING:matplotlib.font_manager:findfont: Font family 'calibari' not found.\n",
            "WARNING:matplotlib.font_manager:findfont: Font family 'calibari' not found.\n",
            "WARNING:matplotlib.font_manager:findfont: Font family 'calibari' not found.\n",
            "WARNING:matplotlib.font_manager:findfont: Font family 'calibari' not found.\n",
            "WARNING:matplotlib.font_manager:findfont: Font family 'calibari' not found.\n",
            "WARNING:matplotlib.font_manager:findfont: Font family 'calibari' not found.\n",
            "WARNING:matplotlib.font_manager:findfont: Font family 'calibari' not found.\n",
            "WARNING:matplotlib.font_manager:findfont: Font family 'calibari' not found.\n"
          ]
        },
        {
          "output_type": "display_data",
          "data": {
            "text/plain": [
              "<Figure size 800x500 with 1 Axes>"
            ],
            "image/png": "[encoded data removed]"
          },
          "metadata": {}
        }
      ]
    },
    {
      "cell_type": "markdown",
      "source": [
        "KNeighborsRegressor"
      ],
      "metadata": {
        "id": "dyzMZRpfJ49c"
      }
    },
    {
      "cell_type": "code",
      "source": [
        "import time\n",
        "st = time.time()\n",
        "from sklearn.neighbors import KNeighborsRegressor\n",
        "knn = KNeighborsRegressor(n_neighbors=3)\n",
        "knn.fit(tr_data_X,  tr_data_Y)"
      ],
      "metadata": {
        "colab": {
          "base_uri": "https://localhost:8080/",
          "height": 74
        },
        "id": "GfcUdmqdJwX4",
        "outputId": "a3f9bcfa-964d-478a-ed32-85b69fb91edb"
      },
      "execution_count": 56,
      "outputs": [
        {
          "output_type": "execute_result",
          "data": {
            "text/plain": [
              "KNeighborsRegressor(n_neighbors=3)"
            ],
            "text/html": [
              "<style>#sk-container-id-4 {color: black;background-color: white;}#sk-container-id-4 pre{padding: 0;}#sk-container-id-4 div.sk-toggleable {background-color: white;}#sk-container-id-4 label.sk-toggleable__label {cursor: pointer;display: block;width: 100%;margin-bottom: 0;padding: 0.3em;box-sizing: border-box;text-align: center;}#sk-container-id-4 label.sk-toggleable__label-arrow:before {content: \"▸\";float: left;margin-right: 0.25em;color: #696969;}#sk-container-id-4 label.sk-toggleable__label-arrow:hover:before {color: black;}#sk-container-id-4 div.sk-estimator:hover label.sk-toggleable__label-arrow:before {color: black;}#sk-container-id-4 div.sk-toggleable__content {max-height: 0;max-width: 0;overflow: hidden;text-align: left;background-color: #f0f8ff;}#sk-container-id-4 div.sk-toggleable__content pre {margin: 0.2em;color: black;border-radius: 0.25em;background-color: #f0f8ff;}#sk-container-id-4 input.sk-toggleable__control:checked~div.sk-toggleable__content {max-height: 200px;max-width: 100%;overflow: auto;}#sk-container-id-4 input.sk-toggleable__control:checked~label.sk-toggleable__label-arrow:before {content: \"▾\";}#sk-container-id-4 div.sk-estimator input.sk-toggleable__control:checked~label.sk-toggleable__label {background-color: #d4ebff;}#sk-container-id-4 div.sk-label input.sk-toggleable__control:checked~label.sk-toggleable__label {background-color: #d4ebff;}#sk-container-id-4 input.sk-hidden--visually {border: 0;clip: rect(1px 1px 1px 1px);clip: rect(1px, 1px, 1px, 1px);height: 1px;margin: -1px;overflow: hidden;padding: 0;position: absolute;width: 1px;}#sk-container-id-4 div.sk-estimator {font-family: monospace;background-color: #f0f8ff;border: 1px dotted black;border-radius: 0.25em;box-sizing: border-box;margin-bottom: 0.5em;}#sk-container-id-4 div.sk-estimator:hover {background-color: #d4ebff;}#sk-container-id-4 div.sk-parallel-item::after {content: \"\";width: 100%;border-bottom: 1px solid gray;flex-grow: 1;}#sk-container-id-4 div.sk-label:hover label.sk-toggleable__label {background-color: #d4ebff;}#sk-container-id-4 div.sk-serial::before {content: \"\";position: absolute;border-left: 1px solid gray;box-sizing: border-box;top: 0;bottom: 0;left: 50%;z-index: 0;}#sk-container-id-4 div.sk-serial {display: flex;flex-direction: column;align-items: center;background-color: white;padding-right: 0.2em;padding-left: 0.2em;position: relative;}#sk-container-id-4 div.sk-item {position: relative;z-index: 1;}#sk-container-id-4 div.sk-parallel {display: flex;align-items: stretch;justify-content: center;background-color: white;position: relative;}#sk-container-id-4 div.sk-item::before, #sk-container-id-4 div.sk-parallel-item::before {content: \"\";position: absolute;border-left: 1px solid gray;box-sizing: border-box;top: 0;bottom: 0;left: 50%;z-index: -1;}#sk-container-id-4 div.sk-parallel-item {display: flex;flex-direction: column;z-index: 1;position: relative;background-color: white;}#sk-container-id-4 div.sk-parallel-item:first-child::after {align-self: flex-end;width: 50%;}#sk-container-id-4 div.sk-parallel-item:last-child::after {align-self: flex-start;width: 50%;}#sk-container-id-4 div.sk-parallel-item:only-child::after {width: 0;}#sk-container-id-4 div.sk-dashed-wrapped {border: 1px dashed gray;margin: 0 0.4em 0.5em 0.4em;box-sizing: border-box;padding-bottom: 0.4em;background-color: white;}#sk-container-id-4 div.sk-label label {font-family: monospace;font-weight: bold;display: inline-block;line-height: 1.2em;}#sk-container-id-4 div.sk-label-container {text-align: center;}#sk-container-id-4 div.sk-container {/* jupyter's `normalize.less` sets `[hidden] { display: none; }` but bootstrap.min.css set `[hidden] { display: none !important; }` so we also need the `!important` here to be able to override the default hidden behavior on the sphinx rendered scikit-learn.org. See: https://github.com/scikit-learn/scikit-learn/issues/21755 */display: inline-block !important;position: relative;}#sk-container-id-4 div.sk-text-repr-fallback {display: none;}</style><div id=\"sk-container-id-4\" class=\"sk-top-container\"><div class=\"sk-text-repr-fallback\"><pre>KNeighborsRegressor(n_neighbors=3)</pre><b>In a Jupyter environment, please rerun this cell to show the HTML representation or trust the notebook. <br />On GitHub, the HTML representation is unable to render, please try loading this page with nbviewer.org.</b></div><div class=\"sk-container\" hidden><div class=\"sk-item\"><div class=\"sk-estimator sk-toggleable\"><input class=\"sk-toggleable__control sk-hidden--visually\" id=\"sk-estimator-id-4\" type=\"checkbox\" checked><label for=\"sk-estimator-id-4\" class=\"sk-toggleable__label sk-toggleable__label-arrow\">KNeighborsRegressor</label><div class=\"sk-toggleable__content\"><pre>KNeighborsRegressor(n_neighbors=3)</pre></div></div></div></div></div>"
            ]
          },
          "metadata": {},
          "execution_count": 56
        }
      ]
    },
    {
      "cell_type": "code",
      "source": [
        "y_pred_knn = knn.predict(ts_data_X)\n",
        "et = time.time()\n",
        "elapsed_time = et - st\n",
        "print('KNN:', elapsed_time, 'seconds')"
      ],
      "metadata": {
        "colab": {
          "base_uri": "https://localhost:8080/"
        },
        "id": "v8GuTdzRLu6P",
        "outputId": "13348482-7836-4a0e-b131-264174f72448"
      },
      "execution_count": 57,
      "outputs": [
        {
          "output_type": "stream",
          "name": "stdout",
          "text": [
            "KNN: 0.0208132266998291 seconds\n"
          ]
        }
      ]
    },
    {
      "cell_type": "code",
      "source": [
        "y_pred_knn"
      ],
      "metadata": {
        "colab": {
          "base_uri": "https://localhost:8080/"
        },
        "id": "VPO7R8r9nJLB",
        "outputId": "5dfa6bbd-8955-4805-d6ef-62ed9738c087"
      },
      "execution_count": 58,
      "outputs": [
        {
          "output_type": "execute_result",
          "data": {
            "text/plain": [
              "array([13.29      , 17.83333333,  6.86666667, 14.1       , 12.41333333,\n",
              "       13.93      ,  4.3       , 12.2       , 16.23333333,  7.80666667,\n",
              "       12.65      , 11.91666667, 12.09      , 14.16      , 13.25666667,\n",
              "       12.75      , 17.98      , 10.20666667, 11.96      ,  7.04      ,\n",
              "       14.25666667, 13.92      , 13.92      , 12.15333333, 16.21666667,\n",
              "       13.71      , 15.37333333, 13.04      ,  3.93666667,  8.09      ,\n",
              "       15.10666667, 11.64333333, 14.7       , 15.14333333, 12.26666667,\n",
              "       12.47666667, 13.37666667, 14.30333333, 17.97666667, 10.69666667,\n",
              "       10.69666667, 10.46666667, 10.19      , 16.3       ,  4.14333333,\n",
              "       14.19666667, 14.50333333, 10.97666667, 13.38333333, 16.61333333,\n",
              "       11.88666667, 12.30666667, 11.50666667, 14.33333333, 16.42333333,\n",
              "       15.11666667, 11.28333333, 18.81666667, 13.02666667, 11.50666667,\n",
              "       16.12333333])"
            ]
          },
          "metadata": {},
          "execution_count": 58
        }
      ]
    },
    {
      "cell_type": "code",
      "source": [
        "from sklearn.metrics import r2_score,mean_squared_error\n",
        "R2_knn =r2_score(ts_data_Y, y_pred_knn)\n",
        "mse_knn= mean_squared_error(ts_data_Y, y_pred_knn)\n",
        "import scipy\n",
        "r_knn=scipy.stats.pearsonr(ts_data_Y,y_pred_knn)"
      ],
      "metadata": {
        "id": "3dQH-8_nJ9aJ"
      },
      "execution_count": 59,
      "outputs": []
    },
    {
      "cell_type": "code",
      "source": [
        "print('R2_knn=',R2_knn)\n",
        "print('mse_knn=',mse_knn)\n",
        "print('R score_knn=',r_knn[0])"
      ],
      "metadata": {
        "colab": {
          "base_uri": "https://localhost:8080/"
        },
        "id": "QkzdfhYJLnCg",
        "outputId": "b5d8346b-e9d8-4e61-e41a-201d7ea377a3"
      },
      "execution_count": 60,
      "outputs": [
        {
          "output_type": "stream",
          "name": "stdout",
          "text": [
            "R2_knn= 0.5391150750918706\n",
            "mse_knn= 10.762242440801462\n",
            "R score_knn= 0.751373614841684\n"
          ]
        }
      ]
    },
    {
      "cell_type": "code",
      "source": [
        "from sklearn.metrics import r2_score,mean_squared_error,mean_absolute_percentage_error,fowlkes_mallows_score\n",
        "score_knn=r2_score(ts_data_Y, y_pred_knn)\n",
        "mse_knn=mean_squared_error(ts_data_Y, y_pred_knn)\n",
        "mape=mean_absolute_percentage_error(ts_data_Y, y_pred_knn)\n",
        "mallow=fowlkes_mallows_score(ts_data_Y, y_pred_knn)\n",
        "import scipy\n",
        "r_knn=scipy.stats.pearsonr(ts_data_Y,y_pred_knn)\n",
        "from sklearn.metrics import mean_squared_log_error,mean_absolute_error\n",
        "msle=mean_squared_log_error(ts_data_Y, y_pred_knn)\n",
        "mae=mean_absolute_error(ts_data_Y, y_pred_knn)\n",
        "rmse=np.sqrt(mse_knn)\n",
        "n = len(ts_data_Y)\n",
        "p = 6  # Number of predictors\n",
        "adjusted_r2 = 1 - (1 - score_knn) * (n - 1) / (n - p - 1)\n",
        "mbe = np.mean(y_pred_knn - ts_data_Y)\n",
        "rss = np.sum((y_pred_knn - ts_data_Y)**2)\n",
        "mpe = np.mean((y_pred_knn - ts_data_Y) / ts_data_Y) * 100\n",
        "print('R2_knn=',score_knn)\n",
        "print('mse_knn=',mse_knn)\n",
        "print('R score_knn=',r_knn[0])\n",
        "print('mape_knn=',mape)\n",
        "print('mallow_knn=',mallow)\n",
        "print('msle= ',msle)\n",
        "print('mae= ',mae)\n",
        "print('rmse= ',rmse)\n",
        "print('adjusted_r2=',adjusted_r2)\n",
        "print('mbe=',mbe)\n",
        "print('rss=',rss)\n",
        "print('mpe=',mpe)"
      ],
      "metadata": {
        "colab": {
          "base_uri": "https://localhost:8080/"
        },
        "id": "lzCkhCebdBNh",
        "outputId": "b443fc88-b227-4583-b1ac-a79e859f1c04"
      },
      "execution_count": 61,
      "outputs": [
        {
          "output_type": "stream",
          "name": "stdout",
          "text": [
            "R2_knn= 0.5391150750918706\n",
            "mse_knn= 10.762242440801462\n",
            "R score_knn= 0.751373614841684\n",
            "mape_knn= 0.6382048398052665\n",
            "mallow_knn= 0.0\n",
            "msle=  0.11040163060137566\n",
            "mae=  2.1777595628415303\n",
            "rmse=  3.2805856856362494\n",
            "adjusted_r2= 0.4879056389909674\n",
            "mbe= -0.6322950819672131\n",
            "rss= 656.4967888888891\n",
            "mpe= 47.55419860723119\n"
          ]
        }
      ]
    },
    {
      "cell_type": "code",
      "source": [
        "import warnings\n",
        "import numpy as np\n",
        "import seaborn as sns\n",
        "import matplotlib.pyplot as plt\n",
        "import matplotlib as mpl\n",
        "# Ignore warnings\n",
        "warnings.filterwarnings('ignore')\n",
        "\n",
        "# Assuming you have defined 'ts_data_Y' and 'y_pred_dtr' before this code snippet\n",
        "\n",
        "# Perform linear regression and obtain the coefficients\n",
        "reg = np.polyfit(ts_data_Y, y_pred_knn, deg=1)\n",
        "slope = reg[0]\n",
        "intercept = reg[1]\n",
        "\n",
        "# Generate the trend line for linear regression\n",
        "trend = slope * ts_data_Y + intercept\n",
        "\n",
        "# Set the style to a light blue or cyan background color\n",
        "plt.figure(figsize=(8, 5))\n",
        "sns.set_style({'axes.facecolor': '#E0FFFF'})  # Set your desired color here\n",
        "mpl.rcParams['axes.linewidth'] = 2.5\n",
        "mpl.rcParams['xtick.major.width'] = 2.5  # Set your desired x-axis tick thickness here\n",
        "mpl.rcParams['ytick.major.width'] = 2.5\n",
        "# Plot the scatter plot with the specified background color\n",
        "sns.scatterplot(x=ts_data_Y, y=y_pred_knn, c='yellow', marker='*', edgecolor='black', s=300)\n",
        "\n",
        "# Plot the trend line\n",
        "plt.plot(ts_data_Y, trend, color='red', linewidth=2)\n",
        "\n",
        "# Customize the plot (xticks, yticks, labels, title, etc.)\n",
        "font1 = {'family': 'calibari', 'color': 'black', 'fontweight': 'bold', 'size': 18}\n",
        "plt.yticks(color='navy', fontweight='bold', size=12)\n",
        "plt.xlim(0, max(ts_data_Y) + 1)\n",
        "plt.ylim(0, max(y_pred_knn) + 1)\n",
        "plt.xticks(color='navy', fontweight='bold', size=12)\n",
        "plt.xlabel('True PCE(%)', fontdict=font1)\n",
        "plt.ylabel('Predicted PCE(%)', fontdict=font1)\n",
        "# plt.title('Xgboost regressor Plot', c='#6f045a', fontdict=font1)\n",
        "\n",
        "# Show the plot\n",
        "plt.show()\n"
      ],
      "metadata": {
        "colab": {
          "base_uri": "https://localhost:8080/",
          "height": 618
        },
        "id": "Gk25TepjJ_tR",
        "outputId": "a8c5426e-2b3f-48f8-a1c5-2f872b6445ca"
      },
      "execution_count": 62,
      "outputs": [
        {
          "output_type": "stream",
          "name": "stderr",
          "text": [
            "WARNING:matplotlib.font_manager:findfont: Font family 'calibari' not found.\n",
            "WARNING:matplotlib.font_manager:findfont: Font family 'calibari' not found.\n",
            "WARNING:matplotlib.font_manager:findfont: Font family 'calibari' not found.\n",
            "WARNING:matplotlib.font_manager:findfont: Font family 'calibari' not found.\n",
            "WARNING:matplotlib.font_manager:findfont: Font family 'calibari' not found.\n",
            "WARNING:matplotlib.font_manager:findfont: Font family 'calibari' not found.\n",
            "WARNING:matplotlib.font_manager:findfont: Font family 'calibari' not found.\n",
            "WARNING:matplotlib.font_manager:findfont: Font family 'calibari' not found.\n"
          ]
        },
        {
          "output_type": "display_data",
          "data": {
            "text/plain": [
              "<Figure size 800x500 with 1 Axes>"
            ],
            "image/png": "[encoded data removed]"
          },
          "metadata": {}
        }
      ]
    },
    {
      "cell_type": "markdown",
      "source": [
        "SUPPORT VECTOR REGRESSOR"
      ],
      "metadata": {
        "id": "2oh_RmlJKYQM"
      }
    },
    {
      "cell_type": "code",
      "source": [
        "import time\n",
        "st = time.time()\n",
        "from sklearn.svm import SVR\n",
        "from sklearn.svm import SVR\n",
        "regressor = SVR(kernel = 'rbf')\n",
        "regressor.fit(tr_data_X, tr_data_Y)\n",
        "y_pred_svr = regressor.predict(ts_data_X)\n",
        "et = time.time()\n",
        "elapsed_time = et - st\n",
        "print('SVR:', elapsed_time, 'seconds')"
      ],
      "metadata": {
        "colab": {
          "base_uri": "https://localhost:8080/"
        },
        "id": "zELOsdYJKfi6",
        "outputId": "3599cd1e-c2b7-4eb4-bd0e-dbbaa270dc73"
      },
      "execution_count": 63,
      "outputs": [
        {
          "output_type": "stream",
          "name": "stdout",
          "text": [
            "SVR: 0.022348403930664062 seconds\n"
          ]
        }
      ]
    },
    {
      "cell_type": "code",
      "source": [
        "from sklearn.metrics import r2_score,mean_squared_error\n",
        "R2_svr =r2_score(ts_data_Y, y_pred_svr)\n",
        "mse_svr= mean_squared_error(ts_data_Y, y_pred_svr)\n",
        "import scipy\n",
        "r_svr=scipy.stats.pearsonr(ts_data_Y,y_pred_svr)"
      ],
      "metadata": {
        "id": "um4H5g6zKhhc"
      },
      "execution_count": 64,
      "outputs": []
    },
    {
      "cell_type": "code",
      "source": [
        "print('R2_svr=',R2_svr)\n",
        "print('mse_svr=',mse_svr)\n",
        "print('R score_svr=',r_svr[0])"
      ],
      "metadata": {
        "colab": {
          "base_uri": "https://localhost:8080/"
        },
        "id": "_d88eKerMe03",
        "outputId": "e1fb2e3d-1131-492d-e5de-49f178de9dd1"
      },
      "execution_count": 65,
      "outputs": [
        {
          "output_type": "stream",
          "name": "stdout",
          "text": [
            "R2_svr= 0.050322902739876274\n",
            "mse_svr= 22.176154195599644\n",
            "R score_svr= 0.2593779457845431\n"
          ]
        }
      ]
    },
    {
      "cell_type": "code",
      "source": [
        "# import matplotlib.pyplot as plt\n",
        "# plt.scatter(ts_data_Y, y_pred_svr)\n",
        "# plt.xlabel(\"Actual PCE\")\n",
        "# plt.ylabel(\"Predicted PCE\")\n",
        "# plt.show()"
      ],
      "metadata": {
        "id": "bEeCTGWhKlz5"
      },
      "execution_count": 66,
      "outputs": []
    },
    {
      "cell_type": "markdown",
      "source": [
        "RandomForestRegressor"
      ],
      "metadata": {
        "id": "VLqrwRo-K77n"
      }
    },
    {
      "cell_type": "code",
      "source": [
        "import time\n",
        "st = time.time()\n",
        "from sklearn.ensemble import RandomForestRegressor\n",
        "regressor = RandomForestRegressor(n_estimators = 100, random_state = None)\n",
        "regressor.fit(tr_data_X, tr_data_Y)\n",
        "y_pred_rf = regressor.predict(ts_data_X)\n",
        "et = time.time()\n",
        "elapsed_time = et - st\n",
        "print('RF:', elapsed_time, 'seconds')"
      ],
      "metadata": {
        "id": "XTH2C_V7KyLq",
        "colab": {
          "base_uri": "https://localhost:8080/"
        },
        "outputId": "c8c1d900-6cfd-428c-9491-5ae8eea46a23"
      },
      "execution_count": 67,
      "outputs": [
        {
          "output_type": "stream",
          "name": "stdout",
          "text": [
            "RF: 0.30613088607788086 seconds\n"
          ]
        }
      ]
    },
    {
      "cell_type": "code",
      "source": [
        "from sklearn.metrics import r2_score,mean_squared_error\n",
        "R2_rf =r2_score(ts_data_Y, y_pred_rf)\n",
        "mse_rf= mean_squared_error(ts_data_Y, y_pred_rf)\n",
        "import scipy\n",
        "r_rf=scipy.stats.pearsonr(ts_data_Y,y_pred_rf)"
      ],
      "metadata": {
        "id": "aGmwxLDPLBLY"
      },
      "execution_count": 68,
      "outputs": []
    },
    {
      "cell_type": "code",
      "source": [
        "print('R2_rf=',R2_rf)\n",
        "print('mse_rf=',mse_rf)\n",
        "print('R score_rf=',r_rf[0])"
      ],
      "metadata": {
        "colab": {
          "base_uri": "https://localhost:8080/"
        },
        "id": "jgVG2qOyM7S6",
        "outputId": "f15c7fa8-7164-404c-e99e-2c28900c7897"
      },
      "execution_count": 69,
      "outputs": [
        {
          "output_type": "stream",
          "name": "stdout",
          "text": [
            "R2_rf= 0.8724559482444698\n",
            "mse_rf= 2.9783139623166566\n",
            "R score_rf= 0.9539798158512107\n"
          ]
        }
      ]
    },
    {
      "cell_type": "code",
      "source": [
        "y_pred_rf"
      ],
      "metadata": {
        "colab": {
          "base_uri": "https://localhost:8080/"
        },
        "id": "DI-VOFb-n3s7",
        "outputId": "f87b3acd-6806-4b45-b7b7-63399382d208"
      },
      "execution_count": 70,
      "outputs": [
        {
          "output_type": "execute_result",
          "data": {
            "text/plain": [
              "array([12.63759333, 13.445     ,  8.3711    , 14.01411667, 16.16900417,\n",
              "        9.52686667,  4.43463333, 12.82693333, 15.36835   ,  5.90214   ,\n",
              "       20.98427333, 17.5924    , 10.83205   , 12.9147469 , 12.53925333,\n",
              "       16.03198333, 18.71946   ,  8.25966667, 12.358295  ,  4.1391    ,\n",
              "       15.41359   , 15.35528667, 15.35528667, 12.60215   , 15.93452143,\n",
              "       13.19482   , 14.88770655, 11.72183095,  2.87675   ,  9.25760661,\n",
              "       13.9375    , 14.6829    , 14.49256667, 15.54595   , 11.91418571,\n",
              "       11.79929667, 11.57883   , 14.26911667, 17.4397    , 12.12669333,\n",
              "       12.12669333,  9.30945   , 11.18494   , 17.448275  ,  4.48702393,\n",
              "       16.52403968, 14.54732905, 13.3143    , 13.20965333, 17.57716571,\n",
              "       14.19358667, 14.0267    , 11.20811949, 15.83876667, 16.83042333,\n",
              "       14.57503333, 13.592685  , 18.66090571, 13.4467    , 11.20811949,\n",
              "       18.61100238])"
            ]
          },
          "metadata": {},
          "execution_count": 70
        }
      ]
    },
    {
      "cell_type": "code",
      "source": [
        "from sklearn.metrics import r2_score,mean_squared_error,mean_absolute_percentage_error,fowlkes_mallows_score\n",
        "score_rf=r2_score(ts_data_Y, y_pred_rf)\n",
        "mse_rf=mean_squared_error(ts_data_Y, y_pred_rf)\n",
        "mape=mean_absolute_percentage_error(ts_data_Y, y_pred_rf)\n",
        "mallow=fowlkes_mallows_score(ts_data_Y, y_pred_rf)\n",
        "import scipy\n",
        "r_knn=scipy.stats.pearsonr(ts_data_Y,y_pred_rf)\n",
        "from sklearn.metrics import mean_squared_log_error,mean_absolute_error\n",
        "msle=mean_squared_log_error(ts_data_Y, y_pred_rf)\n",
        "mae=mean_absolute_error(ts_data_Y, y_pred_rf)\n",
        "rmse=np.sqrt(mse_rf)\n",
        "n = len(ts_data_Y)\n",
        "p = 6  # Number of predictors\n",
        "adjusted_r2 = 1 - (1 - score_rf) * (n - 1) / (n - p - 1)\n",
        "mbe = np.mean(y_pred_rf - ts_data_Y)\n",
        "rss = np.sum((y_pred_rf - ts_data_Y)**2)\n",
        "mpe = np.mean((y_pred_rf - ts_data_Y) / ts_data_Y) * 100\n",
        "print('R2_rf=',score_rf)\n",
        "print('mse_rf=',mse_rf)\n",
        "print('R score_rf=',r_rf[0])\n",
        "print('mape_rf=',mape)\n",
        "print('mallow_rf=',mallow)\n",
        "print('msle= ',msle)\n",
        "print('mae= ',mae)\n",
        "print('rmse= ',rmse)\n",
        "print('adjusted_r2=',adjusted_r2)\n",
        "print('mbe=',mbe)\n",
        "print('rss=',rss)\n",
        "print('mpe=',mpe)"
      ],
      "metadata": {
        "colab": {
          "base_uri": "https://localhost:8080/"
        },
        "id": "HKBlYYIpelZn",
        "outputId": "dbadbf9b-7e97-4124-ccdb-01b5edee4ad0"
      },
      "execution_count": 94,
      "outputs": [
        {
          "output_type": "stream",
          "name": "stdout",
          "text": [
            "R2_rf= 0.8724559482444698\n",
            "mse_rf= 2.9783139623166566\n",
            "R score_rf= 0.9539798158512107\n",
            "mape_rf= 0.36766687965793055\n",
            "mallow_rf= 0.0\n",
            "msle=  0.05007308247237786\n",
            "mae=  1.2336245525512746\n",
            "rmse=  1.7257792333658024\n",
            "adjusted_r2= 0.8582843869382998\n",
            "mbe= -0.23419399806022964\n",
            "rss= 181.67715170131606\n",
            "mpe= 28.34181013842762\n"
          ]
        }
      ]
    },
    {
      "cell_type": "code",
      "source": [
        "import warnings\n",
        "# Ignore the 'matplotlib.font_manager' warning\n",
        "warnings.filterwarnings('ignore', category=UserWarning, module='matplotlib.font_manager')\n",
        "# Your code for the scatter plot and other configurations\n",
        "sns.scatterplot(x=ts_data_Y, y=y_pred_rf, c='#008080', edgecolor='black', s=200)\n",
        "font1 = {'family': 'STIXGeneral', 'color': '#6f045a', 'fontweight': 'bold', 'size': 18}\n",
        "plt.yticks(color='navy', fontweight='bold', size=15)\n",
        "plt.xticks(color='navy', fontweight='bold', size=15)\n",
        "plt.xlabel('Actual pce', fontdict=font1)\n",
        "plt.ylabel('Predicted pce', fontdict=font1)\n",
        "plt.title('Randomforest plot', c='#6f045a', fontdict=font1)\n",
        "\n",
        "# Show the plot\n",
        "plt.show()\n"
      ],
      "metadata": {
        "colab": {
          "base_uri": "https://localhost:8080/",
          "height": 489
        },
        "id": "PxeNCs70LGyL",
        "outputId": "827f2cd1-943f-4774-e063-4aac257f92d5"
      },
      "execution_count": 71,
      "outputs": [
        {
          "output_type": "display_data",
          "data": {
            "text/plain": [
              "<Figure size 640x480 with 1 Axes>"
            ],
            "image/png": "[encoded data removed]"
          },
          "metadata": {}
        }
      ]
    },
    {
      "cell_type": "markdown",
      "source": [
        "AdaBoostRegressor"
      ],
      "metadata": {
        "id": "vkTT7xkDLcyl"
      }
    },
    {
      "cell_type": "code",
      "source": [
        "import time\n",
        "st = time.time()\n",
        "from sklearn.ensemble import AdaBoostRegressor\n",
        "from sklearn.datasets import make_regression"
      ],
      "metadata": {
        "id": "pnXNLZJxLUnl"
      },
      "execution_count": 72,
      "outputs": []
    },
    {
      "cell_type": "code",
      "source": [
        "ada_reg = AdaBoostRegressor(random_state=0, n_estimators=100)\n",
        "ada_reg.fit(tr_data_X,tr_data_Y)"
      ],
      "metadata": {
        "colab": {
          "base_uri": "https://localhost:8080/",
          "height": 74
        },
        "id": "IujCVkSgLg9_",
        "outputId": "aeab3423-ec0f-4eb5-9ffe-a24c693ee8f4"
      },
      "execution_count": 73,
      "outputs": [
        {
          "output_type": "execute_result",
          "data": {
            "text/plain": [
              "AdaBoostRegressor(n_estimators=100, random_state=0)"
            ],
            "text/html": [
              "<style>#sk-container-id-5 {color: black;background-color: white;}#sk-container-id-5 pre{padding: 0;}#sk-container-id-5 div.sk-toggleable {background-color: white;}#sk-container-id-5 label.sk-toggleable__label {cursor: pointer;display: block;width: 100%;margin-bottom: 0;padding: 0.3em;box-sizing: border-box;text-align: center;}#sk-container-id-5 label.sk-toggleable__label-arrow:before {content: \"▸\";float: left;margin-right: 0.25em;color: #696969;}#sk-container-id-5 label.sk-toggleable__label-arrow:hover:before {color: black;}#sk-container-id-5 div.sk-estimator:hover label.sk-toggleable__label-arrow:before {color: black;}#sk-container-id-5 div.sk-toggleable__content {max-height: 0;max-width: 0;overflow: hidden;text-align: left;background-color: #f0f8ff;}#sk-container-id-5 div.sk-toggleable__content pre {margin: 0.2em;color: black;border-radius: 0.25em;background-color: #f0f8ff;}#sk-container-id-5 input.sk-toggleable__control:checked~div.sk-toggleable__content {max-height: 200px;max-width: 100%;overflow: auto;}#sk-container-id-5 input.sk-toggleable__control:checked~label.sk-toggleable__label-arrow:before {content: \"▾\";}#sk-container-id-5 div.sk-estimator input.sk-toggleable__control:checked~label.sk-toggleable__label {background-color: #d4ebff;}#sk-container-id-5 div.sk-label input.sk-toggleable__control:checked~label.sk-toggleable__label {background-color: #d4ebff;}#sk-container-id-5 input.sk-hidden--visually {border: 0;clip: rect(1px 1px 1px 1px);clip: rect(1px, 1px, 1px, 1px);height: 1px;margin: -1px;overflow: hidden;padding: 0;position: absolute;width: 1px;}#sk-container-id-5 div.sk-estimator {font-family: monospace;background-color: #f0f8ff;border: 1px dotted black;border-radius: 0.25em;box-sizing: border-box;margin-bottom: 0.5em;}#sk-container-id-5 div.sk-estimator:hover {background-color: #d4ebff;}#sk-container-id-5 div.sk-parallel-item::after {content: \"\";width: 100%;border-bottom: 1px solid gray;flex-grow: 1;}#sk-container-id-5 div.sk-label:hover label.sk-toggleable__label {background-color: #d4ebff;}#sk-container-id-5 div.sk-serial::before {content: \"\";position: absolute;border-left: 1px solid gray;box-sizing: border-box;top: 0;bottom: 0;left: 50%;z-index: 0;}#sk-container-id-5 div.sk-serial {display: flex;flex-direction: column;align-items: center;background-color: white;padding-right: 0.2em;padding-left: 0.2em;position: relative;}#sk-container-id-5 div.sk-item {position: relative;z-index: 1;}#sk-container-id-5 div.sk-parallel {display: flex;align-items: stretch;justify-content: center;background-color: white;position: relative;}#sk-container-id-5 div.sk-item::before, #sk-container-id-5 div.sk-parallel-item::before {content: \"\";position: absolute;border-left: 1px solid gray;box-sizing: border-box;top: 0;bottom: 0;left: 50%;z-index: -1;}#sk-container-id-5 div.sk-parallel-item {display: flex;flex-direction: column;z-index: 1;position: relative;background-color: white;}#sk-container-id-5 div.sk-parallel-item:first-child::after {align-self: flex-end;width: 50%;}#sk-container-id-5 div.sk-parallel-item:last-child::after {align-self: flex-start;width: 50%;}#sk-container-id-5 div.sk-parallel-item:only-child::after {width: 0;}#sk-container-id-5 div.sk-dashed-wrapped {border: 1px dashed gray;margin: 0 0.4em 0.5em 0.4em;box-sizing: border-box;padding-bottom: 0.4em;background-color: white;}#sk-container-id-5 div.sk-label label {font-family: monospace;font-weight: bold;display: inline-block;line-height: 1.2em;}#sk-container-id-5 div.sk-label-container {text-align: center;}#sk-container-id-5 div.sk-container {/* jupyter's `normalize.less` sets `[hidden] { display: none; }` but bootstrap.min.css set `[hidden] { display: none !important; }` so we also need the `!important` here to be able to override the default hidden behavior on the sphinx rendered scikit-learn.org. See: https://github.com/scikit-learn/scikit-learn/issues/21755 */display: inline-block !important;position: relative;}#sk-container-id-5 div.sk-text-repr-fallback {display: none;}</style><div id=\"sk-container-id-5\" class=\"sk-top-container\"><div class=\"sk-text-repr-fallback\"><pre>AdaBoostRegressor(n_estimators=100, random_state=0)</pre><b>In a Jupyter environment, please rerun this cell to show the HTML representation or trust the notebook. <br />On GitHub, the HTML representation is unable to render, please try loading this page with nbviewer.org.</b></div><div class=\"sk-container\" hidden><div class=\"sk-item\"><div class=\"sk-estimator sk-toggleable\"><input class=\"sk-toggleable__control sk-hidden--visually\" id=\"sk-estimator-id-5\" type=\"checkbox\" checked><label for=\"sk-estimator-id-5\" class=\"sk-toggleable__label sk-toggleable__label-arrow\">AdaBoostRegressor</label><div class=\"sk-toggleable__content\"><pre>AdaBoostRegressor(n_estimators=100, random_state=0)</pre></div></div></div></div></div>"
            ]
          },
          "metadata": {},
          "execution_count": 73
        }
      ]
    },
    {
      "cell_type": "code",
      "source": [
        "AdaBoostRegressor(n_estimators=100, random_state=0)\n",
        "y_pred_AdB = np.array(ada_reg.predict(ts_data_X))\n",
        "et = time.time()\n",
        "elapsed_time = et - st\n",
        "print('ADB :', elapsed_time, 'seconds')"
      ],
      "metadata": {
        "colab": {
          "base_uri": "https://localhost:8080/"
        },
        "id": "8_2yRRR-Nbnz",
        "outputId": "e67e9683-6c4e-43d7-c3df-2ea27e40bee9"
      },
      "execution_count": 74,
      "outputs": [
        {
          "output_type": "stream",
          "name": "stdout",
          "text": [
            "ADB : 0.19722819328308105 seconds\n"
          ]
        }
      ]
    },
    {
      "cell_type": "code",
      "source": [
        "from sklearn.metrics import r2_score,mean_squared_error\n",
        "R2_AdB =r2_score(ts_data_Y, y_pred_AdB)\n",
        "mse_AdB= mean_squared_error(ts_data_Y, y_pred_AdB)\n",
        "import scipy\n",
        "r_AdB=scipy.stats.pearsonr(ts_data_Y,y_pred_AdB)"
      ],
      "metadata": {
        "id": "zaRFKdgfNilO"
      },
      "execution_count": 75,
      "outputs": []
    },
    {
      "cell_type": "code",
      "source": [
        "print('R2_AdB=',R2_AdB)\n",
        "print('mse_AdB=',mse_AdB)\n",
        "print('R score_AdB=',r_AdB[0])"
      ],
      "metadata": {
        "colab": {
          "base_uri": "https://localhost:8080/"
        },
        "id": "F0B2uIFlNlbr",
        "outputId": "db20c8e4-0a88-4a6a-ac61-6707ed4f8ef2"
      },
      "execution_count": 76,
      "outputs": [
        {
          "output_type": "stream",
          "name": "stdout",
          "text": [
            "R2_AdB= 0.17371533108176296\n",
            "mse_AdB= 19.294785859589698\n",
            "R score_AdB= 0.5758652974861871\n"
          ]
        }
      ]
    },
    {
      "cell_type": "code",
      "source": [
        "# import matplotlib.pyplot as plt\n",
        "# plt.scatter(ts_data_Y,y_pred_AdB)\n",
        "# plt.xlabel(\"Actual PCE\")\n",
        "# plt.ylabel(\"Predicted PCE\")\n",
        "# plt.show()"
      ],
      "metadata": {
        "id": "lKHE6tTqLmsd"
      },
      "execution_count": 77,
      "outputs": []
    },
    {
      "cell_type": "markdown",
      "source": [
        "LGBMRegressor"
      ],
      "metadata": {
        "id": "-f26JJtvL-fi"
      }
    },
    {
      "cell_type": "code",
      "source": [
        "import time\n",
        "st = time.time()\n",
        "from sklearn.datasets import make_regression\n",
        "from lightgbm import LGBMRegressor\n",
        "model_LGBM = LGBMRegressor()"
      ],
      "metadata": {
        "id": "rgBMbNBRL2fL"
      },
      "execution_count": 78,
      "outputs": []
    },
    {
      "cell_type": "code",
      "source": [
        "model_LGBM.fit(tr_data_X,tr_data_Y)"
      ],
      "metadata": {
        "colab": {
          "base_uri": "https://localhost:8080/",
          "height": 74
        },
        "id": "fVn4lBQ1MC-6",
        "outputId": "fb8b4613-7c1a-4f17-9dba-05989751f03c"
      },
      "execution_count": 79,
      "outputs": [
        {
          "output_type": "execute_result",
          "data": {
            "text/plain": [
              "LGBMRegressor()"
            ],
            "text/html": [
              "<style>#sk-container-id-6 {color: black;background-color: white;}#sk-container-id-6 pre{padding: 0;}#sk-container-id-6 div.sk-toggleable {background-color: white;}#sk-container-id-6 label.sk-toggleable__label {cursor: pointer;display: block;width: 100%;margin-bottom: 0;padding: 0.3em;box-sizing: border-box;text-align: center;}#sk-container-id-6 label.sk-toggleable__label-arrow:before {content: \"▸\";float: left;margin-right: 0.25em;color: #696969;}#sk-container-id-6 label.sk-toggleable__label-arrow:hover:before {color: black;}#sk-container-id-6 div.sk-estimator:hover label.sk-toggleable__label-arrow:before {color: black;}#sk-container-id-6 div.sk-toggleable__content {max-height: 0;max-width: 0;overflow: hidden;text-align: left;background-color: #f0f8ff;}#sk-container-id-6 div.sk-toggleable__content pre {margin: 0.2em;color: black;border-radius: 0.25em;background-color: #f0f8ff;}#sk-container-id-6 input.sk-toggleable__control:checked~div.sk-toggleable__content {max-height: 200px;max-width: 100%;overflow: auto;}#sk-container-id-6 input.sk-toggleable__control:checked~label.sk-toggleable__label-arrow:before {content: \"▾\";}#sk-container-id-6 div.sk-estimator input.sk-toggleable__control:checked~label.sk-toggleable__label {background-color: #d4ebff;}#sk-container-id-6 div.sk-label input.sk-toggleable__control:checked~label.sk-toggleable__label {background-color: #d4ebff;}#sk-container-id-6 input.sk-hidden--visually {border: 0;clip: rect(1px 1px 1px 1px);clip: rect(1px, 1px, 1px, 1px);height: 1px;margin: -1px;overflow: hidden;padding: 0;position: absolute;width: 1px;}#sk-container-id-6 div.sk-estimator {font-family: monospace;background-color: #f0f8ff;border: 1px dotted black;border-radius: 0.25em;box-sizing: border-box;margin-bottom: 0.5em;}#sk-container-id-6 div.sk-estimator:hover {background-color: #d4ebff;}#sk-container-id-6 div.sk-parallel-item::after {content: \"\";width: 100%;border-bottom: 1px solid gray;flex-grow: 1;}#sk-container-id-6 div.sk-label:hover label.sk-toggleable__label {background-color: #d4ebff;}#sk-container-id-6 div.sk-serial::before {content: \"\";position: absolute;border-left: 1px solid gray;box-sizing: border-box;top: 0;bottom: 0;left: 50%;z-index: 0;}#sk-container-id-6 div.sk-serial {display: flex;flex-direction: column;align-items: center;background-color: white;padding-right: 0.2em;padding-left: 0.2em;position: relative;}#sk-container-id-6 div.sk-item {position: relative;z-index: 1;}#sk-container-id-6 div.sk-parallel {display: flex;align-items: stretch;justify-content: center;background-color: white;position: relative;}#sk-container-id-6 div.sk-item::before, #sk-container-id-6 div.sk-parallel-item::before {content: \"\";position: absolute;border-left: 1px solid gray;box-sizing: border-box;top: 0;bottom: 0;left: 50%;z-index: -1;}#sk-container-id-6 div.sk-parallel-item {display: flex;flex-direction: column;z-index: 1;position: relative;background-color: white;}#sk-container-id-6 div.sk-parallel-item:first-child::after {align-self: flex-end;width: 50%;}#sk-container-id-6 div.sk-parallel-item:last-child::after {align-self: flex-start;width: 50%;}#sk-container-id-6 div.sk-parallel-item:only-child::after {width: 0;}#sk-container-id-6 div.sk-dashed-wrapped {border: 1px dashed gray;margin: 0 0.4em 0.5em 0.4em;box-sizing: border-box;padding-bottom: 0.4em;background-color: white;}#sk-container-id-6 div.sk-label label {font-family: monospace;font-weight: bold;display: inline-block;line-height: 1.2em;}#sk-container-id-6 div.sk-label-container {text-align: center;}#sk-container-id-6 div.sk-container {/* jupyter's `normalize.less` sets `[hidden] { display: none; }` but bootstrap.min.css set `[hidden] { display: none !important; }` so we also need the `!important` here to be able to override the default hidden behavior on the sphinx rendered scikit-learn.org. See: https://github.com/scikit-learn/scikit-learn/issues/21755 */display: inline-block !important;position: relative;}#sk-container-id-6 div.sk-text-repr-fallback {display: none;}</style><div id=\"sk-container-id-6\" class=\"sk-top-container\"><div class=\"sk-text-repr-fallback\"><pre>LGBMRegressor()</pre><b>In a Jupyter environment, please rerun this cell to show the HTML representation or trust the notebook. <br />On GitHub, the HTML representation is unable to render, please try loading this page with nbviewer.org.</b></div><div class=\"sk-container\" hidden><div class=\"sk-item\"><div class=\"sk-estimator sk-toggleable\"><input class=\"sk-toggleable__control sk-hidden--visually\" id=\"sk-estimator-id-6\" type=\"checkbox\" checked><label for=\"sk-estimator-id-6\" class=\"sk-toggleable__label sk-toggleable__label-arrow\">LGBMRegressor</label><div class=\"sk-toggleable__content\"><pre>LGBMRegressor()</pre></div></div></div></div></div>"
            ]
          },
          "metadata": {},
          "execution_count": 79
        }
      ]
    },
    {
      "cell_type": "code",
      "source": [
        "y_pred_LightGBM = np.array(model_LGBM.predict(ts_data_X))\n",
        "et = time.time()\n",
        "elapsed_time = et - st\n",
        "print('LGBM:', elapsed_time, 'seconds')"
      ],
      "metadata": {
        "id": "Xs4GPKEBMF3d",
        "colab": {
          "base_uri": "https://localhost:8080/"
        },
        "outputId": "2b0e7f32-9848-4c0a-bd8f-b1e2ca39e502"
      },
      "execution_count": 80,
      "outputs": [
        {
          "output_type": "stream",
          "name": "stdout",
          "text": [
            "LGBM: 0.9393649101257324 seconds\n"
          ]
        }
      ]
    },
    {
      "cell_type": "code",
      "source": [
        "y_pred_LightGBM"
      ],
      "metadata": {
        "colab": {
          "base_uri": "https://localhost:8080/"
        },
        "id": "4rbzGm659dYA",
        "outputId": "e20ed1ac-b024-48bd-b2ec-7cc968abfdb8"
      },
      "execution_count": 81,
      "outputs": [
        {
          "output_type": "execute_result",
          "data": {
            "text/plain": [
              "array([12.07880825, 11.81896898, 11.81896898, 14.06244914, 14.44393816,\n",
              "       11.23959777,  7.05926882, 13.18422472, 14.78072548,  7.22034578,\n",
              "       13.59424863, 16.49426628, 11.00349186, 12.90388268, 12.81481282,\n",
              "       14.90422035, 17.62088426, 10.03123241, 13.58792307,  5.1085847 ,\n",
              "       15.8951154 , 15.7349751 , 15.7349751 , 12.746247  , 14.75186967,\n",
              "       14.38776643, 14.07763697, 12.09035209,  4.80306025, 10.71470948,\n",
              "       13.46796197, 10.98138615, 13.42321258, 14.92699224, 12.59685003,\n",
              "       11.83212923, 10.83076148, 14.26413137, 16.45517689, 11.72484061,\n",
              "       11.72484061, 10.58526249,  9.52809108, 17.04064125,  6.86350573,\n",
              "       15.61807736, 14.37123008, 12.67560923, 13.16154822, 16.80106908,\n",
              "       12.78626163, 13.444481  , 11.68891911, 15.77203402, 16.34352307,\n",
              "       14.42466781, 11.78695038, 17.21343704, 13.31196382, 11.68891911,\n",
              "       16.99388231])"
            ]
          },
          "metadata": {},
          "execution_count": 81
        }
      ]
    },
    {
      "cell_type": "code",
      "source": [
        "from sklearn.metrics import r2_score,mean_squared_error\n",
        "R2_LightGBM =r2_score(ts_data_Y, y_pred_LightGBM)\n",
        "mse_LightGBM= mean_squared_error(ts_data_Y, y_pred_LightGBM)\n",
        "import scipy\n",
        "r_LightGBM=scipy.stats.pearsonr(ts_data_Y,y_pred_LightGBM)"
      ],
      "metadata": {
        "id": "n7_bs7o0MIW2"
      },
      "execution_count": 82,
      "outputs": []
    },
    {
      "cell_type": "code",
      "source": [
        "print('R2_LightGBM=',R2_LightGBM)\n",
        "print('mse_LightGBM=',mse_LightGBM)\n",
        "print('R score_LightGBM=',r_LightGBM[0])"
      ],
      "metadata": {
        "colab": {
          "base_uri": "https://localhost:8080/"
        },
        "id": "hoPPHrcxMKfU",
        "outputId": "9d9708cc-a114-42a2-d01f-b1a32fa32e6e"
      },
      "execution_count": 83,
      "outputs": [
        {
          "output_type": "stream",
          "name": "stdout",
          "text": [
            "R2_LightGBM= 0.6267013013955796\n",
            "mse_LightGBM= 8.716993939468255\n",
            "R score_LightGBM= 0.8360583269601641\n"
          ]
        }
      ]
    },
    {
      "cell_type": "code",
      "source": [
        "from sklearn.metrics import r2_score,mean_squared_error,mean_absolute_percentage_error,fowlkes_mallows_score\n",
        "score_LightGBM=r2_score(ts_data_Y, y_pred_LightGBM)\n",
        "mse_LightGBM=mean_squared_error(ts_data_Y, y_pred_LightGBM)\n",
        "mape=mean_absolute_percentage_error(ts_data_Y, y_pred_LightGBM)\n",
        "mallow=fowlkes_mallows_score(ts_data_Y, y_pred_LightGBM)\n",
        "import scipy\n",
        "r_LightGBM=scipy.stats.pearsonr(ts_data_Y,y_pred_LightGBM)\n",
        "from sklearn.metrics import mean_squared_log_error,mean_absolute_error\n",
        "msle=mean_squared_log_error(ts_data_Y, y_pred_LightGBM)\n",
        "mae=mean_absolute_error(ts_data_Y, y_pred_LightGBM)\n",
        "rmse=np.sqrt(mse_LightGBM)\n",
        "n = len(ts_data_Y)\n",
        "p = 6  # Number of predictors\n",
        "adjusted_r2 = 1 - (1 - score_LightGBM) * (n - 1) / (n - p - 1)\n",
        "mbe = np.mean(y_pred_LightGBM - ts_data_Y)\n",
        "rss = np.sum((y_pred_LightGBM - ts_data_Y)**2)\n",
        "mpe = np.mean((y_pred_LightGBM - ts_data_Y) / ts_data_Y) * 100\n",
        "print('R2_LightGBM=',score_LightGBM)\n",
        "print('mse_LightGBM=',mse_LightGBM)\n",
        "print('R score_LightGBM=',r_LightGBM[0])\n",
        "print('mape_LightGBM=',mape)\n",
        "print('mallow_LightGBM=',mallow)\n",
        "print('msle= ',msle)\n",
        "print('mae= ',mae)\n",
        "print('rmse= ',rmse)\n",
        "print('adjusted_r2=',adjusted_r2)\n",
        "print('mbe=',mbe)\n",
        "print('rss=',rss)\n",
        "print('mpe=',mpe)"
      ],
      "metadata": {
        "colab": {
          "base_uri": "https://localhost:8080/"
        },
        "id": "zj44Omxff6j9",
        "outputId": "0d761724-83c4-4d80-e4c7-6cc79c5ca694"
      },
      "execution_count": 95,
      "outputs": [
        {
          "output_type": "stream",
          "name": "stdout",
          "text": [
            "R2_LightGBM= 0.6267013013955796\n",
            "mse_LightGBM= 8.716993939468255\n",
            "R score_LightGBM= 0.8360583269601641\n",
            "mape_LightGBM= 0.5361178033369501\n",
            "mallow_LightGBM= 0.0\n",
            "msle=  0.09856374068265236\n",
            "mae=  2.0870442623008234\n",
            "rmse=  2.9524555778992263\n",
            "adjusted_r2= 0.5852236682173106\n",
            "mbe= -0.43646053135887386\n",
            "rss= 531.7366303075636\n",
            "mpe= 39.28367001402933\n"
          ]
        }
      ]
    },
    {
      "cell_type": "code",
      "source": [
        "import warnings\n",
        "# Ignore the 'matplotlib.font_manager' warning\n",
        "warnings.filterwarnings('ignore', category=UserWarning, module='matplotlib.font_manager')\n",
        "# Your code for the scatter plot and other configurations\n",
        "sns.scatterplot(x=ts_data_Y, y=y_pred_LightGBM, c='#008080', edgecolor='black', s=200)\n",
        "font1 = {'family': 'STIXGeneral', 'color': '#6f045a', 'fontweight': 'bold', 'size': 18}\n",
        "plt.yticks(color='navy', fontweight='bold', size=15)\n",
        "plt.xticks(color='navy', fontweight='bold', size=15)\n",
        "plt.xlabel('Actual pce', fontdict=font1)\n",
        "plt.ylabel('Predicted pce', fontdict=font1)\n",
        "plt.title('LightGBM plot', c='#6f045a', fontdict=font1)\n",
        "\n",
        "# Show the plot\n",
        "plt.show()\n"
      ],
      "metadata": {
        "colab": {
          "base_uri": "https://localhost:8080/",
          "height": 489
        },
        "id": "zIFqEJ3LMOEs",
        "outputId": "ed887231-0632-46fa-9885-3a4b039bb3e2"
      },
      "execution_count": 84,
      "outputs": [
        {
          "output_type": "display_data",
          "data": {
            "text/plain": [
              "<Figure size 640x480 with 1 Axes>"
            ],
            "image/png": "[encoded data removed]"
          },
          "metadata": {}
        }
      ]
    },
    {
      "cell_type": "code",
      "source": [
        "pip install catboost"
      ],
      "metadata": {
        "colab": {
          "base_uri": "https://localhost:8080/"
        },
        "id": "FCuAsBxMMb8v",
        "outputId": "a28977f3-c390-4237-ecf6-5d304ede9fc6"
      },
      "execution_count": 85,
      "outputs": [
        {
          "output_type": "stream",
          "name": "stdout",
          "text": [
            "Collecting catboost\n",
            "  Downloading catboost-1.2-cp310-cp310-manylinux2014_x86_64.whl (98.6 MB)\n",
            "\u001b[2K     \u001b[90m━━━━━━━━━━━━━━━━━━━━━━━━━━━━━━━━━━━━━━━━\u001b[0m \u001b[32m98.6/98.6 MB\u001b[0m \u001b[31m9.4 MB/s\u001b[0m eta \u001b[36m0:00:00\u001b[0m\n",
            "\u001b[?25hRequirement already satisfied: graphviz in /usr/local/lib/python3.10/dist-packages (from catboost) (0.20.1)\n",
            "Requirement already satisfied: matplotlib in /usr/local/lib/python3.10/dist-packages (from catboost) (3.7.1)\n",
            "Requirement already satisfied: numpy>=1.16.0 in /usr/local/lib/python3.10/dist-packages (from catboost) (1.23.5)\n",
            "Requirement already satisfied: pandas>=0.24 in /usr/local/lib/python3.10/dist-packages (from catboost) (1.5.3)\n",
            "Requirement already satisfied: scipy in /usr/local/lib/python3.10/dist-packages (from catboost) (1.10.1)\n",
            "Requirement already satisfied: plotly in /usr/local/lib/python3.10/dist-packages (from catboost) (5.13.1)\n",
            "Requirement already satisfied: six in /usr/local/lib/python3.10/dist-packages (from catboost) (1.16.0)\n",
            "Requirement already satisfied: python-dateutil>=2.8.1 in /usr/local/lib/python3.10/dist-packages (from pandas>=0.24->catboost) (2.8.2)\n",
            "Requirement already satisfied: pytz>=2020.1 in /usr/local/lib/python3.10/dist-packages (from pandas>=0.24->catboost) (2022.7.1)\n",
            "Requirement already satisfied: contourpy>=1.0.1 in /usr/local/lib/python3.10/dist-packages (from matplotlib->catboost) (1.1.0)\n",
            "Requirement already satisfied: cycler>=0.10 in /usr/local/lib/python3.10/dist-packages (from matplotlib->catboost) (0.11.0)\n",
            "Requirement already satisfied: fonttools>=4.22.0 in /usr/local/lib/python3.10/dist-packages (from matplotlib->catboost) (4.42.0)\n",
            "Requirement already satisfied: kiwisolver>=1.0.1 in /usr/local/lib/python3.10/dist-packages (from matplotlib->catboost) (1.4.4)\n",
            "Requirement already satisfied: packaging>=20.0 in /usr/local/lib/python3.10/dist-packages (from matplotlib->catboost) (23.1)\n",
            "Requirement already satisfied: pillow>=6.2.0 in /usr/local/lib/python3.10/dist-packages (from matplotlib->catboost) (9.4.0)\n",
            "Requirement already satisfied: pyparsing>=2.3.1 in /usr/local/lib/python3.10/dist-packages (from matplotlib->catboost) (3.1.1)\n",
            "Requirement already satisfied: tenacity>=6.2.0 in /usr/local/lib/python3.10/dist-packages (from plotly->catboost) (8.2.2)\n",
            "Installing collected packages: catboost\n",
            "Successfully installed catboost-1.2\n"
          ]
        }
      ]
    },
    {
      "cell_type": "code",
      "source": [
        "import time\n",
        "st = time.time()\n",
        "from catboost import CatBoostRegressor\n",
        "model=CatBoostRegressor(iterations=18, depth=4, learning_rate=0.1, loss_function='RMSE')\n",
        "model.fit(tr_data_X,tr_data_Y, eval_set=(ts_data_X,ts_data_Y),plot=True)\n",
        "y_pred_CatBoost = np.array(model.predict(ts_data_X))\n",
        "et = time.time()\n",
        "elapsed_time = et - st\n",
        "print('catboost:', elapsed_time, 'seconds')"
      ],
      "metadata": {
        "colab": {
          "base_uri": "https://localhost:8080/",
          "height": 416,
          "referenced_widgets": [
            "a0f75f8ab56644b4a6d2fd4692f04b6e"
          ]
        },
        "id": "FUYoflACMQz9",
        "outputId": "9687bb13-4aeb-46e7-d32c-f91a7e5c9c87"
      },
      "execution_count": 86,
      "outputs": [
        {
          "output_type": "display_data",
          "data": {
            "text/plain": [
              "MetricVisualizer(layout=Layout(align_self='stretch', height='500px'))"
            ],
            "application/vnd.jupyter.widget-view+json": {
              "version_major": 2,
              "version_minor": 0,
              "model_id": "a0f75f8ab56644b4a6d2fd4692f04b6e"
            }
          },
          "metadata": {}
        },
        {
          "output_type": "stream",
          "name": "stdout",
          "text": [
            "0:\tlearn: 4.2971598\ttest: 4.8636631\tbest: 4.8636631 (0)\ttotal: 46.7ms\tremaining: 794ms\n",
            "1:\tlearn: 4.2882878\ttest: 4.8582372\tbest: 4.8582372 (1)\ttotal: 47ms\tremaining: 376ms\n",
            "2:\tlearn: 4.2614906\ttest: 4.8331808\tbest: 4.8331808 (2)\ttotal: 47.3ms\tremaining: 236ms\n",
            "3:\tlearn: 4.2395926\ttest: 4.8217158\tbest: 4.8217158 (3)\ttotal: 47.7ms\tremaining: 167ms\n",
            "4:\tlearn: 4.2295193\ttest: 4.8007116\tbest: 4.8007116 (4)\ttotal: 48.2ms\tremaining: 125ms\n",
            "5:\tlearn: 4.2130467\ttest: 4.7827145\tbest: 4.7827145 (5)\ttotal: 48.6ms\tremaining: 97.2ms\n",
            "6:\tlearn: 4.1842256\ttest: 4.7497014\tbest: 4.7497014 (6)\ttotal: 49ms\tremaining: 77ms\n",
            "7:\tlearn: 4.1525513\ttest: 4.7242710\tbest: 4.7242710 (7)\ttotal: 49.5ms\tremaining: 61.8ms\n",
            "8:\tlearn: 4.1334289\ttest: 4.6871564\tbest: 4.6871564 (8)\ttotal: 50ms\tremaining: 50ms\n",
            "9:\tlearn: 4.1147822\ttest: 4.6639510\tbest: 4.6639510 (9)\ttotal: 50.4ms\tremaining: 40.3ms\n",
            "10:\tlearn: 4.1074603\ttest: 4.6632601\tbest: 4.6632601 (10)\ttotal: 50.9ms\tremaining: 32.4ms\n",
            "11:\tlearn: 4.1025806\ttest: 4.6622538\tbest: 4.6622538 (11)\ttotal: 51.3ms\tremaining: 25.7ms\n",
            "12:\tlearn: 4.0871909\ttest: 4.6341179\tbest: 4.6341179 (12)\ttotal: 51.8ms\tremaining: 19.9ms\n",
            "13:\tlearn: 4.0722242\ttest: 4.6102305\tbest: 4.6102305 (13)\ttotal: 52.3ms\tremaining: 14.9ms\n",
            "14:\tlearn: 4.0613622\ttest: 4.5939739\tbest: 4.5939739 (14)\ttotal: 52.8ms\tremaining: 10.6ms\n",
            "15:\tlearn: 4.0514213\ttest: 4.5891932\tbest: 4.5891932 (15)\ttotal: 53.3ms\tremaining: 6.66ms\n",
            "16:\tlearn: 4.0283221\ttest: 4.5544950\tbest: 4.5544950 (16)\ttotal: 53.8ms\tremaining: 3.16ms\n",
            "17:\tlearn: 4.0117734\ttest: 4.5324378\tbest: 4.5324378 (17)\ttotal: 54.2ms\tremaining: 0us\n",
            "\n",
            "bestTest = 4.532437808\n",
            "bestIteration = 17\n",
            "\n",
            "catboost: 0.13602852821350098 seconds\n"
          ]
        }
      ]
    },
    {
      "cell_type": "code",
      "source": [
        "from sklearn.metrics import r2_score,mean_squared_error\n",
        "R2_CatBoost =r2_score(ts_data_Y, y_pred_CatBoost)\n",
        "mse_CatBoost= mean_squared_error(ts_data_Y,y_pred_CatBoost)\n",
        "import scipy\n",
        "r_CatBoost=scipy.stats.pearsonr(ts_data_Y,y_pred_CatBoost)"
      ],
      "metadata": {
        "id": "PyM_-Gx5MZS5"
      },
      "execution_count": 87,
      "outputs": []
    },
    {
      "cell_type": "code",
      "source": [
        "print('R2_CatBoost=',R2_CatBoost)\n",
        "print('mse_CatBoost=',mse_CatBoost)\n",
        "print('R score_CatBoost=',r_CatBoost[0])"
      ],
      "metadata": {
        "colab": {
          "base_uri": "https://localhost:8080/"
        },
        "id": "lLL2DvlzMrWj",
        "outputId": "4e542ade-8c8b-4e6b-8473-66e875112a5e"
      },
      "execution_count": 88,
      "outputs": [
        {
          "output_type": "stream",
          "name": "stdout",
          "text": [
            "R2_CatBoost= 0.12026183070611496\n",
            "mse_CatBoost= 20.54299229738297\n",
            "R score_CatBoost= 0.655212911331135\n"
          ]
        }
      ]
    },
    {
      "cell_type": "markdown",
      "source": [
        "ANN"
      ],
      "metadata": {
        "id": "2ogyY6_aNSrh"
      }
    },
    {
      "cell_type": "markdown",
      "source": [
        "ANN"
      ],
      "metadata": {
        "id": "kJNqO2NUbuyy"
      }
    },
    {
      "cell_type": "code",
      "source": [
        "import tensorflow as tf\n",
        "import time\n"
      ],
      "metadata": {
        "id": "laDBhJ21MwlA"
      },
      "execution_count": 89,
      "outputs": []
    },
    {
      "cell_type": "code",
      "source": [
        "from keras.models import Sequential\n",
        "from keras.layers import Dense\n",
        "from sklearn.metrics import mean_squared_error\n",
        "np.random.seed(seed=8)\n",
        "model = Sequential()\n",
        "model.add(Dense(units=20, input_dim=6, kernel_initializer='normal', activation='relu'))\n",
        "model.add(Dense(units=20, kernel_initializer='normal', activation='tanh'))\n",
        "model.add(Dense(1, kernel_initializer='normal'))\n",
        "model.compile(loss='mean_squared_error', optimizer='adam')\n",
        "model.fit(tr_data_X, tr_data_Y ,batch_size = 8, epochs = 100,verbose=0)\n",
        "pred=model.predict(ts_data_X)\n",
        "pred_ANN=[]\n",
        "for i in pred:\n",
        "  pred_ANN.append(i[0])\n",
        "pred_ANN=np.array(pred_ANN)\n",
        "rms = mean_squared_error(pred_ANN, ts_data_Y, squared=False)\n",
        "print(rms)"
      ],
      "metadata": {
        "colab": {
          "base_uri": "https://localhost:8080/"
        },
        "id": "sxCK3HzgNW7Z",
        "outputId": "a71ed170-6d38-4472-f91b-f06c61d5d634"
      },
      "execution_count": 90,
      "outputs": [
        {
          "output_type": "stream",
          "name": "stdout",
          "text": [
            "2/2 [==============================] - 0s 4ms/step\n",
            "4.875717788008444\n"
          ]
        }
      ]
    },
    {
      "cell_type": "code",
      "source": [
        "from sklearn.metrics import r2_score,mean_squared_error\n",
        "R2_ANN =r2_score(ts_data_Y, pred_ANN)\n",
        "mse_ANN= mean_squared_error(ts_data_Y,pred_ANN)\n",
        "import scipy\n",
        "r_ANN=scipy.stats.pearsonr(ts_data_Y,pred_ANN)"
      ],
      "metadata": {
        "id": "mlPgRwqtNaal"
      },
      "execution_count": 91,
      "outputs": []
    },
    {
      "cell_type": "code",
      "source": [
        "print('R2_ANN=',R2_ANN)\n",
        "print('mse_ANN=',mse_ANN)\n",
        "print('R score_ANN=',r_ANN[0])"
      ],
      "metadata": {
        "colab": {
          "base_uri": "https://localhost:8080/"
        },
        "id": "u2j_m3RFNp-Q",
        "outputId": "1ecfc2ca-e044-4a4b-e9d4-9837a78225e9"
      },
      "execution_count": 92,
      "outputs": [
        {
          "output_type": "stream",
          "name": "stdout",
          "text": [
            "R2_ANN= -0.018044711736341812\n",
            "mse_ANN= 23.772623948301955\n",
            "R score_ANN= -0.18757612830280562\n"
          ]
        }
      ]
    },
    {
      "cell_type": "code",
      "source": [
        "# print('R2_LR=',score_lr)\n",
        "# print('mse_LR=',mse_lr)\n",
        "# print('R score_LR=',r_lr[0])\n",
        "print('-----------------------------------------')\n",
        "print('R2_dtr=',score_dtr)\n",
        "print('mse_dtr=',mse_dtr)\n",
        "print('R score_dtr=',r_dtr[0])\n",
        "print('-----------------------------------------')\n",
        "print('R2_xgb=',R2_xgb)\n",
        "print('mse_xgb=',mse_xgb)\n",
        "print('R score_xgb=',r_xgb[0])\n",
        "print('-----------------------------------------')\n",
        "print('R2_knn=',R2_knn)\n",
        "print('mse_knn=',mse_knn)\n",
        "print('R score_knn=',r_knn[0])\n",
        "print('-----------------------------------------')\n",
        "print('R2_svr=',R2_svr)\n",
        "print('mse_svr=',mse_svr)\n",
        "print('R score_svr=',r_svr[0])\n",
        "print('-----------------------------------------')\n",
        "print('R2_rf=',R2_rf)\n",
        "print('mse_rf=',mse_rf)\n",
        "print('R score_rf=',r_rf[0])\n",
        "print('-----------------------------------------')\n",
        "print('R2_AdB=',R2_AdB)\n",
        "print('mse_AdB=',mse_AdB)\n",
        "print('R score_AdB=',r_AdB[0])\n",
        "print('-----------------------------------------')\n",
        "print('R2_LightGBM=',R2_LightGBM)\n",
        "print('mse_LightGBM=',mse_LightGBM)\n",
        "print('R score_LightGBM=',r_LightGBM[0])\n",
        "print('-----------------------------------------')\n",
        "print('R2_CatBoost=',R2_CatBoost)\n",
        "print('mse_CatBoost=',mse_CatBoost)\n",
        "print('R score_CatBoost=',r_CatBoost[0])\n",
        "print('-----------------------------------------')\n",
        "print('R2_ANN=',R2_ANN)\n",
        "print('mse_ANN=',mse_ANN)\n",
        "print('R score_ANN=',r_ANN[0])"
      ],
      "metadata": {
        "id": "pQur5EwGNtEB",
        "colab": {
          "base_uri": "https://localhost:8080/"
        },
        "outputId": "2dd3d91e-133b-4be6-a3ae-44774f9aa045"
      },
      "execution_count": 93,
      "outputs": [
        {
          "output_type": "stream",
          "name": "stdout",
          "text": [
            "-----------------------------------------\n",
            "R2_dtr= 0.9579345070232121\n",
            "mse_dtr= 0.9822821475409834\n",
            "R score_dtr= 0.9545229752686128\n",
            "-----------------------------------------\n",
            "R2_xgb= 0.8876047433077768\n",
            "mse_xgb= 2.6245705518767823\n",
            "R score_xgb= 0.9545229752686128\n",
            "-----------------------------------------\n",
            "R2_knn= 0.5391150750918706\n",
            "mse_knn= 10.762242440801462\n",
            "R score_knn= 0.751373614841684\n",
            "-----------------------------------------\n",
            "R2_svr= 0.050322902739876274\n",
            "mse_svr= 22.176154195599644\n",
            "R score_svr= 0.2593779457845431\n",
            "-----------------------------------------\n",
            "R2_rf= 0.8724559482444698\n",
            "mse_rf= 2.9783139623166566\n",
            "R score_rf= 0.9539798158512107\n",
            "-----------------------------------------\n",
            "R2_AdB= 0.17371533108176296\n",
            "mse_AdB= 19.294785859589698\n",
            "R score_AdB= 0.5758652974861871\n",
            "-----------------------------------------\n",
            "R2_LightGBM= 0.6267013013955796\n",
            "mse_LightGBM= 8.716993939468255\n",
            "R score_LightGBM= 0.8360583269601641\n",
            "-----------------------------------------\n",
            "R2_CatBoost= 0.12026183070611496\n",
            "mse_CatBoost= 20.54299229738297\n",
            "R score_CatBoost= 0.655212911331135\n",
            "-----------------------------------------\n",
            "R2_ANN= -0.018044711736341812\n",
            "mse_ANN= 23.772623948301955\n",
            "R score_ANN= -0.18757612830280562\n"
          ]
        }
      ]
    },
    {
      "cell_type": "code",
      "source": [],
      "metadata": {
        "id": "MPCXhOS9O6rk"
      },
      "execution_count": 93,
      "outputs": []
    }
  ]
}