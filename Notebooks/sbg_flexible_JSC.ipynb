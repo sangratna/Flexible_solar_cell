{
  "nbformat": 4,
  "nbformat_minor": 0,
  "metadata": {
    "colab": {
      "provenance": []
    },
    "kernelspec": {
      "name": "python3",
      "display_name": "Python 3"
    },
    "language_info": {
      "name": "python"
    },
    "widgets": {
      "application/vnd.jupyter.widget-state+json": {
        "223be77eb3164e349c78cb0644841cdf": {
          "model_module": "catboost-widget",
          "model_name": "CatboostWidgetModel",
          "model_module_version": "^1.0.0",
          "state": {
            "_dom_classes": [],
            "_model_module": "catboost-widget",
            "_model_module_version": "^1.0.0",
            "_model_name": "CatboostWidgetModel",
            "_view_count": null,
            "_view_module": "catboost-widget",
            "_view_module_version": "^1.0.0",
            "_view_name": "CatboostWidgetView",
            "data": {
              "catboost_info": {
                "path": "catboost_info",
                "name": "catboost_info",
                "content": {
                  "passed_iterations": 17,
                  "total_iterations": 18,
                  "data": {
                    "iterations": [
                      {
                        "learn": [
                          3.879326281
                        ],
                        "iteration": 0,
                        "passed_time": 0.04756536954,
                        "remaining_time": 0.8086112822,
                        "test": [
                          4.315053859
                        ]
                      },
                      {
                        "learn": [
                          3.867049584
                        ],
                        "iteration": 1,
                        "passed_time": 0.04795006936,
                        "remaining_time": 0.3836005549,
                        "test": [
                          4.318552906
                        ]
                      },
                      {
                        "learn": [
                          3.848843134
                        ],
                        "iteration": 2,
                        "passed_time": 0.04871421483,
                        "remaining_time": 0.2435710741,
                        "test": [
                          4.315399823
                        ]
                      },
                      {
                        "learn": [
                          3.830901285
                        ],
                        "iteration": 3,
                        "passed_time": 0.04955070038,
                        "remaining_time": 0.1734274513,
                        "test": [
                          4.29280302
                        ]
                      },
                      {
                        "learn": [
                          3.80034691
                        ],
                        "iteration": 4,
                        "passed_time": 0.05008496543,
                        "remaining_time": 0.1302209101,
                        "test": [
                          4.250796946
                        ]
                      },
                      {
                        "learn": [
                          3.78662571
                        ],
                        "iteration": 5,
                        "passed_time": 0.050670413,
                        "remaining_time": 0.101340826,
                        "test": [
                          4.232254744
                        ]
                      },
                      {
                        "learn": [
                          3.772338314
                        ],
                        "iteration": 6,
                        "passed_time": 0.05109798068,
                        "remaining_time": 0.08029682678,
                        "test": [
                          4.214393614
                        ]
                      },
                      {
                        "learn": [
                          3.755329991
                        ],
                        "iteration": 7,
                        "passed_time": 0.05157586086,
                        "remaining_time": 0.06446982608,
                        "test": [
                          4.197648931
                        ]
                      },
                      {
                        "learn": [
                          3.7457738
                        ],
                        "iteration": 8,
                        "passed_time": 0.05253718358,
                        "remaining_time": 0.05253718358,
                        "test": [
                          4.194031533
                        ]
                      },
                      {
                        "learn": [
                          3.739668355
                        ],
                        "iteration": 9,
                        "passed_time": 0.05325163701,
                        "remaining_time": 0.04260130961,
                        "test": [
                          4.18355556
                        ]
                      },
                      {
                        "learn": [
                          3.732316385
                        ],
                        "iteration": 10,
                        "passed_time": 0.05401920844,
                        "remaining_time": 0.03437585991,
                        "test": [
                          4.176447368
                        ]
                      },
                      {
                        "learn": [
                          3.722635918
                        ],
                        "iteration": 11,
                        "passed_time": 0.05486943463,
                        "remaining_time": 0.02743471732,
                        "test": [
                          4.165107223
                        ]
                      },
                      {
                        "learn": [
                          3.710031574
                        ],
                        "iteration": 12,
                        "passed_time": 0.0556024715,
                        "remaining_time": 0.02138556596,
                        "test": [
                          4.144780737
                        ]
                      },
                      {
                        "learn": [
                          3.704874257
                        ],
                        "iteration": 13,
                        "passed_time": 0.05658340221,
                        "remaining_time": 0.01616668635,
                        "test": [
                          4.142220833
                        ]
                      },
                      {
                        "learn": [
                          3.696842021
                        ],
                        "iteration": 14,
                        "passed_time": 0.05725549097,
                        "remaining_time": 0.01145109819,
                        "test": [
                          4.134660452
                        ]
                      },
                      {
                        "learn": [
                          3.680261206
                        ],
                        "iteration": 15,
                        "passed_time": 0.05801269543,
                        "remaining_time": 0.007251586929,
                        "test": [
                          4.128156364
                        ]
                      },
                      {
                        "learn": [
                          3.666917565
                        ],
                        "iteration": 16,
                        "passed_time": 0.0585528842,
                        "remaining_time": 0.003444287306,
                        "test": [
                          4.124768317
                        ]
                      },
                      {
                        "learn": [
                          3.655464597
                        ],
                        "iteration": 17,
                        "passed_time": 0.05907666229,
                        "remaining_time": 0,
                        "test": [
                          4.099573747
                        ]
                      }
                    ],
                    "meta": {
                      "test_sets": [
                        "test"
                      ],
                      "test_metrics": [
                        {
                          "best_value": "Min",
                          "name": "RMSE"
                        }
                      ],
                      "learn_metrics": [
                        {
                          "best_value": "Min",
                          "name": "RMSE"
                        }
                      ],
                      "launch_mode": "Train",
                      "parameters": "",
                      "iteration_count": 18,
                      "learn_sets": [
                        "learn"
                      ],
                      "name": "experiment"
                    }
                  }
                }
              }
            },
            "layout": "IPY_MODEL_a4f9c0c9e09a4b0b85588c1a494cb981"
          }
        }
      }
    }
  },
  "cells": [
    {
      "cell_type": "code",
      "execution_count": 30,
      "metadata": {
        "id": "A02Yq19tFfAh"
      },
      "outputs": [],
      "source": [
        "import pandas as pd\n",
        "import numpy as np\n",
        "import matplotlib.pyplot as plt"
      ]
    },
    {
      "cell_type": "code",
      "source": [
        "df = pd.read_csv('/content/flexible solar cell.csv')\n",
        "df"
      ],
      "metadata": {
        "colab": {
          "base_uri": "https://localhost:8080/",
          "height": 423
        },
        "id": "4uqVh2POFuZD",
        "outputId": "6e5f1b8c-b453-4646-a565-f9f47a5b0ebf"
      },
      "execution_count": 31,
      "outputs": [
        {
          "output_type": "execute_result",
          "data": {
            "text/plain": [
              "     ?H(DOI)  ?L(DOI)  Cell_area_measured Cell_architecture  \\\n",
              "0       0.06     0.06              0.1000               nip   \n",
              "1       0.20     0.80              0.0756               nip   \n",
              "2       0.30     0.53              0.0960               nip   \n",
              "3       0.20     0.70              0.0400               nip   \n",
              "4       0.40     0.33              1.2100               pin   \n",
              "..       ...      ...                 ...               ...   \n",
              "602     0.40     0.33              0.0177               pin   \n",
              "603     0.20     0.60              0.1000               pin   \n",
              "604     0.40     0.33              0.1000               pin   \n",
              "605     0.40     0.33              0.1000               pin   \n",
              "606     0.40     0.33              0.1000               pin   \n",
              "\n",
              "    Substrate_stack_sequence  Perovskite_band_gap   Voc    Jsc      FF    PCE  \n",
              "0                          E                 1.60  1.01  21.15  0.5700  12.18  \n",
              "1                          A                 1.60  0.97  20.00  0.6900  13.30  \n",
              "2                          A                 1.53  1.10  19.30  0.7900  16.80  \n",
              "3                          E                 1.53  1.08  20.06  0.6725  13.03  \n",
              "4                          F                 1.53  1.00  21.46  0.7550  16.16  \n",
              "..                       ...                  ...   ...    ...     ...    ...  \n",
              "602                        H                 1.53  0.96  20.10  0.8300  16.00  \n",
              "603                        A                 1.50  1.01  19.80  0.7700  15.59  \n",
              "604                        A                 1.50  0.83  14.70  0.6100   7.62  \n",
              "605                        A                 1.53  0.96  16.73  0.6500  10.71  \n",
              "606                        A                 1.53  0.98  16.85  0.7300  11.32  \n",
              "\n",
              "[607 rows x 10 columns]"
            ],
            "text/html": [
              "\n",
              "\n",
              "  <div id=\"df-8749612d-fce5-4552-9e94-8975c7b413c6\">\n",
              "    <div class=\"colab-df-container\">\n",
              "      <div>\n",
              "<style scoped>\n",
              "    .dataframe tbody tr th:only-of-type {\n",
              "        vertical-align: middle;\n",
              "    }\n",
              "\n",
              "    .dataframe tbody tr th {\n",
              "        vertical-align: top;\n",
              "    }\n",
              "\n",
              "    .dataframe thead th {\n",
              "        text-align: right;\n",
              "    }\n",
              "</style>\n",
              "<table border=\"1\" class=\"dataframe\">\n",
              "  <thead>\n",
              "    <tr style=\"text-align: right;\">\n",
              "      <th></th>\n",
              "      <th>?H(DOI)</th>\n",
              "      <th>?L(DOI)</th>\n",
              "      <th>Cell_area_measured</th>\n",
              "      <th>Cell_architecture</th>\n",
              "      <th>Substrate_stack_sequence</th>\n",
              "      <th>Perovskite_band_gap</th>\n",
              "      <th>Voc</th>\n",
              "      <th>Jsc</th>\n",
              "      <th>FF</th>\n",
              "      <th>PCE</th>\n",
              "    </tr>\n",
              "  </thead>\n",
              "  <tbody>\n",
              "    <tr>\n",
              "      <th>0</th>\n",
              "      <td>0.06</td>\n",
              "      <td>0.06</td>\n",
              "      <td>0.1000</td>\n",
              "      <td>nip</td>\n",
              "      <td>E</td>\n",
              "      <td>1.60</td>\n",
              "      <td>1.01</td>\n",
              "      <td>21.15</td>\n",
              "      <td>0.5700</td>\n",
              "      <td>12.18</td>\n",
              "    </tr>\n",
              "    <tr>\n",
              "      <th>1</th>\n",
              "      <td>0.20</td>\n",
              "      <td>0.80</td>\n",
              "      <td>0.0756</td>\n",
              "      <td>nip</td>\n",
              "      <td>A</td>\n",
              "      <td>1.60</td>\n",
              "      <td>0.97</td>\n",
              "      <td>20.00</td>\n",
              "      <td>0.6900</td>\n",
              "      <td>13.30</td>\n",
              "    </tr>\n",
              "    <tr>\n",
              "      <th>2</th>\n",
              "      <td>0.30</td>\n",
              "      <td>0.53</td>\n",
              "      <td>0.0960</td>\n",
              "      <td>nip</td>\n",
              "      <td>A</td>\n",
              "      <td>1.53</td>\n",
              "      <td>1.10</td>\n",
              "      <td>19.30</td>\n",
              "      <td>0.7900</td>\n",
              "      <td>16.80</td>\n",
              "    </tr>\n",
              "    <tr>\n",
              "      <th>3</th>\n",
              "      <td>0.20</td>\n",
              "      <td>0.70</td>\n",
              "      <td>0.0400</td>\n",
              "      <td>nip</td>\n",
              "      <td>E</td>\n",
              "      <td>1.53</td>\n",
              "      <td>1.08</td>\n",
              "      <td>20.06</td>\n",
              "      <td>0.6725</td>\n",
              "      <td>13.03</td>\n",
              "    </tr>\n",
              "    <tr>\n",
              "      <th>4</th>\n",
              "      <td>0.40</td>\n",
              "      <td>0.33</td>\n",
              "      <td>1.2100</td>\n",
              "      <td>pin</td>\n",
              "      <td>F</td>\n",
              "      <td>1.53</td>\n",
              "      <td>1.00</td>\n",
              "      <td>21.46</td>\n",
              "      <td>0.7550</td>\n",
              "      <td>16.16</td>\n",
              "    </tr>\n",
              "    <tr>\n",
              "      <th>...</th>\n",
              "      <td>...</td>\n",
              "      <td>...</td>\n",
              "      <td>...</td>\n",
              "      <td>...</td>\n",
              "      <td>...</td>\n",
              "      <td>...</td>\n",
              "      <td>...</td>\n",
              "      <td>...</td>\n",
              "      <td>...</td>\n",
              "      <td>...</td>\n",
              "    </tr>\n",
              "    <tr>\n",
              "      <th>602</th>\n",
              "      <td>0.40</td>\n",
              "      <td>0.33</td>\n",
              "      <td>0.0177</td>\n",
              "      <td>pin</td>\n",
              "      <td>H</td>\n",
              "      <td>1.53</td>\n",
              "      <td>0.96</td>\n",
              "      <td>20.10</td>\n",
              "      <td>0.8300</td>\n",
              "      <td>16.00</td>\n",
              "    </tr>\n",
              "    <tr>\n",
              "      <th>603</th>\n",
              "      <td>0.20</td>\n",
              "      <td>0.60</td>\n",
              "      <td>0.1000</td>\n",
              "      <td>pin</td>\n",
              "      <td>A</td>\n",
              "      <td>1.50</td>\n",
              "      <td>1.01</td>\n",
              "      <td>19.80</td>\n",
              "      <td>0.7700</td>\n",
              "      <td>15.59</td>\n",
              "    </tr>\n",
              "    <tr>\n",
              "      <th>604</th>\n",
              "      <td>0.40</td>\n",
              "      <td>0.33</td>\n",
              "      <td>0.1000</td>\n",
              "      <td>pin</td>\n",
              "      <td>A</td>\n",
              "      <td>1.50</td>\n",
              "      <td>0.83</td>\n",
              "      <td>14.70</td>\n",
              "      <td>0.6100</td>\n",
              "      <td>7.62</td>\n",
              "    </tr>\n",
              "    <tr>\n",
              "      <th>605</th>\n",
              "      <td>0.40</td>\n",
              "      <td>0.33</td>\n",
              "      <td>0.1000</td>\n",
              "      <td>pin</td>\n",
              "      <td>A</td>\n",
              "      <td>1.53</td>\n",
              "      <td>0.96</td>\n",
              "      <td>16.73</td>\n",
              "      <td>0.6500</td>\n",
              "      <td>10.71</td>\n",
              "    </tr>\n",
              "    <tr>\n",
              "      <th>606</th>\n",
              "      <td>0.40</td>\n",
              "      <td>0.33</td>\n",
              "      <td>0.1000</td>\n",
              "      <td>pin</td>\n",
              "      <td>A</td>\n",
              "      <td>1.53</td>\n",
              "      <td>0.98</td>\n",
              "      <td>16.85</td>\n",
              "      <td>0.7300</td>\n",
              "      <td>11.32</td>\n",
              "    </tr>\n",
              "  </tbody>\n",
              "</table>\n",
              "<p>607 rows × 10 columns</p>\n",
              "</div>\n",
              "      <button class=\"colab-df-convert\" onclick=\"convertToInteractive('df-8749612d-fce5-4552-9e94-8975c7b413c6')\"\n",
              "              title=\"Convert this dataframe to an interactive table.\"\n",
              "              style=\"display:none;\">\n",
              "\n",
              "  <svg xmlns=\"http://www.w3.org/2000/svg\" height=\"24px\"viewBox=\"0 0 24 24\"\n",
              "       width=\"24px\">\n",
              "    <path d=\"M0 0h24v24H0V0z\" fill=\"none\"/>\n",
              "    <path d=\"M18.56 5.44l.94 2.06.94-2.06 2.06-.94-2.06-.94-.94-2.06-.94 2.06-2.06.94zm-11 1L8.5 8.5l.94-2.06 2.06-.94-2.06-.94L8.5 2.5l-.94 2.06-2.06.94zm10 10l.94 2.06.94-2.06 2.06-.94-2.06-.94-.94-2.06-.94 2.06-2.06.94z\"/><path d=\"M17.41 7.96l-1.37-1.37c-.4-.4-.92-.59-1.43-.59-.52 0-1.04.2-1.43.59L10.3 9.45l-7.72 7.72c-.78.78-.78 2.05 0 2.83L4 21.41c.39.39.9.59 1.41.59.51 0 1.02-.2 1.41-.59l7.78-7.78 2.81-2.81c.8-.78.8-2.07 0-2.86zM5.41 20L4 18.59l7.72-7.72 1.47 1.35L5.41 20z\"/>\n",
              "  </svg>\n",
              "      </button>\n",
              "\n",
              "\n",
              "\n",
              "    <div id=\"df-8d7f70a6-552b-4d0a-9fc2-a44c67feb700\">\n",
              "      <button class=\"colab-df-quickchart\" onclick=\"quickchart('df-8d7f70a6-552b-4d0a-9fc2-a44c67feb700')\"\n",
              "              title=\"Suggest charts.\"\n",
              "              style=\"display:none;\">\n",
              "\n",
              "<svg xmlns=\"http://www.w3.org/2000/svg\" height=\"24px\"viewBox=\"0 0 24 24\"\n",
              "     width=\"24px\">\n",
              "    <g>\n",
              "        <path d=\"M19 3H5c-1.1 0-2 .9-2 2v14c0 1.1.9 2 2 2h14c1.1 0 2-.9 2-2V5c0-1.1-.9-2-2-2zM9 17H7v-7h2v7zm4 0h-2V7h2v10zm4 0h-2v-4h2v4z\"/>\n",
              "    </g>\n",
              "</svg>\n",
              "      </button>\n",
              "    </div>\n",
              "\n",
              "<style>\n",
              "  .colab-df-quickchart {\n",
              "    background-color: #E8F0FE;\n",
              "    border: none;\n",
              "    border-radius: 50%;\n",
              "    cursor: pointer;\n",
              "    display: none;\n",
              "    fill: #1967D2;\n",
              "    height: 32px;\n",
              "    padding: 0 0 0 0;\n",
              "    width: 32px;\n",
              "  }\n",
              "\n",
              "  .colab-df-quickchart:hover {\n",
              "    background-color: #E2EBFA;\n",
              "    box-shadow: 0px 1px 2px rgba(60, 64, 67, 0.3), 0px 1px 3px 1px rgba(60, 64, 67, 0.15);\n",
              "    fill: #174EA6;\n",
              "  }\n",
              "\n",
              "  [theme=dark] .colab-df-quickchart {\n",
              "    background-color: #3B4455;\n",
              "    fill: #D2E3FC;\n",
              "  }\n",
              "\n",
              "  [theme=dark] .colab-df-quickchart:hover {\n",
              "    background-color: #434B5C;\n",
              "    box-shadow: 0px 1px 3px 1px rgba(0, 0, 0, 0.15);\n",
              "    filter: drop-shadow(0px 1px 2px rgba(0, 0, 0, 0.3));\n",
              "    fill: #FFFFFF;\n",
              "  }\n",
              "</style>\n",
              "\n",
              "    <script>\n",
              "      async function quickchart(key) {\n",
              "        const containerElement = document.querySelector('#' + key);\n",
              "        const charts = await google.colab.kernel.invokeFunction(\n",
              "            'suggestCharts', [key], {});\n",
              "      }\n",
              "    </script>\n",
              "\n",
              "      <script>\n",
              "\n",
              "function displayQuickchartButton(domScope) {\n",
              "  let quickchartButtonEl =\n",
              "    domScope.querySelector('#df-8d7f70a6-552b-4d0a-9fc2-a44c67feb700 button.colab-df-quickchart');\n",
              "  quickchartButtonEl.style.display =\n",
              "    google.colab.kernel.accessAllowed ? 'block' : 'none';\n",
              "}\n",
              "\n",
              "        displayQuickchartButton(document);\n",
              "      </script>\n",
              "      <style>\n",
              "    .colab-df-container {\n",
              "      display:flex;\n",
              "      flex-wrap:wrap;\n",
              "      gap: 12px;\n",
              "    }\n",
              "\n",
              "    .colab-df-convert {\n",
              "      background-color: #E8F0FE;\n",
              "      border: none;\n",
              "      border-radius: 50%;\n",
              "      cursor: pointer;\n",
              "      display: none;\n",
              "      fill: #1967D2;\n",
              "      height: 32px;\n",
              "      padding: 0 0 0 0;\n",
              "      width: 32px;\n",
              "    }\n",
              "\n",
              "    .colab-df-convert:hover {\n",
              "      background-color: #E2EBFA;\n",
              "      box-shadow: 0px 1px 2px rgba(60, 64, 67, 0.3), 0px 1px 3px 1px rgba(60, 64, 67, 0.15);\n",
              "      fill: #174EA6;\n",
              "    }\n",
              "\n",
              "    [theme=dark] .colab-df-convert {\n",
              "      background-color: #3B4455;\n",
              "      fill: #D2E3FC;\n",
              "    }\n",
              "\n",
              "    [theme=dark] .colab-df-convert:hover {\n",
              "      background-color: #434B5C;\n",
              "      box-shadow: 0px 1px 3px 1px rgba(0, 0, 0, 0.15);\n",
              "      filter: drop-shadow(0px 1px 2px rgba(0, 0, 0, 0.3));\n",
              "      fill: #FFFFFF;\n",
              "    }\n",
              "  </style>\n",
              "\n",
              "      <script>\n",
              "        const buttonEl =\n",
              "          document.querySelector('#df-8749612d-fce5-4552-9e94-8975c7b413c6 button.colab-df-convert');\n",
              "        buttonEl.style.display =\n",
              "          google.colab.kernel.accessAllowed ? 'block' : 'none';\n",
              "\n",
              "        async function convertToInteractive(key) {\n",
              "          const element = document.querySelector('#df-8749612d-fce5-4552-9e94-8975c7b413c6');\n",
              "          const dataTable =\n",
              "            await google.colab.kernel.invokeFunction('convertToInteractive',\n",
              "                                                     [key], {});\n",
              "          if (!dataTable) return;\n",
              "\n",
              "          const docLinkHtml = 'Like what you see? Visit the ' +\n",
              "            '<a target=\"_blank\" href=https://colab.research.google.com/notebooks/data_table.ipynb>data table notebook</a>'\n",
              "            + ' to learn more about interactive tables.';\n",
              "          element.innerHTML = '';\n",
              "          dataTable['output_type'] = 'display_data';\n",
              "          await google.colab.output.renderOutput(dataTable, element);\n",
              "          const docLink = document.createElement('div');\n",
              "          docLink.innerHTML = docLinkHtml;\n",
              "          element.appendChild(docLink);\n",
              "        }\n",
              "      </script>\n",
              "    </div>\n",
              "  </div>\n"
            ]
          },
          "metadata": {},
          "execution_count": 31
        }
      ]
    },
    {
      "cell_type": "code",
      "source": [
        "# value_mapping = {0: 'pin', 1: 'nip'}\n",
        "# df['Cell_architecture'] = df['Cell_architecture'].replace(value_mapping)\n",
        "# value_mapping1 = {0: 'A', 1: 'B', 2: 'C',3:'D',4:'E',5:'F',6:'G',7:'H'}\n",
        "# df['Substrate_stack_sequence'] = df['Substrate_stack_sequence'].replace(value_mapping1)\n",
        "# df"
      ],
      "metadata": {
        "id": "JAEfDegqGDXx"
      },
      "execution_count": 32,
      "outputs": []
    },
    {
      "cell_type": "code",
      "source": [
        "df['Cell_architecture'].value_counts()"
      ],
      "metadata": {
        "colab": {
          "base_uri": "https://localhost:8080/"
        },
        "id": "q8xkymsSO0ou",
        "outputId": "a0b18de8-e881-47ec-9623-e423ab933922"
      },
      "execution_count": 33,
      "outputs": [
        {
          "output_type": "execute_result",
          "data": {
            "text/plain": [
              "nip    306\n",
              "pin    301\n",
              "Name: Cell_architecture, dtype: int64"
            ]
          },
          "metadata": {},
          "execution_count": 33
        }
      ]
    },
    {
      "cell_type": "code",
      "source": [
        "df.info()"
      ],
      "metadata": {
        "colab": {
          "base_uri": "https://localhost:8080/"
        },
        "id": "AKbUChK3GCKA",
        "outputId": "542344e0-c426-488b-e1d5-811b961923bf"
      },
      "execution_count": 34,
      "outputs": [
        {
          "output_type": "stream",
          "name": "stdout",
          "text": [
            "<class 'pandas.core.frame.DataFrame'>\n",
            "RangeIndex: 607 entries, 0 to 606\n",
            "Data columns (total 10 columns):\n",
            " #   Column                    Non-Null Count  Dtype  \n",
            "---  ------                    --------------  -----  \n",
            " 0   ?H(DOI)                   607 non-null    float64\n",
            " 1   ?L(DOI)                   607 non-null    float64\n",
            " 2   Cell_area_measured        607 non-null    float64\n",
            " 3   Cell_architecture         607 non-null    object \n",
            " 4   Substrate_stack_sequence  607 non-null    object \n",
            " 5   Perovskite_band_gap       607 non-null    float64\n",
            " 6   Voc                       607 non-null    float64\n",
            " 7   Jsc                       607 non-null    float64\n",
            " 8   FF                        607 non-null    float64\n",
            " 9   PCE                       607 non-null    float64\n",
            "dtypes: float64(8), object(2)\n",
            "memory usage: 47.5+ KB\n"
          ]
        }
      ]
    },
    {
      "cell_type": "code",
      "source": [
        "df_cat=df.select_dtypes(object)\n",
        "df_cat"
      ],
      "metadata": {
        "colab": {
          "base_uri": "https://localhost:8080/",
          "height": 423
        },
        "id": "Z3CIApo8GIkz",
        "outputId": "d485296d-59bc-465e-a3d1-4617fcd3be19"
      },
      "execution_count": 35,
      "outputs": [
        {
          "output_type": "execute_result",
          "data": {
            "text/plain": [
              "    Cell_architecture Substrate_stack_sequence\n",
              "0                 nip                        E\n",
              "1                 nip                        A\n",
              "2                 nip                        A\n",
              "3                 nip                        E\n",
              "4                 pin                        F\n",
              "..                ...                      ...\n",
              "602               pin                        H\n",
              "603               pin                        A\n",
              "604               pin                        A\n",
              "605               pin                        A\n",
              "606               pin                        A\n",
              "\n",
              "[607 rows x 2 columns]"
            ],
            "text/html": [
              "\n",
              "\n",
              "  <div id=\"df-d411a26c-ce53-461b-b3b9-3c905e3a48ff\">\n",
              "    <div class=\"colab-df-container\">\n",
              "      <div>\n",
              "<style scoped>\n",
              "    .dataframe tbody tr th:only-of-type {\n",
              "        vertical-align: middle;\n",
              "    }\n",
              "\n",
              "    .dataframe tbody tr th {\n",
              "        vertical-align: top;\n",
              "    }\n",
              "\n",
              "    .dataframe thead th {\n",
              "        text-align: right;\n",
              "    }\n",
              "</style>\n",
              "<table border=\"1\" class=\"dataframe\">\n",
              "  <thead>\n",
              "    <tr style=\"text-align: right;\">\n",
              "      <th></th>\n",
              "      <th>Cell_architecture</th>\n",
              "      <th>Substrate_stack_sequence</th>\n",
              "    </tr>\n",
              "  </thead>\n",
              "  <tbody>\n",
              "    <tr>\n",
              "      <th>0</th>\n",
              "      <td>nip</td>\n",
              "      <td>E</td>\n",
              "    </tr>\n",
              "    <tr>\n",
              "      <th>1</th>\n",
              "      <td>nip</td>\n",
              "      <td>A</td>\n",
              "    </tr>\n",
              "    <tr>\n",
              "      <th>2</th>\n",
              "      <td>nip</td>\n",
              "      <td>A</td>\n",
              "    </tr>\n",
              "    <tr>\n",
              "      <th>3</th>\n",
              "      <td>nip</td>\n",
              "      <td>E</td>\n",
              "    </tr>\n",
              "    <tr>\n",
              "      <th>4</th>\n",
              "      <td>pin</td>\n",
              "      <td>F</td>\n",
              "    </tr>\n",
              "    <tr>\n",
              "      <th>...</th>\n",
              "      <td>...</td>\n",
              "      <td>...</td>\n",
              "    </tr>\n",
              "    <tr>\n",
              "      <th>602</th>\n",
              "      <td>pin</td>\n",
              "      <td>H</td>\n",
              "    </tr>\n",
              "    <tr>\n",
              "      <th>603</th>\n",
              "      <td>pin</td>\n",
              "      <td>A</td>\n",
              "    </tr>\n",
              "    <tr>\n",
              "      <th>604</th>\n",
              "      <td>pin</td>\n",
              "      <td>A</td>\n",
              "    </tr>\n",
              "    <tr>\n",
              "      <th>605</th>\n",
              "      <td>pin</td>\n",
              "      <td>A</td>\n",
              "    </tr>\n",
              "    <tr>\n",
              "      <th>606</th>\n",
              "      <td>pin</td>\n",
              "      <td>A</td>\n",
              "    </tr>\n",
              "  </tbody>\n",
              "</table>\n",
              "<p>607 rows × 2 columns</p>\n",
              "</div>\n",
              "      <button class=\"colab-df-convert\" onclick=\"convertToInteractive('df-d411a26c-ce53-461b-b3b9-3c905e3a48ff')\"\n",
              "              title=\"Convert this dataframe to an interactive table.\"\n",
              "              style=\"display:none;\">\n",
              "\n",
              "  <svg xmlns=\"http://www.w3.org/2000/svg\" height=\"24px\"viewBox=\"0 0 24 24\"\n",
              "       width=\"24px\">\n",
              "    <path d=\"M0 0h24v24H0V0z\" fill=\"none\"/>\n",
              "    <path d=\"M18.56 5.44l.94 2.06.94-2.06 2.06-.94-2.06-.94-.94-2.06-.94 2.06-2.06.94zm-11 1L8.5 8.5l.94-2.06 2.06-.94-2.06-.94L8.5 2.5l-.94 2.06-2.06.94zm10 10l.94 2.06.94-2.06 2.06-.94-2.06-.94-.94-2.06-.94 2.06-2.06.94z\"/><path d=\"M17.41 7.96l-1.37-1.37c-.4-.4-.92-.59-1.43-.59-.52 0-1.04.2-1.43.59L10.3 9.45l-7.72 7.72c-.78.78-.78 2.05 0 2.83L4 21.41c.39.39.9.59 1.41.59.51 0 1.02-.2 1.41-.59l7.78-7.78 2.81-2.81c.8-.78.8-2.07 0-2.86zM5.41 20L4 18.59l7.72-7.72 1.47 1.35L5.41 20z\"/>\n",
              "  </svg>\n",
              "      </button>\n",
              "\n",
              "\n",
              "\n",
              "    <div id=\"df-3b20d4c9-95f8-4e49-b4df-614a774dd2a1\">\n",
              "      <button class=\"colab-df-quickchart\" onclick=\"quickchart('df-3b20d4c9-95f8-4e49-b4df-614a774dd2a1')\"\n",
              "              title=\"Suggest charts.\"\n",
              "              style=\"display:none;\">\n",
              "\n",
              "<svg xmlns=\"http://www.w3.org/2000/svg\" height=\"24px\"viewBox=\"0 0 24 24\"\n",
              "     width=\"24px\">\n",
              "    <g>\n",
              "        <path d=\"M19 3H5c-1.1 0-2 .9-2 2v14c0 1.1.9 2 2 2h14c1.1 0 2-.9 2-2V5c0-1.1-.9-2-2-2zM9 17H7v-7h2v7zm4 0h-2V7h2v10zm4 0h-2v-4h2v4z\"/>\n",
              "    </g>\n",
              "</svg>\n",
              "      </button>\n",
              "    </div>\n",
              "\n",
              "<style>\n",
              "  .colab-df-quickchart {\n",
              "    background-color: #E8F0FE;\n",
              "    border: none;\n",
              "    border-radius: 50%;\n",
              "    cursor: pointer;\n",
              "    display: none;\n",
              "    fill: #1967D2;\n",
              "    height: 32px;\n",
              "    padding: 0 0 0 0;\n",
              "    width: 32px;\n",
              "  }\n",
              "\n",
              "  .colab-df-quickchart:hover {\n",
              "    background-color: #E2EBFA;\n",
              "    box-shadow: 0px 1px 2px rgba(60, 64, 67, 0.3), 0px 1px 3px 1px rgba(60, 64, 67, 0.15);\n",
              "    fill: #174EA6;\n",
              "  }\n",
              "\n",
              "  [theme=dark] .colab-df-quickchart {\n",
              "    background-color: #3B4455;\n",
              "    fill: #D2E3FC;\n",
              "  }\n",
              "\n",
              "  [theme=dark] .colab-df-quickchart:hover {\n",
              "    background-color: #434B5C;\n",
              "    box-shadow: 0px 1px 3px 1px rgba(0, 0, 0, 0.15);\n",
              "    filter: drop-shadow(0px 1px 2px rgba(0, 0, 0, 0.3));\n",
              "    fill: #FFFFFF;\n",
              "  }\n",
              "</style>\n",
              "\n",
              "    <script>\n",
              "      async function quickchart(key) {\n",
              "        const containerElement = document.querySelector('#' + key);\n",
              "        const charts = await google.colab.kernel.invokeFunction(\n",
              "            'suggestCharts', [key], {});\n",
              "      }\n",
              "    </script>\n",
              "\n",
              "      <script>\n",
              "\n",
              "function displayQuickchartButton(domScope) {\n",
              "  let quickchartButtonEl =\n",
              "    domScope.querySelector('#df-3b20d4c9-95f8-4e49-b4df-614a774dd2a1 button.colab-df-quickchart');\n",
              "  quickchartButtonEl.style.display =\n",
              "    google.colab.kernel.accessAllowed ? 'block' : 'none';\n",
              "}\n",
              "\n",
              "        displayQuickchartButton(document);\n",
              "      </script>\n",
              "      <style>\n",
              "    .colab-df-container {\n",
              "      display:flex;\n",
              "      flex-wrap:wrap;\n",
              "      gap: 12px;\n",
              "    }\n",
              "\n",
              "    .colab-df-convert {\n",
              "      background-color: #E8F0FE;\n",
              "      border: none;\n",
              "      border-radius: 50%;\n",
              "      cursor: pointer;\n",
              "      display: none;\n",
              "      fill: #1967D2;\n",
              "      height: 32px;\n",
              "      padding: 0 0 0 0;\n",
              "      width: 32px;\n",
              "    }\n",
              "\n",
              "    .colab-df-convert:hover {\n",
              "      background-color: #E2EBFA;\n",
              "      box-shadow: 0px 1px 2px rgba(60, 64, 67, 0.3), 0px 1px 3px 1px rgba(60, 64, 67, 0.15);\n",
              "      fill: #174EA6;\n",
              "    }\n",
              "\n",
              "    [theme=dark] .colab-df-convert {\n",
              "      background-color: #3B4455;\n",
              "      fill: #D2E3FC;\n",
              "    }\n",
              "\n",
              "    [theme=dark] .colab-df-convert:hover {\n",
              "      background-color: #434B5C;\n",
              "      box-shadow: 0px 1px 3px 1px rgba(0, 0, 0, 0.15);\n",
              "      filter: drop-shadow(0px 1px 2px rgba(0, 0, 0, 0.3));\n",
              "      fill: #FFFFFF;\n",
              "    }\n",
              "  </style>\n",
              "\n",
              "      <script>\n",
              "        const buttonEl =\n",
              "          document.querySelector('#df-d411a26c-ce53-461b-b3b9-3c905e3a48ff button.colab-df-convert');\n",
              "        buttonEl.style.display =\n",
              "          google.colab.kernel.accessAllowed ? 'block' : 'none';\n",
              "\n",
              "        async function convertToInteractive(key) {\n",
              "          const element = document.querySelector('#df-d411a26c-ce53-461b-b3b9-3c905e3a48ff');\n",
              "          const dataTable =\n",
              "            await google.colab.kernel.invokeFunction('convertToInteractive',\n",
              "                                                     [key], {});\n",
              "          if (!dataTable) return;\n",
              "\n",
              "          const docLinkHtml = 'Like what you see? Visit the ' +\n",
              "            '<a target=\"_blank\" href=https://colab.research.google.com/notebooks/data_table.ipynb>data table notebook</a>'\n",
              "            + ' to learn more about interactive tables.';\n",
              "          element.innerHTML = '';\n",
              "          dataTable['output_type'] = 'display_data';\n",
              "          await google.colab.output.renderOutput(dataTable, element);\n",
              "          const docLink = document.createElement('div');\n",
              "          docLink.innerHTML = docLinkHtml;\n",
              "          element.appendChild(docLink);\n",
              "        }\n",
              "      </script>\n",
              "    </div>\n",
              "  </div>\n"
            ]
          },
          "metadata": {},
          "execution_count": 35
        }
      ]
    },
    {
      "cell_type": "code",
      "source": [
        "df.info()"
      ],
      "metadata": {
        "colab": {
          "base_uri": "https://localhost:8080/"
        },
        "id": "nOck2AP6GLUw",
        "outputId": "f1576955-5248-4b38-87af-c09b0a6c35b4"
      },
      "execution_count": 36,
      "outputs": [
        {
          "output_type": "stream",
          "name": "stdout",
          "text": [
            "<class 'pandas.core.frame.DataFrame'>\n",
            "RangeIndex: 607 entries, 0 to 606\n",
            "Data columns (total 10 columns):\n",
            " #   Column                    Non-Null Count  Dtype  \n",
            "---  ------                    --------------  -----  \n",
            " 0   ?H(DOI)                   607 non-null    float64\n",
            " 1   ?L(DOI)                   607 non-null    float64\n",
            " 2   Cell_area_measured        607 non-null    float64\n",
            " 3   Cell_architecture         607 non-null    object \n",
            " 4   Substrate_stack_sequence  607 non-null    object \n",
            " 5   Perovskite_band_gap       607 non-null    float64\n",
            " 6   Voc                       607 non-null    float64\n",
            " 7   Jsc                       607 non-null    float64\n",
            " 8   FF                        607 non-null    float64\n",
            " 9   PCE                       607 non-null    float64\n",
            "dtypes: float64(8), object(2)\n",
            "memory usage: 47.5+ KB\n"
          ]
        }
      ]
    },
    {
      "cell_type": "code",
      "source": [
        "df_num=df.select_dtypes(['float64'])\n",
        "df_num"
      ],
      "metadata": {
        "colab": {
          "base_uri": "https://localhost:8080/",
          "height": 423
        },
        "id": "XVihPu65GOey",
        "outputId": "14227809-8f3d-4725-9b1b-fb09e3e1ee64"
      },
      "execution_count": 37,
      "outputs": [
        {
          "output_type": "execute_result",
          "data": {
            "text/plain": [
              "     ?H(DOI)  ?L(DOI)  Cell_area_measured  Perovskite_band_gap   Voc    Jsc  \\\n",
              "0       0.06     0.06              0.1000                 1.60  1.01  21.15   \n",
              "1       0.20     0.80              0.0756                 1.60  0.97  20.00   \n",
              "2       0.30     0.53              0.0960                 1.53  1.10  19.30   \n",
              "3       0.20     0.70              0.0400                 1.53  1.08  20.06   \n",
              "4       0.40     0.33              1.2100                 1.53  1.00  21.46   \n",
              "..       ...      ...                 ...                  ...   ...    ...   \n",
              "602     0.40     0.33              0.0177                 1.53  0.96  20.10   \n",
              "603     0.20     0.60              0.1000                 1.50  1.01  19.80   \n",
              "604     0.40     0.33              0.1000                 1.50  0.83  14.70   \n",
              "605     0.40     0.33              0.1000                 1.53  0.96  16.73   \n",
              "606     0.40     0.33              0.1000                 1.53  0.98  16.85   \n",
              "\n",
              "         FF    PCE  \n",
              "0    0.5700  12.18  \n",
              "1    0.6900  13.30  \n",
              "2    0.7900  16.80  \n",
              "3    0.6725  13.03  \n",
              "4    0.7550  16.16  \n",
              "..      ...    ...  \n",
              "602  0.8300  16.00  \n",
              "603  0.7700  15.59  \n",
              "604  0.6100   7.62  \n",
              "605  0.6500  10.71  \n",
              "606  0.7300  11.32  \n",
              "\n",
              "[607 rows x 8 columns]"
            ],
            "text/html": [
              "\n",
              "\n",
              "  <div id=\"df-fdb14a71-eca1-480e-82b6-e971a84b3eab\">\n",
              "    <div class=\"colab-df-container\">\n",
              "      <div>\n",
              "<style scoped>\n",
              "    .dataframe tbody tr th:only-of-type {\n",
              "        vertical-align: middle;\n",
              "    }\n",
              "\n",
              "    .dataframe tbody tr th {\n",
              "        vertical-align: top;\n",
              "    }\n",
              "\n",
              "    .dataframe thead th {\n",
              "        text-align: right;\n",
              "    }\n",
              "</style>\n",
              "<table border=\"1\" class=\"dataframe\">\n",
              "  <thead>\n",
              "    <tr style=\"text-align: right;\">\n",
              "      <th></th>\n",
              "      <th>?H(DOI)</th>\n",
              "      <th>?L(DOI)</th>\n",
              "      <th>Cell_area_measured</th>\n",
              "      <th>Perovskite_band_gap</th>\n",
              "      <th>Voc</th>\n",
              "      <th>Jsc</th>\n",
              "      <th>FF</th>\n",
              "      <th>PCE</th>\n",
              "    </tr>\n",
              "  </thead>\n",
              "  <tbody>\n",
              "    <tr>\n",
              "      <th>0</th>\n",
              "      <td>0.06</td>\n",
              "      <td>0.06</td>\n",
              "      <td>0.1000</td>\n",
              "      <td>1.60</td>\n",
              "      <td>1.01</td>\n",
              "      <td>21.15</td>\n",
              "      <td>0.5700</td>\n",
              "      <td>12.18</td>\n",
              "    </tr>\n",
              "    <tr>\n",
              "      <th>1</th>\n",
              "      <td>0.20</td>\n",
              "      <td>0.80</td>\n",
              "      <td>0.0756</td>\n",
              "      <td>1.60</td>\n",
              "      <td>0.97</td>\n",
              "      <td>20.00</td>\n",
              "      <td>0.6900</td>\n",
              "      <td>13.30</td>\n",
              "    </tr>\n",
              "    <tr>\n",
              "      <th>2</th>\n",
              "      <td>0.30</td>\n",
              "      <td>0.53</td>\n",
              "      <td>0.0960</td>\n",
              "      <td>1.53</td>\n",
              "      <td>1.10</td>\n",
              "      <td>19.30</td>\n",
              "      <td>0.7900</td>\n",
              "      <td>16.80</td>\n",
              "    </tr>\n",
              "    <tr>\n",
              "      <th>3</th>\n",
              "      <td>0.20</td>\n",
              "      <td>0.70</td>\n",
              "      <td>0.0400</td>\n",
              "      <td>1.53</td>\n",
              "      <td>1.08</td>\n",
              "      <td>20.06</td>\n",
              "      <td>0.6725</td>\n",
              "      <td>13.03</td>\n",
              "    </tr>\n",
              "    <tr>\n",
              "      <th>4</th>\n",
              "      <td>0.40</td>\n",
              "      <td>0.33</td>\n",
              "      <td>1.2100</td>\n",
              "      <td>1.53</td>\n",
              "      <td>1.00</td>\n",
              "      <td>21.46</td>\n",
              "      <td>0.7550</td>\n",
              "      <td>16.16</td>\n",
              "    </tr>\n",
              "    <tr>\n",
              "      <th>...</th>\n",
              "      <td>...</td>\n",
              "      <td>...</td>\n",
              "      <td>...</td>\n",
              "      <td>...</td>\n",
              "      <td>...</td>\n",
              "      <td>...</td>\n",
              "      <td>...</td>\n",
              "      <td>...</td>\n",
              "    </tr>\n",
              "    <tr>\n",
              "      <th>602</th>\n",
              "      <td>0.40</td>\n",
              "      <td>0.33</td>\n",
              "      <td>0.0177</td>\n",
              "      <td>1.53</td>\n",
              "      <td>0.96</td>\n",
              "      <td>20.10</td>\n",
              "      <td>0.8300</td>\n",
              "      <td>16.00</td>\n",
              "    </tr>\n",
              "    <tr>\n",
              "      <th>603</th>\n",
              "      <td>0.20</td>\n",
              "      <td>0.60</td>\n",
              "      <td>0.1000</td>\n",
              "      <td>1.50</td>\n",
              "      <td>1.01</td>\n",
              "      <td>19.80</td>\n",
              "      <td>0.7700</td>\n",
              "      <td>15.59</td>\n",
              "    </tr>\n",
              "    <tr>\n",
              "      <th>604</th>\n",
              "      <td>0.40</td>\n",
              "      <td>0.33</td>\n",
              "      <td>0.1000</td>\n",
              "      <td>1.50</td>\n",
              "      <td>0.83</td>\n",
              "      <td>14.70</td>\n",
              "      <td>0.6100</td>\n",
              "      <td>7.62</td>\n",
              "    </tr>\n",
              "    <tr>\n",
              "      <th>605</th>\n",
              "      <td>0.40</td>\n",
              "      <td>0.33</td>\n",
              "      <td>0.1000</td>\n",
              "      <td>1.53</td>\n",
              "      <td>0.96</td>\n",
              "      <td>16.73</td>\n",
              "      <td>0.6500</td>\n",
              "      <td>10.71</td>\n",
              "    </tr>\n",
              "    <tr>\n",
              "      <th>606</th>\n",
              "      <td>0.40</td>\n",
              "      <td>0.33</td>\n",
              "      <td>0.1000</td>\n",
              "      <td>1.53</td>\n",
              "      <td>0.98</td>\n",
              "      <td>16.85</td>\n",
              "      <td>0.7300</td>\n",
              "      <td>11.32</td>\n",
              "    </tr>\n",
              "  </tbody>\n",
              "</table>\n",
              "<p>607 rows × 8 columns</p>\n",
              "</div>\n",
              "      <button class=\"colab-df-convert\" onclick=\"convertToInteractive('df-fdb14a71-eca1-480e-82b6-e971a84b3eab')\"\n",
              "              title=\"Convert this dataframe to an interactive table.\"\n",
              "              style=\"display:none;\">\n",
              "\n",
              "  <svg xmlns=\"http://www.w3.org/2000/svg\" height=\"24px\"viewBox=\"0 0 24 24\"\n",
              "       width=\"24px\">\n",
              "    <path d=\"M0 0h24v24H0V0z\" fill=\"none\"/>\n",
              "    <path d=\"M18.56 5.44l.94 2.06.94-2.06 2.06-.94-2.06-.94-.94-2.06-.94 2.06-2.06.94zm-11 1L8.5 8.5l.94-2.06 2.06-.94-2.06-.94L8.5 2.5l-.94 2.06-2.06.94zm10 10l.94 2.06.94-2.06 2.06-.94-2.06-.94-.94-2.06-.94 2.06-2.06.94z\"/><path d=\"M17.41 7.96l-1.37-1.37c-.4-.4-.92-.59-1.43-.59-.52 0-1.04.2-1.43.59L10.3 9.45l-7.72 7.72c-.78.78-.78 2.05 0 2.83L4 21.41c.39.39.9.59 1.41.59.51 0 1.02-.2 1.41-.59l7.78-7.78 2.81-2.81c.8-.78.8-2.07 0-2.86zM5.41 20L4 18.59l7.72-7.72 1.47 1.35L5.41 20z\"/>\n",
              "  </svg>\n",
              "      </button>\n",
              "\n",
              "\n",
              "\n",
              "    <div id=\"df-e5e93a78-a14b-4d84-86e8-51f6d645263e\">\n",
              "      <button class=\"colab-df-quickchart\" onclick=\"quickchart('df-e5e93a78-a14b-4d84-86e8-51f6d645263e')\"\n",
              "              title=\"Suggest charts.\"\n",
              "              style=\"display:none;\">\n",
              "\n",
              "<svg xmlns=\"http://www.w3.org/2000/svg\" height=\"24px\"viewBox=\"0 0 24 24\"\n",
              "     width=\"24px\">\n",
              "    <g>\n",
              "        <path d=\"M19 3H5c-1.1 0-2 .9-2 2v14c0 1.1.9 2 2 2h14c1.1 0 2-.9 2-2V5c0-1.1-.9-2-2-2zM9 17H7v-7h2v7zm4 0h-2V7h2v10zm4 0h-2v-4h2v4z\"/>\n",
              "    </g>\n",
              "</svg>\n",
              "      </button>\n",
              "    </div>\n",
              "\n",
              "<style>\n",
              "  .colab-df-quickchart {\n",
              "    background-color: #E8F0FE;\n",
              "    border: none;\n",
              "    border-radius: 50%;\n",
              "    cursor: pointer;\n",
              "    display: none;\n",
              "    fill: #1967D2;\n",
              "    height: 32px;\n",
              "    padding: 0 0 0 0;\n",
              "    width: 32px;\n",
              "  }\n",
              "\n",
              "  .colab-df-quickchart:hover {\n",
              "    background-color: #E2EBFA;\n",
              "    box-shadow: 0px 1px 2px rgba(60, 64, 67, 0.3), 0px 1px 3px 1px rgba(60, 64, 67, 0.15);\n",
              "    fill: #174EA6;\n",
              "  }\n",
              "\n",
              "  [theme=dark] .colab-df-quickchart {\n",
              "    background-color: #3B4455;\n",
              "    fill: #D2E3FC;\n",
              "  }\n",
              "\n",
              "  [theme=dark] .colab-df-quickchart:hover {\n",
              "    background-color: #434B5C;\n",
              "    box-shadow: 0px 1px 3px 1px rgba(0, 0, 0, 0.15);\n",
              "    filter: drop-shadow(0px 1px 2px rgba(0, 0, 0, 0.3));\n",
              "    fill: #FFFFFF;\n",
              "  }\n",
              "</style>\n",
              "\n",
              "    <script>\n",
              "      async function quickchart(key) {\n",
              "        const containerElement = document.querySelector('#' + key);\n",
              "        const charts = await google.colab.kernel.invokeFunction(\n",
              "            'suggestCharts', [key], {});\n",
              "      }\n",
              "    </script>\n",
              "\n",
              "      <script>\n",
              "\n",
              "function displayQuickchartButton(domScope) {\n",
              "  let quickchartButtonEl =\n",
              "    domScope.querySelector('#df-e5e93a78-a14b-4d84-86e8-51f6d645263e button.colab-df-quickchart');\n",
              "  quickchartButtonEl.style.display =\n",
              "    google.colab.kernel.accessAllowed ? 'block' : 'none';\n",
              "}\n",
              "\n",
              "        displayQuickchartButton(document);\n",
              "      </script>\n",
              "      <style>\n",
              "    .colab-df-container {\n",
              "      display:flex;\n",
              "      flex-wrap:wrap;\n",
              "      gap: 12px;\n",
              "    }\n",
              "\n",
              "    .colab-df-convert {\n",
              "      background-color: #E8F0FE;\n",
              "      border: none;\n",
              "      border-radius: 50%;\n",
              "      cursor: pointer;\n",
              "      display: none;\n",
              "      fill: #1967D2;\n",
              "      height: 32px;\n",
              "      padding: 0 0 0 0;\n",
              "      width: 32px;\n",
              "    }\n",
              "\n",
              "    .colab-df-convert:hover {\n",
              "      background-color: #E2EBFA;\n",
              "      box-shadow: 0px 1px 2px rgba(60, 64, 67, 0.3), 0px 1px 3px 1px rgba(60, 64, 67, 0.15);\n",
              "      fill: #174EA6;\n",
              "    }\n",
              "\n",
              "    [theme=dark] .colab-df-convert {\n",
              "      background-color: #3B4455;\n",
              "      fill: #D2E3FC;\n",
              "    }\n",
              "\n",
              "    [theme=dark] .colab-df-convert:hover {\n",
              "      background-color: #434B5C;\n",
              "      box-shadow: 0px 1px 3px 1px rgba(0, 0, 0, 0.15);\n",
              "      filter: drop-shadow(0px 1px 2px rgba(0, 0, 0, 0.3));\n",
              "      fill: #FFFFFF;\n",
              "    }\n",
              "  </style>\n",
              "\n",
              "      <script>\n",
              "        const buttonEl =\n",
              "          document.querySelector('#df-fdb14a71-eca1-480e-82b6-e971a84b3eab button.colab-df-convert');\n",
              "        buttonEl.style.display =\n",
              "          google.colab.kernel.accessAllowed ? 'block' : 'none';\n",
              "\n",
              "        async function convertToInteractive(key) {\n",
              "          const element = document.querySelector('#df-fdb14a71-eca1-480e-82b6-e971a84b3eab');\n",
              "          const dataTable =\n",
              "            await google.colab.kernel.invokeFunction('convertToInteractive',\n",
              "                                                     [key], {});\n",
              "          if (!dataTable) return;\n",
              "\n",
              "          const docLinkHtml = 'Like what you see? Visit the ' +\n",
              "            '<a target=\"_blank\" href=https://colab.research.google.com/notebooks/data_table.ipynb>data table notebook</a>'\n",
              "            + ' to learn more about interactive tables.';\n",
              "          element.innerHTML = '';\n",
              "          dataTable['output_type'] = 'display_data';\n",
              "          await google.colab.output.renderOutput(dataTable, element);\n",
              "          const docLink = document.createElement('div');\n",
              "          docLink.innerHTML = docLinkHtml;\n",
              "          element.appendChild(docLink);\n",
              "        }\n",
              "      </script>\n",
              "    </div>\n",
              "  </div>\n"
            ]
          },
          "metadata": {},
          "execution_count": 37
        }
      ]
    },
    {
      "cell_type": "code",
      "source": [
        "df_cat['Cell_architecture'].value_counts()"
      ],
      "metadata": {
        "colab": {
          "base_uri": "https://localhost:8080/"
        },
        "id": "-n3IE5_vGRm-",
        "outputId": "7337e596-d9e1-4ed6-e43f-8bb650588bb2"
      },
      "execution_count": 38,
      "outputs": [
        {
          "output_type": "execute_result",
          "data": {
            "text/plain": [
              "nip    306\n",
              "pin    301\n",
              "Name: Cell_architecture, dtype: int64"
            ]
          },
          "metadata": {},
          "execution_count": 38
        }
      ]
    },
    {
      "cell_type": "code",
      "source": [
        "pd.get_dummies(df_cat['Cell_architecture'])"
      ],
      "metadata": {
        "colab": {
          "base_uri": "https://localhost:8080/",
          "height": 423
        },
        "id": "luAa5ljwGVhS",
        "outputId": "116c3af3-7920-4a60-c00d-72b1702e634a"
      },
      "execution_count": 39,
      "outputs": [
        {
          "output_type": "execute_result",
          "data": {
            "text/plain": [
              "     nip  pin\n",
              "0      1    0\n",
              "1      1    0\n",
              "2      1    0\n",
              "3      1    0\n",
              "4      0    1\n",
              "..   ...  ...\n",
              "602    0    1\n",
              "603    0    1\n",
              "604    0    1\n",
              "605    0    1\n",
              "606    0    1\n",
              "\n",
              "[607 rows x 2 columns]"
            ],
            "text/html": [
              "\n",
              "\n",
              "  <div id=\"df-96222856-99e3-4807-9503-e1aa66a77a99\">\n",
              "    <div class=\"colab-df-container\">\n",
              "      <div>\n",
              "<style scoped>\n",
              "    .dataframe tbody tr th:only-of-type {\n",
              "        vertical-align: middle;\n",
              "    }\n",
              "\n",
              "    .dataframe tbody tr th {\n",
              "        vertical-align: top;\n",
              "    }\n",
              "\n",
              "    .dataframe thead th {\n",
              "        text-align: right;\n",
              "    }\n",
              "</style>\n",
              "<table border=\"1\" class=\"dataframe\">\n",
              "  <thead>\n",
              "    <tr style=\"text-align: right;\">\n",
              "      <th></th>\n",
              "      <th>nip</th>\n",
              "      <th>pin</th>\n",
              "    </tr>\n",
              "  </thead>\n",
              "  <tbody>\n",
              "    <tr>\n",
              "      <th>0</th>\n",
              "      <td>1</td>\n",
              "      <td>0</td>\n",
              "    </tr>\n",
              "    <tr>\n",
              "      <th>1</th>\n",
              "      <td>1</td>\n",
              "      <td>0</td>\n",
              "    </tr>\n",
              "    <tr>\n",
              "      <th>2</th>\n",
              "      <td>1</td>\n",
              "      <td>0</td>\n",
              "    </tr>\n",
              "    <tr>\n",
              "      <th>3</th>\n",
              "      <td>1</td>\n",
              "      <td>0</td>\n",
              "    </tr>\n",
              "    <tr>\n",
              "      <th>4</th>\n",
              "      <td>0</td>\n",
              "      <td>1</td>\n",
              "    </tr>\n",
              "    <tr>\n",
              "      <th>...</th>\n",
              "      <td>...</td>\n",
              "      <td>...</td>\n",
              "    </tr>\n",
              "    <tr>\n",
              "      <th>602</th>\n",
              "      <td>0</td>\n",
              "      <td>1</td>\n",
              "    </tr>\n",
              "    <tr>\n",
              "      <th>603</th>\n",
              "      <td>0</td>\n",
              "      <td>1</td>\n",
              "    </tr>\n",
              "    <tr>\n",
              "      <th>604</th>\n",
              "      <td>0</td>\n",
              "      <td>1</td>\n",
              "    </tr>\n",
              "    <tr>\n",
              "      <th>605</th>\n",
              "      <td>0</td>\n",
              "      <td>1</td>\n",
              "    </tr>\n",
              "    <tr>\n",
              "      <th>606</th>\n",
              "      <td>0</td>\n",
              "      <td>1</td>\n",
              "    </tr>\n",
              "  </tbody>\n",
              "</table>\n",
              "<p>607 rows × 2 columns</p>\n",
              "</div>\n",
              "      <button class=\"colab-df-convert\" onclick=\"convertToInteractive('df-96222856-99e3-4807-9503-e1aa66a77a99')\"\n",
              "              title=\"Convert this dataframe to an interactive table.\"\n",
              "              style=\"display:none;\">\n",
              "\n",
              "  <svg xmlns=\"http://www.w3.org/2000/svg\" height=\"24px\"viewBox=\"0 0 24 24\"\n",
              "       width=\"24px\">\n",
              "    <path d=\"M0 0h24v24H0V0z\" fill=\"none\"/>\n",
              "    <path d=\"M18.56 5.44l.94 2.06.94-2.06 2.06-.94-2.06-.94-.94-2.06-.94 2.06-2.06.94zm-11 1L8.5 8.5l.94-2.06 2.06-.94-2.06-.94L8.5 2.5l-.94 2.06-2.06.94zm10 10l.94 2.06.94-2.06 2.06-.94-2.06-.94-.94-2.06-.94 2.06-2.06.94z\"/><path d=\"M17.41 7.96l-1.37-1.37c-.4-.4-.92-.59-1.43-.59-.52 0-1.04.2-1.43.59L10.3 9.45l-7.72 7.72c-.78.78-.78 2.05 0 2.83L4 21.41c.39.39.9.59 1.41.59.51 0 1.02-.2 1.41-.59l7.78-7.78 2.81-2.81c.8-.78.8-2.07 0-2.86zM5.41 20L4 18.59l7.72-7.72 1.47 1.35L5.41 20z\"/>\n",
              "  </svg>\n",
              "      </button>\n",
              "\n",
              "\n",
              "\n",
              "    <div id=\"df-fbbcb413-1912-471f-ae93-91df409b1421\">\n",
              "      <button class=\"colab-df-quickchart\" onclick=\"quickchart('df-fbbcb413-1912-471f-ae93-91df409b1421')\"\n",
              "              title=\"Suggest charts.\"\n",
              "              style=\"display:none;\">\n",
              "\n",
              "<svg xmlns=\"http://www.w3.org/2000/svg\" height=\"24px\"viewBox=\"0 0 24 24\"\n",
              "     width=\"24px\">\n",
              "    <g>\n",
              "        <path d=\"M19 3H5c-1.1 0-2 .9-2 2v14c0 1.1.9 2 2 2h14c1.1 0 2-.9 2-2V5c0-1.1-.9-2-2-2zM9 17H7v-7h2v7zm4 0h-2V7h2v10zm4 0h-2v-4h2v4z\"/>\n",
              "    </g>\n",
              "</svg>\n",
              "      </button>\n",
              "    </div>\n",
              "\n",
              "<style>\n",
              "  .colab-df-quickchart {\n",
              "    background-color: #E8F0FE;\n",
              "    border: none;\n",
              "    border-radius: 50%;\n",
              "    cursor: pointer;\n",
              "    display: none;\n",
              "    fill: #1967D2;\n",
              "    height: 32px;\n",
              "    padding: 0 0 0 0;\n",
              "    width: 32px;\n",
              "  }\n",
              "\n",
              "  .colab-df-quickchart:hover {\n",
              "    background-color: #E2EBFA;\n",
              "    box-shadow: 0px 1px 2px rgba(60, 64, 67, 0.3), 0px 1px 3px 1px rgba(60, 64, 67, 0.15);\n",
              "    fill: #174EA6;\n",
              "  }\n",
              "\n",
              "  [theme=dark] .colab-df-quickchart {\n",
              "    background-color: #3B4455;\n",
              "    fill: #D2E3FC;\n",
              "  }\n",
              "\n",
              "  [theme=dark] .colab-df-quickchart:hover {\n",
              "    background-color: #434B5C;\n",
              "    box-shadow: 0px 1px 3px 1px rgba(0, 0, 0, 0.15);\n",
              "    filter: drop-shadow(0px 1px 2px rgba(0, 0, 0, 0.3));\n",
              "    fill: #FFFFFF;\n",
              "  }\n",
              "</style>\n",
              "\n",
              "    <script>\n",
              "      async function quickchart(key) {\n",
              "        const containerElement = document.querySelector('#' + key);\n",
              "        const charts = await google.colab.kernel.invokeFunction(\n",
              "            'suggestCharts', [key], {});\n",
              "      }\n",
              "    </script>\n",
              "\n",
              "      <script>\n",
              "\n",
              "function displayQuickchartButton(domScope) {\n",
              "  let quickchartButtonEl =\n",
              "    domScope.querySelector('#df-fbbcb413-1912-471f-ae93-91df409b1421 button.colab-df-quickchart');\n",
              "  quickchartButtonEl.style.display =\n",
              "    google.colab.kernel.accessAllowed ? 'block' : 'none';\n",
              "}\n",
              "\n",
              "        displayQuickchartButton(document);\n",
              "      </script>\n",
              "      <style>\n",
              "    .colab-df-container {\n",
              "      display:flex;\n",
              "      flex-wrap:wrap;\n",
              "      gap: 12px;\n",
              "    }\n",
              "\n",
              "    .colab-df-convert {\n",
              "      background-color: #E8F0FE;\n",
              "      border: none;\n",
              "      border-radius: 50%;\n",
              "      cursor: pointer;\n",
              "      display: none;\n",
              "      fill: #1967D2;\n",
              "      height: 32px;\n",
              "      padding: 0 0 0 0;\n",
              "      width: 32px;\n",
              "    }\n",
              "\n",
              "    .colab-df-convert:hover {\n",
              "      background-color: #E2EBFA;\n",
              "      box-shadow: 0px 1px 2px rgba(60, 64, 67, 0.3), 0px 1px 3px 1px rgba(60, 64, 67, 0.15);\n",
              "      fill: #174EA6;\n",
              "    }\n",
              "\n",
              "    [theme=dark] .colab-df-convert {\n",
              "      background-color: #3B4455;\n",
              "      fill: #D2E3FC;\n",
              "    }\n",
              "\n",
              "    [theme=dark] .colab-df-convert:hover {\n",
              "      background-color: #434B5C;\n",
              "      box-shadow: 0px 1px 3px 1px rgba(0, 0, 0, 0.15);\n",
              "      filter: drop-shadow(0px 1px 2px rgba(0, 0, 0, 0.3));\n",
              "      fill: #FFFFFF;\n",
              "    }\n",
              "  </style>\n",
              "\n",
              "      <script>\n",
              "        const buttonEl =\n",
              "          document.querySelector('#df-96222856-99e3-4807-9503-e1aa66a77a99 button.colab-df-convert');\n",
              "        buttonEl.style.display =\n",
              "          google.colab.kernel.accessAllowed ? 'block' : 'none';\n",
              "\n",
              "        async function convertToInteractive(key) {\n",
              "          const element = document.querySelector('#df-96222856-99e3-4807-9503-e1aa66a77a99');\n",
              "          const dataTable =\n",
              "            await google.colab.kernel.invokeFunction('convertToInteractive',\n",
              "                                                     [key], {});\n",
              "          if (!dataTable) return;\n",
              "\n",
              "          const docLinkHtml = 'Like what you see? Visit the ' +\n",
              "            '<a target=\"_blank\" href=https://colab.research.google.com/notebooks/data_table.ipynb>data table notebook</a>'\n",
              "            + ' to learn more about interactive tables.';\n",
              "          element.innerHTML = '';\n",
              "          dataTable['output_type'] = 'display_data';\n",
              "          await google.colab.output.renderOutput(dataTable, element);\n",
              "          const docLink = document.createElement('div');\n",
              "          docLink.innerHTML = docLinkHtml;\n",
              "          element.appendChild(docLink);\n",
              "        }\n",
              "      </script>\n",
              "    </div>\n",
              "  </div>\n"
            ]
          },
          "metadata": {},
          "execution_count": 39
        }
      ]
    },
    {
      "cell_type": "code",
      "source": [
        "from sklearn.preprocessing import LabelEncoder"
      ],
      "metadata": {
        "id": "Y0_ED0jnGXyH"
      },
      "execution_count": 40,
      "outputs": []
    },
    {
      "cell_type": "code",
      "source": [
        "le=LabelEncoder()"
      ],
      "metadata": {
        "id": "wW_Ff5zpGcMM"
      },
      "execution_count": 41,
      "outputs": []
    },
    {
      "cell_type": "code",
      "source": [
        "df_cat['Cell_architecture']=le.fit_transform(df_cat['Cell_architecture'])\n",
        "df_cat['Cell_architecture'].value_counts()\n",
        "#2=pin\n",
        "#1=nip\n",
        "#0=Back contacted"
      ],
      "metadata": {
        "id": "IK6wjtdaGeL9",
        "colab": {
          "base_uri": "https://localhost:8080/"
        },
        "outputId": "101a4d18-0ce3-486c-ba5e-4529398413ea"
      },
      "execution_count": 42,
      "outputs": [
        {
          "output_type": "execute_result",
          "data": {
            "text/plain": [
              "0    306\n",
              "1    301\n",
              "Name: Cell_architecture, dtype: int64"
            ]
          },
          "metadata": {},
          "execution_count": 42
        }
      ]
    },
    {
      "cell_type": "code",
      "source": [
        "pd.get_dummies(df_cat['Substrate_stack_sequence'])"
      ],
      "metadata": {
        "colab": {
          "base_uri": "https://localhost:8080/",
          "height": 423
        },
        "id": "RTy0rKPBOe7f",
        "outputId": "f2cfccd3-4371-499e-d071-e34bbefe8fb5"
      },
      "execution_count": 43,
      "outputs": [
        {
          "output_type": "execute_result",
          "data": {
            "text/plain": [
              "     A  B  C  D  E  F  G  H\n",
              "0    0  0  0  0  1  0  0  0\n",
              "1    1  0  0  0  0  0  0  0\n",
              "2    1  0  0  0  0  0  0  0\n",
              "3    0  0  0  0  1  0  0  0\n",
              "4    0  0  0  0  0  1  0  0\n",
              "..  .. .. .. .. .. .. .. ..\n",
              "602  0  0  0  0  0  0  0  1\n",
              "603  1  0  0  0  0  0  0  0\n",
              "604  1  0  0  0  0  0  0  0\n",
              "605  1  0  0  0  0  0  0  0\n",
              "606  1  0  0  0  0  0  0  0\n",
              "\n",
              "[607 rows x 8 columns]"
            ],
            "text/html": [
              "\n",
              "\n",
              "  <div id=\"df-adff4d0c-5fa8-4eb7-875e-2f3240a31c22\">\n",
              "    <div class=\"colab-df-container\">\n",
              "      <div>\n",
              "<style scoped>\n",
              "    .dataframe tbody tr th:only-of-type {\n",
              "        vertical-align: middle;\n",
              "    }\n",
              "\n",
              "    .dataframe tbody tr th {\n",
              "        vertical-align: top;\n",
              "    }\n",
              "\n",
              "    .dataframe thead th {\n",
              "        text-align: right;\n",
              "    }\n",
              "</style>\n",
              "<table border=\"1\" class=\"dataframe\">\n",
              "  <thead>\n",
              "    <tr style=\"text-align: right;\">\n",
              "      <th></th>\n",
              "      <th>A</th>\n",
              "      <th>B</th>\n",
              "      <th>C</th>\n",
              "      <th>D</th>\n",
              "      <th>E</th>\n",
              "      <th>F</th>\n",
              "      <th>G</th>\n",
              "      <th>H</th>\n",
              "    </tr>\n",
              "  </thead>\n",
              "  <tbody>\n",
              "    <tr>\n",
              "      <th>0</th>\n",
              "      <td>0</td>\n",
              "      <td>0</td>\n",
              "      <td>0</td>\n",
              "      <td>0</td>\n",
              "      <td>1</td>\n",
              "      <td>0</td>\n",
              "      <td>0</td>\n",
              "      <td>0</td>\n",
              "    </tr>\n",
              "    <tr>\n",
              "      <th>1</th>\n",
              "      <td>1</td>\n",
              "      <td>0</td>\n",
              "      <td>0</td>\n",
              "      <td>0</td>\n",
              "      <td>0</td>\n",
              "      <td>0</td>\n",
              "      <td>0</td>\n",
              "      <td>0</td>\n",
              "    </tr>\n",
              "    <tr>\n",
              "      <th>2</th>\n",
              "      <td>1</td>\n",
              "      <td>0</td>\n",
              "      <td>0</td>\n",
              "      <td>0</td>\n",
              "      <td>0</td>\n",
              "      <td>0</td>\n",
              "      <td>0</td>\n",
              "      <td>0</td>\n",
              "    </tr>\n",
              "    <tr>\n",
              "      <th>3</th>\n",
              "      <td>0</td>\n",
              "      <td>0</td>\n",
              "      <td>0</td>\n",
              "      <td>0</td>\n",
              "      <td>1</td>\n",
              "      <td>0</td>\n",
              "      <td>0</td>\n",
              "      <td>0</td>\n",
              "    </tr>\n",
              "    <tr>\n",
              "      <th>4</th>\n",
              "      <td>0</td>\n",
              "      <td>0</td>\n",
              "      <td>0</td>\n",
              "      <td>0</td>\n",
              "      <td>0</td>\n",
              "      <td>1</td>\n",
              "      <td>0</td>\n",
              "      <td>0</td>\n",
              "    </tr>\n",
              "    <tr>\n",
              "      <th>...</th>\n",
              "      <td>...</td>\n",
              "      <td>...</td>\n",
              "      <td>...</td>\n",
              "      <td>...</td>\n",
              "      <td>...</td>\n",
              "      <td>...</td>\n",
              "      <td>...</td>\n",
              "      <td>...</td>\n",
              "    </tr>\n",
              "    <tr>\n",
              "      <th>602</th>\n",
              "      <td>0</td>\n",
              "      <td>0</td>\n",
              "      <td>0</td>\n",
              "      <td>0</td>\n",
              "      <td>0</td>\n",
              "      <td>0</td>\n",
              "      <td>0</td>\n",
              "      <td>1</td>\n",
              "    </tr>\n",
              "    <tr>\n",
              "      <th>603</th>\n",
              "      <td>1</td>\n",
              "      <td>0</td>\n",
              "      <td>0</td>\n",
              "      <td>0</td>\n",
              "      <td>0</td>\n",
              "      <td>0</td>\n",
              "      <td>0</td>\n",
              "      <td>0</td>\n",
              "    </tr>\n",
              "    <tr>\n",
              "      <th>604</th>\n",
              "      <td>1</td>\n",
              "      <td>0</td>\n",
              "      <td>0</td>\n",
              "      <td>0</td>\n",
              "      <td>0</td>\n",
              "      <td>0</td>\n",
              "      <td>0</td>\n",
              "      <td>0</td>\n",
              "    </tr>\n",
              "    <tr>\n",
              "      <th>605</th>\n",
              "      <td>1</td>\n",
              "      <td>0</td>\n",
              "      <td>0</td>\n",
              "      <td>0</td>\n",
              "      <td>0</td>\n",
              "      <td>0</td>\n",
              "      <td>0</td>\n",
              "      <td>0</td>\n",
              "    </tr>\n",
              "    <tr>\n",
              "      <th>606</th>\n",
              "      <td>1</td>\n",
              "      <td>0</td>\n",
              "      <td>0</td>\n",
              "      <td>0</td>\n",
              "      <td>0</td>\n",
              "      <td>0</td>\n",
              "      <td>0</td>\n",
              "      <td>0</td>\n",
              "    </tr>\n",
              "  </tbody>\n",
              "</table>\n",
              "<p>607 rows × 8 columns</p>\n",
              "</div>\n",
              "      <button class=\"colab-df-convert\" onclick=\"convertToInteractive('df-adff4d0c-5fa8-4eb7-875e-2f3240a31c22')\"\n",
              "              title=\"Convert this dataframe to an interactive table.\"\n",
              "              style=\"display:none;\">\n",
              "\n",
              "  <svg xmlns=\"http://www.w3.org/2000/svg\" height=\"24px\"viewBox=\"0 0 24 24\"\n",
              "       width=\"24px\">\n",
              "    <path d=\"M0 0h24v24H0V0z\" fill=\"none\"/>\n",
              "    <path d=\"M18.56 5.44l.94 2.06.94-2.06 2.06-.94-2.06-.94-.94-2.06-.94 2.06-2.06.94zm-11 1L8.5 8.5l.94-2.06 2.06-.94-2.06-.94L8.5 2.5l-.94 2.06-2.06.94zm10 10l.94 2.06.94-2.06 2.06-.94-2.06-.94-.94-2.06-.94 2.06-2.06.94z\"/><path d=\"M17.41 7.96l-1.37-1.37c-.4-.4-.92-.59-1.43-.59-.52 0-1.04.2-1.43.59L10.3 9.45l-7.72 7.72c-.78.78-.78 2.05 0 2.83L4 21.41c.39.39.9.59 1.41.59.51 0 1.02-.2 1.41-.59l7.78-7.78 2.81-2.81c.8-.78.8-2.07 0-2.86zM5.41 20L4 18.59l7.72-7.72 1.47 1.35L5.41 20z\"/>\n",
              "  </svg>\n",
              "      </button>\n",
              "\n",
              "\n",
              "\n",
              "    <div id=\"df-308d7540-1323-46ae-afb8-d9c004a11ef7\">\n",
              "      <button class=\"colab-df-quickchart\" onclick=\"quickchart('df-308d7540-1323-46ae-afb8-d9c004a11ef7')\"\n",
              "              title=\"Suggest charts.\"\n",
              "              style=\"display:none;\">\n",
              "\n",
              "<svg xmlns=\"http://www.w3.org/2000/svg\" height=\"24px\"viewBox=\"0 0 24 24\"\n",
              "     width=\"24px\">\n",
              "    <g>\n",
              "        <path d=\"M19 3H5c-1.1 0-2 .9-2 2v14c0 1.1.9 2 2 2h14c1.1 0 2-.9 2-2V5c0-1.1-.9-2-2-2zM9 17H7v-7h2v7zm4 0h-2V7h2v10zm4 0h-2v-4h2v4z\"/>\n",
              "    </g>\n",
              "</svg>\n",
              "      </button>\n",
              "    </div>\n",
              "\n",
              "<style>\n",
              "  .colab-df-quickchart {\n",
              "    background-color: #E8F0FE;\n",
              "    border: none;\n",
              "    border-radius: 50%;\n",
              "    cursor: pointer;\n",
              "    display: none;\n",
              "    fill: #1967D2;\n",
              "    height: 32px;\n",
              "    padding: 0 0 0 0;\n",
              "    width: 32px;\n",
              "  }\n",
              "\n",
              "  .colab-df-quickchart:hover {\n",
              "    background-color: #E2EBFA;\n",
              "    box-shadow: 0px 1px 2px rgba(60, 64, 67, 0.3), 0px 1px 3px 1px rgba(60, 64, 67, 0.15);\n",
              "    fill: #174EA6;\n",
              "  }\n",
              "\n",
              "  [theme=dark] .colab-df-quickchart {\n",
              "    background-color: #3B4455;\n",
              "    fill: #D2E3FC;\n",
              "  }\n",
              "\n",
              "  [theme=dark] .colab-df-quickchart:hover {\n",
              "    background-color: #434B5C;\n",
              "    box-shadow: 0px 1px 3px 1px rgba(0, 0, 0, 0.15);\n",
              "    filter: drop-shadow(0px 1px 2px rgba(0, 0, 0, 0.3));\n",
              "    fill: #FFFFFF;\n",
              "  }\n",
              "</style>\n",
              "\n",
              "    <script>\n",
              "      async function quickchart(key) {\n",
              "        const containerElement = document.querySelector('#' + key);\n",
              "        const charts = await google.colab.kernel.invokeFunction(\n",
              "            'suggestCharts', [key], {});\n",
              "      }\n",
              "    </script>\n",
              "\n",
              "      <script>\n",
              "\n",
              "function displayQuickchartButton(domScope) {\n",
              "  let quickchartButtonEl =\n",
              "    domScope.querySelector('#df-308d7540-1323-46ae-afb8-d9c004a11ef7 button.colab-df-quickchart');\n",
              "  quickchartButtonEl.style.display =\n",
              "    google.colab.kernel.accessAllowed ? 'block' : 'none';\n",
              "}\n",
              "\n",
              "        displayQuickchartButton(document);\n",
              "      </script>\n",
              "      <style>\n",
              "    .colab-df-container {\n",
              "      display:flex;\n",
              "      flex-wrap:wrap;\n",
              "      gap: 12px;\n",
              "    }\n",
              "\n",
              "    .colab-df-convert {\n",
              "      background-color: #E8F0FE;\n",
              "      border: none;\n",
              "      border-radius: 50%;\n",
              "      cursor: pointer;\n",
              "      display: none;\n",
              "      fill: #1967D2;\n",
              "      height: 32px;\n",
              "      padding: 0 0 0 0;\n",
              "      width: 32px;\n",
              "    }\n",
              "\n",
              "    .colab-df-convert:hover {\n",
              "      background-color: #E2EBFA;\n",
              "      box-shadow: 0px 1px 2px rgba(60, 64, 67, 0.3), 0px 1px 3px 1px rgba(60, 64, 67, 0.15);\n",
              "      fill: #174EA6;\n",
              "    }\n",
              "\n",
              "    [theme=dark] .colab-df-convert {\n",
              "      background-color: #3B4455;\n",
              "      fill: #D2E3FC;\n",
              "    }\n",
              "\n",
              "    [theme=dark] .colab-df-convert:hover {\n",
              "      background-color: #434B5C;\n",
              "      box-shadow: 0px 1px 3px 1px rgba(0, 0, 0, 0.15);\n",
              "      filter: drop-shadow(0px 1px 2px rgba(0, 0, 0, 0.3));\n",
              "      fill: #FFFFFF;\n",
              "    }\n",
              "  </style>\n",
              "\n",
              "      <script>\n",
              "        const buttonEl =\n",
              "          document.querySelector('#df-adff4d0c-5fa8-4eb7-875e-2f3240a31c22 button.colab-df-convert');\n",
              "        buttonEl.style.display =\n",
              "          google.colab.kernel.accessAllowed ? 'block' : 'none';\n",
              "\n",
              "        async function convertToInteractive(key) {\n",
              "          const element = document.querySelector('#df-adff4d0c-5fa8-4eb7-875e-2f3240a31c22');\n",
              "          const dataTable =\n",
              "            await google.colab.kernel.invokeFunction('convertToInteractive',\n",
              "                                                     [key], {});\n",
              "          if (!dataTable) return;\n",
              "\n",
              "          const docLinkHtml = 'Like what you see? Visit the ' +\n",
              "            '<a target=\"_blank\" href=https://colab.research.google.com/notebooks/data_table.ipynb>data table notebook</a>'\n",
              "            + ' to learn more about interactive tables.';\n",
              "          element.innerHTML = '';\n",
              "          dataTable['output_type'] = 'display_data';\n",
              "          await google.colab.output.renderOutput(dataTable, element);\n",
              "          const docLink = document.createElement('div');\n",
              "          docLink.innerHTML = docLinkHtml;\n",
              "          element.appendChild(docLink);\n",
              "        }\n",
              "      </script>\n",
              "    </div>\n",
              "  </div>\n"
            ]
          },
          "metadata": {},
          "execution_count": 43
        }
      ]
    },
    {
      "cell_type": "code",
      "source": [
        "df_cat['Substrate_stack_sequence']=le.fit_transform(df_cat['Substrate_stack_sequence'])\n",
        "df_cat['Substrate_stack_sequence'].value_counts()"
      ],
      "metadata": {
        "colab": {
          "base_uri": "https://localhost:8080/"
        },
        "id": "O3ulMDJqN2pF",
        "outputId": "737c9d86-a994-4a31-c9ca-0a75f039ae10"
      },
      "execution_count": 44,
      "outputs": [
        {
          "output_type": "execute_result",
          "data": {
            "text/plain": [
              "0    234\n",
              "7    146\n",
              "4    142\n",
              "2     47\n",
              "1     12\n",
              "5     10\n",
              "3      9\n",
              "6      7\n",
              "Name: Substrate_stack_sequence, dtype: int64"
            ]
          },
          "metadata": {},
          "execution_count": 44
        }
      ]
    },
    {
      "cell_type": "code",
      "source": [
        "# from sklearn.preprocessing import OneHotEncoder\n",
        "# encoder = OneHotEncoder(sparse=False)\n",
        "# df_cat['class']= encoder.fit_transform(df_cat['class'].values.reshape(-1,1))\n",
        "# df_cat['class']"
      ],
      "metadata": {
        "id": "vaJpGJx8Gg-B"
      },
      "execution_count": 45,
      "outputs": []
    },
    {
      "cell_type": "code",
      "source": [
        "df = pd.concat([pd.DataFrame(df_num),(df_cat)], axis=1)\n",
        "df\n"
      ],
      "metadata": {
        "colab": {
          "base_uri": "https://localhost:8080/",
          "height": 423
        },
        "id": "IrafwZzRGjwy",
        "outputId": "87132a44-b240-4a21-e808-de0834da9c4b"
      },
      "execution_count": 46,
      "outputs": [
        {
          "output_type": "execute_result",
          "data": {
            "text/plain": [
              "     ?H(DOI)  ?L(DOI)  Cell_area_measured  Perovskite_band_gap   Voc    Jsc  \\\n",
              "0       0.06     0.06              0.1000                 1.60  1.01  21.15   \n",
              "1       0.20     0.80              0.0756                 1.60  0.97  20.00   \n",
              "2       0.30     0.53              0.0960                 1.53  1.10  19.30   \n",
              "3       0.20     0.70              0.0400                 1.53  1.08  20.06   \n",
              "4       0.40     0.33              1.2100                 1.53  1.00  21.46   \n",
              "..       ...      ...                 ...                  ...   ...    ...   \n",
              "602     0.40     0.33              0.0177                 1.53  0.96  20.10   \n",
              "603     0.20     0.60              0.1000                 1.50  1.01  19.80   \n",
              "604     0.40     0.33              0.1000                 1.50  0.83  14.70   \n",
              "605     0.40     0.33              0.1000                 1.53  0.96  16.73   \n",
              "606     0.40     0.33              0.1000                 1.53  0.98  16.85   \n",
              "\n",
              "         FF    PCE  Cell_architecture  Substrate_stack_sequence  \n",
              "0    0.5700  12.18                  0                         4  \n",
              "1    0.6900  13.30                  0                         0  \n",
              "2    0.7900  16.80                  0                         0  \n",
              "3    0.6725  13.03                  0                         4  \n",
              "4    0.7550  16.16                  1                         5  \n",
              "..      ...    ...                ...                       ...  \n",
              "602  0.8300  16.00                  1                         7  \n",
              "603  0.7700  15.59                  1                         0  \n",
              "604  0.6100   7.62                  1                         0  \n",
              "605  0.6500  10.71                  1                         0  \n",
              "606  0.7300  11.32                  1                         0  \n",
              "\n",
              "[607 rows x 10 columns]"
            ],
            "text/html": [
              "\n",
              "\n",
              "  <div id=\"df-7cf97c71-bbf1-40d4-9f25-1099cab51ec2\">\n",
              "    <div class=\"colab-df-container\">\n",
              "      <div>\n",
              "<style scoped>\n",
              "    .dataframe tbody tr th:only-of-type {\n",
              "        vertical-align: middle;\n",
              "    }\n",
              "\n",
              "    .dataframe tbody tr th {\n",
              "        vertical-align: top;\n",
              "    }\n",
              "\n",
              "    .dataframe thead th {\n",
              "        text-align: right;\n",
              "    }\n",
              "</style>\n",
              "<table border=\"1\" class=\"dataframe\">\n",
              "  <thead>\n",
              "    <tr style=\"text-align: right;\">\n",
              "      <th></th>\n",
              "      <th>?H(DOI)</th>\n",
              "      <th>?L(DOI)</th>\n",
              "      <th>Cell_area_measured</th>\n",
              "      <th>Perovskite_band_gap</th>\n",
              "      <th>Voc</th>\n",
              "      <th>Jsc</th>\n",
              "      <th>FF</th>\n",
              "      <th>PCE</th>\n",
              "      <th>Cell_architecture</th>\n",
              "      <th>Substrate_stack_sequence</th>\n",
              "    </tr>\n",
              "  </thead>\n",
              "  <tbody>\n",
              "    <tr>\n",
              "      <th>0</th>\n",
              "      <td>0.06</td>\n",
              "      <td>0.06</td>\n",
              "      <td>0.1000</td>\n",
              "      <td>1.60</td>\n",
              "      <td>1.01</td>\n",
              "      <td>21.15</td>\n",
              "      <td>0.5700</td>\n",
              "      <td>12.18</td>\n",
              "      <td>0</td>\n",
              "      <td>4</td>\n",
              "    </tr>\n",
              "    <tr>\n",
              "      <th>1</th>\n",
              "      <td>0.20</td>\n",
              "      <td>0.80</td>\n",
              "      <td>0.0756</td>\n",
              "      <td>1.60</td>\n",
              "      <td>0.97</td>\n",
              "      <td>20.00</td>\n",
              "      <td>0.6900</td>\n",
              "      <td>13.30</td>\n",
              "      <td>0</td>\n",
              "      <td>0</td>\n",
              "    </tr>\n",
              "    <tr>\n",
              "      <th>2</th>\n",
              "      <td>0.30</td>\n",
              "      <td>0.53</td>\n",
              "      <td>0.0960</td>\n",
              "      <td>1.53</td>\n",
              "      <td>1.10</td>\n",
              "      <td>19.30</td>\n",
              "      <td>0.7900</td>\n",
              "      <td>16.80</td>\n",
              "      <td>0</td>\n",
              "      <td>0</td>\n",
              "    </tr>\n",
              "    <tr>\n",
              "      <th>3</th>\n",
              "      <td>0.20</td>\n",
              "      <td>0.70</td>\n",
              "      <td>0.0400</td>\n",
              "      <td>1.53</td>\n",
              "      <td>1.08</td>\n",
              "      <td>20.06</td>\n",
              "      <td>0.6725</td>\n",
              "      <td>13.03</td>\n",
              "      <td>0</td>\n",
              "      <td>4</td>\n",
              "    </tr>\n",
              "    <tr>\n",
              "      <th>4</th>\n",
              "      <td>0.40</td>\n",
              "      <td>0.33</td>\n",
              "      <td>1.2100</td>\n",
              "      <td>1.53</td>\n",
              "      <td>1.00</td>\n",
              "      <td>21.46</td>\n",
              "      <td>0.7550</td>\n",
              "      <td>16.16</td>\n",
              "      <td>1</td>\n",
              "      <td>5</td>\n",
              "    </tr>\n",
              "    <tr>\n",
              "      <th>...</th>\n",
              "      <td>...</td>\n",
              "      <td>...</td>\n",
              "      <td>...</td>\n",
              "      <td>...</td>\n",
              "      <td>...</td>\n",
              "      <td>...</td>\n",
              "      <td>...</td>\n",
              "      <td>...</td>\n",
              "      <td>...</td>\n",
              "      <td>...</td>\n",
              "    </tr>\n",
              "    <tr>\n",
              "      <th>602</th>\n",
              "      <td>0.40</td>\n",
              "      <td>0.33</td>\n",
              "      <td>0.0177</td>\n",
              "      <td>1.53</td>\n",
              "      <td>0.96</td>\n",
              "      <td>20.10</td>\n",
              "      <td>0.8300</td>\n",
              "      <td>16.00</td>\n",
              "      <td>1</td>\n",
              "      <td>7</td>\n",
              "    </tr>\n",
              "    <tr>\n",
              "      <th>603</th>\n",
              "      <td>0.20</td>\n",
              "      <td>0.60</td>\n",
              "      <td>0.1000</td>\n",
              "      <td>1.50</td>\n",
              "      <td>1.01</td>\n",
              "      <td>19.80</td>\n",
              "      <td>0.7700</td>\n",
              "      <td>15.59</td>\n",
              "      <td>1</td>\n",
              "      <td>0</td>\n",
              "    </tr>\n",
              "    <tr>\n",
              "      <th>604</th>\n",
              "      <td>0.40</td>\n",
              "      <td>0.33</td>\n",
              "      <td>0.1000</td>\n",
              "      <td>1.50</td>\n",
              "      <td>0.83</td>\n",
              "      <td>14.70</td>\n",
              "      <td>0.6100</td>\n",
              "      <td>7.62</td>\n",
              "      <td>1</td>\n",
              "      <td>0</td>\n",
              "    </tr>\n",
              "    <tr>\n",
              "      <th>605</th>\n",
              "      <td>0.40</td>\n",
              "      <td>0.33</td>\n",
              "      <td>0.1000</td>\n",
              "      <td>1.53</td>\n",
              "      <td>0.96</td>\n",
              "      <td>16.73</td>\n",
              "      <td>0.6500</td>\n",
              "      <td>10.71</td>\n",
              "      <td>1</td>\n",
              "      <td>0</td>\n",
              "    </tr>\n",
              "    <tr>\n",
              "      <th>606</th>\n",
              "      <td>0.40</td>\n",
              "      <td>0.33</td>\n",
              "      <td>0.1000</td>\n",
              "      <td>1.53</td>\n",
              "      <td>0.98</td>\n",
              "      <td>16.85</td>\n",
              "      <td>0.7300</td>\n",
              "      <td>11.32</td>\n",
              "      <td>1</td>\n",
              "      <td>0</td>\n",
              "    </tr>\n",
              "  </tbody>\n",
              "</table>\n",
              "<p>607 rows × 10 columns</p>\n",
              "</div>\n",
              "      <button class=\"colab-df-convert\" onclick=\"convertToInteractive('df-7cf97c71-bbf1-40d4-9f25-1099cab51ec2')\"\n",
              "              title=\"Convert this dataframe to an interactive table.\"\n",
              "              style=\"display:none;\">\n",
              "\n",
              "  <svg xmlns=\"http://www.w3.org/2000/svg\" height=\"24px\"viewBox=\"0 0 24 24\"\n",
              "       width=\"24px\">\n",
              "    <path d=\"M0 0h24v24H0V0z\" fill=\"none\"/>\n",
              "    <path d=\"M18.56 5.44l.94 2.06.94-2.06 2.06-.94-2.06-.94-.94-2.06-.94 2.06-2.06.94zm-11 1L8.5 8.5l.94-2.06 2.06-.94-2.06-.94L8.5 2.5l-.94 2.06-2.06.94zm10 10l.94 2.06.94-2.06 2.06-.94-2.06-.94-.94-2.06-.94 2.06-2.06.94z\"/><path d=\"M17.41 7.96l-1.37-1.37c-.4-.4-.92-.59-1.43-.59-.52 0-1.04.2-1.43.59L10.3 9.45l-7.72 7.72c-.78.78-.78 2.05 0 2.83L4 21.41c.39.39.9.59 1.41.59.51 0 1.02-.2 1.41-.59l7.78-7.78 2.81-2.81c.8-.78.8-2.07 0-2.86zM5.41 20L4 18.59l7.72-7.72 1.47 1.35L5.41 20z\"/>\n",
              "  </svg>\n",
              "      </button>\n",
              "\n",
              "\n",
              "\n",
              "    <div id=\"df-c1adcbd6-624b-4c55-8f52-8c08a30aa194\">\n",
              "      <button class=\"colab-df-quickchart\" onclick=\"quickchart('df-c1adcbd6-624b-4c55-8f52-8c08a30aa194')\"\n",
              "              title=\"Suggest charts.\"\n",
              "              style=\"display:none;\">\n",
              "\n",
              "<svg xmlns=\"http://www.w3.org/2000/svg\" height=\"24px\"viewBox=\"0 0 24 24\"\n",
              "     width=\"24px\">\n",
              "    <g>\n",
              "        <path d=\"M19 3H5c-1.1 0-2 .9-2 2v14c0 1.1.9 2 2 2h14c1.1 0 2-.9 2-2V5c0-1.1-.9-2-2-2zM9 17H7v-7h2v7zm4 0h-2V7h2v10zm4 0h-2v-4h2v4z\"/>\n",
              "    </g>\n",
              "</svg>\n",
              "      </button>\n",
              "    </div>\n",
              "\n",
              "<style>\n",
              "  .colab-df-quickchart {\n",
              "    background-color: #E8F0FE;\n",
              "    border: none;\n",
              "    border-radius: 50%;\n",
              "    cursor: pointer;\n",
              "    display: none;\n",
              "    fill: #1967D2;\n",
              "    height: 32px;\n",
              "    padding: 0 0 0 0;\n",
              "    width: 32px;\n",
              "  }\n",
              "\n",
              "  .colab-df-quickchart:hover {\n",
              "    background-color: #E2EBFA;\n",
              "    box-shadow: 0px 1px 2px rgba(60, 64, 67, 0.3), 0px 1px 3px 1px rgba(60, 64, 67, 0.15);\n",
              "    fill: #174EA6;\n",
              "  }\n",
              "\n",
              "  [theme=dark] .colab-df-quickchart {\n",
              "    background-color: #3B4455;\n",
              "    fill: #D2E3FC;\n",
              "  }\n",
              "\n",
              "  [theme=dark] .colab-df-quickchart:hover {\n",
              "    background-color: #434B5C;\n",
              "    box-shadow: 0px 1px 3px 1px rgba(0, 0, 0, 0.15);\n",
              "    filter: drop-shadow(0px 1px 2px rgba(0, 0, 0, 0.3));\n",
              "    fill: #FFFFFF;\n",
              "  }\n",
              "</style>\n",
              "\n",
              "    <script>\n",
              "      async function quickchart(key) {\n",
              "        const containerElement = document.querySelector('#' + key);\n",
              "        const charts = await google.colab.kernel.invokeFunction(\n",
              "            'suggestCharts', [key], {});\n",
              "      }\n",
              "    </script>\n",
              "\n",
              "      <script>\n",
              "\n",
              "function displayQuickchartButton(domScope) {\n",
              "  let quickchartButtonEl =\n",
              "    domScope.querySelector('#df-c1adcbd6-624b-4c55-8f52-8c08a30aa194 button.colab-df-quickchart');\n",
              "  quickchartButtonEl.style.display =\n",
              "    google.colab.kernel.accessAllowed ? 'block' : 'none';\n",
              "}\n",
              "\n",
              "        displayQuickchartButton(document);\n",
              "      </script>\n",
              "      <style>\n",
              "    .colab-df-container {\n",
              "      display:flex;\n",
              "      flex-wrap:wrap;\n",
              "      gap: 12px;\n",
              "    }\n",
              "\n",
              "    .colab-df-convert {\n",
              "      background-color: #E8F0FE;\n",
              "      border: none;\n",
              "      border-radius: 50%;\n",
              "      cursor: pointer;\n",
              "      display: none;\n",
              "      fill: #1967D2;\n",
              "      height: 32px;\n",
              "      padding: 0 0 0 0;\n",
              "      width: 32px;\n",
              "    }\n",
              "\n",
              "    .colab-df-convert:hover {\n",
              "      background-color: #E2EBFA;\n",
              "      box-shadow: 0px 1px 2px rgba(60, 64, 67, 0.3), 0px 1px 3px 1px rgba(60, 64, 67, 0.15);\n",
              "      fill: #174EA6;\n",
              "    }\n",
              "\n",
              "    [theme=dark] .colab-df-convert {\n",
              "      background-color: #3B4455;\n",
              "      fill: #D2E3FC;\n",
              "    }\n",
              "\n",
              "    [theme=dark] .colab-df-convert:hover {\n",
              "      background-color: #434B5C;\n",
              "      box-shadow: 0px 1px 3px 1px rgba(0, 0, 0, 0.15);\n",
              "      filter: drop-shadow(0px 1px 2px rgba(0, 0, 0, 0.3));\n",
              "      fill: #FFFFFF;\n",
              "    }\n",
              "  </style>\n",
              "\n",
              "      <script>\n",
              "        const buttonEl =\n",
              "          document.querySelector('#df-7cf97c71-bbf1-40d4-9f25-1099cab51ec2 button.colab-df-convert');\n",
              "        buttonEl.style.display =\n",
              "          google.colab.kernel.accessAllowed ? 'block' : 'none';\n",
              "\n",
              "        async function convertToInteractive(key) {\n",
              "          const element = document.querySelector('#df-7cf97c71-bbf1-40d4-9f25-1099cab51ec2');\n",
              "          const dataTable =\n",
              "            await google.colab.kernel.invokeFunction('convertToInteractive',\n",
              "                                                     [key], {});\n",
              "          if (!dataTable) return;\n",
              "\n",
              "          const docLinkHtml = 'Like what you see? Visit the ' +\n",
              "            '<a target=\"_blank\" href=https://colab.research.google.com/notebooks/data_table.ipynb>data table notebook</a>'\n",
              "            + ' to learn more about interactive tables.';\n",
              "          element.innerHTML = '';\n",
              "          dataTable['output_type'] = 'display_data';\n",
              "          await google.colab.output.renderOutput(dataTable, element);\n",
              "          const docLink = document.createElement('div');\n",
              "          docLink.innerHTML = docLinkHtml;\n",
              "          element.appendChild(docLink);\n",
              "        }\n",
              "      </script>\n",
              "    </div>\n",
              "  </div>\n"
            ]
          },
          "metadata": {},
          "execution_count": 46
        }
      ]
    },
    {
      "cell_type": "code",
      "source": [
        "df.keys()"
      ],
      "metadata": {
        "colab": {
          "base_uri": "https://localhost:8080/"
        },
        "id": "4yjXnCLDHmNZ",
        "outputId": "5ad2342b-857c-4641-a04c-d6e7b7126b06"
      },
      "execution_count": 47,
      "outputs": [
        {
          "output_type": "execute_result",
          "data": {
            "text/plain": [
              "Index(['?H(DOI)', '?L(DOI)', 'Cell_area_measured', 'Perovskite_band_gap',\n",
              "       'Voc', 'Jsc', 'FF', 'PCE', 'Cell_architecture',\n",
              "       'Substrate_stack_sequence'],\n",
              "      dtype='object')"
            ]
          },
          "metadata": {},
          "execution_count": 47
        }
      ]
    },
    {
      "cell_type": "code",
      "source": [
        "df=df[['?H(DOI)', '?L(DOI)', 'Cell_area_measured', 'Perovskite_band_gap','Cell_architecture',\n",
        "       'Substrate_stack_sequence','Jsc']]"
      ],
      "metadata": {
        "id": "BHNU77wXHpiH"
      },
      "execution_count": 48,
      "outputs": []
    },
    {
      "cell_type": "code",
      "source": [
        "df"
      ],
      "metadata": {
        "colab": {
          "base_uri": "https://localhost:8080/",
          "height": 423
        },
        "id": "n5jAs1R5G5H3",
        "outputId": "dc00d661-fa3d-4132-b6f3-d36f8d73e770"
      },
      "execution_count": 49,
      "outputs": [
        {
          "output_type": "execute_result",
          "data": {
            "text/plain": [
              "     ?H(DOI)  ?L(DOI)  Cell_area_measured  Perovskite_band_gap  \\\n",
              "0       0.06     0.06              0.1000                 1.60   \n",
              "1       0.20     0.80              0.0756                 1.60   \n",
              "2       0.30     0.53              0.0960                 1.53   \n",
              "3       0.20     0.70              0.0400                 1.53   \n",
              "4       0.40     0.33              1.2100                 1.53   \n",
              "..       ...      ...                 ...                  ...   \n",
              "602     0.40     0.33              0.0177                 1.53   \n",
              "603     0.20     0.60              0.1000                 1.50   \n",
              "604     0.40     0.33              0.1000                 1.50   \n",
              "605     0.40     0.33              0.1000                 1.53   \n",
              "606     0.40     0.33              0.1000                 1.53   \n",
              "\n",
              "     Cell_architecture  Substrate_stack_sequence    Jsc  \n",
              "0                    0                         4  21.15  \n",
              "1                    0                         0  20.00  \n",
              "2                    0                         0  19.30  \n",
              "3                    0                         4  20.06  \n",
              "4                    1                         5  21.46  \n",
              "..                 ...                       ...    ...  \n",
              "602                  1                         7  20.10  \n",
              "603                  1                         0  19.80  \n",
              "604                  1                         0  14.70  \n",
              "605                  1                         0  16.73  \n",
              "606                  1                         0  16.85  \n",
              "\n",
              "[607 rows x 7 columns]"
            ],
            "text/html": [
              "\n",
              "\n",
              "  <div id=\"df-48c51a83-86aa-4cad-b7b3-8d1a450fc410\">\n",
              "    <div class=\"colab-df-container\">\n",
              "      <div>\n",
              "<style scoped>\n",
              "    .dataframe tbody tr th:only-of-type {\n",
              "        vertical-align: middle;\n",
              "    }\n",
              "\n",
              "    .dataframe tbody tr th {\n",
              "        vertical-align: top;\n",
              "    }\n",
              "\n",
              "    .dataframe thead th {\n",
              "        text-align: right;\n",
              "    }\n",
              "</style>\n",
              "<table border=\"1\" class=\"dataframe\">\n",
              "  <thead>\n",
              "    <tr style=\"text-align: right;\">\n",
              "      <th></th>\n",
              "      <th>?H(DOI)</th>\n",
              "      <th>?L(DOI)</th>\n",
              "      <th>Cell_area_measured</th>\n",
              "      <th>Perovskite_band_gap</th>\n",
              "      <th>Cell_architecture</th>\n",
              "      <th>Substrate_stack_sequence</th>\n",
              "      <th>Jsc</th>\n",
              "    </tr>\n",
              "  </thead>\n",
              "  <tbody>\n",
              "    <tr>\n",
              "      <th>0</th>\n",
              "      <td>0.06</td>\n",
              "      <td>0.06</td>\n",
              "      <td>0.1000</td>\n",
              "      <td>1.60</td>\n",
              "      <td>0</td>\n",
              "      <td>4</td>\n",
              "      <td>21.15</td>\n",
              "    </tr>\n",
              "    <tr>\n",
              "      <th>1</th>\n",
              "      <td>0.20</td>\n",
              "      <td>0.80</td>\n",
              "      <td>0.0756</td>\n",
              "      <td>1.60</td>\n",
              "      <td>0</td>\n",
              "      <td>0</td>\n",
              "      <td>20.00</td>\n",
              "    </tr>\n",
              "    <tr>\n",
              "      <th>2</th>\n",
              "      <td>0.30</td>\n",
              "      <td>0.53</td>\n",
              "      <td>0.0960</td>\n",
              "      <td>1.53</td>\n",
              "      <td>0</td>\n",
              "      <td>0</td>\n",
              "      <td>19.30</td>\n",
              "    </tr>\n",
              "    <tr>\n",
              "      <th>3</th>\n",
              "      <td>0.20</td>\n",
              "      <td>0.70</td>\n",
              "      <td>0.0400</td>\n",
              "      <td>1.53</td>\n",
              "      <td>0</td>\n",
              "      <td>4</td>\n",
              "      <td>20.06</td>\n",
              "    </tr>\n",
              "    <tr>\n",
              "      <th>4</th>\n",
              "      <td>0.40</td>\n",
              "      <td>0.33</td>\n",
              "      <td>1.2100</td>\n",
              "      <td>1.53</td>\n",
              "      <td>1</td>\n",
              "      <td>5</td>\n",
              "      <td>21.46</td>\n",
              "    </tr>\n",
              "    <tr>\n",
              "      <th>...</th>\n",
              "      <td>...</td>\n",
              "      <td>...</td>\n",
              "      <td>...</td>\n",
              "      <td>...</td>\n",
              "      <td>...</td>\n",
              "      <td>...</td>\n",
              "      <td>...</td>\n",
              "    </tr>\n",
              "    <tr>\n",
              "      <th>602</th>\n",
              "      <td>0.40</td>\n",
              "      <td>0.33</td>\n",
              "      <td>0.0177</td>\n",
              "      <td>1.53</td>\n",
              "      <td>1</td>\n",
              "      <td>7</td>\n",
              "      <td>20.10</td>\n",
              "    </tr>\n",
              "    <tr>\n",
              "      <th>603</th>\n",
              "      <td>0.20</td>\n",
              "      <td>0.60</td>\n",
              "      <td>0.1000</td>\n",
              "      <td>1.50</td>\n",
              "      <td>1</td>\n",
              "      <td>0</td>\n",
              "      <td>19.80</td>\n",
              "    </tr>\n",
              "    <tr>\n",
              "      <th>604</th>\n",
              "      <td>0.40</td>\n",
              "      <td>0.33</td>\n",
              "      <td>0.1000</td>\n",
              "      <td>1.50</td>\n",
              "      <td>1</td>\n",
              "      <td>0</td>\n",
              "      <td>14.70</td>\n",
              "    </tr>\n",
              "    <tr>\n",
              "      <th>605</th>\n",
              "      <td>0.40</td>\n",
              "      <td>0.33</td>\n",
              "      <td>0.1000</td>\n",
              "      <td>1.53</td>\n",
              "      <td>1</td>\n",
              "      <td>0</td>\n",
              "      <td>16.73</td>\n",
              "    </tr>\n",
              "    <tr>\n",
              "      <th>606</th>\n",
              "      <td>0.40</td>\n",
              "      <td>0.33</td>\n",
              "      <td>0.1000</td>\n",
              "      <td>1.53</td>\n",
              "      <td>1</td>\n",
              "      <td>0</td>\n",
              "      <td>16.85</td>\n",
              "    </tr>\n",
              "  </tbody>\n",
              "</table>\n",
              "<p>607 rows × 7 columns</p>\n",
              "</div>\n",
              "      <button class=\"colab-df-convert\" onclick=\"convertToInteractive('df-48c51a83-86aa-4cad-b7b3-8d1a450fc410')\"\n",
              "              title=\"Convert this dataframe to an interactive table.\"\n",
              "              style=\"display:none;\">\n",
              "\n",
              "  <svg xmlns=\"http://www.w3.org/2000/svg\" height=\"24px\"viewBox=\"0 0 24 24\"\n",
              "       width=\"24px\">\n",
              "    <path d=\"M0 0h24v24H0V0z\" fill=\"none\"/>\n",
              "    <path d=\"M18.56 5.44l.94 2.06.94-2.06 2.06-.94-2.06-.94-.94-2.06-.94 2.06-2.06.94zm-11 1L8.5 8.5l.94-2.06 2.06-.94-2.06-.94L8.5 2.5l-.94 2.06-2.06.94zm10 10l.94 2.06.94-2.06 2.06-.94-2.06-.94-.94-2.06-.94 2.06-2.06.94z\"/><path d=\"M17.41 7.96l-1.37-1.37c-.4-.4-.92-.59-1.43-.59-.52 0-1.04.2-1.43.59L10.3 9.45l-7.72 7.72c-.78.78-.78 2.05 0 2.83L4 21.41c.39.39.9.59 1.41.59.51 0 1.02-.2 1.41-.59l7.78-7.78 2.81-2.81c.8-.78.8-2.07 0-2.86zM5.41 20L4 18.59l7.72-7.72 1.47 1.35L5.41 20z\"/>\n",
              "  </svg>\n",
              "      </button>\n",
              "\n",
              "\n",
              "\n",
              "    <div id=\"df-3edfcdb7-e50c-4287-9e79-864742d81625\">\n",
              "      <button class=\"colab-df-quickchart\" onclick=\"quickchart('df-3edfcdb7-e50c-4287-9e79-864742d81625')\"\n",
              "              title=\"Suggest charts.\"\n",
              "              style=\"display:none;\">\n",
              "\n",
              "<svg xmlns=\"http://www.w3.org/2000/svg\" height=\"24px\"viewBox=\"0 0 24 24\"\n",
              "     width=\"24px\">\n",
              "    <g>\n",
              "        <path d=\"M19 3H5c-1.1 0-2 .9-2 2v14c0 1.1.9 2 2 2h14c1.1 0 2-.9 2-2V5c0-1.1-.9-2-2-2zM9 17H7v-7h2v7zm4 0h-2V7h2v10zm4 0h-2v-4h2v4z\"/>\n",
              "    </g>\n",
              "</svg>\n",
              "      </button>\n",
              "    </div>\n",
              "\n",
              "<style>\n",
              "  .colab-df-quickchart {\n",
              "    background-color: #E8F0FE;\n",
              "    border: none;\n",
              "    border-radius: 50%;\n",
              "    cursor: pointer;\n",
              "    display: none;\n",
              "    fill: #1967D2;\n",
              "    height: 32px;\n",
              "    padding: 0 0 0 0;\n",
              "    width: 32px;\n",
              "  }\n",
              "\n",
              "  .colab-df-quickchart:hover {\n",
              "    background-color: #E2EBFA;\n",
              "    box-shadow: 0px 1px 2px rgba(60, 64, 67, 0.3), 0px 1px 3px 1px rgba(60, 64, 67, 0.15);\n",
              "    fill: #174EA6;\n",
              "  }\n",
              "\n",
              "  [theme=dark] .colab-df-quickchart {\n",
              "    background-color: #3B4455;\n",
              "    fill: #D2E3FC;\n",
              "  }\n",
              "\n",
              "  [theme=dark] .colab-df-quickchart:hover {\n",
              "    background-color: #434B5C;\n",
              "    box-shadow: 0px 1px 3px 1px rgba(0, 0, 0, 0.15);\n",
              "    filter: drop-shadow(0px 1px 2px rgba(0, 0, 0, 0.3));\n",
              "    fill: #FFFFFF;\n",
              "  }\n",
              "</style>\n",
              "\n",
              "    <script>\n",
              "      async function quickchart(key) {\n",
              "        const containerElement = document.querySelector('#' + key);\n",
              "        const charts = await google.colab.kernel.invokeFunction(\n",
              "            'suggestCharts', [key], {});\n",
              "      }\n",
              "    </script>\n",
              "\n",
              "      <script>\n",
              "\n",
              "function displayQuickchartButton(domScope) {\n",
              "  let quickchartButtonEl =\n",
              "    domScope.querySelector('#df-3edfcdb7-e50c-4287-9e79-864742d81625 button.colab-df-quickchart');\n",
              "  quickchartButtonEl.style.display =\n",
              "    google.colab.kernel.accessAllowed ? 'block' : 'none';\n",
              "}\n",
              "\n",
              "        displayQuickchartButton(document);\n",
              "      </script>\n",
              "      <style>\n",
              "    .colab-df-container {\n",
              "      display:flex;\n",
              "      flex-wrap:wrap;\n",
              "      gap: 12px;\n",
              "    }\n",
              "\n",
              "    .colab-df-convert {\n",
              "      background-color: #E8F0FE;\n",
              "      border: none;\n",
              "      border-radius: 50%;\n",
              "      cursor: pointer;\n",
              "      display: none;\n",
              "      fill: #1967D2;\n",
              "      height: 32px;\n",
              "      padding: 0 0 0 0;\n",
              "      width: 32px;\n",
              "    }\n",
              "\n",
              "    .colab-df-convert:hover {\n",
              "      background-color: #E2EBFA;\n",
              "      box-shadow: 0px 1px 2px rgba(60, 64, 67, 0.3), 0px 1px 3px 1px rgba(60, 64, 67, 0.15);\n",
              "      fill: #174EA6;\n",
              "    }\n",
              "\n",
              "    [theme=dark] .colab-df-convert {\n",
              "      background-color: #3B4455;\n",
              "      fill: #D2E3FC;\n",
              "    }\n",
              "\n",
              "    [theme=dark] .colab-df-convert:hover {\n",
              "      background-color: #434B5C;\n",
              "      box-shadow: 0px 1px 3px 1px rgba(0, 0, 0, 0.15);\n",
              "      filter: drop-shadow(0px 1px 2px rgba(0, 0, 0, 0.3));\n",
              "      fill: #FFFFFF;\n",
              "    }\n",
              "  </style>\n",
              "\n",
              "      <script>\n",
              "        const buttonEl =\n",
              "          document.querySelector('#df-48c51a83-86aa-4cad-b7b3-8d1a450fc410 button.colab-df-convert');\n",
              "        buttonEl.style.display =\n",
              "          google.colab.kernel.accessAllowed ? 'block' : 'none';\n",
              "\n",
              "        async function convertToInteractive(key) {\n",
              "          const element = document.querySelector('#df-48c51a83-86aa-4cad-b7b3-8d1a450fc410');\n",
              "          const dataTable =\n",
              "            await google.colab.kernel.invokeFunction('convertToInteractive',\n",
              "                                                     [key], {});\n",
              "          if (!dataTable) return;\n",
              "\n",
              "          const docLinkHtml = 'Like what you see? Visit the ' +\n",
              "            '<a target=\"_blank\" href=https://colab.research.google.com/notebooks/data_table.ipynb>data table notebook</a>'\n",
              "            + ' to learn more about interactive tables.';\n",
              "          element.innerHTML = '';\n",
              "          dataTable['output_type'] = 'display_data';\n",
              "          await google.colab.output.renderOutput(dataTable, element);\n",
              "          const docLink = document.createElement('div');\n",
              "          docLink.innerHTML = docLinkHtml;\n",
              "          element.appendChild(docLink);\n",
              "        }\n",
              "      </script>\n",
              "    </div>\n",
              "  </div>\n"
            ]
          },
          "metadata": {},
          "execution_count": 49
        }
      ]
    },
    {
      "cell_type": "code",
      "source": [
        "from google.colab import drive\n",
        "drive.mount('/content/drive')"
      ],
      "metadata": {
        "colab": {
          "base_uri": "https://localhost:8080/"
        },
        "id": "9ZAu90S4G77K",
        "outputId": "ea7a367e-ca6e-482c-b4c9-c03a8c3d4d45"
      },
      "execution_count": 50,
      "outputs": [
        {
          "output_type": "stream",
          "name": "stdout",
          "text": [
            "Drive already mounted at /content/drive; to attempt to forcibly remount, call drive.mount(\"/content/drive\", force_remount=True).\n"
          ]
        }
      ]
    },
    {
      "cell_type": "code",
      "source": [
        "import time\n",
        "import numpy as np\n",
        "import pandas as pd\n",
        "from sklearn.tree import DecisionTreeRegressor\n",
        "from sklearn.model_selection import KFold\n",
        "\n",
        "# Assuming you have your data loaded into the DataFrame df\n",
        "\n",
        "seed = 12\n",
        "kfold = KFold(10, shuffle=True, random_state=seed)\n",
        "i = 1\n",
        "\n",
        "for tr, ts in kfold.split(df):\n",
        "    train = df.iloc[tr]\n",
        "    test = df.iloc[ts]\n",
        "    tr_data_X = train.iloc[:, :-1]\n",
        "    tr_data_Y = train.iloc[:, -1]\n",
        "    ts_data_X = test.iloc[:, :-1]\n",
        "    ts_data_Y = test.iloc[:, -1]\n",
        "\n",
        "    if i == 1:\n",
        "        train.to_csv('/content/drive/MyDrive/sbg_flexible/generated jsc/generated_train_1.csv', index=False)\n",
        "        test.to_csv('/content/drive/MyDrive/sbg_flexible/generated jsc/generated_test_1.csv', index=False)\n",
        "        print(ts)\n",
        "\n",
        "    i += 1"
      ],
      "metadata": {
        "colab": {
          "base_uri": "https://localhost:8080/"
        },
        "id": "HpVCG5YOnNCY",
        "outputId": "77a5531f-9513-4276-8b68-28aa63aeba12"
      },
      "execution_count": 51,
      "outputs": [
        {
          "output_type": "stream",
          "name": "stdout",
          "text": [
            "[  3  11  14  20  42  44  56  59  71  78  83 101 111 116 122 130 150 168\n",
            " 173 205 214 226 227 250 265 272 283 301 306 311 324 326 332 333 337 340\n",
            " 344 361 365 380 381 392 401 410 423 428 437 445 463 489 490 519 523 536\n",
            " 546 557 559 578 588 592 593]\n"
          ]
        }
      ]
    },
    {
      "cell_type": "code",
      "source": [
        "training_data_df=pd.read_csv('/content/drive/MyDrive/sbg_flexible/generated jsc/generated_train_1.csv',header=None)\n",
        "training_data=training_data_df.to_numpy()\n",
        "print(training_data)\n",
        "print(training_data.shape)"
      ],
      "metadata": {
        "colab": {
          "base_uri": "https://localhost:8080/"
        },
        "id": "bk9GD4wqHafT",
        "outputId": "7015bb1e-dc45-4910-f0af-54ebce1360fd"
      },
      "execution_count": 52,
      "outputs": [
        {
          "output_type": "stream",
          "name": "stdout",
          "text": [
            "[['?H(DOI)' '?L(DOI)' 'Cell_area_measured' ... 'Cell_architecture'\n",
            "  'Substrate_stack_sequence' 'Jsc']\n",
            " ['0.06' '0.06' '0.1' ... '0' '4' '21.15']\n",
            " ['0.2' '0.8' '0.0756' ... '0' '0' '20.0']\n",
            " ...\n",
            " ['0.4' '0.33' '0.1' ... '1' '0' '14.7']\n",
            " ['0.4' '0.33' '0.1' ... '1' '0' '16.73']\n",
            " ['0.4' '0.33' '0.1' ... '1' '0' '16.85']]\n",
            "(547, 7)\n"
          ]
        }
      ]
    },
    {
      "cell_type": "code",
      "source": [
        "test_data_df=pd.read_csv(\"/content/drive/MyDrive/sbg_flexible/generated jsc/generated_test_1.csv\",header=None)\n",
        "test_data=test_data_df.to_numpy()\n",
        "print(test_data)\n",
        "print(test_data.shape)"
      ],
      "metadata": {
        "colab": {
          "base_uri": "https://localhost:8080/"
        },
        "id": "MpWxOH1zHjZ2",
        "outputId": "788c07b5-67e5-4ce9-c9e2-ff15f14283e3"
      },
      "execution_count": 53,
      "outputs": [
        {
          "output_type": "stream",
          "name": "stdout",
          "text": [
            "[['?H(DOI)' '?L(DOI)' 'Cell_area_measured' 'Perovskite_band_gap'\n",
            "  'Cell_architecture' 'Substrate_stack_sequence' 'Jsc']\n",
            " ['0.2' '0.7' '0.04' '1.53' '0' '4' '20.06']\n",
            " ['0.2' '0.63' '4.052' '1.53' '0' '0' '20.1']\n",
            " ['0.2' '0.63' '7.052' '1.53' '0' '0' '15.5']\n",
            " ['0.2' '0.3' '0.09' '1.5' '1' '5' '18.76']\n",
            " ['0.2' '0.1' '0.09' '1.5' '1' '0' '22.55']\n",
            " ['0.06' '0.83' '0.1' '1.5' '1' '0' '12.2']\n",
            " ['0.3' '0.0' '0.1' '1.5' '1' '0' '14.65']\n",
            " ['0.2' '0.3' '0.16' '1.5' '0' '3' '16.8']\n",
            " ['0.4' '0.6' '4.06' '1.53' '0' '7' '18.7']\n",
            " ['0.25' '0.25' '0.2' '1.5' '1' '0' '14.9']\n",
            " ['0.25' '0.25' '1.12' '1.5' '1' '0' '5.53']\n",
            " ['0.06' '0.1' '2.1' '1.5' '1' '0' '22.43']\n",
            " ['0.21' '0.47' '0.12' '1.53' '0' '4' '17.74']\n",
            " ['0.4' '0.33' '0.1' '1.5' '1' '7' '21.82']\n",
            " ['0.2' '0.43' '1.112' '1.5' '0' '0' '19.8']\n",
            " ['0.2' '0.33' '0.0725' '1.53' '0' '7' '22.0']\n",
            " ['0.24' '0.1' '0.08' '1.5' '1' '2' '22.23']\n",
            " ['0.21' '0.04' '1.4' '1.57' '0' '4' '17.48']\n",
            " ['0.2' '0.33' '0.0875' '1.53' '1' '7' '17.41']\n",
            " ['0.7' '0.2' '0.09' '1.4' '1' '4' '2.43']\n",
            " ['0.1' '0.4' '0.11' '1.5' '1' '0' '20.96']\n",
            " ['0.36' '0.3' '0.0464' '1.5' '1' '2' '18.04']\n",
            " ['0.36' '0.3' '0.0464' '1.5' '1' '2' '17.96']\n",
            " ['0.2' '0.33' '1.2' '1.52' '0' '4' '17.0']\n",
            " ['0.1' '0.45' '0.04' '1.55' '1' '0' '22.9']\n",
            " ['0.22' '0.6' '0.06' '1.5' '1' '2' '21.53']\n",
            " ['0.2' '0.63' '0.1' '1.53' '0' '0' '22.85']\n",
            " ['0.3' '0.1' '0.1' '1.6' '1' '4' '22.0']\n",
            " ['0.08' '0.25' '0.1' '1.55' '0' '7' '6.4']\n",
            " ['0.2' '0.47' '0.09' '1.5' '0' '0' '20.23']\n",
            " ['0.15' '0.15' '0.1' '1.5' '1' '5' '19.5']\n",
            " ['0.3' '0.2' '0.11' '1.55' '1' '0' '22.9']\n",
            " ['0.38' '0.07' '0.04' '1.59' '1' '4' '20.27']\n",
            " ['0.34' '0.11' '0.04' '1.59' '1' '4' '20.88']\n",
            " ['0.2' '0.53' '0.09' '1.53' '0' '0' '22.9']\n",
            " ['0.3' '0.4' '0.07' '1.6' '0' '4' '18.17']\n",
            " ['0.2' '0.51' '0.1' '1.56' '1' '7' '18.39']\n",
            " ['0.2' '0.3' '0.09' '1.5' '1' '4' '18.9']\n",
            " ['0.1' '0.2' '0.12' '1.6' '0' '4' '23.26']\n",
            " ['0.36' '0.37' '0.11' '1.5' '1' '4' '19.18']\n",
            " ['0.36' '0.37' '0.11' '1.5' '1' '4' '18.97']\n",
            " ['0.88' '0.14' '0.09' '1.55' '0' '0' '14.9']\n",
            " ['0.2' '0.83' '0.04' '1.53' '1' '7' '17.86']\n",
            " ['0.1' '0.6' '0.09' '1.6' '1' '4' '22.2']\n",
            " ['0.2' '0.43' '0.1' '1.53' '0' '6' '7.24']\n",
            " ['0.4' '0.53' '0.09' '1.5' '0' '0' '21.6']\n",
            " ['0.2' '0.83' '0.108' '1.5' '0' '0' '20.7']\n",
            " ['0.2' '0.33' '0.09' '1.53' '1' '0' '19.8']\n",
            " ['0.1' '0.1' '0.1' '1.5' '1' '0' '20.32']\n",
            " ['0.2' '0.33' '0.05' '1.5' '0' '4' '22.31']\n",
            " ['0.2' '0.43' '0.05' '1.5' '0' '4' '21.71']\n",
            " ['0.2' '-0.03' '0.08' '1.55' '0' '0' '21.8']\n",
            " ['0.4' '0.33' '0.1' '1.5' '1' '0' '15.05']\n",
            " ['0.2' '0.43' '0.08' '1.6' '1' '7' '19.71']\n",
            " ['0.2' '0.4' '0.12' '1.45' '0' '0' '23.27']\n",
            " ['0.2' '0.43' '0.075' '1.5' '0' '0' '19.4']\n",
            " ['0.2' '0.3' '0.1' '1.5' '0' '0' '20.76']\n",
            " ['0.2' '0.1' '0.1' '1.53' '0' '0' '21.71']\n",
            " ['0.11' '0.4' '0.05' '1.5' '1' '4' '20.8']\n",
            " ['0.4' '0.33' '0.1' '1.5' '1' '0' '17.5']\n",
            " ['0.3' '0.33' '0.286' '1.53' '1' '7' '19.1']]\n",
            "(62, 7)\n"
          ]
        }
      ]
    },
    {
      "cell_type": "code",
      "source": [
        "ts_data_X=test_data[:,:-1]\n",
        "ts_data_Y=test_data[:,-1]\n",
        "print(ts_data_Y.shape)"
      ],
      "metadata": {
        "colab": {
          "base_uri": "https://localhost:8080/"
        },
        "id": "eEKIBHqcHx6G",
        "outputId": "a73981de-3dba-4dd4-cc07-8466e396c206"
      },
      "execution_count": 54,
      "outputs": [
        {
          "output_type": "stream",
          "name": "stdout",
          "text": [
            "(62,)\n"
          ]
        }
      ]
    },
    {
      "cell_type": "code",
      "source": [
        "ts_data_X = ts_data_X[1:]\n",
        "ts_data_X = ts_data_X.astype(float)\n",
        "\n",
        "print(ts_data_X)\n",
        "print(ts_data_X.dtype)"
      ],
      "metadata": {
        "colab": {
          "base_uri": "https://localhost:8080/"
        },
        "id": "ykKI8-Dgnuig",
        "outputId": "df3465ca-543b-4de6-fe9d-8c51064b73a8"
      },
      "execution_count": 55,
      "outputs": [
        {
          "output_type": "stream",
          "name": "stdout",
          "text": [
            "[[ 0.2     0.7     0.04    1.53    0.      4.    ]\n",
            " [ 0.2     0.63    4.052   1.53    0.      0.    ]\n",
            " [ 0.2     0.63    7.052   1.53    0.      0.    ]\n",
            " [ 0.2     0.3     0.09    1.5     1.      5.    ]\n",
            " [ 0.2     0.1     0.09    1.5     1.      0.    ]\n",
            " [ 0.06    0.83    0.1     1.5     1.      0.    ]\n",
            " [ 0.3     0.      0.1     1.5     1.      0.    ]\n",
            " [ 0.2     0.3     0.16    1.5     0.      3.    ]\n",
            " [ 0.4     0.6     4.06    1.53    0.      7.    ]\n",
            " [ 0.25    0.25    0.2     1.5     1.      0.    ]\n",
            " [ 0.25    0.25    1.12    1.5     1.      0.    ]\n",
            " [ 0.06    0.1     2.1     1.5     1.      0.    ]\n",
            " [ 0.21    0.47    0.12    1.53    0.      4.    ]\n",
            " [ 0.4     0.33    0.1     1.5     1.      7.    ]\n",
            " [ 0.2     0.43    1.112   1.5     0.      0.    ]\n",
            " [ 0.2     0.33    0.0725  1.53    0.      7.    ]\n",
            " [ 0.24    0.1     0.08    1.5     1.      2.    ]\n",
            " [ 0.21    0.04    1.4     1.57    0.      4.    ]\n",
            " [ 0.2     0.33    0.0875  1.53    1.      7.    ]\n",
            " [ 0.7     0.2     0.09    1.4     1.      4.    ]\n",
            " [ 0.1     0.4     0.11    1.5     1.      0.    ]\n",
            " [ 0.36    0.3     0.0464  1.5     1.      2.    ]\n",
            " [ 0.36    0.3     0.0464  1.5     1.      2.    ]\n",
            " [ 0.2     0.33    1.2     1.52    0.      4.    ]\n",
            " [ 0.1     0.45    0.04    1.55    1.      0.    ]\n",
            " [ 0.22    0.6     0.06    1.5     1.      2.    ]\n",
            " [ 0.2     0.63    0.1     1.53    0.      0.    ]\n",
            " [ 0.3     0.1     0.1     1.6     1.      4.    ]\n",
            " [ 0.08    0.25    0.1     1.55    0.      7.    ]\n",
            " [ 0.2     0.47    0.09    1.5     0.      0.    ]\n",
            " [ 0.15    0.15    0.1     1.5     1.      5.    ]\n",
            " [ 0.3     0.2     0.11    1.55    1.      0.    ]\n",
            " [ 0.38    0.07    0.04    1.59    1.      4.    ]\n",
            " [ 0.34    0.11    0.04    1.59    1.      4.    ]\n",
            " [ 0.2     0.53    0.09    1.53    0.      0.    ]\n",
            " [ 0.3     0.4     0.07    1.6     0.      4.    ]\n",
            " [ 0.2     0.51    0.1     1.56    1.      7.    ]\n",
            " [ 0.2     0.3     0.09    1.5     1.      4.    ]\n",
            " [ 0.1     0.2     0.12    1.6     0.      4.    ]\n",
            " [ 0.36    0.37    0.11    1.5     1.      4.    ]\n",
            " [ 0.36    0.37    0.11    1.5     1.      4.    ]\n",
            " [ 0.88    0.14    0.09    1.55    0.      0.    ]\n",
            " [ 0.2     0.83    0.04    1.53    1.      7.    ]\n",
            " [ 0.1     0.6     0.09    1.6     1.      4.    ]\n",
            " [ 0.2     0.43    0.1     1.53    0.      6.    ]\n",
            " [ 0.4     0.53    0.09    1.5     0.      0.    ]\n",
            " [ 0.2     0.83    0.108   1.5     0.      0.    ]\n",
            " [ 0.2     0.33    0.09    1.53    1.      0.    ]\n",
            " [ 0.1     0.1     0.1     1.5     1.      0.    ]\n",
            " [ 0.2     0.33    0.05    1.5     0.      4.    ]\n",
            " [ 0.2     0.43    0.05    1.5     0.      4.    ]\n",
            " [ 0.2    -0.03    0.08    1.55    0.      0.    ]\n",
            " [ 0.4     0.33    0.1     1.5     1.      0.    ]\n",
            " [ 0.2     0.43    0.08    1.6     1.      7.    ]\n",
            " [ 0.2     0.4     0.12    1.45    0.      0.    ]\n",
            " [ 0.2     0.43    0.075   1.5     0.      0.    ]\n",
            " [ 0.2     0.3     0.1     1.5     0.      0.    ]\n",
            " [ 0.2     0.1     0.1     1.53    0.      0.    ]\n",
            " [ 0.11    0.4     0.05    1.5     1.      4.    ]\n",
            " [ 0.4     0.33    0.1     1.5     1.      0.    ]\n",
            " [ 0.3     0.33    0.286   1.53    1.      7.    ]]\n",
            "float64\n"
          ]
        }
      ]
    },
    {
      "cell_type": "code",
      "source": [
        "# ts_data_y = ts_data_y[1:]\n",
        "# ts_data_y = ts_data_y.astype(float)\n",
        "\n",
        "# print(ts_data_y)\n",
        "# print(ts_data_y.dtype)"
      ],
      "metadata": {
        "id": "L9x38rtaH4LF"
      },
      "execution_count": 56,
      "outputs": []
    },
    {
      "cell_type": "code",
      "source": [
        "from sklearn.linear_model import LinearRegression\n",
        "lr = LinearRegression()\n",
        "lr.fit( tr_data_X,  tr_data_Y)"
      ],
      "metadata": {
        "colab": {
          "base_uri": "https://localhost:8080/",
          "height": 74
        },
        "id": "wRgtGRS9H-Dm",
        "outputId": "d79b9f7a-44cd-495b-8a7e-65ff31ec7bd9"
      },
      "execution_count": 57,
      "outputs": [
        {
          "output_type": "execute_result",
          "data": {
            "text/plain": [
              "LinearRegression()"
            ],
            "text/html": [
              "<style>#sk-container-id-1 {color: black;background-color: white;}#sk-container-id-1 pre{padding: 0;}#sk-container-id-1 div.sk-toggleable {background-color: white;}#sk-container-id-1 label.sk-toggleable__label {cursor: pointer;display: block;width: 100%;margin-bottom: 0;padding: 0.3em;box-sizing: border-box;text-align: center;}#sk-container-id-1 label.sk-toggleable__label-arrow:before {content: \"▸\";float: left;margin-right: 0.25em;color: #696969;}#sk-container-id-1 label.sk-toggleable__label-arrow:hover:before {color: black;}#sk-container-id-1 div.sk-estimator:hover label.sk-toggleable__label-arrow:before {color: black;}#sk-container-id-1 div.sk-toggleable__content {max-height: 0;max-width: 0;overflow: hidden;text-align: left;background-color: #f0f8ff;}#sk-container-id-1 div.sk-toggleable__content pre {margin: 0.2em;color: black;border-radius: 0.25em;background-color: #f0f8ff;}#sk-container-id-1 input.sk-toggleable__control:checked~div.sk-toggleable__content {max-height: 200px;max-width: 100%;overflow: auto;}#sk-container-id-1 input.sk-toggleable__control:checked~label.sk-toggleable__label-arrow:before {content: \"▾\";}#sk-container-id-1 div.sk-estimator input.sk-toggleable__control:checked~label.sk-toggleable__label {background-color: #d4ebff;}#sk-container-id-1 div.sk-label input.sk-toggleable__control:checked~label.sk-toggleable__label {background-color: #d4ebff;}#sk-container-id-1 input.sk-hidden--visually {border: 0;clip: rect(1px 1px 1px 1px);clip: rect(1px, 1px, 1px, 1px);height: 1px;margin: -1px;overflow: hidden;padding: 0;position: absolute;width: 1px;}#sk-container-id-1 div.sk-estimator {font-family: monospace;background-color: #f0f8ff;border: 1px dotted black;border-radius: 0.25em;box-sizing: border-box;margin-bottom: 0.5em;}#sk-container-id-1 div.sk-estimator:hover {background-color: #d4ebff;}#sk-container-id-1 div.sk-parallel-item::after {content: \"\";width: 100%;border-bottom: 1px solid gray;flex-grow: 1;}#sk-container-id-1 div.sk-label:hover label.sk-toggleable__label {background-color: #d4ebff;}#sk-container-id-1 div.sk-serial::before {content: \"\";position: absolute;border-left: 1px solid gray;box-sizing: border-box;top: 0;bottom: 0;left: 50%;z-index: 0;}#sk-container-id-1 div.sk-serial {display: flex;flex-direction: column;align-items: center;background-color: white;padding-right: 0.2em;padding-left: 0.2em;position: relative;}#sk-container-id-1 div.sk-item {position: relative;z-index: 1;}#sk-container-id-1 div.sk-parallel {display: flex;align-items: stretch;justify-content: center;background-color: white;position: relative;}#sk-container-id-1 div.sk-item::before, #sk-container-id-1 div.sk-parallel-item::before {content: \"\";position: absolute;border-left: 1px solid gray;box-sizing: border-box;top: 0;bottom: 0;left: 50%;z-index: -1;}#sk-container-id-1 div.sk-parallel-item {display: flex;flex-direction: column;z-index: 1;position: relative;background-color: white;}#sk-container-id-1 div.sk-parallel-item:first-child::after {align-self: flex-end;width: 50%;}#sk-container-id-1 div.sk-parallel-item:last-child::after {align-self: flex-start;width: 50%;}#sk-container-id-1 div.sk-parallel-item:only-child::after {width: 0;}#sk-container-id-1 div.sk-dashed-wrapped {border: 1px dashed gray;margin: 0 0.4em 0.5em 0.4em;box-sizing: border-box;padding-bottom: 0.4em;background-color: white;}#sk-container-id-1 div.sk-label label {font-family: monospace;font-weight: bold;display: inline-block;line-height: 1.2em;}#sk-container-id-1 div.sk-label-container {text-align: center;}#sk-container-id-1 div.sk-container {/* jupyter's `normalize.less` sets `[hidden] { display: none; }` but bootstrap.min.css set `[hidden] { display: none !important; }` so we also need the `!important` here to be able to override the default hidden behavior on the sphinx rendered scikit-learn.org. See: https://github.com/scikit-learn/scikit-learn/issues/21755 */display: inline-block !important;position: relative;}#sk-container-id-1 div.sk-text-repr-fallback {display: none;}</style><div id=\"sk-container-id-1\" class=\"sk-top-container\"><div class=\"sk-text-repr-fallback\"><pre>LinearRegression()</pre><b>In a Jupyter environment, please rerun this cell to show the HTML representation or trust the notebook. <br />On GitHub, the HTML representation is unable to render, please try loading this page with nbviewer.org.</b></div><div class=\"sk-container\" hidden><div class=\"sk-item\"><div class=\"sk-estimator sk-toggleable\"><input class=\"sk-toggleable__control sk-hidden--visually\" id=\"sk-estimator-id-1\" type=\"checkbox\" checked><label for=\"sk-estimator-id-1\" class=\"sk-toggleable__label sk-toggleable__label-arrow\">LinearRegression</label><div class=\"sk-toggleable__content\"><pre>LinearRegression()</pre></div></div></div></div></div>"
            ]
          },
          "metadata": {},
          "execution_count": 57
        }
      ]
    },
    {
      "cell_type": "code",
      "source": [
        "y_pred_lr =lr.predict(ts_data_X)\n",
        "y_pred_lr.shape"
      ],
      "metadata": {
        "colab": {
          "base_uri": "https://localhost:8080/"
        },
        "id": "2qSV2qDdIA7Y",
        "outputId": "483c8653-727e-4670-8863-7150a8472c88"
      },
      "execution_count": 58,
      "outputs": [
        {
          "output_type": "stream",
          "name": "stderr",
          "text": [
            "/usr/local/lib/python3.10/dist-packages/sklearn/base.py:439: UserWarning: X does not have valid feature names, but LinearRegression was fitted with feature names\n",
            "  warnings.warn(\n"
          ]
        },
        {
          "output_type": "execute_result",
          "data": {
            "text/plain": [
              "(61,)"
            ]
          },
          "metadata": {},
          "execution_count": 58
        }
      ]
    },
    {
      "cell_type": "code",
      "source": [
        "ts_data_Y = ts_data_Y[1:].astype(float)"
      ],
      "metadata": {
        "id": "4lS15FhdID3_"
      },
      "execution_count": 59,
      "outputs": []
    },
    {
      "cell_type": "code",
      "source": [
        "import matplotlib.pyplot as plt\n",
        "plt.scatter(ts_data_Y, y_pred_lr)\n",
        "plt.xlabel(\"Actual PCE\")\n",
        "plt.ylabel(\"Predicted PCE\")\n",
        "plt.ylim(0,25)\n",
        "plt.xlim(0,25)\n",
        "plt.show()"
      ],
      "metadata": {
        "colab": {
          "base_uri": "https://localhost:8080/",
          "height": 455
        },
        "id": "tEStWkxyIG2w",
        "outputId": "a30fb535-7d7e-4ded-c1c1-86e746c9a73c"
      },
      "execution_count": 60,
      "outputs": [
        {
          "output_type": "display_data",
          "data": {
            "text/plain": [
              "<Figure size 640x480 with 1 Axes>"
            ],
            "image/png": "[encoded data removed]"
          },
          "metadata": {}
        }
      ]
    },
    {
      "cell_type": "code",
      "source": [
        "from sklearn.metrics import r2_score\n",
        "r2_score(ts_data_Y, y_pred_lr)"
      ],
      "metadata": {
        "colab": {
          "base_uri": "https://localhost:8080/"
        },
        "id": "tixuvobYILfn",
        "outputId": "8b64cfae-fcbd-4dd3-dcfb-7f75e0968f44"
      },
      "execution_count": 61,
      "outputs": [
        {
          "output_type": "execute_result",
          "data": {
            "text/plain": [
              "-0.0026974982254128754"
            ]
          },
          "metadata": {},
          "execution_count": 61
        }
      ]
    },
    {
      "cell_type": "code",
      "source": [
        "from sklearn.metrics import mean_squared_error\n",
        "mean_squared_error(ts_data_Y, y_pred_lr)"
      ],
      "metadata": {
        "colab": {
          "base_uri": "https://localhost:8080/"
        },
        "id": "9a0t4z_EIWCW",
        "outputId": "be4f7e47-a1a6-4b3c-835f-59114b21bcf6"
      },
      "execution_count": 62,
      "outputs": [
        {
          "output_type": "execute_result",
          "data": {
            "text/plain": [
              "18.71544586743534"
            ]
          },
          "metadata": {},
          "execution_count": 62
        }
      ]
    },
    {
      "cell_type": "markdown",
      "source": [
        "DTR"
      ],
      "metadata": {
        "id": "tWqfHU2xIyIY"
      }
    },
    {
      "cell_type": "code",
      "source": [
        "import time\n",
        "st = time.time()\n",
        "from sklearn.tree import DecisionTreeRegressor\n",
        "regressor = DecisionTreeRegressor(random_state = 0)\n",
        "regressor.fit(tr_data_X, tr_data_Y)\n"
      ],
      "metadata": {
        "colab": {
          "base_uri": "https://localhost:8080/",
          "height": 74
        },
        "id": "uwfu8t5_IYp2",
        "outputId": "ce3de1c4-e8cc-4907-9f9b-8d3da93c2d4e"
      },
      "execution_count": 63,
      "outputs": [
        {
          "output_type": "execute_result",
          "data": {
            "text/plain": [
              "DecisionTreeRegressor(random_state=0)"
            ],
            "text/html": [
              "<style>#sk-container-id-2 {color: black;background-color: white;}#sk-container-id-2 pre{padding: 0;}#sk-container-id-2 div.sk-toggleable {background-color: white;}#sk-container-id-2 label.sk-toggleable__label {cursor: pointer;display: block;width: 100%;margin-bottom: 0;padding: 0.3em;box-sizing: border-box;text-align: center;}#sk-container-id-2 label.sk-toggleable__label-arrow:before {content: \"▸\";float: left;margin-right: 0.25em;color: #696969;}#sk-container-id-2 label.sk-toggleable__label-arrow:hover:before {color: black;}#sk-container-id-2 div.sk-estimator:hover label.sk-toggleable__label-arrow:before {color: black;}#sk-container-id-2 div.sk-toggleable__content {max-height: 0;max-width: 0;overflow: hidden;text-align: left;background-color: #f0f8ff;}#sk-container-id-2 div.sk-toggleable__content pre {margin: 0.2em;color: black;border-radius: 0.25em;background-color: #f0f8ff;}#sk-container-id-2 input.sk-toggleable__control:checked~div.sk-toggleable__content {max-height: 200px;max-width: 100%;overflow: auto;}#sk-container-id-2 input.sk-toggleable__control:checked~label.sk-toggleable__label-arrow:before {content: \"▾\";}#sk-container-id-2 div.sk-estimator input.sk-toggleable__control:checked~label.sk-toggleable__label {background-color: #d4ebff;}#sk-container-id-2 div.sk-label input.sk-toggleable__control:checked~label.sk-toggleable__label {background-color: #d4ebff;}#sk-container-id-2 input.sk-hidden--visually {border: 0;clip: rect(1px 1px 1px 1px);clip: rect(1px, 1px, 1px, 1px);height: 1px;margin: -1px;overflow: hidden;padding: 0;position: absolute;width: 1px;}#sk-container-id-2 div.sk-estimator {font-family: monospace;background-color: #f0f8ff;border: 1px dotted black;border-radius: 0.25em;box-sizing: border-box;margin-bottom: 0.5em;}#sk-container-id-2 div.sk-estimator:hover {background-color: #d4ebff;}#sk-container-id-2 div.sk-parallel-item::after {content: \"\";width: 100%;border-bottom: 1px solid gray;flex-grow: 1;}#sk-container-id-2 div.sk-label:hover label.sk-toggleable__label {background-color: #d4ebff;}#sk-container-id-2 div.sk-serial::before {content: \"\";position: absolute;border-left: 1px solid gray;box-sizing: border-box;top: 0;bottom: 0;left: 50%;z-index: 0;}#sk-container-id-2 div.sk-serial {display: flex;flex-direction: column;align-items: center;background-color: white;padding-right: 0.2em;padding-left: 0.2em;position: relative;}#sk-container-id-2 div.sk-item {position: relative;z-index: 1;}#sk-container-id-2 div.sk-parallel {display: flex;align-items: stretch;justify-content: center;background-color: white;position: relative;}#sk-container-id-2 div.sk-item::before, #sk-container-id-2 div.sk-parallel-item::before {content: \"\";position: absolute;border-left: 1px solid gray;box-sizing: border-box;top: 0;bottom: 0;left: 50%;z-index: -1;}#sk-container-id-2 div.sk-parallel-item {display: flex;flex-direction: column;z-index: 1;position: relative;background-color: white;}#sk-container-id-2 div.sk-parallel-item:first-child::after {align-self: flex-end;width: 50%;}#sk-container-id-2 div.sk-parallel-item:last-child::after {align-self: flex-start;width: 50%;}#sk-container-id-2 div.sk-parallel-item:only-child::after {width: 0;}#sk-container-id-2 div.sk-dashed-wrapped {border: 1px dashed gray;margin: 0 0.4em 0.5em 0.4em;box-sizing: border-box;padding-bottom: 0.4em;background-color: white;}#sk-container-id-2 div.sk-label label {font-family: monospace;font-weight: bold;display: inline-block;line-height: 1.2em;}#sk-container-id-2 div.sk-label-container {text-align: center;}#sk-container-id-2 div.sk-container {/* jupyter's `normalize.less` sets `[hidden] { display: none; }` but bootstrap.min.css set `[hidden] { display: none !important; }` so we also need the `!important` here to be able to override the default hidden behavior on the sphinx rendered scikit-learn.org. See: https://github.com/scikit-learn/scikit-learn/issues/21755 */display: inline-block !important;position: relative;}#sk-container-id-2 div.sk-text-repr-fallback {display: none;}</style><div id=\"sk-container-id-2\" class=\"sk-top-container\"><div class=\"sk-text-repr-fallback\"><pre>DecisionTreeRegressor(random_state=0)</pre><b>In a Jupyter environment, please rerun this cell to show the HTML representation or trust the notebook. <br />On GitHub, the HTML representation is unable to render, please try loading this page with nbviewer.org.</b></div><div class=\"sk-container\" hidden><div class=\"sk-item\"><div class=\"sk-estimator sk-toggleable\"><input class=\"sk-toggleable__control sk-hidden--visually\" id=\"sk-estimator-id-2\" type=\"checkbox\" checked><label for=\"sk-estimator-id-2\" class=\"sk-toggleable__label sk-toggleable__label-arrow\">DecisionTreeRegressor</label><div class=\"sk-toggleable__content\"><pre>DecisionTreeRegressor(random_state=0)</pre></div></div></div></div></div>"
            ]
          },
          "metadata": {},
          "execution_count": 63
        }
      ]
    },
    {
      "cell_type": "code",
      "source": [
        "y_pred_dtr =regressor.predict(ts_data_X)\n",
        "et = time.time()\n",
        "elapsed_time = et - st\n",
        "print('DTR:', elapsed_time, 'seconds')\n",
        "y_pred_dtr"
      ],
      "metadata": {
        "colab": {
          "base_uri": "https://localhost:8080/"
        },
        "id": "DleS8PjBIce9",
        "outputId": "6e155629-d26f-4aef-e1dc-278ac1ee6bab"
      },
      "execution_count": 64,
      "outputs": [
        {
          "output_type": "stream",
          "name": "stdout",
          "text": [
            "DTR: 0.020526409149169922 seconds\n"
          ]
        },
        {
          "output_type": "stream",
          "name": "stderr",
          "text": [
            "/usr/local/lib/python3.10/dist-packages/sklearn/base.py:439: UserWarning: X does not have valid feature names, but DecisionTreeRegressor was fitted with feature names\n",
            "  warnings.warn(\n"
          ]
        },
        {
          "output_type": "execute_result",
          "data": {
            "text/plain": [
              "array([20.06      , 20.1       , 15.5       , 18.76      , 22.55      ,\n",
              "       12.2       , 18.4       , 16.8       , 18.7       , 14.9       ,\n",
              "        5.53      , 22.43      , 17.74      , 20.068     , 20.        ,\n",
              "       22.02      , 21.97      , 17.32      , 16.82      ,  2.43      ,\n",
              "       20.27      , 18.        , 18.        , 17.3       , 22.85      ,\n",
              "       19.3       , 21.99      , 22.05      ,  6.8       , 20.23      ,\n",
              "       19.4       , 22.9       , 20.27      , 20.88      , 23.4       ,\n",
              "       18.135     , 17.18      , 18.9       , 23.26      , 19.075     ,\n",
              "       19.075     , 14.9       , 18.07      , 21.7       ,  8.81      ,\n",
              "       21.445     , 20.95333333, 19.8       , 19.21      , 22.32      ,\n",
              "       21.71      , 21.8       , 17.4075    , 19.71      , 23.145     ,\n",
              "       19.65      , 20.58      , 21.745     , 20.8       , 17.4075    ,\n",
              "       15.6       ])"
            ]
          },
          "metadata": {},
          "execution_count": 64
        }
      ]
    },
    {
      "cell_type": "code",
      "source": [
        "ts_data_Y"
      ],
      "metadata": {
        "colab": {
          "base_uri": "https://localhost:8080/"
        },
        "id": "9TMDKCxujRWf",
        "outputId": "93365fa7-4fe6-48a8-c62e-59c99d9ad924"
      },
      "execution_count": 108,
      "outputs": [
        {
          "output_type": "execute_result",
          "data": {
            "text/plain": [
              "array([20.06, 20.1 , 15.5 , 18.76, 22.55, 12.2 , 14.65, 16.8 , 18.7 ,\n",
              "       14.9 ,  5.53, 22.43, 17.74, 21.82, 19.8 , 22.  , 22.23, 17.48,\n",
              "       17.41,  2.43, 20.96, 18.04, 17.96, 17.  , 22.9 , 21.53, 22.85,\n",
              "       22.  ,  6.4 , 20.23, 19.5 , 22.9 , 20.27, 20.88, 22.9 , 18.17,\n",
              "       18.39, 18.9 , 23.26, 19.18, 18.97, 14.9 , 17.86, 22.2 ,  7.24,\n",
              "       21.6 , 20.7 , 19.8 , 20.32, 22.31, 21.71, 21.8 , 15.05, 19.71,\n",
              "       23.27, 19.4 , 20.76, 21.71, 20.8 , 17.5 , 19.1 ])"
            ]
          },
          "metadata": {},
          "execution_count": 108
        }
      ]
    },
    {
      "cell_type": "code",
      "source": [
        "from sklearn.metrics import r2_score,mean_squared_error,mean_absolute_percentage_error,fowlkes_mallows_score\n",
        "score_dtr=r2_score(ts_data_Y, y_pred_dtr)\n",
        "mse_dtr=mean_squared_error(ts_data_Y, y_pred_dtr)\n",
        "mape=mean_absolute_percentage_error(ts_data_Y, y_pred_dtr)\n",
        "mallow=fowlkes_mallows_score(ts_data_Y, y_pred_dtr)\n",
        "import scipy\n",
        "r_dtr=scipy.stats.pearsonr(ts_data_Y,y_pred_dtr)"
      ],
      "metadata": {
        "id": "SQGgXmNGJ9DO",
        "colab": {
          "base_uri": "https://localhost:8080/"
        },
        "outputId": "97e51dcf-98bf-42b1-8842-79ae9cda074c"
      },
      "execution_count": 65,
      "outputs": [
        {
          "output_type": "stream",
          "name": "stderr",
          "text": [
            "/usr/local/lib/python3.10/dist-packages/sklearn/metrics/cluster/_supervised.py:64: UserWarning: Clustering metrics expects discrete values but received continuous values for label, and continuous values for target\n",
            "  warnings.warn(msg, UserWarning)\n"
          ]
        }
      ]
    },
    {
      "cell_type": "code",
      "source": [
        "from sklearn.metrics import r2_score,mean_squared_error,mean_absolute_percentage_error,fowlkes_mallows_score\n",
        "score_dtr=r2_score(ts_data_Y, y_pred_dtr)\n",
        "mse_dtr=mean_squared_error(ts_data_Y, y_pred_dtr)\n",
        "mape=mean_absolute_percentage_error(ts_data_Y, y_pred_dtr)\n",
        "mallow=fowlkes_mallows_score(ts_data_Y, y_pred_dtr)\n",
        "import scipy\n",
        "r_dtr=scipy.stats.pearsonr(ts_data_Y,y_pred_dtr)\n",
        "from sklearn.metrics import mean_squared_log_error,mean_absolute_error\n",
        "msle=mean_squared_log_error(ts_data_Y, y_pred_dtr)\n",
        "mae=mean_absolute_error(ts_data_Y, y_pred_dtr)\n",
        "rmse=np.sqrt(mse_dtr)\n",
        "n = len(ts_data_Y)\n",
        "p = 6  # Number of predictors\n",
        "adjusted_r2 = 1 - (1 - score_dtr) * (n - 1) / (n - p - 1)\n",
        "mbe = np.mean(y_pred_dtr - ts_data_Y)\n",
        "rss = np.sum((y_pred_dtr - ts_data_Y)**2)\n",
        "mpe = np.mean((y_pred_dtr - ts_data_Y) / ts_data_Y) * 100\n",
        "print('R2_dtr=',score_dtr)\n",
        "print('mse_dtr=',mse_dtr)\n",
        "print('R score_dtr=',r_dtr[0])\n",
        "print('mape_dtr=',mape)\n",
        "print('mallow_dtr=',mallow)\n",
        "print('msle= ',msle)\n",
        "print('mae= ',mae)\n",
        "print('rmse= ',rmse)\n",
        "print('adjusted_r2=',adjusted_r2)\n",
        "print('mbe=',mbe)\n",
        "print('rss=',rss)\n",
        "print('mpe=',mpe)"
      ],
      "metadata": {
        "colab": {
          "base_uri": "https://localhost:8080/"
        },
        "id": "Lqlpt5jBjC6k",
        "outputId": "9de4a790-fb50-47af-f781-13d7facde717"
      },
      "execution_count": 117,
      "outputs": [
        {
          "output_type": "stream",
          "name": "stdout",
          "text": [
            "R2_dtr= 0.9580040258615075\n",
            "mse_dtr= 0.7838589225865207\n",
            "R score_dtr= 0.9790349430140123\n",
            "mape_dtr= 0.0241020732818073\n",
            "mallow_dtr= 0.1690308509457033\n",
            "msle=  0.0026974377236226805\n",
            "mae=  0.39008743169398924\n",
            "rmse=  0.8853580759142149\n",
            "adjusted_r2= 0.9533378065127861\n",
            "mbe= -0.060551912568306165\n",
            "rss= 47.81539427777776\n",
            "mpe= 0.18467021293789096\n"
          ]
        }
      ]
    },
    {
      "cell_type": "code",
      "source": [
        "print('R2_dtr=',score_dtr)\n",
        "print('mse_dtr=',mse_dtr)\n",
        "print('R score_dtr=',r_dtr[0])\n",
        "print('mape_dtr=',mape)\n",
        "print('mallow_dtr=',mallow)"
      ],
      "metadata": {
        "colab": {
          "base_uri": "https://localhost:8080/"
        },
        "id": "3GcyMsuTKB2p",
        "outputId": "e5b59567-93d6-470a-94f3-2f8258be70bb"
      },
      "execution_count": 66,
      "outputs": [
        {
          "output_type": "stream",
          "name": "stdout",
          "text": [
            "R2_dtr= 0.9580040258615075\n",
            "mse_dtr= 0.7838589225865207\n",
            "R score_dtr= 0.9790349430140123\n",
            "mape_dtr= 0.0241020732818073\n",
            "mallow_dtr= 0.1690308509457033\n"
          ]
        }
      ]
    },
    {
      "cell_type": "code",
      "source": [
        "import warnings\n",
        "import numpy as np\n",
        "import seaborn as sns\n",
        "import matplotlib.pyplot as plt\n",
        "import matplotlib as mpl\n",
        "\n",
        "# Ignore warnings\n",
        "warnings.filterwarnings('ignore')\n",
        "\n",
        "# Assuming you have defined 'ts_data_Y' and 'y_pred_dtr' before this code snippet\n",
        "\n",
        "# Perform linear regression and obtain the coefficients\n",
        "reg = np.polyfit(ts_data_Y, y_pred_dtr, deg=1)\n",
        "slope = reg[0]\n",
        "intercept = reg[1]\n",
        "\n",
        "# Generate the trend line for linear regression\n",
        "trend = slope * ts_data_Y + intercept\n",
        "\n",
        "# Set the style to a light blue or cyan background color\n",
        "plt.figure(figsize=(8, 5))\n",
        "sns.set_style({'axes.facecolor': '#E0FFFF'})  # Set your desired color here\n",
        "\n",
        "# Plot the scatter plot with the specified background color\n",
        "sns.scatterplot(x=ts_data_Y, y=y_pred_dtr, c='yellow', marker='*', edgecolor='black', s=300)\n",
        "mpl.rcParams['axes.linewidth'] = 2.5\n",
        "mpl.rcParams['xtick.major.width'] = 2.5  # Set your desired x-axis tick thickness here\n",
        "mpl.rcParams['ytick.major.width'] = 2.5\n",
        "# Plot the trend line\n",
        "plt.plot(ts_data_Y, trend, color='red', linewidth=2)\n",
        "\n",
        "# Customize the plot (xticks, yticks, labels, title, etc.)\n",
        "font1 = {'family': 'calibari', 'color': 'black', 'fontweight': 'bold', 'size': 18}\n",
        "plt.yticks(color='navy', fontweight='bold', size=12)\n",
        "plt.xlim(0, max(ts_data_Y) + 1)\n",
        "plt.ylim(0, max(y_pred_dtr) + 1)\n",
        "plt.xticks(color='navy', fontweight='bold', size=12)\n",
        "plt.xlabel('True PCE(%)', fontdict=font1)\n",
        "plt.ylabel('Predicted PCE(%)', fontdict=font1)\n",
        "# plt.title('Decisiontree regressor Plot', c='#6f045a', fontdict=font1)\n",
        "\n",
        "# Show the plot\n",
        "plt.show()\n"
      ],
      "metadata": {
        "colab": {
          "base_uri": "https://localhost:8080/",
          "height": 618
        },
        "id": "xGOmx10lIeyt",
        "outputId": "5e5787dc-95ef-40f6-adf0-f90589c6794f"
      },
      "execution_count": 67,
      "outputs": [
        {
          "output_type": "stream",
          "name": "stderr",
          "text": [
            "WARNING:matplotlib.font_manager:findfont: Font family 'calibari' not found.\n",
            "WARNING:matplotlib.font_manager:findfont: Font family 'calibari' not found.\n",
            "WARNING:matplotlib.font_manager:findfont: Font family 'calibari' not found.\n",
            "WARNING:matplotlib.font_manager:findfont: Font family 'calibari' not found.\n",
            "WARNING:matplotlib.font_manager:findfont: Font family 'calibari' not found.\n",
            "WARNING:matplotlib.font_manager:findfont: Font family 'calibari' not found.\n",
            "WARNING:matplotlib.font_manager:findfont: Font family 'calibari' not found.\n",
            "WARNING:matplotlib.font_manager:findfont: Font family 'calibari' not found.\n"
          ]
        },
        {
          "output_type": "display_data",
          "data": {
            "text/plain": [
              "<Figure size 800x500 with 1 Axes>"
            ],
            "image/png": "[encoded data removed]"
          },
          "metadata": {}
        }
      ]
    },
    {
      "cell_type": "markdown",
      "source": [
        "XGBOOST REGRESSOR"
      ],
      "metadata": {
        "id": "iQGvzUodJT2C"
      }
    },
    {
      "cell_type": "code",
      "source": [
        "import time\n",
        "st = time.time()\n",
        "import xgboost as xgb\n",
        "reg = xgb.XGBRegressor(\n",
        "    n_estimators=100,\n",
        "    reg_lambda=1,\n",
        "    gamma=0,\n",
        "    max_depth=4\n",
        ")"
      ],
      "metadata": {
        "id": "DfFql03nJXWJ"
      },
      "execution_count": 68,
      "outputs": []
    },
    {
      "cell_type": "code",
      "source": [
        "reg.fit(tr_data_X, tr_data_Y)"
      ],
      "metadata": {
        "colab": {
          "base_uri": "https://localhost:8080/",
          "height": 248
        },
        "id": "ZcW-KBmlJayt",
        "outputId": "f04f313f-dec1-444e-e65c-0269ce39dc6a"
      },
      "execution_count": 69,
      "outputs": [
        {
          "output_type": "execute_result",
          "data": {
            "text/plain": [
              "XGBRegressor(base_score=None, booster=None, callbacks=None,\n",
              "             colsample_bylevel=None, colsample_bynode=None,\n",
              "             colsample_bytree=None, early_stopping_rounds=None,\n",
              "             enable_categorical=False, eval_metric=None, feature_types=None,\n",
              "             gamma=0, gpu_id=None, grow_policy=None, importance_type=None,\n",
              "             interaction_constraints=None, learning_rate=None, max_bin=None,\n",
              "             max_cat_threshold=None, max_cat_to_onehot=None,\n",
              "             max_delta_step=None, max_depth=4, max_leaves=None,\n",
              "             min_child_weight=None, missing=nan, monotone_constraints=None,\n",
              "             n_estimators=100, n_jobs=None, num_parallel_tree=None,\n",
              "             predictor=None, random_state=None, ...)"
            ],
            "text/html": [
              "<style>#sk-container-id-3 {color: black;background-color: white;}#sk-container-id-3 pre{padding: 0;}#sk-container-id-3 div.sk-toggleable {background-color: white;}#sk-container-id-3 label.sk-toggleable__label {cursor: pointer;display: block;width: 100%;margin-bottom: 0;padding: 0.3em;box-sizing: border-box;text-align: center;}#sk-container-id-3 label.sk-toggleable__label-arrow:before {content: \"▸\";float: left;margin-right: 0.25em;color: #696969;}#sk-container-id-3 label.sk-toggleable__label-arrow:hover:before {color: black;}#sk-container-id-3 div.sk-estimator:hover label.sk-toggleable__label-arrow:before {color: black;}#sk-container-id-3 div.sk-toggleable__content {max-height: 0;max-width: 0;overflow: hidden;text-align: left;background-color: #f0f8ff;}#sk-container-id-3 div.sk-toggleable__content pre {margin: 0.2em;color: black;border-radius: 0.25em;background-color: #f0f8ff;}#sk-container-id-3 input.sk-toggleable__control:checked~div.sk-toggleable__content {max-height: 200px;max-width: 100%;overflow: auto;}#sk-container-id-3 input.sk-toggleable__control:checked~label.sk-toggleable__label-arrow:before {content: \"▾\";}#sk-container-id-3 div.sk-estimator input.sk-toggleable__control:checked~label.sk-toggleable__label {background-color: #d4ebff;}#sk-container-id-3 div.sk-label input.sk-toggleable__control:checked~label.sk-toggleable__label {background-color: #d4ebff;}#sk-container-id-3 input.sk-hidden--visually {border: 0;clip: rect(1px 1px 1px 1px);clip: rect(1px, 1px, 1px, 1px);height: 1px;margin: -1px;overflow: hidden;padding: 0;position: absolute;width: 1px;}#sk-container-id-3 div.sk-estimator {font-family: monospace;background-color: #f0f8ff;border: 1px dotted black;border-radius: 0.25em;box-sizing: border-box;margin-bottom: 0.5em;}#sk-container-id-3 div.sk-estimator:hover {background-color: #d4ebff;}#sk-container-id-3 div.sk-parallel-item::after {content: \"\";width: 100%;border-bottom: 1px solid gray;flex-grow: 1;}#sk-container-id-3 div.sk-label:hover label.sk-toggleable__label {background-color: #d4ebff;}#sk-container-id-3 div.sk-serial::before {content: \"\";position: absolute;border-left: 1px solid gray;box-sizing: border-box;top: 0;bottom: 0;left: 50%;z-index: 0;}#sk-container-id-3 div.sk-serial {display: flex;flex-direction: column;align-items: center;background-color: white;padding-right: 0.2em;padding-left: 0.2em;position: relative;}#sk-container-id-3 div.sk-item {position: relative;z-index: 1;}#sk-container-id-3 div.sk-parallel {display: flex;align-items: stretch;justify-content: center;background-color: white;position: relative;}#sk-container-id-3 div.sk-item::before, #sk-container-id-3 div.sk-parallel-item::before {content: \"\";position: absolute;border-left: 1px solid gray;box-sizing: border-box;top: 0;bottom: 0;left: 50%;z-index: -1;}#sk-container-id-3 div.sk-parallel-item {display: flex;flex-direction: column;z-index: 1;position: relative;background-color: white;}#sk-container-id-3 div.sk-parallel-item:first-child::after {align-self: flex-end;width: 50%;}#sk-container-id-3 div.sk-parallel-item:last-child::after {align-self: flex-start;width: 50%;}#sk-container-id-3 div.sk-parallel-item:only-child::after {width: 0;}#sk-container-id-3 div.sk-dashed-wrapped {border: 1px dashed gray;margin: 0 0.4em 0.5em 0.4em;box-sizing: border-box;padding-bottom: 0.4em;background-color: white;}#sk-container-id-3 div.sk-label label {font-family: monospace;font-weight: bold;display: inline-block;line-height: 1.2em;}#sk-container-id-3 div.sk-label-container {text-align: center;}#sk-container-id-3 div.sk-container {/* jupyter's `normalize.less` sets `[hidden] { display: none; }` but bootstrap.min.css set `[hidden] { display: none !important; }` so we also need the `!important` here to be able to override the default hidden behavior on the sphinx rendered scikit-learn.org. See: https://github.com/scikit-learn/scikit-learn/issues/21755 */display: inline-block !important;position: relative;}#sk-container-id-3 div.sk-text-repr-fallback {display: none;}</style><div id=\"sk-container-id-3\" class=\"sk-top-container\"><div class=\"sk-text-repr-fallback\"><pre>XGBRegressor(base_score=None, booster=None, callbacks=None,\n",
              "             colsample_bylevel=None, colsample_bynode=None,\n",
              "             colsample_bytree=None, early_stopping_rounds=None,\n",
              "             enable_categorical=False, eval_metric=None, feature_types=None,\n",
              "             gamma=0, gpu_id=None, grow_policy=None, importance_type=None,\n",
              "             interaction_constraints=None, learning_rate=None, max_bin=None,\n",
              "             max_cat_threshold=None, max_cat_to_onehot=None,\n",
              "             max_delta_step=None, max_depth=4, max_leaves=None,\n",
              "             min_child_weight=None, missing=nan, monotone_constraints=None,\n",
              "             n_estimators=100, n_jobs=None, num_parallel_tree=None,\n",
              "             predictor=None, random_state=None, ...)</pre><b>In a Jupyter environment, please rerun this cell to show the HTML representation or trust the notebook. <br />On GitHub, the HTML representation is unable to render, please try loading this page with nbviewer.org.</b></div><div class=\"sk-container\" hidden><div class=\"sk-item\"><div class=\"sk-estimator sk-toggleable\"><input class=\"sk-toggleable__control sk-hidden--visually\" id=\"sk-estimator-id-3\" type=\"checkbox\" checked><label for=\"sk-estimator-id-3\" class=\"sk-toggleable__label sk-toggleable__label-arrow\">XGBRegressor</label><div class=\"sk-toggleable__content\"><pre>XGBRegressor(base_score=None, booster=None, callbacks=None,\n",
              "             colsample_bylevel=None, colsample_bynode=None,\n",
              "             colsample_bytree=None, early_stopping_rounds=None,\n",
              "             enable_categorical=False, eval_metric=None, feature_types=None,\n",
              "             gamma=0, gpu_id=None, grow_policy=None, importance_type=None,\n",
              "             interaction_constraints=None, learning_rate=None, max_bin=None,\n",
              "             max_cat_threshold=None, max_cat_to_onehot=None,\n",
              "             max_delta_step=None, max_depth=4, max_leaves=None,\n",
              "             min_child_weight=None, missing=nan, monotone_constraints=None,\n",
              "             n_estimators=100, n_jobs=None, num_parallel_tree=None,\n",
              "             predictor=None, random_state=None, ...)</pre></div></div></div></div></div>"
            ]
          },
          "metadata": {},
          "execution_count": 69
        }
      ]
    },
    {
      "cell_type": "code",
      "source": [
        "y_pred_xgb =reg.predict(ts_data_X)\n",
        "et = time.time()\n",
        "elapsed_time = et - st\n",
        "print('XGB:', elapsed_time, 'seconds')"
      ],
      "metadata": {
        "colab": {
          "base_uri": "https://localhost:8080/"
        },
        "id": "BwjpFyG2Jdh4",
        "outputId": "732f57ef-85c0-49a1-f64f-9197bcd1113b"
      },
      "execution_count": 70,
      "outputs": [
        {
          "output_type": "stream",
          "name": "stdout",
          "text": [
            "XGB: 0.3811798095703125 seconds\n"
          ]
        }
      ]
    },
    {
      "cell_type": "code",
      "source": [
        "y_pred_xgb"
      ],
      "metadata": {
        "colab": {
          "base_uri": "https://localhost:8080/"
        },
        "id": "wJqaOqhZk3_o",
        "outputId": "4f4d0fe3-991a-4d95-d97c-e9886f11d170"
      },
      "execution_count": 110,
      "outputs": [
        {
          "output_type": "execute_result",
          "data": {
            "text/plain": [
              "array([19.638521 , 19.654295 , 15.666055 , 19.322206 , 19.082228 ,\n",
              "       12.798868 , 17.16241  , 18.431973 , 18.515831 , 12.682536 ,\n",
              "        7.9349327, 22.22203  , 18.331806 , 19.660736 , 19.93045  ,\n",
              "       21.468468 , 21.111967 , 18.090452 , 17.168541 ,  5.282574 ,\n",
              "       19.44208  , 18.079956 , 18.079956 , 17.292032 , 22.413288 ,\n",
              "       19.341362 , 20.908298 , 21.165041 ,  8.544024 , 17.6491   ,\n",
              "       19.246552 , 18.915016 , 20.388348 , 20.30669  , 21.270306 ,\n",
              "       18.26287  , 16.986904 , 19.46807  , 22.626873 , 19.397835 ,\n",
              "       19.397835 , 14.793213 , 17.788357 , 22.360622 , 10.2655325,\n",
              "       20.988352 , 21.333506 , 18.968819 , 18.313965 , 21.624935 ,\n",
              "       20.588133 , 21.649021 , 17.972815 , 20.5771   , 22.44979  ,\n",
              "       19.17241  , 18.31083  , 20.26215  , 20.576105 , 17.972815 ,\n",
              "       16.56273  ], dtype=float32)"
            ]
          },
          "metadata": {},
          "execution_count": 110
        }
      ]
    },
    {
      "cell_type": "code",
      "source": [
        "from sklearn.metrics import r2_score,mean_squared_error,mean_absolute_percentage_error,fowlkes_mallows_score\n",
        "R2_xgb =r2_score(ts_data_Y, y_pred_xgb)\n",
        "mse_xgb= mean_squared_error(ts_data_Y, y_pred_xgb)\n",
        "mape_xgb=mean_absolute_percentage_error(ts_data_Y, y_pred_xgb)\n",
        "mallows_xgb=fowlkes_mallows_score(ts_data_Y, y_pred_xgb)\n",
        "import scipy\n",
        "r_xgb=scipy.stats.pearsonr(ts_data_Y,y_pred_xgb)"
      ],
      "metadata": {
        "id": "U86x6ZdGLJRC"
      },
      "execution_count": 71,
      "outputs": []
    },
    {
      "cell_type": "code",
      "source": [
        "print('R2_xgb=',R2_xgb)\n",
        "print('mse_xgb=',mse_xgb)\n",
        "print('R score_xgb=',r_xgb[0])\n",
        "print('mape_xgb',mape_xgb)\n",
        "print('mallows_xgb',mallows_xgb)"
      ],
      "metadata": {
        "colab": {
          "base_uri": "https://localhost:8080/"
        },
        "id": "pxUuZbJGLNGG",
        "outputId": "598406b5-299b-4395-df0b-64ca2f5181a3"
      },
      "execution_count": 72,
      "outputs": [
        {
          "output_type": "stream",
          "name": "stdout",
          "text": [
            "R2_xgb= 0.8820604287046544\n",
            "mse_xgb= 2.201353515006336\n",
            "R score_xgb= 0.9533818822860409\n",
            "mape_xgb 0.08575313190293564\n",
            "mallows_xgb 0.0\n"
          ]
        }
      ]
    },
    {
      "cell_type": "code",
      "source": [
        "from sklearn.metrics import r2_score,mean_squared_error,mean_absolute_percentage_error,fowlkes_mallows_score\n",
        "score_xgb=r2_score(ts_data_Y, y_pred_xgb)\n",
        "mse_xgb=mean_squared_error(ts_data_Y, y_pred_xgb)\n",
        "mape=mean_absolute_percentage_error(ts_data_Y, y_pred_xgb)\n",
        "mallow=fowlkes_mallows_score(ts_data_Y, y_pred_xgb)\n",
        "import scipy\n",
        "r_dtr=scipy.stats.pearsonr(ts_data_Y,y_pred_xgb)\n",
        "from sklearn.metrics import mean_squared_log_error,mean_absolute_error\n",
        "msle=mean_squared_log_error(ts_data_Y, y_pred_xgb)\n",
        "mae=mean_absolute_error(ts_data_Y, y_pred_xgb)\n",
        "rmse=np.sqrt(mse_xgb)\n",
        "n = len(ts_data_Y)\n",
        "p = 6  # Number of predictors\n",
        "adjusted_r2 = 1 - (1 - score_dtr) * (n - 1) / (n - p - 1)\n",
        "mbe = np.mean(y_pred_xgb - ts_data_Y)\n",
        "rss = np.sum((y_pred_xgb - ts_data_Y)**2)\n",
        "mpe = np.mean((y_pred_xgb - ts_data_Y) / ts_data_Y) * 100\n",
        "print('R2_xgb=',score_xgb)\n",
        "print('mse_xgb=',mse_xgb)\n",
        "print('R score_xgb=',r_xgb[0])\n",
        "print('mape_xgb=',mape)\n",
        "print('mallow_xgb=',mallow)\n",
        "print('msle= ',msle)\n",
        "print('mae= ',mae)\n",
        "print('rmse= ',rmse)\n",
        "print('adjusted_r2=',adjusted_r2)\n",
        "print('mbe=',mbe)\n",
        "print('rss=',rss)\n",
        "print('mpe=',mpe)"
      ],
      "metadata": {
        "colab": {
          "base_uri": "https://localhost:8080/"
        },
        "id": "GsvnoJcmkwNg",
        "outputId": "36bb3608-3cac-4a6d-a3aa-f479bb8097e1"
      },
      "execution_count": 109,
      "outputs": [
        {
          "output_type": "stream",
          "name": "stdout",
          "text": [
            "R2_xgb= 0.8820604287046544\n",
            "mse_xgb= 2.201353515006336\n",
            "R score_xgb= 0.9533818822860409\n",
            "mape_xgb= 0.08575313190293564\n",
            "mallow_xgb= 0.0\n",
            "msle=  0.01471534121021918\n",
            "mae=  1.089829095621578\n",
            "rmse=  1.4836958970780825\n",
            "adjusted_r2= 0.9533378065127861\n",
            "mbe= -0.2975325509368398\n",
            "rss= 134.2825644153865\n",
            "mpe= 1.9132310981906722\n"
          ]
        }
      ]
    },
    {
      "cell_type": "code",
      "source": [
        "import warnings\n",
        "import numpy as np\n",
        "import seaborn as sns\n",
        "import matplotlib.pyplot as plt\n",
        "import matplotlib as mpl\n",
        "# Ignore warnings\n",
        "warnings.filterwarnings('ignore')\n",
        "\n",
        "# Assuming you have defined 'ts_data_Y' and 'y_pred_dtr' before this code snippet\n",
        "\n",
        "# Perform linear regression and obtain the coefficients\n",
        "reg = np.polyfit(ts_data_Y, y_pred_xgb, deg=1)\n",
        "slope = reg[0]\n",
        "intercept = reg[1]\n",
        "\n",
        "# Generate the trend line for linear regression\n",
        "trend = slope * ts_data_Y + intercept\n",
        "\n",
        "# Set the style to a light blue or cyan background color\n",
        "plt.figure(figsize=(8, 5))\n",
        "sns.set_style({'axes.facecolor': '#E0FFFF'})  # Set your desired color here\n",
        "mpl.rcParams['axes.linewidth'] = 2.5\n",
        "mpl.rcParams['xtick.major.width'] = 2.5  # Set your desired x-axis tick thickness here\n",
        "mpl.rcParams['ytick.major.width'] = 2.5\n",
        "# Plot the scatter plot with the specified background color\n",
        "sns.scatterplot(x=ts_data_Y, y=y_pred_xgb, c='yellow', marker='*', edgecolor='black', s=300)\n",
        "\n",
        "# Plot the trend line\n",
        "plt.plot(ts_data_Y, trend, color='red', linewidth=2)\n",
        "\n",
        "# Customize the plot (xticks, yticks, labels, title, etc.)\n",
        "font1 = {'family': 'calibari', 'color': 'black', 'fontweight': 'bold', 'size': 18}\n",
        "plt.yticks(color='navy', fontweight='bold', size=12)\n",
        "plt.xlim(0, max(ts_data_Y) + 1)\n",
        "plt.ylim(0, max(y_pred_dtr) + 1)\n",
        "plt.xticks(color='navy', fontweight='bold', size=12)\n",
        "plt.xlabel('True PCE(%)', fontdict=font1)\n",
        "plt.ylabel('Predicted PCE(%)', fontdict=font1)\n",
        "# plt.title('Xgboost regressor Plot', c='#6f045a', fontdict=font1)\n",
        "\n",
        "# Show the plot\n",
        "plt.show()\n"
      ],
      "metadata": {
        "colab": {
          "base_uri": "https://localhost:8080/",
          "height": 618
        },
        "id": "io0t8PhbJh4J",
        "outputId": "1235ca0e-9dd4-4e49-80f6-2693fef42398"
      },
      "execution_count": 73,
      "outputs": [
        {
          "output_type": "stream",
          "name": "stderr",
          "text": [
            "WARNING:matplotlib.font_manager:findfont: Font family 'calibari' not found.\n",
            "WARNING:matplotlib.font_manager:findfont: Font family 'calibari' not found.\n",
            "WARNING:matplotlib.font_manager:findfont: Font family 'calibari' not found.\n",
            "WARNING:matplotlib.font_manager:findfont: Font family 'calibari' not found.\n",
            "WARNING:matplotlib.font_manager:findfont: Font family 'calibari' not found.\n",
            "WARNING:matplotlib.font_manager:findfont: Font family 'calibari' not found.\n",
            "WARNING:matplotlib.font_manager:findfont: Font family 'calibari' not found.\n",
            "WARNING:matplotlib.font_manager:findfont: Font family 'calibari' not found.\n"
          ]
        },
        {
          "output_type": "display_data",
          "data": {
            "text/plain": [
              "<Figure size 800x500 with 1 Axes>"
            ],
            "image/png": "[encoded data removed]"
          },
          "metadata": {}
        }
      ]
    },
    {
      "cell_type": "markdown",
      "source": [
        "KNeighborsRegressor"
      ],
      "metadata": {
        "id": "dyzMZRpfJ49c"
      }
    },
    {
      "cell_type": "code",
      "source": [
        "import time\n",
        "st = time.time()\n",
        "from sklearn.neighbors import KNeighborsRegressor\n",
        "knn = KNeighborsRegressor(n_neighbors=3)\n",
        "knn.fit(tr_data_X,  tr_data_Y)"
      ],
      "metadata": {
        "colab": {
          "base_uri": "https://localhost:8080/",
          "height": 74
        },
        "id": "GfcUdmqdJwX4",
        "outputId": "bc121754-c8d2-46a9-fdf1-0a9e4c761705"
      },
      "execution_count": 74,
      "outputs": [
        {
          "output_type": "execute_result",
          "data": {
            "text/plain": [
              "KNeighborsRegressor(n_neighbors=3)"
            ],
            "text/html": [
              "<style>#sk-container-id-4 {color: black;background-color: white;}#sk-container-id-4 pre{padding: 0;}#sk-container-id-4 div.sk-toggleable {background-color: white;}#sk-container-id-4 label.sk-toggleable__label {cursor: pointer;display: block;width: 100%;margin-bottom: 0;padding: 0.3em;box-sizing: border-box;text-align: center;}#sk-container-id-4 label.sk-toggleable__label-arrow:before {content: \"▸\";float: left;margin-right: 0.25em;color: #696969;}#sk-container-id-4 label.sk-toggleable__label-arrow:hover:before {color: black;}#sk-container-id-4 div.sk-estimator:hover label.sk-toggleable__label-arrow:before {color: black;}#sk-container-id-4 div.sk-toggleable__content {max-height: 0;max-width: 0;overflow: hidden;text-align: left;background-color: #f0f8ff;}#sk-container-id-4 div.sk-toggleable__content pre {margin: 0.2em;color: black;border-radius: 0.25em;background-color: #f0f8ff;}#sk-container-id-4 input.sk-toggleable__control:checked~div.sk-toggleable__content {max-height: 200px;max-width: 100%;overflow: auto;}#sk-container-id-4 input.sk-toggleable__control:checked~label.sk-toggleable__label-arrow:before {content: \"▾\";}#sk-container-id-4 div.sk-estimator input.sk-toggleable__control:checked~label.sk-toggleable__label {background-color: #d4ebff;}#sk-container-id-4 div.sk-label input.sk-toggleable__control:checked~label.sk-toggleable__label {background-color: #d4ebff;}#sk-container-id-4 input.sk-hidden--visually {border: 0;clip: rect(1px 1px 1px 1px);clip: rect(1px, 1px, 1px, 1px);height: 1px;margin: -1px;overflow: hidden;padding: 0;position: absolute;width: 1px;}#sk-container-id-4 div.sk-estimator {font-family: monospace;background-color: #f0f8ff;border: 1px dotted black;border-radius: 0.25em;box-sizing: border-box;margin-bottom: 0.5em;}#sk-container-id-4 div.sk-estimator:hover {background-color: #d4ebff;}#sk-container-id-4 div.sk-parallel-item::after {content: \"\";width: 100%;border-bottom: 1px solid gray;flex-grow: 1;}#sk-container-id-4 div.sk-label:hover label.sk-toggleable__label {background-color: #d4ebff;}#sk-container-id-4 div.sk-serial::before {content: \"\";position: absolute;border-left: 1px solid gray;box-sizing: border-box;top: 0;bottom: 0;left: 50%;z-index: 0;}#sk-container-id-4 div.sk-serial {display: flex;flex-direction: column;align-items: center;background-color: white;padding-right: 0.2em;padding-left: 0.2em;position: relative;}#sk-container-id-4 div.sk-item {position: relative;z-index: 1;}#sk-container-id-4 div.sk-parallel {display: flex;align-items: stretch;justify-content: center;background-color: white;position: relative;}#sk-container-id-4 div.sk-item::before, #sk-container-id-4 div.sk-parallel-item::before {content: \"\";position: absolute;border-left: 1px solid gray;box-sizing: border-box;top: 0;bottom: 0;left: 50%;z-index: -1;}#sk-container-id-4 div.sk-parallel-item {display: flex;flex-direction: column;z-index: 1;position: relative;background-color: white;}#sk-container-id-4 div.sk-parallel-item:first-child::after {align-self: flex-end;width: 50%;}#sk-container-id-4 div.sk-parallel-item:last-child::after {align-self: flex-start;width: 50%;}#sk-container-id-4 div.sk-parallel-item:only-child::after {width: 0;}#sk-container-id-4 div.sk-dashed-wrapped {border: 1px dashed gray;margin: 0 0.4em 0.5em 0.4em;box-sizing: border-box;padding-bottom: 0.4em;background-color: white;}#sk-container-id-4 div.sk-label label {font-family: monospace;font-weight: bold;display: inline-block;line-height: 1.2em;}#sk-container-id-4 div.sk-label-container {text-align: center;}#sk-container-id-4 div.sk-container {/* jupyter's `normalize.less` sets `[hidden] { display: none; }` but bootstrap.min.css set `[hidden] { display: none !important; }` so we also need the `!important` here to be able to override the default hidden behavior on the sphinx rendered scikit-learn.org. See: https://github.com/scikit-learn/scikit-learn/issues/21755 */display: inline-block !important;position: relative;}#sk-container-id-4 div.sk-text-repr-fallback {display: none;}</style><div id=\"sk-container-id-4\" class=\"sk-top-container\"><div class=\"sk-text-repr-fallback\"><pre>KNeighborsRegressor(n_neighbors=3)</pre><b>In a Jupyter environment, please rerun this cell to show the HTML representation or trust the notebook. <br />On GitHub, the HTML representation is unable to render, please try loading this page with nbviewer.org.</b></div><div class=\"sk-container\" hidden><div class=\"sk-item\"><div class=\"sk-estimator sk-toggleable\"><input class=\"sk-toggleable__control sk-hidden--visually\" id=\"sk-estimator-id-4\" type=\"checkbox\" checked><label for=\"sk-estimator-id-4\" class=\"sk-toggleable__label sk-toggleable__label-arrow\">KNeighborsRegressor</label><div class=\"sk-toggleable__content\"><pre>KNeighborsRegressor(n_neighbors=3)</pre></div></div></div></div></div>"
            ]
          },
          "metadata": {},
          "execution_count": 74
        }
      ]
    },
    {
      "cell_type": "code",
      "source": [
        "y_pred_knn = knn.predict(ts_data_X)\n",
        "et = time.time()\n",
        "elapsed_time = et - st\n",
        "print('KNN:', elapsed_time, 'seconds')"
      ],
      "metadata": {
        "colab": {
          "base_uri": "https://localhost:8080/"
        },
        "id": "v8GuTdzRLu6P",
        "outputId": "2c27a387-25e1-4e82-ca41-71533cdb6467"
      },
      "execution_count": 75,
      "outputs": [
        {
          "output_type": "stream",
          "name": "stdout",
          "text": [
            "KNN: 0.021285057067871094 seconds\n"
          ]
        }
      ]
    },
    {
      "cell_type": "code",
      "source": [
        "y_pred_knn"
      ],
      "metadata": {
        "colab": {
          "base_uri": "https://localhost:8080/"
        },
        "id": "4A_8kWfUlrN-",
        "outputId": "4a939e95-14bb-4d9e-f1bf-70bddb569c59"
      },
      "execution_count": 112,
      "outputs": [
        {
          "output_type": "execute_result",
          "data": {
            "text/plain": [
              "array([21.35666667, 21.59      , 12.63333333, 19.18666667, 16.83333333,\n",
              "       18.2       , 16.03      , 16.73333333, 19.16666667, 14.2       ,\n",
              "        9.74333333, 16.37666667, 17.59      , 21.14666667, 20.26666667,\n",
              "       18.82666667, 21.47333333, 18.82333333, 16.85333333, 11.66666667,\n",
              "       19.80333333, 17.39      , 17.39      , 18.47      , 22.22      ,\n",
              "       19.17333333, 21.99      , 21.66      ,  9.65333333, 19.76666667,\n",
              "       20.10333333, 17.78      , 20.78666667, 20.40666667, 21.93333333,\n",
              "       18.96      , 18.61666667, 18.96666667, 23.00333333, 18.77      ,\n",
              "       18.77      , 14.36666667, 16.16      , 21.26666667,  8.81      ,\n",
              "       20.93      , 20.95333333, 18.57      , 18.88666667, 21.93666667,\n",
              "       17.41666667, 19.23333333, 17.37666667, 18.92      , 22.50666667,\n",
              "       19.93      , 18.71      , 21.86      , 20.57      , 17.37666667,\n",
              "       16.2       ])"
            ]
          },
          "metadata": {},
          "execution_count": 112
        }
      ]
    },
    {
      "cell_type": "code",
      "source": [
        "from sklearn.metrics import r2_score,mean_squared_error\n",
        "R2_knn =r2_score(ts_data_Y, y_pred_knn)\n",
        "mse_knn= mean_squared_error(ts_data_Y, y_pred_knn)\n",
        "import scipy\n",
        "r_knn=scipy.stats.pearsonr(ts_data_Y,y_pred_knn)"
      ],
      "metadata": {
        "id": "3dQH-8_nJ9aJ"
      },
      "execution_count": 76,
      "outputs": []
    },
    {
      "cell_type": "code",
      "source": [
        "print('R2_knn=',R2_knn)\n",
        "print('mse_knn=',mse_knn)\n",
        "print('R score_knn=',r_knn[0])"
      ],
      "metadata": {
        "colab": {
          "base_uri": "https://localhost:8080/"
        },
        "id": "QkzdfhYJLnCg",
        "outputId": "9063dc49-de56-48f0-c775-9dc334fa9135"
      },
      "execution_count": 77,
      "outputs": [
        {
          "output_type": "stream",
          "name": "stdout",
          "text": [
            "R2_knn= 0.6987547882597389\n",
            "mse_knn= 5.6227710382513685\n",
            "R score_knn= 0.8483435292380527\n"
          ]
        }
      ]
    },
    {
      "cell_type": "code",
      "source": [
        "from sklearn.metrics import r2_score,mean_squared_error,mean_absolute_percentage_error,fowlkes_mallows_score\n",
        "score_knn=r2_score(ts_data_Y, y_pred_knn)\n",
        "mse_knn=mean_squared_error(ts_data_Y, y_pred_knn)\n",
        "mape=mean_absolute_percentage_error(ts_data_Y, y_pred_knn)\n",
        "mallow=fowlkes_mallows_score(ts_data_Y, y_pred_knn)\n",
        "import scipy\n",
        "r_knn=scipy.stats.pearsonr(ts_data_Y,y_pred_knn)\n",
        "from sklearn.metrics import mean_squared_log_error,mean_absolute_error\n",
        "msle=mean_squared_log_error(ts_data_Y, y_pred_knn)\n",
        "mae=mean_absolute_error(ts_data_Y, y_pred_knn)\n",
        "rmse=np.sqrt(mse_knn)\n",
        "n = len(ts_data_Y)\n",
        "p = 6  # Number of predictors\n",
        "adjusted_r2 = 1 - (1 - score_knn) * (n - 1) / (n - p - 1)\n",
        "mbe = np.mean(y_pred_knn - ts_data_Y)\n",
        "rss = np.sum((y_pred_knn - ts_data_Y)**2)\n",
        "mpe = np.mean((y_pred_knn - ts_data_Y) / ts_data_Y) * 100\n",
        "print('R2_knn=',score_knn)\n",
        "print('mse_knn=',mse_knn)\n",
        "print('R score_knn=',r_knn[0])\n",
        "print('mape_knn=',mape)\n",
        "print('mallow_knn=',mallow)\n",
        "print('msle= ',msle)\n",
        "print('mae= ',mae)\n",
        "print('rmse= ',rmse)\n",
        "print('adjusted_r2=',adjusted_r2)\n",
        "print('mbe=',mbe)\n",
        "print('rss=',rss)\n",
        "print('mpe=',mpe)"
      ],
      "metadata": {
        "colab": {
          "base_uri": "https://localhost:8080/"
        },
        "id": "eHM1HhtplkRO",
        "outputId": "785e37b8-4198-4cfe-f450-abf48a6a5ac7"
      },
      "execution_count": 111,
      "outputs": [
        {
          "output_type": "stream",
          "name": "stdout",
          "text": [
            "R2_knn= 0.6987547882597389\n",
            "mse_knn= 5.6227710382513685\n",
            "R score_knn= 0.8483435292380527\n",
            "mape_knn= 0.15169236075421508\n",
            "mallow_knn= 0.0\n",
            "msle=  0.04485559720379842\n",
            "mae=  1.5390710382513666\n",
            "rmse=  2.371238292169593\n",
            "adjusted_r2= 0.6652830980663765\n",
            "mbe= -0.29065573770491854\n",
            "rss= 342.98903333333345\n",
            "mpe= 6.353282035881605\n"
          ]
        }
      ]
    },
    {
      "cell_type": "code",
      "source": [
        "import warnings\n",
        "import numpy as np\n",
        "import seaborn as sns\n",
        "import matplotlib.pyplot as plt\n",
        "import matplotlib as mpl\n",
        "# Ignore warnings\n",
        "warnings.filterwarnings('ignore')\n",
        "\n",
        "# Assuming you have defined 'ts_data_Y' and 'y_pred_dtr' before this code snippet\n",
        "\n",
        "# Perform linear regression and obtain the coefficients\n",
        "reg = np.polyfit(ts_data_Y, y_pred_knn, deg=1)\n",
        "slope = reg[0]\n",
        "intercept = reg[1]\n",
        "\n",
        "# Generate the trend line for linear regression\n",
        "trend = slope * ts_data_Y + intercept\n",
        "\n",
        "# Set the style to a light blue or cyan background color\n",
        "plt.figure(figsize=(8, 5))\n",
        "sns.set_style({'axes.facecolor': '#E0FFFF'})  # Set your desired color here\n",
        "mpl.rcParams['axes.linewidth'] = 2.5\n",
        "mpl.rcParams['xtick.major.width'] = 2.5  # Set your desired x-axis tick thickness here\n",
        "mpl.rcParams['ytick.major.width'] = 2.5\n",
        "# Plot the scatter plot with the specified background color\n",
        "sns.scatterplot(x=ts_data_Y, y=y_pred_knn, c='yellow', marker='*', edgecolor='black', s=300)\n",
        "\n",
        "# Plot the trend line\n",
        "plt.plot(ts_data_Y, trend, color='red', linewidth=2)\n",
        "\n",
        "# Customize the plot (xticks, yticks, labels, title, etc.)\n",
        "font1 = {'family': 'calibari', 'color': 'black', 'fontweight': 'bold', 'size': 18}\n",
        "plt.yticks(color='navy', fontweight='bold', size=12)\n",
        "plt.xlim(0, max(ts_data_Y) + 1)\n",
        "plt.ylim(0, max(y_pred_knn) + 1)\n",
        "plt.xticks(color='navy', fontweight='bold', size=12)\n",
        "plt.xlabel('True PCE(%)', fontdict=font1)\n",
        "plt.ylabel('Predicted PCE(%)', fontdict=font1)\n",
        "# plt.title('Xgboost regressor Plot', c='#6f045a', fontdict=font1)\n",
        "\n",
        "# Show the plot\n",
        "plt.show()\n"
      ],
      "metadata": {
        "colab": {
          "base_uri": "https://localhost:8080/",
          "height": 618
        },
        "id": "Gk25TepjJ_tR",
        "outputId": "9d8d92e5-1d02-4cc9-a5c3-05d15a300a71"
      },
      "execution_count": 78,
      "outputs": [
        {
          "output_type": "stream",
          "name": "stderr",
          "text": [
            "WARNING:matplotlib.font_manager:findfont: Font family 'calibari' not found.\n",
            "WARNING:matplotlib.font_manager:findfont: Font family 'calibari' not found.\n",
            "WARNING:matplotlib.font_manager:findfont: Font family 'calibari' not found.\n",
            "WARNING:matplotlib.font_manager:findfont: Font family 'calibari' not found.\n",
            "WARNING:matplotlib.font_manager:findfont: Font family 'calibari' not found.\n",
            "WARNING:matplotlib.font_manager:findfont: Font family 'calibari' not found.\n",
            "WARNING:matplotlib.font_manager:findfont: Font family 'calibari' not found.\n",
            "WARNING:matplotlib.font_manager:findfont: Font family 'calibari' not found.\n"
          ]
        },
        {
          "output_type": "display_data",
          "data": {
            "text/plain": [
              "<Figure size 800x500 with 1 Axes>"
            ],
            "image/png": "[encoded data removed]"
          },
          "metadata": {}
        }
      ]
    },
    {
      "cell_type": "markdown",
      "source": [
        "SUPPORT VECTOR REGRESSOR"
      ],
      "metadata": {
        "id": "2oh_RmlJKYQM"
      }
    },
    {
      "cell_type": "code",
      "source": [
        "import time\n",
        "st = time.time()\n",
        "from sklearn.svm import SVR\n",
        "from sklearn.svm import SVR\n",
        "regressor = SVR(kernel = 'rbf')\n",
        "regressor.fit(tr_data_X, tr_data_Y)\n",
        "y_pred_svr = regressor.predict(ts_data_X)\n",
        "et = time.time()\n",
        "elapsed_time = et - st\n",
        "print('SVR:', elapsed_time, 'seconds')"
      ],
      "metadata": {
        "colab": {
          "base_uri": "https://localhost:8080/"
        },
        "id": "zELOsdYJKfi6",
        "outputId": "92c5c884-8bc9-49d9-99f8-cace73824e4f"
      },
      "execution_count": 79,
      "outputs": [
        {
          "output_type": "stream",
          "name": "stdout",
          "text": [
            "SVR: 0.02975773811340332 seconds\n"
          ]
        }
      ]
    },
    {
      "cell_type": "code",
      "source": [
        "from sklearn.metrics import r2_score,mean_squared_error\n",
        "R2_svr =r2_score(ts_data_Y, y_pred_svr)\n",
        "mse_svr= mean_squared_error(ts_data_Y, y_pred_svr)\n",
        "import scipy\n",
        "r_svr=scipy.stats.pearsonr(ts_data_Y,y_pred_svr)"
      ],
      "metadata": {
        "id": "um4H5g6zKhhc"
      },
      "execution_count": 80,
      "outputs": []
    },
    {
      "cell_type": "code",
      "source": [
        "print('R2_svr=',R2_svr)\n",
        "print('mse_svr=',mse_svr)\n",
        "print('R score_svr=',r_svr[0])"
      ],
      "metadata": {
        "colab": {
          "base_uri": "https://localhost:8080/"
        },
        "id": "_d88eKerMe03",
        "outputId": "65f0d50d-e351-4aca-e758-223508536348"
      },
      "execution_count": 81,
      "outputs": [
        {
          "output_type": "stream",
          "name": "stdout",
          "text": [
            "R2_svr= 0.0561226741963643\n",
            "mse_svr= 17.61756165527636\n",
            "R score_svr= 0.2997227987122009\n"
          ]
        }
      ]
    },
    {
      "cell_type": "code",
      "source": [
        "# import matplotlib.pyplot as plt\n",
        "# plt.scatter(ts_data_Y, y_pred_svr)\n",
        "# plt.xlabel(\"Actual PCE\")\n",
        "# plt.ylabel(\"Predicted PCE\")\n",
        "# plt.show()"
      ],
      "metadata": {
        "id": "bEeCTGWhKlz5"
      },
      "execution_count": 82,
      "outputs": []
    },
    {
      "cell_type": "markdown",
      "source": [
        "RandomForestRegressor"
      ],
      "metadata": {
        "id": "VLqrwRo-K77n"
      }
    },
    {
      "cell_type": "code",
      "source": [
        "import time\n",
        "st = time.time()\n",
        "from sklearn.ensemble import RandomForestRegressor\n",
        "regressor = RandomForestRegressor(n_estimators = 100, random_state = None)\n",
        "regressor.fit(tr_data_X, tr_data_Y)\n",
        "y_pred_rf = regressor.predict(ts_data_X)\n",
        "et = time.time()\n",
        "elapsed_time = et - st\n",
        "print('RF:', elapsed_time, 'seconds')"
      ],
      "metadata": {
        "id": "XTH2C_V7KyLq",
        "colab": {
          "base_uri": "https://localhost:8080/"
        },
        "outputId": "8d360dc3-98d2-43de-d379-66cf040c04bb"
      },
      "execution_count": 83,
      "outputs": [
        {
          "output_type": "stream",
          "name": "stdout",
          "text": [
            "RF: 0.33666229248046875 seconds\n"
          ]
        }
      ]
    },
    {
      "cell_type": "code",
      "source": [
        "y_pred_rf"
      ],
      "metadata": {
        "colab": {
          "base_uri": "https://localhost:8080/"
        },
        "id": "8m23uD2-mnkV",
        "outputId": "4ccfc048-00bc-4426-a90e-370fdce9aebf"
      },
      "execution_count": 114,
      "outputs": [
        {
          "output_type": "execute_result",
          "data": {
            "text/plain": [
              "array([19.48133667, 19.6005    , 14.156     , 18.95659167, 18.5068    ,\n",
              "       14.0597    , 17.7387    , 17.543585  , 18.67603333, 14.68797667,\n",
              "        8.75011   , 21.71804   , 18.65904167, 20.066779  , 19.83163095,\n",
              "       21.33493   , 21.5944981 , 17.74585667, 17.097845  ,  8.29498   ,\n",
              "       20.07856   , 18.136775  , 18.136775  , 16.8112    , 22.19468333,\n",
              "       19.41061333, 21.83049857, 21.52150667,  8.52781667, 19.19682381,\n",
              "       19.42416786, 20.0326    , 20.06935   , 20.69611667, 22.70788929,\n",
              "       18.27466   , 17.46480667, 19.13331667, 22.89133   , 19.09694   ,\n",
              "       19.09694   , 16.17138333, 17.331025  , 21.67168333,  8.9012081 ,\n",
              "       20.97136583, 20.88802262, 19.55355   , 19.09093   , 22.10492238,\n",
              "       21.0489    , 20.06331   , 17.5675752 , 19.94018667, 22.77275357,\n",
              "       19.64      , 20.454075  , 21.46256   , 20.40715   , 17.5675752 ,\n",
              "       16.39843333])"
            ]
          },
          "metadata": {},
          "execution_count": 114
        }
      ]
    },
    {
      "cell_type": "code",
      "source": [
        "from sklearn.metrics import r2_score,mean_squared_error\n",
        "R2_rf =r2_score(ts_data_Y, y_pred_rf)\n",
        "mse_rf= mean_squared_error(ts_data_Y, y_pred_rf)\n",
        "import scipy\n",
        "r_rf=scipy.stats.pearsonr(ts_data_Y,y_pred_rf)"
      ],
      "metadata": {
        "id": "aGmwxLDPLBLY"
      },
      "execution_count": 84,
      "outputs": []
    },
    {
      "cell_type": "code",
      "source": [
        "print('R2_rf=',R2_rf)\n",
        "print('mse_rf=',mse_rf)\n",
        "print('R score_rf=',r_rf[0])"
      ],
      "metadata": {
        "colab": {
          "base_uri": "https://localhost:8080/"
        },
        "id": "jgVG2qOyM7S6",
        "outputId": "d34b4f45-b359-4e44-8c0a-fff15586d319"
      },
      "execution_count": 85,
      "outputs": [
        {
          "output_type": "stream",
          "name": "stdout",
          "text": [
            "R2_rf= 0.8863077928052936\n",
            "mse_rf= 2.122076052914842\n",
            "R score_rf= 0.961986285993822\n"
          ]
        }
      ]
    },
    {
      "cell_type": "code",
      "source": [
        "from sklearn.metrics import r2_score,mean_squared_error,mean_absolute_percentage_error,fowlkes_mallows_score\n",
        "score_rf=r2_score(ts_data_Y, y_pred_rf)\n",
        "mse_rf=mean_squared_error(ts_data_Y, y_pred_rf)\n",
        "mape=mean_absolute_percentage_error(ts_data_Y, y_pred_rf)\n",
        "mallow=fowlkes_mallows_score(ts_data_Y, y_pred_rf)\n",
        "import scipy\n",
        "r_knn=scipy.stats.pearsonr(ts_data_Y,y_pred_rf)\n",
        "from sklearn.metrics import mean_squared_log_error,mean_absolute_error\n",
        "msle=mean_squared_log_error(ts_data_Y, y_pred_rf)\n",
        "mae=mean_absolute_error(ts_data_Y, y_pred_rf)\n",
        "rmse=np.sqrt(mse_rf)\n",
        "n = len(ts_data_Y)\n",
        "p = 6  # Number of predictors\n",
        "adjusted_r2 = 1 - (1 - score_rf) * (n - 1) / (n - p - 1)\n",
        "mbe = np.mean(y_pred_rf - ts_data_Y)\n",
        "rss = np.sum((y_pred_rf - ts_data_Y)**2)\n",
        "mpe = np.mean((y_pred_rf - ts_data_Y) / ts_data_Y) * 100\n",
        "print('R2_rf=',score_rf)\n",
        "print('mse_rf=',mse_rf)\n",
        "print('R score_rf=',r_rf[0])\n",
        "print('mape_rf=',mape)\n",
        "print('mallow_rf=',mallow)\n",
        "print('msle= ',msle)\n",
        "print('mae= ',mae)\n",
        "print('rmse= ',rmse)\n",
        "print('adjusted_r2=',adjusted_r2)\n",
        "print('mbe=',mbe)\n",
        "print('rss=',rss)\n",
        "print('mpe=',mpe)"
      ],
      "metadata": {
        "colab": {
          "base_uri": "https://localhost:8080/"
        },
        "id": "u5TjB_h8mjoj",
        "outputId": "1e07337b-804e-4a36-869b-63c6c7cd38bd"
      },
      "execution_count": 113,
      "outputs": [
        {
          "output_type": "stream",
          "name": "stdout",
          "text": [
            "R2_rf= 0.8863077928052936\n",
            "mse_rf= 2.122076052914842\n",
            "R score_rf= 0.961986285993822\n",
            "mape_rf= 0.0968391845165661\n",
            "mallow_rf= 0.0\n",
            "msle=  0.023917781094693676\n",
            "mae=  0.9384253604546675\n",
            "rmse=  1.4567347229042227\n",
            "adjusted_r2= 0.8736753253392151\n",
            "mbe= -0.11113256055874904\n",
            "rss= 129.44663922780538\n",
            "mpe= 4.657122066951522\n"
          ]
        }
      ]
    },
    {
      "cell_type": "code",
      "source": [
        "import warnings\n",
        "# Ignore the 'matplotlib.font_manager' warning\n",
        "warnings.filterwarnings('ignore', category=UserWarning, module='matplotlib.font_manager')\n",
        "# Your code for the scatter plot and other configurations\n",
        "sns.scatterplot(x=ts_data_Y, y=y_pred_rf, c='#008080', edgecolor='black', s=200)\n",
        "font1 = {'family': 'STIXGeneral', 'color': '#6f045a', 'fontweight': 'bold', 'size': 18}\n",
        "plt.yticks(color='navy', fontweight='bold', size=15)\n",
        "plt.xticks(color='navy', fontweight='bold', size=15)\n",
        "plt.xlabel('Actual pce', fontdict=font1)\n",
        "plt.ylabel('Predicted pce', fontdict=font1)\n",
        "plt.title('Randomforest plot', c='#6f045a', fontdict=font1)\n",
        "\n",
        "# Show the plot\n",
        "plt.show()\n"
      ],
      "metadata": {
        "colab": {
          "base_uri": "https://localhost:8080/",
          "height": 489
        },
        "id": "PxeNCs70LGyL",
        "outputId": "8a42a564-4621-45da-ef4d-c0ec078d8ad9"
      },
      "execution_count": 86,
      "outputs": [
        {
          "output_type": "display_data",
          "data": {
            "text/plain": [
              "<Figure size 640x480 with 1 Axes>"
            ],
            "image/png": "[encoded data removed]"
          },
          "metadata": {}
        }
      ]
    },
    {
      "cell_type": "markdown",
      "source": [
        "AdaBoostRegressor"
      ],
      "metadata": {
        "id": "vkTT7xkDLcyl"
      }
    },
    {
      "cell_type": "code",
      "source": [
        "import time\n",
        "st = time.time()\n",
        "from sklearn.ensemble import AdaBoostRegressor\n",
        "from sklearn.datasets import make_regression"
      ],
      "metadata": {
        "id": "pnXNLZJxLUnl"
      },
      "execution_count": 87,
      "outputs": []
    },
    {
      "cell_type": "code",
      "source": [
        "ada_reg = AdaBoostRegressor(random_state=0, n_estimators=100)\n",
        "ada_reg.fit(tr_data_X,tr_data_Y)"
      ],
      "metadata": {
        "colab": {
          "base_uri": "https://localhost:8080/",
          "height": 74
        },
        "id": "IujCVkSgLg9_",
        "outputId": "14b3bb12-a0a1-43f1-f489-115c621ebafa"
      },
      "execution_count": 88,
      "outputs": [
        {
          "output_type": "execute_result",
          "data": {
            "text/plain": [
              "AdaBoostRegressor(n_estimators=100, random_state=0)"
            ],
            "text/html": [
              "<style>#sk-container-id-5 {color: black;background-color: white;}#sk-container-id-5 pre{padding: 0;}#sk-container-id-5 div.sk-toggleable {background-color: white;}#sk-container-id-5 label.sk-toggleable__label {cursor: pointer;display: block;width: 100%;margin-bottom: 0;padding: 0.3em;box-sizing: border-box;text-align: center;}#sk-container-id-5 label.sk-toggleable__label-arrow:before {content: \"▸\";float: left;margin-right: 0.25em;color: #696969;}#sk-container-id-5 label.sk-toggleable__label-arrow:hover:before {color: black;}#sk-container-id-5 div.sk-estimator:hover label.sk-toggleable__label-arrow:before {color: black;}#sk-container-id-5 div.sk-toggleable__content {max-height: 0;max-width: 0;overflow: hidden;text-align: left;background-color: #f0f8ff;}#sk-container-id-5 div.sk-toggleable__content pre {margin: 0.2em;color: black;border-radius: 0.25em;background-color: #f0f8ff;}#sk-container-id-5 input.sk-toggleable__control:checked~div.sk-toggleable__content {max-height: 200px;max-width: 100%;overflow: auto;}#sk-container-id-5 input.sk-toggleable__control:checked~label.sk-toggleable__label-arrow:before {content: \"▾\";}#sk-container-id-5 div.sk-estimator input.sk-toggleable__control:checked~label.sk-toggleable__label {background-color: #d4ebff;}#sk-container-id-5 div.sk-label input.sk-toggleable__control:checked~label.sk-toggleable__label {background-color: #d4ebff;}#sk-container-id-5 input.sk-hidden--visually {border: 0;clip: rect(1px 1px 1px 1px);clip: rect(1px, 1px, 1px, 1px);height: 1px;margin: -1px;overflow: hidden;padding: 0;position: absolute;width: 1px;}#sk-container-id-5 div.sk-estimator {font-family: monospace;background-color: #f0f8ff;border: 1px dotted black;border-radius: 0.25em;box-sizing: border-box;margin-bottom: 0.5em;}#sk-container-id-5 div.sk-estimator:hover {background-color: #d4ebff;}#sk-container-id-5 div.sk-parallel-item::after {content: \"\";width: 100%;border-bottom: 1px solid gray;flex-grow: 1;}#sk-container-id-5 div.sk-label:hover label.sk-toggleable__label {background-color: #d4ebff;}#sk-container-id-5 div.sk-serial::before {content: \"\";position: absolute;border-left: 1px solid gray;box-sizing: border-box;top: 0;bottom: 0;left: 50%;z-index: 0;}#sk-container-id-5 div.sk-serial {display: flex;flex-direction: column;align-items: center;background-color: white;padding-right: 0.2em;padding-left: 0.2em;position: relative;}#sk-container-id-5 div.sk-item {position: relative;z-index: 1;}#sk-container-id-5 div.sk-parallel {display: flex;align-items: stretch;justify-content: center;background-color: white;position: relative;}#sk-container-id-5 div.sk-item::before, #sk-container-id-5 div.sk-parallel-item::before {content: \"\";position: absolute;border-left: 1px solid gray;box-sizing: border-box;top: 0;bottom: 0;left: 50%;z-index: -1;}#sk-container-id-5 div.sk-parallel-item {display: flex;flex-direction: column;z-index: 1;position: relative;background-color: white;}#sk-container-id-5 div.sk-parallel-item:first-child::after {align-self: flex-end;width: 50%;}#sk-container-id-5 div.sk-parallel-item:last-child::after {align-self: flex-start;width: 50%;}#sk-container-id-5 div.sk-parallel-item:only-child::after {width: 0;}#sk-container-id-5 div.sk-dashed-wrapped {border: 1px dashed gray;margin: 0 0.4em 0.5em 0.4em;box-sizing: border-box;padding-bottom: 0.4em;background-color: white;}#sk-container-id-5 div.sk-label label {font-family: monospace;font-weight: bold;display: inline-block;line-height: 1.2em;}#sk-container-id-5 div.sk-label-container {text-align: center;}#sk-container-id-5 div.sk-container {/* jupyter's `normalize.less` sets `[hidden] { display: none; }` but bootstrap.min.css set `[hidden] { display: none !important; }` so we also need the `!important` here to be able to override the default hidden behavior on the sphinx rendered scikit-learn.org. See: https://github.com/scikit-learn/scikit-learn/issues/21755 */display: inline-block !important;position: relative;}#sk-container-id-5 div.sk-text-repr-fallback {display: none;}</style><div id=\"sk-container-id-5\" class=\"sk-top-container\"><div class=\"sk-text-repr-fallback\"><pre>AdaBoostRegressor(n_estimators=100, random_state=0)</pre><b>In a Jupyter environment, please rerun this cell to show the HTML representation or trust the notebook. <br />On GitHub, the HTML representation is unable to render, please try loading this page with nbviewer.org.</b></div><div class=\"sk-container\" hidden><div class=\"sk-item\"><div class=\"sk-estimator sk-toggleable\"><input class=\"sk-toggleable__control sk-hidden--visually\" id=\"sk-estimator-id-5\" type=\"checkbox\" checked><label for=\"sk-estimator-id-5\" class=\"sk-toggleable__label sk-toggleable__label-arrow\">AdaBoostRegressor</label><div class=\"sk-toggleable__content\"><pre>AdaBoostRegressor(n_estimators=100, random_state=0)</pre></div></div></div></div></div>"
            ]
          },
          "metadata": {},
          "execution_count": 88
        }
      ]
    },
    {
      "cell_type": "code",
      "source": [
        "AdaBoostRegressor(n_estimators=100, random_state=0)\n",
        "y_pred_AdB = np.array(ada_reg.predict(ts_data_X))\n",
        "et = time.time()\n",
        "elapsed_time = et - st\n",
        "print('ADB :', elapsed_time, 'seconds')"
      ],
      "metadata": {
        "colab": {
          "base_uri": "https://localhost:8080/"
        },
        "id": "8_2yRRR-Nbnz",
        "outputId": "f6bada00-a29a-4213-b02f-077e48875a35"
      },
      "execution_count": 89,
      "outputs": [
        {
          "output_type": "stream",
          "name": "stdout",
          "text": [
            "ADB : 0.24677515029907227 seconds\n"
          ]
        }
      ]
    },
    {
      "cell_type": "code",
      "source": [
        "from sklearn.metrics import r2_score,mean_squared_error\n",
        "R2_AdB =r2_score(ts_data_Y, y_pred_AdB)\n",
        "mse_AdB= mean_squared_error(ts_data_Y, y_pred_AdB)\n",
        "import scipy\n",
        "r_AdB=scipy.stats.pearsonr(ts_data_Y,y_pred_AdB)"
      ],
      "metadata": {
        "id": "zaRFKdgfNilO"
      },
      "execution_count": 90,
      "outputs": []
    },
    {
      "cell_type": "code",
      "source": [
        "print('R2_AdB=',R2_AdB)\n",
        "print('mse_AdB=',mse_AdB)\n",
        "print('R score_AdB=',r_AdB[0])"
      ],
      "metadata": {
        "colab": {
          "base_uri": "https://localhost:8080/"
        },
        "id": "F0B2uIFlNlbr",
        "outputId": "78546585-d33c-465e-a92d-9d43f8060133"
      },
      "execution_count": 91,
      "outputs": [
        {
          "output_type": "stream",
          "name": "stdout",
          "text": [
            "R2_AdB= 0.06315374696206644\n",
            "mse_AdB= 17.486326001483086\n",
            "R score_AdB= 0.6269282118149131\n"
          ]
        }
      ]
    },
    {
      "cell_type": "code",
      "source": [
        "# import matplotlib.pyplot as plt\n",
        "# plt.scatter(ts_data_Y,y_pred_AdB)\n",
        "# plt.xlabel(\"Actual PCE\")\n",
        "# plt.ylabel(\"Predicted PCE\")\n",
        "# plt.show()"
      ],
      "metadata": {
        "id": "lKHE6tTqLmsd"
      },
      "execution_count": 92,
      "outputs": []
    },
    {
      "cell_type": "markdown",
      "source": [
        "LGBMRegressor"
      ],
      "metadata": {
        "id": "-f26JJtvL-fi"
      }
    },
    {
      "cell_type": "code",
      "source": [
        "import time\n",
        "st = time.time()\n",
        "from sklearn.datasets import make_regression\n",
        "from lightgbm import LGBMRegressor\n",
        "model_LGBM = LGBMRegressor()"
      ],
      "metadata": {
        "id": "rgBMbNBRL2fL"
      },
      "execution_count": 93,
      "outputs": []
    },
    {
      "cell_type": "code",
      "source": [
        "model_LGBM.fit(tr_data_X,tr_data_Y)"
      ],
      "metadata": {
        "colab": {
          "base_uri": "https://localhost:8080/",
          "height": 74
        },
        "id": "fVn4lBQ1MC-6",
        "outputId": "f42fad10-b467-4fe2-9feb-5602dcaf4e2e"
      },
      "execution_count": 94,
      "outputs": [
        {
          "output_type": "execute_result",
          "data": {
            "text/plain": [
              "LGBMRegressor()"
            ],
            "text/html": [
              "<style>#sk-container-id-6 {color: black;background-color: white;}#sk-container-id-6 pre{padding: 0;}#sk-container-id-6 div.sk-toggleable {background-color: white;}#sk-container-id-6 label.sk-toggleable__label {cursor: pointer;display: block;width: 100%;margin-bottom: 0;padding: 0.3em;box-sizing: border-box;text-align: center;}#sk-container-id-6 label.sk-toggleable__label-arrow:before {content: \"▸\";float: left;margin-right: 0.25em;color: #696969;}#sk-container-id-6 label.sk-toggleable__label-arrow:hover:before {color: black;}#sk-container-id-6 div.sk-estimator:hover label.sk-toggleable__label-arrow:before {color: black;}#sk-container-id-6 div.sk-toggleable__content {max-height: 0;max-width: 0;overflow: hidden;text-align: left;background-color: #f0f8ff;}#sk-container-id-6 div.sk-toggleable__content pre {margin: 0.2em;color: black;border-radius: 0.25em;background-color: #f0f8ff;}#sk-container-id-6 input.sk-toggleable__control:checked~div.sk-toggleable__content {max-height: 200px;max-width: 100%;overflow: auto;}#sk-container-id-6 input.sk-toggleable__control:checked~label.sk-toggleable__label-arrow:before {content: \"▾\";}#sk-container-id-6 div.sk-estimator input.sk-toggleable__control:checked~label.sk-toggleable__label {background-color: #d4ebff;}#sk-container-id-6 div.sk-label input.sk-toggleable__control:checked~label.sk-toggleable__label {background-color: #d4ebff;}#sk-container-id-6 input.sk-hidden--visually {border: 0;clip: rect(1px 1px 1px 1px);clip: rect(1px, 1px, 1px, 1px);height: 1px;margin: -1px;overflow: hidden;padding: 0;position: absolute;width: 1px;}#sk-container-id-6 div.sk-estimator {font-family: monospace;background-color: #f0f8ff;border: 1px dotted black;border-radius: 0.25em;box-sizing: border-box;margin-bottom: 0.5em;}#sk-container-id-6 div.sk-estimator:hover {background-color: #d4ebff;}#sk-container-id-6 div.sk-parallel-item::after {content: \"\";width: 100%;border-bottom: 1px solid gray;flex-grow: 1;}#sk-container-id-6 div.sk-label:hover label.sk-toggleable__label {background-color: #d4ebff;}#sk-container-id-6 div.sk-serial::before {content: \"\";position: absolute;border-left: 1px solid gray;box-sizing: border-box;top: 0;bottom: 0;left: 50%;z-index: 0;}#sk-container-id-6 div.sk-serial {display: flex;flex-direction: column;align-items: center;background-color: white;padding-right: 0.2em;padding-left: 0.2em;position: relative;}#sk-container-id-6 div.sk-item {position: relative;z-index: 1;}#sk-container-id-6 div.sk-parallel {display: flex;align-items: stretch;justify-content: center;background-color: white;position: relative;}#sk-container-id-6 div.sk-item::before, #sk-container-id-6 div.sk-parallel-item::before {content: \"\";position: absolute;border-left: 1px solid gray;box-sizing: border-box;top: 0;bottom: 0;left: 50%;z-index: -1;}#sk-container-id-6 div.sk-parallel-item {display: flex;flex-direction: column;z-index: 1;position: relative;background-color: white;}#sk-container-id-6 div.sk-parallel-item:first-child::after {align-self: flex-end;width: 50%;}#sk-container-id-6 div.sk-parallel-item:last-child::after {align-self: flex-start;width: 50%;}#sk-container-id-6 div.sk-parallel-item:only-child::after {width: 0;}#sk-container-id-6 div.sk-dashed-wrapped {border: 1px dashed gray;margin: 0 0.4em 0.5em 0.4em;box-sizing: border-box;padding-bottom: 0.4em;background-color: white;}#sk-container-id-6 div.sk-label label {font-family: monospace;font-weight: bold;display: inline-block;line-height: 1.2em;}#sk-container-id-6 div.sk-label-container {text-align: center;}#sk-container-id-6 div.sk-container {/* jupyter's `normalize.less` sets `[hidden] { display: none; }` but bootstrap.min.css set `[hidden] { display: none !important; }` so we also need the `!important` here to be able to override the default hidden behavior on the sphinx rendered scikit-learn.org. See: https://github.com/scikit-learn/scikit-learn/issues/21755 */display: inline-block !important;position: relative;}#sk-container-id-6 div.sk-text-repr-fallback {display: none;}</style><div id=\"sk-container-id-6\" class=\"sk-top-container\"><div class=\"sk-text-repr-fallback\"><pre>LGBMRegressor()</pre><b>In a Jupyter environment, please rerun this cell to show the HTML representation or trust the notebook. <br />On GitHub, the HTML representation is unable to render, please try loading this page with nbviewer.org.</b></div><div class=\"sk-container\" hidden><div class=\"sk-item\"><div class=\"sk-estimator sk-toggleable\"><input class=\"sk-toggleable__control sk-hidden--visually\" id=\"sk-estimator-id-6\" type=\"checkbox\" checked><label for=\"sk-estimator-id-6\" class=\"sk-toggleable__label sk-toggleable__label-arrow\">LGBMRegressor</label><div class=\"sk-toggleable__content\"><pre>LGBMRegressor()</pre></div></div></div></div></div>"
            ]
          },
          "metadata": {},
          "execution_count": 94
        }
      ]
    },
    {
      "cell_type": "code",
      "source": [
        "y_pred_LightGBM = np.array(model_LGBM.predict(ts_data_X))\n",
        "et = time.time()\n",
        "elapsed_time = et - st\n",
        "print('LGBM:', elapsed_time, 'seconds')"
      ],
      "metadata": {
        "id": "Xs4GPKEBMF3d",
        "colab": {
          "base_uri": "https://localhost:8080/"
        },
        "outputId": "fd5e50a5-0c98-436d-c84c-8879aa5299ef"
      },
      "execution_count": 95,
      "outputs": [
        {
          "output_type": "stream",
          "name": "stdout",
          "text": [
            "LGBM: 1.0099232196807861 seconds\n"
          ]
        }
      ]
    },
    {
      "cell_type": "code",
      "source": [
        "y_pred_LightGBM"
      ],
      "metadata": {
        "colab": {
          "base_uri": "https://localhost:8080/"
        },
        "id": "jZNa_BYmnbIx",
        "outputId": "c1e63292-9b78-4a9d-a0ec-965026937591"
      },
      "execution_count": 116,
      "outputs": [
        {
          "output_type": "execute_result",
          "data": {
            "text/plain": [
              "array([19.03412837, 17.52365149, 17.52365149, 18.93508197, 18.08978844,\n",
              "       16.8106855 , 17.30731937, 17.82412488, 19.47137201, 13.16360022,\n",
              "       12.16698406, 21.12530862, 17.98611757, 19.96391842, 19.1487635 ,\n",
              "       20.60825084, 21.48624149, 18.53060547, 18.78024449, 13.34058661,\n",
              "       19.9842877 , 17.96111387, 17.96111387, 14.52109333, 21.1843754 ,\n",
              "       19.68909413, 20.64582552, 20.96699732, 11.79546963, 18.25127475,\n",
              "       18.91882275, 19.05860162, 20.11615051, 20.85962346, 21.05060662,\n",
              "       18.53280489, 16.27379265, 19.43985725, 22.11709924, 18.79054064,\n",
              "       18.79054064, 16.74228977, 15.20700141, 22.1034087 , 11.46155453,\n",
              "       20.71219244, 21.14261118, 20.10747093, 18.61575856, 22.21434252,\n",
              "       19.10913186, 19.41321889, 17.90562325, 20.03096996, 22.23098266,\n",
              "       19.39476226, 18.85588552, 20.3995453 , 20.85214476, 17.90562325,\n",
              "       19.50413942])"
            ]
          },
          "metadata": {},
          "execution_count": 116
        }
      ]
    },
    {
      "cell_type": "code",
      "source": [
        "from sklearn.metrics import r2_score,mean_squared_error\n",
        "R2_LightGBM =r2_score(ts_data_Y, y_pred_LightGBM)\n",
        "mse_LightGBM= mean_squared_error(ts_data_Y, y_pred_LightGBM)\n",
        "import scipy\n",
        "r_LightGBM=scipy.stats.pearsonr(ts_data_Y,y_pred_LightGBM)"
      ],
      "metadata": {
        "id": "n7_bs7o0MIW2"
      },
      "execution_count": 96,
      "outputs": []
    },
    {
      "cell_type": "code",
      "source": [
        "print('R2_LightGBM=',R2_LightGBM)\n",
        "print('mse_LightGBM=',mse_LightGBM)\n",
        "print('R score_LightGBM=',r_LightGBM[0])"
      ],
      "metadata": {
        "colab": {
          "base_uri": "https://localhost:8080/"
        },
        "id": "hoPPHrcxMKfU",
        "outputId": "a9b0183e-8a38-434c-89a7-1a6eb2b648d8"
      },
      "execution_count": 97,
      "outputs": [
        {
          "output_type": "stream",
          "name": "stdout",
          "text": [
            "R2_LightGBM= 0.6698257893179029\n",
            "mse_LightGBM= 6.162733603883809\n",
            "R score_LightGBM= 0.870471554723305\n"
          ]
        }
      ]
    },
    {
      "cell_type": "code",
      "source": [
        "from sklearn.metrics import r2_score,mean_squared_error,mean_absolute_percentage_error,fowlkes_mallows_score\n",
        "score_LightGBM=r2_score(ts_data_Y, y_pred_LightGBM)\n",
        "mse_LightGBM=mean_squared_error(ts_data_Y, y_pred_LightGBM)\n",
        "mape=mean_absolute_percentage_error(ts_data_Y, y_pred_LightGBM)\n",
        "mallow=fowlkes_mallows_score(ts_data_Y, y_pred_LightGBM)\n",
        "import scipy\n",
        "r_LightGBM=scipy.stats.pearsonr(ts_data_Y,y_pred_LightGBM)\n",
        "from sklearn.metrics import mean_squared_log_error,mean_absolute_error\n",
        "msle=mean_squared_log_error(ts_data_Y, y_pred_LightGBM)\n",
        "mae=mean_absolute_error(ts_data_Y, y_pred_LightGBM)\n",
        "rmse=np.sqrt(mse_LightGBM)\n",
        "n = len(ts_data_Y)\n",
        "p = 6  # Number of predictors\n",
        "adjusted_r2 = 1 - (1 - score_LightGBM) * (n - 1) / (n - p - 1)\n",
        "mbe = np.mean(y_pred_LightGBM - ts_data_Y)\n",
        "rss = np.sum((y_pred_LightGBM - ts_data_Y)**2)\n",
        "mpe = np.mean((y_pred_LightGBM - ts_data_Y) / ts_data_Y) * 100\n",
        "print('R2_LightGBM=',score_LightGBM)\n",
        "print('mse_LightGBM=',mse_LightGBM)\n",
        "print('R score_LightGBM=',r_LightGBM[0])\n",
        "print('mape_LightGBM=',mape)\n",
        "print('mallow_LightGBM=',mallow)\n",
        "print('msle= ',msle)\n",
        "print('mae= ',mae)\n",
        "print('rmse= ',rmse)\n",
        "print('adjusted_r2=',adjusted_r2)\n",
        "print('mbe=',mbe)\n",
        "print('rss=',rss)\n",
        "print('mpe=',mpe)"
      ],
      "metadata": {
        "colab": {
          "base_uri": "https://localhost:8080/"
        },
        "id": "jR9Z9vELnWTc",
        "outputId": "2c1030da-aef6-4f9b-bb14-cf667a25d1b0"
      },
      "execution_count": 115,
      "outputs": [
        {
          "output_type": "stream",
          "name": "stdout",
          "text": [
            "R2_LightGBM= 0.6698257893179029\n",
            "mse_LightGBM= 6.162733603883809\n",
            "R score_LightGBM= 0.870471554723305\n",
            "mape_LightGBM= 0.1817466937209988\n",
            "mallow_LightGBM= 0.0\n",
            "msle=  0.056878651533004435\n",
            "mae=  1.666208597445403\n",
            "rmse=  2.4824853683121293\n",
            "adjusted_r2= 0.633139765908781\n",
            "mbe= -0.07183331551196219\n",
            "rss= 375.92674983691234\n",
            "mpe= 9.800328425070914\n"
          ]
        }
      ]
    },
    {
      "cell_type": "code",
      "source": [
        "import warnings\n",
        "# Ignore the 'matplotlib.font_manager' warning\n",
        "warnings.filterwarnings('ignore', category=UserWarning, module='matplotlib.font_manager')\n",
        "# Your code for the scatter plot and other configurations\n",
        "sns.scatterplot(x=ts_data_Y, y=y_pred_LightGBM, c='#008080', edgecolor='black', s=200)\n",
        "font1 = {'family': 'STIXGeneral', 'color': '#6f045a', 'fontweight': 'bold', 'size': 18}\n",
        "plt.yticks(color='navy', fontweight='bold', size=15)\n",
        "plt.xticks(color='navy', fontweight='bold', size=15)\n",
        "plt.xlabel('Actual pce', fontdict=font1)\n",
        "plt.ylabel('Predicted pce', fontdict=font1)\n",
        "plt.title('LightGBM plot', c='#6f045a', fontdict=font1)\n",
        "\n",
        "# Show the plot\n",
        "plt.show()\n"
      ],
      "metadata": {
        "colab": {
          "base_uri": "https://localhost:8080/",
          "height": 489
        },
        "id": "zIFqEJ3LMOEs",
        "outputId": "80530065-98de-4ac8-b0e7-0ce2914e2033"
      },
      "execution_count": 98,
      "outputs": [
        {
          "output_type": "display_data",
          "data": {
            "text/plain": [
              "<Figure size 640x480 with 1 Axes>"
            ],
            "image/png": "[encoded data removed]"
          },
          "metadata": {}
        }
      ]
    },
    {
      "cell_type": "code",
      "source": [
        "pip install catboost"
      ],
      "metadata": {
        "colab": {
          "base_uri": "https://localhost:8080/"
        },
        "id": "FCuAsBxMMb8v",
        "outputId": "8d60ec68-68f8-4ac3-87b0-93e41758f079"
      },
      "execution_count": 99,
      "outputs": [
        {
          "output_type": "stream",
          "name": "stdout",
          "text": [
            "Collecting catboost\n",
            "  Downloading catboost-1.2-cp310-cp310-manylinux2014_x86_64.whl (98.6 MB)\n",
            "\u001b[2K     \u001b[90m━━━━━━━━━━━━━━━━━━━━━━━━━━━━━━━━━━━━━━━━\u001b[0m \u001b[32m98.6/98.6 MB\u001b[0m \u001b[31m6.4 MB/s\u001b[0m eta \u001b[36m0:00:00\u001b[0m\n",
            "\u001b[?25hRequirement already satisfied: graphviz in /usr/local/lib/python3.10/dist-packages (from catboost) (0.20.1)\n",
            "Requirement already satisfied: matplotlib in /usr/local/lib/python3.10/dist-packages (from catboost) (3.7.1)\n",
            "Requirement already satisfied: numpy>=1.16.0 in /usr/local/lib/python3.10/dist-packages (from catboost) (1.23.5)\n",
            "Requirement already satisfied: pandas>=0.24 in /usr/local/lib/python3.10/dist-packages (from catboost) (1.5.3)\n",
            "Requirement already satisfied: scipy in /usr/local/lib/python3.10/dist-packages (from catboost) (1.10.1)\n",
            "Requirement already satisfied: plotly in /usr/local/lib/python3.10/dist-packages (from catboost) (5.13.1)\n",
            "Requirement already satisfied: six in /usr/local/lib/python3.10/dist-packages (from catboost) (1.16.0)\n",
            "Requirement already satisfied: python-dateutil>=2.8.1 in /usr/local/lib/python3.10/dist-packages (from pandas>=0.24->catboost) (2.8.2)\n",
            "Requirement already satisfied: pytz>=2020.1 in /usr/local/lib/python3.10/dist-packages (from pandas>=0.24->catboost) (2022.7.1)\n",
            "Requirement already satisfied: contourpy>=1.0.1 in /usr/local/lib/python3.10/dist-packages (from matplotlib->catboost) (1.1.0)\n",
            "Requirement already satisfied: cycler>=0.10 in /usr/local/lib/python3.10/dist-packages (from matplotlib->catboost) (0.11.0)\n",
            "Requirement already satisfied: fonttools>=4.22.0 in /usr/local/lib/python3.10/dist-packages (from matplotlib->catboost) (4.42.0)\n",
            "Requirement already satisfied: kiwisolver>=1.0.1 in /usr/local/lib/python3.10/dist-packages (from matplotlib->catboost) (1.4.4)\n",
            "Requirement already satisfied: packaging>=20.0 in /usr/local/lib/python3.10/dist-packages (from matplotlib->catboost) (23.1)\n",
            "Requirement already satisfied: pillow>=6.2.0 in /usr/local/lib/python3.10/dist-packages (from matplotlib->catboost) (9.4.0)\n",
            "Requirement already satisfied: pyparsing>=2.3.1 in /usr/local/lib/python3.10/dist-packages (from matplotlib->catboost) (3.1.1)\n",
            "Requirement already satisfied: tenacity>=6.2.0 in /usr/local/lib/python3.10/dist-packages (from plotly->catboost) (8.2.2)\n",
            "Installing collected packages: catboost\n",
            "Successfully installed catboost-1.2\n"
          ]
        }
      ]
    },
    {
      "cell_type": "code",
      "source": [
        "import time\n",
        "st = time.time()\n",
        "from catboost import CatBoostRegressor\n",
        "model=CatBoostRegressor(iterations=18, depth=4, learning_rate=0.1, loss_function='RMSE')\n",
        "model.fit(tr_data_X,tr_data_Y, eval_set=(ts_data_X,ts_data_Y),plot=True)\n",
        "y_pred_CatBoost = np.array(model.predict(ts_data_X))\n",
        "et = time.time()\n",
        "elapsed_time = et - st\n",
        "print('catboost:', elapsed_time, 'seconds')"
      ],
      "metadata": {
        "colab": {
          "base_uri": "https://localhost:8080/",
          "height": 416,
          "referenced_widgets": [
            "223be77eb3164e349c78cb0644841cdf"
          ]
        },
        "id": "FUYoflACMQz9",
        "outputId": "813e4e4b-12a7-46c7-d886-bcb487a0f503"
      },
      "execution_count": 100,
      "outputs": [
        {
          "output_type": "display_data",
          "data": {
            "text/plain": [
              "MetricVisualizer(layout=Layout(align_self='stretch', height='500px'))"
            ],
            "application/vnd.jupyter.widget-view+json": {
              "version_major": 2,
              "version_minor": 0,
              "model_id": "223be77eb3164e349c78cb0644841cdf"
            }
          },
          "metadata": {}
        },
        {
          "output_type": "stream",
          "name": "stdout",
          "text": [
            "0:\tlearn: 3.8793263\ttest: 4.3150539\tbest: 4.3150539 (0)\ttotal: 47.6ms\tremaining: 809ms\n",
            "1:\tlearn: 3.8670496\ttest: 4.3185529\tbest: 4.3150539 (0)\ttotal: 48ms\tremaining: 384ms\n",
            "2:\tlearn: 3.8488431\ttest: 4.3153998\tbest: 4.3150539 (0)\ttotal: 48.7ms\tremaining: 244ms\n",
            "3:\tlearn: 3.8309013\ttest: 4.2928030\tbest: 4.2928030 (3)\ttotal: 49.5ms\tremaining: 173ms\n",
            "4:\tlearn: 3.8003469\ttest: 4.2507969\tbest: 4.2507969 (4)\ttotal: 50.1ms\tremaining: 130ms\n",
            "5:\tlearn: 3.7866257\ttest: 4.2322547\tbest: 4.2322547 (5)\ttotal: 50.7ms\tremaining: 101ms\n",
            "6:\tlearn: 3.7723383\ttest: 4.2143936\tbest: 4.2143936 (6)\ttotal: 51.1ms\tremaining: 80.3ms\n",
            "7:\tlearn: 3.7553300\ttest: 4.1976489\tbest: 4.1976489 (7)\ttotal: 51.6ms\tremaining: 64.5ms\n",
            "8:\tlearn: 3.7457738\ttest: 4.1940315\tbest: 4.1940315 (8)\ttotal: 52.5ms\tremaining: 52.5ms\n",
            "9:\tlearn: 3.7396684\ttest: 4.1835556\tbest: 4.1835556 (9)\ttotal: 53.3ms\tremaining: 42.6ms\n",
            "10:\tlearn: 3.7323164\ttest: 4.1764474\tbest: 4.1764474 (10)\ttotal: 54ms\tremaining: 34.4ms\n",
            "11:\tlearn: 3.7226359\ttest: 4.1651072\tbest: 4.1651072 (11)\ttotal: 54.9ms\tremaining: 27.4ms\n",
            "12:\tlearn: 3.7100316\ttest: 4.1447807\tbest: 4.1447807 (12)\ttotal: 55.6ms\tremaining: 21.4ms\n",
            "13:\tlearn: 3.7048743\ttest: 4.1422208\tbest: 4.1422208 (13)\ttotal: 56.6ms\tremaining: 16.2ms\n",
            "14:\tlearn: 3.6968420\ttest: 4.1346605\tbest: 4.1346605 (14)\ttotal: 57.3ms\tremaining: 11.5ms\n",
            "15:\tlearn: 3.6802612\ttest: 4.1281564\tbest: 4.1281564 (15)\ttotal: 58ms\tremaining: 7.25ms\n",
            "16:\tlearn: 3.6669176\ttest: 4.1247683\tbest: 4.1247683 (16)\ttotal: 58.6ms\tremaining: 3.44ms\n",
            "17:\tlearn: 3.6554646\ttest: 4.0995737\tbest: 4.0995737 (17)\ttotal: 59.1ms\tremaining: 0us\n",
            "\n",
            "bestTest = 4.099573747\n",
            "bestIteration = 17\n",
            "\n",
            "catboost: 0.16983270645141602 seconds\n"
          ]
        }
      ]
    },
    {
      "cell_type": "code",
      "source": [
        "from sklearn.metrics import r2_score,mean_squared_error\n",
        "R2_CatBoost =r2_score(ts_data_Y, y_pred_CatBoost)\n",
        "mse_CatBoost= mean_squared_error(ts_data_Y,y_pred_CatBoost)\n",
        "import scipy\n",
        "r_CatBoost=scipy.stats.pearsonr(ts_data_Y,y_pred_CatBoost)"
      ],
      "metadata": {
        "id": "PyM_-Gx5MZS5"
      },
      "execution_count": 101,
      "outputs": []
    },
    {
      "cell_type": "code",
      "source": [
        "print('R2_CatBoost=',R2_CatBoost)\n",
        "print('mse_CatBoost=',mse_CatBoost)\n",
        "print('R score_CatBoost=',r_CatBoost[0])"
      ],
      "metadata": {
        "colab": {
          "base_uri": "https://localhost:8080/"
        },
        "id": "lLL2DvlzMrWj",
        "outputId": "0cf439bc-c9e7-487f-a32a-c8c3840685ce"
      },
      "execution_count": 102,
      "outputs": [
        {
          "output_type": "stream",
          "name": "stdout",
          "text": [
            "R2_CatBoost= 0.0995757780361507\n",
            "mse_CatBoost= 16.80650526576222\n",
            "R score_CatBoost= 0.6470804105202629\n"
          ]
        }
      ]
    },
    {
      "cell_type": "markdown",
      "source": [
        "ANN"
      ],
      "metadata": {
        "id": "2ogyY6_aNSrh"
      }
    },
    {
      "cell_type": "markdown",
      "source": [
        "ANN"
      ],
      "metadata": {
        "id": "kJNqO2NUbuyy"
      }
    },
    {
      "cell_type": "code",
      "source": [
        "import tensorflow as tf\n",
        "import time\n"
      ],
      "metadata": {
        "id": "laDBhJ21MwlA"
      },
      "execution_count": 103,
      "outputs": []
    },
    {
      "cell_type": "code",
      "source": [
        "from keras.models import Sequential\n",
        "from keras.layers import Dense\n",
        "from sklearn.metrics import mean_squared_error\n",
        "np.random.seed(seed=8)\n",
        "model = Sequential()\n",
        "model.add(Dense(units=20, input_dim=6, kernel_initializer='normal', activation='relu'))\n",
        "model.add(Dense(units=20, kernel_initializer='normal', activation='tanh'))\n",
        "model.add(Dense(1, kernel_initializer='normal'))\n",
        "model.compile(loss='mean_squared_error', optimizer='adam')\n",
        "model.fit(tr_data_X, tr_data_Y ,batch_size = 8, epochs = 100,verbose=0)\n",
        "pred=model.predict(ts_data_X)\n",
        "pred_ANN=[]\n",
        "for i in pred:\n",
        "  pred_ANN.append(i[0])\n",
        "pred_ANN=np.array(pred_ANN)\n",
        "rms = mean_squared_error(pred_ANN, ts_data_Y, squared=False)\n",
        "print(rms)"
      ],
      "metadata": {
        "colab": {
          "base_uri": "https://localhost:8080/"
        },
        "id": "sxCK3HzgNW7Z",
        "outputId": "06632bd4-3a8c-4da9-84d3-d558644d6f2e"
      },
      "execution_count": 104,
      "outputs": [
        {
          "output_type": "stream",
          "name": "stdout",
          "text": [
            "2/2 [==============================] - 0s 9ms/step\n",
            "4.328332579795802\n"
          ]
        }
      ]
    },
    {
      "cell_type": "code",
      "source": [
        "from sklearn.metrics import r2_score,mean_squared_error\n",
        "R2_ANN =r2_score(ts_data_Y, pred_ANN)\n",
        "mse_ANN= mean_squared_error(ts_data_Y,pred_ANN)\n",
        "import scipy\n",
        "r_ANN=scipy.stats.pearsonr(ts_data_Y,pred_ANN)"
      ],
      "metadata": {
        "id": "mlPgRwqtNaal"
      },
      "execution_count": 105,
      "outputs": []
    },
    {
      "cell_type": "code",
      "source": [
        "print('R2_ANN=',R2_ANN)\n",
        "print('mse_ANN=',mse_ANN)\n",
        "print('R score_ANN=',r_ANN[0])"
      ],
      "metadata": {
        "colab": {
          "base_uri": "https://localhost:8080/"
        },
        "id": "u2j_m3RFNp-Q",
        "outputId": "ed0d17c5-2af6-4f9e-871d-644b88e0aa0d"
      },
      "execution_count": 106,
      "outputs": [
        {
          "output_type": "stream",
          "name": "stdout",
          "text": [
            "R2_ANN= -0.003716354655049603\n",
            "mse_ANN= 18.734462921321782\n",
            "R score_ANN= -0.2261657789163902\n"
          ]
        }
      ]
    },
    {
      "cell_type": "code",
      "source": [
        "# print('R2_LR=',score_lr)\n",
        "# print('mse_LR=',mse_lr)\n",
        "# print('R score_LR=',r_lr[0])\n",
        "print('-----------------------------------------')\n",
        "print('R2_dtr=',score_dtr)\n",
        "print('mse_dtr=',mse_dtr)\n",
        "print('R score_dtr=',r_dtr[0])\n",
        "print('-----------------------------------------')\n",
        "print('R2_xgb=',R2_xgb)\n",
        "print('mse_xgb=',mse_xgb)\n",
        "print('R score_xgb=',r_xgb[0])\n",
        "print('-----------------------------------------')\n",
        "print('R2_knn=',R2_knn)\n",
        "print('mse_knn=',mse_knn)\n",
        "print('R score_knn=',r_knn[0])\n",
        "print('-----------------------------------------')\n",
        "print('R2_svr=',R2_svr)\n",
        "print('mse_svr=',mse_svr)\n",
        "print('R score_svr=',r_svr[0])\n",
        "print('-----------------------------------------')\n",
        "print('R2_rf=',R2_rf)\n",
        "print('mse_rf=',mse_rf)\n",
        "print('R score_rf=',r_rf[0])\n",
        "print('-----------------------------------------')\n",
        "print('R2_AdB=',R2_AdB)\n",
        "print('mse_AdB=',mse_AdB)\n",
        "print('R score_AdB=',r_AdB[0])\n",
        "print('-----------------------------------------')\n",
        "print('R2_LightGBM=',R2_LightGBM)\n",
        "print('mse_LightGBM=',mse_LightGBM)\n",
        "print('R score_LightGBM=',r_LightGBM[0])\n",
        "print('-----------------------------------------')\n",
        "print('R2_CatBoost=',R2_CatBoost)\n",
        "print('mse_CatBoost=',mse_CatBoost)\n",
        "print('R score_CatBoost=',r_CatBoost[0])\n",
        "print('-----------------------------------------')\n",
        "print('R2_ANN=',R2_ANN)\n",
        "print('mse_ANN=',mse_ANN)\n",
        "print('R score_ANN=',r_ANN[0])"
      ],
      "metadata": {
        "id": "pQur5EwGNtEB",
        "colab": {
          "base_uri": "https://localhost:8080/"
        },
        "outputId": "c74e041c-8d89-45b2-f2fa-c92bc3ea9e9d"
      },
      "execution_count": 107,
      "outputs": [
        {
          "output_type": "stream",
          "name": "stdout",
          "text": [
            "-----------------------------------------\n",
            "R2_dtr= 0.9580040258615075\n",
            "mse_dtr= 0.7838589225865207\n",
            "R score_dtr= 0.9790349430140123\n",
            "-----------------------------------------\n",
            "R2_xgb= 0.8820604287046544\n",
            "mse_xgb= 2.201353515006336\n",
            "R score_xgb= 0.9533818822860409\n",
            "-----------------------------------------\n",
            "R2_knn= 0.6987547882597389\n",
            "mse_knn= 5.6227710382513685\n",
            "R score_knn= 0.8483435292380527\n",
            "-----------------------------------------\n",
            "R2_svr= 0.0561226741963643\n",
            "mse_svr= 17.61756165527636\n",
            "R score_svr= 0.2997227987122009\n",
            "-----------------------------------------\n",
            "R2_rf= 0.8863077928052936\n",
            "mse_rf= 2.122076052914842\n",
            "R score_rf= 0.961986285993822\n",
            "-----------------------------------------\n",
            "R2_AdB= 0.06315374696206644\n",
            "mse_AdB= 17.486326001483086\n",
            "R score_AdB= 0.6269282118149131\n",
            "-----------------------------------------\n",
            "R2_LightGBM= 0.6698257893179029\n",
            "mse_LightGBM= 6.162733603883809\n",
            "R score_LightGBM= 0.870471554723305\n",
            "-----------------------------------------\n",
            "R2_CatBoost= 0.0995757780361507\n",
            "mse_CatBoost= 16.80650526576222\n",
            "R score_CatBoost= 0.6470804105202629\n",
            "-----------------------------------------\n",
            "R2_ANN= -0.003716354655049603\n",
            "mse_ANN= 18.734462921321782\n",
            "R score_ANN= -0.2261657789163902\n"
          ]
        }
      ]
    },
    {
      "cell_type": "code",
      "source": [],
      "metadata": {
        "id": "MPCXhOS9O6rk"
      },
      "execution_count": 107,
      "outputs": []
    }
  ]
}