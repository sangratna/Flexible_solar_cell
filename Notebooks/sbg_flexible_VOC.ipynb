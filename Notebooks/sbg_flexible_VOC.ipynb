{
  "nbformat": 4,
  "nbformat_minor": 0,
  "metadata": {
    "colab": {
      "provenance": []
    },
    "kernelspec": {
      "name": "python3",
      "display_name": "Python 3"
    },
    "language_info": {
      "name": "python"
    },
    "widgets": {
      "application/vnd.jupyter.widget-state+json": {
        "75e3b3fc30454bb9a23f8bb87659626f": {
          "model_module": "catboost-widget",
          "model_name": "CatboostWidgetModel",
          "model_module_version": "^1.0.0",
          "state": {
            "_dom_classes": [],
            "_model_module": "catboost-widget",
            "_model_module_version": "^1.0.0",
            "_model_name": "CatboostWidgetModel",
            "_view_count": null,
            "_view_module": "catboost-widget",
            "_view_module_version": "^1.0.0",
            "_view_name": "CatboostWidgetView",
            "data": {
              "catboost_info": {
                "path": "catboost_info",
                "name": "catboost_info",
                "content": {
                  "passed_iterations": 17,
                  "total_iterations": 18,
                  "data": {
                    "iterations": [
                      {
                        "learn": [
                          0.1473924379
                        ],
                        "iteration": 0,
                        "passed_time": 0.04670489945,
                        "remaining_time": 0.7939832907,
                        "test": [
                          0.180899478
                        ]
                      },
                      {
                        "learn": [
                          0.1451287535
                        ],
                        "iteration": 1,
                        "passed_time": 0.04713455956,
                        "remaining_time": 0.3770764765,
                        "test": [
                          0.180287896
                        ]
                      },
                      {
                        "learn": [
                          0.1435058838
                        ],
                        "iteration": 2,
                        "passed_time": 0.04751022464,
                        "remaining_time": 0.2375511232,
                        "test": [
                          0.1773742886
                        ]
                      },
                      {
                        "learn": [
                          0.1418790675
                        ],
                        "iteration": 3,
                        "passed_time": 0.05117400226,
                        "remaining_time": 0.1791090079,
                        "test": [
                          0.1768322239
                        ]
                      },
                      {
                        "learn": [
                          0.1408099845
                        ],
                        "iteration": 4,
                        "passed_time": 0.0516469053,
                        "remaining_time": 0.1342819538,
                        "test": [
                          0.1763811152
                        ]
                      },
                      {
                        "learn": [
                          0.1398346238
                        ],
                        "iteration": 5,
                        "passed_time": 0.05244789656,
                        "remaining_time": 0.1048957931,
                        "test": [
                          0.1760393483
                        ]
                      },
                      {
                        "learn": [
                          0.1384178117
                        ],
                        "iteration": 6,
                        "passed_time": 0.05310309926,
                        "remaining_time": 0.08344772742,
                        "test": [
                          0.1748467376
                        ]
                      },
                      {
                        "learn": [
                          0.1364335216
                        ],
                        "iteration": 7,
                        "passed_time": 0.05387030959,
                        "remaining_time": 0.06733788698,
                        "test": [
                          0.1740967549
                        ]
                      },
                      {
                        "learn": [
                          0.1356227778
                        ],
                        "iteration": 8,
                        "passed_time": 0.05453322827,
                        "remaining_time": 0.05453322827,
                        "test": [
                          0.1740615546
                        ]
                      },
                      {
                        "learn": [
                          0.1346559049
                        ],
                        "iteration": 9,
                        "passed_time": 0.05525434864,
                        "remaining_time": 0.04420347891,
                        "test": [
                          0.1708274391
                        ]
                      },
                      {
                        "learn": [
                          0.1337690707
                        ],
                        "iteration": 10,
                        "passed_time": 0.05607313565,
                        "remaining_time": 0.0356829045,
                        "test": [
                          0.1702160958
                        ]
                      },
                      {
                        "learn": [
                          0.1330449007
                        ],
                        "iteration": 11,
                        "passed_time": 0.05697409188,
                        "remaining_time": 0.02848704594,
                        "test": [
                          0.1699349765
                        ]
                      },
                      {
                        "learn": [
                          0.1315107652
                        ],
                        "iteration": 12,
                        "passed_time": 0.05782867814,
                        "remaining_time": 0.02224179928,
                        "test": [
                          0.1658738877
                        ]
                      },
                      {
                        "learn": [
                          0.1297912895
                        ],
                        "iteration": 13,
                        "passed_time": 0.05854688467,
                        "remaining_time": 0.01672768133,
                        "test": [
                          0.1639853179
                        ]
                      },
                      {
                        "learn": [
                          0.1290564612
                        ],
                        "iteration": 14,
                        "passed_time": 0.05938562031,
                        "remaining_time": 0.01187712406,
                        "test": [
                          0.1633140583
                        ]
                      },
                      {
                        "learn": [
                          0.1285149421
                        ],
                        "iteration": 15,
                        "passed_time": 0.0600785174,
                        "remaining_time": 0.007509814674,
                        "test": [
                          0.1601722691
                        ]
                      },
                      {
                        "learn": [
                          0.1279415461
                        ],
                        "iteration": 16,
                        "passed_time": 0.06090444943,
                        "remaining_time": 0.003582614673,
                        "test": [
                          0.1572523956
                        ]
                      },
                      {
                        "learn": [
                          0.1271723719
                        ],
                        "iteration": 17,
                        "passed_time": 0.06158979646,
                        "remaining_time": 0,
                        "test": [
                          0.1563629326
                        ]
                      }
                    ],
                    "meta": {
                      "test_sets": [
                        "test"
                      ],
                      "test_metrics": [
                        {
                          "best_value": "Min",
                          "name": "RMSE"
                        }
                      ],
                      "learn_metrics": [
                        {
                          "best_value": "Min",
                          "name": "RMSE"
                        }
                      ],
                      "launch_mode": "Train",
                      "parameters": "",
                      "iteration_count": 18,
                      "learn_sets": [
                        "learn"
                      ],
                      "name": "experiment"
                    }
                  }
                }
              }
            },
            "layout": "IPY_MODEL_984214430b404d0690da93f7576607af"
          }
        }
      }
    }
  },
  "cells": [
    {
      "cell_type": "code",
      "execution_count": 1,
      "metadata": {
        "id": "A02Yq19tFfAh"
      },
      "outputs": [],
      "source": [
        "import pandas as pd\n",
        "import numpy as np\n",
        "import matplotlib.pyplot as plt"
      ]
    },
    {
      "cell_type": "code",
      "source": [
        "df = pd.read_csv('/content/flexible solar cell.csv')\n",
        "df"
      ],
      "metadata": {
        "colab": {
          "base_uri": "https://localhost:8080/",
          "height": 423
        },
        "id": "4uqVh2POFuZD",
        "outputId": "f5cffd81-d7b0-45ca-aa90-99543f6d4913"
      },
      "execution_count": 2,
      "outputs": [
        {
          "output_type": "execute_result",
          "data": {
            "text/plain": [
              "     ?H(DOI)  ?L(DOI)  Cell_area_measured Cell_architecture  \\\n",
              "0       0.06     0.06              0.1000               nip   \n",
              "1       0.20     0.80              0.0756               nip   \n",
              "2       0.30     0.53              0.0960               nip   \n",
              "3       0.20     0.70              0.0400               nip   \n",
              "4       0.40     0.33              1.2100               pin   \n",
              "..       ...      ...                 ...               ...   \n",
              "602     0.40     0.33              0.0177               pin   \n",
              "603     0.20     0.60              0.1000               pin   \n",
              "604     0.40     0.33              0.1000               pin   \n",
              "605     0.40     0.33              0.1000               pin   \n",
              "606     0.40     0.33              0.1000               pin   \n",
              "\n",
              "    Substrate_stack_sequence  Perovskite_band_gap   Voc    Jsc      FF    PCE  \n",
              "0                          E                 1.60  1.01  21.15  0.5700  12.18  \n",
              "1                          A                 1.60  0.97  20.00  0.6900  13.30  \n",
              "2                          A                 1.53  1.10  19.30  0.7900  16.80  \n",
              "3                          E                 1.53  1.08  20.06  0.6725  13.03  \n",
              "4                          F                 1.53  1.00  21.46  0.7550  16.16  \n",
              "..                       ...                  ...   ...    ...     ...    ...  \n",
              "602                        H                 1.53  0.96  20.10  0.8300  16.00  \n",
              "603                        A                 1.50  1.01  19.80  0.7700  15.59  \n",
              "604                        A                 1.50  0.83  14.70  0.6100   7.62  \n",
              "605                        A                 1.53  0.96  16.73  0.6500  10.71  \n",
              "606                        A                 1.53  0.98  16.85  0.7300  11.32  \n",
              "\n",
              "[607 rows x 10 columns]"
            ],
            "text/html": [
              "\n",
              "\n",
              "  <div id=\"df-51e4fa7d-35c4-4401-ac80-cdfc9cf9e8b0\">\n",
              "    <div class=\"colab-df-container\">\n",
              "      <div>\n",
              "<style scoped>\n",
              "    .dataframe tbody tr th:only-of-type {\n",
              "        vertical-align: middle;\n",
              "    }\n",
              "\n",
              "    .dataframe tbody tr th {\n",
              "        vertical-align: top;\n",
              "    }\n",
              "\n",
              "    .dataframe thead th {\n",
              "        text-align: right;\n",
              "    }\n",
              "</style>\n",
              "<table border=\"1\" class=\"dataframe\">\n",
              "  <thead>\n",
              "    <tr style=\"text-align: right;\">\n",
              "      <th></th>\n",
              "      <th>?H(DOI)</th>\n",
              "      <th>?L(DOI)</th>\n",
              "      <th>Cell_area_measured</th>\n",
              "      <th>Cell_architecture</th>\n",
              "      <th>Substrate_stack_sequence</th>\n",
              "      <th>Perovskite_band_gap</th>\n",
              "      <th>Voc</th>\n",
              "      <th>Jsc</th>\n",
              "      <th>FF</th>\n",
              "      <th>PCE</th>\n",
              "    </tr>\n",
              "  </thead>\n",
              "  <tbody>\n",
              "    <tr>\n",
              "      <th>0</th>\n",
              "      <td>0.06</td>\n",
              "      <td>0.06</td>\n",
              "      <td>0.1000</td>\n",
              "      <td>nip</td>\n",
              "      <td>E</td>\n",
              "      <td>1.60</td>\n",
              "      <td>1.01</td>\n",
              "      <td>21.15</td>\n",
              "      <td>0.5700</td>\n",
              "      <td>12.18</td>\n",
              "    </tr>\n",
              "    <tr>\n",
              "      <th>1</th>\n",
              "      <td>0.20</td>\n",
              "      <td>0.80</td>\n",
              "      <td>0.0756</td>\n",
              "      <td>nip</td>\n",
              "      <td>A</td>\n",
              "      <td>1.60</td>\n",
              "      <td>0.97</td>\n",
              "      <td>20.00</td>\n",
              "      <td>0.6900</td>\n",
              "      <td>13.30</td>\n",
              "    </tr>\n",
              "    <tr>\n",
              "      <th>2</th>\n",
              "      <td>0.30</td>\n",
              "      <td>0.53</td>\n",
              "      <td>0.0960</td>\n",
              "      <td>nip</td>\n",
              "      <td>A</td>\n",
              "      <td>1.53</td>\n",
              "      <td>1.10</td>\n",
              "      <td>19.30</td>\n",
              "      <td>0.7900</td>\n",
              "      <td>16.80</td>\n",
              "    </tr>\n",
              "    <tr>\n",
              "      <th>3</th>\n",
              "      <td>0.20</td>\n",
              "      <td>0.70</td>\n",
              "      <td>0.0400</td>\n",
              "      <td>nip</td>\n",
              "      <td>E</td>\n",
              "      <td>1.53</td>\n",
              "      <td>1.08</td>\n",
              "      <td>20.06</td>\n",
              "      <td>0.6725</td>\n",
              "      <td>13.03</td>\n",
              "    </tr>\n",
              "    <tr>\n",
              "      <th>4</th>\n",
              "      <td>0.40</td>\n",
              "      <td>0.33</td>\n",
              "      <td>1.2100</td>\n",
              "      <td>pin</td>\n",
              "      <td>F</td>\n",
              "      <td>1.53</td>\n",
              "      <td>1.00</td>\n",
              "      <td>21.46</td>\n",
              "      <td>0.7550</td>\n",
              "      <td>16.16</td>\n",
              "    </tr>\n",
              "    <tr>\n",
              "      <th>...</th>\n",
              "      <td>...</td>\n",
              "      <td>...</td>\n",
              "      <td>...</td>\n",
              "      <td>...</td>\n",
              "      <td>...</td>\n",
              "      <td>...</td>\n",
              "      <td>...</td>\n",
              "      <td>...</td>\n",
              "      <td>...</td>\n",
              "      <td>...</td>\n",
              "    </tr>\n",
              "    <tr>\n",
              "      <th>602</th>\n",
              "      <td>0.40</td>\n",
              "      <td>0.33</td>\n",
              "      <td>0.0177</td>\n",
              "      <td>pin</td>\n",
              "      <td>H</td>\n",
              "      <td>1.53</td>\n",
              "      <td>0.96</td>\n",
              "      <td>20.10</td>\n",
              "      <td>0.8300</td>\n",
              "      <td>16.00</td>\n",
              "    </tr>\n",
              "    <tr>\n",
              "      <th>603</th>\n",
              "      <td>0.20</td>\n",
              "      <td>0.60</td>\n",
              "      <td>0.1000</td>\n",
              "      <td>pin</td>\n",
              "      <td>A</td>\n",
              "      <td>1.50</td>\n",
              "      <td>1.01</td>\n",
              "      <td>19.80</td>\n",
              "      <td>0.7700</td>\n",
              "      <td>15.59</td>\n",
              "    </tr>\n",
              "    <tr>\n",
              "      <th>604</th>\n",
              "      <td>0.40</td>\n",
              "      <td>0.33</td>\n",
              "      <td>0.1000</td>\n",
              "      <td>pin</td>\n",
              "      <td>A</td>\n",
              "      <td>1.50</td>\n",
              "      <td>0.83</td>\n",
              "      <td>14.70</td>\n",
              "      <td>0.6100</td>\n",
              "      <td>7.62</td>\n",
              "    </tr>\n",
              "    <tr>\n",
              "      <th>605</th>\n",
              "      <td>0.40</td>\n",
              "      <td>0.33</td>\n",
              "      <td>0.1000</td>\n",
              "      <td>pin</td>\n",
              "      <td>A</td>\n",
              "      <td>1.53</td>\n",
              "      <td>0.96</td>\n",
              "      <td>16.73</td>\n",
              "      <td>0.6500</td>\n",
              "      <td>10.71</td>\n",
              "    </tr>\n",
              "    <tr>\n",
              "      <th>606</th>\n",
              "      <td>0.40</td>\n",
              "      <td>0.33</td>\n",
              "      <td>0.1000</td>\n",
              "      <td>pin</td>\n",
              "      <td>A</td>\n",
              "      <td>1.53</td>\n",
              "      <td>0.98</td>\n",
              "      <td>16.85</td>\n",
              "      <td>0.7300</td>\n",
              "      <td>11.32</td>\n",
              "    </tr>\n",
              "  </tbody>\n",
              "</table>\n",
              "<p>607 rows × 10 columns</p>\n",
              "</div>\n",
              "      <button class=\"colab-df-convert\" onclick=\"convertToInteractive('df-51e4fa7d-35c4-4401-ac80-cdfc9cf9e8b0')\"\n",
              "              title=\"Convert this dataframe to an interactive table.\"\n",
              "              style=\"display:none;\">\n",
              "\n",
              "  <svg xmlns=\"http://www.w3.org/2000/svg\" height=\"24px\"viewBox=\"0 0 24 24\"\n",
              "       width=\"24px\">\n",
              "    <path d=\"M0 0h24v24H0V0z\" fill=\"none\"/>\n",
              "    <path d=\"M18.56 5.44l.94 2.06.94-2.06 2.06-.94-2.06-.94-.94-2.06-.94 2.06-2.06.94zm-11 1L8.5 8.5l.94-2.06 2.06-.94-2.06-.94L8.5 2.5l-.94 2.06-2.06.94zm10 10l.94 2.06.94-2.06 2.06-.94-2.06-.94-.94-2.06-.94 2.06-2.06.94z\"/><path d=\"M17.41 7.96l-1.37-1.37c-.4-.4-.92-.59-1.43-.59-.52 0-1.04.2-1.43.59L10.3 9.45l-7.72 7.72c-.78.78-.78 2.05 0 2.83L4 21.41c.39.39.9.59 1.41.59.51 0 1.02-.2 1.41-.59l7.78-7.78 2.81-2.81c.8-.78.8-2.07 0-2.86zM5.41 20L4 18.59l7.72-7.72 1.47 1.35L5.41 20z\"/>\n",
              "  </svg>\n",
              "      </button>\n",
              "\n",
              "\n",
              "\n",
              "    <div id=\"df-efb9b080-1352-4335-91bf-dab6502b94a9\">\n",
              "      <button class=\"colab-df-quickchart\" onclick=\"quickchart('df-efb9b080-1352-4335-91bf-dab6502b94a9')\"\n",
              "              title=\"Suggest charts.\"\n",
              "              style=\"display:none;\">\n",
              "\n",
              "<svg xmlns=\"http://www.w3.org/2000/svg\" height=\"24px\"viewBox=\"0 0 24 24\"\n",
              "     width=\"24px\">\n",
              "    <g>\n",
              "        <path d=\"M19 3H5c-1.1 0-2 .9-2 2v14c0 1.1.9 2 2 2h14c1.1 0 2-.9 2-2V5c0-1.1-.9-2-2-2zM9 17H7v-7h2v7zm4 0h-2V7h2v10zm4 0h-2v-4h2v4z\"/>\n",
              "    </g>\n",
              "</svg>\n",
              "      </button>\n",
              "    </div>\n",
              "\n",
              "<style>\n",
              "  .colab-df-quickchart {\n",
              "    background-color: #E8F0FE;\n",
              "    border: none;\n",
              "    border-radius: 50%;\n",
              "    cursor: pointer;\n",
              "    display: none;\n",
              "    fill: #1967D2;\n",
              "    height: 32px;\n",
              "    padding: 0 0 0 0;\n",
              "    width: 32px;\n",
              "  }\n",
              "\n",
              "  .colab-df-quickchart:hover {\n",
              "    background-color: #E2EBFA;\n",
              "    box-shadow: 0px 1px 2px rgba(60, 64, 67, 0.3), 0px 1px 3px 1px rgba(60, 64, 67, 0.15);\n",
              "    fill: #174EA6;\n",
              "  }\n",
              "\n",
              "  [theme=dark] .colab-df-quickchart {\n",
              "    background-color: #3B4455;\n",
              "    fill: #D2E3FC;\n",
              "  }\n",
              "\n",
              "  [theme=dark] .colab-df-quickchart:hover {\n",
              "    background-color: #434B5C;\n",
              "    box-shadow: 0px 1px 3px 1px rgba(0, 0, 0, 0.15);\n",
              "    filter: drop-shadow(0px 1px 2px rgba(0, 0, 0, 0.3));\n",
              "    fill: #FFFFFF;\n",
              "  }\n",
              "</style>\n",
              "\n",
              "    <script>\n",
              "      async function quickchart(key) {\n",
              "        const containerElement = document.querySelector('#' + key);\n",
              "        const charts = await google.colab.kernel.invokeFunction(\n",
              "            'suggestCharts', [key], {});\n",
              "      }\n",
              "    </script>\n",
              "\n",
              "      <script>\n",
              "\n",
              "function displayQuickchartButton(domScope) {\n",
              "  let quickchartButtonEl =\n",
              "    domScope.querySelector('#df-efb9b080-1352-4335-91bf-dab6502b94a9 button.colab-df-quickchart');\n",
              "  quickchartButtonEl.style.display =\n",
              "    google.colab.kernel.accessAllowed ? 'block' : 'none';\n",
              "}\n",
              "\n",
              "        displayQuickchartButton(document);\n",
              "      </script>\n",
              "      <style>\n",
              "    .colab-df-container {\n",
              "      display:flex;\n",
              "      flex-wrap:wrap;\n",
              "      gap: 12px;\n",
              "    }\n",
              "\n",
              "    .colab-df-convert {\n",
              "      background-color: #E8F0FE;\n",
              "      border: none;\n",
              "      border-radius: 50%;\n",
              "      cursor: pointer;\n",
              "      display: none;\n",
              "      fill: #1967D2;\n",
              "      height: 32px;\n",
              "      padding: 0 0 0 0;\n",
              "      width: 32px;\n",
              "    }\n",
              "\n",
              "    .colab-df-convert:hover {\n",
              "      background-color: #E2EBFA;\n",
              "      box-shadow: 0px 1px 2px rgba(60, 64, 67, 0.3), 0px 1px 3px 1px rgba(60, 64, 67, 0.15);\n",
              "      fill: #174EA6;\n",
              "    }\n",
              "\n",
              "    [theme=dark] .colab-df-convert {\n",
              "      background-color: #3B4455;\n",
              "      fill: #D2E3FC;\n",
              "    }\n",
              "\n",
              "    [theme=dark] .colab-df-convert:hover {\n",
              "      background-color: #434B5C;\n",
              "      box-shadow: 0px 1px 3px 1px rgba(0, 0, 0, 0.15);\n",
              "      filter: drop-shadow(0px 1px 2px rgba(0, 0, 0, 0.3));\n",
              "      fill: #FFFFFF;\n",
              "    }\n",
              "  </style>\n",
              "\n",
              "      <script>\n",
              "        const buttonEl =\n",
              "          document.querySelector('#df-51e4fa7d-35c4-4401-ac80-cdfc9cf9e8b0 button.colab-df-convert');\n",
              "        buttonEl.style.display =\n",
              "          google.colab.kernel.accessAllowed ? 'block' : 'none';\n",
              "\n",
              "        async function convertToInteractive(key) {\n",
              "          const element = document.querySelector('#df-51e4fa7d-35c4-4401-ac80-cdfc9cf9e8b0');\n",
              "          const dataTable =\n",
              "            await google.colab.kernel.invokeFunction('convertToInteractive',\n",
              "                                                     [key], {});\n",
              "          if (!dataTable) return;\n",
              "\n",
              "          const docLinkHtml = 'Like what you see? Visit the ' +\n",
              "            '<a target=\"_blank\" href=https://colab.research.google.com/notebooks/data_table.ipynb>data table notebook</a>'\n",
              "            + ' to learn more about interactive tables.';\n",
              "          element.innerHTML = '';\n",
              "          dataTable['output_type'] = 'display_data';\n",
              "          await google.colab.output.renderOutput(dataTable, element);\n",
              "          const docLink = document.createElement('div');\n",
              "          docLink.innerHTML = docLinkHtml;\n",
              "          element.appendChild(docLink);\n",
              "        }\n",
              "      </script>\n",
              "    </div>\n",
              "  </div>\n"
            ]
          },
          "metadata": {},
          "execution_count": 2
        }
      ]
    },
    {
      "cell_type": "code",
      "source": [
        "# value_mapping = {0: 'pin', 1: 'nip'}\n",
        "# df['Cell_architecture'] = df['Cell_architecture'].replace(value_mapping)\n",
        "# value_mapping1 = {0: 'A', 1: 'B', 2: 'C',3:'D',4:'E',5:'F',6:'G',7:'H'}\n",
        "# df['Substrate_stack_sequence'] = df['Substrate_stack_sequence'].replace(value_mapping1)\n",
        "# df"
      ],
      "metadata": {
        "id": "JAEfDegqGDXx"
      },
      "execution_count": 3,
      "outputs": []
    },
    {
      "cell_type": "code",
      "source": [
        "df['Cell_architecture'].value_counts()"
      ],
      "metadata": {
        "colab": {
          "base_uri": "https://localhost:8080/"
        },
        "id": "q8xkymsSO0ou",
        "outputId": "6421c2c7-aa78-4032-e208-49a78e7fa3a9"
      },
      "execution_count": 4,
      "outputs": [
        {
          "output_type": "execute_result",
          "data": {
            "text/plain": [
              "nip    306\n",
              "pin    301\n",
              "Name: Cell_architecture, dtype: int64"
            ]
          },
          "metadata": {},
          "execution_count": 4
        }
      ]
    },
    {
      "cell_type": "code",
      "source": [
        "df.info()"
      ],
      "metadata": {
        "colab": {
          "base_uri": "https://localhost:8080/"
        },
        "id": "AKbUChK3GCKA",
        "outputId": "5c13e91d-b138-4b31-d3e3-d4ecfbbd8efd"
      },
      "execution_count": 5,
      "outputs": [
        {
          "output_type": "stream",
          "name": "stdout",
          "text": [
            "<class 'pandas.core.frame.DataFrame'>\n",
            "RangeIndex: 607 entries, 0 to 606\n",
            "Data columns (total 10 columns):\n",
            " #   Column                    Non-Null Count  Dtype  \n",
            "---  ------                    --------------  -----  \n",
            " 0   ?H(DOI)                   607 non-null    float64\n",
            " 1   ?L(DOI)                   607 non-null    float64\n",
            " 2   Cell_area_measured        607 non-null    float64\n",
            " 3   Cell_architecture         607 non-null    object \n",
            " 4   Substrate_stack_sequence  607 non-null    object \n",
            " 5   Perovskite_band_gap       607 non-null    float64\n",
            " 6   Voc                       607 non-null    float64\n",
            " 7   Jsc                       607 non-null    float64\n",
            " 8   FF                        607 non-null    float64\n",
            " 9   PCE                       607 non-null    float64\n",
            "dtypes: float64(8), object(2)\n",
            "memory usage: 47.5+ KB\n"
          ]
        }
      ]
    },
    {
      "cell_type": "code",
      "source": [
        "df_cat=df.select_dtypes(object)\n",
        "df_cat"
      ],
      "metadata": {
        "colab": {
          "base_uri": "https://localhost:8080/",
          "height": 423
        },
        "id": "Z3CIApo8GIkz",
        "outputId": "0a13f52e-24f0-4b6e-9aed-92b624fa2427"
      },
      "execution_count": 6,
      "outputs": [
        {
          "output_type": "execute_result",
          "data": {
            "text/plain": [
              "    Cell_architecture Substrate_stack_sequence\n",
              "0                 nip                        E\n",
              "1                 nip                        A\n",
              "2                 nip                        A\n",
              "3                 nip                        E\n",
              "4                 pin                        F\n",
              "..                ...                      ...\n",
              "602               pin                        H\n",
              "603               pin                        A\n",
              "604               pin                        A\n",
              "605               pin                        A\n",
              "606               pin                        A\n",
              "\n",
              "[607 rows x 2 columns]"
            ],
            "text/html": [
              "\n",
              "\n",
              "  <div id=\"df-8cfeb04a-d89a-4193-9ce6-3c63645d45cf\">\n",
              "    <div class=\"colab-df-container\">\n",
              "      <div>\n",
              "<style scoped>\n",
              "    .dataframe tbody tr th:only-of-type {\n",
              "        vertical-align: middle;\n",
              "    }\n",
              "\n",
              "    .dataframe tbody tr th {\n",
              "        vertical-align: top;\n",
              "    }\n",
              "\n",
              "    .dataframe thead th {\n",
              "        text-align: right;\n",
              "    }\n",
              "</style>\n",
              "<table border=\"1\" class=\"dataframe\">\n",
              "  <thead>\n",
              "    <tr style=\"text-align: right;\">\n",
              "      <th></th>\n",
              "      <th>Cell_architecture</th>\n",
              "      <th>Substrate_stack_sequence</th>\n",
              "    </tr>\n",
              "  </thead>\n",
              "  <tbody>\n",
              "    <tr>\n",
              "      <th>0</th>\n",
              "      <td>nip</td>\n",
              "      <td>E</td>\n",
              "    </tr>\n",
              "    <tr>\n",
              "      <th>1</th>\n",
              "      <td>nip</td>\n",
              "      <td>A</td>\n",
              "    </tr>\n",
              "    <tr>\n",
              "      <th>2</th>\n",
              "      <td>nip</td>\n",
              "      <td>A</td>\n",
              "    </tr>\n",
              "    <tr>\n",
              "      <th>3</th>\n",
              "      <td>nip</td>\n",
              "      <td>E</td>\n",
              "    </tr>\n",
              "    <tr>\n",
              "      <th>4</th>\n",
              "      <td>pin</td>\n",
              "      <td>F</td>\n",
              "    </tr>\n",
              "    <tr>\n",
              "      <th>...</th>\n",
              "      <td>...</td>\n",
              "      <td>...</td>\n",
              "    </tr>\n",
              "    <tr>\n",
              "      <th>602</th>\n",
              "      <td>pin</td>\n",
              "      <td>H</td>\n",
              "    </tr>\n",
              "    <tr>\n",
              "      <th>603</th>\n",
              "      <td>pin</td>\n",
              "      <td>A</td>\n",
              "    </tr>\n",
              "    <tr>\n",
              "      <th>604</th>\n",
              "      <td>pin</td>\n",
              "      <td>A</td>\n",
              "    </tr>\n",
              "    <tr>\n",
              "      <th>605</th>\n",
              "      <td>pin</td>\n",
              "      <td>A</td>\n",
              "    </tr>\n",
              "    <tr>\n",
              "      <th>606</th>\n",
              "      <td>pin</td>\n",
              "      <td>A</td>\n",
              "    </tr>\n",
              "  </tbody>\n",
              "</table>\n",
              "<p>607 rows × 2 columns</p>\n",
              "</div>\n",
              "      <button class=\"colab-df-convert\" onclick=\"convertToInteractive('df-8cfeb04a-d89a-4193-9ce6-3c63645d45cf')\"\n",
              "              title=\"Convert this dataframe to an interactive table.\"\n",
              "              style=\"display:none;\">\n",
              "\n",
              "  <svg xmlns=\"http://www.w3.org/2000/svg\" height=\"24px\"viewBox=\"0 0 24 24\"\n",
              "       width=\"24px\">\n",
              "    <path d=\"M0 0h24v24H0V0z\" fill=\"none\"/>\n",
              "    <path d=\"M18.56 5.44l.94 2.06.94-2.06 2.06-.94-2.06-.94-.94-2.06-.94 2.06-2.06.94zm-11 1L8.5 8.5l.94-2.06 2.06-.94-2.06-.94L8.5 2.5l-.94 2.06-2.06.94zm10 10l.94 2.06.94-2.06 2.06-.94-2.06-.94-.94-2.06-.94 2.06-2.06.94z\"/><path d=\"M17.41 7.96l-1.37-1.37c-.4-.4-.92-.59-1.43-.59-.52 0-1.04.2-1.43.59L10.3 9.45l-7.72 7.72c-.78.78-.78 2.05 0 2.83L4 21.41c.39.39.9.59 1.41.59.51 0 1.02-.2 1.41-.59l7.78-7.78 2.81-2.81c.8-.78.8-2.07 0-2.86zM5.41 20L4 18.59l7.72-7.72 1.47 1.35L5.41 20z\"/>\n",
              "  </svg>\n",
              "      </button>\n",
              "\n",
              "\n",
              "\n",
              "    <div id=\"df-f81c3f79-710c-468b-8b69-678bec774ed0\">\n",
              "      <button class=\"colab-df-quickchart\" onclick=\"quickchart('df-f81c3f79-710c-468b-8b69-678bec774ed0')\"\n",
              "              title=\"Suggest charts.\"\n",
              "              style=\"display:none;\">\n",
              "\n",
              "<svg xmlns=\"http://www.w3.org/2000/svg\" height=\"24px\"viewBox=\"0 0 24 24\"\n",
              "     width=\"24px\">\n",
              "    <g>\n",
              "        <path d=\"M19 3H5c-1.1 0-2 .9-2 2v14c0 1.1.9 2 2 2h14c1.1 0 2-.9 2-2V5c0-1.1-.9-2-2-2zM9 17H7v-7h2v7zm4 0h-2V7h2v10zm4 0h-2v-4h2v4z\"/>\n",
              "    </g>\n",
              "</svg>\n",
              "      </button>\n",
              "    </div>\n",
              "\n",
              "<style>\n",
              "  .colab-df-quickchart {\n",
              "    background-color: #E8F0FE;\n",
              "    border: none;\n",
              "    border-radius: 50%;\n",
              "    cursor: pointer;\n",
              "    display: none;\n",
              "    fill: #1967D2;\n",
              "    height: 32px;\n",
              "    padding: 0 0 0 0;\n",
              "    width: 32px;\n",
              "  }\n",
              "\n",
              "  .colab-df-quickchart:hover {\n",
              "    background-color: #E2EBFA;\n",
              "    box-shadow: 0px 1px 2px rgba(60, 64, 67, 0.3), 0px 1px 3px 1px rgba(60, 64, 67, 0.15);\n",
              "    fill: #174EA6;\n",
              "  }\n",
              "\n",
              "  [theme=dark] .colab-df-quickchart {\n",
              "    background-color: #3B4455;\n",
              "    fill: #D2E3FC;\n",
              "  }\n",
              "\n",
              "  [theme=dark] .colab-df-quickchart:hover {\n",
              "    background-color: #434B5C;\n",
              "    box-shadow: 0px 1px 3px 1px rgba(0, 0, 0, 0.15);\n",
              "    filter: drop-shadow(0px 1px 2px rgba(0, 0, 0, 0.3));\n",
              "    fill: #FFFFFF;\n",
              "  }\n",
              "</style>\n",
              "\n",
              "    <script>\n",
              "      async function quickchart(key) {\n",
              "        const containerElement = document.querySelector('#' + key);\n",
              "        const charts = await google.colab.kernel.invokeFunction(\n",
              "            'suggestCharts', [key], {});\n",
              "      }\n",
              "    </script>\n",
              "\n",
              "      <script>\n",
              "\n",
              "function displayQuickchartButton(domScope) {\n",
              "  let quickchartButtonEl =\n",
              "    domScope.querySelector('#df-f81c3f79-710c-468b-8b69-678bec774ed0 button.colab-df-quickchart');\n",
              "  quickchartButtonEl.style.display =\n",
              "    google.colab.kernel.accessAllowed ? 'block' : 'none';\n",
              "}\n",
              "\n",
              "        displayQuickchartButton(document);\n",
              "      </script>\n",
              "      <style>\n",
              "    .colab-df-container {\n",
              "      display:flex;\n",
              "      flex-wrap:wrap;\n",
              "      gap: 12px;\n",
              "    }\n",
              "\n",
              "    .colab-df-convert {\n",
              "      background-color: #E8F0FE;\n",
              "      border: none;\n",
              "      border-radius: 50%;\n",
              "      cursor: pointer;\n",
              "      display: none;\n",
              "      fill: #1967D2;\n",
              "      height: 32px;\n",
              "      padding: 0 0 0 0;\n",
              "      width: 32px;\n",
              "    }\n",
              "\n",
              "    .colab-df-convert:hover {\n",
              "      background-color: #E2EBFA;\n",
              "      box-shadow: 0px 1px 2px rgba(60, 64, 67, 0.3), 0px 1px 3px 1px rgba(60, 64, 67, 0.15);\n",
              "      fill: #174EA6;\n",
              "    }\n",
              "\n",
              "    [theme=dark] .colab-df-convert {\n",
              "      background-color: #3B4455;\n",
              "      fill: #D2E3FC;\n",
              "    }\n",
              "\n",
              "    [theme=dark] .colab-df-convert:hover {\n",
              "      background-color: #434B5C;\n",
              "      box-shadow: 0px 1px 3px 1px rgba(0, 0, 0, 0.15);\n",
              "      filter: drop-shadow(0px 1px 2px rgba(0, 0, 0, 0.3));\n",
              "      fill: #FFFFFF;\n",
              "    }\n",
              "  </style>\n",
              "\n",
              "      <script>\n",
              "        const buttonEl =\n",
              "          document.querySelector('#df-8cfeb04a-d89a-4193-9ce6-3c63645d45cf button.colab-df-convert');\n",
              "        buttonEl.style.display =\n",
              "          google.colab.kernel.accessAllowed ? 'block' : 'none';\n",
              "\n",
              "        async function convertToInteractive(key) {\n",
              "          const element = document.querySelector('#df-8cfeb04a-d89a-4193-9ce6-3c63645d45cf');\n",
              "          const dataTable =\n",
              "            await google.colab.kernel.invokeFunction('convertToInteractive',\n",
              "                                                     [key], {});\n",
              "          if (!dataTable) return;\n",
              "\n",
              "          const docLinkHtml = 'Like what you see? Visit the ' +\n",
              "            '<a target=\"_blank\" href=https://colab.research.google.com/notebooks/data_table.ipynb>data table notebook</a>'\n",
              "            + ' to learn more about interactive tables.';\n",
              "          element.innerHTML = '';\n",
              "          dataTable['output_type'] = 'display_data';\n",
              "          await google.colab.output.renderOutput(dataTable, element);\n",
              "          const docLink = document.createElement('div');\n",
              "          docLink.innerHTML = docLinkHtml;\n",
              "          element.appendChild(docLink);\n",
              "        }\n",
              "      </script>\n",
              "    </div>\n",
              "  </div>\n"
            ]
          },
          "metadata": {},
          "execution_count": 6
        }
      ]
    },
    {
      "cell_type": "code",
      "source": [
        "df.info()"
      ],
      "metadata": {
        "colab": {
          "base_uri": "https://localhost:8080/"
        },
        "id": "nOck2AP6GLUw",
        "outputId": "a1a0fa18-a99c-464a-b82b-89399327d27a"
      },
      "execution_count": 7,
      "outputs": [
        {
          "output_type": "stream",
          "name": "stdout",
          "text": [
            "<class 'pandas.core.frame.DataFrame'>\n",
            "RangeIndex: 607 entries, 0 to 606\n",
            "Data columns (total 10 columns):\n",
            " #   Column                    Non-Null Count  Dtype  \n",
            "---  ------                    --------------  -----  \n",
            " 0   ?H(DOI)                   607 non-null    float64\n",
            " 1   ?L(DOI)                   607 non-null    float64\n",
            " 2   Cell_area_measured        607 non-null    float64\n",
            " 3   Cell_architecture         607 non-null    object \n",
            " 4   Substrate_stack_sequence  607 non-null    object \n",
            " 5   Perovskite_band_gap       607 non-null    float64\n",
            " 6   Voc                       607 non-null    float64\n",
            " 7   Jsc                       607 non-null    float64\n",
            " 8   FF                        607 non-null    float64\n",
            " 9   PCE                       607 non-null    float64\n",
            "dtypes: float64(8), object(2)\n",
            "memory usage: 47.5+ KB\n"
          ]
        }
      ]
    },
    {
      "cell_type": "code",
      "source": [
        "df_num=df.select_dtypes(['float64'])\n",
        "df_num"
      ],
      "metadata": {
        "colab": {
          "base_uri": "https://localhost:8080/",
          "height": 423
        },
        "id": "XVihPu65GOey",
        "outputId": "32acc7dd-f60a-4138-fba3-2cb29d8f4ca8"
      },
      "execution_count": 8,
      "outputs": [
        {
          "output_type": "execute_result",
          "data": {
            "text/plain": [
              "     ?H(DOI)  ?L(DOI)  Cell_area_measured  Perovskite_band_gap   Voc    Jsc  \\\n",
              "0       0.06     0.06              0.1000                 1.60  1.01  21.15   \n",
              "1       0.20     0.80              0.0756                 1.60  0.97  20.00   \n",
              "2       0.30     0.53              0.0960                 1.53  1.10  19.30   \n",
              "3       0.20     0.70              0.0400                 1.53  1.08  20.06   \n",
              "4       0.40     0.33              1.2100                 1.53  1.00  21.46   \n",
              "..       ...      ...                 ...                  ...   ...    ...   \n",
              "602     0.40     0.33              0.0177                 1.53  0.96  20.10   \n",
              "603     0.20     0.60              0.1000                 1.50  1.01  19.80   \n",
              "604     0.40     0.33              0.1000                 1.50  0.83  14.70   \n",
              "605     0.40     0.33              0.1000                 1.53  0.96  16.73   \n",
              "606     0.40     0.33              0.1000                 1.53  0.98  16.85   \n",
              "\n",
              "         FF    PCE  \n",
              "0    0.5700  12.18  \n",
              "1    0.6900  13.30  \n",
              "2    0.7900  16.80  \n",
              "3    0.6725  13.03  \n",
              "4    0.7550  16.16  \n",
              "..      ...    ...  \n",
              "602  0.8300  16.00  \n",
              "603  0.7700  15.59  \n",
              "604  0.6100   7.62  \n",
              "605  0.6500  10.71  \n",
              "606  0.7300  11.32  \n",
              "\n",
              "[607 rows x 8 columns]"
            ],
            "text/html": [
              "\n",
              "\n",
              "  <div id=\"df-8750e03c-f741-4bfb-8768-67550aea2f5e\">\n",
              "    <div class=\"colab-df-container\">\n",
              "      <div>\n",
              "<style scoped>\n",
              "    .dataframe tbody tr th:only-of-type {\n",
              "        vertical-align: middle;\n",
              "    }\n",
              "\n",
              "    .dataframe tbody tr th {\n",
              "        vertical-align: top;\n",
              "    }\n",
              "\n",
              "    .dataframe thead th {\n",
              "        text-align: right;\n",
              "    }\n",
              "</style>\n",
              "<table border=\"1\" class=\"dataframe\">\n",
              "  <thead>\n",
              "    <tr style=\"text-align: right;\">\n",
              "      <th></th>\n",
              "      <th>?H(DOI)</th>\n",
              "      <th>?L(DOI)</th>\n",
              "      <th>Cell_area_measured</th>\n",
              "      <th>Perovskite_band_gap</th>\n",
              "      <th>Voc</th>\n",
              "      <th>Jsc</th>\n",
              "      <th>FF</th>\n",
              "      <th>PCE</th>\n",
              "    </tr>\n",
              "  </thead>\n",
              "  <tbody>\n",
              "    <tr>\n",
              "      <th>0</th>\n",
              "      <td>0.06</td>\n",
              "      <td>0.06</td>\n",
              "      <td>0.1000</td>\n",
              "      <td>1.60</td>\n",
              "      <td>1.01</td>\n",
              "      <td>21.15</td>\n",
              "      <td>0.5700</td>\n",
              "      <td>12.18</td>\n",
              "    </tr>\n",
              "    <tr>\n",
              "      <th>1</th>\n",
              "      <td>0.20</td>\n",
              "      <td>0.80</td>\n",
              "      <td>0.0756</td>\n",
              "      <td>1.60</td>\n",
              "      <td>0.97</td>\n",
              "      <td>20.00</td>\n",
              "      <td>0.6900</td>\n",
              "      <td>13.30</td>\n",
              "    </tr>\n",
              "    <tr>\n",
              "      <th>2</th>\n",
              "      <td>0.30</td>\n",
              "      <td>0.53</td>\n",
              "      <td>0.0960</td>\n",
              "      <td>1.53</td>\n",
              "      <td>1.10</td>\n",
              "      <td>19.30</td>\n",
              "      <td>0.7900</td>\n",
              "      <td>16.80</td>\n",
              "    </tr>\n",
              "    <tr>\n",
              "      <th>3</th>\n",
              "      <td>0.20</td>\n",
              "      <td>0.70</td>\n",
              "      <td>0.0400</td>\n",
              "      <td>1.53</td>\n",
              "      <td>1.08</td>\n",
              "      <td>20.06</td>\n",
              "      <td>0.6725</td>\n",
              "      <td>13.03</td>\n",
              "    </tr>\n",
              "    <tr>\n",
              "      <th>4</th>\n",
              "      <td>0.40</td>\n",
              "      <td>0.33</td>\n",
              "      <td>1.2100</td>\n",
              "      <td>1.53</td>\n",
              "      <td>1.00</td>\n",
              "      <td>21.46</td>\n",
              "      <td>0.7550</td>\n",
              "      <td>16.16</td>\n",
              "    </tr>\n",
              "    <tr>\n",
              "      <th>...</th>\n",
              "      <td>...</td>\n",
              "      <td>...</td>\n",
              "      <td>...</td>\n",
              "      <td>...</td>\n",
              "      <td>...</td>\n",
              "      <td>...</td>\n",
              "      <td>...</td>\n",
              "      <td>...</td>\n",
              "    </tr>\n",
              "    <tr>\n",
              "      <th>602</th>\n",
              "      <td>0.40</td>\n",
              "      <td>0.33</td>\n",
              "      <td>0.0177</td>\n",
              "      <td>1.53</td>\n",
              "      <td>0.96</td>\n",
              "      <td>20.10</td>\n",
              "      <td>0.8300</td>\n",
              "      <td>16.00</td>\n",
              "    </tr>\n",
              "    <tr>\n",
              "      <th>603</th>\n",
              "      <td>0.20</td>\n",
              "      <td>0.60</td>\n",
              "      <td>0.1000</td>\n",
              "      <td>1.50</td>\n",
              "      <td>1.01</td>\n",
              "      <td>19.80</td>\n",
              "      <td>0.7700</td>\n",
              "      <td>15.59</td>\n",
              "    </tr>\n",
              "    <tr>\n",
              "      <th>604</th>\n",
              "      <td>0.40</td>\n",
              "      <td>0.33</td>\n",
              "      <td>0.1000</td>\n",
              "      <td>1.50</td>\n",
              "      <td>0.83</td>\n",
              "      <td>14.70</td>\n",
              "      <td>0.6100</td>\n",
              "      <td>7.62</td>\n",
              "    </tr>\n",
              "    <tr>\n",
              "      <th>605</th>\n",
              "      <td>0.40</td>\n",
              "      <td>0.33</td>\n",
              "      <td>0.1000</td>\n",
              "      <td>1.53</td>\n",
              "      <td>0.96</td>\n",
              "      <td>16.73</td>\n",
              "      <td>0.6500</td>\n",
              "      <td>10.71</td>\n",
              "    </tr>\n",
              "    <tr>\n",
              "      <th>606</th>\n",
              "      <td>0.40</td>\n",
              "      <td>0.33</td>\n",
              "      <td>0.1000</td>\n",
              "      <td>1.53</td>\n",
              "      <td>0.98</td>\n",
              "      <td>16.85</td>\n",
              "      <td>0.7300</td>\n",
              "      <td>11.32</td>\n",
              "    </tr>\n",
              "  </tbody>\n",
              "</table>\n",
              "<p>607 rows × 8 columns</p>\n",
              "</div>\n",
              "      <button class=\"colab-df-convert\" onclick=\"convertToInteractive('df-8750e03c-f741-4bfb-8768-67550aea2f5e')\"\n",
              "              title=\"Convert this dataframe to an interactive table.\"\n",
              "              style=\"display:none;\">\n",
              "\n",
              "  <svg xmlns=\"http://www.w3.org/2000/svg\" height=\"24px\"viewBox=\"0 0 24 24\"\n",
              "       width=\"24px\">\n",
              "    <path d=\"M0 0h24v24H0V0z\" fill=\"none\"/>\n",
              "    <path d=\"M18.56 5.44l.94 2.06.94-2.06 2.06-.94-2.06-.94-.94-2.06-.94 2.06-2.06.94zm-11 1L8.5 8.5l.94-2.06 2.06-.94-2.06-.94L8.5 2.5l-.94 2.06-2.06.94zm10 10l.94 2.06.94-2.06 2.06-.94-2.06-.94-.94-2.06-.94 2.06-2.06.94z\"/><path d=\"M17.41 7.96l-1.37-1.37c-.4-.4-.92-.59-1.43-.59-.52 0-1.04.2-1.43.59L10.3 9.45l-7.72 7.72c-.78.78-.78 2.05 0 2.83L4 21.41c.39.39.9.59 1.41.59.51 0 1.02-.2 1.41-.59l7.78-7.78 2.81-2.81c.8-.78.8-2.07 0-2.86zM5.41 20L4 18.59l7.72-7.72 1.47 1.35L5.41 20z\"/>\n",
              "  </svg>\n",
              "      </button>\n",
              "\n",
              "\n",
              "\n",
              "    <div id=\"df-03a297ce-228d-46b5-821a-7509fc2cf521\">\n",
              "      <button class=\"colab-df-quickchart\" onclick=\"quickchart('df-03a297ce-228d-46b5-821a-7509fc2cf521')\"\n",
              "              title=\"Suggest charts.\"\n",
              "              style=\"display:none;\">\n",
              "\n",
              "<svg xmlns=\"http://www.w3.org/2000/svg\" height=\"24px\"viewBox=\"0 0 24 24\"\n",
              "     width=\"24px\">\n",
              "    <g>\n",
              "        <path d=\"M19 3H5c-1.1 0-2 .9-2 2v14c0 1.1.9 2 2 2h14c1.1 0 2-.9 2-2V5c0-1.1-.9-2-2-2zM9 17H7v-7h2v7zm4 0h-2V7h2v10zm4 0h-2v-4h2v4z\"/>\n",
              "    </g>\n",
              "</svg>\n",
              "      </button>\n",
              "    </div>\n",
              "\n",
              "<style>\n",
              "  .colab-df-quickchart {\n",
              "    background-color: #E8F0FE;\n",
              "    border: none;\n",
              "    border-radius: 50%;\n",
              "    cursor: pointer;\n",
              "    display: none;\n",
              "    fill: #1967D2;\n",
              "    height: 32px;\n",
              "    padding: 0 0 0 0;\n",
              "    width: 32px;\n",
              "  }\n",
              "\n",
              "  .colab-df-quickchart:hover {\n",
              "    background-color: #E2EBFA;\n",
              "    box-shadow: 0px 1px 2px rgba(60, 64, 67, 0.3), 0px 1px 3px 1px rgba(60, 64, 67, 0.15);\n",
              "    fill: #174EA6;\n",
              "  }\n",
              "\n",
              "  [theme=dark] .colab-df-quickchart {\n",
              "    background-color: #3B4455;\n",
              "    fill: #D2E3FC;\n",
              "  }\n",
              "\n",
              "  [theme=dark] .colab-df-quickchart:hover {\n",
              "    background-color: #434B5C;\n",
              "    box-shadow: 0px 1px 3px 1px rgba(0, 0, 0, 0.15);\n",
              "    filter: drop-shadow(0px 1px 2px rgba(0, 0, 0, 0.3));\n",
              "    fill: #FFFFFF;\n",
              "  }\n",
              "</style>\n",
              "\n",
              "    <script>\n",
              "      async function quickchart(key) {\n",
              "        const containerElement = document.querySelector('#' + key);\n",
              "        const charts = await google.colab.kernel.invokeFunction(\n",
              "            'suggestCharts', [key], {});\n",
              "      }\n",
              "    </script>\n",
              "\n",
              "      <script>\n",
              "\n",
              "function displayQuickchartButton(domScope) {\n",
              "  let quickchartButtonEl =\n",
              "    domScope.querySelector('#df-03a297ce-228d-46b5-821a-7509fc2cf521 button.colab-df-quickchart');\n",
              "  quickchartButtonEl.style.display =\n",
              "    google.colab.kernel.accessAllowed ? 'block' : 'none';\n",
              "}\n",
              "\n",
              "        displayQuickchartButton(document);\n",
              "      </script>\n",
              "      <style>\n",
              "    .colab-df-container {\n",
              "      display:flex;\n",
              "      flex-wrap:wrap;\n",
              "      gap: 12px;\n",
              "    }\n",
              "\n",
              "    .colab-df-convert {\n",
              "      background-color: #E8F0FE;\n",
              "      border: none;\n",
              "      border-radius: 50%;\n",
              "      cursor: pointer;\n",
              "      display: none;\n",
              "      fill: #1967D2;\n",
              "      height: 32px;\n",
              "      padding: 0 0 0 0;\n",
              "      width: 32px;\n",
              "    }\n",
              "\n",
              "    .colab-df-convert:hover {\n",
              "      background-color: #E2EBFA;\n",
              "      box-shadow: 0px 1px 2px rgba(60, 64, 67, 0.3), 0px 1px 3px 1px rgba(60, 64, 67, 0.15);\n",
              "      fill: #174EA6;\n",
              "    }\n",
              "\n",
              "    [theme=dark] .colab-df-convert {\n",
              "      background-color: #3B4455;\n",
              "      fill: #D2E3FC;\n",
              "    }\n",
              "\n",
              "    [theme=dark] .colab-df-convert:hover {\n",
              "      background-color: #434B5C;\n",
              "      box-shadow: 0px 1px 3px 1px rgba(0, 0, 0, 0.15);\n",
              "      filter: drop-shadow(0px 1px 2px rgba(0, 0, 0, 0.3));\n",
              "      fill: #FFFFFF;\n",
              "    }\n",
              "  </style>\n",
              "\n",
              "      <script>\n",
              "        const buttonEl =\n",
              "          document.querySelector('#df-8750e03c-f741-4bfb-8768-67550aea2f5e button.colab-df-convert');\n",
              "        buttonEl.style.display =\n",
              "          google.colab.kernel.accessAllowed ? 'block' : 'none';\n",
              "\n",
              "        async function convertToInteractive(key) {\n",
              "          const element = document.querySelector('#df-8750e03c-f741-4bfb-8768-67550aea2f5e');\n",
              "          const dataTable =\n",
              "            await google.colab.kernel.invokeFunction('convertToInteractive',\n",
              "                                                     [key], {});\n",
              "          if (!dataTable) return;\n",
              "\n",
              "          const docLinkHtml = 'Like what you see? Visit the ' +\n",
              "            '<a target=\"_blank\" href=https://colab.research.google.com/notebooks/data_table.ipynb>data table notebook</a>'\n",
              "            + ' to learn more about interactive tables.';\n",
              "          element.innerHTML = '';\n",
              "          dataTable['output_type'] = 'display_data';\n",
              "          await google.colab.output.renderOutput(dataTable, element);\n",
              "          const docLink = document.createElement('div');\n",
              "          docLink.innerHTML = docLinkHtml;\n",
              "          element.appendChild(docLink);\n",
              "        }\n",
              "      </script>\n",
              "    </div>\n",
              "  </div>\n"
            ]
          },
          "metadata": {},
          "execution_count": 8
        }
      ]
    },
    {
      "cell_type": "code",
      "source": [
        "df_cat['Cell_architecture'].value_counts()"
      ],
      "metadata": {
        "colab": {
          "base_uri": "https://localhost:8080/"
        },
        "id": "-n3IE5_vGRm-",
        "outputId": "4ee68868-0cc9-48ba-e620-73b4332708a6"
      },
      "execution_count": 9,
      "outputs": [
        {
          "output_type": "execute_result",
          "data": {
            "text/plain": [
              "nip    306\n",
              "pin    301\n",
              "Name: Cell_architecture, dtype: int64"
            ]
          },
          "metadata": {},
          "execution_count": 9
        }
      ]
    },
    {
      "cell_type": "code",
      "source": [
        "pd.get_dummies(df_cat['Cell_architecture'])"
      ],
      "metadata": {
        "colab": {
          "base_uri": "https://localhost:8080/",
          "height": 423
        },
        "id": "luAa5ljwGVhS",
        "outputId": "15faa04f-2f01-49aa-8127-d9d226df807e"
      },
      "execution_count": 10,
      "outputs": [
        {
          "output_type": "execute_result",
          "data": {
            "text/plain": [
              "     nip  pin\n",
              "0      1    0\n",
              "1      1    0\n",
              "2      1    0\n",
              "3      1    0\n",
              "4      0    1\n",
              "..   ...  ...\n",
              "602    0    1\n",
              "603    0    1\n",
              "604    0    1\n",
              "605    0    1\n",
              "606    0    1\n",
              "\n",
              "[607 rows x 2 columns]"
            ],
            "text/html": [
              "\n",
              "\n",
              "  <div id=\"df-060454d7-a972-434e-b4fb-c577e8a7bc83\">\n",
              "    <div class=\"colab-df-container\">\n",
              "      <div>\n",
              "<style scoped>\n",
              "    .dataframe tbody tr th:only-of-type {\n",
              "        vertical-align: middle;\n",
              "    }\n",
              "\n",
              "    .dataframe tbody tr th {\n",
              "        vertical-align: top;\n",
              "    }\n",
              "\n",
              "    .dataframe thead th {\n",
              "        text-align: right;\n",
              "    }\n",
              "</style>\n",
              "<table border=\"1\" class=\"dataframe\">\n",
              "  <thead>\n",
              "    <tr style=\"text-align: right;\">\n",
              "      <th></th>\n",
              "      <th>nip</th>\n",
              "      <th>pin</th>\n",
              "    </tr>\n",
              "  </thead>\n",
              "  <tbody>\n",
              "    <tr>\n",
              "      <th>0</th>\n",
              "      <td>1</td>\n",
              "      <td>0</td>\n",
              "    </tr>\n",
              "    <tr>\n",
              "      <th>1</th>\n",
              "      <td>1</td>\n",
              "      <td>0</td>\n",
              "    </tr>\n",
              "    <tr>\n",
              "      <th>2</th>\n",
              "      <td>1</td>\n",
              "      <td>0</td>\n",
              "    </tr>\n",
              "    <tr>\n",
              "      <th>3</th>\n",
              "      <td>1</td>\n",
              "      <td>0</td>\n",
              "    </tr>\n",
              "    <tr>\n",
              "      <th>4</th>\n",
              "      <td>0</td>\n",
              "      <td>1</td>\n",
              "    </tr>\n",
              "    <tr>\n",
              "      <th>...</th>\n",
              "      <td>...</td>\n",
              "      <td>...</td>\n",
              "    </tr>\n",
              "    <tr>\n",
              "      <th>602</th>\n",
              "      <td>0</td>\n",
              "      <td>1</td>\n",
              "    </tr>\n",
              "    <tr>\n",
              "      <th>603</th>\n",
              "      <td>0</td>\n",
              "      <td>1</td>\n",
              "    </tr>\n",
              "    <tr>\n",
              "      <th>604</th>\n",
              "      <td>0</td>\n",
              "      <td>1</td>\n",
              "    </tr>\n",
              "    <tr>\n",
              "      <th>605</th>\n",
              "      <td>0</td>\n",
              "      <td>1</td>\n",
              "    </tr>\n",
              "    <tr>\n",
              "      <th>606</th>\n",
              "      <td>0</td>\n",
              "      <td>1</td>\n",
              "    </tr>\n",
              "  </tbody>\n",
              "</table>\n",
              "<p>607 rows × 2 columns</p>\n",
              "</div>\n",
              "      <button class=\"colab-df-convert\" onclick=\"convertToInteractive('df-060454d7-a972-434e-b4fb-c577e8a7bc83')\"\n",
              "              title=\"Convert this dataframe to an interactive table.\"\n",
              "              style=\"display:none;\">\n",
              "\n",
              "  <svg xmlns=\"http://www.w3.org/2000/svg\" height=\"24px\"viewBox=\"0 0 24 24\"\n",
              "       width=\"24px\">\n",
              "    <path d=\"M0 0h24v24H0V0z\" fill=\"none\"/>\n",
              "    <path d=\"M18.56 5.44l.94 2.06.94-2.06 2.06-.94-2.06-.94-.94-2.06-.94 2.06-2.06.94zm-11 1L8.5 8.5l.94-2.06 2.06-.94-2.06-.94L8.5 2.5l-.94 2.06-2.06.94zm10 10l.94 2.06.94-2.06 2.06-.94-2.06-.94-.94-2.06-.94 2.06-2.06.94z\"/><path d=\"M17.41 7.96l-1.37-1.37c-.4-.4-.92-.59-1.43-.59-.52 0-1.04.2-1.43.59L10.3 9.45l-7.72 7.72c-.78.78-.78 2.05 0 2.83L4 21.41c.39.39.9.59 1.41.59.51 0 1.02-.2 1.41-.59l7.78-7.78 2.81-2.81c.8-.78.8-2.07 0-2.86zM5.41 20L4 18.59l7.72-7.72 1.47 1.35L5.41 20z\"/>\n",
              "  </svg>\n",
              "      </button>\n",
              "\n",
              "\n",
              "\n",
              "    <div id=\"df-5f213ca1-c07d-427f-803f-4ea7ccaa690d\">\n",
              "      <button class=\"colab-df-quickchart\" onclick=\"quickchart('df-5f213ca1-c07d-427f-803f-4ea7ccaa690d')\"\n",
              "              title=\"Suggest charts.\"\n",
              "              style=\"display:none;\">\n",
              "\n",
              "<svg xmlns=\"http://www.w3.org/2000/svg\" height=\"24px\"viewBox=\"0 0 24 24\"\n",
              "     width=\"24px\">\n",
              "    <g>\n",
              "        <path d=\"M19 3H5c-1.1 0-2 .9-2 2v14c0 1.1.9 2 2 2h14c1.1 0 2-.9 2-2V5c0-1.1-.9-2-2-2zM9 17H7v-7h2v7zm4 0h-2V7h2v10zm4 0h-2v-4h2v4z\"/>\n",
              "    </g>\n",
              "</svg>\n",
              "      </button>\n",
              "    </div>\n",
              "\n",
              "<style>\n",
              "  .colab-df-quickchart {\n",
              "    background-color: #E8F0FE;\n",
              "    border: none;\n",
              "    border-radius: 50%;\n",
              "    cursor: pointer;\n",
              "    display: none;\n",
              "    fill: #1967D2;\n",
              "    height: 32px;\n",
              "    padding: 0 0 0 0;\n",
              "    width: 32px;\n",
              "  }\n",
              "\n",
              "  .colab-df-quickchart:hover {\n",
              "    background-color: #E2EBFA;\n",
              "    box-shadow: 0px 1px 2px rgba(60, 64, 67, 0.3), 0px 1px 3px 1px rgba(60, 64, 67, 0.15);\n",
              "    fill: #174EA6;\n",
              "  }\n",
              "\n",
              "  [theme=dark] .colab-df-quickchart {\n",
              "    background-color: #3B4455;\n",
              "    fill: #D2E3FC;\n",
              "  }\n",
              "\n",
              "  [theme=dark] .colab-df-quickchart:hover {\n",
              "    background-color: #434B5C;\n",
              "    box-shadow: 0px 1px 3px 1px rgba(0, 0, 0, 0.15);\n",
              "    filter: drop-shadow(0px 1px 2px rgba(0, 0, 0, 0.3));\n",
              "    fill: #FFFFFF;\n",
              "  }\n",
              "</style>\n",
              "\n",
              "    <script>\n",
              "      async function quickchart(key) {\n",
              "        const containerElement = document.querySelector('#' + key);\n",
              "        const charts = await google.colab.kernel.invokeFunction(\n",
              "            'suggestCharts', [key], {});\n",
              "      }\n",
              "    </script>\n",
              "\n",
              "      <script>\n",
              "\n",
              "function displayQuickchartButton(domScope) {\n",
              "  let quickchartButtonEl =\n",
              "    domScope.querySelector('#df-5f213ca1-c07d-427f-803f-4ea7ccaa690d button.colab-df-quickchart');\n",
              "  quickchartButtonEl.style.display =\n",
              "    google.colab.kernel.accessAllowed ? 'block' : 'none';\n",
              "}\n",
              "\n",
              "        displayQuickchartButton(document);\n",
              "      </script>\n",
              "      <style>\n",
              "    .colab-df-container {\n",
              "      display:flex;\n",
              "      flex-wrap:wrap;\n",
              "      gap: 12px;\n",
              "    }\n",
              "\n",
              "    .colab-df-convert {\n",
              "      background-color: #E8F0FE;\n",
              "      border: none;\n",
              "      border-radius: 50%;\n",
              "      cursor: pointer;\n",
              "      display: none;\n",
              "      fill: #1967D2;\n",
              "      height: 32px;\n",
              "      padding: 0 0 0 0;\n",
              "      width: 32px;\n",
              "    }\n",
              "\n",
              "    .colab-df-convert:hover {\n",
              "      background-color: #E2EBFA;\n",
              "      box-shadow: 0px 1px 2px rgba(60, 64, 67, 0.3), 0px 1px 3px 1px rgba(60, 64, 67, 0.15);\n",
              "      fill: #174EA6;\n",
              "    }\n",
              "\n",
              "    [theme=dark] .colab-df-convert {\n",
              "      background-color: #3B4455;\n",
              "      fill: #D2E3FC;\n",
              "    }\n",
              "\n",
              "    [theme=dark] .colab-df-convert:hover {\n",
              "      background-color: #434B5C;\n",
              "      box-shadow: 0px 1px 3px 1px rgba(0, 0, 0, 0.15);\n",
              "      filter: drop-shadow(0px 1px 2px rgba(0, 0, 0, 0.3));\n",
              "      fill: #FFFFFF;\n",
              "    }\n",
              "  </style>\n",
              "\n",
              "      <script>\n",
              "        const buttonEl =\n",
              "          document.querySelector('#df-060454d7-a972-434e-b4fb-c577e8a7bc83 button.colab-df-convert');\n",
              "        buttonEl.style.display =\n",
              "          google.colab.kernel.accessAllowed ? 'block' : 'none';\n",
              "\n",
              "        async function convertToInteractive(key) {\n",
              "          const element = document.querySelector('#df-060454d7-a972-434e-b4fb-c577e8a7bc83');\n",
              "          const dataTable =\n",
              "            await google.colab.kernel.invokeFunction('convertToInteractive',\n",
              "                                                     [key], {});\n",
              "          if (!dataTable) return;\n",
              "\n",
              "          const docLinkHtml = 'Like what you see? Visit the ' +\n",
              "            '<a target=\"_blank\" href=https://colab.research.google.com/notebooks/data_table.ipynb>data table notebook</a>'\n",
              "            + ' to learn more about interactive tables.';\n",
              "          element.innerHTML = '';\n",
              "          dataTable['output_type'] = 'display_data';\n",
              "          await google.colab.output.renderOutput(dataTable, element);\n",
              "          const docLink = document.createElement('div');\n",
              "          docLink.innerHTML = docLinkHtml;\n",
              "          element.appendChild(docLink);\n",
              "        }\n",
              "      </script>\n",
              "    </div>\n",
              "  </div>\n"
            ]
          },
          "metadata": {},
          "execution_count": 10
        }
      ]
    },
    {
      "cell_type": "code",
      "source": [
        "from sklearn.preprocessing import LabelEncoder"
      ],
      "metadata": {
        "id": "Y0_ED0jnGXyH"
      },
      "execution_count": 11,
      "outputs": []
    },
    {
      "cell_type": "code",
      "source": [
        "le=LabelEncoder()"
      ],
      "metadata": {
        "id": "wW_Ff5zpGcMM"
      },
      "execution_count": 12,
      "outputs": []
    },
    {
      "cell_type": "code",
      "source": [
        "df_cat['Cell_architecture']=le.fit_transform(df_cat['Cell_architecture'])\n",
        "df_cat['Cell_architecture'].value_counts()\n",
        "#2=pin\n",
        "#1=nip\n",
        "#0=Back contacted"
      ],
      "metadata": {
        "id": "IK6wjtdaGeL9",
        "colab": {
          "base_uri": "https://localhost:8080/"
        },
        "outputId": "6ccbbbbd-df8c-4dba-ce97-a52d275401b1"
      },
      "execution_count": 13,
      "outputs": [
        {
          "output_type": "execute_result",
          "data": {
            "text/plain": [
              "0    306\n",
              "1    301\n",
              "Name: Cell_architecture, dtype: int64"
            ]
          },
          "metadata": {},
          "execution_count": 13
        }
      ]
    },
    {
      "cell_type": "code",
      "source": [
        "pd.get_dummies(df_cat['Substrate_stack_sequence'])"
      ],
      "metadata": {
        "colab": {
          "base_uri": "https://localhost:8080/",
          "height": 423
        },
        "id": "RTy0rKPBOe7f",
        "outputId": "c1b2c1e3-beeb-43e6-e9cd-25c1c04d1eee"
      },
      "execution_count": 14,
      "outputs": [
        {
          "output_type": "execute_result",
          "data": {
            "text/plain": [
              "     A  B  C  D  E  F  G  H\n",
              "0    0  0  0  0  1  0  0  0\n",
              "1    1  0  0  0  0  0  0  0\n",
              "2    1  0  0  0  0  0  0  0\n",
              "3    0  0  0  0  1  0  0  0\n",
              "4    0  0  0  0  0  1  0  0\n",
              "..  .. .. .. .. .. .. .. ..\n",
              "602  0  0  0  0  0  0  0  1\n",
              "603  1  0  0  0  0  0  0  0\n",
              "604  1  0  0  0  0  0  0  0\n",
              "605  1  0  0  0  0  0  0  0\n",
              "606  1  0  0  0  0  0  0  0\n",
              "\n",
              "[607 rows x 8 columns]"
            ],
            "text/html": [
              "\n",
              "\n",
              "  <div id=\"df-cbbe12e7-cdf8-4a45-91ac-f5bf0c8b9e76\">\n",
              "    <div class=\"colab-df-container\">\n",
              "      <div>\n",
              "<style scoped>\n",
              "    .dataframe tbody tr th:only-of-type {\n",
              "        vertical-align: middle;\n",
              "    }\n",
              "\n",
              "    .dataframe tbody tr th {\n",
              "        vertical-align: top;\n",
              "    }\n",
              "\n",
              "    .dataframe thead th {\n",
              "        text-align: right;\n",
              "    }\n",
              "</style>\n",
              "<table border=\"1\" class=\"dataframe\">\n",
              "  <thead>\n",
              "    <tr style=\"text-align: right;\">\n",
              "      <th></th>\n",
              "      <th>A</th>\n",
              "      <th>B</th>\n",
              "      <th>C</th>\n",
              "      <th>D</th>\n",
              "      <th>E</th>\n",
              "      <th>F</th>\n",
              "      <th>G</th>\n",
              "      <th>H</th>\n",
              "    </tr>\n",
              "  </thead>\n",
              "  <tbody>\n",
              "    <tr>\n",
              "      <th>0</th>\n",
              "      <td>0</td>\n",
              "      <td>0</td>\n",
              "      <td>0</td>\n",
              "      <td>0</td>\n",
              "      <td>1</td>\n",
              "      <td>0</td>\n",
              "      <td>0</td>\n",
              "      <td>0</td>\n",
              "    </tr>\n",
              "    <tr>\n",
              "      <th>1</th>\n",
              "      <td>1</td>\n",
              "      <td>0</td>\n",
              "      <td>0</td>\n",
              "      <td>0</td>\n",
              "      <td>0</td>\n",
              "      <td>0</td>\n",
              "      <td>0</td>\n",
              "      <td>0</td>\n",
              "    </tr>\n",
              "    <tr>\n",
              "      <th>2</th>\n",
              "      <td>1</td>\n",
              "      <td>0</td>\n",
              "      <td>0</td>\n",
              "      <td>0</td>\n",
              "      <td>0</td>\n",
              "      <td>0</td>\n",
              "      <td>0</td>\n",
              "      <td>0</td>\n",
              "    </tr>\n",
              "    <tr>\n",
              "      <th>3</th>\n",
              "      <td>0</td>\n",
              "      <td>0</td>\n",
              "      <td>0</td>\n",
              "      <td>0</td>\n",
              "      <td>1</td>\n",
              "      <td>0</td>\n",
              "      <td>0</td>\n",
              "      <td>0</td>\n",
              "    </tr>\n",
              "    <tr>\n",
              "      <th>4</th>\n",
              "      <td>0</td>\n",
              "      <td>0</td>\n",
              "      <td>0</td>\n",
              "      <td>0</td>\n",
              "      <td>0</td>\n",
              "      <td>1</td>\n",
              "      <td>0</td>\n",
              "      <td>0</td>\n",
              "    </tr>\n",
              "    <tr>\n",
              "      <th>...</th>\n",
              "      <td>...</td>\n",
              "      <td>...</td>\n",
              "      <td>...</td>\n",
              "      <td>...</td>\n",
              "      <td>...</td>\n",
              "      <td>...</td>\n",
              "      <td>...</td>\n",
              "      <td>...</td>\n",
              "    </tr>\n",
              "    <tr>\n",
              "      <th>602</th>\n",
              "      <td>0</td>\n",
              "      <td>0</td>\n",
              "      <td>0</td>\n",
              "      <td>0</td>\n",
              "      <td>0</td>\n",
              "      <td>0</td>\n",
              "      <td>0</td>\n",
              "      <td>1</td>\n",
              "    </tr>\n",
              "    <tr>\n",
              "      <th>603</th>\n",
              "      <td>1</td>\n",
              "      <td>0</td>\n",
              "      <td>0</td>\n",
              "      <td>0</td>\n",
              "      <td>0</td>\n",
              "      <td>0</td>\n",
              "      <td>0</td>\n",
              "      <td>0</td>\n",
              "    </tr>\n",
              "    <tr>\n",
              "      <th>604</th>\n",
              "      <td>1</td>\n",
              "      <td>0</td>\n",
              "      <td>0</td>\n",
              "      <td>0</td>\n",
              "      <td>0</td>\n",
              "      <td>0</td>\n",
              "      <td>0</td>\n",
              "      <td>0</td>\n",
              "    </tr>\n",
              "    <tr>\n",
              "      <th>605</th>\n",
              "      <td>1</td>\n",
              "      <td>0</td>\n",
              "      <td>0</td>\n",
              "      <td>0</td>\n",
              "      <td>0</td>\n",
              "      <td>0</td>\n",
              "      <td>0</td>\n",
              "      <td>0</td>\n",
              "    </tr>\n",
              "    <tr>\n",
              "      <th>606</th>\n",
              "      <td>1</td>\n",
              "      <td>0</td>\n",
              "      <td>0</td>\n",
              "      <td>0</td>\n",
              "      <td>0</td>\n",
              "      <td>0</td>\n",
              "      <td>0</td>\n",
              "      <td>0</td>\n",
              "    </tr>\n",
              "  </tbody>\n",
              "</table>\n",
              "<p>607 rows × 8 columns</p>\n",
              "</div>\n",
              "      <button class=\"colab-df-convert\" onclick=\"convertToInteractive('df-cbbe12e7-cdf8-4a45-91ac-f5bf0c8b9e76')\"\n",
              "              title=\"Convert this dataframe to an interactive table.\"\n",
              "              style=\"display:none;\">\n",
              "\n",
              "  <svg xmlns=\"http://www.w3.org/2000/svg\" height=\"24px\"viewBox=\"0 0 24 24\"\n",
              "       width=\"24px\">\n",
              "    <path d=\"M0 0h24v24H0V0z\" fill=\"none\"/>\n",
              "    <path d=\"M18.56 5.44l.94 2.06.94-2.06 2.06-.94-2.06-.94-.94-2.06-.94 2.06-2.06.94zm-11 1L8.5 8.5l.94-2.06 2.06-.94-2.06-.94L8.5 2.5l-.94 2.06-2.06.94zm10 10l.94 2.06.94-2.06 2.06-.94-2.06-.94-.94-2.06-.94 2.06-2.06.94z\"/><path d=\"M17.41 7.96l-1.37-1.37c-.4-.4-.92-.59-1.43-.59-.52 0-1.04.2-1.43.59L10.3 9.45l-7.72 7.72c-.78.78-.78 2.05 0 2.83L4 21.41c.39.39.9.59 1.41.59.51 0 1.02-.2 1.41-.59l7.78-7.78 2.81-2.81c.8-.78.8-2.07 0-2.86zM5.41 20L4 18.59l7.72-7.72 1.47 1.35L5.41 20z\"/>\n",
              "  </svg>\n",
              "      </button>\n",
              "\n",
              "\n",
              "\n",
              "    <div id=\"df-423d3c4d-c8d8-4a98-b6e4-9f71575bef4c\">\n",
              "      <button class=\"colab-df-quickchart\" onclick=\"quickchart('df-423d3c4d-c8d8-4a98-b6e4-9f71575bef4c')\"\n",
              "              title=\"Suggest charts.\"\n",
              "              style=\"display:none;\">\n",
              "\n",
              "<svg xmlns=\"http://www.w3.org/2000/svg\" height=\"24px\"viewBox=\"0 0 24 24\"\n",
              "     width=\"24px\">\n",
              "    <g>\n",
              "        <path d=\"M19 3H5c-1.1 0-2 .9-2 2v14c0 1.1.9 2 2 2h14c1.1 0 2-.9 2-2V5c0-1.1-.9-2-2-2zM9 17H7v-7h2v7zm4 0h-2V7h2v10zm4 0h-2v-4h2v4z\"/>\n",
              "    </g>\n",
              "</svg>\n",
              "      </button>\n",
              "    </div>\n",
              "\n",
              "<style>\n",
              "  .colab-df-quickchart {\n",
              "    background-color: #E8F0FE;\n",
              "    border: none;\n",
              "    border-radius: 50%;\n",
              "    cursor: pointer;\n",
              "    display: none;\n",
              "    fill: #1967D2;\n",
              "    height: 32px;\n",
              "    padding: 0 0 0 0;\n",
              "    width: 32px;\n",
              "  }\n",
              "\n",
              "  .colab-df-quickchart:hover {\n",
              "    background-color: #E2EBFA;\n",
              "    box-shadow: 0px 1px 2px rgba(60, 64, 67, 0.3), 0px 1px 3px 1px rgba(60, 64, 67, 0.15);\n",
              "    fill: #174EA6;\n",
              "  }\n",
              "\n",
              "  [theme=dark] .colab-df-quickchart {\n",
              "    background-color: #3B4455;\n",
              "    fill: #D2E3FC;\n",
              "  }\n",
              "\n",
              "  [theme=dark] .colab-df-quickchart:hover {\n",
              "    background-color: #434B5C;\n",
              "    box-shadow: 0px 1px 3px 1px rgba(0, 0, 0, 0.15);\n",
              "    filter: drop-shadow(0px 1px 2px rgba(0, 0, 0, 0.3));\n",
              "    fill: #FFFFFF;\n",
              "  }\n",
              "</style>\n",
              "\n",
              "    <script>\n",
              "      async function quickchart(key) {\n",
              "        const containerElement = document.querySelector('#' + key);\n",
              "        const charts = await google.colab.kernel.invokeFunction(\n",
              "            'suggestCharts', [key], {});\n",
              "      }\n",
              "    </script>\n",
              "\n",
              "      <script>\n",
              "\n",
              "function displayQuickchartButton(domScope) {\n",
              "  let quickchartButtonEl =\n",
              "    domScope.querySelector('#df-423d3c4d-c8d8-4a98-b6e4-9f71575bef4c button.colab-df-quickchart');\n",
              "  quickchartButtonEl.style.display =\n",
              "    google.colab.kernel.accessAllowed ? 'block' : 'none';\n",
              "}\n",
              "\n",
              "        displayQuickchartButton(document);\n",
              "      </script>\n",
              "      <style>\n",
              "    .colab-df-container {\n",
              "      display:flex;\n",
              "      flex-wrap:wrap;\n",
              "      gap: 12px;\n",
              "    }\n",
              "\n",
              "    .colab-df-convert {\n",
              "      background-color: #E8F0FE;\n",
              "      border: none;\n",
              "      border-radius: 50%;\n",
              "      cursor: pointer;\n",
              "      display: none;\n",
              "      fill: #1967D2;\n",
              "      height: 32px;\n",
              "      padding: 0 0 0 0;\n",
              "      width: 32px;\n",
              "    }\n",
              "\n",
              "    .colab-df-convert:hover {\n",
              "      background-color: #E2EBFA;\n",
              "      box-shadow: 0px 1px 2px rgba(60, 64, 67, 0.3), 0px 1px 3px 1px rgba(60, 64, 67, 0.15);\n",
              "      fill: #174EA6;\n",
              "    }\n",
              "\n",
              "    [theme=dark] .colab-df-convert {\n",
              "      background-color: #3B4455;\n",
              "      fill: #D2E3FC;\n",
              "    }\n",
              "\n",
              "    [theme=dark] .colab-df-convert:hover {\n",
              "      background-color: #434B5C;\n",
              "      box-shadow: 0px 1px 3px 1px rgba(0, 0, 0, 0.15);\n",
              "      filter: drop-shadow(0px 1px 2px rgba(0, 0, 0, 0.3));\n",
              "      fill: #FFFFFF;\n",
              "    }\n",
              "  </style>\n",
              "\n",
              "      <script>\n",
              "        const buttonEl =\n",
              "          document.querySelector('#df-cbbe12e7-cdf8-4a45-91ac-f5bf0c8b9e76 button.colab-df-convert');\n",
              "        buttonEl.style.display =\n",
              "          google.colab.kernel.accessAllowed ? 'block' : 'none';\n",
              "\n",
              "        async function convertToInteractive(key) {\n",
              "          const element = document.querySelector('#df-cbbe12e7-cdf8-4a45-91ac-f5bf0c8b9e76');\n",
              "          const dataTable =\n",
              "            await google.colab.kernel.invokeFunction('convertToInteractive',\n",
              "                                                     [key], {});\n",
              "          if (!dataTable) return;\n",
              "\n",
              "          const docLinkHtml = 'Like what you see? Visit the ' +\n",
              "            '<a target=\"_blank\" href=https://colab.research.google.com/notebooks/data_table.ipynb>data table notebook</a>'\n",
              "            + ' to learn more about interactive tables.';\n",
              "          element.innerHTML = '';\n",
              "          dataTable['output_type'] = 'display_data';\n",
              "          await google.colab.output.renderOutput(dataTable, element);\n",
              "          const docLink = document.createElement('div');\n",
              "          docLink.innerHTML = docLinkHtml;\n",
              "          element.appendChild(docLink);\n",
              "        }\n",
              "      </script>\n",
              "    </div>\n",
              "  </div>\n"
            ]
          },
          "metadata": {},
          "execution_count": 14
        }
      ]
    },
    {
      "cell_type": "code",
      "source": [
        "df_cat['Substrate_stack_sequence']=le.fit_transform(df_cat['Substrate_stack_sequence'])\n",
        "df_cat['Substrate_stack_sequence'].value_counts()"
      ],
      "metadata": {
        "colab": {
          "base_uri": "https://localhost:8080/"
        },
        "id": "O3ulMDJqN2pF",
        "outputId": "0d6a592e-4f44-4310-9501-fa001261819e"
      },
      "execution_count": 15,
      "outputs": [
        {
          "output_type": "execute_result",
          "data": {
            "text/plain": [
              "0    234\n",
              "7    146\n",
              "4    142\n",
              "2     47\n",
              "1     12\n",
              "5     10\n",
              "3      9\n",
              "6      7\n",
              "Name: Substrate_stack_sequence, dtype: int64"
            ]
          },
          "metadata": {},
          "execution_count": 15
        }
      ]
    },
    {
      "cell_type": "code",
      "source": [
        "# from sklearn.preprocessing import OneHotEncoder\n",
        "# encoder = OneHotEncoder(sparse=False)\n",
        "# df_cat['class']= encoder.fit_transform(df_cat['class'].values.reshape(-1,1))\n",
        "# df_cat['class']"
      ],
      "metadata": {
        "id": "vaJpGJx8Gg-B"
      },
      "execution_count": 16,
      "outputs": []
    },
    {
      "cell_type": "code",
      "source": [
        "df = pd.concat([pd.DataFrame(df_num),(df_cat)], axis=1)\n",
        "df\n"
      ],
      "metadata": {
        "colab": {
          "base_uri": "https://localhost:8080/",
          "height": 423
        },
        "id": "IrafwZzRGjwy",
        "outputId": "2abe9080-e1be-47f9-cafe-14fdb8caa797"
      },
      "execution_count": 17,
      "outputs": [
        {
          "output_type": "execute_result",
          "data": {
            "text/plain": [
              "     ?H(DOI)  ?L(DOI)  Cell_area_measured  Perovskite_band_gap   Voc    Jsc  \\\n",
              "0       0.06     0.06              0.1000                 1.60  1.01  21.15   \n",
              "1       0.20     0.80              0.0756                 1.60  0.97  20.00   \n",
              "2       0.30     0.53              0.0960                 1.53  1.10  19.30   \n",
              "3       0.20     0.70              0.0400                 1.53  1.08  20.06   \n",
              "4       0.40     0.33              1.2100                 1.53  1.00  21.46   \n",
              "..       ...      ...                 ...                  ...   ...    ...   \n",
              "602     0.40     0.33              0.0177                 1.53  0.96  20.10   \n",
              "603     0.20     0.60              0.1000                 1.50  1.01  19.80   \n",
              "604     0.40     0.33              0.1000                 1.50  0.83  14.70   \n",
              "605     0.40     0.33              0.1000                 1.53  0.96  16.73   \n",
              "606     0.40     0.33              0.1000                 1.53  0.98  16.85   \n",
              "\n",
              "         FF    PCE  Cell_architecture  Substrate_stack_sequence  \n",
              "0    0.5700  12.18                  0                         4  \n",
              "1    0.6900  13.30                  0                         0  \n",
              "2    0.7900  16.80                  0                         0  \n",
              "3    0.6725  13.03                  0                         4  \n",
              "4    0.7550  16.16                  1                         5  \n",
              "..      ...    ...                ...                       ...  \n",
              "602  0.8300  16.00                  1                         7  \n",
              "603  0.7700  15.59                  1                         0  \n",
              "604  0.6100   7.62                  1                         0  \n",
              "605  0.6500  10.71                  1                         0  \n",
              "606  0.7300  11.32                  1                         0  \n",
              "\n",
              "[607 rows x 10 columns]"
            ],
            "text/html": [
              "\n",
              "\n",
              "  <div id=\"df-dfd45963-968d-49ae-b8df-76b60f036c4d\">\n",
              "    <div class=\"colab-df-container\">\n",
              "      <div>\n",
              "<style scoped>\n",
              "    .dataframe tbody tr th:only-of-type {\n",
              "        vertical-align: middle;\n",
              "    }\n",
              "\n",
              "    .dataframe tbody tr th {\n",
              "        vertical-align: top;\n",
              "    }\n",
              "\n",
              "    .dataframe thead th {\n",
              "        text-align: right;\n",
              "    }\n",
              "</style>\n",
              "<table border=\"1\" class=\"dataframe\">\n",
              "  <thead>\n",
              "    <tr style=\"text-align: right;\">\n",
              "      <th></th>\n",
              "      <th>?H(DOI)</th>\n",
              "      <th>?L(DOI)</th>\n",
              "      <th>Cell_area_measured</th>\n",
              "      <th>Perovskite_band_gap</th>\n",
              "      <th>Voc</th>\n",
              "      <th>Jsc</th>\n",
              "      <th>FF</th>\n",
              "      <th>PCE</th>\n",
              "      <th>Cell_architecture</th>\n",
              "      <th>Substrate_stack_sequence</th>\n",
              "    </tr>\n",
              "  </thead>\n",
              "  <tbody>\n",
              "    <tr>\n",
              "      <th>0</th>\n",
              "      <td>0.06</td>\n",
              "      <td>0.06</td>\n",
              "      <td>0.1000</td>\n",
              "      <td>1.60</td>\n",
              "      <td>1.01</td>\n",
              "      <td>21.15</td>\n",
              "      <td>0.5700</td>\n",
              "      <td>12.18</td>\n",
              "      <td>0</td>\n",
              "      <td>4</td>\n",
              "    </tr>\n",
              "    <tr>\n",
              "      <th>1</th>\n",
              "      <td>0.20</td>\n",
              "      <td>0.80</td>\n",
              "      <td>0.0756</td>\n",
              "      <td>1.60</td>\n",
              "      <td>0.97</td>\n",
              "      <td>20.00</td>\n",
              "      <td>0.6900</td>\n",
              "      <td>13.30</td>\n",
              "      <td>0</td>\n",
              "      <td>0</td>\n",
              "    </tr>\n",
              "    <tr>\n",
              "      <th>2</th>\n",
              "      <td>0.30</td>\n",
              "      <td>0.53</td>\n",
              "      <td>0.0960</td>\n",
              "      <td>1.53</td>\n",
              "      <td>1.10</td>\n",
              "      <td>19.30</td>\n",
              "      <td>0.7900</td>\n",
              "      <td>16.80</td>\n",
              "      <td>0</td>\n",
              "      <td>0</td>\n",
              "    </tr>\n",
              "    <tr>\n",
              "      <th>3</th>\n",
              "      <td>0.20</td>\n",
              "      <td>0.70</td>\n",
              "      <td>0.0400</td>\n",
              "      <td>1.53</td>\n",
              "      <td>1.08</td>\n",
              "      <td>20.06</td>\n",
              "      <td>0.6725</td>\n",
              "      <td>13.03</td>\n",
              "      <td>0</td>\n",
              "      <td>4</td>\n",
              "    </tr>\n",
              "    <tr>\n",
              "      <th>4</th>\n",
              "      <td>0.40</td>\n",
              "      <td>0.33</td>\n",
              "      <td>1.2100</td>\n",
              "      <td>1.53</td>\n",
              "      <td>1.00</td>\n",
              "      <td>21.46</td>\n",
              "      <td>0.7550</td>\n",
              "      <td>16.16</td>\n",
              "      <td>1</td>\n",
              "      <td>5</td>\n",
              "    </tr>\n",
              "    <tr>\n",
              "      <th>...</th>\n",
              "      <td>...</td>\n",
              "      <td>...</td>\n",
              "      <td>...</td>\n",
              "      <td>...</td>\n",
              "      <td>...</td>\n",
              "      <td>...</td>\n",
              "      <td>...</td>\n",
              "      <td>...</td>\n",
              "      <td>...</td>\n",
              "      <td>...</td>\n",
              "    </tr>\n",
              "    <tr>\n",
              "      <th>602</th>\n",
              "      <td>0.40</td>\n",
              "      <td>0.33</td>\n",
              "      <td>0.0177</td>\n",
              "      <td>1.53</td>\n",
              "      <td>0.96</td>\n",
              "      <td>20.10</td>\n",
              "      <td>0.8300</td>\n",
              "      <td>16.00</td>\n",
              "      <td>1</td>\n",
              "      <td>7</td>\n",
              "    </tr>\n",
              "    <tr>\n",
              "      <th>603</th>\n",
              "      <td>0.20</td>\n",
              "      <td>0.60</td>\n",
              "      <td>0.1000</td>\n",
              "      <td>1.50</td>\n",
              "      <td>1.01</td>\n",
              "      <td>19.80</td>\n",
              "      <td>0.7700</td>\n",
              "      <td>15.59</td>\n",
              "      <td>1</td>\n",
              "      <td>0</td>\n",
              "    </tr>\n",
              "    <tr>\n",
              "      <th>604</th>\n",
              "      <td>0.40</td>\n",
              "      <td>0.33</td>\n",
              "      <td>0.1000</td>\n",
              "      <td>1.50</td>\n",
              "      <td>0.83</td>\n",
              "      <td>14.70</td>\n",
              "      <td>0.6100</td>\n",
              "      <td>7.62</td>\n",
              "      <td>1</td>\n",
              "      <td>0</td>\n",
              "    </tr>\n",
              "    <tr>\n",
              "      <th>605</th>\n",
              "      <td>0.40</td>\n",
              "      <td>0.33</td>\n",
              "      <td>0.1000</td>\n",
              "      <td>1.53</td>\n",
              "      <td>0.96</td>\n",
              "      <td>16.73</td>\n",
              "      <td>0.6500</td>\n",
              "      <td>10.71</td>\n",
              "      <td>1</td>\n",
              "      <td>0</td>\n",
              "    </tr>\n",
              "    <tr>\n",
              "      <th>606</th>\n",
              "      <td>0.40</td>\n",
              "      <td>0.33</td>\n",
              "      <td>0.1000</td>\n",
              "      <td>1.53</td>\n",
              "      <td>0.98</td>\n",
              "      <td>16.85</td>\n",
              "      <td>0.7300</td>\n",
              "      <td>11.32</td>\n",
              "      <td>1</td>\n",
              "      <td>0</td>\n",
              "    </tr>\n",
              "  </tbody>\n",
              "</table>\n",
              "<p>607 rows × 10 columns</p>\n",
              "</div>\n",
              "      <button class=\"colab-df-convert\" onclick=\"convertToInteractive('df-dfd45963-968d-49ae-b8df-76b60f036c4d')\"\n",
              "              title=\"Convert this dataframe to an interactive table.\"\n",
              "              style=\"display:none;\">\n",
              "\n",
              "  <svg xmlns=\"http://www.w3.org/2000/svg\" height=\"24px\"viewBox=\"0 0 24 24\"\n",
              "       width=\"24px\">\n",
              "    <path d=\"M0 0h24v24H0V0z\" fill=\"none\"/>\n",
              "    <path d=\"M18.56 5.44l.94 2.06.94-2.06 2.06-.94-2.06-.94-.94-2.06-.94 2.06-2.06.94zm-11 1L8.5 8.5l.94-2.06 2.06-.94-2.06-.94L8.5 2.5l-.94 2.06-2.06.94zm10 10l.94 2.06.94-2.06 2.06-.94-2.06-.94-.94-2.06-.94 2.06-2.06.94z\"/><path d=\"M17.41 7.96l-1.37-1.37c-.4-.4-.92-.59-1.43-.59-.52 0-1.04.2-1.43.59L10.3 9.45l-7.72 7.72c-.78.78-.78 2.05 0 2.83L4 21.41c.39.39.9.59 1.41.59.51 0 1.02-.2 1.41-.59l7.78-7.78 2.81-2.81c.8-.78.8-2.07 0-2.86zM5.41 20L4 18.59l7.72-7.72 1.47 1.35L5.41 20z\"/>\n",
              "  </svg>\n",
              "      </button>\n",
              "\n",
              "\n",
              "\n",
              "    <div id=\"df-6afdbb2a-714b-4957-8184-fee49a738ea7\">\n",
              "      <button class=\"colab-df-quickchart\" onclick=\"quickchart('df-6afdbb2a-714b-4957-8184-fee49a738ea7')\"\n",
              "              title=\"Suggest charts.\"\n",
              "              style=\"display:none;\">\n",
              "\n",
              "<svg xmlns=\"http://www.w3.org/2000/svg\" height=\"24px\"viewBox=\"0 0 24 24\"\n",
              "     width=\"24px\">\n",
              "    <g>\n",
              "        <path d=\"M19 3H5c-1.1 0-2 .9-2 2v14c0 1.1.9 2 2 2h14c1.1 0 2-.9 2-2V5c0-1.1-.9-2-2-2zM9 17H7v-7h2v7zm4 0h-2V7h2v10zm4 0h-2v-4h2v4z\"/>\n",
              "    </g>\n",
              "</svg>\n",
              "      </button>\n",
              "    </div>\n",
              "\n",
              "<style>\n",
              "  .colab-df-quickchart {\n",
              "    background-color: #E8F0FE;\n",
              "    border: none;\n",
              "    border-radius: 50%;\n",
              "    cursor: pointer;\n",
              "    display: none;\n",
              "    fill: #1967D2;\n",
              "    height: 32px;\n",
              "    padding: 0 0 0 0;\n",
              "    width: 32px;\n",
              "  }\n",
              "\n",
              "  .colab-df-quickchart:hover {\n",
              "    background-color: #E2EBFA;\n",
              "    box-shadow: 0px 1px 2px rgba(60, 64, 67, 0.3), 0px 1px 3px 1px rgba(60, 64, 67, 0.15);\n",
              "    fill: #174EA6;\n",
              "  }\n",
              "\n",
              "  [theme=dark] .colab-df-quickchart {\n",
              "    background-color: #3B4455;\n",
              "    fill: #D2E3FC;\n",
              "  }\n",
              "\n",
              "  [theme=dark] .colab-df-quickchart:hover {\n",
              "    background-color: #434B5C;\n",
              "    box-shadow: 0px 1px 3px 1px rgba(0, 0, 0, 0.15);\n",
              "    filter: drop-shadow(0px 1px 2px rgba(0, 0, 0, 0.3));\n",
              "    fill: #FFFFFF;\n",
              "  }\n",
              "</style>\n",
              "\n",
              "    <script>\n",
              "      async function quickchart(key) {\n",
              "        const containerElement = document.querySelector('#' + key);\n",
              "        const charts = await google.colab.kernel.invokeFunction(\n",
              "            'suggestCharts', [key], {});\n",
              "      }\n",
              "    </script>\n",
              "\n",
              "      <script>\n",
              "\n",
              "function displayQuickchartButton(domScope) {\n",
              "  let quickchartButtonEl =\n",
              "    domScope.querySelector('#df-6afdbb2a-714b-4957-8184-fee49a738ea7 button.colab-df-quickchart');\n",
              "  quickchartButtonEl.style.display =\n",
              "    google.colab.kernel.accessAllowed ? 'block' : 'none';\n",
              "}\n",
              "\n",
              "        displayQuickchartButton(document);\n",
              "      </script>\n",
              "      <style>\n",
              "    .colab-df-container {\n",
              "      display:flex;\n",
              "      flex-wrap:wrap;\n",
              "      gap: 12px;\n",
              "    }\n",
              "\n",
              "    .colab-df-convert {\n",
              "      background-color: #E8F0FE;\n",
              "      border: none;\n",
              "      border-radius: 50%;\n",
              "      cursor: pointer;\n",
              "      display: none;\n",
              "      fill: #1967D2;\n",
              "      height: 32px;\n",
              "      padding: 0 0 0 0;\n",
              "      width: 32px;\n",
              "    }\n",
              "\n",
              "    .colab-df-convert:hover {\n",
              "      background-color: #E2EBFA;\n",
              "      box-shadow: 0px 1px 2px rgba(60, 64, 67, 0.3), 0px 1px 3px 1px rgba(60, 64, 67, 0.15);\n",
              "      fill: #174EA6;\n",
              "    }\n",
              "\n",
              "    [theme=dark] .colab-df-convert {\n",
              "      background-color: #3B4455;\n",
              "      fill: #D2E3FC;\n",
              "    }\n",
              "\n",
              "    [theme=dark] .colab-df-convert:hover {\n",
              "      background-color: #434B5C;\n",
              "      box-shadow: 0px 1px 3px 1px rgba(0, 0, 0, 0.15);\n",
              "      filter: drop-shadow(0px 1px 2px rgba(0, 0, 0, 0.3));\n",
              "      fill: #FFFFFF;\n",
              "    }\n",
              "  </style>\n",
              "\n",
              "      <script>\n",
              "        const buttonEl =\n",
              "          document.querySelector('#df-dfd45963-968d-49ae-b8df-76b60f036c4d button.colab-df-convert');\n",
              "        buttonEl.style.display =\n",
              "          google.colab.kernel.accessAllowed ? 'block' : 'none';\n",
              "\n",
              "        async function convertToInteractive(key) {\n",
              "          const element = document.querySelector('#df-dfd45963-968d-49ae-b8df-76b60f036c4d');\n",
              "          const dataTable =\n",
              "            await google.colab.kernel.invokeFunction('convertToInteractive',\n",
              "                                                     [key], {});\n",
              "          if (!dataTable) return;\n",
              "\n",
              "          const docLinkHtml = 'Like what you see? Visit the ' +\n",
              "            '<a target=\"_blank\" href=https://colab.research.google.com/notebooks/data_table.ipynb>data table notebook</a>'\n",
              "            + ' to learn more about interactive tables.';\n",
              "          element.innerHTML = '';\n",
              "          dataTable['output_type'] = 'display_data';\n",
              "          await google.colab.output.renderOutput(dataTable, element);\n",
              "          const docLink = document.createElement('div');\n",
              "          docLink.innerHTML = docLinkHtml;\n",
              "          element.appendChild(docLink);\n",
              "        }\n",
              "      </script>\n",
              "    </div>\n",
              "  </div>\n"
            ]
          },
          "metadata": {},
          "execution_count": 17
        }
      ]
    },
    {
      "cell_type": "code",
      "source": [
        "df.keys()"
      ],
      "metadata": {
        "colab": {
          "base_uri": "https://localhost:8080/"
        },
        "id": "4yjXnCLDHmNZ",
        "outputId": "2a416fc4-fd1c-4070-e4c8-9aaaf549414c"
      },
      "execution_count": 18,
      "outputs": [
        {
          "output_type": "execute_result",
          "data": {
            "text/plain": [
              "Index(['?H(DOI)', '?L(DOI)', 'Cell_area_measured', 'Perovskite_band_gap',\n",
              "       'Voc', 'Jsc', 'FF', 'PCE', 'Cell_architecture',\n",
              "       'Substrate_stack_sequence'],\n",
              "      dtype='object')"
            ]
          },
          "metadata": {},
          "execution_count": 18
        }
      ]
    },
    {
      "cell_type": "code",
      "source": [
        "df=df[['?H(DOI)', '?L(DOI)', 'Cell_area_measured','Cell_architecture','Perovskite_band_gap',\n",
        "       'Substrate_stack_sequence','Voc']]"
      ],
      "metadata": {
        "id": "BHNU77wXHpiH"
      },
      "execution_count": 19,
      "outputs": []
    },
    {
      "cell_type": "code",
      "source": [
        "df"
      ],
      "metadata": {
        "colab": {
          "base_uri": "https://localhost:8080/",
          "height": 423
        },
        "id": "n5jAs1R5G5H3",
        "outputId": "57c10b4a-c6bc-42cb-be49-0afeec90b3f7"
      },
      "execution_count": 20,
      "outputs": [
        {
          "output_type": "execute_result",
          "data": {
            "text/plain": [
              "     ?H(DOI)  ?L(DOI)  Cell_area_measured  Cell_architecture  \\\n",
              "0       0.06     0.06              0.1000                  0   \n",
              "1       0.20     0.80              0.0756                  0   \n",
              "2       0.30     0.53              0.0960                  0   \n",
              "3       0.20     0.70              0.0400                  0   \n",
              "4       0.40     0.33              1.2100                  1   \n",
              "..       ...      ...                 ...                ...   \n",
              "602     0.40     0.33              0.0177                  1   \n",
              "603     0.20     0.60              0.1000                  1   \n",
              "604     0.40     0.33              0.1000                  1   \n",
              "605     0.40     0.33              0.1000                  1   \n",
              "606     0.40     0.33              0.1000                  1   \n",
              "\n",
              "     Perovskite_band_gap  Substrate_stack_sequence   Voc  \n",
              "0                   1.60                         4  1.01  \n",
              "1                   1.60                         0  0.97  \n",
              "2                   1.53                         0  1.10  \n",
              "3                   1.53                         4  1.08  \n",
              "4                   1.53                         5  1.00  \n",
              "..                   ...                       ...   ...  \n",
              "602                 1.53                         7  0.96  \n",
              "603                 1.50                         0  1.01  \n",
              "604                 1.50                         0  0.83  \n",
              "605                 1.53                         0  0.96  \n",
              "606                 1.53                         0  0.98  \n",
              "\n",
              "[607 rows x 7 columns]"
            ],
            "text/html": [
              "\n",
              "\n",
              "  <div id=\"df-fd93cfe9-4d30-45b1-bde5-cf95e90c97b4\">\n",
              "    <div class=\"colab-df-container\">\n",
              "      <div>\n",
              "<style scoped>\n",
              "    .dataframe tbody tr th:only-of-type {\n",
              "        vertical-align: middle;\n",
              "    }\n",
              "\n",
              "    .dataframe tbody tr th {\n",
              "        vertical-align: top;\n",
              "    }\n",
              "\n",
              "    .dataframe thead th {\n",
              "        text-align: right;\n",
              "    }\n",
              "</style>\n",
              "<table border=\"1\" class=\"dataframe\">\n",
              "  <thead>\n",
              "    <tr style=\"text-align: right;\">\n",
              "      <th></th>\n",
              "      <th>?H(DOI)</th>\n",
              "      <th>?L(DOI)</th>\n",
              "      <th>Cell_area_measured</th>\n",
              "      <th>Cell_architecture</th>\n",
              "      <th>Perovskite_band_gap</th>\n",
              "      <th>Substrate_stack_sequence</th>\n",
              "      <th>Voc</th>\n",
              "    </tr>\n",
              "  </thead>\n",
              "  <tbody>\n",
              "    <tr>\n",
              "      <th>0</th>\n",
              "      <td>0.06</td>\n",
              "      <td>0.06</td>\n",
              "      <td>0.1000</td>\n",
              "      <td>0</td>\n",
              "      <td>1.60</td>\n",
              "      <td>4</td>\n",
              "      <td>1.01</td>\n",
              "    </tr>\n",
              "    <tr>\n",
              "      <th>1</th>\n",
              "      <td>0.20</td>\n",
              "      <td>0.80</td>\n",
              "      <td>0.0756</td>\n",
              "      <td>0</td>\n",
              "      <td>1.60</td>\n",
              "      <td>0</td>\n",
              "      <td>0.97</td>\n",
              "    </tr>\n",
              "    <tr>\n",
              "      <th>2</th>\n",
              "      <td>0.30</td>\n",
              "      <td>0.53</td>\n",
              "      <td>0.0960</td>\n",
              "      <td>0</td>\n",
              "      <td>1.53</td>\n",
              "      <td>0</td>\n",
              "      <td>1.10</td>\n",
              "    </tr>\n",
              "    <tr>\n",
              "      <th>3</th>\n",
              "      <td>0.20</td>\n",
              "      <td>0.70</td>\n",
              "      <td>0.0400</td>\n",
              "      <td>0</td>\n",
              "      <td>1.53</td>\n",
              "      <td>4</td>\n",
              "      <td>1.08</td>\n",
              "    </tr>\n",
              "    <tr>\n",
              "      <th>4</th>\n",
              "      <td>0.40</td>\n",
              "      <td>0.33</td>\n",
              "      <td>1.2100</td>\n",
              "      <td>1</td>\n",
              "      <td>1.53</td>\n",
              "      <td>5</td>\n",
              "      <td>1.00</td>\n",
              "    </tr>\n",
              "    <tr>\n",
              "      <th>...</th>\n",
              "      <td>...</td>\n",
              "      <td>...</td>\n",
              "      <td>...</td>\n",
              "      <td>...</td>\n",
              "      <td>...</td>\n",
              "      <td>...</td>\n",
              "      <td>...</td>\n",
              "    </tr>\n",
              "    <tr>\n",
              "      <th>602</th>\n",
              "      <td>0.40</td>\n",
              "      <td>0.33</td>\n",
              "      <td>0.0177</td>\n",
              "      <td>1</td>\n",
              "      <td>1.53</td>\n",
              "      <td>7</td>\n",
              "      <td>0.96</td>\n",
              "    </tr>\n",
              "    <tr>\n",
              "      <th>603</th>\n",
              "      <td>0.20</td>\n",
              "      <td>0.60</td>\n",
              "      <td>0.1000</td>\n",
              "      <td>1</td>\n",
              "      <td>1.50</td>\n",
              "      <td>0</td>\n",
              "      <td>1.01</td>\n",
              "    </tr>\n",
              "    <tr>\n",
              "      <th>604</th>\n",
              "      <td>0.40</td>\n",
              "      <td>0.33</td>\n",
              "      <td>0.1000</td>\n",
              "      <td>1</td>\n",
              "      <td>1.50</td>\n",
              "      <td>0</td>\n",
              "      <td>0.83</td>\n",
              "    </tr>\n",
              "    <tr>\n",
              "      <th>605</th>\n",
              "      <td>0.40</td>\n",
              "      <td>0.33</td>\n",
              "      <td>0.1000</td>\n",
              "      <td>1</td>\n",
              "      <td>1.53</td>\n",
              "      <td>0</td>\n",
              "      <td>0.96</td>\n",
              "    </tr>\n",
              "    <tr>\n",
              "      <th>606</th>\n",
              "      <td>0.40</td>\n",
              "      <td>0.33</td>\n",
              "      <td>0.1000</td>\n",
              "      <td>1</td>\n",
              "      <td>1.53</td>\n",
              "      <td>0</td>\n",
              "      <td>0.98</td>\n",
              "    </tr>\n",
              "  </tbody>\n",
              "</table>\n",
              "<p>607 rows × 7 columns</p>\n",
              "</div>\n",
              "      <button class=\"colab-df-convert\" onclick=\"convertToInteractive('df-fd93cfe9-4d30-45b1-bde5-cf95e90c97b4')\"\n",
              "              title=\"Convert this dataframe to an interactive table.\"\n",
              "              style=\"display:none;\">\n",
              "\n",
              "  <svg xmlns=\"http://www.w3.org/2000/svg\" height=\"24px\"viewBox=\"0 0 24 24\"\n",
              "       width=\"24px\">\n",
              "    <path d=\"M0 0h24v24H0V0z\" fill=\"none\"/>\n",
              "    <path d=\"M18.56 5.44l.94 2.06.94-2.06 2.06-.94-2.06-.94-.94-2.06-.94 2.06-2.06.94zm-11 1L8.5 8.5l.94-2.06 2.06-.94-2.06-.94L8.5 2.5l-.94 2.06-2.06.94zm10 10l.94 2.06.94-2.06 2.06-.94-2.06-.94-.94-2.06-.94 2.06-2.06.94z\"/><path d=\"M17.41 7.96l-1.37-1.37c-.4-.4-.92-.59-1.43-.59-.52 0-1.04.2-1.43.59L10.3 9.45l-7.72 7.72c-.78.78-.78 2.05 0 2.83L4 21.41c.39.39.9.59 1.41.59.51 0 1.02-.2 1.41-.59l7.78-7.78 2.81-2.81c.8-.78.8-2.07 0-2.86zM5.41 20L4 18.59l7.72-7.72 1.47 1.35L5.41 20z\"/>\n",
              "  </svg>\n",
              "      </button>\n",
              "\n",
              "\n",
              "\n",
              "    <div id=\"df-ba393563-7a08-4ee4-a2fa-4ca9f064b2e9\">\n",
              "      <button class=\"colab-df-quickchart\" onclick=\"quickchart('df-ba393563-7a08-4ee4-a2fa-4ca9f064b2e9')\"\n",
              "              title=\"Suggest charts.\"\n",
              "              style=\"display:none;\">\n",
              "\n",
              "<svg xmlns=\"http://www.w3.org/2000/svg\" height=\"24px\"viewBox=\"0 0 24 24\"\n",
              "     width=\"24px\">\n",
              "    <g>\n",
              "        <path d=\"M19 3H5c-1.1 0-2 .9-2 2v14c0 1.1.9 2 2 2h14c1.1 0 2-.9 2-2V5c0-1.1-.9-2-2-2zM9 17H7v-7h2v7zm4 0h-2V7h2v10zm4 0h-2v-4h2v4z\"/>\n",
              "    </g>\n",
              "</svg>\n",
              "      </button>\n",
              "    </div>\n",
              "\n",
              "<style>\n",
              "  .colab-df-quickchart {\n",
              "    background-color: #E8F0FE;\n",
              "    border: none;\n",
              "    border-radius: 50%;\n",
              "    cursor: pointer;\n",
              "    display: none;\n",
              "    fill: #1967D2;\n",
              "    height: 32px;\n",
              "    padding: 0 0 0 0;\n",
              "    width: 32px;\n",
              "  }\n",
              "\n",
              "  .colab-df-quickchart:hover {\n",
              "    background-color: #E2EBFA;\n",
              "    box-shadow: 0px 1px 2px rgba(60, 64, 67, 0.3), 0px 1px 3px 1px rgba(60, 64, 67, 0.15);\n",
              "    fill: #174EA6;\n",
              "  }\n",
              "\n",
              "  [theme=dark] .colab-df-quickchart {\n",
              "    background-color: #3B4455;\n",
              "    fill: #D2E3FC;\n",
              "  }\n",
              "\n",
              "  [theme=dark] .colab-df-quickchart:hover {\n",
              "    background-color: #434B5C;\n",
              "    box-shadow: 0px 1px 3px 1px rgba(0, 0, 0, 0.15);\n",
              "    filter: drop-shadow(0px 1px 2px rgba(0, 0, 0, 0.3));\n",
              "    fill: #FFFFFF;\n",
              "  }\n",
              "</style>\n",
              "\n",
              "    <script>\n",
              "      async function quickchart(key) {\n",
              "        const containerElement = document.querySelector('#' + key);\n",
              "        const charts = await google.colab.kernel.invokeFunction(\n",
              "            'suggestCharts', [key], {});\n",
              "      }\n",
              "    </script>\n",
              "\n",
              "      <script>\n",
              "\n",
              "function displayQuickchartButton(domScope) {\n",
              "  let quickchartButtonEl =\n",
              "    domScope.querySelector('#df-ba393563-7a08-4ee4-a2fa-4ca9f064b2e9 button.colab-df-quickchart');\n",
              "  quickchartButtonEl.style.display =\n",
              "    google.colab.kernel.accessAllowed ? 'block' : 'none';\n",
              "}\n",
              "\n",
              "        displayQuickchartButton(document);\n",
              "      </script>\n",
              "      <style>\n",
              "    .colab-df-container {\n",
              "      display:flex;\n",
              "      flex-wrap:wrap;\n",
              "      gap: 12px;\n",
              "    }\n",
              "\n",
              "    .colab-df-convert {\n",
              "      background-color: #E8F0FE;\n",
              "      border: none;\n",
              "      border-radius: 50%;\n",
              "      cursor: pointer;\n",
              "      display: none;\n",
              "      fill: #1967D2;\n",
              "      height: 32px;\n",
              "      padding: 0 0 0 0;\n",
              "      width: 32px;\n",
              "    }\n",
              "\n",
              "    .colab-df-convert:hover {\n",
              "      background-color: #E2EBFA;\n",
              "      box-shadow: 0px 1px 2px rgba(60, 64, 67, 0.3), 0px 1px 3px 1px rgba(60, 64, 67, 0.15);\n",
              "      fill: #174EA6;\n",
              "    }\n",
              "\n",
              "    [theme=dark] .colab-df-convert {\n",
              "      background-color: #3B4455;\n",
              "      fill: #D2E3FC;\n",
              "    }\n",
              "\n",
              "    [theme=dark] .colab-df-convert:hover {\n",
              "      background-color: #434B5C;\n",
              "      box-shadow: 0px 1px 3px 1px rgba(0, 0, 0, 0.15);\n",
              "      filter: drop-shadow(0px 1px 2px rgba(0, 0, 0, 0.3));\n",
              "      fill: #FFFFFF;\n",
              "    }\n",
              "  </style>\n",
              "\n",
              "      <script>\n",
              "        const buttonEl =\n",
              "          document.querySelector('#df-fd93cfe9-4d30-45b1-bde5-cf95e90c97b4 button.colab-df-convert');\n",
              "        buttonEl.style.display =\n",
              "          google.colab.kernel.accessAllowed ? 'block' : 'none';\n",
              "\n",
              "        async function convertToInteractive(key) {\n",
              "          const element = document.querySelector('#df-fd93cfe9-4d30-45b1-bde5-cf95e90c97b4');\n",
              "          const dataTable =\n",
              "            await google.colab.kernel.invokeFunction('convertToInteractive',\n",
              "                                                     [key], {});\n",
              "          if (!dataTable) return;\n",
              "\n",
              "          const docLinkHtml = 'Like what you see? Visit the ' +\n",
              "            '<a target=\"_blank\" href=https://colab.research.google.com/notebooks/data_table.ipynb>data table notebook</a>'\n",
              "            + ' to learn more about interactive tables.';\n",
              "          element.innerHTML = '';\n",
              "          dataTable['output_type'] = 'display_data';\n",
              "          await google.colab.output.renderOutput(dataTable, element);\n",
              "          const docLink = document.createElement('div');\n",
              "          docLink.innerHTML = docLinkHtml;\n",
              "          element.appendChild(docLink);\n",
              "        }\n",
              "      </script>\n",
              "    </div>\n",
              "  </div>\n"
            ]
          },
          "metadata": {},
          "execution_count": 20
        }
      ]
    },
    {
      "cell_type": "code",
      "source": [
        "from google.colab import drive\n",
        "drive.mount('/content/drive')"
      ],
      "metadata": {
        "colab": {
          "base_uri": "https://localhost:8080/"
        },
        "id": "9ZAu90S4G77K",
        "outputId": "ea3b1a66-52d3-4b0e-c9c4-e6d5491d740f"
      },
      "execution_count": 21,
      "outputs": [
        {
          "output_type": "stream",
          "name": "stdout",
          "text": [
            "Mounted at /content/drive\n"
          ]
        }
      ]
    },
    {
      "cell_type": "code",
      "source": [
        "from sklearn.model_selection import KFold, cross_val_score\n",
        "from sklearn.model_selection import KFold\n",
        "KFold\n",
        "\n",
        "seed=40\n",
        "kfold=KFold(10,shuffle=True,random_state=seed)\n",
        "i=0\n",
        "for tr, ts in kfold.split(df):\n",
        "  train=df.iloc[tr]\n",
        "  test=df.iloc[ts]\n",
        "  tr_data_X=train.iloc[:,:-1]\n",
        "  tr_data_Y=train.iloc[:,-1]\n",
        "  ts_data_X=test.iloc[:,:-1]\n",
        "  ts_data_Y=test.iloc[:,-1]\n",
        "  if (i==1):\n",
        "\n",
        "     np.savetxt('/content/drive/MyDrive/sbg_flexible/generated voc/generated_train_1.csv',train,delimiter=\",\")\n",
        "     np.savetxt('/content/drive/MyDrive/sbg_flexible/generated voc/generated_test_1.csv',test, delimiter=\",\")\n",
        "\n",
        "     print(ts)\n",
        "  i=i+1"
      ],
      "metadata": {
        "colab": {
          "base_uri": "https://localhost:8080/"
        },
        "id": "pdNp6waERvfG",
        "outputId": "efe6d0ce-45b2-4bd1-8763-3a1eb88e88fe"
      },
      "execution_count": 22,
      "outputs": [
        {
          "output_type": "stream",
          "name": "stdout",
          "text": [
            "[  2  18  26  43  48  77 106 110 112 114 120 140 141 150 154 166 177 202\n",
            " 221 223 227 232 243 253 261 274 275 277 290 316 318 320 345 346 356 359\n",
            " 369 371 372 375 390 403 408 414 422 447 453 488 494 502 504 522 527 547\n",
            " 551 559 565 571 576 587 596]\n"
          ]
        }
      ]
    },
    {
      "cell_type": "code",
      "source": [
        "training_data_df=pd.read_csv('/content/drive/MyDrive/sbg_flexible/generated voc/generated_train_1.csv',header=None)\n",
        "training_data=training_data_df.to_numpy()\n",
        "print(training_data)\n",
        "print(training_data.shape)"
      ],
      "metadata": {
        "colab": {
          "base_uri": "https://localhost:8080/"
        },
        "id": "bk9GD4wqHafT",
        "outputId": "7e2145a2-d353-474a-a618-657840d245f0"
      },
      "execution_count": 23,
      "outputs": [
        {
          "output_type": "stream",
          "name": "stdout",
          "text": [
            "[[0.06   0.06   0.1    ... 1.6    4.     1.01  ]\n",
            " [0.2    0.8    0.0756 ... 1.6    0.     0.97  ]\n",
            " [0.2    0.7    0.04   ... 1.53   4.     1.08  ]\n",
            " ...\n",
            " [0.4    0.33   0.1    ... 1.5    0.     0.83  ]\n",
            " [0.4    0.33   0.1    ... 1.53   0.     0.96  ]\n",
            " [0.4    0.33   0.1    ... 1.53   0.     0.98  ]]\n",
            "(546, 7)\n"
          ]
        }
      ]
    },
    {
      "cell_type": "code",
      "source": [
        "test_data_df=pd.read_csv(\"/content/drive/MyDrive/sbg_flexible/generated voc/generated_test_1.csv\",header=None)\n",
        "test_data=test_data_df.to_numpy()\n",
        "print(test_data)\n",
        "print(test_data.shape)"
      ],
      "metadata": {
        "colab": {
          "base_uri": "https://localhost:8080/"
        },
        "id": "MpWxOH1zHjZ2",
        "outputId": "5320bab4-5e88-4a42-ad9c-4c5ad2c64bdf"
      },
      "execution_count": 24,
      "outputs": [
        {
          "output_type": "stream",
          "name": "stdout",
          "text": [
            "[[ 0.3      0.53     0.096    0.       1.53     0.       1.1    ]\n",
            " [ 0.2      0.5      0.09     0.       1.5      0.       1.03   ]\n",
            " [ 0.3      0.53     0.096    0.       1.53     0.       1.13   ]\n",
            " [ 0.27     0.41     1.       0.       1.5      6.       0.94   ]\n",
            " [ 0.2      0.4      0.1      0.       1.5      4.       1.058  ]\n",
            " [ 0.4      0.6      0.1      1.       1.53     7.       0.88   ]\n",
            " [ 0.2      0.17     3.1      0.       1.53     4.       1.11   ]\n",
            " [ 0.5      0.3      3.15     0.       1.5      7.       0.76   ]\n",
            " [ 0.21     0.87     0.12     0.       1.53     4.       1.91   ]\n",
            " [ 0.4      0.33     0.1      1.       1.5      7.       0.99   ]\n",
            " [ 0.2     -0.1      0.112    0.       1.5      0.       1.06   ]\n",
            " [ 0.23     0.27     0.06     1.       1.5      0.       1.1    ]\n",
            " [ 0.23     0.27     0.06     1.       1.5      0.       1.05   ]\n",
            " [ 0.24     0.1      0.08     1.       1.5      2.       1.12   ]\n",
            " [ 0.2      0.43     0.1      0.       1.53     0.       1.03   ]\n",
            " [ 0.2      0.04     1.4      0.       1.57     4.       1.061  ]\n",
            " [ 0.2      0.3      1.02     1.       1.5      4.       1.02   ]\n",
            " [ 0.24     0.8      0.12     1.       1.7      7.       0.95   ]\n",
            " [ 0.33     0.37     0.11     1.       1.5      0.       1.02   ]\n",
            " [ 0.2      0.43     0.12     0.       1.53     0.       1.04   ]\n",
            " [ 0.36     0.3      0.0464   1.       1.5      2.       1.045  ]\n",
            " [ 0.08     0.635    0.16     0.       1.645    0.       1.169  ]\n",
            " [ 0.2      0.3      0.1      0.       1.5      2.       1.05   ]\n",
            " [ 0.2      0.33     0.0177   1.       1.5      7.       1.     ]\n",
            " [ 0.2      0.53     0.09     0.       1.53     4.       1.145  ]\n",
            " [ 0.3      0.6      0.06     1.       1.5      2.       1.02   ]\n",
            " [ 0.22     0.6      0.06     1.       1.5      2.       0.97   ]\n",
            " [ 0.2      0.75     0.1      1.       1.49     7.       0.86   ]\n",
            " [ 0.2      0.6      1.       0.       1.72     4.       1.14   ]\n",
            " [ 0.2      0.18     0.09     0.       1.5      0.       1.08   ]\n",
            " [ 0.2      0.53     0.07065  0.       1.53     0.       0.46   ]\n",
            " [ 0.26     0.61     0.1      1.       1.57     0.       0.85   ]\n",
            " [ 0.2      0.51     0.1      1.       1.56     7.       1.03   ]\n",
            " [ 0.2      0.16     0.1      0.       1.55     4.       0.9    ]\n",
            " [ 0.1      0.8      0.1      1.       1.5      4.       0.84   ]\n",
            " [ 0.4      0.33     0.1      1.       1.53     7.       0.943  ]\n",
            " [ 0.1      0.1      0.0314   0.       1.5      0.       1.13   ]\n",
            " [ 0.2      0.33     0.06     1.       1.53     0.       0.97   ]\n",
            " [ 0.2     -0.37     0.15     0.       1.53     7.       1.05   ]\n",
            " [ 0.2      0.33     0.15     0.       1.53     7.       1.09   ]\n",
            " [ 0.38     0.47     0.09     0.       1.55     0.       1.06   ]\n",
            " [ 0.2      0.33     0.04     1.       1.53     7.       0.93   ]\n",
            " [ 0.2      0.43     0.14     0.       1.5      4.       1.05   ]\n",
            " [ 0.2      0.6      0.14     0.       1.5      4.       1.12   ]\n",
            " [ 0.2      0.43     0.1      0.       1.53     6.       0.86   ]\n",
            " [ 0.4      0.1      0.1      1.       1.5      0.       0.87   ]\n",
            " [ 0.2      0.1      0.09     1.       1.5      5.       1.05   ]\n",
            " [ 0.2      0.33     0.05     0.       1.5      4.       1.06   ]\n",
            " [ 0.14     0.1      0.1      1.       1.5      0.       1.064  ]\n",
            " [ 0.7      0.1      0.1      1.       1.5      2.       0.94   ]\n",
            " [ 0.4      0.33    10.       1.       1.53     7.       1.01   ]\n",
            " [ 0.2      0.53     0.1      0.       1.53     2.       0.94   ]\n",
            " [ 0.2      0.3      0.1      1.       1.5      0.       0.75   ]\n",
            " [ 0.2      0.4      0.12     0.       1.45     0.       1.074  ]\n",
            " [ 0.2      0.22     0.09     0.       1.5      4.       1.     ]\n",
            " [ 0.2      0.3      0.1      0.       1.5      0.       0.99   ]\n",
            " [ 0.2      0.43     0.1      1.       1.5      0.       1.07   ]\n",
            " [ 0.4      0.33     0.11     1.       1.53     0.       0.91   ]\n",
            " [ 0.2      0.7      0.0708   0.       1.5      7.       0.8    ]\n",
            " [ 0.05     0.4      0.05     1.       1.5      4.       0.88   ]\n",
            " [ 0.3      0.53     0.213    1.       1.53     7.       0.428  ]]\n",
            "(61, 7)\n"
          ]
        }
      ]
    },
    {
      "cell_type": "code",
      "source": [
        "ts_data_X=test_data[:,:-1]\n",
        "ts_data_Y=test_data[:,-1]\n",
        "print(ts_data_Y.shape)\n",
        "print(ts_data_X.shape)"
      ],
      "metadata": {
        "colab": {
          "base_uri": "https://localhost:8080/"
        },
        "id": "eEKIBHqcHx6G",
        "outputId": "5da7bdfe-c39d-4efa-d99c-b99be9b86ace"
      },
      "execution_count": 25,
      "outputs": [
        {
          "output_type": "stream",
          "name": "stdout",
          "text": [
            "(61,)\n",
            "(61, 6)\n"
          ]
        }
      ]
    },
    {
      "cell_type": "code",
      "source": [
        "from sklearn.linear_model import LinearRegression\n",
        "lr = LinearRegression()\n",
        "lr.fit( tr_data_X,  tr_data_Y)"
      ],
      "metadata": {
        "colab": {
          "base_uri": "https://localhost:8080/",
          "height": 74
        },
        "id": "wRgtGRS9H-Dm",
        "outputId": "7c1f2365-1048-4a31-e290-a281dca1f368"
      },
      "execution_count": 26,
      "outputs": [
        {
          "output_type": "execute_result",
          "data": {
            "text/plain": [
              "LinearRegression()"
            ],
            "text/html": [
              "<style>#sk-container-id-1 {color: black;background-color: white;}#sk-container-id-1 pre{padding: 0;}#sk-container-id-1 div.sk-toggleable {background-color: white;}#sk-container-id-1 label.sk-toggleable__label {cursor: pointer;display: block;width: 100%;margin-bottom: 0;padding: 0.3em;box-sizing: border-box;text-align: center;}#sk-container-id-1 label.sk-toggleable__label-arrow:before {content: \"▸\";float: left;margin-right: 0.25em;color: #696969;}#sk-container-id-1 label.sk-toggleable__label-arrow:hover:before {color: black;}#sk-container-id-1 div.sk-estimator:hover label.sk-toggleable__label-arrow:before {color: black;}#sk-container-id-1 div.sk-toggleable__content {max-height: 0;max-width: 0;overflow: hidden;text-align: left;background-color: #f0f8ff;}#sk-container-id-1 div.sk-toggleable__content pre {margin: 0.2em;color: black;border-radius: 0.25em;background-color: #f0f8ff;}#sk-container-id-1 input.sk-toggleable__control:checked~div.sk-toggleable__content {max-height: 200px;max-width: 100%;overflow: auto;}#sk-container-id-1 input.sk-toggleable__control:checked~label.sk-toggleable__label-arrow:before {content: \"▾\";}#sk-container-id-1 div.sk-estimator input.sk-toggleable__control:checked~label.sk-toggleable__label {background-color: #d4ebff;}#sk-container-id-1 div.sk-label input.sk-toggleable__control:checked~label.sk-toggleable__label {background-color: #d4ebff;}#sk-container-id-1 input.sk-hidden--visually {border: 0;clip: rect(1px 1px 1px 1px);clip: rect(1px, 1px, 1px, 1px);height: 1px;margin: -1px;overflow: hidden;padding: 0;position: absolute;width: 1px;}#sk-container-id-1 div.sk-estimator {font-family: monospace;background-color: #f0f8ff;border: 1px dotted black;border-radius: 0.25em;box-sizing: border-box;margin-bottom: 0.5em;}#sk-container-id-1 div.sk-estimator:hover {background-color: #d4ebff;}#sk-container-id-1 div.sk-parallel-item::after {content: \"\";width: 100%;border-bottom: 1px solid gray;flex-grow: 1;}#sk-container-id-1 div.sk-label:hover label.sk-toggleable__label {background-color: #d4ebff;}#sk-container-id-1 div.sk-serial::before {content: \"\";position: absolute;border-left: 1px solid gray;box-sizing: border-box;top: 0;bottom: 0;left: 50%;z-index: 0;}#sk-container-id-1 div.sk-serial {display: flex;flex-direction: column;align-items: center;background-color: white;padding-right: 0.2em;padding-left: 0.2em;position: relative;}#sk-container-id-1 div.sk-item {position: relative;z-index: 1;}#sk-container-id-1 div.sk-parallel {display: flex;align-items: stretch;justify-content: center;background-color: white;position: relative;}#sk-container-id-1 div.sk-item::before, #sk-container-id-1 div.sk-parallel-item::before {content: \"\";position: absolute;border-left: 1px solid gray;box-sizing: border-box;top: 0;bottom: 0;left: 50%;z-index: -1;}#sk-container-id-1 div.sk-parallel-item {display: flex;flex-direction: column;z-index: 1;position: relative;background-color: white;}#sk-container-id-1 div.sk-parallel-item:first-child::after {align-self: flex-end;width: 50%;}#sk-container-id-1 div.sk-parallel-item:last-child::after {align-self: flex-start;width: 50%;}#sk-container-id-1 div.sk-parallel-item:only-child::after {width: 0;}#sk-container-id-1 div.sk-dashed-wrapped {border: 1px dashed gray;margin: 0 0.4em 0.5em 0.4em;box-sizing: border-box;padding-bottom: 0.4em;background-color: white;}#sk-container-id-1 div.sk-label label {font-family: monospace;font-weight: bold;display: inline-block;line-height: 1.2em;}#sk-container-id-1 div.sk-label-container {text-align: center;}#sk-container-id-1 div.sk-container {/* jupyter's `normalize.less` sets `[hidden] { display: none; }` but bootstrap.min.css set `[hidden] { display: none !important; }` so we also need the `!important` here to be able to override the default hidden behavior on the sphinx rendered scikit-learn.org. See: https://github.com/scikit-learn/scikit-learn/issues/21755 */display: inline-block !important;position: relative;}#sk-container-id-1 div.sk-text-repr-fallback {display: none;}</style><div id=\"sk-container-id-1\" class=\"sk-top-container\"><div class=\"sk-text-repr-fallback\"><pre>LinearRegression()</pre><b>In a Jupyter environment, please rerun this cell to show the HTML representation or trust the notebook. <br />On GitHub, the HTML representation is unable to render, please try loading this page with nbviewer.org.</b></div><div class=\"sk-container\" hidden><div class=\"sk-item\"><div class=\"sk-estimator sk-toggleable\"><input class=\"sk-toggleable__control sk-hidden--visually\" id=\"sk-estimator-id-1\" type=\"checkbox\" checked><label for=\"sk-estimator-id-1\" class=\"sk-toggleable__label sk-toggleable__label-arrow\">LinearRegression</label><div class=\"sk-toggleable__content\"><pre>LinearRegression()</pre></div></div></div></div></div>"
            ]
          },
          "metadata": {},
          "execution_count": 26
        }
      ]
    },
    {
      "cell_type": "code",
      "source": [
        "tr_data_Y"
      ],
      "metadata": {
        "colab": {
          "base_uri": "https://localhost:8080/"
        },
        "id": "no9ULTQoFWm8",
        "outputId": "24532e2f-67b3-47ed-b344-3abfd5b2509e"
      },
      "execution_count": 27,
      "outputs": [
        {
          "output_type": "execute_result",
          "data": {
            "text/plain": [
              "0      1.01\n",
              "1      0.97\n",
              "2      1.10\n",
              "3      1.08\n",
              "4      1.00\n",
              "       ... \n",
              "602    0.96\n",
              "603    1.01\n",
              "604    0.83\n",
              "605    0.96\n",
              "606    0.98\n",
              "Name: Voc, Length: 547, dtype: float64"
            ]
          },
          "metadata": {},
          "execution_count": 27
        }
      ]
    },
    {
      "cell_type": "code",
      "source": [
        "y_pred_lr =lr.predict(ts_data_X)\n",
        "y_pred_lr.shape"
      ],
      "metadata": {
        "colab": {
          "base_uri": "https://localhost:8080/"
        },
        "id": "2qSV2qDdIA7Y",
        "outputId": "bf19e93b-840a-4c5b-e1fd-c9d390598cd0"
      },
      "execution_count": 28,
      "outputs": [
        {
          "output_type": "stream",
          "name": "stderr",
          "text": [
            "/usr/local/lib/python3.10/dist-packages/sklearn/base.py:439: UserWarning: X does not have valid feature names, but LinearRegression was fitted with feature names\n",
            "  warnings.warn(\n"
          ]
        },
        {
          "output_type": "execute_result",
          "data": {
            "text/plain": [
              "(61,)"
            ]
          },
          "metadata": {},
          "execution_count": 28
        }
      ]
    },
    {
      "cell_type": "code",
      "source": [],
      "metadata": {
        "id": "FoLmhipr-HK3"
      },
      "execution_count": 28,
      "outputs": []
    },
    {
      "cell_type": "code",
      "source": [
        "import matplotlib.pyplot as plt\n",
        "plt.scatter(ts_data_Y, y_pred_lr)\n",
        "plt.xlabel(\"Actual PCE\")\n",
        "plt.ylabel(\"Predicted PCE\")\n",
        "# plt.ylim(0,25)\n",
        "# plt.xlim(0,25)\n",
        "plt.show()"
      ],
      "metadata": {
        "colab": {
          "base_uri": "https://localhost:8080/",
          "height": 449
        },
        "id": "tEStWkxyIG2w",
        "outputId": "7cca67fc-d9bc-4c3d-cca2-0606434c1e7a"
      },
      "execution_count": 29,
      "outputs": [
        {
          "output_type": "display_data",
          "data": {
            "text/plain": [
              "<Figure size 640x480 with 1 Axes>"
            ],
            "image/png": "[encoded data removed]"
          },
          "metadata": {}
        }
      ]
    },
    {
      "cell_type": "code",
      "source": [
        "from sklearn.metrics import r2_score\n",
        "r2_score(ts_data_Y, y_pred_lr)"
      ],
      "metadata": {
        "colab": {
          "base_uri": "https://localhost:8080/"
        },
        "id": "tixuvobYILfn",
        "outputId": "b73c4c20-952d-4d23-f751-cd444bd7c131"
      },
      "execution_count": 30,
      "outputs": [
        {
          "output_type": "execute_result",
          "data": {
            "text/plain": [
              "0.0531266644378684"
            ]
          },
          "metadata": {},
          "execution_count": 30
        }
      ]
    },
    {
      "cell_type": "code",
      "source": [
        "from sklearn.metrics import mean_squared_error\n",
        "mean_squared_error(ts_data_Y, y_pred_lr)"
      ],
      "metadata": {
        "colab": {
          "base_uri": "https://localhost:8080/"
        },
        "id": "9a0t4z_EIWCW",
        "outputId": "74581dcc-9952-4b17-906b-e9b5791ed067"
      },
      "execution_count": 31,
      "outputs": [
        {
          "output_type": "execute_result",
          "data": {
            "text/plain": [
              "0.031237051577553153"
            ]
          },
          "metadata": {},
          "execution_count": 31
        }
      ]
    },
    {
      "cell_type": "markdown",
      "source": [
        "DTR"
      ],
      "metadata": {
        "id": "tWqfHU2xIyIY"
      }
    },
    {
      "cell_type": "code",
      "source": [
        "import time\n",
        "st = time.time()\n",
        "from sklearn.tree import DecisionTreeRegressor\n",
        "regressor = DecisionTreeRegressor(random_state = 0)\n",
        "regressor.fit(tr_data_X, tr_data_Y)\n"
      ],
      "metadata": {
        "colab": {
          "base_uri": "https://localhost:8080/",
          "height": 74
        },
        "id": "uwfu8t5_IYp2",
        "outputId": "ab39a33f-9320-4b9c-9bd0-11cbc9049a69"
      },
      "execution_count": 32,
      "outputs": [
        {
          "output_type": "execute_result",
          "data": {
            "text/plain": [
              "DecisionTreeRegressor(random_state=0)"
            ],
            "text/html": [
              "<style>#sk-container-id-2 {color: black;background-color: white;}#sk-container-id-2 pre{padding: 0;}#sk-container-id-2 div.sk-toggleable {background-color: white;}#sk-container-id-2 label.sk-toggleable__label {cursor: pointer;display: block;width: 100%;margin-bottom: 0;padding: 0.3em;box-sizing: border-box;text-align: center;}#sk-container-id-2 label.sk-toggleable__label-arrow:before {content: \"▸\";float: left;margin-right: 0.25em;color: #696969;}#sk-container-id-2 label.sk-toggleable__label-arrow:hover:before {color: black;}#sk-container-id-2 div.sk-estimator:hover label.sk-toggleable__label-arrow:before {color: black;}#sk-container-id-2 div.sk-toggleable__content {max-height: 0;max-width: 0;overflow: hidden;text-align: left;background-color: #f0f8ff;}#sk-container-id-2 div.sk-toggleable__content pre {margin: 0.2em;color: black;border-radius: 0.25em;background-color: #f0f8ff;}#sk-container-id-2 input.sk-toggleable__control:checked~div.sk-toggleable__content {max-height: 200px;max-width: 100%;overflow: auto;}#sk-container-id-2 input.sk-toggleable__control:checked~label.sk-toggleable__label-arrow:before {content: \"▾\";}#sk-container-id-2 div.sk-estimator input.sk-toggleable__control:checked~label.sk-toggleable__label {background-color: #d4ebff;}#sk-container-id-2 div.sk-label input.sk-toggleable__control:checked~label.sk-toggleable__label {background-color: #d4ebff;}#sk-container-id-2 input.sk-hidden--visually {border: 0;clip: rect(1px 1px 1px 1px);clip: rect(1px, 1px, 1px, 1px);height: 1px;margin: -1px;overflow: hidden;padding: 0;position: absolute;width: 1px;}#sk-container-id-2 div.sk-estimator {font-family: monospace;background-color: #f0f8ff;border: 1px dotted black;border-radius: 0.25em;box-sizing: border-box;margin-bottom: 0.5em;}#sk-container-id-2 div.sk-estimator:hover {background-color: #d4ebff;}#sk-container-id-2 div.sk-parallel-item::after {content: \"\";width: 100%;border-bottom: 1px solid gray;flex-grow: 1;}#sk-container-id-2 div.sk-label:hover label.sk-toggleable__label {background-color: #d4ebff;}#sk-container-id-2 div.sk-serial::before {content: \"\";position: absolute;border-left: 1px solid gray;box-sizing: border-box;top: 0;bottom: 0;left: 50%;z-index: 0;}#sk-container-id-2 div.sk-serial {display: flex;flex-direction: column;align-items: center;background-color: white;padding-right: 0.2em;padding-left: 0.2em;position: relative;}#sk-container-id-2 div.sk-item {position: relative;z-index: 1;}#sk-container-id-2 div.sk-parallel {display: flex;align-items: stretch;justify-content: center;background-color: white;position: relative;}#sk-container-id-2 div.sk-item::before, #sk-container-id-2 div.sk-parallel-item::before {content: \"\";position: absolute;border-left: 1px solid gray;box-sizing: border-box;top: 0;bottom: 0;left: 50%;z-index: -1;}#sk-container-id-2 div.sk-parallel-item {display: flex;flex-direction: column;z-index: 1;position: relative;background-color: white;}#sk-container-id-2 div.sk-parallel-item:first-child::after {align-self: flex-end;width: 50%;}#sk-container-id-2 div.sk-parallel-item:last-child::after {align-self: flex-start;width: 50%;}#sk-container-id-2 div.sk-parallel-item:only-child::after {width: 0;}#sk-container-id-2 div.sk-dashed-wrapped {border: 1px dashed gray;margin: 0 0.4em 0.5em 0.4em;box-sizing: border-box;padding-bottom: 0.4em;background-color: white;}#sk-container-id-2 div.sk-label label {font-family: monospace;font-weight: bold;display: inline-block;line-height: 1.2em;}#sk-container-id-2 div.sk-label-container {text-align: center;}#sk-container-id-2 div.sk-container {/* jupyter's `normalize.less` sets `[hidden] { display: none; }` but bootstrap.min.css set `[hidden] { display: none !important; }` so we also need the `!important` here to be able to override the default hidden behavior on the sphinx rendered scikit-learn.org. See: https://github.com/scikit-learn/scikit-learn/issues/21755 */display: inline-block !important;position: relative;}#sk-container-id-2 div.sk-text-repr-fallback {display: none;}</style><div id=\"sk-container-id-2\" class=\"sk-top-container\"><div class=\"sk-text-repr-fallback\"><pre>DecisionTreeRegressor(random_state=0)</pre><b>In a Jupyter environment, please rerun this cell to show the HTML representation or trust the notebook. <br />On GitHub, the HTML representation is unable to render, please try loading this page with nbviewer.org.</b></div><div class=\"sk-container\" hidden><div class=\"sk-item\"><div class=\"sk-estimator sk-toggleable\"><input class=\"sk-toggleable__control sk-hidden--visually\" id=\"sk-estimator-id-2\" type=\"checkbox\" checked><label for=\"sk-estimator-id-2\" class=\"sk-toggleable__label sk-toggleable__label-arrow\">DecisionTreeRegressor</label><div class=\"sk-toggleable__content\"><pre>DecisionTreeRegressor(random_state=0)</pre></div></div></div></div></div>"
            ]
          },
          "metadata": {},
          "execution_count": 32
        }
      ]
    },
    {
      "cell_type": "code",
      "source": [
        "y_pred_dtr =regressor.predict(ts_data_X)\n",
        "et = time.time()\n",
        "elapsed_time = et - st\n",
        "print('DTR:', elapsed_time, 'seconds')\n",
        "y_pred_dtr"
      ],
      "metadata": {
        "colab": {
          "base_uri": "https://localhost:8080/"
        },
        "id": "DleS8PjBIce9",
        "outputId": "32e2fe0c-ce05-4c6e-8d22-86ad5b288a45"
      },
      "execution_count": 33,
      "outputs": [
        {
          "output_type": "stream",
          "name": "stdout",
          "text": [
            "DTR: 0.12877988815307617 seconds\n"
          ]
        },
        {
          "output_type": "stream",
          "name": "stderr",
          "text": [
            "/usr/local/lib/python3.10/dist-packages/sklearn/base.py:439: UserWarning: X does not have valid feature names, but DecisionTreeRegressor was fitted with feature names\n",
            "  warnings.warn(\n"
          ]
        },
        {
          "output_type": "execute_result",
          "data": {
            "text/plain": [
              "array([1.115     , 1.03      , 1.115     , 0.94      , 1.058     ,\n",
              "       0.84      , 1.11      , 0.76      , 1.91      , 0.975     ,\n",
              "       1.06      , 1.075     , 1.075     , 1.105     , 0.9825    ,\n",
              "       1.0555    , 1.04      , 0.96      , 1.02      , 0.921     ,\n",
              "       1.045     , 1.169     , 1.05      , 1.        , 1.1425    ,\n",
              "       0.935     , 0.98      , 0.86      , 1.14      , 1.055     ,\n",
              "       0.46      , 0.85      , 1.065     , 0.9       , 0.81      ,\n",
              "       0.942     , 1.125     , 0.97      , 1.05      , 1.09      ,\n",
              "       1.06      , 0.93      , 1.07      , 1.12      , 0.82033333,\n",
              "       0.975     , 1.05      , 1.055     , 1.074     , 0.94      ,\n",
              "       1.01      , 0.94      , 0.75      , 1.074     , 1.        ,\n",
              "       0.99      , 1.09      , 0.85      , 0.88      , 0.88      ,\n",
              "       0.562     ])"
            ]
          },
          "metadata": {},
          "execution_count": 33
        }
      ]
    },
    {
      "cell_type": "code",
      "source": [
        "ts_data_Y"
      ],
      "metadata": {
        "colab": {
          "base_uri": "https://localhost:8080/"
        },
        "id": "m77xw2K1ai7k",
        "outputId": "5284e967-281f-4c95-b412-bc80367d49ab"
      },
      "execution_count": 34,
      "outputs": [
        {
          "output_type": "execute_result",
          "data": {
            "text/plain": [
              "array([1.1  , 1.03 , 1.13 , 0.94 , 1.058, 0.88 , 1.11 , 0.76 , 1.91 ,\n",
              "       0.99 , 1.06 , 1.1  , 1.05 , 1.12 , 1.03 , 1.061, 1.02 , 0.95 ,\n",
              "       1.02 , 1.04 , 1.045, 1.169, 1.05 , 1.   , 1.145, 1.02 , 0.97 ,\n",
              "       0.86 , 1.14 , 1.08 , 0.46 , 0.85 , 1.03 , 0.9  , 0.84 , 0.943,\n",
              "       1.13 , 0.97 , 1.05 , 1.09 , 1.06 , 0.93 , 1.05 , 1.12 , 0.86 ,\n",
              "       0.87 , 1.05 , 1.06 , 1.064, 0.94 , 1.01 , 0.94 , 0.75 , 1.074,\n",
              "       1.   , 0.99 , 1.07 , 0.91 , 0.8  , 0.88 , 0.428])"
            ]
          },
          "metadata": {},
          "execution_count": 34
        }
      ]
    },
    {
      "cell_type": "code",
      "source": [
        "from sklearn.metrics import r2_score,mean_squared_error,mean_absolute_percentage_error,fowlkes_mallows_score\n",
        "score_dtr=r2_score(ts_data_Y, y_pred_dtr)\n",
        "mse_dtr=mean_squared_error(ts_data_Y, y_pred_dtr)\n",
        "mape=mean_absolute_percentage_error(ts_data_Y, y_pred_dtr)\n",
        "mallow=fowlkes_mallows_score(ts_data_Y, y_pred_dtr)\n",
        "import scipy\n",
        "r_dtr=scipy.stats.pearsonr(ts_data_Y,y_pred_dtr)"
      ],
      "metadata": {
        "id": "SQGgXmNGJ9DO",
        "colab": {
          "base_uri": "https://localhost:8080/"
        },
        "outputId": "e93a1a7f-eae2-44e4-e793-c36bd360f4e5"
      },
      "execution_count": 35,
      "outputs": [
        {
          "output_type": "stream",
          "name": "stderr",
          "text": [
            "/usr/local/lib/python3.10/dist-packages/sklearn/metrics/cluster/_supervised.py:64: UserWarning: Clustering metrics expects discrete values but received continuous values for label, and continuous values for target\n",
            "  warnings.warn(msg, UserWarning)\n"
          ]
        }
      ]
    },
    {
      "cell_type": "code",
      "source": [
        "print('R2_dtr=',score_dtr)\n",
        "print('mse_dtr=',mse_dtr)\n",
        "print('R score_dtr=',r_dtr[0])\n",
        "print('mape_dtr=',mape)\n",
        "print('mallow_dtr=',mallow)"
      ],
      "metadata": {
        "colab": {
          "base_uri": "https://localhost:8080/"
        },
        "id": "3GcyMsuTKB2p",
        "outputId": "66a68c73-75b9-4a37-e25d-837658da5a4b"
      },
      "execution_count": 36,
      "outputs": [
        {
          "output_type": "stream",
          "name": "stdout",
          "text": [
            "R2_dtr= 0.9640800798497811\n",
            "mse_dtr= 0.00118498679417122\n",
            "R score_dtr= 0.9819681410152737\n",
            "mape_dtr= 0.02024827461621604\n",
            "mallow_dtr= 0.3771236166328253\n"
          ]
        }
      ]
    },
    {
      "cell_type": "code",
      "source": [
        "from sklearn.metrics import r2_score,mean_squared_error,mean_absolute_percentage_error,fowlkes_mallows_score\n",
        "score_dtr=r2_score(ts_data_Y, y_pred_dtr)\n",
        "mse_dtr=mean_squared_error(ts_data_Y, y_pred_dtr)\n",
        "mape=mean_absolute_percentage_error(ts_data_Y, y_pred_dtr)\n",
        "mallow=fowlkes_mallows_score(ts_data_Y, y_pred_dtr)\n",
        "import scipy\n",
        "r_dtr=scipy.stats.pearsonr(ts_data_Y,y_pred_dtr)\n",
        "from sklearn.metrics import mean_squared_log_error,mean_absolute_error\n",
        "msle=mean_squared_log_error(ts_data_Y, y_pred_dtr)\n",
        "mae=mean_absolute_error(ts_data_Y, y_pred_dtr)\n",
        "rmse=np.sqrt(mse_dtr)\n",
        "n = len(ts_data_Y)\n",
        "p = 6  # Number of predictors\n",
        "adjusted_r2 = 1 - (1 - score_dtr) * (n - 1) / (n - p - 1)\n",
        "mbe = np.mean(y_pred_dtr - ts_data_Y)\n",
        "rss = np.sum((y_pred_dtr - ts_data_Y)**2)\n",
        "mpe = np.mean((y_pred_dtr - ts_data_Y) / ts_data_Y) * 100\n",
        "print('R2_dtr=',score_dtr)\n",
        "print('mse_dtr=',mse_dtr)\n",
        "print('R score_dtr=',r_dtr[0])\n",
        "print('mape_dtr=',mape)\n",
        "print('mallow_dtr=',mallow)\n",
        "print('msle= ',msle)\n",
        "print('mae= ',mae)\n",
        "print('rmse= ',rmse)\n",
        "print('adjusted_r2=',adjusted_r2)\n",
        "print('mbe=',mbe)\n",
        "print('rss=',rss)\n",
        "print('mpe=',mpe)"
      ],
      "metadata": {
        "colab": {
          "base_uri": "https://localhost:8080/"
        },
        "id": "oaK9UYUKrZLc",
        "outputId": "4096e004-809c-400e-fe0d-6cc8390efe04"
      },
      "execution_count": 78,
      "outputs": [
        {
          "output_type": "stream",
          "name": "stdout",
          "text": [
            "R2_dtr= 0.9640800798497811\n",
            "mse_dtr= 0.00118498679417122\n",
            "R score_dtr= 0.9819681410152737\n",
            "mape_dtr= 0.02024827461621604\n",
            "mallow_dtr= 0.3771236166328253\n",
            "msle=  0.0003684214110009612\n",
            "mae=  0.01670765027322405\n",
            "rmse=  0.03442363714326567\n",
            "adjusted_r2= 0.9600889776108679\n",
            "mbe= -0.0008387978142076517\n",
            "rss= 0.07228419444444442\n",
            "mpe= 0.2465868945836985\n"
          ]
        }
      ]
    },
    {
      "cell_type": "code",
      "source": [
        "import warnings\n",
        "import numpy as np\n",
        "import seaborn as sns\n",
        "import matplotlib.pyplot as plt\n",
        "import matplotlib as mpl\n",
        "\n",
        "# Ignore warnings\n",
        "warnings.filterwarnings('ignore')\n",
        "\n",
        "# Assuming you have defined 'ts_data_Y' and 'y_pred_dtr' before this code snippet\n",
        "\n",
        "# Perform linear regression and obtain the coefficients\n",
        "reg = np.polyfit(ts_data_Y, y_pred_dtr, deg=1)\n",
        "slope = reg[0]\n",
        "intercept = reg[1]\n",
        "\n",
        "# Generate the trend line for linear regression\n",
        "trend = slope * ts_data_Y + intercept\n",
        "\n",
        "# Set the style to a light blue or cyan background color\n",
        "plt.figure(figsize=(8, 5))\n",
        "sns.set_style({'axes.facecolor': '#E0FFFF'})  # Set your desired color here\n",
        "\n",
        "# Plot the scatter plot with the specified background color\n",
        "sns.scatterplot(x=ts_data_Y, y=y_pred_dtr, c='yellow', marker='*', edgecolor='black', s=300)\n",
        "mpl.rcParams['axes.linewidth'] = 2.5\n",
        "mpl.rcParams['xtick.major.width'] = 2.5  # Set your desired x-axis tick thickness here\n",
        "mpl.rcParams['ytick.major.width'] = 2.5\n",
        "# Plot the trend line\n",
        "plt.plot(ts_data_Y, trend, color='red', linewidth=2)\n",
        "\n",
        "# Customize the plot (xticks, yticks, labels, title, etc.)\n",
        "font1 = {'family': 'calibari', 'color': 'black', 'fontweight': 'bold', 'size': 18}\n",
        "plt.yticks(color='navy', fontweight='bold', size=12)\n",
        "plt.xlim(0, max(ts_data_Y) )\n",
        "plt.ylim(0, max(y_pred_dtr) )\n",
        "plt.xticks(color='navy', fontweight='bold', size=12)\n",
        "plt.xlabel('True VOC(%)', fontdict=font1)\n",
        "plt.ylabel('Predicted VOC(%)', fontdict=font1)\n",
        "# plt.title('Decisiontree regressor Plot', c='#6f045a', fontdict=font1)\n",
        "\n",
        "# Show the plot\n",
        "plt.show()\n"
      ],
      "metadata": {
        "colab": {
          "base_uri": "https://localhost:8080/",
          "height": 618
        },
        "id": "xGOmx10lIeyt",
        "outputId": "ca3301cd-58cf-4607-96ed-c6391c57d346"
      },
      "execution_count": 37,
      "outputs": [
        {
          "output_type": "stream",
          "name": "stderr",
          "text": [
            "WARNING:matplotlib.font_manager:findfont: Font family 'calibari' not found.\n",
            "WARNING:matplotlib.font_manager:findfont: Font family 'calibari' not found.\n",
            "WARNING:matplotlib.font_manager:findfont: Font family 'calibari' not found.\n",
            "WARNING:matplotlib.font_manager:findfont: Font family 'calibari' not found.\n",
            "WARNING:matplotlib.font_manager:findfont: Font family 'calibari' not found.\n",
            "WARNING:matplotlib.font_manager:findfont: Font family 'calibari' not found.\n",
            "WARNING:matplotlib.font_manager:findfont: Font family 'calibari' not found.\n",
            "WARNING:matplotlib.font_manager:findfont: Font family 'calibari' not found.\n"
          ]
        },
        {
          "output_type": "display_data",
          "data": {
            "text/plain": [
              "<Figure size 800x500 with 1 Axes>"
            ],
            "image/png": "[encoded data removed]"
          },
          "metadata": {}
        }
      ]
    },
    {
      "cell_type": "markdown",
      "source": [
        "XGBOOST REGRESSOR"
      ],
      "metadata": {
        "id": "iQGvzUodJT2C"
      }
    },
    {
      "cell_type": "code",
      "source": [
        "import time\n",
        "st = time.time()\n",
        "import xgboost as xgb\n",
        "reg = xgb.XGBRegressor(\n",
        "    n_estimators=100,\n",
        "    reg_lambda=1,\n",
        "    gamma=0,\n",
        "    max_depth=5\n",
        ")"
      ],
      "metadata": {
        "id": "DfFql03nJXWJ"
      },
      "execution_count": 38,
      "outputs": []
    },
    {
      "cell_type": "code",
      "source": [
        "reg.fit(tr_data_X, tr_data_Y)"
      ],
      "metadata": {
        "colab": {
          "base_uri": "https://localhost:8080/",
          "height": 248
        },
        "id": "ZcW-KBmlJayt",
        "outputId": "4227af4b-efc0-49d3-cd03-869871902fbb"
      },
      "execution_count": 39,
      "outputs": [
        {
          "output_type": "execute_result",
          "data": {
            "text/plain": [
              "XGBRegressor(base_score=None, booster=None, callbacks=None,\n",
              "             colsample_bylevel=None, colsample_bynode=None,\n",
              "             colsample_bytree=None, early_stopping_rounds=None,\n",
              "             enable_categorical=False, eval_metric=None, feature_types=None,\n",
              "             gamma=0, gpu_id=None, grow_policy=None, importance_type=None,\n",
              "             interaction_constraints=None, learning_rate=None, max_bin=None,\n",
              "             max_cat_threshold=None, max_cat_to_onehot=None,\n",
              "             max_delta_step=None, max_depth=5, max_leaves=None,\n",
              "             min_child_weight=None, missing=nan, monotone_constraints=None,\n",
              "             n_estimators=100, n_jobs=None, num_parallel_tree=None,\n",
              "             predictor=None, random_state=None, ...)"
            ],
            "text/html": [
              "<style>#sk-container-id-3 {color: black;background-color: white;}#sk-container-id-3 pre{padding: 0;}#sk-container-id-3 div.sk-toggleable {background-color: white;}#sk-container-id-3 label.sk-toggleable__label {cursor: pointer;display: block;width: 100%;margin-bottom: 0;padding: 0.3em;box-sizing: border-box;text-align: center;}#sk-container-id-3 label.sk-toggleable__label-arrow:before {content: \"▸\";float: left;margin-right: 0.25em;color: #696969;}#sk-container-id-3 label.sk-toggleable__label-arrow:hover:before {color: black;}#sk-container-id-3 div.sk-estimator:hover label.sk-toggleable__label-arrow:before {color: black;}#sk-container-id-3 div.sk-toggleable__content {max-height: 0;max-width: 0;overflow: hidden;text-align: left;background-color: #f0f8ff;}#sk-container-id-3 div.sk-toggleable__content pre {margin: 0.2em;color: black;border-radius: 0.25em;background-color: #f0f8ff;}#sk-container-id-3 input.sk-toggleable__control:checked~div.sk-toggleable__content {max-height: 200px;max-width: 100%;overflow: auto;}#sk-container-id-3 input.sk-toggleable__control:checked~label.sk-toggleable__label-arrow:before {content: \"▾\";}#sk-container-id-3 div.sk-estimator input.sk-toggleable__control:checked~label.sk-toggleable__label {background-color: #d4ebff;}#sk-container-id-3 div.sk-label input.sk-toggleable__control:checked~label.sk-toggleable__label {background-color: #d4ebff;}#sk-container-id-3 input.sk-hidden--visually {border: 0;clip: rect(1px 1px 1px 1px);clip: rect(1px, 1px, 1px, 1px);height: 1px;margin: -1px;overflow: hidden;padding: 0;position: absolute;width: 1px;}#sk-container-id-3 div.sk-estimator {font-family: monospace;background-color: #f0f8ff;border: 1px dotted black;border-radius: 0.25em;box-sizing: border-box;margin-bottom: 0.5em;}#sk-container-id-3 div.sk-estimator:hover {background-color: #d4ebff;}#sk-container-id-3 div.sk-parallel-item::after {content: \"\";width: 100%;border-bottom: 1px solid gray;flex-grow: 1;}#sk-container-id-3 div.sk-label:hover label.sk-toggleable__label {background-color: #d4ebff;}#sk-container-id-3 div.sk-serial::before {content: \"\";position: absolute;border-left: 1px solid gray;box-sizing: border-box;top: 0;bottom: 0;left: 50%;z-index: 0;}#sk-container-id-3 div.sk-serial {display: flex;flex-direction: column;align-items: center;background-color: white;padding-right: 0.2em;padding-left: 0.2em;position: relative;}#sk-container-id-3 div.sk-item {position: relative;z-index: 1;}#sk-container-id-3 div.sk-parallel {display: flex;align-items: stretch;justify-content: center;background-color: white;position: relative;}#sk-container-id-3 div.sk-item::before, #sk-container-id-3 div.sk-parallel-item::before {content: \"\";position: absolute;border-left: 1px solid gray;box-sizing: border-box;top: 0;bottom: 0;left: 50%;z-index: -1;}#sk-container-id-3 div.sk-parallel-item {display: flex;flex-direction: column;z-index: 1;position: relative;background-color: white;}#sk-container-id-3 div.sk-parallel-item:first-child::after {align-self: flex-end;width: 50%;}#sk-container-id-3 div.sk-parallel-item:last-child::after {align-self: flex-start;width: 50%;}#sk-container-id-3 div.sk-parallel-item:only-child::after {width: 0;}#sk-container-id-3 div.sk-dashed-wrapped {border: 1px dashed gray;margin: 0 0.4em 0.5em 0.4em;box-sizing: border-box;padding-bottom: 0.4em;background-color: white;}#sk-container-id-3 div.sk-label label {font-family: monospace;font-weight: bold;display: inline-block;line-height: 1.2em;}#sk-container-id-3 div.sk-label-container {text-align: center;}#sk-container-id-3 div.sk-container {/* jupyter's `normalize.less` sets `[hidden] { display: none; }` but bootstrap.min.css set `[hidden] { display: none !important; }` so we also need the `!important` here to be able to override the default hidden behavior on the sphinx rendered scikit-learn.org. See: https://github.com/scikit-learn/scikit-learn/issues/21755 */display: inline-block !important;position: relative;}#sk-container-id-3 div.sk-text-repr-fallback {display: none;}</style><div id=\"sk-container-id-3\" class=\"sk-top-container\"><div class=\"sk-text-repr-fallback\"><pre>XGBRegressor(base_score=None, booster=None, callbacks=None,\n",
              "             colsample_bylevel=None, colsample_bynode=None,\n",
              "             colsample_bytree=None, early_stopping_rounds=None,\n",
              "             enable_categorical=False, eval_metric=None, feature_types=None,\n",
              "             gamma=0, gpu_id=None, grow_policy=None, importance_type=None,\n",
              "             interaction_constraints=None, learning_rate=None, max_bin=None,\n",
              "             max_cat_threshold=None, max_cat_to_onehot=None,\n",
              "             max_delta_step=None, max_depth=5, max_leaves=None,\n",
              "             min_child_weight=None, missing=nan, monotone_constraints=None,\n",
              "             n_estimators=100, n_jobs=None, num_parallel_tree=None,\n",
              "             predictor=None, random_state=None, ...)</pre><b>In a Jupyter environment, please rerun this cell to show the HTML representation or trust the notebook. <br />On GitHub, the HTML representation is unable to render, please try loading this page with nbviewer.org.</b></div><div class=\"sk-container\" hidden><div class=\"sk-item\"><div class=\"sk-estimator sk-toggleable\"><input class=\"sk-toggleable__control sk-hidden--visually\" id=\"sk-estimator-id-3\" type=\"checkbox\" checked><label for=\"sk-estimator-id-3\" class=\"sk-toggleable__label sk-toggleable__label-arrow\">XGBRegressor</label><div class=\"sk-toggleable__content\"><pre>XGBRegressor(base_score=None, booster=None, callbacks=None,\n",
              "             colsample_bylevel=None, colsample_bynode=None,\n",
              "             colsample_bytree=None, early_stopping_rounds=None,\n",
              "             enable_categorical=False, eval_metric=None, feature_types=None,\n",
              "             gamma=0, gpu_id=None, grow_policy=None, importance_type=None,\n",
              "             interaction_constraints=None, learning_rate=None, max_bin=None,\n",
              "             max_cat_threshold=None, max_cat_to_onehot=None,\n",
              "             max_delta_step=None, max_depth=5, max_leaves=None,\n",
              "             min_child_weight=None, missing=nan, monotone_constraints=None,\n",
              "             n_estimators=100, n_jobs=None, num_parallel_tree=None,\n",
              "             predictor=None, random_state=None, ...)</pre></div></div></div></div></div>"
            ]
          },
          "metadata": {},
          "execution_count": 39
        }
      ]
    },
    {
      "cell_type": "code",
      "source": [
        "y_pred_xgb =reg.predict(ts_data_X)\n",
        "et = time.time()\n",
        "elapsed_time = et - st\n",
        "print('XGB:', elapsed_time, 'seconds')"
      ],
      "metadata": {
        "colab": {
          "base_uri": "https://localhost:8080/"
        },
        "id": "BwjpFyG2Jdh4",
        "outputId": "41e8d227-d91f-4564-ce63-953b942a68bb"
      },
      "execution_count": 40,
      "outputs": [
        {
          "output_type": "stream",
          "name": "stdout",
          "text": [
            "XGB: 0.4194047451019287 seconds\n"
          ]
        }
      ]
    },
    {
      "cell_type": "code",
      "source": [
        "y_pred_xgb"
      ],
      "metadata": {
        "colab": {
          "base_uri": "https://localhost:8080/"
        },
        "id": "SAYTm2qzr_i8",
        "outputId": "9ec5ac4c-ff48-41c4-c5e6-a5abecc1755e"
      },
      "execution_count": 80,
      "outputs": [
        {
          "output_type": "execute_result",
          "data": {
            "text/plain": [
              "array([1.0742294 , 1.0207467 , 1.0742294 , 0.9423516 , 0.99344885,\n",
              "       0.84248424, 1.1112072 , 0.768917  , 1.8951238 , 0.96397716,\n",
              "       1.0565884 , 1.0560274 , 1.0560274 , 1.1048273 , 0.9563203 ,\n",
              "       1.046297  , 1.0221509 , 0.9591292 , 1.035252  , 0.9516938 ,\n",
              "       1.0319328 , 1.1716402 , 1.0401818 , 0.9948177 , 1.0834321 ,\n",
              "       0.9328501 , 0.9820789 , 0.855073  , 1.1336259 , 1.0373011 ,\n",
              "       0.5004013 , 0.8790863 , 1.0610578 , 0.9404802 , 0.81618786,\n",
              "       0.9473114 , 1.1272154 , 0.9626788 , 1.0576495 , 0.98791003,\n",
              "       1.0597676 , 0.9388736 , 1.0695964 , 1.0988866 , 0.81745416,\n",
              "       0.9248367 , 1.0603174 , 1.0326298 , 1.0486597 , 0.9289787 ,\n",
              "       1.0057052 , 0.9580434 , 0.8999733 , 1.0561577 , 0.9812506 ,\n",
              "       0.9849255 , 1.0219339 , 0.8747679 , 0.875861  , 0.8721999 ,\n",
              "       0.57839763], dtype=float32)"
            ]
          },
          "metadata": {},
          "execution_count": 80
        }
      ]
    },
    {
      "cell_type": "code",
      "source": [
        "from sklearn.metrics import r2_score,mean_squared_error,mean_absolute_percentage_error,fowlkes_mallows_score\n",
        "R2_xgb =r2_score(ts_data_Y, y_pred_xgb)\n",
        "mse_xgb= mean_squared_error(ts_data_Y, y_pred_xgb)\n",
        "mape_xgb=mean_absolute_percentage_error(ts_data_Y, y_pred_xgb)\n",
        "mallows_xgb=fowlkes_mallows_score(ts_data_Y, y_pred_xgb)\n",
        "import scipy\n",
        "r_xgb=scipy.stats.pearsonr(ts_data_Y,y_pred_xgb)"
      ],
      "metadata": {
        "id": "U86x6ZdGLJRC"
      },
      "execution_count": 41,
      "outputs": []
    },
    {
      "cell_type": "code",
      "source": [
        "print('R2_xgb=',R2_xgb)\n",
        "print('mse_xgb=',mse_xgb)\n",
        "print('R score_xgb=',r_xgb[0])\n",
        "print('mape_xgb',mape_xgb)\n",
        "print('mallows_xgb',mallows_xgb)"
      ],
      "metadata": {
        "colab": {
          "base_uri": "https://localhost:8080/"
        },
        "id": "pxUuZbJGLNGG",
        "outputId": "aefb2b6d-06a7-4b5c-8760-538299c9da15"
      },
      "execution_count": 42,
      "outputs": [
        {
          "output_type": "stream",
          "name": "stdout",
          "text": [
            "R2_xgb= 0.9409744519830823\n",
            "mse_xgb= 0.0019472341426778022\n",
            "R score_xgb= 0.9727875162651427\n",
            "mape_xgb 0.03428402702686999\n",
            "mallows_xgb 0.0\n"
          ]
        }
      ]
    },
    {
      "cell_type": "code",
      "source": [
        "from sklearn.metrics import r2_score,mean_squared_error,mean_absolute_percentage_error,fowlkes_mallows_score\n",
        "score_xgb=r2_score(ts_data_Y, y_pred_xgb)\n",
        "mse_xgb=mean_squared_error(ts_data_Y, y_pred_xgb)\n",
        "mape=mean_absolute_percentage_error(ts_data_Y, y_pred_xgb)\n",
        "mallow=fowlkes_mallows_score(ts_data_Y, y_pred_xgb)\n",
        "import scipy\n",
        "r_dtr=scipy.stats.pearsonr(ts_data_Y,y_pred_xgb)\n",
        "from sklearn.metrics import mean_squared_log_error,mean_absolute_error\n",
        "msle=mean_squared_log_error(ts_data_Y, y_pred_xgb)\n",
        "mae=mean_absolute_error(ts_data_Y, y_pred_xgb)\n",
        "rmse=np.sqrt(mse_xgb)\n",
        "n = len(ts_data_Y)\n",
        "p = 6  # Number of predictors\n",
        "adjusted_r2 = 1 - (1 - score_dtr) * (n - 1) / (n - p - 1)\n",
        "mbe = np.mean(y_pred_xgb - ts_data_Y)\n",
        "rss = np.sum((y_pred_xgb - ts_data_Y)**2)\n",
        "mpe = np.mean((y_pred_xgb - ts_data_Y) / ts_data_Y) * 100\n",
        "print('R2_xgb=',score_xgb)\n",
        "print('mse_xgb=',mse_xgb)\n",
        "print('R score_xgb=',r_xgb[0])\n",
        "print('mape_xgb=',mape)\n",
        "print('mallow_xgb=',mallow)\n",
        "print('msle= ',msle)\n",
        "print('mae= ',mae)\n",
        "print('rmse= ',rmse)\n",
        "print('adjusted_r2=',adjusted_r2)\n",
        "print('mbe=',mbe)\n",
        "print('rss=',rss)\n",
        "print('mpe=',mpe)"
      ],
      "metadata": {
        "colab": {
          "base_uri": "https://localhost:8080/"
        },
        "id": "k7cg3mGFr8Ts",
        "outputId": "8240e87a-a4d2-410c-f51a-4ffd97ff77c8"
      },
      "execution_count": 79,
      "outputs": [
        {
          "output_type": "stream",
          "name": "stdout",
          "text": [
            "R2_xgb= 0.9409744519830823\n",
            "mse_xgb= 0.0019472341426778022\n",
            "R score_xgb= 0.9727875162651427\n",
            "mape_xgb= 0.03428402702686999\n",
            "mallow_xgb= 0.0\n",
            "msle=  0.0005862299970357905\n",
            "mae=  0.02942824405920311\n",
            "rmse=  0.04412747605152375\n",
            "adjusted_r2= 0.9600889776108679\n",
            "mbe= -0.006456431513927038\n",
            "rss= 0.11878128270334594\n",
            "mpe= -0.02536989670942233\n"
          ]
        }
      ]
    },
    {
      "cell_type": "code",
      "source": [
        "import warnings\n",
        "import numpy as np\n",
        "import seaborn as sns\n",
        "import matplotlib.pyplot as plt\n",
        "import matplotlib as mpl\n",
        "# Ignore warnings\n",
        "warnings.filterwarnings('ignore')\n",
        "\n",
        "# Assuming you have defined 'ts_data_Y' and 'y_pred_dtr' before this code snippet\n",
        "\n",
        "# Perform linear regression and obtain the coefficients\n",
        "reg = np.polyfit(ts_data_Y, y_pred_xgb, deg=1)\n",
        "slope = reg[0]\n",
        "intercept = reg[1]\n",
        "\n",
        "# Generate the trend line for linear regression\n",
        "trend = slope * ts_data_Y + intercept\n",
        "\n",
        "# Set the style to a light blue or cyan background color\n",
        "plt.figure(figsize=(8, 5))\n",
        "sns.set_style({'axes.facecolor': '#E0FFFF'})  # Set your desired color here\n",
        "mpl.rcParams['axes.linewidth'] = 2.5\n",
        "mpl.rcParams['xtick.major.width'] = 2.5  # Set your desired x-axis tick thickness here\n",
        "mpl.rcParams['ytick.major.width'] = 2.5\n",
        "# Plot the scatter plot with the specified background color\n",
        "sns.scatterplot(x=ts_data_Y, y=y_pred_xgb, c='yellow', marker='*', edgecolor='black', s=300)\n",
        "\n",
        "# Plot the trend line\n",
        "plt.plot(ts_data_Y, trend, color='red', linewidth=2)\n",
        "\n",
        "# Customize the plot (xticks, yticks, labels, title, etc.)\n",
        "font1 = {'family': 'calibari', 'color': 'black', 'fontweight': 'bold', 'size': 18}\n",
        "plt.yticks(color='navy', fontweight='bold', size=12)\n",
        "plt.xlim(0, max(ts_data_Y) + 1)\n",
        "plt.ylim(0, max(y_pred_dtr) + 1)\n",
        "plt.xticks(color='navy', fontweight='bold', size=12)\n",
        "plt.xlabel('True PCE(%)', fontdict=font1)\n",
        "plt.ylabel('Predicted PCE(%)', fontdict=font1)\n",
        "# plt.title('Xgboost regressor Plot', c='#6f045a', fontdict=font1)\n",
        "\n",
        "# Show the plot\n",
        "plt.show()\n"
      ],
      "metadata": {
        "colab": {
          "base_uri": "https://localhost:8080/",
          "height": 618
        },
        "id": "io0t8PhbJh4J",
        "outputId": "55defb2a-5574-4dc8-bd46-74685e473541"
      },
      "execution_count": 43,
      "outputs": [
        {
          "output_type": "stream",
          "name": "stderr",
          "text": [
            "WARNING:matplotlib.font_manager:findfont: Font family 'calibari' not found.\n",
            "WARNING:matplotlib.font_manager:findfont: Font family 'calibari' not found.\n",
            "WARNING:matplotlib.font_manager:findfont: Font family 'calibari' not found.\n",
            "WARNING:matplotlib.font_manager:findfont: Font family 'calibari' not found.\n",
            "WARNING:matplotlib.font_manager:findfont: Font family 'calibari' not found.\n",
            "WARNING:matplotlib.font_manager:findfont: Font family 'calibari' not found.\n",
            "WARNING:matplotlib.font_manager:findfont: Font family 'calibari' not found.\n",
            "WARNING:matplotlib.font_manager:findfont: Font family 'calibari' not found.\n"
          ]
        },
        {
          "output_type": "display_data",
          "data": {
            "text/plain": [
              "<Figure size 800x500 with 1 Axes>"
            ],
            "image/png": "[encoded data removed]"
          },
          "metadata": {}
        }
      ]
    },
    {
      "cell_type": "markdown",
      "source": [
        "KNeighborsRegressor"
      ],
      "metadata": {
        "id": "dyzMZRpfJ49c"
      }
    },
    {
      "cell_type": "code",
      "source": [
        "import time\n",
        "st = time.time()\n",
        "from sklearn.neighbors import KNeighborsRegressor\n",
        "knn = KNeighborsRegressor(n_neighbors=2,algorithm='ball_tree',leaf_size=20)\n",
        "knn.fit(tr_data_X,  tr_data_Y)"
      ],
      "metadata": {
        "colab": {
          "base_uri": "https://localhost:8080/",
          "height": 74
        },
        "id": "GfcUdmqdJwX4",
        "outputId": "9df24624-e6de-42bb-a26f-6a8610c8f173"
      },
      "execution_count": 44,
      "outputs": [
        {
          "output_type": "execute_result",
          "data": {
            "text/plain": [
              "KNeighborsRegressor(algorithm='ball_tree', leaf_size=20, n_neighbors=2)"
            ],
            "text/html": [
              "<style>#sk-container-id-4 {color: black;background-color: white;}#sk-container-id-4 pre{padding: 0;}#sk-container-id-4 div.sk-toggleable {background-color: white;}#sk-container-id-4 label.sk-toggleable__label {cursor: pointer;display: block;width: 100%;margin-bottom: 0;padding: 0.3em;box-sizing: border-box;text-align: center;}#sk-container-id-4 label.sk-toggleable__label-arrow:before {content: \"▸\";float: left;margin-right: 0.25em;color: #696969;}#sk-container-id-4 label.sk-toggleable__label-arrow:hover:before {color: black;}#sk-container-id-4 div.sk-estimator:hover label.sk-toggleable__label-arrow:before {color: black;}#sk-container-id-4 div.sk-toggleable__content {max-height: 0;max-width: 0;overflow: hidden;text-align: left;background-color: #f0f8ff;}#sk-container-id-4 div.sk-toggleable__content pre {margin: 0.2em;color: black;border-radius: 0.25em;background-color: #f0f8ff;}#sk-container-id-4 input.sk-toggleable__control:checked~div.sk-toggleable__content {max-height: 200px;max-width: 100%;overflow: auto;}#sk-container-id-4 input.sk-toggleable__control:checked~label.sk-toggleable__label-arrow:before {content: \"▾\";}#sk-container-id-4 div.sk-estimator input.sk-toggleable__control:checked~label.sk-toggleable__label {background-color: #d4ebff;}#sk-container-id-4 div.sk-label input.sk-toggleable__control:checked~label.sk-toggleable__label {background-color: #d4ebff;}#sk-container-id-4 input.sk-hidden--visually {border: 0;clip: rect(1px 1px 1px 1px);clip: rect(1px, 1px, 1px, 1px);height: 1px;margin: -1px;overflow: hidden;padding: 0;position: absolute;width: 1px;}#sk-container-id-4 div.sk-estimator {font-family: monospace;background-color: #f0f8ff;border: 1px dotted black;border-radius: 0.25em;box-sizing: border-box;margin-bottom: 0.5em;}#sk-container-id-4 div.sk-estimator:hover {background-color: #d4ebff;}#sk-container-id-4 div.sk-parallel-item::after {content: \"\";width: 100%;border-bottom: 1px solid gray;flex-grow: 1;}#sk-container-id-4 div.sk-label:hover label.sk-toggleable__label {background-color: #d4ebff;}#sk-container-id-4 div.sk-serial::before {content: \"\";position: absolute;border-left: 1px solid gray;box-sizing: border-box;top: 0;bottom: 0;left: 50%;z-index: 0;}#sk-container-id-4 div.sk-serial {display: flex;flex-direction: column;align-items: center;background-color: white;padding-right: 0.2em;padding-left: 0.2em;position: relative;}#sk-container-id-4 div.sk-item {position: relative;z-index: 1;}#sk-container-id-4 div.sk-parallel {display: flex;align-items: stretch;justify-content: center;background-color: white;position: relative;}#sk-container-id-4 div.sk-item::before, #sk-container-id-4 div.sk-parallel-item::before {content: \"\";position: absolute;border-left: 1px solid gray;box-sizing: border-box;top: 0;bottom: 0;left: 50%;z-index: -1;}#sk-container-id-4 div.sk-parallel-item {display: flex;flex-direction: column;z-index: 1;position: relative;background-color: white;}#sk-container-id-4 div.sk-parallel-item:first-child::after {align-self: flex-end;width: 50%;}#sk-container-id-4 div.sk-parallel-item:last-child::after {align-self: flex-start;width: 50%;}#sk-container-id-4 div.sk-parallel-item:only-child::after {width: 0;}#sk-container-id-4 div.sk-dashed-wrapped {border: 1px dashed gray;margin: 0 0.4em 0.5em 0.4em;box-sizing: border-box;padding-bottom: 0.4em;background-color: white;}#sk-container-id-4 div.sk-label label {font-family: monospace;font-weight: bold;display: inline-block;line-height: 1.2em;}#sk-container-id-4 div.sk-label-container {text-align: center;}#sk-container-id-4 div.sk-container {/* jupyter's `normalize.less` sets `[hidden] { display: none; }` but bootstrap.min.css set `[hidden] { display: none !important; }` so we also need the `!important` here to be able to override the default hidden behavior on the sphinx rendered scikit-learn.org. See: https://github.com/scikit-learn/scikit-learn/issues/21755 */display: inline-block !important;position: relative;}#sk-container-id-4 div.sk-text-repr-fallback {display: none;}</style><div id=\"sk-container-id-4\" class=\"sk-top-container\"><div class=\"sk-text-repr-fallback\"><pre>KNeighborsRegressor(algorithm=&#x27;ball_tree&#x27;, leaf_size=20, n_neighbors=2)</pre><b>In a Jupyter environment, please rerun this cell to show the HTML representation or trust the notebook. <br />On GitHub, the HTML representation is unable to render, please try loading this page with nbviewer.org.</b></div><div class=\"sk-container\" hidden><div class=\"sk-item\"><div class=\"sk-estimator sk-toggleable\"><input class=\"sk-toggleable__control sk-hidden--visually\" id=\"sk-estimator-id-4\" type=\"checkbox\" checked><label for=\"sk-estimator-id-4\" class=\"sk-toggleable__label sk-toggleable__label-arrow\">KNeighborsRegressor</label><div class=\"sk-toggleable__content\"><pre>KNeighborsRegressor(algorithm=&#x27;ball_tree&#x27;, leaf_size=20, n_neighbors=2)</pre></div></div></div></div></div>"
            ]
          },
          "metadata": {},
          "execution_count": 44
        }
      ]
    },
    {
      "cell_type": "code",
      "source": [
        "y_pred_knn = knn.predict(ts_data_X)\n",
        "et = time.time()\n",
        "elapsed_time = et - st\n",
        "print('KNN:', elapsed_time, 'seconds')"
      ],
      "metadata": {
        "colab": {
          "base_uri": "https://localhost:8080/"
        },
        "id": "v8GuTdzRLu6P",
        "outputId": "298a241a-994d-4c4e-ae32-fa18e4f7cb7f"
      },
      "execution_count": 45,
      "outputs": [
        {
          "output_type": "stream",
          "name": "stdout",
          "text": [
            "KNN: 0.027672767639160156 seconds\n"
          ]
        }
      ]
    },
    {
      "cell_type": "code",
      "source": [
        "from sklearn.metrics import r2_score,mean_squared_error\n",
        "R2_knn =r2_score(ts_data_Y, y_pred_knn)\n",
        "mse_knn= mean_squared_error(ts_data_Y, y_pred_knn)\n",
        "import scipy\n",
        "r_knn=scipy.stats.pearsonr(ts_data_Y,y_pred_knn)"
      ],
      "metadata": {
        "id": "3dQH-8_nJ9aJ"
      },
      "execution_count": 46,
      "outputs": []
    },
    {
      "cell_type": "code",
      "source": [
        "print('R2_knn=',R2_knn)\n",
        "print('mse_knn=',mse_knn)\n",
        "print('R score_knn=',r_knn[0])"
      ],
      "metadata": {
        "colab": {
          "base_uri": "https://localhost:8080/"
        },
        "id": "QkzdfhYJLnCg",
        "outputId": "698bc88f-2a1e-4982-e8e4-f28c2f678f6e"
      },
      "execution_count": 47,
      "outputs": [
        {
          "output_type": "stream",
          "name": "stdout",
          "text": [
            "R2_knn= 0.7141543040354362\n",
            "mse_knn= 0.00942995901639344\n",
            "R score_knn= 0.8781950838447034\n"
          ]
        }
      ]
    },
    {
      "cell_type": "code",
      "source": [
        " y_pred_knn"
      ],
      "metadata": {
        "colab": {
          "base_uri": "https://localhost:8080/"
        },
        "id": "dH1zY1PStjQV",
        "outputId": "cac49ab5-e202-48e3-ece5-4688da7ed021"
      },
      "execution_count": 82,
      "outputs": [
        {
          "output_type": "execute_result",
          "data": {
            "text/plain": [
              "array([1.115 , 1.03  , 1.115 , 1.01  , 0.884 , 0.84  , 1.11  , 0.945 ,\n",
              "       1.402 , 0.98  , 1.07  , 1.075 , 1.075 , 1.105 , 0.9825, 1.0555,\n",
              "       1.04  , 0.96  , 1.02  , 0.921 , 0.9975, 1.0745, 1.05  , 0.965 ,\n",
              "       1.1425, 0.935 , 0.98  , 0.905 , 1.14  , 1.055 , 0.755 , 0.95  ,\n",
              "       1.065 , 0.975 , 0.81  , 0.942 , 1.11  , 0.969 , 1.07  , 0.99  ,\n",
              "       0.98  , 0.93  , 1.07  , 1.065 , 0.8005, 0.975 , 0.975 , 1.055 ,\n",
              "       1.074 , 0.905 , 1.04  , 0.99  , 0.85  , 0.967 , 0.995 , 0.99  ,\n",
              "       1.09  , 0.82  , 0.88  , 0.875 , 0.562 ])"
            ]
          },
          "metadata": {},
          "execution_count": 82
        }
      ]
    },
    {
      "cell_type": "code",
      "source": [
        "from sklearn.metrics import r2_score,mean_squared_error,mean_absolute_percentage_error,fowlkes_mallows_score\n",
        "score_knn=r2_score(ts_data_Y, y_pred_knn)\n",
        "mse_knn=mean_squared_error(ts_data_Y, y_pred_knn)\n",
        "mape=mean_absolute_percentage_error(ts_data_Y, y_pred_knn)\n",
        "mallow=fowlkes_mallows_score(ts_data_Y, y_pred_knn)\n",
        "import scipy\n",
        "r_knn=scipy.stats.pearsonr(ts_data_Y,y_pred_knn)\n",
        "from sklearn.metrics import mean_squared_log_error,mean_absolute_error\n",
        "msle=mean_squared_log_error(ts_data_Y, y_pred_knn)\n",
        "mae=mean_absolute_error(ts_data_Y, y_pred_knn)\n",
        "rmse=np.sqrt(mse_knn)\n",
        "n = len(ts_data_Y)\n",
        "p = 6  # Number of predictors\n",
        "adjusted_r2 = 1 - (1 - score_knn) * (n - 1) / (n - p - 1)\n",
        "mbe = np.mean(y_pred_knn - ts_data_Y)\n",
        "rss = np.sum((y_pred_knn - ts_data_Y)**2)\n",
        "mpe = np.mean((y_pred_knn - ts_data_Y) / ts_data_Y) * 100\n",
        "print('R2_knn=',score_knn)\n",
        "print('mse_knn=',mse_knn)\n",
        "print('R score_knn=',r_knn[0])\n",
        "print('mape_knn=',mape)\n",
        "print('mallow_knn=',mallow)\n",
        "print('msle= ',msle)\n",
        "print('mae= ',mae)\n",
        "print('rmse= ',rmse)\n",
        "print('adjusted_r2=',adjusted_r2)\n",
        "print('mbe=',mbe)\n",
        "print('rss=',rss)\n",
        "print('mpe=',mpe)"
      ],
      "metadata": {
        "colab": {
          "base_uri": "https://localhost:8080/"
        },
        "id": "uIQWkrRPte6g",
        "outputId": "ef847fad-b74e-49b2-8871-f4b37a2b36fd"
      },
      "execution_count": 81,
      "outputs": [
        {
          "output_type": "stream",
          "name": "stdout",
          "text": [
            "R2_knn= 0.7141543040354362\n",
            "mse_knn= 0.00942995901639344\n",
            "R score_knn= 0.8781950838447034\n",
            "mape_knn= 0.06204350898855151\n",
            "mallow_knn= 0.04188539082916955\n",
            "msle=  0.0022150748070312878\n",
            "mae=  0.055426229508196714\n",
            "rmse=  0.09710797606990602\n",
            "adjusted_r2= 0.6823936711504847\n",
            "mbe= -0.0074262295081967125\n",
            "rss= 0.5752274999999999\n",
            "mpe= 0.8447973374160407\n"
          ]
        }
      ]
    },
    {
      "cell_type": "code",
      "source": [
        "import warnings\n",
        "import numpy as np\n",
        "import seaborn as sns\n",
        "import matplotlib.pyplot as plt\n",
        "import matplotlib as mpl\n",
        "# Ignore warnings\n",
        "warnings.filterwarnings('ignore')\n",
        "\n",
        "# Assuming you have defined 'ts_data_Y' and 'y_pred_dtr' before this code snippet\n",
        "\n",
        "# Perform linear regression and obtain the coefficients\n",
        "reg = np.polyfit(ts_data_Y, y_pred_knn, deg=1)\n",
        "slope = reg[0]\n",
        "intercept = reg[1]\n",
        "\n",
        "# Generate the trend line for linear regression\n",
        "trend = slope * ts_data_Y + intercept\n",
        "\n",
        "# Set the style to a light blue or cyan background color\n",
        "plt.figure(figsize=(8, 5))\n",
        "sns.set_style({'axes.facecolor': '#E0FFFF'})  # Set your desired color here\n",
        "mpl.rcParams['axes.linewidth'] = 2.5\n",
        "mpl.rcParams['xtick.major.width'] = 2.5  # Set your desired x-axis tick thickness here\n",
        "mpl.rcParams['ytick.major.width'] = 2.5\n",
        "# Plot the scatter plot with the specified background color\n",
        "sns.scatterplot(x=ts_data_Y, y=y_pred_knn, c='yellow', marker='*', edgecolor='black', s=300)\n",
        "\n",
        "# Plot the trend line\n",
        "plt.plot(ts_data_Y, trend, color='red', linewidth=2)\n",
        "\n",
        "# Customize the plot (xticks, yticks, labels, title, etc.)\n",
        "font1 = {'family': 'calibari', 'color': 'black', 'fontweight': 'bold', 'size': 18}\n",
        "plt.yticks(color='navy', fontweight='bold', size=12)\n",
        "plt.xlim(0, max(ts_data_Y) + 1)\n",
        "plt.ylim(0, max(y_pred_knn) + 1)\n",
        "plt.xticks(color='navy', fontweight='bold', size=12)\n",
        "plt.xlabel('True PCE(%)', fontdict=font1)\n",
        "plt.ylabel('Predicted PCE(%)', fontdict=font1)\n",
        "# plt.title('Xgboost regressor Plot', c='#6f045a', fontdict=font1)\n",
        "\n",
        "# Show the plot\n",
        "plt.show()\n"
      ],
      "metadata": {
        "colab": {
          "base_uri": "https://localhost:8080/",
          "height": 618
        },
        "id": "Gk25TepjJ_tR",
        "outputId": "b1ec6db6-55af-4853-884a-efe7e49015d2"
      },
      "execution_count": 48,
      "outputs": [
        {
          "output_type": "stream",
          "name": "stderr",
          "text": [
            "WARNING:matplotlib.font_manager:findfont: Font family 'calibari' not found.\n",
            "WARNING:matplotlib.font_manager:findfont: Font family 'calibari' not found.\n",
            "WARNING:matplotlib.font_manager:findfont: Font family 'calibari' not found.\n",
            "WARNING:matplotlib.font_manager:findfont: Font family 'calibari' not found.\n",
            "WARNING:matplotlib.font_manager:findfont: Font family 'calibari' not found.\n",
            "WARNING:matplotlib.font_manager:findfont: Font family 'calibari' not found.\n",
            "WARNING:matplotlib.font_manager:findfont: Font family 'calibari' not found.\n",
            "WARNING:matplotlib.font_manager:findfont: Font family 'calibari' not found.\n"
          ]
        },
        {
          "output_type": "display_data",
          "data": {
            "text/plain": [
              "<Figure size 800x500 with 1 Axes>"
            ],
            "image/png": "[encoded data removed]"
          },
          "metadata": {}
        }
      ]
    },
    {
      "cell_type": "markdown",
      "source": [
        "SUPPORT VECTOR REGRESSOR"
      ],
      "metadata": {
        "id": "2oh_RmlJKYQM"
      }
    },
    {
      "cell_type": "code",
      "source": [
        "import time\n",
        "st = time.time()\n",
        "from sklearn.svm import SVR\n",
        "from sklearn.svm import SVR\n",
        "regressor = SVR(kernel = 'rbf')\n",
        "regressor.fit(tr_data_X, tr_data_Y)\n",
        "y_pred_svr = regressor.predict(ts_data_X)\n",
        "et = time.time()\n",
        "elapsed_time = et - st\n",
        "print('SVR:', elapsed_time, 'seconds')"
      ],
      "metadata": {
        "colab": {
          "base_uri": "https://localhost:8080/"
        },
        "id": "zELOsdYJKfi6",
        "outputId": "f71f667d-f8dc-4c48-9089-5d169975fb85"
      },
      "execution_count": 49,
      "outputs": [
        {
          "output_type": "stream",
          "name": "stdout",
          "text": [
            "SVR: 0.02771925926208496 seconds\n"
          ]
        }
      ]
    },
    {
      "cell_type": "code",
      "source": [
        "from sklearn.metrics import r2_score,mean_squared_error\n",
        "R2_svr =r2_score(ts_data_Y, y_pred_svr)\n",
        "mse_svr= mean_squared_error(ts_data_Y, y_pred_svr)\n",
        "import scipy\n",
        "r_svr=scipy.stats.pearsonr(ts_data_Y,y_pred_svr)"
      ],
      "metadata": {
        "id": "um4H5g6zKhhc"
      },
      "execution_count": 50,
      "outputs": []
    },
    {
      "cell_type": "code",
      "source": [
        "print('R2_svr=',R2_svr)\n",
        "print('mse_svr=',mse_svr)\n",
        "print('R score_svr=',r_svr[0])"
      ],
      "metadata": {
        "colab": {
          "base_uri": "https://localhost:8080/"
        },
        "id": "_d88eKerMe03",
        "outputId": "dbf88594-c512-4ebc-accc-4251879a5b1d"
      },
      "execution_count": 51,
      "outputs": [
        {
          "output_type": "stream",
          "name": "stdout",
          "text": [
            "R2_svr= 0.05488619894469915\n",
            "mse_svr= 0.031179005091208994\n",
            "R score_svr= 0.2810694059136111\n"
          ]
        }
      ]
    },
    {
      "cell_type": "code",
      "source": [
        "# import matplotlib.pyplot as plt\n",
        "# plt.scatter(ts_data_Y, y_pred_svr)\n",
        "# plt.xlabel(\"Actual PCE\")\n",
        "# plt.ylabel(\"Predicted PCE\")\n",
        "# plt.show()"
      ],
      "metadata": {
        "id": "bEeCTGWhKlz5"
      },
      "execution_count": 52,
      "outputs": []
    },
    {
      "cell_type": "markdown",
      "source": [
        "RandomForestRegressor"
      ],
      "metadata": {
        "id": "VLqrwRo-K77n"
      }
    },
    {
      "cell_type": "code",
      "source": [
        "import time\n",
        "st = time.time()\n",
        "from sklearn.ensemble import RandomForestRegressor\n",
        "regressor = RandomForestRegressor(random_state=None)\n",
        "regressor.fit(tr_data_X, tr_data_Y)\n",
        "y_pred_rf = regressor.predict(ts_data_X)\n",
        "et = time.time()\n",
        "elapsed_time = et - st\n",
        "print('RF:', elapsed_time, 'seconds')"
      ],
      "metadata": {
        "id": "XTH2C_V7KyLq",
        "colab": {
          "base_uri": "https://localhost:8080/"
        },
        "outputId": "bdebd6c3-9aa3-4202-f7ac-4009fad5b7c5"
      },
      "execution_count": 53,
      "outputs": [
        {
          "output_type": "stream",
          "name": "stdout",
          "text": [
            "RF: 0.47455906867980957 seconds\n"
          ]
        }
      ]
    },
    {
      "cell_type": "code",
      "source": [
        "from sklearn.metrics import r2_score,mean_squared_error\n",
        "R2_rf =r2_score(ts_data_Y, y_pred_rf)\n",
        "mse_rf= mean_squared_error(ts_data_Y, y_pred_rf)\n",
        "import scipy\n",
        "r_rf=scipy.stats.pearsonr(ts_data_Y,y_pred_rf)"
      ],
      "metadata": {
        "id": "aGmwxLDPLBLY"
      },
      "execution_count": 54,
      "outputs": []
    },
    {
      "cell_type": "code",
      "source": [
        "print('R2_rf=',R2_rf)\n",
        "print('mse_rf=',mse_rf)\n",
        "print('R score_rf=',r_rf[0])"
      ],
      "metadata": {
        "colab": {
          "base_uri": "https://localhost:8080/"
        },
        "id": "jgVG2qOyM7S6",
        "outputId": "d313b737-c608-4ccc-9fde-91094d9401bf"
      },
      "execution_count": 55,
      "outputs": [
        {
          "output_type": "stream",
          "name": "stdout",
          "text": [
            "R2_rf= 0.8558860673789461\n",
            "mse_rf= 0.004754273013354371\n",
            "R score_rf= 0.961228997044018\n"
          ]
        }
      ]
    },
    {
      "cell_type": "code",
      "source": [
        "y_pred_rf"
      ],
      "metadata": {
        "colab": {
          "base_uri": "https://localhost:8080/"
        },
        "id": "pCn30usiuRyq",
        "outputId": "fc7a90c4-1555-4cd6-8aaa-3133d76b4e3e"
      },
      "execution_count": 84,
      "outputs": [
        {
          "output_type": "execute_result",
          "data": {
            "text/plain": [
              "array([1.10759667, 1.02878798, 1.10759667, 0.96761883, 1.02933   ,\n",
              "       0.8568219 , 1.11307   , 0.82251833, 1.57020833, 0.97561429,\n",
              "       1.053255  , 1.05717167, 1.05717167, 1.095855  , 0.96911786,\n",
              "       1.04737267, 1.03782889, 0.96412333, 1.01952   , 0.925494  ,\n",
              "       1.012415  , 1.126465  , 1.043675  , 0.96966667, 1.1238675 ,\n",
              "       0.93817821, 0.98450714, 0.88158667, 1.12746667, 1.04400833,\n",
              "       0.6891125 , 0.910492  , 1.05172833, 0.97151   , 0.84492   ,\n",
              "       0.945643  , 1.12458524, 0.96778   , 1.0523    , 0.99258879,\n",
              "       1.04319833, 0.92825143, 1.05863   , 1.08358667, 0.8157995 ,\n",
              "       0.96389167, 1.04281   , 1.0415431 , 1.05815381, 0.89017667,\n",
              "       0.99941   , 0.95663   , 0.84032333, 1.02818833, 1.00006333,\n",
              "       0.98802833, 1.07736   , 0.85232   , 0.88537167, 0.8831    ,\n",
              "       0.59114767])"
            ]
          },
          "metadata": {},
          "execution_count": 84
        }
      ]
    },
    {
      "cell_type": "code",
      "source": [
        "from sklearn.metrics import r2_score,mean_squared_error,mean_absolute_percentage_error,fowlkes_mallows_score\n",
        "score_rf=r2_score(ts_data_Y, y_pred_rf)\n",
        "mse_rf=mean_squared_error(ts_data_Y, y_pred_rf)\n",
        "mape=mean_absolute_percentage_error(ts_data_Y, y_pred_rf)\n",
        "mallow=fowlkes_mallows_score(ts_data_Y, y_pred_rf)\n",
        "import scipy\n",
        "r_knn=scipy.stats.pearsonr(ts_data_Y,y_pred_rf)\n",
        "from sklearn.metrics import mean_squared_log_error,mean_absolute_error\n",
        "msle=mean_squared_log_error(ts_data_Y, y_pred_rf)\n",
        "mae=mean_absolute_error(ts_data_Y, y_pred_rf)\n",
        "rmse=np.sqrt(mse_rf)\n",
        "n = len(ts_data_Y)\n",
        "p = 6  # Number of predictors\n",
        "adjusted_r2 = 1 - (1 - score_rf) * (n - 1) / (n - p - 1)\n",
        "mbe = np.mean(y_pred_rf - ts_data_Y)\n",
        "rss = np.sum((y_pred_rf - ts_data_Y)**2)\n",
        "mpe = np.mean((y_pred_rf - ts_data_Y) / ts_data_Y) * 100\n",
        "print('R2_rf=',score_rf)\n",
        "print('mse_rf=',mse_rf)\n",
        "print('R score_rf=',r_rf[0])\n",
        "print('mape_rf=',mape)\n",
        "print('mallow_rf=',mallow)\n",
        "print('msle= ',msle)\n",
        "print('mae= ',mae)\n",
        "print('rmse= ',rmse)\n",
        "print('adjusted_r2=',adjusted_r2)\n",
        "print('mbe=',mbe)\n",
        "print('rss=',rss)\n",
        "print('mpe=',mpe)"
      ],
      "metadata": {
        "colab": {
          "base_uri": "https://localhost:8080/"
        },
        "id": "fJXfnvWzuMR1",
        "outputId": "c90ec862-77c5-4d1b-c43b-dc8644f73ddc"
      },
      "execution_count": 83,
      "outputs": [
        {
          "output_type": "stream",
          "name": "stdout",
          "text": [
            "R2_rf= 0.8558860673789461\n",
            "mse_rf= 0.004754273013354371\n",
            "R score_rf= 0.961228997044018\n",
            "mape_rf= 0.04584177313111111\n",
            "mallow_rf= 0.0\n",
            "msle=  0.0012090007458445773\n",
            "mae=  0.03926126398646879\n",
            "rmse=  0.06895123648894465\n",
            "adjusted_r2= 0.839873408198829\n",
            "mbe= -0.00525323015873027\n",
            "rss= 0.29001065381461666\n",
            "mpe= 0.7725923636197263\n"
          ]
        }
      ]
    },
    {
      "cell_type": "code",
      "source": [
        "import warnings\n",
        "# Ignore the 'matplotlib.font_manager' warning\n",
        "warnings.filterwarnings('ignore', category=UserWarning, module='matplotlib.font_manager')\n",
        "# Your code for the scatter plot and other configurations\n",
        "sns.scatterplot(x=ts_data_Y, y=y_pred_rf, c='#008080', edgecolor='black', s=200)\n",
        "font1 = {'family': 'STIXGeneral', 'color': '#6f045a', 'fontweight': 'bold', 'size': 18}\n",
        "plt.yticks(color='navy', fontweight='bold', size=15)\n",
        "plt.xticks(color='navy', fontweight='bold', size=15)\n",
        "plt.xlabel('Actual pce', fontdict=font1)\n",
        "plt.ylabel('Predicted pce', fontdict=font1)\n",
        "plt.title('Randomforest plot', c='#6f045a', fontdict=font1)\n",
        "\n",
        "# Show the plot\n",
        "plt.show()\n"
      ],
      "metadata": {
        "colab": {
          "base_uri": "https://localhost:8080/",
          "height": 489
        },
        "id": "PxeNCs70LGyL",
        "outputId": "b172685c-2908-4868-f57c-d7dc61f9bd1b"
      },
      "execution_count": 56,
      "outputs": [
        {
          "output_type": "display_data",
          "data": {
            "text/plain": [
              "<Figure size 640x480 with 1 Axes>"
            ],
            "image/png": "[encoded data removed]"
          },
          "metadata": {}
        }
      ]
    },
    {
      "cell_type": "markdown",
      "source": [
        "AdaBoostRegressor"
      ],
      "metadata": {
        "id": "vkTT7xkDLcyl"
      }
    },
    {
      "cell_type": "code",
      "source": [
        "import time\n",
        "st = time.time()\n",
        "from sklearn.ensemble import AdaBoostRegressor\n",
        "from sklearn.datasets import make_regression"
      ],
      "metadata": {
        "id": "pnXNLZJxLUnl"
      },
      "execution_count": 57,
      "outputs": []
    },
    {
      "cell_type": "code",
      "source": [
        "ada_reg = AdaBoostRegressor(random_state=60, n_estimators=100)\n",
        "ada_reg.fit(tr_data_X,tr_data_Y)"
      ],
      "metadata": {
        "colab": {
          "base_uri": "https://localhost:8080/",
          "height": 74
        },
        "id": "IujCVkSgLg9_",
        "outputId": "ce9f253c-1f76-4c1b-8bbc-76a247fa8fb4"
      },
      "execution_count": 58,
      "outputs": [
        {
          "output_type": "execute_result",
          "data": {
            "text/plain": [
              "AdaBoostRegressor(n_estimators=100, random_state=60)"
            ],
            "text/html": [
              "<style>#sk-container-id-5 {color: black;background-color: white;}#sk-container-id-5 pre{padding: 0;}#sk-container-id-5 div.sk-toggleable {background-color: white;}#sk-container-id-5 label.sk-toggleable__label {cursor: pointer;display: block;width: 100%;margin-bottom: 0;padding: 0.3em;box-sizing: border-box;text-align: center;}#sk-container-id-5 label.sk-toggleable__label-arrow:before {content: \"▸\";float: left;margin-right: 0.25em;color: #696969;}#sk-container-id-5 label.sk-toggleable__label-arrow:hover:before {color: black;}#sk-container-id-5 div.sk-estimator:hover label.sk-toggleable__label-arrow:before {color: black;}#sk-container-id-5 div.sk-toggleable__content {max-height: 0;max-width: 0;overflow: hidden;text-align: left;background-color: #f0f8ff;}#sk-container-id-5 div.sk-toggleable__content pre {margin: 0.2em;color: black;border-radius: 0.25em;background-color: #f0f8ff;}#sk-container-id-5 input.sk-toggleable__control:checked~div.sk-toggleable__content {max-height: 200px;max-width: 100%;overflow: auto;}#sk-container-id-5 input.sk-toggleable__control:checked~label.sk-toggleable__label-arrow:before {content: \"▾\";}#sk-container-id-5 div.sk-estimator input.sk-toggleable__control:checked~label.sk-toggleable__label {background-color: #d4ebff;}#sk-container-id-5 div.sk-label input.sk-toggleable__control:checked~label.sk-toggleable__label {background-color: #d4ebff;}#sk-container-id-5 input.sk-hidden--visually {border: 0;clip: rect(1px 1px 1px 1px);clip: rect(1px, 1px, 1px, 1px);height: 1px;margin: -1px;overflow: hidden;padding: 0;position: absolute;width: 1px;}#sk-container-id-5 div.sk-estimator {font-family: monospace;background-color: #f0f8ff;border: 1px dotted black;border-radius: 0.25em;box-sizing: border-box;margin-bottom: 0.5em;}#sk-container-id-5 div.sk-estimator:hover {background-color: #d4ebff;}#sk-container-id-5 div.sk-parallel-item::after {content: \"\";width: 100%;border-bottom: 1px solid gray;flex-grow: 1;}#sk-container-id-5 div.sk-label:hover label.sk-toggleable__label {background-color: #d4ebff;}#sk-container-id-5 div.sk-serial::before {content: \"\";position: absolute;border-left: 1px solid gray;box-sizing: border-box;top: 0;bottom: 0;left: 50%;z-index: 0;}#sk-container-id-5 div.sk-serial {display: flex;flex-direction: column;align-items: center;background-color: white;padding-right: 0.2em;padding-left: 0.2em;position: relative;}#sk-container-id-5 div.sk-item {position: relative;z-index: 1;}#sk-container-id-5 div.sk-parallel {display: flex;align-items: stretch;justify-content: center;background-color: white;position: relative;}#sk-container-id-5 div.sk-item::before, #sk-container-id-5 div.sk-parallel-item::before {content: \"\";position: absolute;border-left: 1px solid gray;box-sizing: border-box;top: 0;bottom: 0;left: 50%;z-index: -1;}#sk-container-id-5 div.sk-parallel-item {display: flex;flex-direction: column;z-index: 1;position: relative;background-color: white;}#sk-container-id-5 div.sk-parallel-item:first-child::after {align-self: flex-end;width: 50%;}#sk-container-id-5 div.sk-parallel-item:last-child::after {align-self: flex-start;width: 50%;}#sk-container-id-5 div.sk-parallel-item:only-child::after {width: 0;}#sk-container-id-5 div.sk-dashed-wrapped {border: 1px dashed gray;margin: 0 0.4em 0.5em 0.4em;box-sizing: border-box;padding-bottom: 0.4em;background-color: white;}#sk-container-id-5 div.sk-label label {font-family: monospace;font-weight: bold;display: inline-block;line-height: 1.2em;}#sk-container-id-5 div.sk-label-container {text-align: center;}#sk-container-id-5 div.sk-container {/* jupyter's `normalize.less` sets `[hidden] { display: none; }` but bootstrap.min.css set `[hidden] { display: none !important; }` so we also need the `!important` here to be able to override the default hidden behavior on the sphinx rendered scikit-learn.org. See: https://github.com/scikit-learn/scikit-learn/issues/21755 */display: inline-block !important;position: relative;}#sk-container-id-5 div.sk-text-repr-fallback {display: none;}</style><div id=\"sk-container-id-5\" class=\"sk-top-container\"><div class=\"sk-text-repr-fallback\"><pre>AdaBoostRegressor(n_estimators=100, random_state=60)</pre><b>In a Jupyter environment, please rerun this cell to show the HTML representation or trust the notebook. <br />On GitHub, the HTML representation is unable to render, please try loading this page with nbviewer.org.</b></div><div class=\"sk-container\" hidden><div class=\"sk-item\"><div class=\"sk-estimator sk-toggleable\"><input class=\"sk-toggleable__control sk-hidden--visually\" id=\"sk-estimator-id-5\" type=\"checkbox\" checked><label for=\"sk-estimator-id-5\" class=\"sk-toggleable__label sk-toggleable__label-arrow\">AdaBoostRegressor</label><div class=\"sk-toggleable__content\"><pre>AdaBoostRegressor(n_estimators=100, random_state=60)</pre></div></div></div></div></div>"
            ]
          },
          "metadata": {},
          "execution_count": 58
        }
      ]
    },
    {
      "cell_type": "code",
      "source": [
        "AdaBoostRegressor(n_estimators=100, random_state=0)\n",
        "y_pred_AdB = np.array(ada_reg.predict(ts_data_X))\n",
        "et = time.time()\n",
        "elapsed_time = et - st\n",
        "print('ADB :', elapsed_time, 'seconds')"
      ],
      "metadata": {
        "colab": {
          "base_uri": "https://localhost:8080/"
        },
        "id": "8_2yRRR-Nbnz",
        "outputId": "cedffba8-39c6-4def-cfd1-1be39cd477ba"
      },
      "execution_count": 59,
      "outputs": [
        {
          "output_type": "stream",
          "name": "stdout",
          "text": [
            "ADB : 0.21156072616577148 seconds\n"
          ]
        }
      ]
    },
    {
      "cell_type": "code",
      "source": [
        "from sklearn.metrics import r2_score,mean_squared_error\n",
        "R2_AdB =r2_score(ts_data_Y, y_pred_AdB)\n",
        "mse_AdB= mean_squared_error(ts_data_Y, y_pred_AdB)\n",
        "import scipy\n",
        "r_AdB=scipy.stats.pearsonr(ts_data_Y,y_pred_AdB)"
      ],
      "metadata": {
        "id": "zaRFKdgfNilO"
      },
      "execution_count": 60,
      "outputs": []
    },
    {
      "cell_type": "code",
      "source": [
        "print('R2_AdB=',R2_AdB)\n",
        "print('mse_AdB=',mse_AdB)\n",
        "print('R score_AdB=',r_AdB[0])"
      ],
      "metadata": {
        "colab": {
          "base_uri": "https://localhost:8080/"
        },
        "id": "F0B2uIFlNlbr",
        "outputId": "6366d29d-ab3f-48f2-bbe5-f623e8956ca4"
      },
      "execution_count": 61,
      "outputs": [
        {
          "output_type": "stream",
          "name": "stdout",
          "text": [
            "R2_AdB= 0.41400286909160233\n",
            "mse_AdB= 0.019331859832779782\n",
            "R score_AdB= 0.6940664079009436\n"
          ]
        }
      ]
    },
    {
      "cell_type": "code",
      "source": [
        "# import matplotlib.pyplot as plt\n",
        "# plt.scatter(ts_data_Y,y_pred_AdB)\n",
        "# plt.xlabel(\"Actual PCE\")\n",
        "# plt.ylabel(\"Predicted PCE\")\n",
        "# plt.show()"
      ],
      "metadata": {
        "id": "lKHE6tTqLmsd"
      },
      "execution_count": 62,
      "outputs": []
    },
    {
      "cell_type": "markdown",
      "source": [
        "LGBMRegressor"
      ],
      "metadata": {
        "id": "-f26JJtvL-fi"
      }
    },
    {
      "cell_type": "code",
      "source": [
        "import time\n",
        "st = time.time()\n",
        "from sklearn.datasets import make_regression\n",
        "from lightgbm import LGBMRegressor\n",
        "model_LGBM = LGBMRegressor(learning_rate=0.5)"
      ],
      "metadata": {
        "id": "rgBMbNBRL2fL"
      },
      "execution_count": 63,
      "outputs": []
    },
    {
      "cell_type": "code",
      "source": [
        "model_LGBM.fit(tr_data_X,tr_data_Y)"
      ],
      "metadata": {
        "colab": {
          "base_uri": "https://localhost:8080/",
          "height": 74
        },
        "id": "fVn4lBQ1MC-6",
        "outputId": "30b29fa5-f305-4823-b832-14d7c16b59c6"
      },
      "execution_count": 64,
      "outputs": [
        {
          "output_type": "execute_result",
          "data": {
            "text/plain": [
              "LGBMRegressor(learning_rate=0.5)"
            ],
            "text/html": [
              "<style>#sk-container-id-6 {color: black;background-color: white;}#sk-container-id-6 pre{padding: 0;}#sk-container-id-6 div.sk-toggleable {background-color: white;}#sk-container-id-6 label.sk-toggleable__label {cursor: pointer;display: block;width: 100%;margin-bottom: 0;padding: 0.3em;box-sizing: border-box;text-align: center;}#sk-container-id-6 label.sk-toggleable__label-arrow:before {content: \"▸\";float: left;margin-right: 0.25em;color: #696969;}#sk-container-id-6 label.sk-toggleable__label-arrow:hover:before {color: black;}#sk-container-id-6 div.sk-estimator:hover label.sk-toggleable__label-arrow:before {color: black;}#sk-container-id-6 div.sk-toggleable__content {max-height: 0;max-width: 0;overflow: hidden;text-align: left;background-color: #f0f8ff;}#sk-container-id-6 div.sk-toggleable__content pre {margin: 0.2em;color: black;border-radius: 0.25em;background-color: #f0f8ff;}#sk-container-id-6 input.sk-toggleable__control:checked~div.sk-toggleable__content {max-height: 200px;max-width: 100%;overflow: auto;}#sk-container-id-6 input.sk-toggleable__control:checked~label.sk-toggleable__label-arrow:before {content: \"▾\";}#sk-container-id-6 div.sk-estimator input.sk-toggleable__control:checked~label.sk-toggleable__label {background-color: #d4ebff;}#sk-container-id-6 div.sk-label input.sk-toggleable__control:checked~label.sk-toggleable__label {background-color: #d4ebff;}#sk-container-id-6 input.sk-hidden--visually {border: 0;clip: rect(1px 1px 1px 1px);clip: rect(1px, 1px, 1px, 1px);height: 1px;margin: -1px;overflow: hidden;padding: 0;position: absolute;width: 1px;}#sk-container-id-6 div.sk-estimator {font-family: monospace;background-color: #f0f8ff;border: 1px dotted black;border-radius: 0.25em;box-sizing: border-box;margin-bottom: 0.5em;}#sk-container-id-6 div.sk-estimator:hover {background-color: #d4ebff;}#sk-container-id-6 div.sk-parallel-item::after {content: \"\";width: 100%;border-bottom: 1px solid gray;flex-grow: 1;}#sk-container-id-6 div.sk-label:hover label.sk-toggleable__label {background-color: #d4ebff;}#sk-container-id-6 div.sk-serial::before {content: \"\";position: absolute;border-left: 1px solid gray;box-sizing: border-box;top: 0;bottom: 0;left: 50%;z-index: 0;}#sk-container-id-6 div.sk-serial {display: flex;flex-direction: column;align-items: center;background-color: white;padding-right: 0.2em;padding-left: 0.2em;position: relative;}#sk-container-id-6 div.sk-item {position: relative;z-index: 1;}#sk-container-id-6 div.sk-parallel {display: flex;align-items: stretch;justify-content: center;background-color: white;position: relative;}#sk-container-id-6 div.sk-item::before, #sk-container-id-6 div.sk-parallel-item::before {content: \"\";position: absolute;border-left: 1px solid gray;box-sizing: border-box;top: 0;bottom: 0;left: 50%;z-index: -1;}#sk-container-id-6 div.sk-parallel-item {display: flex;flex-direction: column;z-index: 1;position: relative;background-color: white;}#sk-container-id-6 div.sk-parallel-item:first-child::after {align-self: flex-end;width: 50%;}#sk-container-id-6 div.sk-parallel-item:last-child::after {align-self: flex-start;width: 50%;}#sk-container-id-6 div.sk-parallel-item:only-child::after {width: 0;}#sk-container-id-6 div.sk-dashed-wrapped {border: 1px dashed gray;margin: 0 0.4em 0.5em 0.4em;box-sizing: border-box;padding-bottom: 0.4em;background-color: white;}#sk-container-id-6 div.sk-label label {font-family: monospace;font-weight: bold;display: inline-block;line-height: 1.2em;}#sk-container-id-6 div.sk-label-container {text-align: center;}#sk-container-id-6 div.sk-container {/* jupyter's `normalize.less` sets `[hidden] { display: none; }` but bootstrap.min.css set `[hidden] { display: none !important; }` so we also need the `!important` here to be able to override the default hidden behavior on the sphinx rendered scikit-learn.org. See: https://github.com/scikit-learn/scikit-learn/issues/21755 */display: inline-block !important;position: relative;}#sk-container-id-6 div.sk-text-repr-fallback {display: none;}</style><div id=\"sk-container-id-6\" class=\"sk-top-container\"><div class=\"sk-text-repr-fallback\"><pre>LGBMRegressor(learning_rate=0.5)</pre><b>In a Jupyter environment, please rerun this cell to show the HTML representation or trust the notebook. <br />On GitHub, the HTML representation is unable to render, please try loading this page with nbviewer.org.</b></div><div class=\"sk-container\" hidden><div class=\"sk-item\"><div class=\"sk-estimator sk-toggleable\"><input class=\"sk-toggleable__control sk-hidden--visually\" id=\"sk-estimator-id-6\" type=\"checkbox\" checked><label for=\"sk-estimator-id-6\" class=\"sk-toggleable__label sk-toggleable__label-arrow\">LGBMRegressor</label><div class=\"sk-toggleable__content\"><pre>LGBMRegressor(learning_rate=0.5)</pre></div></div></div></div></div>"
            ]
          },
          "metadata": {},
          "execution_count": 64
        }
      ]
    },
    {
      "cell_type": "code",
      "source": [
        "y_pred_LightGBM = np.array(model_LGBM.predict(ts_data_X))\n",
        "et = time.time()\n",
        "elapsed_time = et - st\n",
        "print('LGBM:', elapsed_time, 'seconds')"
      ],
      "metadata": {
        "id": "Xs4GPKEBMF3d",
        "colab": {
          "base_uri": "https://localhost:8080/"
        },
        "outputId": "13f57e73-dee4-4c40-cb0d-c9789ad6daa0"
      },
      "execution_count": 65,
      "outputs": [
        {
          "output_type": "stream",
          "name": "stdout",
          "text": [
            "LGBM: 1.1067662239074707 seconds\n"
          ]
        }
      ]
    },
    {
      "cell_type": "code",
      "source": [
        "from sklearn.metrics import r2_score,mean_squared_error\n",
        "R2_LightGBM =r2_score(ts_data_Y, y_pred_LightGBM)\n",
        "mse_LightGBM= mean_squared_error(ts_data_Y, y_pred_LightGBM)\n",
        "import scipy\n",
        "r_LightGBM=scipy.stats.pearsonr(ts_data_Y,y_pred_LightGBM)"
      ],
      "metadata": {
        "id": "n7_bs7o0MIW2"
      },
      "execution_count": 66,
      "outputs": []
    },
    {
      "cell_type": "code",
      "source": [
        "print('R2_LightGBM=',R2_LightGBM)\n",
        "print('mse_LightGBM=',mse_LightGBM)\n",
        "print('R score_LightGBM=',r_LightGBM[0])"
      ],
      "metadata": {
        "colab": {
          "base_uri": "https://localhost:8080/"
        },
        "id": "hoPPHrcxMKfU",
        "outputId": "2310fb7e-576b-4902-fe50-591d83c08f75"
      },
      "execution_count": 67,
      "outputs": [
        {
          "output_type": "stream",
          "name": "stdout",
          "text": [
            "R2_LightGBM= 0.9189105374645808\n",
            "mse_LightGBM= 0.0026751156976145963\n",
            "R score_LightGBM= 0.9748643558144559\n"
          ]
        }
      ]
    },
    {
      "cell_type": "code",
      "source": [
        "import warnings\n",
        "# Ignore the 'matplotlib.font_manager' warning\n",
        "warnings.filterwarnings('ignore', category=UserWarning, module='matplotlib.font_manager')\n",
        "# Your code for the scatter plot and other configurations\n",
        "sns.scatterplot(x=ts_data_Y, y=y_pred_LightGBM, c='#008080', edgecolor='black', s=200)\n",
        "font1 = {'family': 'STIXGeneral', 'color': '#6f045a', 'fontweight': 'bold', 'size': 18}\n",
        "plt.yticks(color='navy', fontweight='bold', size=15)\n",
        "plt.xticks(color='navy', fontweight='bold', size=15)\n",
        "plt.xlabel('Actual pce', fontdict=font1)\n",
        "plt.ylabel('Predicted pce', fontdict=font1)\n",
        "plt.title('LightGBM plot', c='#6f045a', fontdict=font1)\n",
        "\n",
        "# Show the plot\n",
        "plt.show()\n"
      ],
      "metadata": {
        "colab": {
          "base_uri": "https://localhost:8080/",
          "height": 489
        },
        "id": "zIFqEJ3LMOEs",
        "outputId": "f560fda5-872e-4544-8106-8303cf8204e7"
      },
      "execution_count": 68,
      "outputs": [
        {
          "output_type": "display_data",
          "data": {
            "text/plain": [
              "<Figure size 640x480 with 1 Axes>"
            ],
            "image/png": "[encoded data removed]"
          },
          "metadata": {}
        }
      ]
    },
    {
      "cell_type": "code",
      "source": [
        "y_pred_LightGBM"
      ],
      "metadata": {
        "colab": {
          "base_uri": "https://localhost:8080/"
        },
        "id": "LSkkj2snvAVL",
        "outputId": "7aee176c-fff7-472d-88b6-7d1ecbb88d5e"
      },
      "execution_count": 86,
      "outputs": [
        {
          "output_type": "execute_result",
          "data": {
            "text/plain": [
              "array([1.10327514, 1.02421578, 1.10327514, 0.93530217, 1.02457053,\n",
              "       0.84253829, 1.09973546, 0.8491237 , 1.6997753 , 0.9776861 ,\n",
              "       1.0310011 , 1.07744795, 1.07744795, 1.10652938, 0.97238698,\n",
              "       1.03741926, 1.03421358, 0.99628572, 1.02844133, 0.94752175,\n",
              "       1.04713485, 1.15437164, 1.04938647, 0.96740671, 1.10581474,\n",
              "       0.94483883, 1.00056622, 0.88811639, 1.12342051, 1.04420762,\n",
              "       0.60316757, 0.88710797, 1.05663611, 0.91737926, 0.81052391,\n",
              "       0.95096508, 1.1162771 , 0.95426109, 1.07930378, 0.99018025,\n",
              "       1.06758454, 0.93269415, 1.05655143, 1.09190463, 0.81656433,\n",
              "       0.94649167, 1.04532949, 1.05309242, 1.04073754, 0.87954065,\n",
              "       1.00304439, 0.92967621, 0.8133698 , 1.04081384, 0.96643156,\n",
              "       0.97887195, 1.07895619, 0.8605146 , 0.84670994, 0.86460969,\n",
              "       0.56643543])"
            ]
          },
          "metadata": {},
          "execution_count": 86
        }
      ]
    },
    {
      "cell_type": "code",
      "source": [
        "from sklearn.metrics import r2_score,mean_squared_error,mean_absolute_percentage_error,fowlkes_mallows_score\n",
        "score_LightGBM=r2_score(ts_data_Y, y_pred_LightGBM)\n",
        "mse_LightGBM=mean_squared_error(ts_data_Y, y_pred_LightGBM)\n",
        "mape=mean_absolute_percentage_error(ts_data_Y, y_pred_LightGBM)\n",
        "mallow=fowlkes_mallows_score(ts_data_Y, y_pred_LightGBM)\n",
        "import scipy\n",
        "r_LightGBM=scipy.stats.pearsonr(ts_data_Y,y_pred_LightGBM)\n",
        "from sklearn.metrics import mean_squared_log_error,mean_absolute_error\n",
        "msle=mean_squared_log_error(ts_data_Y, y_pred_LightGBM)\n",
        "mae=mean_absolute_error(ts_data_Y, y_pred_LightGBM)\n",
        "rmse=np.sqrt(mse_LightGBM)\n",
        "n = len(ts_data_Y)\n",
        "p = 6  # Number of predictors\n",
        "adjusted_r2 = 1 - (1 - score_LightGBM) * (n - 1) / (n - p - 1)\n",
        "mbe = np.mean(y_pred_LightGBM - ts_data_Y)\n",
        "rss = np.sum((y_pred_LightGBM - ts_data_Y)**2)\n",
        "mpe = np.mean((y_pred_LightGBM - ts_data_Y) / ts_data_Y) * 100\n",
        "print('R2_LightGBM=',score_LightGBM)\n",
        "print('mse_LightGBM=',mse_LightGBM)\n",
        "print('R score_LightGBM=',r_LightGBM[0])\n",
        "print('mape_LightGBM=',mape)\n",
        "print('mallow_LightGBM=',mallow)\n",
        "print('msle= ',msle)\n",
        "print('mae= ',mae)\n",
        "print('rmse= ',rmse)\n",
        "print('adjusted_r2=',adjusted_r2)\n",
        "print('mbe=',mbe)\n",
        "print('rss=',rss)\n",
        "print('mpe=',mpe)"
      ],
      "metadata": {
        "colab": {
          "base_uri": "https://localhost:8080/"
        },
        "id": "LAGCEs1yu-E_",
        "outputId": "ee96eb53-56db-4878-c92d-ad9cd9894558"
      },
      "execution_count": 85,
      "outputs": [
        {
          "output_type": "stream",
          "name": "stdout",
          "text": [
            "R2_LightGBM= 0.9189105374645808\n",
            "mse_LightGBM= 0.0026751156976145963\n",
            "R score_LightGBM= 0.9748643558144559\n",
            "mape_LightGBM= 0.04033692086424615\n",
            "mallow_LightGBM= 0.0\n",
            "msle=  0.0007201647707545013\n",
            "mae=  0.03511036745798033\n",
            "rmse=  0.051721520642906436\n",
            "adjusted_r2= 0.9099005971828676\n",
            "mbe= -0.006849456002377993\n",
            "rss= 0.1631820575544904\n",
            "mpe= 0.2249757060892492\n"
          ]
        }
      ]
    },
    {
      "cell_type": "code",
      "source": [
        "pip install catboost"
      ],
      "metadata": {
        "colab": {
          "base_uri": "https://localhost:8080/"
        },
        "id": "FCuAsBxMMb8v",
        "outputId": "2d49c72f-d3a7-46d6-ee15-f0800dd44be7"
      },
      "execution_count": 69,
      "outputs": [
        {
          "output_type": "stream",
          "name": "stdout",
          "text": [
            "Collecting catboost\n",
            "  Downloading catboost-1.2-cp310-cp310-manylinux2014_x86_64.whl (98.6 MB)\n",
            "\u001b[2K     \u001b[90m━━━━━━━━━━━━━━━━━━━━━━━━━━━━━━━━━━━━━━━━\u001b[0m \u001b[32m98.6/98.6 MB\u001b[0m \u001b[31m8.4 MB/s\u001b[0m eta \u001b[36m0:00:00\u001b[0m\n",
            "\u001b[?25hRequirement already satisfied: graphviz in /usr/local/lib/python3.10/dist-packages (from catboost) (0.20.1)\n",
            "Requirement already satisfied: matplotlib in /usr/local/lib/python3.10/dist-packages (from catboost) (3.7.1)\n",
            "Requirement already satisfied: numpy>=1.16.0 in /usr/local/lib/python3.10/dist-packages (from catboost) (1.23.5)\n",
            "Requirement already satisfied: pandas>=0.24 in /usr/local/lib/python3.10/dist-packages (from catboost) (1.5.3)\n",
            "Requirement already satisfied: scipy in /usr/local/lib/python3.10/dist-packages (from catboost) (1.10.1)\n",
            "Requirement already satisfied: plotly in /usr/local/lib/python3.10/dist-packages (from catboost) (5.13.1)\n",
            "Requirement already satisfied: six in /usr/local/lib/python3.10/dist-packages (from catboost) (1.16.0)\n",
            "Requirement already satisfied: python-dateutil>=2.8.1 in /usr/local/lib/python3.10/dist-packages (from pandas>=0.24->catboost) (2.8.2)\n",
            "Requirement already satisfied: pytz>=2020.1 in /usr/local/lib/python3.10/dist-packages (from pandas>=0.24->catboost) (2022.7.1)\n",
            "Requirement already satisfied: contourpy>=1.0.1 in /usr/local/lib/python3.10/dist-packages (from matplotlib->catboost) (1.1.0)\n",
            "Requirement already satisfied: cycler>=0.10 in /usr/local/lib/python3.10/dist-packages (from matplotlib->catboost) (0.11.0)\n",
            "Requirement already satisfied: fonttools>=4.22.0 in /usr/local/lib/python3.10/dist-packages (from matplotlib->catboost) (4.42.0)\n",
            "Requirement already satisfied: kiwisolver>=1.0.1 in /usr/local/lib/python3.10/dist-packages (from matplotlib->catboost) (1.4.4)\n",
            "Requirement already satisfied: packaging>=20.0 in /usr/local/lib/python3.10/dist-packages (from matplotlib->catboost) (23.1)\n",
            "Requirement already satisfied: pillow>=6.2.0 in /usr/local/lib/python3.10/dist-packages (from matplotlib->catboost) (9.4.0)\n",
            "Requirement already satisfied: pyparsing>=2.3.1 in /usr/local/lib/python3.10/dist-packages (from matplotlib->catboost) (3.1.1)\n",
            "Requirement already satisfied: tenacity>=6.2.0 in /usr/local/lib/python3.10/dist-packages (from plotly->catboost) (8.2.2)\n",
            "Installing collected packages: catboost\n",
            "Successfully installed catboost-1.2\n"
          ]
        }
      ]
    },
    {
      "cell_type": "code",
      "source": [
        "import time\n",
        "st = time.time()\n",
        "from catboost import CatBoostRegressor\n",
        "model=CatBoostRegressor(iterations=18, depth=4, learning_rate=0.2, loss_function='RMSE')\n",
        "model.fit(tr_data_X,tr_data_Y, eval_set=(ts_data_X,ts_data_Y),plot=True)\n",
        "y_pred_CatBoost = np.array(model.predict(ts_data_X))\n",
        "et = time.time()\n",
        "elapsed_time = et - st\n",
        "print('catboost:', elapsed_time, 'seconds')"
      ],
      "metadata": {
        "colab": {
          "base_uri": "https://localhost:8080/",
          "height": 416,
          "referenced_widgets": [
            "75e3b3fc30454bb9a23f8bb87659626f"
          ]
        },
        "id": "FUYoflACMQz9",
        "outputId": "1b2b8381-1518-43d8-9ab8-151796e23124"
      },
      "execution_count": 70,
      "outputs": [
        {
          "output_type": "display_data",
          "data": {
            "text/plain": [
              "MetricVisualizer(layout=Layout(align_self='stretch', height='500px'))"
            ],
            "application/vnd.jupyter.widget-view+json": {
              "version_major": 2,
              "version_minor": 0,
              "model_id": "75e3b3fc30454bb9a23f8bb87659626f"
            }
          },
          "metadata": {}
        },
        {
          "output_type": "stream",
          "name": "stdout",
          "text": [
            "0:\tlearn: 0.1473924\ttest: 0.1808995\tbest: 0.1808995 (0)\ttotal: 46.7ms\tremaining: 794ms\n",
            "1:\tlearn: 0.1451288\ttest: 0.1802879\tbest: 0.1802879 (1)\ttotal: 47.1ms\tremaining: 377ms\n",
            "2:\tlearn: 0.1435059\ttest: 0.1773743\tbest: 0.1773743 (2)\ttotal: 47.5ms\tremaining: 238ms\n",
            "3:\tlearn: 0.1418791\ttest: 0.1768322\tbest: 0.1768322 (3)\ttotal: 51.2ms\tremaining: 179ms\n",
            "4:\tlearn: 0.1408100\ttest: 0.1763811\tbest: 0.1763811 (4)\ttotal: 51.6ms\tremaining: 134ms\n",
            "5:\tlearn: 0.1398346\ttest: 0.1760393\tbest: 0.1760393 (5)\ttotal: 52.4ms\tremaining: 105ms\n",
            "6:\tlearn: 0.1384178\ttest: 0.1748467\tbest: 0.1748467 (6)\ttotal: 53.1ms\tremaining: 83.4ms\n",
            "7:\tlearn: 0.1364335\ttest: 0.1740968\tbest: 0.1740968 (7)\ttotal: 53.9ms\tremaining: 67.3ms\n",
            "8:\tlearn: 0.1356228\ttest: 0.1740616\tbest: 0.1740616 (8)\ttotal: 54.5ms\tremaining: 54.5ms\n",
            "9:\tlearn: 0.1346559\ttest: 0.1708274\tbest: 0.1708274 (9)\ttotal: 55.3ms\tremaining: 44.2ms\n",
            "10:\tlearn: 0.1337691\ttest: 0.1702161\tbest: 0.1702161 (10)\ttotal: 56.1ms\tremaining: 35.7ms\n",
            "11:\tlearn: 0.1330449\ttest: 0.1699350\tbest: 0.1699350 (11)\ttotal: 57ms\tremaining: 28.5ms\n",
            "12:\tlearn: 0.1315108\ttest: 0.1658739\tbest: 0.1658739 (12)\ttotal: 57.8ms\tremaining: 22.2ms\n",
            "13:\tlearn: 0.1297913\ttest: 0.1639853\tbest: 0.1639853 (13)\ttotal: 58.5ms\tremaining: 16.7ms\n",
            "14:\tlearn: 0.1290565\ttest: 0.1633141\tbest: 0.1633141 (14)\ttotal: 59.4ms\tremaining: 11.9ms\n",
            "15:\tlearn: 0.1285149\ttest: 0.1601723\tbest: 0.1601723 (15)\ttotal: 60.1ms\tremaining: 7.51ms\n",
            "16:\tlearn: 0.1279415\ttest: 0.1572524\tbest: 0.1572524 (16)\ttotal: 60.9ms\tremaining: 3.58ms\n",
            "17:\tlearn: 0.1271724\ttest: 0.1563629\tbest: 0.1563629 (17)\ttotal: 61.6ms\tremaining: 0us\n",
            "\n",
            "bestTest = 0.1563629326\n",
            "bestIteration = 17\n",
            "\n",
            "catboost: 0.17990517616271973 seconds\n"
          ]
        }
      ]
    },
    {
      "cell_type": "code",
      "source": [
        "from sklearn.metrics import r2_score,mean_squared_error\n",
        "R2_CatBoost =r2_score(ts_data_Y, y_pred_CatBoost)\n",
        "mse_CatBoost= mean_squared_error(ts_data_Y,y_pred_CatBoost)\n",
        "import scipy\n",
        "r_CatBoost=scipy.stats.pearsonr(ts_data_Y,y_pred_CatBoost)"
      ],
      "metadata": {
        "id": "PyM_-Gx5MZS5"
      },
      "execution_count": 71,
      "outputs": []
    },
    {
      "cell_type": "code",
      "source": [
        "print('R2_CatBoost=',R2_CatBoost)\n",
        "print('mse_CatBoost=',mse_CatBoost)\n",
        "print('R score_CatBoost=',r_CatBoost[0])"
      ],
      "metadata": {
        "colab": {
          "base_uri": "https://localhost:8080/"
        },
        "id": "lLL2DvlzMrWj",
        "outputId": "4dde67ef-f898-4bbb-ab26-f1f00bfa0de9"
      },
      "execution_count": 72,
      "outputs": [
        {
          "output_type": "stream",
          "name": "stdout",
          "text": [
            "R2_CatBoost= 0.2588783598475193\n",
            "mse_CatBoost= 0.024449368283182317\n",
            "R score_CatBoost= 0.6446801456650882\n"
          ]
        }
      ]
    },
    {
      "cell_type": "markdown",
      "source": [
        "ANN"
      ],
      "metadata": {
        "id": "2ogyY6_aNSrh"
      }
    },
    {
      "cell_type": "markdown",
      "source": [
        "ANN"
      ],
      "metadata": {
        "id": "kJNqO2NUbuyy"
      }
    },
    {
      "cell_type": "code",
      "source": [
        "import tensorflow as tf\n",
        "import time\n"
      ],
      "metadata": {
        "id": "laDBhJ21MwlA"
      },
      "execution_count": 73,
      "outputs": []
    },
    {
      "cell_type": "code",
      "source": [
        "from keras.models import Sequential\n",
        "from keras.layers import Dense\n",
        "from sklearn.metrics import mean_squared_error\n",
        "np.random.seed(seed=8)\n",
        "model = Sequential()\n",
        "model.add(Dense(units=20, input_dim=6, kernel_initializer='normal', activation='relu'))\n",
        "model.add(Dense(units=20, kernel_initializer='normal', activation='tanh'))\n",
        "model.add(Dense(1, kernel_initializer='normal'))\n",
        "model.compile(loss='mean_squared_error', optimizer='adam')\n",
        "model.fit(tr_data_X, tr_data_Y ,batch_size = 8, epochs = 100,verbose=0)\n",
        "pred=model.predict(ts_data_X)\n",
        "pred_ANN=[]\n",
        "for i in pred:\n",
        "  pred_ANN.append(i[0])\n",
        "pred_ANN=np.array(pred_ANN)\n",
        "rms = mean_squared_error(pred_ANN, ts_data_Y, squared=False)\n",
        "print(rms)"
      ],
      "metadata": {
        "colab": {
          "base_uri": "https://localhost:8080/"
        },
        "id": "sxCK3HzgNW7Z",
        "outputId": "f0318ef9-3614-4534-cd13-cd91126a9cd9"
      },
      "execution_count": 74,
      "outputs": [
        {
          "output_type": "stream",
          "name": "stdout",
          "text": [
            "2/2 [==============================] - 1s 14ms/step\n",
            "0.18180556775805323\n"
          ]
        }
      ]
    },
    {
      "cell_type": "code",
      "source": [
        "from sklearn.metrics import r2_score,mean_squared_error\n",
        "R2_ANN =r2_score(ts_data_Y, pred_ANN)\n",
        "mse_ANN= mean_squared_error(ts_data_Y,pred_ANN)\n",
        "import scipy\n",
        "r_ANN=scipy.stats.pearsonr(ts_data_Y,pred_ANN)"
      ],
      "metadata": {
        "id": "mlPgRwqtNaal"
      },
      "execution_count": 75,
      "outputs": []
    },
    {
      "cell_type": "code",
      "source": [
        "print('R2_ANN=',R2_ANN)\n",
        "print('mse_ANN=',mse_ANN)\n",
        "print('R score_ANN=',r_ANN[0])"
      ],
      "metadata": {
        "colab": {
          "base_uri": "https://localhost:8080/"
        },
        "id": "u2j_m3RFNp-Q",
        "outputId": "0759eaee-4722-48ba-eb2b-90513dfb888b"
      },
      "execution_count": 76,
      "outputs": [
        {
          "output_type": "stream",
          "name": "stdout",
          "text": [
            "R2_ANN= -0.0019273009863636226\n",
            "mse_ANN= 0.03305326446782809\n",
            "R score_ANN= 0.3169997321364977\n"
          ]
        }
      ]
    },
    {
      "cell_type": "code",
      "source": [
        "# print('R2_LR=',score_lr)\n",
        "# print('mse_LR=',mse_lr)\n",
        "# print('R score_LR=',r_lr[0])\n",
        "print('-----------------------------------------')\n",
        "print('R2_dtr=',score_dtr)\n",
        "print('mse_dtr=',mse_dtr)\n",
        "print('R score_dtr=',r_dtr[0])\n",
        "print('-----------------------------------------')\n",
        "print('R2_xgb=',R2_xgb)\n",
        "print('mse_xgb=',mse_xgb)\n",
        "print('R score_xgb=',r_xgb[0])\n",
        "print('-----------------------------------------')\n",
        "print('R2_knn=',R2_knn)\n",
        "print('mse_knn=',mse_knn)\n",
        "print('R score_knn=',r_knn[0])\n",
        "print('-----------------------------------------')\n",
        "print('R2_svr=',R2_svr)\n",
        "print('mse_svr=',mse_svr)\n",
        "print('R score_svr=',r_svr[0])\n",
        "print('-----------------------------------------')\n",
        "print('R2_rf=',R2_rf)\n",
        "print('mse_rf=',mse_rf)\n",
        "print('R score_rf=',r_rf[0])\n",
        "print('-----------------------------------------')\n",
        "print('R2_AdB=',R2_AdB)\n",
        "print('mse_AdB=',mse_AdB)\n",
        "print('R score_AdB=',r_AdB[0])\n",
        "print('-----------------------------------------')\n",
        "print('R2_LightGBM=',R2_LightGBM)\n",
        "print('mse_LightGBM=',mse_LightGBM)\n",
        "print('R score_LightGBM=',r_LightGBM[0])\n",
        "print('-----------------------------------------')\n",
        "print('R2_CatBoost=',R2_CatBoost)\n",
        "print('mse_CatBoost=',mse_CatBoost)\n",
        "print('R score_CatBoost=',r_CatBoost[0])\n",
        "print('-----------------------------------------')\n",
        "print('R2_ANN=',R2_ANN)\n",
        "print('mse_ANN=',mse_ANN)\n",
        "print('R score_ANN=',r_ANN[0])"
      ],
      "metadata": {
        "id": "pQur5EwGNtEB",
        "colab": {
          "base_uri": "https://localhost:8080/"
        },
        "outputId": "0bad70d2-2916-428b-8757-e1cafd7a98f7"
      },
      "execution_count": 77,
      "outputs": [
        {
          "output_type": "stream",
          "name": "stdout",
          "text": [
            "-----------------------------------------\n",
            "R2_dtr= 0.9640800798497811\n",
            "mse_dtr= 0.00118498679417122\n",
            "R score_dtr= 0.9819681410152737\n",
            "-----------------------------------------\n",
            "R2_xgb= 0.9409744519830823\n",
            "mse_xgb= 0.0019472341426778022\n",
            "R score_xgb= 0.9727875162651427\n",
            "-----------------------------------------\n",
            "R2_knn= 0.7141543040354362\n",
            "mse_knn= 0.00942995901639344\n",
            "R score_knn= 0.8781950838447034\n",
            "-----------------------------------------\n",
            "R2_svr= 0.05488619894469915\n",
            "mse_svr= 0.031179005091208994\n",
            "R score_svr= 0.2810694059136111\n",
            "-----------------------------------------\n",
            "R2_rf= 0.8558860673789461\n",
            "mse_rf= 0.004754273013354371\n",
            "R score_rf= 0.961228997044018\n",
            "-----------------------------------------\n",
            "R2_AdB= 0.41400286909160233\n",
            "mse_AdB= 0.019331859832779782\n",
            "R score_AdB= 0.6940664079009436\n",
            "-----------------------------------------\n",
            "R2_LightGBM= 0.9189105374645808\n",
            "mse_LightGBM= 0.0026751156976145963\n",
            "R score_LightGBM= 0.9748643558144559\n",
            "-----------------------------------------\n",
            "R2_CatBoost= 0.2588783598475193\n",
            "mse_CatBoost= 0.024449368283182317\n",
            "R score_CatBoost= 0.6446801456650882\n",
            "-----------------------------------------\n",
            "R2_ANN= -0.0019273009863636226\n",
            "mse_ANN= 0.03305326446782809\n",
            "R score_ANN= 0.3169997321364977\n"
          ]
        }
      ]
    },
    {
      "cell_type": "code",
      "source": [],
      "metadata": {
        "id": "MPCXhOS9O6rk"
      },
      "execution_count": 77,
      "outputs": []
    }
  ]
}