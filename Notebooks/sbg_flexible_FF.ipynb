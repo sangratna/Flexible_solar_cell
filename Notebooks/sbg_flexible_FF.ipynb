{
  "nbformat": 4,
  "nbformat_minor": 0,
  "metadata": {
    "colab": {
      "provenance": []
    },
    "kernelspec": {
      "name": "python3",
      "display_name": "Python 3"
    },
    "language_info": {
      "name": "python"
    },
    "widgets": {
      "application/vnd.jupyter.widget-state+json": {
        "1a669ee80cee40f9b937b83f3f9000bc": {
          "model_module": "catboost-widget",
          "model_name": "CatboostWidgetModel",
          "model_module_version": "^1.0.0",
          "state": {
            "_dom_classes": [],
            "_model_module": "catboost-widget",
            "_model_module_version": "^1.0.0",
            "_model_name": "CatboostWidgetModel",
            "_view_count": null,
            "_view_module": "catboost-widget",
            "_view_module_version": "^1.0.0",
            "_view_name": "CatboostWidgetView",
            "data": {
              "catboost_info": {
                "path": "catboost_info",
                "name": "catboost_info",
                "content": {
                  "passed_iterations": 17,
                  "total_iterations": 18,
                  "data": {
                    "iterations": [
                      {
                        "learn": [
                          0.1039284848
                        ],
                        "iteration": 0,
                        "passed_time": 0.0004824768522,
                        "remaining_time": 0.008202106488,
                        "test": [
                          0.09452315553
                        ]
                      },
                      {
                        "learn": [
                          0.1030364174
                        ],
                        "iteration": 1,
                        "passed_time": 0.00134454441,
                        "remaining_time": 0.01075635528,
                        "test": [
                          0.09421813261
                        ]
                      },
                      {
                        "learn": [
                          0.1025334015
                        ],
                        "iteration": 2,
                        "passed_time": 0.001920049291,
                        "remaining_time": 0.009600246457,
                        "test": [
                          0.09400726778
                        ]
                      },
                      {
                        "learn": [
                          0.1022371291
                        ],
                        "iteration": 3,
                        "passed_time": 0.0023981089,
                        "remaining_time": 0.008393381149,
                        "test": [
                          0.09352657158
                        ]
                      },
                      {
                        "learn": [
                          0.1016397977
                        ],
                        "iteration": 4,
                        "passed_time": 0.00295303437,
                        "remaining_time": 0.007677889363,
                        "test": [
                          0.09328525443
                        ]
                      },
                      {
                        "learn": [
                          0.1013625175
                        ],
                        "iteration": 5,
                        "passed_time": 0.003495284014,
                        "remaining_time": 0.006990568029,
                        "test": [
                          0.09315096937
                        ]
                      },
                      {
                        "learn": [
                          0.1010759444
                        ],
                        "iteration": 6,
                        "passed_time": 0.0040492804,
                        "remaining_time": 0.006363154914,
                        "test": [
                          0.09308956515
                        ]
                      },
                      {
                        "learn": [
                          0.1004771673
                        ],
                        "iteration": 7,
                        "passed_time": 0.00434688164,
                        "remaining_time": 0.00543360205,
                        "test": [
                          0.09273946504
                        ]
                      },
                      {
                        "learn": [
                          0.1001613619
                        ],
                        "iteration": 8,
                        "passed_time": 0.004747142211,
                        "remaining_time": 0.004747142211,
                        "test": [
                          0.09249986147
                        ]
                      },
                      {
                        "learn": [
                          0.09998860543
                        ],
                        "iteration": 9,
                        "passed_time": 0.005556553748,
                        "remaining_time": 0.004445242999,
                        "test": [
                          0.09245877873
                        ]
                      },
                      {
                        "learn": [
                          0.09950493551
                        ],
                        "iteration": 10,
                        "passed_time": 0.005882652984,
                        "remaining_time": 0.003743506445,
                        "test": [
                          0.09229426751
                        ]
                      },
                      {
                        "learn": [
                          0.09917106786
                        ],
                        "iteration": 11,
                        "passed_time": 0.006669620123,
                        "remaining_time": 0.003334810061,
                        "test": [
                          0.09202872235
                        ]
                      },
                      {
                        "learn": [
                          0.09878493893
                        ],
                        "iteration": 12,
                        "passed_time": 0.007070470235,
                        "remaining_time": 0.002719411629,
                        "test": [
                          0.09208067971
                        ]
                      },
                      {
                        "learn": [
                          0.09830977717
                        ],
                        "iteration": 13,
                        "passed_time": 0.007374079163,
                        "remaining_time": 0.002106879761,
                        "test": [
                          0.09187876476
                        ]
                      },
                      {
                        "learn": [
                          0.09803613281
                        ],
                        "iteration": 14,
                        "passed_time": 0.007834140253,
                        "remaining_time": 0.001566828051,
                        "test": [
                          0.09138745359
                        ]
                      },
                      {
                        "learn": [
                          0.09781923064
                        ],
                        "iteration": 15,
                        "passed_time": 0.008195750621,
                        "remaining_time": 0.001024468828,
                        "test": [
                          0.09126859383
                        ]
                      },
                      {
                        "learn": [
                          0.09751548685
                        ],
                        "iteration": 16,
                        "passed_time": 0.008568073646,
                        "remaining_time": 0.0005040043321,
                        "test": [
                          0.09105335403
                        ]
                      },
                      {
                        "learn": [
                          0.09729128115
                        ],
                        "iteration": 17,
                        "passed_time": 0.008936308971,
                        "remaining_time": 0,
                        "test": [
                          0.09100474626
                        ]
                      }
                    ],
                    "meta": {
                      "test_sets": [
                        "test"
                      ],
                      "test_metrics": [
                        {
                          "best_value": "Min",
                          "name": "RMSE"
                        }
                      ],
                      "learn_metrics": [
                        {
                          "best_value": "Min",
                          "name": "RMSE"
                        }
                      ],
                      "launch_mode": "Train",
                      "parameters": "",
                      "iteration_count": 18,
                      "learn_sets": [
                        "learn"
                      ],
                      "name": "experiment"
                    }
                  }
                }
              }
            },
            "layout": "IPY_MODEL_a742c082437e49c3856644386b1c6311"
          }
        }
      }
    }
  },
  "cells": [
    {
      "cell_type": "code",
      "execution_count": 78,
      "metadata": {
        "id": "A02Yq19tFfAh"
      },
      "outputs": [],
      "source": [
        "import pandas as pd\n",
        "import numpy as np\n",
        "import matplotlib.pyplot as plt"
      ]
    },
    {
      "cell_type": "code",
      "source": [
        "df = pd.read_csv('/content/flexible solar cell.csv')\n",
        "df"
      ],
      "metadata": {
        "colab": {
          "base_uri": "https://localhost:8080/",
          "height": 423
        },
        "id": "4uqVh2POFuZD",
        "outputId": "58bf3fc4-f9d2-4573-f1bc-af169d031613"
      },
      "execution_count": 79,
      "outputs": [
        {
          "output_type": "execute_result",
          "data": {
            "text/plain": [
              "     ?H(DOI)  ?L(DOI)  Cell_area_measured Cell_architecture  \\\n",
              "0       0.06     0.06              0.1000               nip   \n",
              "1       0.20     0.80              0.0756               nip   \n",
              "2       0.30     0.53              0.0960               nip   \n",
              "3       0.20     0.70              0.0400               nip   \n",
              "4       0.40     0.33              1.2100               pin   \n",
              "..       ...      ...                 ...               ...   \n",
              "602     0.40     0.33              0.0177               pin   \n",
              "603     0.20     0.60              0.1000               pin   \n",
              "604     0.40     0.33              0.1000               pin   \n",
              "605     0.40     0.33              0.1000               pin   \n",
              "606     0.40     0.33              0.1000               pin   \n",
              "\n",
              "    Substrate_stack_sequence  Perovskite_band_gap   Voc    Jsc      FF    PCE  \n",
              "0                          E                 1.60  1.01  21.15  0.5700  12.18  \n",
              "1                          A                 1.60  0.97  20.00  0.6900  13.30  \n",
              "2                          A                 1.53  1.10  19.30  0.7900  16.80  \n",
              "3                          E                 1.53  1.08  20.06  0.6725  13.03  \n",
              "4                          F                 1.53  1.00  21.46  0.7550  16.16  \n",
              "..                       ...                  ...   ...    ...     ...    ...  \n",
              "602                        H                 1.53  0.96  20.10  0.8300  16.00  \n",
              "603                        A                 1.50  1.01  19.80  0.7700  15.59  \n",
              "604                        A                 1.50  0.83  14.70  0.6100   7.62  \n",
              "605                        A                 1.53  0.96  16.73  0.6500  10.71  \n",
              "606                        A                 1.53  0.98  16.85  0.7300  11.32  \n",
              "\n",
              "[607 rows x 10 columns]"
            ],
            "text/html": [
              "\n",
              "\n",
              "  <div id=\"df-42fd7056-d7d5-4179-9864-5d112b589300\">\n",
              "    <div class=\"colab-df-container\">\n",
              "      <div>\n",
              "<style scoped>\n",
              "    .dataframe tbody tr th:only-of-type {\n",
              "        vertical-align: middle;\n",
              "    }\n",
              "\n",
              "    .dataframe tbody tr th {\n",
              "        vertical-align: top;\n",
              "    }\n",
              "\n",
              "    .dataframe thead th {\n",
              "        text-align: right;\n",
              "    }\n",
              "</style>\n",
              "<table border=\"1\" class=\"dataframe\">\n",
              "  <thead>\n",
              "    <tr style=\"text-align: right;\">\n",
              "      <th></th>\n",
              "      <th>?H(DOI)</th>\n",
              "      <th>?L(DOI)</th>\n",
              "      <th>Cell_area_measured</th>\n",
              "      <th>Cell_architecture</th>\n",
              "      <th>Substrate_stack_sequence</th>\n",
              "      <th>Perovskite_band_gap</th>\n",
              "      <th>Voc</th>\n",
              "      <th>Jsc</th>\n",
              "      <th>FF</th>\n",
              "      <th>PCE</th>\n",
              "    </tr>\n",
              "  </thead>\n",
              "  <tbody>\n",
              "    <tr>\n",
              "      <th>0</th>\n",
              "      <td>0.06</td>\n",
              "      <td>0.06</td>\n",
              "      <td>0.1000</td>\n",
              "      <td>nip</td>\n",
              "      <td>E</td>\n",
              "      <td>1.60</td>\n",
              "      <td>1.01</td>\n",
              "      <td>21.15</td>\n",
              "      <td>0.5700</td>\n",
              "      <td>12.18</td>\n",
              "    </tr>\n",
              "    <tr>\n",
              "      <th>1</th>\n",
              "      <td>0.20</td>\n",
              "      <td>0.80</td>\n",
              "      <td>0.0756</td>\n",
              "      <td>nip</td>\n",
              "      <td>A</td>\n",
              "      <td>1.60</td>\n",
              "      <td>0.97</td>\n",
              "      <td>20.00</td>\n",
              "      <td>0.6900</td>\n",
              "      <td>13.30</td>\n",
              "    </tr>\n",
              "    <tr>\n",
              "      <th>2</th>\n",
              "      <td>0.30</td>\n",
              "      <td>0.53</td>\n",
              "      <td>0.0960</td>\n",
              "      <td>nip</td>\n",
              "      <td>A</td>\n",
              "      <td>1.53</td>\n",
              "      <td>1.10</td>\n",
              "      <td>19.30</td>\n",
              "      <td>0.7900</td>\n",
              "      <td>16.80</td>\n",
              "    </tr>\n",
              "    <tr>\n",
              "      <th>3</th>\n",
              "      <td>0.20</td>\n",
              "      <td>0.70</td>\n",
              "      <td>0.0400</td>\n",
              "      <td>nip</td>\n",
              "      <td>E</td>\n",
              "      <td>1.53</td>\n",
              "      <td>1.08</td>\n",
              "      <td>20.06</td>\n",
              "      <td>0.6725</td>\n",
              "      <td>13.03</td>\n",
              "    </tr>\n",
              "    <tr>\n",
              "      <th>4</th>\n",
              "      <td>0.40</td>\n",
              "      <td>0.33</td>\n",
              "      <td>1.2100</td>\n",
              "      <td>pin</td>\n",
              "      <td>F</td>\n",
              "      <td>1.53</td>\n",
              "      <td>1.00</td>\n",
              "      <td>21.46</td>\n",
              "      <td>0.7550</td>\n",
              "      <td>16.16</td>\n",
              "    </tr>\n",
              "    <tr>\n",
              "      <th>...</th>\n",
              "      <td>...</td>\n",
              "      <td>...</td>\n",
              "      <td>...</td>\n",
              "      <td>...</td>\n",
              "      <td>...</td>\n",
              "      <td>...</td>\n",
              "      <td>...</td>\n",
              "      <td>...</td>\n",
              "      <td>...</td>\n",
              "      <td>...</td>\n",
              "    </tr>\n",
              "    <tr>\n",
              "      <th>602</th>\n",
              "      <td>0.40</td>\n",
              "      <td>0.33</td>\n",
              "      <td>0.0177</td>\n",
              "      <td>pin</td>\n",
              "      <td>H</td>\n",
              "      <td>1.53</td>\n",
              "      <td>0.96</td>\n",
              "      <td>20.10</td>\n",
              "      <td>0.8300</td>\n",
              "      <td>16.00</td>\n",
              "    </tr>\n",
              "    <tr>\n",
              "      <th>603</th>\n",
              "      <td>0.20</td>\n",
              "      <td>0.60</td>\n",
              "      <td>0.1000</td>\n",
              "      <td>pin</td>\n",
              "      <td>A</td>\n",
              "      <td>1.50</td>\n",
              "      <td>1.01</td>\n",
              "      <td>19.80</td>\n",
              "      <td>0.7700</td>\n",
              "      <td>15.59</td>\n",
              "    </tr>\n",
              "    <tr>\n",
              "      <th>604</th>\n",
              "      <td>0.40</td>\n",
              "      <td>0.33</td>\n",
              "      <td>0.1000</td>\n",
              "      <td>pin</td>\n",
              "      <td>A</td>\n",
              "      <td>1.50</td>\n",
              "      <td>0.83</td>\n",
              "      <td>14.70</td>\n",
              "      <td>0.6100</td>\n",
              "      <td>7.62</td>\n",
              "    </tr>\n",
              "    <tr>\n",
              "      <th>605</th>\n",
              "      <td>0.40</td>\n",
              "      <td>0.33</td>\n",
              "      <td>0.1000</td>\n",
              "      <td>pin</td>\n",
              "      <td>A</td>\n",
              "      <td>1.53</td>\n",
              "      <td>0.96</td>\n",
              "      <td>16.73</td>\n",
              "      <td>0.6500</td>\n",
              "      <td>10.71</td>\n",
              "    </tr>\n",
              "    <tr>\n",
              "      <th>606</th>\n",
              "      <td>0.40</td>\n",
              "      <td>0.33</td>\n",
              "      <td>0.1000</td>\n",
              "      <td>pin</td>\n",
              "      <td>A</td>\n",
              "      <td>1.53</td>\n",
              "      <td>0.98</td>\n",
              "      <td>16.85</td>\n",
              "      <td>0.7300</td>\n",
              "      <td>11.32</td>\n",
              "    </tr>\n",
              "  </tbody>\n",
              "</table>\n",
              "<p>607 rows × 10 columns</p>\n",
              "</div>\n",
              "      <button class=\"colab-df-convert\" onclick=\"convertToInteractive('df-42fd7056-d7d5-4179-9864-5d112b589300')\"\n",
              "              title=\"Convert this dataframe to an interactive table.\"\n",
              "              style=\"display:none;\">\n",
              "\n",
              "  <svg xmlns=\"http://www.w3.org/2000/svg\" height=\"24px\"viewBox=\"0 0 24 24\"\n",
              "       width=\"24px\">\n",
              "    <path d=\"M0 0h24v24H0V0z\" fill=\"none\"/>\n",
              "    <path d=\"M18.56 5.44l.94 2.06.94-2.06 2.06-.94-2.06-.94-.94-2.06-.94 2.06-2.06.94zm-11 1L8.5 8.5l.94-2.06 2.06-.94-2.06-.94L8.5 2.5l-.94 2.06-2.06.94zm10 10l.94 2.06.94-2.06 2.06-.94-2.06-.94-.94-2.06-.94 2.06-2.06.94z\"/><path d=\"M17.41 7.96l-1.37-1.37c-.4-.4-.92-.59-1.43-.59-.52 0-1.04.2-1.43.59L10.3 9.45l-7.72 7.72c-.78.78-.78 2.05 0 2.83L4 21.41c.39.39.9.59 1.41.59.51 0 1.02-.2 1.41-.59l7.78-7.78 2.81-2.81c.8-.78.8-2.07 0-2.86zM5.41 20L4 18.59l7.72-7.72 1.47 1.35L5.41 20z\"/>\n",
              "  </svg>\n",
              "      </button>\n",
              "\n",
              "\n",
              "\n",
              "    <div id=\"df-8c7f161d-bca8-4497-a346-2e1ea662b767\">\n",
              "      <button class=\"colab-df-quickchart\" onclick=\"quickchart('df-8c7f161d-bca8-4497-a346-2e1ea662b767')\"\n",
              "              title=\"Suggest charts.\"\n",
              "              style=\"display:none;\">\n",
              "\n",
              "<svg xmlns=\"http://www.w3.org/2000/svg\" height=\"24px\"viewBox=\"0 0 24 24\"\n",
              "     width=\"24px\">\n",
              "    <g>\n",
              "        <path d=\"M19 3H5c-1.1 0-2 .9-2 2v14c0 1.1.9 2 2 2h14c1.1 0 2-.9 2-2V5c0-1.1-.9-2-2-2zM9 17H7v-7h2v7zm4 0h-2V7h2v10zm4 0h-2v-4h2v4z\"/>\n",
              "    </g>\n",
              "</svg>\n",
              "      </button>\n",
              "    </div>\n",
              "\n",
              "<style>\n",
              "  .colab-df-quickchart {\n",
              "    background-color: #E8F0FE;\n",
              "    border: none;\n",
              "    border-radius: 50%;\n",
              "    cursor: pointer;\n",
              "    display: none;\n",
              "    fill: #1967D2;\n",
              "    height: 32px;\n",
              "    padding: 0 0 0 0;\n",
              "    width: 32px;\n",
              "  }\n",
              "\n",
              "  .colab-df-quickchart:hover {\n",
              "    background-color: #E2EBFA;\n",
              "    box-shadow: 0px 1px 2px rgba(60, 64, 67, 0.3), 0px 1px 3px 1px rgba(60, 64, 67, 0.15);\n",
              "    fill: #174EA6;\n",
              "  }\n",
              "\n",
              "  [theme=dark] .colab-df-quickchart {\n",
              "    background-color: #3B4455;\n",
              "    fill: #D2E3FC;\n",
              "  }\n",
              "\n",
              "  [theme=dark] .colab-df-quickchart:hover {\n",
              "    background-color: #434B5C;\n",
              "    box-shadow: 0px 1px 3px 1px rgba(0, 0, 0, 0.15);\n",
              "    filter: drop-shadow(0px 1px 2px rgba(0, 0, 0, 0.3));\n",
              "    fill: #FFFFFF;\n",
              "  }\n",
              "</style>\n",
              "\n",
              "    <script>\n",
              "      async function quickchart(key) {\n",
              "        const containerElement = document.querySelector('#' + key);\n",
              "        const charts = await google.colab.kernel.invokeFunction(\n",
              "            'suggestCharts', [key], {});\n",
              "      }\n",
              "    </script>\n",
              "\n",
              "      <script>\n",
              "\n",
              "function displayQuickchartButton(domScope) {\n",
              "  let quickchartButtonEl =\n",
              "    domScope.querySelector('#df-8c7f161d-bca8-4497-a346-2e1ea662b767 button.colab-df-quickchart');\n",
              "  quickchartButtonEl.style.display =\n",
              "    google.colab.kernel.accessAllowed ? 'block' : 'none';\n",
              "}\n",
              "\n",
              "        displayQuickchartButton(document);\n",
              "      </script>\n",
              "      <style>\n",
              "    .colab-df-container {\n",
              "      display:flex;\n",
              "      flex-wrap:wrap;\n",
              "      gap: 12px;\n",
              "    }\n",
              "\n",
              "    .colab-df-convert {\n",
              "      background-color: #E8F0FE;\n",
              "      border: none;\n",
              "      border-radius: 50%;\n",
              "      cursor: pointer;\n",
              "      display: none;\n",
              "      fill: #1967D2;\n",
              "      height: 32px;\n",
              "      padding: 0 0 0 0;\n",
              "      width: 32px;\n",
              "    }\n",
              "\n",
              "    .colab-df-convert:hover {\n",
              "      background-color: #E2EBFA;\n",
              "      box-shadow: 0px 1px 2px rgba(60, 64, 67, 0.3), 0px 1px 3px 1px rgba(60, 64, 67, 0.15);\n",
              "      fill: #174EA6;\n",
              "    }\n",
              "\n",
              "    [theme=dark] .colab-df-convert {\n",
              "      background-color: #3B4455;\n",
              "      fill: #D2E3FC;\n",
              "    }\n",
              "\n",
              "    [theme=dark] .colab-df-convert:hover {\n",
              "      background-color: #434B5C;\n",
              "      box-shadow: 0px 1px 3px 1px rgba(0, 0, 0, 0.15);\n",
              "      filter: drop-shadow(0px 1px 2px rgba(0, 0, 0, 0.3));\n",
              "      fill: #FFFFFF;\n",
              "    }\n",
              "  </style>\n",
              "\n",
              "      <script>\n",
              "        const buttonEl =\n",
              "          document.querySelector('#df-42fd7056-d7d5-4179-9864-5d112b589300 button.colab-df-convert');\n",
              "        buttonEl.style.display =\n",
              "          google.colab.kernel.accessAllowed ? 'block' : 'none';\n",
              "\n",
              "        async function convertToInteractive(key) {\n",
              "          const element = document.querySelector('#df-42fd7056-d7d5-4179-9864-5d112b589300');\n",
              "          const dataTable =\n",
              "            await google.colab.kernel.invokeFunction('convertToInteractive',\n",
              "                                                     [key], {});\n",
              "          if (!dataTable) return;\n",
              "\n",
              "          const docLinkHtml = 'Like what you see? Visit the ' +\n",
              "            '<a target=\"_blank\" href=https://colab.research.google.com/notebooks/data_table.ipynb>data table notebook</a>'\n",
              "            + ' to learn more about interactive tables.';\n",
              "          element.innerHTML = '';\n",
              "          dataTable['output_type'] = 'display_data';\n",
              "          await google.colab.output.renderOutput(dataTable, element);\n",
              "          const docLink = document.createElement('div');\n",
              "          docLink.innerHTML = docLinkHtml;\n",
              "          element.appendChild(docLink);\n",
              "        }\n",
              "      </script>\n",
              "    </div>\n",
              "  </div>\n"
            ]
          },
          "metadata": {},
          "execution_count": 79
        }
      ]
    },
    {
      "cell_type": "code",
      "source": [
        "# value_mapping = {0: 'pin', 1: 'nip'}\n",
        "# df['Cell_architecture'] = df['Cell_architecture'].replace(value_mapping)\n",
        "# value_mapping1 = {0: 'A', 1: 'B', 2: 'C',3:'D',4:'E',5:'F',6:'G',7:'H'}\n",
        "# df['Substrate_stack_sequence'] = df['Substrate_stack_sequence'].replace(value_mapping1)\n",
        "# df"
      ],
      "metadata": {
        "id": "JAEfDegqGDXx"
      },
      "execution_count": 80,
      "outputs": []
    },
    {
      "cell_type": "code",
      "source": [
        "df['Cell_architecture'].value_counts()"
      ],
      "metadata": {
        "colab": {
          "base_uri": "https://localhost:8080/"
        },
        "id": "q8xkymsSO0ou",
        "outputId": "158fe0c3-831d-44f7-94be-f8988b541093"
      },
      "execution_count": 81,
      "outputs": [
        {
          "output_type": "execute_result",
          "data": {
            "text/plain": [
              "nip    306\n",
              "pin    301\n",
              "Name: Cell_architecture, dtype: int64"
            ]
          },
          "metadata": {},
          "execution_count": 81
        }
      ]
    },
    {
      "cell_type": "code",
      "source": [
        "df.info()"
      ],
      "metadata": {
        "colab": {
          "base_uri": "https://localhost:8080/"
        },
        "id": "AKbUChK3GCKA",
        "outputId": "d8ffedc8-6cba-4b59-b53e-46e048d1e3b7"
      },
      "execution_count": 82,
      "outputs": [
        {
          "output_type": "stream",
          "name": "stdout",
          "text": [
            "<class 'pandas.core.frame.DataFrame'>\n",
            "RangeIndex: 607 entries, 0 to 606\n",
            "Data columns (total 10 columns):\n",
            " #   Column                    Non-Null Count  Dtype  \n",
            "---  ------                    --------------  -----  \n",
            " 0   ?H(DOI)                   607 non-null    float64\n",
            " 1   ?L(DOI)                   607 non-null    float64\n",
            " 2   Cell_area_measured        607 non-null    float64\n",
            " 3   Cell_architecture         607 non-null    object \n",
            " 4   Substrate_stack_sequence  607 non-null    object \n",
            " 5   Perovskite_band_gap       607 non-null    float64\n",
            " 6   Voc                       607 non-null    float64\n",
            " 7   Jsc                       607 non-null    float64\n",
            " 8   FF                        607 non-null    float64\n",
            " 9   PCE                       607 non-null    float64\n",
            "dtypes: float64(8), object(2)\n",
            "memory usage: 47.5+ KB\n"
          ]
        }
      ]
    },
    {
      "cell_type": "code",
      "source": [
        "df_cat=df.select_dtypes(object)\n",
        "df_cat"
      ],
      "metadata": {
        "colab": {
          "base_uri": "https://localhost:8080/",
          "height": 423
        },
        "id": "Z3CIApo8GIkz",
        "outputId": "523c4703-d8c2-42c8-c8bf-241508e1beb7"
      },
      "execution_count": 83,
      "outputs": [
        {
          "output_type": "execute_result",
          "data": {
            "text/plain": [
              "    Cell_architecture Substrate_stack_sequence\n",
              "0                 nip                        E\n",
              "1                 nip                        A\n",
              "2                 nip                        A\n",
              "3                 nip                        E\n",
              "4                 pin                        F\n",
              "..                ...                      ...\n",
              "602               pin                        H\n",
              "603               pin                        A\n",
              "604               pin                        A\n",
              "605               pin                        A\n",
              "606               pin                        A\n",
              "\n",
              "[607 rows x 2 columns]"
            ],
            "text/html": [
              "\n",
              "\n",
              "  <div id=\"df-38941af7-ed4f-40a6-a8c2-67cfb45c5467\">\n",
              "    <div class=\"colab-df-container\">\n",
              "      <div>\n",
              "<style scoped>\n",
              "    .dataframe tbody tr th:only-of-type {\n",
              "        vertical-align: middle;\n",
              "    }\n",
              "\n",
              "    .dataframe tbody tr th {\n",
              "        vertical-align: top;\n",
              "    }\n",
              "\n",
              "    .dataframe thead th {\n",
              "        text-align: right;\n",
              "    }\n",
              "</style>\n",
              "<table border=\"1\" class=\"dataframe\">\n",
              "  <thead>\n",
              "    <tr style=\"text-align: right;\">\n",
              "      <th></th>\n",
              "      <th>Cell_architecture</th>\n",
              "      <th>Substrate_stack_sequence</th>\n",
              "    </tr>\n",
              "  </thead>\n",
              "  <tbody>\n",
              "    <tr>\n",
              "      <th>0</th>\n",
              "      <td>nip</td>\n",
              "      <td>E</td>\n",
              "    </tr>\n",
              "    <tr>\n",
              "      <th>1</th>\n",
              "      <td>nip</td>\n",
              "      <td>A</td>\n",
              "    </tr>\n",
              "    <tr>\n",
              "      <th>2</th>\n",
              "      <td>nip</td>\n",
              "      <td>A</td>\n",
              "    </tr>\n",
              "    <tr>\n",
              "      <th>3</th>\n",
              "      <td>nip</td>\n",
              "      <td>E</td>\n",
              "    </tr>\n",
              "    <tr>\n",
              "      <th>4</th>\n",
              "      <td>pin</td>\n",
              "      <td>F</td>\n",
              "    </tr>\n",
              "    <tr>\n",
              "      <th>...</th>\n",
              "      <td>...</td>\n",
              "      <td>...</td>\n",
              "    </tr>\n",
              "    <tr>\n",
              "      <th>602</th>\n",
              "      <td>pin</td>\n",
              "      <td>H</td>\n",
              "    </tr>\n",
              "    <tr>\n",
              "      <th>603</th>\n",
              "      <td>pin</td>\n",
              "      <td>A</td>\n",
              "    </tr>\n",
              "    <tr>\n",
              "      <th>604</th>\n",
              "      <td>pin</td>\n",
              "      <td>A</td>\n",
              "    </tr>\n",
              "    <tr>\n",
              "      <th>605</th>\n",
              "      <td>pin</td>\n",
              "      <td>A</td>\n",
              "    </tr>\n",
              "    <tr>\n",
              "      <th>606</th>\n",
              "      <td>pin</td>\n",
              "      <td>A</td>\n",
              "    </tr>\n",
              "  </tbody>\n",
              "</table>\n",
              "<p>607 rows × 2 columns</p>\n",
              "</div>\n",
              "      <button class=\"colab-df-convert\" onclick=\"convertToInteractive('df-38941af7-ed4f-40a6-a8c2-67cfb45c5467')\"\n",
              "              title=\"Convert this dataframe to an interactive table.\"\n",
              "              style=\"display:none;\">\n",
              "\n",
              "  <svg xmlns=\"http://www.w3.org/2000/svg\" height=\"24px\"viewBox=\"0 0 24 24\"\n",
              "       width=\"24px\">\n",
              "    <path d=\"M0 0h24v24H0V0z\" fill=\"none\"/>\n",
              "    <path d=\"M18.56 5.44l.94 2.06.94-2.06 2.06-.94-2.06-.94-.94-2.06-.94 2.06-2.06.94zm-11 1L8.5 8.5l.94-2.06 2.06-.94-2.06-.94L8.5 2.5l-.94 2.06-2.06.94zm10 10l.94 2.06.94-2.06 2.06-.94-2.06-.94-.94-2.06-.94 2.06-2.06.94z\"/><path d=\"M17.41 7.96l-1.37-1.37c-.4-.4-.92-.59-1.43-.59-.52 0-1.04.2-1.43.59L10.3 9.45l-7.72 7.72c-.78.78-.78 2.05 0 2.83L4 21.41c.39.39.9.59 1.41.59.51 0 1.02-.2 1.41-.59l7.78-7.78 2.81-2.81c.8-.78.8-2.07 0-2.86zM5.41 20L4 18.59l7.72-7.72 1.47 1.35L5.41 20z\"/>\n",
              "  </svg>\n",
              "      </button>\n",
              "\n",
              "\n",
              "\n",
              "    <div id=\"df-135ca3b3-ea0b-4213-b88e-152d583634d1\">\n",
              "      <button class=\"colab-df-quickchart\" onclick=\"quickchart('df-135ca3b3-ea0b-4213-b88e-152d583634d1')\"\n",
              "              title=\"Suggest charts.\"\n",
              "              style=\"display:none;\">\n",
              "\n",
              "<svg xmlns=\"http://www.w3.org/2000/svg\" height=\"24px\"viewBox=\"0 0 24 24\"\n",
              "     width=\"24px\">\n",
              "    <g>\n",
              "        <path d=\"M19 3H5c-1.1 0-2 .9-2 2v14c0 1.1.9 2 2 2h14c1.1 0 2-.9 2-2V5c0-1.1-.9-2-2-2zM9 17H7v-7h2v7zm4 0h-2V7h2v10zm4 0h-2v-4h2v4z\"/>\n",
              "    </g>\n",
              "</svg>\n",
              "      </button>\n",
              "    </div>\n",
              "\n",
              "<style>\n",
              "  .colab-df-quickchart {\n",
              "    background-color: #E8F0FE;\n",
              "    border: none;\n",
              "    border-radius: 50%;\n",
              "    cursor: pointer;\n",
              "    display: none;\n",
              "    fill: #1967D2;\n",
              "    height: 32px;\n",
              "    padding: 0 0 0 0;\n",
              "    width: 32px;\n",
              "  }\n",
              "\n",
              "  .colab-df-quickchart:hover {\n",
              "    background-color: #E2EBFA;\n",
              "    box-shadow: 0px 1px 2px rgba(60, 64, 67, 0.3), 0px 1px 3px 1px rgba(60, 64, 67, 0.15);\n",
              "    fill: #174EA6;\n",
              "  }\n",
              "\n",
              "  [theme=dark] .colab-df-quickchart {\n",
              "    background-color: #3B4455;\n",
              "    fill: #D2E3FC;\n",
              "  }\n",
              "\n",
              "  [theme=dark] .colab-df-quickchart:hover {\n",
              "    background-color: #434B5C;\n",
              "    box-shadow: 0px 1px 3px 1px rgba(0, 0, 0, 0.15);\n",
              "    filter: drop-shadow(0px 1px 2px rgba(0, 0, 0, 0.3));\n",
              "    fill: #FFFFFF;\n",
              "  }\n",
              "</style>\n",
              "\n",
              "    <script>\n",
              "      async function quickchart(key) {\n",
              "        const containerElement = document.querySelector('#' + key);\n",
              "        const charts = await google.colab.kernel.invokeFunction(\n",
              "            'suggestCharts', [key], {});\n",
              "      }\n",
              "    </script>\n",
              "\n",
              "      <script>\n",
              "\n",
              "function displayQuickchartButton(domScope) {\n",
              "  let quickchartButtonEl =\n",
              "    domScope.querySelector('#df-135ca3b3-ea0b-4213-b88e-152d583634d1 button.colab-df-quickchart');\n",
              "  quickchartButtonEl.style.display =\n",
              "    google.colab.kernel.accessAllowed ? 'block' : 'none';\n",
              "}\n",
              "\n",
              "        displayQuickchartButton(document);\n",
              "      </script>\n",
              "      <style>\n",
              "    .colab-df-container {\n",
              "      display:flex;\n",
              "      flex-wrap:wrap;\n",
              "      gap: 12px;\n",
              "    }\n",
              "\n",
              "    .colab-df-convert {\n",
              "      background-color: #E8F0FE;\n",
              "      border: none;\n",
              "      border-radius: 50%;\n",
              "      cursor: pointer;\n",
              "      display: none;\n",
              "      fill: #1967D2;\n",
              "      height: 32px;\n",
              "      padding: 0 0 0 0;\n",
              "      width: 32px;\n",
              "    }\n",
              "\n",
              "    .colab-df-convert:hover {\n",
              "      background-color: #E2EBFA;\n",
              "      box-shadow: 0px 1px 2px rgba(60, 64, 67, 0.3), 0px 1px 3px 1px rgba(60, 64, 67, 0.15);\n",
              "      fill: #174EA6;\n",
              "    }\n",
              "\n",
              "    [theme=dark] .colab-df-convert {\n",
              "      background-color: #3B4455;\n",
              "      fill: #D2E3FC;\n",
              "    }\n",
              "\n",
              "    [theme=dark] .colab-df-convert:hover {\n",
              "      background-color: #434B5C;\n",
              "      box-shadow: 0px 1px 3px 1px rgba(0, 0, 0, 0.15);\n",
              "      filter: drop-shadow(0px 1px 2px rgba(0, 0, 0, 0.3));\n",
              "      fill: #FFFFFF;\n",
              "    }\n",
              "  </style>\n",
              "\n",
              "      <script>\n",
              "        const buttonEl =\n",
              "          document.querySelector('#df-38941af7-ed4f-40a6-a8c2-67cfb45c5467 button.colab-df-convert');\n",
              "        buttonEl.style.display =\n",
              "          google.colab.kernel.accessAllowed ? 'block' : 'none';\n",
              "\n",
              "        async function convertToInteractive(key) {\n",
              "          const element = document.querySelector('#df-38941af7-ed4f-40a6-a8c2-67cfb45c5467');\n",
              "          const dataTable =\n",
              "            await google.colab.kernel.invokeFunction('convertToInteractive',\n",
              "                                                     [key], {});\n",
              "          if (!dataTable) return;\n",
              "\n",
              "          const docLinkHtml = 'Like what you see? Visit the ' +\n",
              "            '<a target=\"_blank\" href=https://colab.research.google.com/notebooks/data_table.ipynb>data table notebook</a>'\n",
              "            + ' to learn more about interactive tables.';\n",
              "          element.innerHTML = '';\n",
              "          dataTable['output_type'] = 'display_data';\n",
              "          await google.colab.output.renderOutput(dataTable, element);\n",
              "          const docLink = document.createElement('div');\n",
              "          docLink.innerHTML = docLinkHtml;\n",
              "          element.appendChild(docLink);\n",
              "        }\n",
              "      </script>\n",
              "    </div>\n",
              "  </div>\n"
            ]
          },
          "metadata": {},
          "execution_count": 83
        }
      ]
    },
    {
      "cell_type": "code",
      "source": [
        "df.info()"
      ],
      "metadata": {
        "colab": {
          "base_uri": "https://localhost:8080/"
        },
        "id": "nOck2AP6GLUw",
        "outputId": "fdb77085-daf7-49a7-b0c7-50cfa67ebc0d"
      },
      "execution_count": 84,
      "outputs": [
        {
          "output_type": "stream",
          "name": "stdout",
          "text": [
            "<class 'pandas.core.frame.DataFrame'>\n",
            "RangeIndex: 607 entries, 0 to 606\n",
            "Data columns (total 10 columns):\n",
            " #   Column                    Non-Null Count  Dtype  \n",
            "---  ------                    --------------  -----  \n",
            " 0   ?H(DOI)                   607 non-null    float64\n",
            " 1   ?L(DOI)                   607 non-null    float64\n",
            " 2   Cell_area_measured        607 non-null    float64\n",
            " 3   Cell_architecture         607 non-null    object \n",
            " 4   Substrate_stack_sequence  607 non-null    object \n",
            " 5   Perovskite_band_gap       607 non-null    float64\n",
            " 6   Voc                       607 non-null    float64\n",
            " 7   Jsc                       607 non-null    float64\n",
            " 8   FF                        607 non-null    float64\n",
            " 9   PCE                       607 non-null    float64\n",
            "dtypes: float64(8), object(2)\n",
            "memory usage: 47.5+ KB\n"
          ]
        }
      ]
    },
    {
      "cell_type": "code",
      "source": [
        "df_num=df.select_dtypes(['float64'])\n",
        "df_num"
      ],
      "metadata": {
        "colab": {
          "base_uri": "https://localhost:8080/",
          "height": 423
        },
        "id": "XVihPu65GOey",
        "outputId": "f17eee3c-0adc-4c16-ee3c-d3e9aa2abc0f"
      },
      "execution_count": 85,
      "outputs": [
        {
          "output_type": "execute_result",
          "data": {
            "text/plain": [
              "     ?H(DOI)  ?L(DOI)  Cell_area_measured  Perovskite_band_gap   Voc    Jsc  \\\n",
              "0       0.06     0.06              0.1000                 1.60  1.01  21.15   \n",
              "1       0.20     0.80              0.0756                 1.60  0.97  20.00   \n",
              "2       0.30     0.53              0.0960                 1.53  1.10  19.30   \n",
              "3       0.20     0.70              0.0400                 1.53  1.08  20.06   \n",
              "4       0.40     0.33              1.2100                 1.53  1.00  21.46   \n",
              "..       ...      ...                 ...                  ...   ...    ...   \n",
              "602     0.40     0.33              0.0177                 1.53  0.96  20.10   \n",
              "603     0.20     0.60              0.1000                 1.50  1.01  19.80   \n",
              "604     0.40     0.33              0.1000                 1.50  0.83  14.70   \n",
              "605     0.40     0.33              0.1000                 1.53  0.96  16.73   \n",
              "606     0.40     0.33              0.1000                 1.53  0.98  16.85   \n",
              "\n",
              "         FF    PCE  \n",
              "0    0.5700  12.18  \n",
              "1    0.6900  13.30  \n",
              "2    0.7900  16.80  \n",
              "3    0.6725  13.03  \n",
              "4    0.7550  16.16  \n",
              "..      ...    ...  \n",
              "602  0.8300  16.00  \n",
              "603  0.7700  15.59  \n",
              "604  0.6100   7.62  \n",
              "605  0.6500  10.71  \n",
              "606  0.7300  11.32  \n",
              "\n",
              "[607 rows x 8 columns]"
            ],
            "text/html": [
              "\n",
              "\n",
              "  <div id=\"df-d91108e3-1c77-4d00-abda-8f5414be142d\">\n",
              "    <div class=\"colab-df-container\">\n",
              "      <div>\n",
              "<style scoped>\n",
              "    .dataframe tbody tr th:only-of-type {\n",
              "        vertical-align: middle;\n",
              "    }\n",
              "\n",
              "    .dataframe tbody tr th {\n",
              "        vertical-align: top;\n",
              "    }\n",
              "\n",
              "    .dataframe thead th {\n",
              "        text-align: right;\n",
              "    }\n",
              "</style>\n",
              "<table border=\"1\" class=\"dataframe\">\n",
              "  <thead>\n",
              "    <tr style=\"text-align: right;\">\n",
              "      <th></th>\n",
              "      <th>?H(DOI)</th>\n",
              "      <th>?L(DOI)</th>\n",
              "      <th>Cell_area_measured</th>\n",
              "      <th>Perovskite_band_gap</th>\n",
              "      <th>Voc</th>\n",
              "      <th>Jsc</th>\n",
              "      <th>FF</th>\n",
              "      <th>PCE</th>\n",
              "    </tr>\n",
              "  </thead>\n",
              "  <tbody>\n",
              "    <tr>\n",
              "      <th>0</th>\n",
              "      <td>0.06</td>\n",
              "      <td>0.06</td>\n",
              "      <td>0.1000</td>\n",
              "      <td>1.60</td>\n",
              "      <td>1.01</td>\n",
              "      <td>21.15</td>\n",
              "      <td>0.5700</td>\n",
              "      <td>12.18</td>\n",
              "    </tr>\n",
              "    <tr>\n",
              "      <th>1</th>\n",
              "      <td>0.20</td>\n",
              "      <td>0.80</td>\n",
              "      <td>0.0756</td>\n",
              "      <td>1.60</td>\n",
              "      <td>0.97</td>\n",
              "      <td>20.00</td>\n",
              "      <td>0.6900</td>\n",
              "      <td>13.30</td>\n",
              "    </tr>\n",
              "    <tr>\n",
              "      <th>2</th>\n",
              "      <td>0.30</td>\n",
              "      <td>0.53</td>\n",
              "      <td>0.0960</td>\n",
              "      <td>1.53</td>\n",
              "      <td>1.10</td>\n",
              "      <td>19.30</td>\n",
              "      <td>0.7900</td>\n",
              "      <td>16.80</td>\n",
              "    </tr>\n",
              "    <tr>\n",
              "      <th>3</th>\n",
              "      <td>0.20</td>\n",
              "      <td>0.70</td>\n",
              "      <td>0.0400</td>\n",
              "      <td>1.53</td>\n",
              "      <td>1.08</td>\n",
              "      <td>20.06</td>\n",
              "      <td>0.6725</td>\n",
              "      <td>13.03</td>\n",
              "    </tr>\n",
              "    <tr>\n",
              "      <th>4</th>\n",
              "      <td>0.40</td>\n",
              "      <td>0.33</td>\n",
              "      <td>1.2100</td>\n",
              "      <td>1.53</td>\n",
              "      <td>1.00</td>\n",
              "      <td>21.46</td>\n",
              "      <td>0.7550</td>\n",
              "      <td>16.16</td>\n",
              "    </tr>\n",
              "    <tr>\n",
              "      <th>...</th>\n",
              "      <td>...</td>\n",
              "      <td>...</td>\n",
              "      <td>...</td>\n",
              "      <td>...</td>\n",
              "      <td>...</td>\n",
              "      <td>...</td>\n",
              "      <td>...</td>\n",
              "      <td>...</td>\n",
              "    </tr>\n",
              "    <tr>\n",
              "      <th>602</th>\n",
              "      <td>0.40</td>\n",
              "      <td>0.33</td>\n",
              "      <td>0.0177</td>\n",
              "      <td>1.53</td>\n",
              "      <td>0.96</td>\n",
              "      <td>20.10</td>\n",
              "      <td>0.8300</td>\n",
              "      <td>16.00</td>\n",
              "    </tr>\n",
              "    <tr>\n",
              "      <th>603</th>\n",
              "      <td>0.20</td>\n",
              "      <td>0.60</td>\n",
              "      <td>0.1000</td>\n",
              "      <td>1.50</td>\n",
              "      <td>1.01</td>\n",
              "      <td>19.80</td>\n",
              "      <td>0.7700</td>\n",
              "      <td>15.59</td>\n",
              "    </tr>\n",
              "    <tr>\n",
              "      <th>604</th>\n",
              "      <td>0.40</td>\n",
              "      <td>0.33</td>\n",
              "      <td>0.1000</td>\n",
              "      <td>1.50</td>\n",
              "      <td>0.83</td>\n",
              "      <td>14.70</td>\n",
              "      <td>0.6100</td>\n",
              "      <td>7.62</td>\n",
              "    </tr>\n",
              "    <tr>\n",
              "      <th>605</th>\n",
              "      <td>0.40</td>\n",
              "      <td>0.33</td>\n",
              "      <td>0.1000</td>\n",
              "      <td>1.53</td>\n",
              "      <td>0.96</td>\n",
              "      <td>16.73</td>\n",
              "      <td>0.6500</td>\n",
              "      <td>10.71</td>\n",
              "    </tr>\n",
              "    <tr>\n",
              "      <th>606</th>\n",
              "      <td>0.40</td>\n",
              "      <td>0.33</td>\n",
              "      <td>0.1000</td>\n",
              "      <td>1.53</td>\n",
              "      <td>0.98</td>\n",
              "      <td>16.85</td>\n",
              "      <td>0.7300</td>\n",
              "      <td>11.32</td>\n",
              "    </tr>\n",
              "  </tbody>\n",
              "</table>\n",
              "<p>607 rows × 8 columns</p>\n",
              "</div>\n",
              "      <button class=\"colab-df-convert\" onclick=\"convertToInteractive('df-d91108e3-1c77-4d00-abda-8f5414be142d')\"\n",
              "              title=\"Convert this dataframe to an interactive table.\"\n",
              "              style=\"display:none;\">\n",
              "\n",
              "  <svg xmlns=\"http://www.w3.org/2000/svg\" height=\"24px\"viewBox=\"0 0 24 24\"\n",
              "       width=\"24px\">\n",
              "    <path d=\"M0 0h24v24H0V0z\" fill=\"none\"/>\n",
              "    <path d=\"M18.56 5.44l.94 2.06.94-2.06 2.06-.94-2.06-.94-.94-2.06-.94 2.06-2.06.94zm-11 1L8.5 8.5l.94-2.06 2.06-.94-2.06-.94L8.5 2.5l-.94 2.06-2.06.94zm10 10l.94 2.06.94-2.06 2.06-.94-2.06-.94-.94-2.06-.94 2.06-2.06.94z\"/><path d=\"M17.41 7.96l-1.37-1.37c-.4-.4-.92-.59-1.43-.59-.52 0-1.04.2-1.43.59L10.3 9.45l-7.72 7.72c-.78.78-.78 2.05 0 2.83L4 21.41c.39.39.9.59 1.41.59.51 0 1.02-.2 1.41-.59l7.78-7.78 2.81-2.81c.8-.78.8-2.07 0-2.86zM5.41 20L4 18.59l7.72-7.72 1.47 1.35L5.41 20z\"/>\n",
              "  </svg>\n",
              "      </button>\n",
              "\n",
              "\n",
              "\n",
              "    <div id=\"df-02b77aea-e24f-4bd9-915f-089fd3883d3a\">\n",
              "      <button class=\"colab-df-quickchart\" onclick=\"quickchart('df-02b77aea-e24f-4bd9-915f-089fd3883d3a')\"\n",
              "              title=\"Suggest charts.\"\n",
              "              style=\"display:none;\">\n",
              "\n",
              "<svg xmlns=\"http://www.w3.org/2000/svg\" height=\"24px\"viewBox=\"0 0 24 24\"\n",
              "     width=\"24px\">\n",
              "    <g>\n",
              "        <path d=\"M19 3H5c-1.1 0-2 .9-2 2v14c0 1.1.9 2 2 2h14c1.1 0 2-.9 2-2V5c0-1.1-.9-2-2-2zM9 17H7v-7h2v7zm4 0h-2V7h2v10zm4 0h-2v-4h2v4z\"/>\n",
              "    </g>\n",
              "</svg>\n",
              "      </button>\n",
              "    </div>\n",
              "\n",
              "<style>\n",
              "  .colab-df-quickchart {\n",
              "    background-color: #E8F0FE;\n",
              "    border: none;\n",
              "    border-radius: 50%;\n",
              "    cursor: pointer;\n",
              "    display: none;\n",
              "    fill: #1967D2;\n",
              "    height: 32px;\n",
              "    padding: 0 0 0 0;\n",
              "    width: 32px;\n",
              "  }\n",
              "\n",
              "  .colab-df-quickchart:hover {\n",
              "    background-color: #E2EBFA;\n",
              "    box-shadow: 0px 1px 2px rgba(60, 64, 67, 0.3), 0px 1px 3px 1px rgba(60, 64, 67, 0.15);\n",
              "    fill: #174EA6;\n",
              "  }\n",
              "\n",
              "  [theme=dark] .colab-df-quickchart {\n",
              "    background-color: #3B4455;\n",
              "    fill: #D2E3FC;\n",
              "  }\n",
              "\n",
              "  [theme=dark] .colab-df-quickchart:hover {\n",
              "    background-color: #434B5C;\n",
              "    box-shadow: 0px 1px 3px 1px rgba(0, 0, 0, 0.15);\n",
              "    filter: drop-shadow(0px 1px 2px rgba(0, 0, 0, 0.3));\n",
              "    fill: #FFFFFF;\n",
              "  }\n",
              "</style>\n",
              "\n",
              "    <script>\n",
              "      async function quickchart(key) {\n",
              "        const containerElement = document.querySelector('#' + key);\n",
              "        const charts = await google.colab.kernel.invokeFunction(\n",
              "            'suggestCharts', [key], {});\n",
              "      }\n",
              "    </script>\n",
              "\n",
              "      <script>\n",
              "\n",
              "function displayQuickchartButton(domScope) {\n",
              "  let quickchartButtonEl =\n",
              "    domScope.querySelector('#df-02b77aea-e24f-4bd9-915f-089fd3883d3a button.colab-df-quickchart');\n",
              "  quickchartButtonEl.style.display =\n",
              "    google.colab.kernel.accessAllowed ? 'block' : 'none';\n",
              "}\n",
              "\n",
              "        displayQuickchartButton(document);\n",
              "      </script>\n",
              "      <style>\n",
              "    .colab-df-container {\n",
              "      display:flex;\n",
              "      flex-wrap:wrap;\n",
              "      gap: 12px;\n",
              "    }\n",
              "\n",
              "    .colab-df-convert {\n",
              "      background-color: #E8F0FE;\n",
              "      border: none;\n",
              "      border-radius: 50%;\n",
              "      cursor: pointer;\n",
              "      display: none;\n",
              "      fill: #1967D2;\n",
              "      height: 32px;\n",
              "      padding: 0 0 0 0;\n",
              "      width: 32px;\n",
              "    }\n",
              "\n",
              "    .colab-df-convert:hover {\n",
              "      background-color: #E2EBFA;\n",
              "      box-shadow: 0px 1px 2px rgba(60, 64, 67, 0.3), 0px 1px 3px 1px rgba(60, 64, 67, 0.15);\n",
              "      fill: #174EA6;\n",
              "    }\n",
              "\n",
              "    [theme=dark] .colab-df-convert {\n",
              "      background-color: #3B4455;\n",
              "      fill: #D2E3FC;\n",
              "    }\n",
              "\n",
              "    [theme=dark] .colab-df-convert:hover {\n",
              "      background-color: #434B5C;\n",
              "      box-shadow: 0px 1px 3px 1px rgba(0, 0, 0, 0.15);\n",
              "      filter: drop-shadow(0px 1px 2px rgba(0, 0, 0, 0.3));\n",
              "      fill: #FFFFFF;\n",
              "    }\n",
              "  </style>\n",
              "\n",
              "      <script>\n",
              "        const buttonEl =\n",
              "          document.querySelector('#df-d91108e3-1c77-4d00-abda-8f5414be142d button.colab-df-convert');\n",
              "        buttonEl.style.display =\n",
              "          google.colab.kernel.accessAllowed ? 'block' : 'none';\n",
              "\n",
              "        async function convertToInteractive(key) {\n",
              "          const element = document.querySelector('#df-d91108e3-1c77-4d00-abda-8f5414be142d');\n",
              "          const dataTable =\n",
              "            await google.colab.kernel.invokeFunction('convertToInteractive',\n",
              "                                                     [key], {});\n",
              "          if (!dataTable) return;\n",
              "\n",
              "          const docLinkHtml = 'Like what you see? Visit the ' +\n",
              "            '<a target=\"_blank\" href=https://colab.research.google.com/notebooks/data_table.ipynb>data table notebook</a>'\n",
              "            + ' to learn more about interactive tables.';\n",
              "          element.innerHTML = '';\n",
              "          dataTable['output_type'] = 'display_data';\n",
              "          await google.colab.output.renderOutput(dataTable, element);\n",
              "          const docLink = document.createElement('div');\n",
              "          docLink.innerHTML = docLinkHtml;\n",
              "          element.appendChild(docLink);\n",
              "        }\n",
              "      </script>\n",
              "    </div>\n",
              "  </div>\n"
            ]
          },
          "metadata": {},
          "execution_count": 85
        }
      ]
    },
    {
      "cell_type": "code",
      "source": [
        "df_cat['Cell_architecture'].value_counts()"
      ],
      "metadata": {
        "colab": {
          "base_uri": "https://localhost:8080/"
        },
        "id": "-n3IE5_vGRm-",
        "outputId": "c9cccff8-f1a0-4df2-d181-7b37a4c5f388"
      },
      "execution_count": 86,
      "outputs": [
        {
          "output_type": "execute_result",
          "data": {
            "text/plain": [
              "nip    306\n",
              "pin    301\n",
              "Name: Cell_architecture, dtype: int64"
            ]
          },
          "metadata": {},
          "execution_count": 86
        }
      ]
    },
    {
      "cell_type": "code",
      "source": [
        "pd.get_dummies(df_cat['Cell_architecture'])"
      ],
      "metadata": {
        "colab": {
          "base_uri": "https://localhost:8080/",
          "height": 423
        },
        "id": "luAa5ljwGVhS",
        "outputId": "b9de87ec-afa3-42ba-8e91-29bcdd865d4f"
      },
      "execution_count": 87,
      "outputs": [
        {
          "output_type": "execute_result",
          "data": {
            "text/plain": [
              "     nip  pin\n",
              "0      1    0\n",
              "1      1    0\n",
              "2      1    0\n",
              "3      1    0\n",
              "4      0    1\n",
              "..   ...  ...\n",
              "602    0    1\n",
              "603    0    1\n",
              "604    0    1\n",
              "605    0    1\n",
              "606    0    1\n",
              "\n",
              "[607 rows x 2 columns]"
            ],
            "text/html": [
              "\n",
              "\n",
              "  <div id=\"df-84e1e348-83d6-403e-95c9-8f200706c140\">\n",
              "    <div class=\"colab-df-container\">\n",
              "      <div>\n",
              "<style scoped>\n",
              "    .dataframe tbody tr th:only-of-type {\n",
              "        vertical-align: middle;\n",
              "    }\n",
              "\n",
              "    .dataframe tbody tr th {\n",
              "        vertical-align: top;\n",
              "    }\n",
              "\n",
              "    .dataframe thead th {\n",
              "        text-align: right;\n",
              "    }\n",
              "</style>\n",
              "<table border=\"1\" class=\"dataframe\">\n",
              "  <thead>\n",
              "    <tr style=\"text-align: right;\">\n",
              "      <th></th>\n",
              "      <th>nip</th>\n",
              "      <th>pin</th>\n",
              "    </tr>\n",
              "  </thead>\n",
              "  <tbody>\n",
              "    <tr>\n",
              "      <th>0</th>\n",
              "      <td>1</td>\n",
              "      <td>0</td>\n",
              "    </tr>\n",
              "    <tr>\n",
              "      <th>1</th>\n",
              "      <td>1</td>\n",
              "      <td>0</td>\n",
              "    </tr>\n",
              "    <tr>\n",
              "      <th>2</th>\n",
              "      <td>1</td>\n",
              "      <td>0</td>\n",
              "    </tr>\n",
              "    <tr>\n",
              "      <th>3</th>\n",
              "      <td>1</td>\n",
              "      <td>0</td>\n",
              "    </tr>\n",
              "    <tr>\n",
              "      <th>4</th>\n",
              "      <td>0</td>\n",
              "      <td>1</td>\n",
              "    </tr>\n",
              "    <tr>\n",
              "      <th>...</th>\n",
              "      <td>...</td>\n",
              "      <td>...</td>\n",
              "    </tr>\n",
              "    <tr>\n",
              "      <th>602</th>\n",
              "      <td>0</td>\n",
              "      <td>1</td>\n",
              "    </tr>\n",
              "    <tr>\n",
              "      <th>603</th>\n",
              "      <td>0</td>\n",
              "      <td>1</td>\n",
              "    </tr>\n",
              "    <tr>\n",
              "      <th>604</th>\n",
              "      <td>0</td>\n",
              "      <td>1</td>\n",
              "    </tr>\n",
              "    <tr>\n",
              "      <th>605</th>\n",
              "      <td>0</td>\n",
              "      <td>1</td>\n",
              "    </tr>\n",
              "    <tr>\n",
              "      <th>606</th>\n",
              "      <td>0</td>\n",
              "      <td>1</td>\n",
              "    </tr>\n",
              "  </tbody>\n",
              "</table>\n",
              "<p>607 rows × 2 columns</p>\n",
              "</div>\n",
              "      <button class=\"colab-df-convert\" onclick=\"convertToInteractive('df-84e1e348-83d6-403e-95c9-8f200706c140')\"\n",
              "              title=\"Convert this dataframe to an interactive table.\"\n",
              "              style=\"display:none;\">\n",
              "\n",
              "  <svg xmlns=\"http://www.w3.org/2000/svg\" height=\"24px\"viewBox=\"0 0 24 24\"\n",
              "       width=\"24px\">\n",
              "    <path d=\"M0 0h24v24H0V0z\" fill=\"none\"/>\n",
              "    <path d=\"M18.56 5.44l.94 2.06.94-2.06 2.06-.94-2.06-.94-.94-2.06-.94 2.06-2.06.94zm-11 1L8.5 8.5l.94-2.06 2.06-.94-2.06-.94L8.5 2.5l-.94 2.06-2.06.94zm10 10l.94 2.06.94-2.06 2.06-.94-2.06-.94-.94-2.06-.94 2.06-2.06.94z\"/><path d=\"M17.41 7.96l-1.37-1.37c-.4-.4-.92-.59-1.43-.59-.52 0-1.04.2-1.43.59L10.3 9.45l-7.72 7.72c-.78.78-.78 2.05 0 2.83L4 21.41c.39.39.9.59 1.41.59.51 0 1.02-.2 1.41-.59l7.78-7.78 2.81-2.81c.8-.78.8-2.07 0-2.86zM5.41 20L4 18.59l7.72-7.72 1.47 1.35L5.41 20z\"/>\n",
              "  </svg>\n",
              "      </button>\n",
              "\n",
              "\n",
              "\n",
              "    <div id=\"df-56344042-de8a-49f3-a654-2759a6d676e2\">\n",
              "      <button class=\"colab-df-quickchart\" onclick=\"quickchart('df-56344042-de8a-49f3-a654-2759a6d676e2')\"\n",
              "              title=\"Suggest charts.\"\n",
              "              style=\"display:none;\">\n",
              "\n",
              "<svg xmlns=\"http://www.w3.org/2000/svg\" height=\"24px\"viewBox=\"0 0 24 24\"\n",
              "     width=\"24px\">\n",
              "    <g>\n",
              "        <path d=\"M19 3H5c-1.1 0-2 .9-2 2v14c0 1.1.9 2 2 2h14c1.1 0 2-.9 2-2V5c0-1.1-.9-2-2-2zM9 17H7v-7h2v7zm4 0h-2V7h2v10zm4 0h-2v-4h2v4z\"/>\n",
              "    </g>\n",
              "</svg>\n",
              "      </button>\n",
              "    </div>\n",
              "\n",
              "<style>\n",
              "  .colab-df-quickchart {\n",
              "    background-color: #E8F0FE;\n",
              "    border: none;\n",
              "    border-radius: 50%;\n",
              "    cursor: pointer;\n",
              "    display: none;\n",
              "    fill: #1967D2;\n",
              "    height: 32px;\n",
              "    padding: 0 0 0 0;\n",
              "    width: 32px;\n",
              "  }\n",
              "\n",
              "  .colab-df-quickchart:hover {\n",
              "    background-color: #E2EBFA;\n",
              "    box-shadow: 0px 1px 2px rgba(60, 64, 67, 0.3), 0px 1px 3px 1px rgba(60, 64, 67, 0.15);\n",
              "    fill: #174EA6;\n",
              "  }\n",
              "\n",
              "  [theme=dark] .colab-df-quickchart {\n",
              "    background-color: #3B4455;\n",
              "    fill: #D2E3FC;\n",
              "  }\n",
              "\n",
              "  [theme=dark] .colab-df-quickchart:hover {\n",
              "    background-color: #434B5C;\n",
              "    box-shadow: 0px 1px 3px 1px rgba(0, 0, 0, 0.15);\n",
              "    filter: drop-shadow(0px 1px 2px rgba(0, 0, 0, 0.3));\n",
              "    fill: #FFFFFF;\n",
              "  }\n",
              "</style>\n",
              "\n",
              "    <script>\n",
              "      async function quickchart(key) {\n",
              "        const containerElement = document.querySelector('#' + key);\n",
              "        const charts = await google.colab.kernel.invokeFunction(\n",
              "            'suggestCharts', [key], {});\n",
              "      }\n",
              "    </script>\n",
              "\n",
              "      <script>\n",
              "\n",
              "function displayQuickchartButton(domScope) {\n",
              "  let quickchartButtonEl =\n",
              "    domScope.querySelector('#df-56344042-de8a-49f3-a654-2759a6d676e2 button.colab-df-quickchart');\n",
              "  quickchartButtonEl.style.display =\n",
              "    google.colab.kernel.accessAllowed ? 'block' : 'none';\n",
              "}\n",
              "\n",
              "        displayQuickchartButton(document);\n",
              "      </script>\n",
              "      <style>\n",
              "    .colab-df-container {\n",
              "      display:flex;\n",
              "      flex-wrap:wrap;\n",
              "      gap: 12px;\n",
              "    }\n",
              "\n",
              "    .colab-df-convert {\n",
              "      background-color: #E8F0FE;\n",
              "      border: none;\n",
              "      border-radius: 50%;\n",
              "      cursor: pointer;\n",
              "      display: none;\n",
              "      fill: #1967D2;\n",
              "      height: 32px;\n",
              "      padding: 0 0 0 0;\n",
              "      width: 32px;\n",
              "    }\n",
              "\n",
              "    .colab-df-convert:hover {\n",
              "      background-color: #E2EBFA;\n",
              "      box-shadow: 0px 1px 2px rgba(60, 64, 67, 0.3), 0px 1px 3px 1px rgba(60, 64, 67, 0.15);\n",
              "      fill: #174EA6;\n",
              "    }\n",
              "\n",
              "    [theme=dark] .colab-df-convert {\n",
              "      background-color: #3B4455;\n",
              "      fill: #D2E3FC;\n",
              "    }\n",
              "\n",
              "    [theme=dark] .colab-df-convert:hover {\n",
              "      background-color: #434B5C;\n",
              "      box-shadow: 0px 1px 3px 1px rgba(0, 0, 0, 0.15);\n",
              "      filter: drop-shadow(0px 1px 2px rgba(0, 0, 0, 0.3));\n",
              "      fill: #FFFFFF;\n",
              "    }\n",
              "  </style>\n",
              "\n",
              "      <script>\n",
              "        const buttonEl =\n",
              "          document.querySelector('#df-84e1e348-83d6-403e-95c9-8f200706c140 button.colab-df-convert');\n",
              "        buttonEl.style.display =\n",
              "          google.colab.kernel.accessAllowed ? 'block' : 'none';\n",
              "\n",
              "        async function convertToInteractive(key) {\n",
              "          const element = document.querySelector('#df-84e1e348-83d6-403e-95c9-8f200706c140');\n",
              "          const dataTable =\n",
              "            await google.colab.kernel.invokeFunction('convertToInteractive',\n",
              "                                                     [key], {});\n",
              "          if (!dataTable) return;\n",
              "\n",
              "          const docLinkHtml = 'Like what you see? Visit the ' +\n",
              "            '<a target=\"_blank\" href=https://colab.research.google.com/notebooks/data_table.ipynb>data table notebook</a>'\n",
              "            + ' to learn more about interactive tables.';\n",
              "          element.innerHTML = '';\n",
              "          dataTable['output_type'] = 'display_data';\n",
              "          await google.colab.output.renderOutput(dataTable, element);\n",
              "          const docLink = document.createElement('div');\n",
              "          docLink.innerHTML = docLinkHtml;\n",
              "          element.appendChild(docLink);\n",
              "        }\n",
              "      </script>\n",
              "    </div>\n",
              "  </div>\n"
            ]
          },
          "metadata": {},
          "execution_count": 87
        }
      ]
    },
    {
      "cell_type": "code",
      "source": [
        "from sklearn.preprocessing import LabelEncoder"
      ],
      "metadata": {
        "id": "Y0_ED0jnGXyH"
      },
      "execution_count": 88,
      "outputs": []
    },
    {
      "cell_type": "code",
      "source": [
        "le=LabelEncoder()"
      ],
      "metadata": {
        "id": "wW_Ff5zpGcMM"
      },
      "execution_count": 89,
      "outputs": []
    },
    {
      "cell_type": "code",
      "source": [
        "df_cat['Cell_architecture']=le.fit_transform(df_cat['Cell_architecture'])\n",
        "df_cat['Cell_architecture'].value_counts()\n",
        "#2=pin\n",
        "#1=nip\n",
        "#0=Back contacted"
      ],
      "metadata": {
        "id": "IK6wjtdaGeL9",
        "colab": {
          "base_uri": "https://localhost:8080/"
        },
        "outputId": "2dda5108-cf17-4b17-865e-afdaf6b96394"
      },
      "execution_count": 90,
      "outputs": [
        {
          "output_type": "execute_result",
          "data": {
            "text/plain": [
              "0    306\n",
              "1    301\n",
              "Name: Cell_architecture, dtype: int64"
            ]
          },
          "metadata": {},
          "execution_count": 90
        }
      ]
    },
    {
      "cell_type": "code",
      "source": [
        "pd.get_dummies(df_cat['Substrate_stack_sequence'])"
      ],
      "metadata": {
        "colab": {
          "base_uri": "https://localhost:8080/",
          "height": 423
        },
        "id": "RTy0rKPBOe7f",
        "outputId": "fd2faf65-4d63-4e4a-9572-4f78bfc83b6a"
      },
      "execution_count": 91,
      "outputs": [
        {
          "output_type": "execute_result",
          "data": {
            "text/plain": [
              "     A  B  C  D  E  F  G  H\n",
              "0    0  0  0  0  1  0  0  0\n",
              "1    1  0  0  0  0  0  0  0\n",
              "2    1  0  0  0  0  0  0  0\n",
              "3    0  0  0  0  1  0  0  0\n",
              "4    0  0  0  0  0  1  0  0\n",
              "..  .. .. .. .. .. .. .. ..\n",
              "602  0  0  0  0  0  0  0  1\n",
              "603  1  0  0  0  0  0  0  0\n",
              "604  1  0  0  0  0  0  0  0\n",
              "605  1  0  0  0  0  0  0  0\n",
              "606  1  0  0  0  0  0  0  0\n",
              "\n",
              "[607 rows x 8 columns]"
            ],
            "text/html": [
              "\n",
              "\n",
              "  <div id=\"df-77451e85-a150-42ee-9a15-0cd018a43a00\">\n",
              "    <div class=\"colab-df-container\">\n",
              "      <div>\n",
              "<style scoped>\n",
              "    .dataframe tbody tr th:only-of-type {\n",
              "        vertical-align: middle;\n",
              "    }\n",
              "\n",
              "    .dataframe tbody tr th {\n",
              "        vertical-align: top;\n",
              "    }\n",
              "\n",
              "    .dataframe thead th {\n",
              "        text-align: right;\n",
              "    }\n",
              "</style>\n",
              "<table border=\"1\" class=\"dataframe\">\n",
              "  <thead>\n",
              "    <tr style=\"text-align: right;\">\n",
              "      <th></th>\n",
              "      <th>A</th>\n",
              "      <th>B</th>\n",
              "      <th>C</th>\n",
              "      <th>D</th>\n",
              "      <th>E</th>\n",
              "      <th>F</th>\n",
              "      <th>G</th>\n",
              "      <th>H</th>\n",
              "    </tr>\n",
              "  </thead>\n",
              "  <tbody>\n",
              "    <tr>\n",
              "      <th>0</th>\n",
              "      <td>0</td>\n",
              "      <td>0</td>\n",
              "      <td>0</td>\n",
              "      <td>0</td>\n",
              "      <td>1</td>\n",
              "      <td>0</td>\n",
              "      <td>0</td>\n",
              "      <td>0</td>\n",
              "    </tr>\n",
              "    <tr>\n",
              "      <th>1</th>\n",
              "      <td>1</td>\n",
              "      <td>0</td>\n",
              "      <td>0</td>\n",
              "      <td>0</td>\n",
              "      <td>0</td>\n",
              "      <td>0</td>\n",
              "      <td>0</td>\n",
              "      <td>0</td>\n",
              "    </tr>\n",
              "    <tr>\n",
              "      <th>2</th>\n",
              "      <td>1</td>\n",
              "      <td>0</td>\n",
              "      <td>0</td>\n",
              "      <td>0</td>\n",
              "      <td>0</td>\n",
              "      <td>0</td>\n",
              "      <td>0</td>\n",
              "      <td>0</td>\n",
              "    </tr>\n",
              "    <tr>\n",
              "      <th>3</th>\n",
              "      <td>0</td>\n",
              "      <td>0</td>\n",
              "      <td>0</td>\n",
              "      <td>0</td>\n",
              "      <td>1</td>\n",
              "      <td>0</td>\n",
              "      <td>0</td>\n",
              "      <td>0</td>\n",
              "    </tr>\n",
              "    <tr>\n",
              "      <th>4</th>\n",
              "      <td>0</td>\n",
              "      <td>0</td>\n",
              "      <td>0</td>\n",
              "      <td>0</td>\n",
              "      <td>0</td>\n",
              "      <td>1</td>\n",
              "      <td>0</td>\n",
              "      <td>0</td>\n",
              "    </tr>\n",
              "    <tr>\n",
              "      <th>...</th>\n",
              "      <td>...</td>\n",
              "      <td>...</td>\n",
              "      <td>...</td>\n",
              "      <td>...</td>\n",
              "      <td>...</td>\n",
              "      <td>...</td>\n",
              "      <td>...</td>\n",
              "      <td>...</td>\n",
              "    </tr>\n",
              "    <tr>\n",
              "      <th>602</th>\n",
              "      <td>0</td>\n",
              "      <td>0</td>\n",
              "      <td>0</td>\n",
              "      <td>0</td>\n",
              "      <td>0</td>\n",
              "      <td>0</td>\n",
              "      <td>0</td>\n",
              "      <td>1</td>\n",
              "    </tr>\n",
              "    <tr>\n",
              "      <th>603</th>\n",
              "      <td>1</td>\n",
              "      <td>0</td>\n",
              "      <td>0</td>\n",
              "      <td>0</td>\n",
              "      <td>0</td>\n",
              "      <td>0</td>\n",
              "      <td>0</td>\n",
              "      <td>0</td>\n",
              "    </tr>\n",
              "    <tr>\n",
              "      <th>604</th>\n",
              "      <td>1</td>\n",
              "      <td>0</td>\n",
              "      <td>0</td>\n",
              "      <td>0</td>\n",
              "      <td>0</td>\n",
              "      <td>0</td>\n",
              "      <td>0</td>\n",
              "      <td>0</td>\n",
              "    </tr>\n",
              "    <tr>\n",
              "      <th>605</th>\n",
              "      <td>1</td>\n",
              "      <td>0</td>\n",
              "      <td>0</td>\n",
              "      <td>0</td>\n",
              "      <td>0</td>\n",
              "      <td>0</td>\n",
              "      <td>0</td>\n",
              "      <td>0</td>\n",
              "    </tr>\n",
              "    <tr>\n",
              "      <th>606</th>\n",
              "      <td>1</td>\n",
              "      <td>0</td>\n",
              "      <td>0</td>\n",
              "      <td>0</td>\n",
              "      <td>0</td>\n",
              "      <td>0</td>\n",
              "      <td>0</td>\n",
              "      <td>0</td>\n",
              "    </tr>\n",
              "  </tbody>\n",
              "</table>\n",
              "<p>607 rows × 8 columns</p>\n",
              "</div>\n",
              "      <button class=\"colab-df-convert\" onclick=\"convertToInteractive('df-77451e85-a150-42ee-9a15-0cd018a43a00')\"\n",
              "              title=\"Convert this dataframe to an interactive table.\"\n",
              "              style=\"display:none;\">\n",
              "\n",
              "  <svg xmlns=\"http://www.w3.org/2000/svg\" height=\"24px\"viewBox=\"0 0 24 24\"\n",
              "       width=\"24px\">\n",
              "    <path d=\"M0 0h24v24H0V0z\" fill=\"none\"/>\n",
              "    <path d=\"M18.56 5.44l.94 2.06.94-2.06 2.06-.94-2.06-.94-.94-2.06-.94 2.06-2.06.94zm-11 1L8.5 8.5l.94-2.06 2.06-.94-2.06-.94L8.5 2.5l-.94 2.06-2.06.94zm10 10l.94 2.06.94-2.06 2.06-.94-2.06-.94-.94-2.06-.94 2.06-2.06.94z\"/><path d=\"M17.41 7.96l-1.37-1.37c-.4-.4-.92-.59-1.43-.59-.52 0-1.04.2-1.43.59L10.3 9.45l-7.72 7.72c-.78.78-.78 2.05 0 2.83L4 21.41c.39.39.9.59 1.41.59.51 0 1.02-.2 1.41-.59l7.78-7.78 2.81-2.81c.8-.78.8-2.07 0-2.86zM5.41 20L4 18.59l7.72-7.72 1.47 1.35L5.41 20z\"/>\n",
              "  </svg>\n",
              "      </button>\n",
              "\n",
              "\n",
              "\n",
              "    <div id=\"df-ddb8d898-d1c3-45cf-adc4-f49414d8cef7\">\n",
              "      <button class=\"colab-df-quickchart\" onclick=\"quickchart('df-ddb8d898-d1c3-45cf-adc4-f49414d8cef7')\"\n",
              "              title=\"Suggest charts.\"\n",
              "              style=\"display:none;\">\n",
              "\n",
              "<svg xmlns=\"http://www.w3.org/2000/svg\" height=\"24px\"viewBox=\"0 0 24 24\"\n",
              "     width=\"24px\">\n",
              "    <g>\n",
              "        <path d=\"M19 3H5c-1.1 0-2 .9-2 2v14c0 1.1.9 2 2 2h14c1.1 0 2-.9 2-2V5c0-1.1-.9-2-2-2zM9 17H7v-7h2v7zm4 0h-2V7h2v10zm4 0h-2v-4h2v4z\"/>\n",
              "    </g>\n",
              "</svg>\n",
              "      </button>\n",
              "    </div>\n",
              "\n",
              "<style>\n",
              "  .colab-df-quickchart {\n",
              "    background-color: #E8F0FE;\n",
              "    border: none;\n",
              "    border-radius: 50%;\n",
              "    cursor: pointer;\n",
              "    display: none;\n",
              "    fill: #1967D2;\n",
              "    height: 32px;\n",
              "    padding: 0 0 0 0;\n",
              "    width: 32px;\n",
              "  }\n",
              "\n",
              "  .colab-df-quickchart:hover {\n",
              "    background-color: #E2EBFA;\n",
              "    box-shadow: 0px 1px 2px rgba(60, 64, 67, 0.3), 0px 1px 3px 1px rgba(60, 64, 67, 0.15);\n",
              "    fill: #174EA6;\n",
              "  }\n",
              "\n",
              "  [theme=dark] .colab-df-quickchart {\n",
              "    background-color: #3B4455;\n",
              "    fill: #D2E3FC;\n",
              "  }\n",
              "\n",
              "  [theme=dark] .colab-df-quickchart:hover {\n",
              "    background-color: #434B5C;\n",
              "    box-shadow: 0px 1px 3px 1px rgba(0, 0, 0, 0.15);\n",
              "    filter: drop-shadow(0px 1px 2px rgba(0, 0, 0, 0.3));\n",
              "    fill: #FFFFFF;\n",
              "  }\n",
              "</style>\n",
              "\n",
              "    <script>\n",
              "      async function quickchart(key) {\n",
              "        const containerElement = document.querySelector('#' + key);\n",
              "        const charts = await google.colab.kernel.invokeFunction(\n",
              "            'suggestCharts', [key], {});\n",
              "      }\n",
              "    </script>\n",
              "\n",
              "      <script>\n",
              "\n",
              "function displayQuickchartButton(domScope) {\n",
              "  let quickchartButtonEl =\n",
              "    domScope.querySelector('#df-ddb8d898-d1c3-45cf-adc4-f49414d8cef7 button.colab-df-quickchart');\n",
              "  quickchartButtonEl.style.display =\n",
              "    google.colab.kernel.accessAllowed ? 'block' : 'none';\n",
              "}\n",
              "\n",
              "        displayQuickchartButton(document);\n",
              "      </script>\n",
              "      <style>\n",
              "    .colab-df-container {\n",
              "      display:flex;\n",
              "      flex-wrap:wrap;\n",
              "      gap: 12px;\n",
              "    }\n",
              "\n",
              "    .colab-df-convert {\n",
              "      background-color: #E8F0FE;\n",
              "      border: none;\n",
              "      border-radius: 50%;\n",
              "      cursor: pointer;\n",
              "      display: none;\n",
              "      fill: #1967D2;\n",
              "      height: 32px;\n",
              "      padding: 0 0 0 0;\n",
              "      width: 32px;\n",
              "    }\n",
              "\n",
              "    .colab-df-convert:hover {\n",
              "      background-color: #E2EBFA;\n",
              "      box-shadow: 0px 1px 2px rgba(60, 64, 67, 0.3), 0px 1px 3px 1px rgba(60, 64, 67, 0.15);\n",
              "      fill: #174EA6;\n",
              "    }\n",
              "\n",
              "    [theme=dark] .colab-df-convert {\n",
              "      background-color: #3B4455;\n",
              "      fill: #D2E3FC;\n",
              "    }\n",
              "\n",
              "    [theme=dark] .colab-df-convert:hover {\n",
              "      background-color: #434B5C;\n",
              "      box-shadow: 0px 1px 3px 1px rgba(0, 0, 0, 0.15);\n",
              "      filter: drop-shadow(0px 1px 2px rgba(0, 0, 0, 0.3));\n",
              "      fill: #FFFFFF;\n",
              "    }\n",
              "  </style>\n",
              "\n",
              "      <script>\n",
              "        const buttonEl =\n",
              "          document.querySelector('#df-77451e85-a150-42ee-9a15-0cd018a43a00 button.colab-df-convert');\n",
              "        buttonEl.style.display =\n",
              "          google.colab.kernel.accessAllowed ? 'block' : 'none';\n",
              "\n",
              "        async function convertToInteractive(key) {\n",
              "          const element = document.querySelector('#df-77451e85-a150-42ee-9a15-0cd018a43a00');\n",
              "          const dataTable =\n",
              "            await google.colab.kernel.invokeFunction('convertToInteractive',\n",
              "                                                     [key], {});\n",
              "          if (!dataTable) return;\n",
              "\n",
              "          const docLinkHtml = 'Like what you see? Visit the ' +\n",
              "            '<a target=\"_blank\" href=https://colab.research.google.com/notebooks/data_table.ipynb>data table notebook</a>'\n",
              "            + ' to learn more about interactive tables.';\n",
              "          element.innerHTML = '';\n",
              "          dataTable['output_type'] = 'display_data';\n",
              "          await google.colab.output.renderOutput(dataTable, element);\n",
              "          const docLink = document.createElement('div');\n",
              "          docLink.innerHTML = docLinkHtml;\n",
              "          element.appendChild(docLink);\n",
              "        }\n",
              "      </script>\n",
              "    </div>\n",
              "  </div>\n"
            ]
          },
          "metadata": {},
          "execution_count": 91
        }
      ]
    },
    {
      "cell_type": "code",
      "source": [
        "df_cat['Substrate_stack_sequence']=le.fit_transform(df_cat['Substrate_stack_sequence'])\n",
        "df_cat['Substrate_stack_sequence'].value_counts()"
      ],
      "metadata": {
        "colab": {
          "base_uri": "https://localhost:8080/"
        },
        "id": "O3ulMDJqN2pF",
        "outputId": "5218e5a6-21e8-4b41-f912-1f87cdbaf76c"
      },
      "execution_count": 92,
      "outputs": [
        {
          "output_type": "execute_result",
          "data": {
            "text/plain": [
              "0    234\n",
              "7    146\n",
              "4    142\n",
              "2     47\n",
              "1     12\n",
              "5     10\n",
              "3      9\n",
              "6      7\n",
              "Name: Substrate_stack_sequence, dtype: int64"
            ]
          },
          "metadata": {},
          "execution_count": 92
        }
      ]
    },
    {
      "cell_type": "code",
      "source": [
        "# from sklearn.preprocessing import OneHotEncoder\n",
        "# encoder = OneHotEncoder(sparse=False)\n",
        "# df_cat['class']= encoder.fit_transform(df_cat['class'].values.reshape(-1,1))\n",
        "# df_cat['class']"
      ],
      "metadata": {
        "id": "vaJpGJx8Gg-B"
      },
      "execution_count": 93,
      "outputs": []
    },
    {
      "cell_type": "code",
      "source": [
        "df = pd.concat([pd.DataFrame(df_num),(df_cat)], axis=1)\n",
        "df\n"
      ],
      "metadata": {
        "colab": {
          "base_uri": "https://localhost:8080/",
          "height": 423
        },
        "id": "IrafwZzRGjwy",
        "outputId": "a729bbb9-3e7c-48b0-f927-6d0ca4a20553"
      },
      "execution_count": 94,
      "outputs": [
        {
          "output_type": "execute_result",
          "data": {
            "text/plain": [
              "     ?H(DOI)  ?L(DOI)  Cell_area_measured  Perovskite_band_gap   Voc    Jsc  \\\n",
              "0       0.06     0.06              0.1000                 1.60  1.01  21.15   \n",
              "1       0.20     0.80              0.0756                 1.60  0.97  20.00   \n",
              "2       0.30     0.53              0.0960                 1.53  1.10  19.30   \n",
              "3       0.20     0.70              0.0400                 1.53  1.08  20.06   \n",
              "4       0.40     0.33              1.2100                 1.53  1.00  21.46   \n",
              "..       ...      ...                 ...                  ...   ...    ...   \n",
              "602     0.40     0.33              0.0177                 1.53  0.96  20.10   \n",
              "603     0.20     0.60              0.1000                 1.50  1.01  19.80   \n",
              "604     0.40     0.33              0.1000                 1.50  0.83  14.70   \n",
              "605     0.40     0.33              0.1000                 1.53  0.96  16.73   \n",
              "606     0.40     0.33              0.1000                 1.53  0.98  16.85   \n",
              "\n",
              "         FF    PCE  Cell_architecture  Substrate_stack_sequence  \n",
              "0    0.5700  12.18                  0                         4  \n",
              "1    0.6900  13.30                  0                         0  \n",
              "2    0.7900  16.80                  0                         0  \n",
              "3    0.6725  13.03                  0                         4  \n",
              "4    0.7550  16.16                  1                         5  \n",
              "..      ...    ...                ...                       ...  \n",
              "602  0.8300  16.00                  1                         7  \n",
              "603  0.7700  15.59                  1                         0  \n",
              "604  0.6100   7.62                  1                         0  \n",
              "605  0.6500  10.71                  1                         0  \n",
              "606  0.7300  11.32                  1                         0  \n",
              "\n",
              "[607 rows x 10 columns]"
            ],
            "text/html": [
              "\n",
              "\n",
              "  <div id=\"df-de3cc871-ba88-4d82-b01e-6d987cd013f2\">\n",
              "    <div class=\"colab-df-container\">\n",
              "      <div>\n",
              "<style scoped>\n",
              "    .dataframe tbody tr th:only-of-type {\n",
              "        vertical-align: middle;\n",
              "    }\n",
              "\n",
              "    .dataframe tbody tr th {\n",
              "        vertical-align: top;\n",
              "    }\n",
              "\n",
              "    .dataframe thead th {\n",
              "        text-align: right;\n",
              "    }\n",
              "</style>\n",
              "<table border=\"1\" class=\"dataframe\">\n",
              "  <thead>\n",
              "    <tr style=\"text-align: right;\">\n",
              "      <th></th>\n",
              "      <th>?H(DOI)</th>\n",
              "      <th>?L(DOI)</th>\n",
              "      <th>Cell_area_measured</th>\n",
              "      <th>Perovskite_band_gap</th>\n",
              "      <th>Voc</th>\n",
              "      <th>Jsc</th>\n",
              "      <th>FF</th>\n",
              "      <th>PCE</th>\n",
              "      <th>Cell_architecture</th>\n",
              "      <th>Substrate_stack_sequence</th>\n",
              "    </tr>\n",
              "  </thead>\n",
              "  <tbody>\n",
              "    <tr>\n",
              "      <th>0</th>\n",
              "      <td>0.06</td>\n",
              "      <td>0.06</td>\n",
              "      <td>0.1000</td>\n",
              "      <td>1.60</td>\n",
              "      <td>1.01</td>\n",
              "      <td>21.15</td>\n",
              "      <td>0.5700</td>\n",
              "      <td>12.18</td>\n",
              "      <td>0</td>\n",
              "      <td>4</td>\n",
              "    </tr>\n",
              "    <tr>\n",
              "      <th>1</th>\n",
              "      <td>0.20</td>\n",
              "      <td>0.80</td>\n",
              "      <td>0.0756</td>\n",
              "      <td>1.60</td>\n",
              "      <td>0.97</td>\n",
              "      <td>20.00</td>\n",
              "      <td>0.6900</td>\n",
              "      <td>13.30</td>\n",
              "      <td>0</td>\n",
              "      <td>0</td>\n",
              "    </tr>\n",
              "    <tr>\n",
              "      <th>2</th>\n",
              "      <td>0.30</td>\n",
              "      <td>0.53</td>\n",
              "      <td>0.0960</td>\n",
              "      <td>1.53</td>\n",
              "      <td>1.10</td>\n",
              "      <td>19.30</td>\n",
              "      <td>0.7900</td>\n",
              "      <td>16.80</td>\n",
              "      <td>0</td>\n",
              "      <td>0</td>\n",
              "    </tr>\n",
              "    <tr>\n",
              "      <th>3</th>\n",
              "      <td>0.20</td>\n",
              "      <td>0.70</td>\n",
              "      <td>0.0400</td>\n",
              "      <td>1.53</td>\n",
              "      <td>1.08</td>\n",
              "      <td>20.06</td>\n",
              "      <td>0.6725</td>\n",
              "      <td>13.03</td>\n",
              "      <td>0</td>\n",
              "      <td>4</td>\n",
              "    </tr>\n",
              "    <tr>\n",
              "      <th>4</th>\n",
              "      <td>0.40</td>\n",
              "      <td>0.33</td>\n",
              "      <td>1.2100</td>\n",
              "      <td>1.53</td>\n",
              "      <td>1.00</td>\n",
              "      <td>21.46</td>\n",
              "      <td>0.7550</td>\n",
              "      <td>16.16</td>\n",
              "      <td>1</td>\n",
              "      <td>5</td>\n",
              "    </tr>\n",
              "    <tr>\n",
              "      <th>...</th>\n",
              "      <td>...</td>\n",
              "      <td>...</td>\n",
              "      <td>...</td>\n",
              "      <td>...</td>\n",
              "      <td>...</td>\n",
              "      <td>...</td>\n",
              "      <td>...</td>\n",
              "      <td>...</td>\n",
              "      <td>...</td>\n",
              "      <td>...</td>\n",
              "    </tr>\n",
              "    <tr>\n",
              "      <th>602</th>\n",
              "      <td>0.40</td>\n",
              "      <td>0.33</td>\n",
              "      <td>0.0177</td>\n",
              "      <td>1.53</td>\n",
              "      <td>0.96</td>\n",
              "      <td>20.10</td>\n",
              "      <td>0.8300</td>\n",
              "      <td>16.00</td>\n",
              "      <td>1</td>\n",
              "      <td>7</td>\n",
              "    </tr>\n",
              "    <tr>\n",
              "      <th>603</th>\n",
              "      <td>0.20</td>\n",
              "      <td>0.60</td>\n",
              "      <td>0.1000</td>\n",
              "      <td>1.50</td>\n",
              "      <td>1.01</td>\n",
              "      <td>19.80</td>\n",
              "      <td>0.7700</td>\n",
              "      <td>15.59</td>\n",
              "      <td>1</td>\n",
              "      <td>0</td>\n",
              "    </tr>\n",
              "    <tr>\n",
              "      <th>604</th>\n",
              "      <td>0.40</td>\n",
              "      <td>0.33</td>\n",
              "      <td>0.1000</td>\n",
              "      <td>1.50</td>\n",
              "      <td>0.83</td>\n",
              "      <td>14.70</td>\n",
              "      <td>0.6100</td>\n",
              "      <td>7.62</td>\n",
              "      <td>1</td>\n",
              "      <td>0</td>\n",
              "    </tr>\n",
              "    <tr>\n",
              "      <th>605</th>\n",
              "      <td>0.40</td>\n",
              "      <td>0.33</td>\n",
              "      <td>0.1000</td>\n",
              "      <td>1.53</td>\n",
              "      <td>0.96</td>\n",
              "      <td>16.73</td>\n",
              "      <td>0.6500</td>\n",
              "      <td>10.71</td>\n",
              "      <td>1</td>\n",
              "      <td>0</td>\n",
              "    </tr>\n",
              "    <tr>\n",
              "      <th>606</th>\n",
              "      <td>0.40</td>\n",
              "      <td>0.33</td>\n",
              "      <td>0.1000</td>\n",
              "      <td>1.53</td>\n",
              "      <td>0.98</td>\n",
              "      <td>16.85</td>\n",
              "      <td>0.7300</td>\n",
              "      <td>11.32</td>\n",
              "      <td>1</td>\n",
              "      <td>0</td>\n",
              "    </tr>\n",
              "  </tbody>\n",
              "</table>\n",
              "<p>607 rows × 10 columns</p>\n",
              "</div>\n",
              "      <button class=\"colab-df-convert\" onclick=\"convertToInteractive('df-de3cc871-ba88-4d82-b01e-6d987cd013f2')\"\n",
              "              title=\"Convert this dataframe to an interactive table.\"\n",
              "              style=\"display:none;\">\n",
              "\n",
              "  <svg xmlns=\"http://www.w3.org/2000/svg\" height=\"24px\"viewBox=\"0 0 24 24\"\n",
              "       width=\"24px\">\n",
              "    <path d=\"M0 0h24v24H0V0z\" fill=\"none\"/>\n",
              "    <path d=\"M18.56 5.44l.94 2.06.94-2.06 2.06-.94-2.06-.94-.94-2.06-.94 2.06-2.06.94zm-11 1L8.5 8.5l.94-2.06 2.06-.94-2.06-.94L8.5 2.5l-.94 2.06-2.06.94zm10 10l.94 2.06.94-2.06 2.06-.94-2.06-.94-.94-2.06-.94 2.06-2.06.94z\"/><path d=\"M17.41 7.96l-1.37-1.37c-.4-.4-.92-.59-1.43-.59-.52 0-1.04.2-1.43.59L10.3 9.45l-7.72 7.72c-.78.78-.78 2.05 0 2.83L4 21.41c.39.39.9.59 1.41.59.51 0 1.02-.2 1.41-.59l7.78-7.78 2.81-2.81c.8-.78.8-2.07 0-2.86zM5.41 20L4 18.59l7.72-7.72 1.47 1.35L5.41 20z\"/>\n",
              "  </svg>\n",
              "      </button>\n",
              "\n",
              "\n",
              "\n",
              "    <div id=\"df-9e98941c-1b62-4966-a051-30165eea0b27\">\n",
              "      <button class=\"colab-df-quickchart\" onclick=\"quickchart('df-9e98941c-1b62-4966-a051-30165eea0b27')\"\n",
              "              title=\"Suggest charts.\"\n",
              "              style=\"display:none;\">\n",
              "\n",
              "<svg xmlns=\"http://www.w3.org/2000/svg\" height=\"24px\"viewBox=\"0 0 24 24\"\n",
              "     width=\"24px\">\n",
              "    <g>\n",
              "        <path d=\"M19 3H5c-1.1 0-2 .9-2 2v14c0 1.1.9 2 2 2h14c1.1 0 2-.9 2-2V5c0-1.1-.9-2-2-2zM9 17H7v-7h2v7zm4 0h-2V7h2v10zm4 0h-2v-4h2v4z\"/>\n",
              "    </g>\n",
              "</svg>\n",
              "      </button>\n",
              "    </div>\n",
              "\n",
              "<style>\n",
              "  .colab-df-quickchart {\n",
              "    background-color: #E8F0FE;\n",
              "    border: none;\n",
              "    border-radius: 50%;\n",
              "    cursor: pointer;\n",
              "    display: none;\n",
              "    fill: #1967D2;\n",
              "    height: 32px;\n",
              "    padding: 0 0 0 0;\n",
              "    width: 32px;\n",
              "  }\n",
              "\n",
              "  .colab-df-quickchart:hover {\n",
              "    background-color: #E2EBFA;\n",
              "    box-shadow: 0px 1px 2px rgba(60, 64, 67, 0.3), 0px 1px 3px 1px rgba(60, 64, 67, 0.15);\n",
              "    fill: #174EA6;\n",
              "  }\n",
              "\n",
              "  [theme=dark] .colab-df-quickchart {\n",
              "    background-color: #3B4455;\n",
              "    fill: #D2E3FC;\n",
              "  }\n",
              "\n",
              "  [theme=dark] .colab-df-quickchart:hover {\n",
              "    background-color: #434B5C;\n",
              "    box-shadow: 0px 1px 3px 1px rgba(0, 0, 0, 0.15);\n",
              "    filter: drop-shadow(0px 1px 2px rgba(0, 0, 0, 0.3));\n",
              "    fill: #FFFFFF;\n",
              "  }\n",
              "</style>\n",
              "\n",
              "    <script>\n",
              "      async function quickchart(key) {\n",
              "        const containerElement = document.querySelector('#' + key);\n",
              "        const charts = await google.colab.kernel.invokeFunction(\n",
              "            'suggestCharts', [key], {});\n",
              "      }\n",
              "    </script>\n",
              "\n",
              "      <script>\n",
              "\n",
              "function displayQuickchartButton(domScope) {\n",
              "  let quickchartButtonEl =\n",
              "    domScope.querySelector('#df-9e98941c-1b62-4966-a051-30165eea0b27 button.colab-df-quickchart');\n",
              "  quickchartButtonEl.style.display =\n",
              "    google.colab.kernel.accessAllowed ? 'block' : 'none';\n",
              "}\n",
              "\n",
              "        displayQuickchartButton(document);\n",
              "      </script>\n",
              "      <style>\n",
              "    .colab-df-container {\n",
              "      display:flex;\n",
              "      flex-wrap:wrap;\n",
              "      gap: 12px;\n",
              "    }\n",
              "\n",
              "    .colab-df-convert {\n",
              "      background-color: #E8F0FE;\n",
              "      border: none;\n",
              "      border-radius: 50%;\n",
              "      cursor: pointer;\n",
              "      display: none;\n",
              "      fill: #1967D2;\n",
              "      height: 32px;\n",
              "      padding: 0 0 0 0;\n",
              "      width: 32px;\n",
              "    }\n",
              "\n",
              "    .colab-df-convert:hover {\n",
              "      background-color: #E2EBFA;\n",
              "      box-shadow: 0px 1px 2px rgba(60, 64, 67, 0.3), 0px 1px 3px 1px rgba(60, 64, 67, 0.15);\n",
              "      fill: #174EA6;\n",
              "    }\n",
              "\n",
              "    [theme=dark] .colab-df-convert {\n",
              "      background-color: #3B4455;\n",
              "      fill: #D2E3FC;\n",
              "    }\n",
              "\n",
              "    [theme=dark] .colab-df-convert:hover {\n",
              "      background-color: #434B5C;\n",
              "      box-shadow: 0px 1px 3px 1px rgba(0, 0, 0, 0.15);\n",
              "      filter: drop-shadow(0px 1px 2px rgba(0, 0, 0, 0.3));\n",
              "      fill: #FFFFFF;\n",
              "    }\n",
              "  </style>\n",
              "\n",
              "      <script>\n",
              "        const buttonEl =\n",
              "          document.querySelector('#df-de3cc871-ba88-4d82-b01e-6d987cd013f2 button.colab-df-convert');\n",
              "        buttonEl.style.display =\n",
              "          google.colab.kernel.accessAllowed ? 'block' : 'none';\n",
              "\n",
              "        async function convertToInteractive(key) {\n",
              "          const element = document.querySelector('#df-de3cc871-ba88-4d82-b01e-6d987cd013f2');\n",
              "          const dataTable =\n",
              "            await google.colab.kernel.invokeFunction('convertToInteractive',\n",
              "                                                     [key], {});\n",
              "          if (!dataTable) return;\n",
              "\n",
              "          const docLinkHtml = 'Like what you see? Visit the ' +\n",
              "            '<a target=\"_blank\" href=https://colab.research.google.com/notebooks/data_table.ipynb>data table notebook</a>'\n",
              "            + ' to learn more about interactive tables.';\n",
              "          element.innerHTML = '';\n",
              "          dataTable['output_type'] = 'display_data';\n",
              "          await google.colab.output.renderOutput(dataTable, element);\n",
              "          const docLink = document.createElement('div');\n",
              "          docLink.innerHTML = docLinkHtml;\n",
              "          element.appendChild(docLink);\n",
              "        }\n",
              "      </script>\n",
              "    </div>\n",
              "  </div>\n"
            ]
          },
          "metadata": {},
          "execution_count": 94
        }
      ]
    },
    {
      "cell_type": "code",
      "source": [
        "df.keys()"
      ],
      "metadata": {
        "colab": {
          "base_uri": "https://localhost:8080/"
        },
        "id": "4yjXnCLDHmNZ",
        "outputId": "48ebe32a-123b-445c-bf46-0640242f480b"
      },
      "execution_count": 95,
      "outputs": [
        {
          "output_type": "execute_result",
          "data": {
            "text/plain": [
              "Index(['?H(DOI)', '?L(DOI)', 'Cell_area_measured', 'Perovskite_band_gap',\n",
              "       'Voc', 'Jsc', 'FF', 'PCE', 'Cell_architecture',\n",
              "       'Substrate_stack_sequence'],\n",
              "      dtype='object')"
            ]
          },
          "metadata": {},
          "execution_count": 95
        }
      ]
    },
    {
      "cell_type": "code",
      "source": [
        "df=df[['?H(DOI)', '?L(DOI)', 'Cell_area_measured','Cell_architecture','Perovskite_band_gap',\n",
        "       'Substrate_stack_sequence','FF']]"
      ],
      "metadata": {
        "id": "BHNU77wXHpiH"
      },
      "execution_count": 96,
      "outputs": []
    },
    {
      "cell_type": "code",
      "source": [
        "df"
      ],
      "metadata": {
        "colab": {
          "base_uri": "https://localhost:8080/",
          "height": 423
        },
        "id": "n5jAs1R5G5H3",
        "outputId": "e03448ff-8c8e-491c-cdd8-ffbe0e826702"
      },
      "execution_count": 97,
      "outputs": [
        {
          "output_type": "execute_result",
          "data": {
            "text/plain": [
              "     ?H(DOI)  ?L(DOI)  Cell_area_measured  Cell_architecture  \\\n",
              "0       0.06     0.06              0.1000                  0   \n",
              "1       0.20     0.80              0.0756                  0   \n",
              "2       0.30     0.53              0.0960                  0   \n",
              "3       0.20     0.70              0.0400                  0   \n",
              "4       0.40     0.33              1.2100                  1   \n",
              "..       ...      ...                 ...                ...   \n",
              "602     0.40     0.33              0.0177                  1   \n",
              "603     0.20     0.60              0.1000                  1   \n",
              "604     0.40     0.33              0.1000                  1   \n",
              "605     0.40     0.33              0.1000                  1   \n",
              "606     0.40     0.33              0.1000                  1   \n",
              "\n",
              "     Perovskite_band_gap  Substrate_stack_sequence      FF  \n",
              "0                   1.60                         4  0.5700  \n",
              "1                   1.60                         0  0.6900  \n",
              "2                   1.53                         0  0.7900  \n",
              "3                   1.53                         4  0.6725  \n",
              "4                   1.53                         5  0.7550  \n",
              "..                   ...                       ...     ...  \n",
              "602                 1.53                         7  0.8300  \n",
              "603                 1.50                         0  0.7700  \n",
              "604                 1.50                         0  0.6100  \n",
              "605                 1.53                         0  0.6500  \n",
              "606                 1.53                         0  0.7300  \n",
              "\n",
              "[607 rows x 7 columns]"
            ],
            "text/html": [
              "\n",
              "\n",
              "  <div id=\"df-72d5a814-de74-41f1-ae1a-d4ad45954349\">\n",
              "    <div class=\"colab-df-container\">\n",
              "      <div>\n",
              "<style scoped>\n",
              "    .dataframe tbody tr th:only-of-type {\n",
              "        vertical-align: middle;\n",
              "    }\n",
              "\n",
              "    .dataframe tbody tr th {\n",
              "        vertical-align: top;\n",
              "    }\n",
              "\n",
              "    .dataframe thead th {\n",
              "        text-align: right;\n",
              "    }\n",
              "</style>\n",
              "<table border=\"1\" class=\"dataframe\">\n",
              "  <thead>\n",
              "    <tr style=\"text-align: right;\">\n",
              "      <th></th>\n",
              "      <th>?H(DOI)</th>\n",
              "      <th>?L(DOI)</th>\n",
              "      <th>Cell_area_measured</th>\n",
              "      <th>Cell_architecture</th>\n",
              "      <th>Perovskite_band_gap</th>\n",
              "      <th>Substrate_stack_sequence</th>\n",
              "      <th>FF</th>\n",
              "    </tr>\n",
              "  </thead>\n",
              "  <tbody>\n",
              "    <tr>\n",
              "      <th>0</th>\n",
              "      <td>0.06</td>\n",
              "      <td>0.06</td>\n",
              "      <td>0.1000</td>\n",
              "      <td>0</td>\n",
              "      <td>1.60</td>\n",
              "      <td>4</td>\n",
              "      <td>0.5700</td>\n",
              "    </tr>\n",
              "    <tr>\n",
              "      <th>1</th>\n",
              "      <td>0.20</td>\n",
              "      <td>0.80</td>\n",
              "      <td>0.0756</td>\n",
              "      <td>0</td>\n",
              "      <td>1.60</td>\n",
              "      <td>0</td>\n",
              "      <td>0.6900</td>\n",
              "    </tr>\n",
              "    <tr>\n",
              "      <th>2</th>\n",
              "      <td>0.30</td>\n",
              "      <td>0.53</td>\n",
              "      <td>0.0960</td>\n",
              "      <td>0</td>\n",
              "      <td>1.53</td>\n",
              "      <td>0</td>\n",
              "      <td>0.7900</td>\n",
              "    </tr>\n",
              "    <tr>\n",
              "      <th>3</th>\n",
              "      <td>0.20</td>\n",
              "      <td>0.70</td>\n",
              "      <td>0.0400</td>\n",
              "      <td>0</td>\n",
              "      <td>1.53</td>\n",
              "      <td>4</td>\n",
              "      <td>0.6725</td>\n",
              "    </tr>\n",
              "    <tr>\n",
              "      <th>4</th>\n",
              "      <td>0.40</td>\n",
              "      <td>0.33</td>\n",
              "      <td>1.2100</td>\n",
              "      <td>1</td>\n",
              "      <td>1.53</td>\n",
              "      <td>5</td>\n",
              "      <td>0.7550</td>\n",
              "    </tr>\n",
              "    <tr>\n",
              "      <th>...</th>\n",
              "      <td>...</td>\n",
              "      <td>...</td>\n",
              "      <td>...</td>\n",
              "      <td>...</td>\n",
              "      <td>...</td>\n",
              "      <td>...</td>\n",
              "      <td>...</td>\n",
              "    </tr>\n",
              "    <tr>\n",
              "      <th>602</th>\n",
              "      <td>0.40</td>\n",
              "      <td>0.33</td>\n",
              "      <td>0.0177</td>\n",
              "      <td>1</td>\n",
              "      <td>1.53</td>\n",
              "      <td>7</td>\n",
              "      <td>0.8300</td>\n",
              "    </tr>\n",
              "    <tr>\n",
              "      <th>603</th>\n",
              "      <td>0.20</td>\n",
              "      <td>0.60</td>\n",
              "      <td>0.1000</td>\n",
              "      <td>1</td>\n",
              "      <td>1.50</td>\n",
              "      <td>0</td>\n",
              "      <td>0.7700</td>\n",
              "    </tr>\n",
              "    <tr>\n",
              "      <th>604</th>\n",
              "      <td>0.40</td>\n",
              "      <td>0.33</td>\n",
              "      <td>0.1000</td>\n",
              "      <td>1</td>\n",
              "      <td>1.50</td>\n",
              "      <td>0</td>\n",
              "      <td>0.6100</td>\n",
              "    </tr>\n",
              "    <tr>\n",
              "      <th>605</th>\n",
              "      <td>0.40</td>\n",
              "      <td>0.33</td>\n",
              "      <td>0.1000</td>\n",
              "      <td>1</td>\n",
              "      <td>1.53</td>\n",
              "      <td>0</td>\n",
              "      <td>0.6500</td>\n",
              "    </tr>\n",
              "    <tr>\n",
              "      <th>606</th>\n",
              "      <td>0.40</td>\n",
              "      <td>0.33</td>\n",
              "      <td>0.1000</td>\n",
              "      <td>1</td>\n",
              "      <td>1.53</td>\n",
              "      <td>0</td>\n",
              "      <td>0.7300</td>\n",
              "    </tr>\n",
              "  </tbody>\n",
              "</table>\n",
              "<p>607 rows × 7 columns</p>\n",
              "</div>\n",
              "      <button class=\"colab-df-convert\" onclick=\"convertToInteractive('df-72d5a814-de74-41f1-ae1a-d4ad45954349')\"\n",
              "              title=\"Convert this dataframe to an interactive table.\"\n",
              "              style=\"display:none;\">\n",
              "\n",
              "  <svg xmlns=\"http://www.w3.org/2000/svg\" height=\"24px\"viewBox=\"0 0 24 24\"\n",
              "       width=\"24px\">\n",
              "    <path d=\"M0 0h24v24H0V0z\" fill=\"none\"/>\n",
              "    <path d=\"M18.56 5.44l.94 2.06.94-2.06 2.06-.94-2.06-.94-.94-2.06-.94 2.06-2.06.94zm-11 1L8.5 8.5l.94-2.06 2.06-.94-2.06-.94L8.5 2.5l-.94 2.06-2.06.94zm10 10l.94 2.06.94-2.06 2.06-.94-2.06-.94-.94-2.06-.94 2.06-2.06.94z\"/><path d=\"M17.41 7.96l-1.37-1.37c-.4-.4-.92-.59-1.43-.59-.52 0-1.04.2-1.43.59L10.3 9.45l-7.72 7.72c-.78.78-.78 2.05 0 2.83L4 21.41c.39.39.9.59 1.41.59.51 0 1.02-.2 1.41-.59l7.78-7.78 2.81-2.81c.8-.78.8-2.07 0-2.86zM5.41 20L4 18.59l7.72-7.72 1.47 1.35L5.41 20z\"/>\n",
              "  </svg>\n",
              "      </button>\n",
              "\n",
              "\n",
              "\n",
              "    <div id=\"df-6dfb1b45-c745-4e52-9ed6-bb63488a18c6\">\n",
              "      <button class=\"colab-df-quickchart\" onclick=\"quickchart('df-6dfb1b45-c745-4e52-9ed6-bb63488a18c6')\"\n",
              "              title=\"Suggest charts.\"\n",
              "              style=\"display:none;\">\n",
              "\n",
              "<svg xmlns=\"http://www.w3.org/2000/svg\" height=\"24px\"viewBox=\"0 0 24 24\"\n",
              "     width=\"24px\">\n",
              "    <g>\n",
              "        <path d=\"M19 3H5c-1.1 0-2 .9-2 2v14c0 1.1.9 2 2 2h14c1.1 0 2-.9 2-2V5c0-1.1-.9-2-2-2zM9 17H7v-7h2v7zm4 0h-2V7h2v10zm4 0h-2v-4h2v4z\"/>\n",
              "    </g>\n",
              "</svg>\n",
              "      </button>\n",
              "    </div>\n",
              "\n",
              "<style>\n",
              "  .colab-df-quickchart {\n",
              "    background-color: #E8F0FE;\n",
              "    border: none;\n",
              "    border-radius: 50%;\n",
              "    cursor: pointer;\n",
              "    display: none;\n",
              "    fill: #1967D2;\n",
              "    height: 32px;\n",
              "    padding: 0 0 0 0;\n",
              "    width: 32px;\n",
              "  }\n",
              "\n",
              "  .colab-df-quickchart:hover {\n",
              "    background-color: #E2EBFA;\n",
              "    box-shadow: 0px 1px 2px rgba(60, 64, 67, 0.3), 0px 1px 3px 1px rgba(60, 64, 67, 0.15);\n",
              "    fill: #174EA6;\n",
              "  }\n",
              "\n",
              "  [theme=dark] .colab-df-quickchart {\n",
              "    background-color: #3B4455;\n",
              "    fill: #D2E3FC;\n",
              "  }\n",
              "\n",
              "  [theme=dark] .colab-df-quickchart:hover {\n",
              "    background-color: #434B5C;\n",
              "    box-shadow: 0px 1px 3px 1px rgba(0, 0, 0, 0.15);\n",
              "    filter: drop-shadow(0px 1px 2px rgba(0, 0, 0, 0.3));\n",
              "    fill: #FFFFFF;\n",
              "  }\n",
              "</style>\n",
              "\n",
              "    <script>\n",
              "      async function quickchart(key) {\n",
              "        const containerElement = document.querySelector('#' + key);\n",
              "        const charts = await google.colab.kernel.invokeFunction(\n",
              "            'suggestCharts', [key], {});\n",
              "      }\n",
              "    </script>\n",
              "\n",
              "      <script>\n",
              "\n",
              "function displayQuickchartButton(domScope) {\n",
              "  let quickchartButtonEl =\n",
              "    domScope.querySelector('#df-6dfb1b45-c745-4e52-9ed6-bb63488a18c6 button.colab-df-quickchart');\n",
              "  quickchartButtonEl.style.display =\n",
              "    google.colab.kernel.accessAllowed ? 'block' : 'none';\n",
              "}\n",
              "\n",
              "        displayQuickchartButton(document);\n",
              "      </script>\n",
              "      <style>\n",
              "    .colab-df-container {\n",
              "      display:flex;\n",
              "      flex-wrap:wrap;\n",
              "      gap: 12px;\n",
              "    }\n",
              "\n",
              "    .colab-df-convert {\n",
              "      background-color: #E8F0FE;\n",
              "      border: none;\n",
              "      border-radius: 50%;\n",
              "      cursor: pointer;\n",
              "      display: none;\n",
              "      fill: #1967D2;\n",
              "      height: 32px;\n",
              "      padding: 0 0 0 0;\n",
              "      width: 32px;\n",
              "    }\n",
              "\n",
              "    .colab-df-convert:hover {\n",
              "      background-color: #E2EBFA;\n",
              "      box-shadow: 0px 1px 2px rgba(60, 64, 67, 0.3), 0px 1px 3px 1px rgba(60, 64, 67, 0.15);\n",
              "      fill: #174EA6;\n",
              "    }\n",
              "\n",
              "    [theme=dark] .colab-df-convert {\n",
              "      background-color: #3B4455;\n",
              "      fill: #D2E3FC;\n",
              "    }\n",
              "\n",
              "    [theme=dark] .colab-df-convert:hover {\n",
              "      background-color: #434B5C;\n",
              "      box-shadow: 0px 1px 3px 1px rgba(0, 0, 0, 0.15);\n",
              "      filter: drop-shadow(0px 1px 2px rgba(0, 0, 0, 0.3));\n",
              "      fill: #FFFFFF;\n",
              "    }\n",
              "  </style>\n",
              "\n",
              "      <script>\n",
              "        const buttonEl =\n",
              "          document.querySelector('#df-72d5a814-de74-41f1-ae1a-d4ad45954349 button.colab-df-convert');\n",
              "        buttonEl.style.display =\n",
              "          google.colab.kernel.accessAllowed ? 'block' : 'none';\n",
              "\n",
              "        async function convertToInteractive(key) {\n",
              "          const element = document.querySelector('#df-72d5a814-de74-41f1-ae1a-d4ad45954349');\n",
              "          const dataTable =\n",
              "            await google.colab.kernel.invokeFunction('convertToInteractive',\n",
              "                                                     [key], {});\n",
              "          if (!dataTable) return;\n",
              "\n",
              "          const docLinkHtml = 'Like what you see? Visit the ' +\n",
              "            '<a target=\"_blank\" href=https://colab.research.google.com/notebooks/data_table.ipynb>data table notebook</a>'\n",
              "            + ' to learn more about interactive tables.';\n",
              "          element.innerHTML = '';\n",
              "          dataTable['output_type'] = 'display_data';\n",
              "          await google.colab.output.renderOutput(dataTable, element);\n",
              "          const docLink = document.createElement('div');\n",
              "          docLink.innerHTML = docLinkHtml;\n",
              "          element.appendChild(docLink);\n",
              "        }\n",
              "      </script>\n",
              "    </div>\n",
              "  </div>\n"
            ]
          },
          "metadata": {},
          "execution_count": 97
        }
      ]
    },
    {
      "cell_type": "code",
      "source": [
        "from google.colab import drive\n",
        "drive.mount('/content/drive')"
      ],
      "metadata": {
        "colab": {
          "base_uri": "https://localhost:8080/"
        },
        "id": "9ZAu90S4G77K",
        "outputId": "e8423a30-eeff-4626-d7ad-9b78132f8785"
      },
      "execution_count": 98,
      "outputs": [
        {
          "output_type": "stream",
          "name": "stdout",
          "text": [
            "Drive already mounted at /content/drive; to attempt to forcibly remount, call drive.mount(\"/content/drive\", force_remount=True).\n"
          ]
        }
      ]
    },
    {
      "cell_type": "code",
      "source": [
        "from sklearn.model_selection import KFold, cross_val_score\n",
        "from sklearn.model_selection import KFold\n",
        "KFold\n",
        "\n",
        "seed=12\n",
        "kfold=KFold(10,shuffle=True,random_state=seed)\n",
        "i=0\n",
        "for tr, ts in kfold.split(df):\n",
        "  train=df.iloc[tr]\n",
        "  test=df.iloc[ts]\n",
        "  tr_data_X=train.iloc[:,:-1]\n",
        "  tr_data_Y=train.iloc[:,-1]\n",
        "  ts_data_X=test.iloc[:,:-1]\n",
        "  ts_data_Y=test.iloc[:,-1]\n",
        "  if (i==1):\n",
        "\n",
        "     np.savetxt('/content/drive/MyDrive/sbg_flexible/generated FF/generated_train_1.csv',train,delimiter=\",\")\n",
        "     np.savetxt('/content/drive/MyDrive/sbg_flexible/generated FF/generated_test_1.csv',test, delimiter=\",\")\n",
        "\n",
        "     print(ts)\n",
        "  i=i+1"
      ],
      "metadata": {
        "colab": {
          "base_uri": "https://localhost:8080/"
        },
        "id": "RAlTMZsOSucH",
        "outputId": "06cff765-cf5a-4e83-ea6d-b160b51280a2"
      },
      "execution_count": 99,
      "outputs": [
        {
          "output_type": "stream",
          "name": "stdout",
          "text": [
            "[  0   6  27  35  39  61  69  86 102 103 140 186 193 207 210 228 229 236\n",
            " 258 267 285 294 304 307 323 346 347 348 351 357 362 379 397 400 407 408\n",
            " 412 416 430 433 434 441 442 446 468 471 475 497 500 505 511 533 544 551\n",
            " 560 576 584 585 586 591 596]\n"
          ]
        }
      ]
    },
    {
      "cell_type": "code",
      "source": [
        "training_data_df=pd.read_csv('/content/drive/MyDrive/sbg_flexible/generated FF/generated_train_1.csv',header=None)\n",
        "training_data=training_data_df.to_numpy()\n",
        "print(training_data)\n",
        "print(training_data.shape)"
      ],
      "metadata": {
        "colab": {
          "base_uri": "https://localhost:8080/"
        },
        "id": "bk9GD4wqHafT",
        "outputId": "7031b9d6-87e8-43d8-b6b4-a878f7acf176"
      },
      "execution_count": 100,
      "outputs": [
        {
          "output_type": "stream",
          "name": "stdout",
          "text": [
            "[[0.2    0.8    0.0756 ... 1.6    0.     0.69  ]\n",
            " [0.3    0.53   0.096  ... 1.53   0.     0.79  ]\n",
            " [0.2    0.7    0.04   ... 1.53   4.     0.6725]\n",
            " ...\n",
            " [0.4    0.33   0.1    ... 1.5    0.     0.61  ]\n",
            " [0.4    0.33   0.1    ... 1.53   0.     0.65  ]\n",
            " [0.4    0.33   0.1    ... 1.53   0.     0.73  ]]\n",
            "(546, 7)\n"
          ]
        }
      ]
    },
    {
      "cell_type": "code",
      "source": [
        "test_data_df=pd.read_csv(\"/content/drive/MyDrive/sbg_flexible/generated FF/generated_test_1.csv\",header=None)\n",
        "test_data=test_data_df.to_numpy()\n",
        "print(test_data)\n",
        "print(test_data.shape)"
      ],
      "metadata": {
        "colab": {
          "base_uri": "https://localhost:8080/"
        },
        "id": "MpWxOH1zHjZ2",
        "outputId": "5d65ffed-944f-4eef-d390-0eedd068977e"
      },
      "execution_count": 101,
      "outputs": [
        {
          "output_type": "stream",
          "name": "stdout",
          "text": [
            "[[ 0.06    0.06    0.1     0.      1.6     4.      0.57  ]\n",
            " [-0.04    0.32    1.3     1.      1.65    4.      0.5346]\n",
            " [ 0.3     0.53    1.096   0.      1.53    0.      0.78  ]\n",
            " [ 0.1     0.2     0.5     1.      1.5     0.      0.639 ]\n",
            " [ 0.07    0.27    0.06    0.      1.53    7.      0.66  ]\n",
            " [ 0.2     0.3     0.075   0.      1.5     1.      0.59  ]\n",
            " [ 0.3     0.53    2.06    0.      1.53    7.      0.77  ]\n",
            " [ 0.4     0.43    0.0464  1.      1.5     4.      0.6453]\n",
            " [ 0.06    0.1     3.1     1.      1.5     0.      0.78  ]\n",
            " [ 0.2     0.34    0.1     0.      1.53    4.      0.7658]\n",
            " [ 0.23    0.27    0.06    1.      1.5     0.      0.754 ]\n",
            " [ 0.3     0.03    0.09    0.      1.62    0.      0.7859]\n",
            " [ 0.2     0.43    0.07    1.      1.53    4.      0.71  ]\n",
            " [ 1.2     0.2     0.09    1.      1.4     4.      0.679 ]\n",
            " [ 0.1     0.4     0.096   0.      1.5     5.      0.6026]\n",
            " [ 0.29    0.3     0.0464  1.      1.5     2.      0.84  ]\n",
            " [ 0.29    0.3     0.0464  1.      1.5     2.      0.84  ]\n",
            " [ 0.2     0.89    0.1     0.      1.5     2.      0.71  ]\n",
            " [ 0.2     0.33    0.168   0.      1.71    4.      0.41  ]\n",
            " [ 0.2     0.43    0.11    1.      1.8     2.      0.74  ]\n",
            " [ 0.72    0.45    0.16    0.      1.58    7.      0.72  ]\n",
            " [ 0.2     0.33    0.1     0.      1.53    0.      0.43  ]\n",
            " [ 0.4     0.33    0.04    0.      1.54    7.      0.69  ]\n",
            " [ 0.2     0.6     0.09    0.      1.5     4.      0.7   ]\n",
            " [ 0.15    0.15    0.1     1.      1.5     5.      0.79  ]\n",
            " [ 0.2     0.16    0.1     0.      1.55    4.      0.41  ]\n",
            " [ 0.2     0.11    0.1     0.      1.55    4.      0.75  ]\n",
            " [ 0.2     0.43    0.1     0.      1.55    4.      0.73  ]\n",
            " [ 0.2     0.43    0.07    0.      1.53    0.      0.71  ]\n",
            " [ 0.1     0.6     0.1     1.      1.5     4.      0.72  ]\n",
            " [ 0.1     0.32    0.12    0.      1.6     4.      0.682 ]\n",
            " [ 0.43    0.37    0.11    1.      1.5     4.      0.71  ]\n",
            " [ 0.2     0.43    0.16    0.      1.53    3.      0.78  ]\n",
            " [ 0.2     0.83    0.04    1.      1.53    7.      0.7   ]\n",
            " [ 0.2     0.43    0.14    0.      1.5     4.      0.73  ]\n",
            " [ 0.2     0.43    0.14    0.      1.5     4.      0.68  ]\n",
            " [ 0.1     0.6     0.09    1.      1.6     4.      0.76  ]\n",
            " [ 0.2     0.6     1.      0.      1.5     4.      0.66  ]\n",
            " [ 0.4     0.33    0.096   1.      1.53    7.      0.77  ]\n",
            " [ 0.4     0.33    0.096   1.      1.53    7.      0.7   ]\n",
            " [ 0.2     0.28    0.09    0.      1.5     4.      0.72  ]\n",
            " [ 0.2     0.2     0.12    0.      1.4     4.      0.67  ]\n",
            " [ 0.2     0.2     0.12    0.      1.4     4.      0.69  ]\n",
            " [ 0.7     0.1     0.1     1.      1.5     0.      0.7   ]\n",
            " [ 0.1     0.33    0.0706  1.      1.53    0.      0.68  ]\n",
            " [ 0.2     0.3     0.1     1.      1.5     7.      0.58  ]\n",
            " [ 0.2     0.33    0.213   0.      1.53    7.      0.77  ]\n",
            " [ 0.14    0.08    0.1     1.      1.5     0.      0.7   ]\n",
            " [ 0.4     0.33    0.08    1.      1.53    2.      0.49  ]\n",
            " [ 0.4     0.33   10.      1.      1.53    7.      0.68  ]\n",
            " [ 0.4     0.1     0.464   1.      1.6     0.      0.55  ]\n",
            " [ 0.2     0.53    0.096   0.      1.53    0.      0.72  ]\n",
            " [ 0.2     0.27    0.12    0.      1.45    0.      0.67  ]\n",
            " [ 0.2     0.22    0.09    0.      1.5     4.      0.66  ]\n",
            " [ 0.2     0.3     0.1     0.      1.5     0.      0.63  ]\n",
            " [ 0.2     0.7     0.0708  0.      1.5     7.      0.6   ]\n",
            " [ 0.2     0.4     0.09    0.      1.5     4.      0.51  ]\n",
            " [ 0.2     0.53    0.09    0.      1.5     4.      0.64  ]\n",
            " [ 0.3     0.4     0.05    1.      1.5     4.      0.73  ]\n",
            " [ 0.2     0.4     0.05    1.      1.5     4.      0.58  ]\n",
            " [ 0.3     0.53    0.213   1.      1.53    7.      0.73  ]]\n",
            "(61, 7)\n"
          ]
        }
      ]
    },
    {
      "cell_type": "code",
      "source": [
        "ts_data_X=test_data[:,:-1]\n",
        "ts_data_Y=test_data[:,-1]\n",
        "print(ts_data_Y.shape)"
      ],
      "metadata": {
        "colab": {
          "base_uri": "https://localhost:8080/"
        },
        "id": "eEKIBHqcHx6G",
        "outputId": "c9154c6e-8c82-46bd-f96f-8c3a14386df4"
      },
      "execution_count": 102,
      "outputs": [
        {
          "output_type": "stream",
          "name": "stdout",
          "text": [
            "(61,)\n"
          ]
        }
      ]
    },
    {
      "cell_type": "code",
      "source": [
        "ts_data_Y"
      ],
      "metadata": {
        "colab": {
          "base_uri": "https://localhost:8080/"
        },
        "id": "L9x38rtaH4LF",
        "outputId": "36716448-260a-4051-9f99-bbb3f4b72bb5"
      },
      "execution_count": 103,
      "outputs": [
        {
          "output_type": "execute_result",
          "data": {
            "text/plain": [
              "array([0.57  , 0.5346, 0.78  , 0.639 , 0.66  , 0.59  , 0.77  , 0.6453,\n",
              "       0.78  , 0.7658, 0.754 , 0.7859, 0.71  , 0.679 , 0.6026, 0.84  ,\n",
              "       0.84  , 0.71  , 0.41  , 0.74  , 0.72  , 0.43  , 0.69  , 0.7   ,\n",
              "       0.79  , 0.41  , 0.75  , 0.73  , 0.71  , 0.72  , 0.682 , 0.71  ,\n",
              "       0.78  , 0.7   , 0.73  , 0.68  , 0.76  , 0.66  , 0.77  , 0.7   ,\n",
              "       0.72  , 0.67  , 0.69  , 0.7   , 0.68  , 0.58  , 0.77  , 0.7   ,\n",
              "       0.49  , 0.68  , 0.55  , 0.72  , 0.67  , 0.66  , 0.63  , 0.6   ,\n",
              "       0.51  , 0.64  , 0.73  , 0.58  , 0.73  ])"
            ]
          },
          "metadata": {},
          "execution_count": 103
        }
      ]
    },
    {
      "cell_type": "code",
      "source": [
        "from sklearn.linear_model import LinearRegression\n",
        "lr = LinearRegression()\n",
        "lr.fit( tr_data_X,  tr_data_Y)"
      ],
      "metadata": {
        "colab": {
          "base_uri": "https://localhost:8080/",
          "height": 74
        },
        "id": "wRgtGRS9H-Dm",
        "outputId": "d773120c-eb7b-4870-b053-ff5168d4b099"
      },
      "execution_count": 104,
      "outputs": [
        {
          "output_type": "execute_result",
          "data": {
            "text/plain": [
              "LinearRegression()"
            ],
            "text/html": [
              "<style>#sk-container-id-7 {color: black;background-color: white;}#sk-container-id-7 pre{padding: 0;}#sk-container-id-7 div.sk-toggleable {background-color: white;}#sk-container-id-7 label.sk-toggleable__label {cursor: pointer;display: block;width: 100%;margin-bottom: 0;padding: 0.3em;box-sizing: border-box;text-align: center;}#sk-container-id-7 label.sk-toggleable__label-arrow:before {content: \"▸\";float: left;margin-right: 0.25em;color: #696969;}#sk-container-id-7 label.sk-toggleable__label-arrow:hover:before {color: black;}#sk-container-id-7 div.sk-estimator:hover label.sk-toggleable__label-arrow:before {color: black;}#sk-container-id-7 div.sk-toggleable__content {max-height: 0;max-width: 0;overflow: hidden;text-align: left;background-color: #f0f8ff;}#sk-container-id-7 div.sk-toggleable__content pre {margin: 0.2em;color: black;border-radius: 0.25em;background-color: #f0f8ff;}#sk-container-id-7 input.sk-toggleable__control:checked~div.sk-toggleable__content {max-height: 200px;max-width: 100%;overflow: auto;}#sk-container-id-7 input.sk-toggleable__control:checked~label.sk-toggleable__label-arrow:before {content: \"▾\";}#sk-container-id-7 div.sk-estimator input.sk-toggleable__control:checked~label.sk-toggleable__label {background-color: #d4ebff;}#sk-container-id-7 div.sk-label input.sk-toggleable__control:checked~label.sk-toggleable__label {background-color: #d4ebff;}#sk-container-id-7 input.sk-hidden--visually {border: 0;clip: rect(1px 1px 1px 1px);clip: rect(1px, 1px, 1px, 1px);height: 1px;margin: -1px;overflow: hidden;padding: 0;position: absolute;width: 1px;}#sk-container-id-7 div.sk-estimator {font-family: monospace;background-color: #f0f8ff;border: 1px dotted black;border-radius: 0.25em;box-sizing: border-box;margin-bottom: 0.5em;}#sk-container-id-7 div.sk-estimator:hover {background-color: #d4ebff;}#sk-container-id-7 div.sk-parallel-item::after {content: \"\";width: 100%;border-bottom: 1px solid gray;flex-grow: 1;}#sk-container-id-7 div.sk-label:hover label.sk-toggleable__label {background-color: #d4ebff;}#sk-container-id-7 div.sk-serial::before {content: \"\";position: absolute;border-left: 1px solid gray;box-sizing: border-box;top: 0;bottom: 0;left: 50%;z-index: 0;}#sk-container-id-7 div.sk-serial {display: flex;flex-direction: column;align-items: center;background-color: white;padding-right: 0.2em;padding-left: 0.2em;position: relative;}#sk-container-id-7 div.sk-item {position: relative;z-index: 1;}#sk-container-id-7 div.sk-parallel {display: flex;align-items: stretch;justify-content: center;background-color: white;position: relative;}#sk-container-id-7 div.sk-item::before, #sk-container-id-7 div.sk-parallel-item::before {content: \"\";position: absolute;border-left: 1px solid gray;box-sizing: border-box;top: 0;bottom: 0;left: 50%;z-index: -1;}#sk-container-id-7 div.sk-parallel-item {display: flex;flex-direction: column;z-index: 1;position: relative;background-color: white;}#sk-container-id-7 div.sk-parallel-item:first-child::after {align-self: flex-end;width: 50%;}#sk-container-id-7 div.sk-parallel-item:last-child::after {align-self: flex-start;width: 50%;}#sk-container-id-7 div.sk-parallel-item:only-child::after {width: 0;}#sk-container-id-7 div.sk-dashed-wrapped {border: 1px dashed gray;margin: 0 0.4em 0.5em 0.4em;box-sizing: border-box;padding-bottom: 0.4em;background-color: white;}#sk-container-id-7 div.sk-label label {font-family: monospace;font-weight: bold;display: inline-block;line-height: 1.2em;}#sk-container-id-7 div.sk-label-container {text-align: center;}#sk-container-id-7 div.sk-container {/* jupyter's `normalize.less` sets `[hidden] { display: none; }` but bootstrap.min.css set `[hidden] { display: none !important; }` so we also need the `!important` here to be able to override the default hidden behavior on the sphinx rendered scikit-learn.org. See: https://github.com/scikit-learn/scikit-learn/issues/21755 */display: inline-block !important;position: relative;}#sk-container-id-7 div.sk-text-repr-fallback {display: none;}</style><div id=\"sk-container-id-7\" class=\"sk-top-container\"><div class=\"sk-text-repr-fallback\"><pre>LinearRegression()</pre><b>In a Jupyter environment, please rerun this cell to show the HTML representation or trust the notebook. <br />On GitHub, the HTML representation is unable to render, please try loading this page with nbviewer.org.</b></div><div class=\"sk-container\" hidden><div class=\"sk-item\"><div class=\"sk-estimator sk-toggleable\"><input class=\"sk-toggleable__control sk-hidden--visually\" id=\"sk-estimator-id-7\" type=\"checkbox\" checked><label for=\"sk-estimator-id-7\" class=\"sk-toggleable__label sk-toggleable__label-arrow\">LinearRegression</label><div class=\"sk-toggleable__content\"><pre>LinearRegression()</pre></div></div></div></div></div>"
            ]
          },
          "metadata": {},
          "execution_count": 104
        }
      ]
    },
    {
      "cell_type": "code",
      "source": [
        "y_pred_lr =lr.predict(ts_data_X)\n",
        "y_pred_lr.shape"
      ],
      "metadata": {
        "colab": {
          "base_uri": "https://localhost:8080/"
        },
        "id": "2qSV2qDdIA7Y",
        "outputId": "1080dd5c-f55e-4222-9592-295a0099fbcb"
      },
      "execution_count": 105,
      "outputs": [
        {
          "output_type": "execute_result",
          "data": {
            "text/plain": [
              "(61,)"
            ]
          },
          "metadata": {},
          "execution_count": 105
        }
      ]
    },
    {
      "cell_type": "code",
      "source": [
        "ts_data_Y"
      ],
      "metadata": {
        "colab": {
          "base_uri": "https://localhost:8080/"
        },
        "id": "4lS15FhdID3_",
        "outputId": "f4a52c8f-7a1f-4937-902e-32effdd56cbd"
      },
      "execution_count": 106,
      "outputs": [
        {
          "output_type": "execute_result",
          "data": {
            "text/plain": [
              "array([0.57  , 0.5346, 0.78  , 0.639 , 0.66  , 0.59  , 0.77  , 0.6453,\n",
              "       0.78  , 0.7658, 0.754 , 0.7859, 0.71  , 0.679 , 0.6026, 0.84  ,\n",
              "       0.84  , 0.71  , 0.41  , 0.74  , 0.72  , 0.43  , 0.69  , 0.7   ,\n",
              "       0.79  , 0.41  , 0.75  , 0.73  , 0.71  , 0.72  , 0.682 , 0.71  ,\n",
              "       0.78  , 0.7   , 0.73  , 0.68  , 0.76  , 0.66  , 0.77  , 0.7   ,\n",
              "       0.72  , 0.67  , 0.69  , 0.7   , 0.68  , 0.58  , 0.77  , 0.7   ,\n",
              "       0.49  , 0.68  , 0.55  , 0.72  , 0.67  , 0.66  , 0.63  , 0.6   ,\n",
              "       0.51  , 0.64  , 0.73  , 0.58  , 0.73  ])"
            ]
          },
          "metadata": {},
          "execution_count": 106
        }
      ]
    },
    {
      "cell_type": "code",
      "source": [
        "import matplotlib.pyplot as plt\n",
        "plt.scatter(ts_data_Y, y_pred_lr)\n",
        "plt.xlabel(\"Actual PCE\")\n",
        "plt.ylabel(\"Predicted PCE\")\n",
        "plt.show()"
      ],
      "metadata": {
        "colab": {
          "base_uri": "https://localhost:8080/",
          "height": 449
        },
        "id": "tEStWkxyIG2w",
        "outputId": "a9cec5ab-2e3b-4d0c-f569-83d81828c784"
      },
      "execution_count": 107,
      "outputs": [
        {
          "output_type": "display_data",
          "data": {
            "text/plain": [
              "<Figure size 640x480 with 1 Axes>"
            ],
            "image/png": "[encoded data removed]"
          },
          "metadata": {}
        }
      ]
    },
    {
      "cell_type": "code",
      "source": [
        "from sklearn.metrics import r2_score\n",
        "r2_score(ts_data_Y, y_pred_lr)"
      ],
      "metadata": {
        "colab": {
          "base_uri": "https://localhost:8080/"
        },
        "id": "tixuvobYILfn",
        "outputId": "de934848-e38f-4063-d104-d366a623754e"
      },
      "execution_count": 108,
      "outputs": [
        {
          "output_type": "execute_result",
          "data": {
            "text/plain": [
              "0.011441412209250656"
            ]
          },
          "metadata": {},
          "execution_count": 108
        }
      ]
    },
    {
      "cell_type": "code",
      "source": [
        "from sklearn.metrics import mean_squared_error\n",
        "mean_squared_error(ts_data_Y, y_pred_lr)"
      ],
      "metadata": {
        "colab": {
          "base_uri": "https://localhost:8080/"
        },
        "id": "9a0t4z_EIWCW",
        "outputId": "bb3f93b3-ba97-47ad-85f3-71fe02c6cb75"
      },
      "execution_count": 109,
      "outputs": [
        {
          "output_type": "execute_result",
          "data": {
            "text/plain": [
              "0.008924523836028382"
            ]
          },
          "metadata": {},
          "execution_count": 109
        }
      ]
    },
    {
      "cell_type": "markdown",
      "source": [
        "DTR"
      ],
      "metadata": {
        "id": "tWqfHU2xIyIY"
      }
    },
    {
      "cell_type": "code",
      "source": [
        "import time\n",
        "st = time.time()\n",
        "from sklearn.tree import DecisionTreeRegressor\n",
        "regressor = DecisionTreeRegressor(random_state = 0)\n",
        "regressor.fit(tr_data_X, tr_data_Y)\n"
      ],
      "metadata": {
        "colab": {
          "base_uri": "https://localhost:8080/",
          "height": 74
        },
        "id": "uwfu8t5_IYp2",
        "outputId": "6340c643-e17c-4a8e-d567-c57e5ea6b9f2"
      },
      "execution_count": 110,
      "outputs": [
        {
          "output_type": "execute_result",
          "data": {
            "text/plain": [
              "DecisionTreeRegressor(random_state=0)"
            ],
            "text/html": [
              "<style>#sk-container-id-8 {color: black;background-color: white;}#sk-container-id-8 pre{padding: 0;}#sk-container-id-8 div.sk-toggleable {background-color: white;}#sk-container-id-8 label.sk-toggleable__label {cursor: pointer;display: block;width: 100%;margin-bottom: 0;padding: 0.3em;box-sizing: border-box;text-align: center;}#sk-container-id-8 label.sk-toggleable__label-arrow:before {content: \"▸\";float: left;margin-right: 0.25em;color: #696969;}#sk-container-id-8 label.sk-toggleable__label-arrow:hover:before {color: black;}#sk-container-id-8 div.sk-estimator:hover label.sk-toggleable__label-arrow:before {color: black;}#sk-container-id-8 div.sk-toggleable__content {max-height: 0;max-width: 0;overflow: hidden;text-align: left;background-color: #f0f8ff;}#sk-container-id-8 div.sk-toggleable__content pre {margin: 0.2em;color: black;border-radius: 0.25em;background-color: #f0f8ff;}#sk-container-id-8 input.sk-toggleable__control:checked~div.sk-toggleable__content {max-height: 200px;max-width: 100%;overflow: auto;}#sk-container-id-8 input.sk-toggleable__control:checked~label.sk-toggleable__label-arrow:before {content: \"▾\";}#sk-container-id-8 div.sk-estimator input.sk-toggleable__control:checked~label.sk-toggleable__label {background-color: #d4ebff;}#sk-container-id-8 div.sk-label input.sk-toggleable__control:checked~label.sk-toggleable__label {background-color: #d4ebff;}#sk-container-id-8 input.sk-hidden--visually {border: 0;clip: rect(1px 1px 1px 1px);clip: rect(1px, 1px, 1px, 1px);height: 1px;margin: -1px;overflow: hidden;padding: 0;position: absolute;width: 1px;}#sk-container-id-8 div.sk-estimator {font-family: monospace;background-color: #f0f8ff;border: 1px dotted black;border-radius: 0.25em;box-sizing: border-box;margin-bottom: 0.5em;}#sk-container-id-8 div.sk-estimator:hover {background-color: #d4ebff;}#sk-container-id-8 div.sk-parallel-item::after {content: \"\";width: 100%;border-bottom: 1px solid gray;flex-grow: 1;}#sk-container-id-8 div.sk-label:hover label.sk-toggleable__label {background-color: #d4ebff;}#sk-container-id-8 div.sk-serial::before {content: \"\";position: absolute;border-left: 1px solid gray;box-sizing: border-box;top: 0;bottom: 0;left: 50%;z-index: 0;}#sk-container-id-8 div.sk-serial {display: flex;flex-direction: column;align-items: center;background-color: white;padding-right: 0.2em;padding-left: 0.2em;position: relative;}#sk-container-id-8 div.sk-item {position: relative;z-index: 1;}#sk-container-id-8 div.sk-parallel {display: flex;align-items: stretch;justify-content: center;background-color: white;position: relative;}#sk-container-id-8 div.sk-item::before, #sk-container-id-8 div.sk-parallel-item::before {content: \"\";position: absolute;border-left: 1px solid gray;box-sizing: border-box;top: 0;bottom: 0;left: 50%;z-index: -1;}#sk-container-id-8 div.sk-parallel-item {display: flex;flex-direction: column;z-index: 1;position: relative;background-color: white;}#sk-container-id-8 div.sk-parallel-item:first-child::after {align-self: flex-end;width: 50%;}#sk-container-id-8 div.sk-parallel-item:last-child::after {align-self: flex-start;width: 50%;}#sk-container-id-8 div.sk-parallel-item:only-child::after {width: 0;}#sk-container-id-8 div.sk-dashed-wrapped {border: 1px dashed gray;margin: 0 0.4em 0.5em 0.4em;box-sizing: border-box;padding-bottom: 0.4em;background-color: white;}#sk-container-id-8 div.sk-label label {font-family: monospace;font-weight: bold;display: inline-block;line-height: 1.2em;}#sk-container-id-8 div.sk-label-container {text-align: center;}#sk-container-id-8 div.sk-container {/* jupyter's `normalize.less` sets `[hidden] { display: none; }` but bootstrap.min.css set `[hidden] { display: none !important; }` so we also need the `!important` here to be able to override the default hidden behavior on the sphinx rendered scikit-learn.org. See: https://github.com/scikit-learn/scikit-learn/issues/21755 */display: inline-block !important;position: relative;}#sk-container-id-8 div.sk-text-repr-fallback {display: none;}</style><div id=\"sk-container-id-8\" class=\"sk-top-container\"><div class=\"sk-text-repr-fallback\"><pre>DecisionTreeRegressor(random_state=0)</pre><b>In a Jupyter environment, please rerun this cell to show the HTML representation or trust the notebook. <br />On GitHub, the HTML representation is unable to render, please try loading this page with nbviewer.org.</b></div><div class=\"sk-container\" hidden><div class=\"sk-item\"><div class=\"sk-estimator sk-toggleable\"><input class=\"sk-toggleable__control sk-hidden--visually\" id=\"sk-estimator-id-8\" type=\"checkbox\" checked><label for=\"sk-estimator-id-8\" class=\"sk-toggleable__label sk-toggleable__label-arrow\">DecisionTreeRegressor</label><div class=\"sk-toggleable__content\"><pre>DecisionTreeRegressor(random_state=0)</pre></div></div></div></div></div>"
            ]
          },
          "metadata": {},
          "execution_count": 110
        }
      ]
    },
    {
      "cell_type": "code",
      "source": [
        "y_pred_dtr =regressor.predict(ts_data_X)\n",
        "et = time.time()\n",
        "elapsed_time = et - st\n",
        "print('DTR:', elapsed_time, 'seconds')\n",
        "y_pred_dtr"
      ],
      "metadata": {
        "colab": {
          "base_uri": "https://localhost:8080/"
        },
        "id": "DleS8PjBIce9",
        "outputId": "1b2dd1f1-edb9-4d1b-bb67-618d19447097"
      },
      "execution_count": 111,
      "outputs": [
        {
          "output_type": "stream",
          "name": "stdout",
          "text": [
            "DTR: 0.01944756507873535 seconds\n"
          ]
        },
        {
          "output_type": "execute_result",
          "data": {
            "text/plain": [
              "array([0.57   , 0.5346 , 0.78   , 0.639  , 0.66   , 0.59   , 0.77   ,\n",
              "       0.6453 , 0.78   , 0.7658 , 0.7375 , 0.78495, 0.725  , 0.679  ,\n",
              "       0.6563 , 0.84   , 0.84   , 0.71   , 0.41   , 0.69   , 0.75   ,\n",
              "       0.43   , 0.69   , 0.67   , 0.795  , 0.41   , 0.75   , 0.73   ,\n",
              "       0.71   , 0.72   , 0.682  , 0.71   , 0.715  , 0.67   , 0.705  ,\n",
              "       0.705  , 0.79   , 0.66   , 0.75   , 0.75   , 0.72   , 0.665  ,\n",
              "       0.665  , 0.7    , 0.68   , 0.62   , 0.77   , 0.68   , 0.49   ,\n",
              "       0.675  , 0.55   , 0.72   , 0.625  , 0.66   , 0.68   , 0.63   ,\n",
              "       0.51   , 0.64   , 0.73   , 0.58   , 0.75   ])"
            ]
          },
          "metadata": {},
          "execution_count": 111
        }
      ]
    },
    {
      "cell_type": "code",
      "source": [
        "ts_data_Y"
      ],
      "metadata": {
        "colab": {
          "base_uri": "https://localhost:8080/"
        },
        "id": "1LtyGSohyzyf",
        "outputId": "44c5f319-1c45-47a0-9597-f1c276bbfc57"
      },
      "execution_count": 160,
      "outputs": [
        {
          "output_type": "execute_result",
          "data": {
            "text/plain": [
              "array([0.57  , 0.5346, 0.78  , 0.639 , 0.66  , 0.59  , 0.77  , 0.6453,\n",
              "       0.78  , 0.7658, 0.754 , 0.7859, 0.71  , 0.679 , 0.6026, 0.84  ,\n",
              "       0.84  , 0.71  , 0.41  , 0.74  , 0.72  , 0.43  , 0.69  , 0.7   ,\n",
              "       0.79  , 0.41  , 0.75  , 0.73  , 0.71  , 0.72  , 0.682 , 0.71  ,\n",
              "       0.78  , 0.7   , 0.73  , 0.68  , 0.76  , 0.66  , 0.77  , 0.7   ,\n",
              "       0.72  , 0.67  , 0.69  , 0.7   , 0.68  , 0.58  , 0.77  , 0.7   ,\n",
              "       0.49  , 0.68  , 0.55  , 0.72  , 0.67  , 0.66  , 0.63  , 0.6   ,\n",
              "       0.51  , 0.64  , 0.73  , 0.58  , 0.73  ])"
            ]
          },
          "metadata": {},
          "execution_count": 160
        }
      ]
    },
    {
      "cell_type": "code",
      "source": [
        "from sklearn.metrics import r2_score,mean_squared_error,mean_absolute_percentage_error,fowlkes_mallows_score\n",
        "score_dtr=r2_score(ts_data_Y, y_pred_dtr)\n",
        "mse_dtr=mean_squared_error(ts_data_Y, y_pred_dtr)\n",
        "mape=mean_absolute_percentage_error(ts_data_Y, y_pred_dtr)\n",
        "mallow=fowlkes_mallows_score(ts_data_Y, y_pred_dtr)\n",
        "import scipy\n",
        "r_dtr=scipy.stats.pearsonr(ts_data_Y,y_pred_dtr)"
      ],
      "metadata": {
        "id": "SQGgXmNGJ9DO"
      },
      "execution_count": 112,
      "outputs": []
    },
    {
      "cell_type": "code",
      "source": [
        "from sklearn.metrics import r2_score,mean_squared_error,mean_absolute_percentage_error,fowlkes_mallows_score\n",
        "score_dtr=r2_score(ts_data_Y, y_pred_dtr)\n",
        "mse_dtr=mean_squared_error(ts_data_Y, y_pred_dtr)\n",
        "mape=mean_absolute_percentage_error(ts_data_Y, y_pred_dtr)\n",
        "mallow=fowlkes_mallows_score(ts_data_Y, y_pred_dtr)\n",
        "import scipy\n",
        "r_dtr=scipy.stats.pearsonr(ts_data_Y,y_pred_dtr)\n",
        "from sklearn.metrics import mean_squared_log_error,mean_absolute_error\n",
        "msle=mean_squared_log_error(ts_data_Y, y_pred_dtr)\n",
        "mae=mean_absolute_error(ts_data_Y, y_pred_dtr)\n",
        "rmse=np.sqrt(mse_dtr)\n",
        "n = len(ts_data_Y)\n",
        "p = 6  # Number of predictors\n",
        "adjusted_r2 = 1 - (1 - score_dtr) * (n - 1) / (n - p - 1)\n",
        "mbe = np.mean(y_pred_dtr - ts_data_Y)\n",
        "rss = np.sum((y_pred_dtr - ts_data_Y)**2)\n",
        "mpe = np.mean((y_pred_dtr - ts_data_Y) / ts_data_Y) * 100\n",
        "print('R2_dtr=',score_dtr)\n",
        "print('mse_dtr=',mse_dtr)\n",
        "print('R score_dtr=',r_dtr[0])\n",
        "print('mape_dtr=',mape)\n",
        "print('mallow_dtr=',mallow)\n",
        "print('msle= ',msle)\n",
        "print('mae= ',mae)\n",
        "print('rmse= ',rmse)\n",
        "print('adjusted_r2=',adjusted_r2)\n",
        "print('mbe=',mbe)\n",
        "print('rss=',rss)\n",
        "print('mpe=',mpe)"
      ],
      "metadata": {
        "colab": {
          "base_uri": "https://localhost:8080/"
        },
        "id": "syiI6a4tyJ-w",
        "outputId": "4b9079bd-96d6-4487-a780-08e53c9ee69a"
      },
      "execution_count": 113,
      "outputs": [
        {
          "output_type": "stream",
          "name": "stdout",
          "text": [
            "R2_dtr= 0.9520936980269573\n",
            "mse_dtr= 0.0004324892213114755\n",
            "R score_dtr= 0.9757938153107506\n",
            "mape_dtr= 0.016366265595211323\n",
            "mallow_dtr= 0.41522739926869984\n",
            "msle=  0.00015169558729721824\n",
            "mae=  0.011248360655737713\n",
            "rmse=  0.02079637519644891\n",
            "adjusted_r2= 0.9467707755855082\n",
            "mbe= 0.00018442622950820008\n",
            "rss= 0.026381842500000006\n",
            "mpe= 0.10642655386421701\n"
          ]
        }
      ]
    },
    {
      "cell_type": "code",
      "source": [
        "print('R2_dtr=',score_dtr)\n",
        "print('mse_dtr=',mse_dtr)\n",
        "print('R score_dtr=',r_dtr[0])\n",
        "print('mape_dtr=',mape)\n",
        "print('mallow_dtr=',mallow)"
      ],
      "metadata": {
        "colab": {
          "base_uri": "https://localhost:8080/"
        },
        "id": "3GcyMsuTKB2p",
        "outputId": "9cce445a-4daa-41f1-b7d2-821fb16bfbe2"
      },
      "execution_count": 114,
      "outputs": [
        {
          "output_type": "stream",
          "name": "stdout",
          "text": [
            "R2_dtr= 0.9520936980269573\n",
            "mse_dtr= 0.0004324892213114755\n",
            "R score_dtr= 0.9757938153107506\n",
            "mape_dtr= 0.016366265595211323\n",
            "mallow_dtr= 0.41522739926869984\n"
          ]
        }
      ]
    },
    {
      "cell_type": "code",
      "source": [
        "import warnings\n",
        "import numpy as np\n",
        "import seaborn as sns\n",
        "import matplotlib.pyplot as plt\n",
        "import matplotlib as mpl\n",
        "\n",
        "# Ignore warnings\n",
        "warnings.filterwarnings('ignore')\n",
        "\n",
        "# Assuming you have defined 'ts_data_Y' and 'y_pred_dtr' before this code snippet\n",
        "\n",
        "# Perform linear regression and obtain the coefficients\n",
        "reg = np.polyfit(ts_data_Y, y_pred_dtr, deg=1)\n",
        "slope = reg[0]\n",
        "intercept = reg[1]\n",
        "\n",
        "# Generate the trend line for linear regression\n",
        "trend = slope * ts_data_Y + intercept\n",
        "\n",
        "# Set the style to a light blue or cyan background color\n",
        "plt.figure(figsize=(8, 5))\n",
        "sns.set_style({'axes.facecolor': '#E0FFFF'})  # Set your desired color here\n",
        "\n",
        "# Plot the scatter plot with the specified background color\n",
        "sns.scatterplot(x=ts_data_Y, y=y_pred_dtr, c='yellow', marker='*', edgecolor='black', s=300)\n",
        "mpl.rcParams['axes.linewidth'] = 2.5\n",
        "mpl.rcParams['xtick.major.width'] = 2.5  # Set your desired x-axis tick thickness here\n",
        "mpl.rcParams['ytick.major.width'] = 2.5\n",
        "# Plot the trend line\n",
        "plt.plot(ts_data_Y, trend, color='red', linewidth=2)\n",
        "\n",
        "# Customize the plot (xticks, yticks, labels, title, etc.)\n",
        "font1 = {'family': 'calibari', 'color': 'black', 'fontweight': 'bold', 'size': 18}\n",
        "plt.yticks(color='navy', fontweight='bold', size=12)\n",
        "plt.xlim(0, max(ts_data_Y) + 1)\n",
        "plt.ylim(0, max(y_pred_dtr) + 1)\n",
        "plt.xticks(color='navy', fontweight='bold', size=12)\n",
        "plt.xlabel('True PCE(%)', fontdict=font1)\n",
        "plt.ylabel('Predicted PCE(%)', fontdict=font1)\n",
        "# plt.title('Decisiontree regressor Plot', c='#6f045a', fontdict=font1)\n",
        "\n",
        "# Show the plot\n",
        "plt.show()\n"
      ],
      "metadata": {
        "colab": {
          "base_uri": "https://localhost:8080/",
          "height": 618
        },
        "id": "xGOmx10lIeyt",
        "outputId": "3f1425c0-229c-4fd8-dfbc-dcf5824f5997"
      },
      "execution_count": 115,
      "outputs": [
        {
          "output_type": "stream",
          "name": "stderr",
          "text": [
            "WARNING:matplotlib.font_manager:findfont: Font family 'calibari' not found.\n",
            "WARNING:matplotlib.font_manager:findfont: Font family 'calibari' not found.\n",
            "WARNING:matplotlib.font_manager:findfont: Font family 'calibari' not found.\n",
            "WARNING:matplotlib.font_manager:findfont: Font family 'calibari' not found.\n",
            "WARNING:matplotlib.font_manager:findfont: Font family 'calibari' not found.\n",
            "WARNING:matplotlib.font_manager:findfont: Font family 'calibari' not found.\n",
            "WARNING:matplotlib.font_manager:findfont: Font family 'calibari' not found.\n",
            "WARNING:matplotlib.font_manager:findfont: Font family 'calibari' not found.\n"
          ]
        },
        {
          "output_type": "display_data",
          "data": {
            "text/plain": [
              "<Figure size 800x500 with 1 Axes>"
            ],
            "image/png": "[encoded data removed]"
          },
          "metadata": {}
        }
      ]
    },
    {
      "cell_type": "markdown",
      "source": [
        "XGBOOST REGRESSOR"
      ],
      "metadata": {
        "id": "iQGvzUodJT2C"
      }
    },
    {
      "cell_type": "code",
      "source": [
        "import time\n",
        "st = time.time()\n",
        "import xgboost as xgb\n",
        "reg = xgb.XGBRegressor(\n",
        "    n_estimators=100,\n",
        "    reg_lambda=1,\n",
        "    gamma=0,\n",
        "    max_depth=4\n",
        ")"
      ],
      "metadata": {
        "id": "DfFql03nJXWJ"
      },
      "execution_count": 116,
      "outputs": []
    },
    {
      "cell_type": "code",
      "source": [
        "reg.fit(tr_data_X, tr_data_Y)"
      ],
      "metadata": {
        "colab": {
          "base_uri": "https://localhost:8080/",
          "height": 248
        },
        "id": "ZcW-KBmlJayt",
        "outputId": "d4031b72-5d15-4f34-eba4-f24f18b73232"
      },
      "execution_count": 117,
      "outputs": [
        {
          "output_type": "execute_result",
          "data": {
            "text/plain": [
              "XGBRegressor(base_score=None, booster=None, callbacks=None,\n",
              "             colsample_bylevel=None, colsample_bynode=None,\n",
              "             colsample_bytree=None, early_stopping_rounds=None,\n",
              "             enable_categorical=False, eval_metric=None, feature_types=None,\n",
              "             gamma=0, gpu_id=None, grow_policy=None, importance_type=None,\n",
              "             interaction_constraints=None, learning_rate=None, max_bin=None,\n",
              "             max_cat_threshold=None, max_cat_to_onehot=None,\n",
              "             max_delta_step=None, max_depth=4, max_leaves=None,\n",
              "             min_child_weight=None, missing=nan, monotone_constraints=None,\n",
              "             n_estimators=100, n_jobs=None, num_parallel_tree=None,\n",
              "             predictor=None, random_state=None, ...)"
            ],
            "text/html": [
              "<style>#sk-container-id-9 {color: black;background-color: white;}#sk-container-id-9 pre{padding: 0;}#sk-container-id-9 div.sk-toggleable {background-color: white;}#sk-container-id-9 label.sk-toggleable__label {cursor: pointer;display: block;width: 100%;margin-bottom: 0;padding: 0.3em;box-sizing: border-box;text-align: center;}#sk-container-id-9 label.sk-toggleable__label-arrow:before {content: \"▸\";float: left;margin-right: 0.25em;color: #696969;}#sk-container-id-9 label.sk-toggleable__label-arrow:hover:before {color: black;}#sk-container-id-9 div.sk-estimator:hover label.sk-toggleable__label-arrow:before {color: black;}#sk-container-id-9 div.sk-toggleable__content {max-height: 0;max-width: 0;overflow: hidden;text-align: left;background-color: #f0f8ff;}#sk-container-id-9 div.sk-toggleable__content pre {margin: 0.2em;color: black;border-radius: 0.25em;background-color: #f0f8ff;}#sk-container-id-9 input.sk-toggleable__control:checked~div.sk-toggleable__content {max-height: 200px;max-width: 100%;overflow: auto;}#sk-container-id-9 input.sk-toggleable__control:checked~label.sk-toggleable__label-arrow:before {content: \"▾\";}#sk-container-id-9 div.sk-estimator input.sk-toggleable__control:checked~label.sk-toggleable__label {background-color: #d4ebff;}#sk-container-id-9 div.sk-label input.sk-toggleable__control:checked~label.sk-toggleable__label {background-color: #d4ebff;}#sk-container-id-9 input.sk-hidden--visually {border: 0;clip: rect(1px 1px 1px 1px);clip: rect(1px, 1px, 1px, 1px);height: 1px;margin: -1px;overflow: hidden;padding: 0;position: absolute;width: 1px;}#sk-container-id-9 div.sk-estimator {font-family: monospace;background-color: #f0f8ff;border: 1px dotted black;border-radius: 0.25em;box-sizing: border-box;margin-bottom: 0.5em;}#sk-container-id-9 div.sk-estimator:hover {background-color: #d4ebff;}#sk-container-id-9 div.sk-parallel-item::after {content: \"\";width: 100%;border-bottom: 1px solid gray;flex-grow: 1;}#sk-container-id-9 div.sk-label:hover label.sk-toggleable__label {background-color: #d4ebff;}#sk-container-id-9 div.sk-serial::before {content: \"\";position: absolute;border-left: 1px solid gray;box-sizing: border-box;top: 0;bottom: 0;left: 50%;z-index: 0;}#sk-container-id-9 div.sk-serial {display: flex;flex-direction: column;align-items: center;background-color: white;padding-right: 0.2em;padding-left: 0.2em;position: relative;}#sk-container-id-9 div.sk-item {position: relative;z-index: 1;}#sk-container-id-9 div.sk-parallel {display: flex;align-items: stretch;justify-content: center;background-color: white;position: relative;}#sk-container-id-9 div.sk-item::before, #sk-container-id-9 div.sk-parallel-item::before {content: \"\";position: absolute;border-left: 1px solid gray;box-sizing: border-box;top: 0;bottom: 0;left: 50%;z-index: -1;}#sk-container-id-9 div.sk-parallel-item {display: flex;flex-direction: column;z-index: 1;position: relative;background-color: white;}#sk-container-id-9 div.sk-parallel-item:first-child::after {align-self: flex-end;width: 50%;}#sk-container-id-9 div.sk-parallel-item:last-child::after {align-self: flex-start;width: 50%;}#sk-container-id-9 div.sk-parallel-item:only-child::after {width: 0;}#sk-container-id-9 div.sk-dashed-wrapped {border: 1px dashed gray;margin: 0 0.4em 0.5em 0.4em;box-sizing: border-box;padding-bottom: 0.4em;background-color: white;}#sk-container-id-9 div.sk-label label {font-family: monospace;font-weight: bold;display: inline-block;line-height: 1.2em;}#sk-container-id-9 div.sk-label-container {text-align: center;}#sk-container-id-9 div.sk-container {/* jupyter's `normalize.less` sets `[hidden] { display: none; }` but bootstrap.min.css set `[hidden] { display: none !important; }` so we also need the `!important` here to be able to override the default hidden behavior on the sphinx rendered scikit-learn.org. See: https://github.com/scikit-learn/scikit-learn/issues/21755 */display: inline-block !important;position: relative;}#sk-container-id-9 div.sk-text-repr-fallback {display: none;}</style><div id=\"sk-container-id-9\" class=\"sk-top-container\"><div class=\"sk-text-repr-fallback\"><pre>XGBRegressor(base_score=None, booster=None, callbacks=None,\n",
              "             colsample_bylevel=None, colsample_bynode=None,\n",
              "             colsample_bytree=None, early_stopping_rounds=None,\n",
              "             enable_categorical=False, eval_metric=None, feature_types=None,\n",
              "             gamma=0, gpu_id=None, grow_policy=None, importance_type=None,\n",
              "             interaction_constraints=None, learning_rate=None, max_bin=None,\n",
              "             max_cat_threshold=None, max_cat_to_onehot=None,\n",
              "             max_delta_step=None, max_depth=4, max_leaves=None,\n",
              "             min_child_weight=None, missing=nan, monotone_constraints=None,\n",
              "             n_estimators=100, n_jobs=None, num_parallel_tree=None,\n",
              "             predictor=None, random_state=None, ...)</pre><b>In a Jupyter environment, please rerun this cell to show the HTML representation or trust the notebook. <br />On GitHub, the HTML representation is unable to render, please try loading this page with nbviewer.org.</b></div><div class=\"sk-container\" hidden><div class=\"sk-item\"><div class=\"sk-estimator sk-toggleable\"><input class=\"sk-toggleable__control sk-hidden--visually\" id=\"sk-estimator-id-9\" type=\"checkbox\" checked><label for=\"sk-estimator-id-9\" class=\"sk-toggleable__label sk-toggleable__label-arrow\">XGBRegressor</label><div class=\"sk-toggleable__content\"><pre>XGBRegressor(base_score=None, booster=None, callbacks=None,\n",
              "             colsample_bylevel=None, colsample_bynode=None,\n",
              "             colsample_bytree=None, early_stopping_rounds=None,\n",
              "             enable_categorical=False, eval_metric=None, feature_types=None,\n",
              "             gamma=0, gpu_id=None, grow_policy=None, importance_type=None,\n",
              "             interaction_constraints=None, learning_rate=None, max_bin=None,\n",
              "             max_cat_threshold=None, max_cat_to_onehot=None,\n",
              "             max_delta_step=None, max_depth=4, max_leaves=None,\n",
              "             min_child_weight=None, missing=nan, monotone_constraints=None,\n",
              "             n_estimators=100, n_jobs=None, num_parallel_tree=None,\n",
              "             predictor=None, random_state=None, ...)</pre></div></div></div></div></div>"
            ]
          },
          "metadata": {},
          "execution_count": 117
        }
      ]
    },
    {
      "cell_type": "code",
      "source": [
        "y_pred_xgb =reg.predict(ts_data_X)\n",
        "et = time.time()\n",
        "elapsed_time = et - st\n",
        "print('XGB:', elapsed_time, 'seconds')"
      ],
      "metadata": {
        "colab": {
          "base_uri": "https://localhost:8080/"
        },
        "id": "BwjpFyG2Jdh4",
        "outputId": "2170a4e3-7f87-4ff4-8318-e83b96143460"
      },
      "execution_count": 118,
      "outputs": [
        {
          "output_type": "stream",
          "name": "stdout",
          "text": [
            "XGB: 0.09688520431518555 seconds\n"
          ]
        }
      ]
    },
    {
      "cell_type": "code",
      "source": [
        "from sklearn.metrics import r2_score,mean_squared_error,mean_absolute_percentage_error,fowlkes_mallows_score\n",
        "R2_xgb =r2_score(ts_data_Y, y_pred_xgb)\n",
        "mse_xgb= mean_squared_error(ts_data_Y, y_pred_xgb)\n",
        "mape_xgb=mean_absolute_percentage_error(ts_data_Y, y_pred_xgb)\n",
        "mallows_xgb=fowlkes_mallows_score(ts_data_Y, y_pred_xgb)\n",
        "import scipy\n",
        "r_xgb=scipy.stats.pearsonr(ts_data_Y,y_pred_xgb)"
      ],
      "metadata": {
        "id": "U86x6ZdGLJRC"
      },
      "execution_count": 119,
      "outputs": []
    },
    {
      "cell_type": "code",
      "source": [
        "print('R2_xgb=',R2_xgb)\n",
        "print('mse_xgb=',mse_xgb)\n",
        "print('R score_xgb=',r_xgb[0])\n",
        "print('mape_xgb',mape_xgb)\n",
        "print('mallows_xgb',mallows_xgb)"
      ],
      "metadata": {
        "colab": {
          "base_uri": "https://localhost:8080/"
        },
        "id": "pxUuZbJGLNGG",
        "outputId": "eed2eafc-79f0-48b3-e35b-a8c7463293d4"
      },
      "execution_count": 120,
      "outputs": [
        {
          "output_type": "stream",
          "name": "stdout",
          "text": [
            "R2_xgb= 0.7337559342209936\n",
            "mse_xgb= 0.002403602113817058\n",
            "R score_xgb= 0.8624965823646623\n",
            "mape_xgb 0.05603936814340447\n",
            "mallows_xgb 0.07453559924999299\n"
          ]
        }
      ]
    },
    {
      "cell_type": "code",
      "source": [
        "y_pred_xgb"
      ],
      "metadata": {
        "colab": {
          "base_uri": "https://localhost:8080/"
        },
        "id": "O1reb8klz8-s",
        "outputId": "6ca595c5-a765-4f1f-f142-6bbfa0cdd87a"
      },
      "execution_count": 161,
      "outputs": [
        {
          "output_type": "execute_result",
          "data": {
            "text/plain": [
              "array([0.56975436, 0.5428421 , 0.72945297, 0.6611676 , 0.65473104,\n",
              "       0.6127944 , 0.76866674, 0.6651145 , 0.7680635 , 0.72531104,\n",
              "       0.7307374 , 0.7815568 , 0.7355895 , 0.6714361 , 0.64489585,\n",
              "       0.8302509 , 0.8302509 , 0.6958336 , 0.41737065, 0.7069426 ,\n",
              "       0.7460126 , 0.58777153, 0.68909407, 0.67458844, 0.78096527,\n",
              "       0.520955  , 0.71931416, 0.6310694 , 0.61792433, 0.7040678 ,\n",
              "       0.7021286 , 0.7033792 , 0.6835762 , 0.6711863 , 0.6922088 ,\n",
              "       0.6922088 , 0.8080219 , 0.6553293 , 0.74941254, 0.74941254,\n",
              "       0.6698627 , 0.66651183, 0.66651183, 0.6932596 , 0.6901589 ,\n",
              "       0.63811004, 0.7204127 , 0.6797424 , 0.581077  , 0.68155307,\n",
              "       0.6172627 , 0.59312224, 0.6329851 , 0.6413828 , 0.6190718 ,\n",
              "       0.62442243, 0.6004392 , 0.6687266 , 0.6958079 , 0.6785555 ,\n",
              "       0.7374733 ], dtype=float32)"
            ]
          },
          "metadata": {},
          "execution_count": 161
        }
      ]
    },
    {
      "cell_type": "code",
      "source": [
        "from sklearn.metrics import r2_score,mean_squared_error,mean_absolute_percentage_error,fowlkes_mallows_score\n",
        "score_xgb=r2_score(ts_data_Y, y_pred_xgb)\n",
        "mse_xgb=mean_squared_error(ts_data_Y, y_pred_xgb)\n",
        "mape=mean_absolute_percentage_error(ts_data_Y, y_pred_xgb)\n",
        "mallow=fowlkes_mallows_score(ts_data_Y, y_pred_xgb)\n",
        "import scipy\n",
        "r_dtr=scipy.stats.pearsonr(ts_data_Y,y_pred_xgb)\n",
        "from sklearn.metrics import mean_squared_log_error,mean_absolute_error\n",
        "msle=mean_squared_log_error(ts_data_Y, y_pred_xgb)\n",
        "mae=mean_absolute_error(ts_data_Y, y_pred_xgb)\n",
        "rmse=np.sqrt(mse_xgb)\n",
        "n = len(ts_data_Y)\n",
        "p = 6  # Number of predictors\n",
        "adjusted_r2 = 1 - (1 - score_dtr) * (n - 1) / (n - p - 1)\n",
        "mbe = np.mean(y_pred_xgb - ts_data_Y)\n",
        "rss = np.sum((y_pred_xgb - ts_data_Y)**2)\n",
        "mpe = np.mean((y_pred_xgb - ts_data_Y) / ts_data_Y) * 100\n",
        "print('R2_xgb=',score_xgb)\n",
        "print('mse_xgb=',mse_xgb)\n",
        "print('R score_xgb=',r_xgb[0])\n",
        "print('mape_xgb=',mape)\n",
        "print('mallow_xgb=',mallow)\n",
        "print('msle= ',msle)\n",
        "print('mae= ',mae)\n",
        "print('rmse= ',rmse)\n",
        "print('adjusted_r2=',adjusted_r2)\n",
        "print('mbe=',mbe)\n",
        "print('rss=',rss)\n",
        "print('mpe=',mpe)"
      ],
      "metadata": {
        "colab": {
          "base_uri": "https://localhost:8080/"
        },
        "id": "lYO3v3hyyRbV",
        "outputId": "3aee02f3-0c2b-45e0-dbf4-ef410758d0e7"
      },
      "execution_count": 121,
      "outputs": [
        {
          "output_type": "stream",
          "name": "stdout",
          "text": [
            "R2_xgb= 0.7337559342209936\n",
            "mse_xgb= 0.002403602113817058\n",
            "R score_xgb= 0.8624965823646623\n",
            "mape_xgb= 0.05603936814340447\n",
            "mallow_xgb= 0.07453559924999299\n",
            "msle=  0.0009300458078316389\n",
            "mae=  0.034614585148701894\n",
            "rmse=  0.04902654499163752\n",
            "adjusted_r2= 0.9467707755855082\n",
            "mbe= -0.0001698495825783077\n",
            "rss= 0.14661972894284053\n",
            "mpe= 0.8459790052493649\n"
          ]
        }
      ]
    },
    {
      "cell_type": "code",
      "source": [
        "import warnings\n",
        "import numpy as np\n",
        "import seaborn as sns\n",
        "import matplotlib.pyplot as plt\n",
        "import matplotlib as mpl\n",
        "# Ignore warnings\n",
        "warnings.filterwarnings('ignore')\n",
        "\n",
        "# Assuming you have defined 'ts_data_Y' and 'y_pred_dtr' before this code snippet\n",
        "\n",
        "# Perform linear regression and obtain the coefficients\n",
        "reg = np.polyfit(ts_data_Y, y_pred_xgb, deg=1)\n",
        "slope = reg[0]\n",
        "intercept = reg[1]\n",
        "\n",
        "# Generate the trend line for linear regression\n",
        "trend = slope * ts_data_Y + intercept\n",
        "\n",
        "# Set the style to a light blue or cyan background color\n",
        "plt.figure(figsize=(8, 5))\n",
        "sns.set_style({'axes.facecolor': '#E0FFFF'})  # Set your desired color here\n",
        "mpl.rcParams['axes.linewidth'] = 2.5\n",
        "mpl.rcParams['xtick.major.width'] = 2.5  # Set your desired x-axis tick thickness here\n",
        "mpl.rcParams['ytick.major.width'] = 2.5\n",
        "# Plot the scatter plot with the specified background color\n",
        "sns.scatterplot(x=ts_data_Y, y=y_pred_xgb, c='yellow', marker='*', edgecolor='black', s=300)\n",
        "\n",
        "# Plot the trend line\n",
        "plt.plot(ts_data_Y, trend, color='red', linewidth=2)\n",
        "\n",
        "# Customize the plot (xticks, yticks, labels, title, etc.)\n",
        "font1 = {'family': 'calibari', 'color': 'black', 'fontweight': 'bold', 'size': 18}\n",
        "plt.yticks(color='navy', fontweight='bold', size=12)\n",
        "plt.xlim(0, max(ts_data_Y) + 1)\n",
        "plt.ylim(0, max(y_pred_dtr) + 1)\n",
        "plt.xticks(color='navy', fontweight='bold', size=12)\n",
        "plt.xlabel('True PCE(%)', fontdict=font1)\n",
        "plt.ylabel('Predicted PCE(%)', fontdict=font1)\n",
        "# plt.title('Xgboost regressor Plot', c='#6f045a', fontdict=font1)\n",
        "\n",
        "# Show the plot\n",
        "plt.show()\n"
      ],
      "metadata": {
        "colab": {
          "base_uri": "https://localhost:8080/",
          "height": 618
        },
        "id": "io0t8PhbJh4J",
        "outputId": "f2a48af6-3ac4-4046-cf8e-aca291164873"
      },
      "execution_count": 122,
      "outputs": [
        {
          "output_type": "stream",
          "name": "stderr",
          "text": [
            "WARNING:matplotlib.font_manager:findfont: Font family 'calibari' not found.\n",
            "WARNING:matplotlib.font_manager:findfont: Font family 'calibari' not found.\n",
            "WARNING:matplotlib.font_manager:findfont: Font family 'calibari' not found.\n",
            "WARNING:matplotlib.font_manager:findfont: Font family 'calibari' not found.\n",
            "WARNING:matplotlib.font_manager:findfont: Font family 'calibari' not found.\n",
            "WARNING:matplotlib.font_manager:findfont: Font family 'calibari' not found.\n",
            "WARNING:matplotlib.font_manager:findfont: Font family 'calibari' not found.\n",
            "WARNING:matplotlib.font_manager:findfont: Font family 'calibari' not found.\n"
          ]
        },
        {
          "output_type": "display_data",
          "data": {
            "text/plain": [
              "<Figure size 800x500 with 1 Axes>"
            ],
            "image/png": "[encoded data removed]"
          },
          "metadata": {}
        }
      ]
    },
    {
      "cell_type": "markdown",
      "source": [
        "KNeighborsRegressor"
      ],
      "metadata": {
        "id": "dyzMZRpfJ49c"
      }
    },
    {
      "cell_type": "code",
      "source": [
        "import time\n",
        "st = time.time()\n",
        "from sklearn.neighbors import KNeighborsRegressor\n",
        "knn = KNeighborsRegressor(n_neighbors=3)\n",
        "knn.fit(tr_data_X,  tr_data_Y)"
      ],
      "metadata": {
        "colab": {
          "base_uri": "https://localhost:8080/",
          "height": 74
        },
        "id": "GfcUdmqdJwX4",
        "outputId": "d8cb27cb-07b9-4f80-ff9d-3daa14ed3a60"
      },
      "execution_count": 123,
      "outputs": [
        {
          "output_type": "execute_result",
          "data": {
            "text/plain": [
              "KNeighborsRegressor(n_neighbors=3)"
            ],
            "text/html": [
              "<style>#sk-container-id-10 {color: black;background-color: white;}#sk-container-id-10 pre{padding: 0;}#sk-container-id-10 div.sk-toggleable {background-color: white;}#sk-container-id-10 label.sk-toggleable__label {cursor: pointer;display: block;width: 100%;margin-bottom: 0;padding: 0.3em;box-sizing: border-box;text-align: center;}#sk-container-id-10 label.sk-toggleable__label-arrow:before {content: \"▸\";float: left;margin-right: 0.25em;color: #696969;}#sk-container-id-10 label.sk-toggleable__label-arrow:hover:before {color: black;}#sk-container-id-10 div.sk-estimator:hover label.sk-toggleable__label-arrow:before {color: black;}#sk-container-id-10 div.sk-toggleable__content {max-height: 0;max-width: 0;overflow: hidden;text-align: left;background-color: #f0f8ff;}#sk-container-id-10 div.sk-toggleable__content pre {margin: 0.2em;color: black;border-radius: 0.25em;background-color: #f0f8ff;}#sk-container-id-10 input.sk-toggleable__control:checked~div.sk-toggleable__content {max-height: 200px;max-width: 100%;overflow: auto;}#sk-container-id-10 input.sk-toggleable__control:checked~label.sk-toggleable__label-arrow:before {content: \"▾\";}#sk-container-id-10 div.sk-estimator input.sk-toggleable__control:checked~label.sk-toggleable__label {background-color: #d4ebff;}#sk-container-id-10 div.sk-label input.sk-toggleable__control:checked~label.sk-toggleable__label {background-color: #d4ebff;}#sk-container-id-10 input.sk-hidden--visually {border: 0;clip: rect(1px 1px 1px 1px);clip: rect(1px, 1px, 1px, 1px);height: 1px;margin: -1px;overflow: hidden;padding: 0;position: absolute;width: 1px;}#sk-container-id-10 div.sk-estimator {font-family: monospace;background-color: #f0f8ff;border: 1px dotted black;border-radius: 0.25em;box-sizing: border-box;margin-bottom: 0.5em;}#sk-container-id-10 div.sk-estimator:hover {background-color: #d4ebff;}#sk-container-id-10 div.sk-parallel-item::after {content: \"\";width: 100%;border-bottom: 1px solid gray;flex-grow: 1;}#sk-container-id-10 div.sk-label:hover label.sk-toggleable__label {background-color: #d4ebff;}#sk-container-id-10 div.sk-serial::before {content: \"\";position: absolute;border-left: 1px solid gray;box-sizing: border-box;top: 0;bottom: 0;left: 50%;z-index: 0;}#sk-container-id-10 div.sk-serial {display: flex;flex-direction: column;align-items: center;background-color: white;padding-right: 0.2em;padding-left: 0.2em;position: relative;}#sk-container-id-10 div.sk-item {position: relative;z-index: 1;}#sk-container-id-10 div.sk-parallel {display: flex;align-items: stretch;justify-content: center;background-color: white;position: relative;}#sk-container-id-10 div.sk-item::before, #sk-container-id-10 div.sk-parallel-item::before {content: \"\";position: absolute;border-left: 1px solid gray;box-sizing: border-box;top: 0;bottom: 0;left: 50%;z-index: -1;}#sk-container-id-10 div.sk-parallel-item {display: flex;flex-direction: column;z-index: 1;position: relative;background-color: white;}#sk-container-id-10 div.sk-parallel-item:first-child::after {align-self: flex-end;width: 50%;}#sk-container-id-10 div.sk-parallel-item:last-child::after {align-self: flex-start;width: 50%;}#sk-container-id-10 div.sk-parallel-item:only-child::after {width: 0;}#sk-container-id-10 div.sk-dashed-wrapped {border: 1px dashed gray;margin: 0 0.4em 0.5em 0.4em;box-sizing: border-box;padding-bottom: 0.4em;background-color: white;}#sk-container-id-10 div.sk-label label {font-family: monospace;font-weight: bold;display: inline-block;line-height: 1.2em;}#sk-container-id-10 div.sk-label-container {text-align: center;}#sk-container-id-10 div.sk-container {/* jupyter's `normalize.less` sets `[hidden] { display: none; }` but bootstrap.min.css set `[hidden] { display: none !important; }` so we also need the `!important` here to be able to override the default hidden behavior on the sphinx rendered scikit-learn.org. See: https://github.com/scikit-learn/scikit-learn/issues/21755 */display: inline-block !important;position: relative;}#sk-container-id-10 div.sk-text-repr-fallback {display: none;}</style><div id=\"sk-container-id-10\" class=\"sk-top-container\"><div class=\"sk-text-repr-fallback\"><pre>KNeighborsRegressor(n_neighbors=3)</pre><b>In a Jupyter environment, please rerun this cell to show the HTML representation or trust the notebook. <br />On GitHub, the HTML representation is unable to render, please try loading this page with nbviewer.org.</b></div><div class=\"sk-container\" hidden><div class=\"sk-item\"><div class=\"sk-estimator sk-toggleable\"><input class=\"sk-toggleable__control sk-hidden--visually\" id=\"sk-estimator-id-10\" type=\"checkbox\" checked><label for=\"sk-estimator-id-10\" class=\"sk-toggleable__label sk-toggleable__label-arrow\">KNeighborsRegressor</label><div class=\"sk-toggleable__content\"><pre>KNeighborsRegressor(n_neighbors=3)</pre></div></div></div></div></div>"
            ]
          },
          "metadata": {},
          "execution_count": 123
        }
      ]
    },
    {
      "cell_type": "code",
      "source": [
        "y_pred_knn = knn.predict(ts_data_X)\n",
        "et = time.time()\n",
        "elapsed_time = et - st\n",
        "print('KNN:', elapsed_time, 'seconds')"
      ],
      "metadata": {
        "colab": {
          "base_uri": "https://localhost:8080/"
        },
        "id": "v8GuTdzRLu6P",
        "outputId": "ee2c91f2-1565-47a1-fe2e-75ec473c3486"
      },
      "execution_count": 124,
      "outputs": [
        {
          "output_type": "stream",
          "name": "stdout",
          "text": [
            "KNN: 0.022455453872680664 seconds\n"
          ]
        }
      ]
    },
    {
      "cell_type": "code",
      "source": [
        "from sklearn.metrics import r2_score,mean_squared_error\n",
        "R2_knn =r2_score(ts_data_Y, y_pred_knn)\n",
        "mse_knn= mean_squared_error(ts_data_Y, y_pred_knn)\n",
        "import scipy\n",
        "r_knn=scipy.stats.pearsonr(ts_data_Y,y_pred_knn)"
      ],
      "metadata": {
        "id": "3dQH-8_nJ9aJ"
      },
      "execution_count": 125,
      "outputs": []
    },
    {
      "cell_type": "code",
      "source": [
        "print('R2_knn=',R2_knn)\n",
        "print('mse_knn=',mse_knn)\n",
        "print('R score_knn=',r_knn[0])"
      ],
      "metadata": {
        "colab": {
          "base_uri": "https://localhost:8080/"
        },
        "id": "QkzdfhYJLnCg",
        "outputId": "575d2dc6-63ba-43da-b038-c914be76c9cd"
      },
      "execution_count": 126,
      "outputs": [
        {
          "output_type": "stream",
          "name": "stdout",
          "text": [
            "R2_knn= 0.3795131131136388\n",
            "mse_knn= 0.005601640692167579\n",
            "R score_knn= 0.6222125021550164\n"
          ]
        }
      ]
    },
    {
      "cell_type": "code",
      "source": [
        "y_pred_knn"
      ],
      "metadata": {
        "colab": {
          "base_uri": "https://localhost:8080/"
        },
        "id": "w7GJPjhP0oxN",
        "outputId": "3d81fdac-8c0e-4f86-fb03-25ce361140ae"
      },
      "execution_count": 162,
      "outputs": [
        {
          "output_type": "execute_result",
          "data": {
            "text/plain": [
              "array([0.58866667, 0.68153333, 0.66666667, 0.603     , 0.51333333,\n",
              "       0.62666667, 0.68333333, 0.6851    , 0.65866667, 0.7186    ,\n",
              "       0.68833333, 0.77663333, 0.70333333, 0.58133333, 0.62876667,\n",
              "       0.83      , 0.83      , 0.71666667, 0.60066667, 0.7       ,\n",
              "       0.73      , 0.57      , 0.64666667, 0.62      , 0.78333333,\n",
              "       0.57      , 0.70333333, 0.67296667, 0.59333333, 0.75333333,\n",
              "       0.72993333, 0.71333333, 0.71333333, 0.6904    , 0.69      ,\n",
              "       0.69      , 0.76666667, 0.68333333, 0.75      , 0.75      ,\n",
              "       0.68      , 0.64333333, 0.64333333, 0.63666667, 0.69666667,\n",
              "       0.60333333, 0.70333333, 0.68      , 0.65333333, 0.71      ,\n",
              "       0.62666667, 0.50733333, 0.66      , 0.626     , 0.59666667,\n",
              "       0.63066667, 0.61666667, 0.703     , 0.72333333, 0.66      ,\n",
              "       0.72      ])"
            ]
          },
          "metadata": {},
          "execution_count": 162
        }
      ]
    },
    {
      "cell_type": "code",
      "source": [
        "from sklearn.metrics import r2_score,mean_squared_error,mean_absolute_percentage_error,fowlkes_mallows_score\n",
        "score_knn=r2_score(ts_data_Y, y_pred_knn)\n",
        "mse_knn=mean_squared_error(ts_data_Y, y_pred_knn)\n",
        "mape=mean_absolute_percentage_error(ts_data_Y, y_pred_knn)\n",
        "mallow=fowlkes_mallows_score(ts_data_Y, y_pred_knn)\n",
        "import scipy\n",
        "r_knn=scipy.stats.pearsonr(ts_data_Y,y_pred_knn)\n",
        "from sklearn.metrics import mean_squared_log_error,mean_absolute_error\n",
        "msle=mean_squared_log_error(ts_data_Y, y_pred_knn)\n",
        "mae=mean_absolute_error(ts_data_Y, y_pred_knn)\n",
        "rmse=np.sqrt(mse_knn)\n",
        "n = len(ts_data_Y)\n",
        "p = 6  # Number of predictors\n",
        "adjusted_r2 = 1 - (1 - score_knn) * (n - 1) / (n - p - 1)\n",
        "mbe = np.mean(y_pred_knn - ts_data_Y)\n",
        "rss = np.sum((y_pred_knn - ts_data_Y)**2)\n",
        "mpe = np.mean((y_pred_knn - ts_data_Y) / ts_data_Y) * 100\n",
        "print('R2_knn=',score_knn)\n",
        "print('mse_knn=',mse_knn)\n",
        "print('R score_knn=',r_knn[0])\n",
        "print('mape_knn=',mape)\n",
        "print('mallow_knn=',mallow)\n",
        "print('msle= ',msle)\n",
        "print('mae= ',mae)\n",
        "print('rmse= ',rmse)\n",
        "print('adjusted_r2=',adjusted_r2)\n",
        "print('mbe=',mbe)\n",
        "print('rss=',rss)\n",
        "print('mpe=',mpe)"
      ],
      "metadata": {
        "colab": {
          "base_uri": "https://localhost:8080/"
        },
        "id": "5vOM9prCyaEB",
        "outputId": "74c5ba2e-ac8d-4d6a-b6d0-393b29d9c0b1"
      },
      "execution_count": 127,
      "outputs": [
        {
          "output_type": "stream",
          "name": "stdout",
          "text": [
            "R2_knn= 0.3795131131136388\n",
            "mse_knn= 0.005601640692167579\n",
            "R score_knn= 0.6222125021550164\n",
            "mape_knn= 0.09128905232346805\n",
            "mallow_knn= 0.04303314829119352\n",
            "msle=  0.002188718931398829\n",
            "mae=  0.055534426229508195\n",
            "rmse=  0.0748441092683157\n",
            "adjusted_r2= 0.31057012568182085\n",
            "mbe= -0.005026229508196736\n",
            "rss= 0.3417000822222223\n",
            "mpe= 0.7358028774663639\n"
          ]
        }
      ]
    },
    {
      "cell_type": "code",
      "source": [
        "import warnings\n",
        "import numpy as np\n",
        "import seaborn as sns\n",
        "import matplotlib.pyplot as plt\n",
        "import matplotlib as mpl\n",
        "# Ignore warnings\n",
        "warnings.filterwarnings('ignore')\n",
        "\n",
        "# Assuming you have defined 'ts_data_Y' and 'y_pred_dtr' before this code snippet\n",
        "\n",
        "# Perform linear regression and obtain the coefficients\n",
        "reg = np.polyfit(ts_data_Y, y_pred_knn, deg=1)\n",
        "slope = reg[0]\n",
        "intercept = reg[1]\n",
        "\n",
        "# Generate the trend line for linear regression\n",
        "trend = slope * ts_data_Y + intercept\n",
        "\n",
        "# Set the style to a light blue or cyan background color\n",
        "plt.figure(figsize=(8, 5))\n",
        "sns.set_style({'axes.facecolor': '#E0FFFF'})  # Set your desired color here\n",
        "mpl.rcParams['axes.linewidth'] = 2.5\n",
        "mpl.rcParams['xtick.major.width'] = 2.5  # Set your desired x-axis tick thickness here\n",
        "mpl.rcParams['ytick.major.width'] = 2.5\n",
        "# Plot the scatter plot with the specified background color\n",
        "sns.scatterplot(x=ts_data_Y, y=y_pred_knn, c='yellow', marker='*', edgecolor='black', s=300)\n",
        "\n",
        "# Plot the trend line\n",
        "plt.plot(ts_data_Y, trend, color='red', linewidth=2)\n",
        "\n",
        "# Customize the plot (xticks, yticks, labels, title, etc.)\n",
        "font1 = {'family': 'calibari', 'color': 'black', 'fontweight': 'bold', 'size': 18}\n",
        "plt.yticks(color='navy', fontweight='bold', size=12)\n",
        "plt.xlim(0, max(ts_data_Y) )\n",
        "plt.ylim(0, max(y_pred_knn))\n",
        "plt.xticks(color='navy', fontweight='bold', size=12)\n",
        "plt.xlabel('True PCE(%)', fontdict=font1)\n",
        "plt.ylabel('Predicted PCE(%)', fontdict=font1)\n",
        "# plt.title('Xgboost regressor Plot', c='#6f045a', fontdict=font1)\n",
        "\n",
        "# Show the plot\n",
        "plt.show()\n"
      ],
      "metadata": {
        "colab": {
          "base_uri": "https://localhost:8080/",
          "height": 618
        },
        "id": "Gk25TepjJ_tR",
        "outputId": "95e2bf9d-3b56-4524-a737-0d467fbf4c66"
      },
      "execution_count": 128,
      "outputs": [
        {
          "output_type": "stream",
          "name": "stderr",
          "text": [
            "WARNING:matplotlib.font_manager:findfont: Font family 'calibari' not found.\n",
            "WARNING:matplotlib.font_manager:findfont: Font family 'calibari' not found.\n",
            "WARNING:matplotlib.font_manager:findfont: Font family 'calibari' not found.\n",
            "WARNING:matplotlib.font_manager:findfont: Font family 'calibari' not found.\n",
            "WARNING:matplotlib.font_manager:findfont: Font family 'calibari' not found.\n",
            "WARNING:matplotlib.font_manager:findfont: Font family 'calibari' not found.\n",
            "WARNING:matplotlib.font_manager:findfont: Font family 'calibari' not found.\n",
            "WARNING:matplotlib.font_manager:findfont: Font family 'calibari' not found.\n"
          ]
        },
        {
          "output_type": "display_data",
          "data": {
            "text/plain": [
              "<Figure size 800x500 with 1 Axes>"
            ],
            "image/png": "[encoded data removed]"
          },
          "metadata": {}
        }
      ]
    },
    {
      "cell_type": "markdown",
      "source": [
        "SUPPORT VECTOR REGRESSOR"
      ],
      "metadata": {
        "id": "2oh_RmlJKYQM"
      }
    },
    {
      "cell_type": "code",
      "source": [
        "import time\n",
        "st = time.time()\n",
        "from sklearn.svm import SVR\n",
        "from sklearn.svm import SVR\n",
        "regressor = SVR(kernel = 'rbf')\n",
        "regressor.fit(tr_data_X, tr_data_Y)\n",
        "y_pred_svr = regressor.predict(ts_data_X)\n",
        "et = time.time()\n",
        "elapsed_time = et - st\n",
        "print('SVR:', elapsed_time, 'seconds')"
      ],
      "metadata": {
        "colab": {
          "base_uri": "https://localhost:8080/"
        },
        "id": "zELOsdYJKfi6",
        "outputId": "eab8ba58-a61f-4260-a6c7-26e63a56eb15"
      },
      "execution_count": 129,
      "outputs": [
        {
          "output_type": "stream",
          "name": "stdout",
          "text": [
            "SVR: 0.028565406799316406 seconds\n"
          ]
        }
      ]
    },
    {
      "cell_type": "code",
      "source": [
        "from sklearn.metrics import r2_score,mean_squared_error\n",
        "R2_svr =r2_score(ts_data_Y, y_pred_svr)\n",
        "mse_svr= mean_squared_error(ts_data_Y, y_pred_svr)\n",
        "import scipy\n",
        "r_svr=scipy.stats.pearsonr(ts_data_Y,y_pred_svr)"
      ],
      "metadata": {
        "id": "um4H5g6zKhhc"
      },
      "execution_count": 130,
      "outputs": []
    },
    {
      "cell_type": "code",
      "source": [
        "print('R2_svr=',R2_svr)\n",
        "print('mse_svr=',mse_svr)\n",
        "print('R score_svr=',r_svr[0])"
      ],
      "metadata": {
        "colab": {
          "base_uri": "https://localhost:8080/"
        },
        "id": "_d88eKerMe03",
        "outputId": "e0a502a0-b2be-4d49-c84b-86a6a7a9af66"
      },
      "execution_count": 131,
      "outputs": [
        {
          "output_type": "stream",
          "name": "stdout",
          "text": [
            "R2_svr= 0.0417508893366314\n",
            "mse_svr= 0.008650895490251345\n",
            "R score_svr= 0.2622989254266156\n"
          ]
        }
      ]
    },
    {
      "cell_type": "code",
      "source": [
        "# import matplotlib.pyplot as plt\n",
        "# plt.scatter(ts_data_Y, y_pred_svr)\n",
        "# plt.xlabel(\"Actual PCE\")\n",
        "# plt.ylabel(\"Predicted PCE\")\n",
        "# plt.show()"
      ],
      "metadata": {
        "id": "bEeCTGWhKlz5"
      },
      "execution_count": 132,
      "outputs": []
    },
    {
      "cell_type": "markdown",
      "source": [
        "RandomForestRegressor"
      ],
      "metadata": {
        "id": "VLqrwRo-K77n"
      }
    },
    {
      "cell_type": "code",
      "source": [
        "import time\n",
        "st = time.time()\n",
        "from sklearn.ensemble import RandomForestRegressor\n",
        "regressor = RandomForestRegressor(n_estimators = 60, random_state = 10,min_samples_split=3)\n",
        "regressor.fit(tr_data_X, tr_data_Y)\n",
        "y_pred_rf = regressor.predict(ts_data_X)\n",
        "et = time.time()\n",
        "elapsed_time = et - st\n",
        "print('RF:', elapsed_time, 'seconds')"
      ],
      "metadata": {
        "id": "XTH2C_V7KyLq",
        "colab": {
          "base_uri": "https://localhost:8080/"
        },
        "outputId": "60eb963b-5230-4613-de14-cc88548276c1"
      },
      "execution_count": 133,
      "outputs": [
        {
          "output_type": "stream",
          "name": "stdout",
          "text": [
            "RF: 0.1491556167602539 seconds\n"
          ]
        }
      ]
    },
    {
      "cell_type": "code",
      "source": [
        "from sklearn.metrics import r2_score,mean_squared_error\n",
        "R2_rf =r2_score(ts_data_Y, y_pred_rf)\n",
        "mse_rf= mean_squared_error(ts_data_Y, y_pred_rf)\n",
        "import scipy\n",
        "r_rf=scipy.stats.pearsonr(ts_data_Y,y_pred_rf)"
      ],
      "metadata": {
        "id": "aGmwxLDPLBLY"
      },
      "execution_count": 134,
      "outputs": []
    },
    {
      "cell_type": "code",
      "source": [
        "print('R2_rf=',R2_rf)\n",
        "print('mse_rf=',mse_rf)\n",
        "print('R score_rf=',r_rf[0])"
      ],
      "metadata": {
        "colab": {
          "base_uri": "https://localhost:8080/"
        },
        "id": "jgVG2qOyM7S6",
        "outputId": "f11b6b19-ce0e-4847-e23a-3cb0c6f485f7"
      },
      "execution_count": 135,
      "outputs": [
        {
          "output_type": "stream",
          "name": "stdout",
          "text": [
            "R2_rf= 0.7258577678566824\n",
            "mse_rf= 0.0024749052969058214\n",
            "R score_rf= 0.8797402745861761\n"
          ]
        }
      ]
    },
    {
      "cell_type": "code",
      "source": [
        "y_pred_rf"
      ],
      "metadata": {
        "colab": {
          "base_uri": "https://localhost:8080/"
        },
        "id": "PG5GFKXd1K1R",
        "outputId": "0f270ca3-f48c-47db-8dc7-aaca5d3b5fcc"
      },
      "execution_count": 163,
      "outputs": [
        {
          "output_type": "execute_result",
          "data": {
            "text/plain": [
              "array([0.57792222, 0.5679617 , 0.7490375 , 0.64902722, 0.649145  ,\n",
              "       0.63164492, 0.76191667, 0.67901685, 0.74943294, 0.68336222,\n",
              "       0.73549889, 0.75393063, 0.71783214, 0.58216004, 0.64605364,\n",
              "       0.82281627, 0.82281627, 0.67768722, 0.53421257, 0.68395651,\n",
              "       0.72625   , 0.51076373, 0.702845  , 0.66314278, 0.77195306,\n",
              "       0.58680472, 0.71744972, 0.69181405, 0.62997698, 0.71405   ,\n",
              "       0.6852211 , 0.7043088 , 0.69731778, 0.65563472, 0.70013861,\n",
              "       0.70013861, 0.77365389, 0.663012  , 0.74692778, 0.74692778,\n",
              "       0.69200079, 0.6633873 , 0.6633873 , 0.65594056, 0.6762621 ,\n",
              "       0.62638833, 0.72017806, 0.67694302, 0.60005556, 0.68533194,\n",
              "       0.61676983, 0.63934426, 0.6379694 , 0.66494722, 0.67187222,\n",
              "       0.6236119 , 0.57514944, 0.65696597, 0.70102933, 0.63310472,\n",
              "       0.73608611])"
            ]
          },
          "metadata": {},
          "execution_count": 163
        }
      ]
    },
    {
      "cell_type": "code",
      "source": [
        "from sklearn.metrics import r2_score,mean_squared_error,mean_absolute_percentage_error,fowlkes_mallows_score\n",
        "score_rf=r2_score(ts_data_Y, y_pred_rf)\n",
        "mse_rf=mean_squared_error(ts_data_Y, y_pred_rf)\n",
        "mape=mean_absolute_percentage_error(ts_data_Y, y_pred_rf)\n",
        "mallow=fowlkes_mallows_score(ts_data_Y, y_pred_rf)\n",
        "import scipy\n",
        "r_knn=scipy.stats.pearsonr(ts_data_Y,y_pred_rf)\n",
        "from sklearn.metrics import mean_squared_log_error,mean_absolute_error\n",
        "msle=mean_squared_log_error(ts_data_Y, y_pred_rf)\n",
        "mae=mean_absolute_error(ts_data_Y, y_pred_rf)\n",
        "rmse=np.sqrt(mse_rf)\n",
        "n = len(ts_data_Y)\n",
        "p = 6  # Number of predictors\n",
        "adjusted_r2 = 1 - (1 - score_rf) * (n - 1) / (n - p - 1)\n",
        "mbe = np.mean(y_pred_rf - ts_data_Y)\n",
        "rss = np.sum((y_pred_rf - ts_data_Y)**2)\n",
        "mpe = np.mean((y_pred_rf - ts_data_Y) / ts_data_Y) * 100\n",
        "print('R2_rf=',score_rf)\n",
        "print('mse_rf=',mse_rf)\n",
        "print('R score_rf=',r_rf[0])\n",
        "print('mape_rf=',mape)\n",
        "print('mallow_rf=',mallow)\n",
        "print('msle= ',msle)\n",
        "print('mae= ',mae)\n",
        "print('rmse= ',rmse)\n",
        "print('adjusted_r2=',adjusted_r2)\n",
        "print('mbe=',mbe)\n",
        "print('rss=',rss)\n",
        "print('mpe=',mpe)"
      ],
      "metadata": {
        "colab": {
          "base_uri": "https://localhost:8080/"
        },
        "id": "Yxqd1Dl5yhSo",
        "outputId": "697e323d-40ea-43ec-c78e-accbbc777be2"
      },
      "execution_count": 136,
      "outputs": [
        {
          "output_type": "stream",
          "name": "stdout",
          "text": [
            "R2_rf= 0.7258577678566824\n",
            "mse_rf= 0.0024749052969058214\n",
            "R score_rf= 0.8797402745861761\n",
            "mape_rf= 0.061464231262932205\n",
            "mallow_rf= 0.07453559924999299\n",
            "msle=  0.0009829428418114735\n",
            "mae=  0.03704680035128804\n",
            "rmse=  0.049748420044317204\n",
            "adjusted_r2= 0.6953975198407583\n",
            "mbe= -0.0007821655607598588\n",
            "rss= 0.1509692231112551\n",
            "mpe= 0.9764419114725836\n"
          ]
        }
      ]
    },
    {
      "cell_type": "code",
      "source": [
        "import warnings\n",
        "# Ignore the 'matplotlib.font_manager' warning\n",
        "warnings.filterwarnings('ignore', category=UserWarning, module='matplotlib.font_manager')\n",
        "# Your code for the scatter plot and other configurations\n",
        "sns.scatterplot(x=ts_data_Y, y=y_pred_rf, c='#008080', edgecolor='black', s=200)\n",
        "font1 = {'family': 'STIXGeneral', 'color': '#6f045a', 'fontweight': 'bold', 'size': 18}\n",
        "plt.yticks(color='navy', fontweight='bold', size=15)\n",
        "plt.xticks(color='navy', fontweight='bold', size=15)\n",
        "plt.xlabel('Actual pce', fontdict=font1)\n",
        "plt.ylabel('Predicted pce', fontdict=font1)\n",
        "plt.title('Randomforest plot', c='#6f045a', fontdict=font1)\n",
        "\n",
        "# Show the plot\n",
        "plt.show()\n"
      ],
      "metadata": {
        "colab": {
          "base_uri": "https://localhost:8080/",
          "height": 489
        },
        "id": "PxeNCs70LGyL",
        "outputId": "ca2b44e4-0524-4ee5-de92-42c33483586d"
      },
      "execution_count": 137,
      "outputs": [
        {
          "output_type": "display_data",
          "data": {
            "text/plain": [
              "<Figure size 640x480 with 1 Axes>"
            ],
            "image/png": "[encoded data removed]"
          },
          "metadata": {}
        }
      ]
    },
    {
      "cell_type": "markdown",
      "source": [
        "AdaBoostRegressor"
      ],
      "metadata": {
        "id": "vkTT7xkDLcyl"
      }
    },
    {
      "cell_type": "code",
      "source": [
        "import time\n",
        "st = time.time()\n",
        "from sklearn.ensemble import AdaBoostRegressor\n",
        "from sklearn.datasets import make_regression"
      ],
      "metadata": {
        "id": "pnXNLZJxLUnl"
      },
      "execution_count": 138,
      "outputs": []
    },
    {
      "cell_type": "code",
      "source": [
        "ada_reg = AdaBoostRegressor(random_state=0, n_estimators=100)\n",
        "ada_reg.fit(tr_data_X,tr_data_Y)"
      ],
      "metadata": {
        "colab": {
          "base_uri": "https://localhost:8080/",
          "height": 74
        },
        "id": "IujCVkSgLg9_",
        "outputId": "36c4e4c3-55d8-446c-eac2-c86edfd74309"
      },
      "execution_count": 139,
      "outputs": [
        {
          "output_type": "execute_result",
          "data": {
            "text/plain": [
              "AdaBoostRegressor(n_estimators=100, random_state=0)"
            ],
            "text/html": [
              "<style>#sk-container-id-11 {color: black;background-color: white;}#sk-container-id-11 pre{padding: 0;}#sk-container-id-11 div.sk-toggleable {background-color: white;}#sk-container-id-11 label.sk-toggleable__label {cursor: pointer;display: block;width: 100%;margin-bottom: 0;padding: 0.3em;box-sizing: border-box;text-align: center;}#sk-container-id-11 label.sk-toggleable__label-arrow:before {content: \"▸\";float: left;margin-right: 0.25em;color: #696969;}#sk-container-id-11 label.sk-toggleable__label-arrow:hover:before {color: black;}#sk-container-id-11 div.sk-estimator:hover label.sk-toggleable__label-arrow:before {color: black;}#sk-container-id-11 div.sk-toggleable__content {max-height: 0;max-width: 0;overflow: hidden;text-align: left;background-color: #f0f8ff;}#sk-container-id-11 div.sk-toggleable__content pre {margin: 0.2em;color: black;border-radius: 0.25em;background-color: #f0f8ff;}#sk-container-id-11 input.sk-toggleable__control:checked~div.sk-toggleable__content {max-height: 200px;max-width: 100%;overflow: auto;}#sk-container-id-11 input.sk-toggleable__control:checked~label.sk-toggleable__label-arrow:before {content: \"▾\";}#sk-container-id-11 div.sk-estimator input.sk-toggleable__control:checked~label.sk-toggleable__label {background-color: #d4ebff;}#sk-container-id-11 div.sk-label input.sk-toggleable__control:checked~label.sk-toggleable__label {background-color: #d4ebff;}#sk-container-id-11 input.sk-hidden--visually {border: 0;clip: rect(1px 1px 1px 1px);clip: rect(1px, 1px, 1px, 1px);height: 1px;margin: -1px;overflow: hidden;padding: 0;position: absolute;width: 1px;}#sk-container-id-11 div.sk-estimator {font-family: monospace;background-color: #f0f8ff;border: 1px dotted black;border-radius: 0.25em;box-sizing: border-box;margin-bottom: 0.5em;}#sk-container-id-11 div.sk-estimator:hover {background-color: #d4ebff;}#sk-container-id-11 div.sk-parallel-item::after {content: \"\";width: 100%;border-bottom: 1px solid gray;flex-grow: 1;}#sk-container-id-11 div.sk-label:hover label.sk-toggleable__label {background-color: #d4ebff;}#sk-container-id-11 div.sk-serial::before {content: \"\";position: absolute;border-left: 1px solid gray;box-sizing: border-box;top: 0;bottom: 0;left: 50%;z-index: 0;}#sk-container-id-11 div.sk-serial {display: flex;flex-direction: column;align-items: center;background-color: white;padding-right: 0.2em;padding-left: 0.2em;position: relative;}#sk-container-id-11 div.sk-item {position: relative;z-index: 1;}#sk-container-id-11 div.sk-parallel {display: flex;align-items: stretch;justify-content: center;background-color: white;position: relative;}#sk-container-id-11 div.sk-item::before, #sk-container-id-11 div.sk-parallel-item::before {content: \"\";position: absolute;border-left: 1px solid gray;box-sizing: border-box;top: 0;bottom: 0;left: 50%;z-index: -1;}#sk-container-id-11 div.sk-parallel-item {display: flex;flex-direction: column;z-index: 1;position: relative;background-color: white;}#sk-container-id-11 div.sk-parallel-item:first-child::after {align-self: flex-end;width: 50%;}#sk-container-id-11 div.sk-parallel-item:last-child::after {align-self: flex-start;width: 50%;}#sk-container-id-11 div.sk-parallel-item:only-child::after {width: 0;}#sk-container-id-11 div.sk-dashed-wrapped {border: 1px dashed gray;margin: 0 0.4em 0.5em 0.4em;box-sizing: border-box;padding-bottom: 0.4em;background-color: white;}#sk-container-id-11 div.sk-label label {font-family: monospace;font-weight: bold;display: inline-block;line-height: 1.2em;}#sk-container-id-11 div.sk-label-container {text-align: center;}#sk-container-id-11 div.sk-container {/* jupyter's `normalize.less` sets `[hidden] { display: none; }` but bootstrap.min.css set `[hidden] { display: none !important; }` so we also need the `!important` here to be able to override the default hidden behavior on the sphinx rendered scikit-learn.org. See: https://github.com/scikit-learn/scikit-learn/issues/21755 */display: inline-block !important;position: relative;}#sk-container-id-11 div.sk-text-repr-fallback {display: none;}</style><div id=\"sk-container-id-11\" class=\"sk-top-container\"><div class=\"sk-text-repr-fallback\"><pre>AdaBoostRegressor(n_estimators=100, random_state=0)</pre><b>In a Jupyter environment, please rerun this cell to show the HTML representation or trust the notebook. <br />On GitHub, the HTML representation is unable to render, please try loading this page with nbviewer.org.</b></div><div class=\"sk-container\" hidden><div class=\"sk-item\"><div class=\"sk-estimator sk-toggleable\"><input class=\"sk-toggleable__control sk-hidden--visually\" id=\"sk-estimator-id-11\" type=\"checkbox\" checked><label for=\"sk-estimator-id-11\" class=\"sk-toggleable__label sk-toggleable__label-arrow\">AdaBoostRegressor</label><div class=\"sk-toggleable__content\"><pre>AdaBoostRegressor(n_estimators=100, random_state=0)</pre></div></div></div></div></div>"
            ]
          },
          "metadata": {},
          "execution_count": 139
        }
      ]
    },
    {
      "cell_type": "code",
      "source": [
        "AdaBoostRegressor(n_estimators=100, random_state=0)\n",
        "y_pred_AdB = np.array(ada_reg.predict(ts_data_X))\n",
        "et = time.time()\n",
        "elapsed_time = et - st\n",
        "print('ADB :', elapsed_time, 'seconds')"
      ],
      "metadata": {
        "colab": {
          "base_uri": "https://localhost:8080/"
        },
        "id": "8_2yRRR-Nbnz",
        "outputId": "5d718fcb-a569-4153-a98c-2eaf8251f029"
      },
      "execution_count": 140,
      "outputs": [
        {
          "output_type": "stream",
          "name": "stdout",
          "text": [
            "ADB : 0.05548906326293945 seconds\n"
          ]
        }
      ]
    },
    {
      "cell_type": "code",
      "source": [
        "from sklearn.metrics import r2_score,mean_squared_error\n",
        "R2_AdB =r2_score(ts_data_Y, y_pred_AdB)\n",
        "mse_AdB= mean_squared_error(ts_data_Y, y_pred_AdB)\n",
        "import scipy\n",
        "r_AdB=scipy.stats.pearsonr(ts_data_Y,y_pred_AdB)"
      ],
      "metadata": {
        "id": "zaRFKdgfNilO"
      },
      "execution_count": 141,
      "outputs": []
    },
    {
      "cell_type": "code",
      "source": [
        "print('R2_AdB=',R2_AdB)\n",
        "print('mse_AdB=',mse_AdB)\n",
        "print('R score_AdB=',r_AdB[0])"
      ],
      "metadata": {
        "colab": {
          "base_uri": "https://localhost:8080/"
        },
        "id": "F0B2uIFlNlbr",
        "outputId": "3838afc6-bfa4-4870-e151-a82ef91a0fbb"
      },
      "execution_count": 142,
      "outputs": [
        {
          "output_type": "stream",
          "name": "stdout",
          "text": [
            "R2_AdB= 0.012528866479623146\n",
            "mse_AdB= 0.008914706500286838\n",
            "R score_AdB= 0.33644810384031454\n"
          ]
        }
      ]
    },
    {
      "cell_type": "code",
      "source": [
        "# import matplotlib.pyplot as plt\n",
        "# plt.scatter(ts_data_Y,y_pred_AdB)\n",
        "# plt.xlabel(\"Actual PCE\")\n",
        "# plt.ylabel(\"Predicted PCE\")\n",
        "# plt.show()"
      ],
      "metadata": {
        "id": "lKHE6tTqLmsd"
      },
      "execution_count": 143,
      "outputs": []
    },
    {
      "cell_type": "markdown",
      "source": [
        "LGBMRegressor"
      ],
      "metadata": {
        "id": "-f26JJtvL-fi"
      }
    },
    {
      "cell_type": "code",
      "source": [
        "import time\n",
        "st = time.time()\n",
        "from sklearn.datasets import make_regression\n",
        "from lightgbm import LGBMRegressor\n",
        "model_LGBM = LGBMRegressor(learning_rare=0.01)"
      ],
      "metadata": {
        "id": "rgBMbNBRL2fL"
      },
      "execution_count": 165,
      "outputs": []
    },
    {
      "cell_type": "code",
      "source": [
        "model_LGBM.fit(tr_data_X,tr_data_Y)\n",
        "et = time.time()\n",
        "elapsed_time = et - st\n",
        "print('LGBM:', elapsed_time, 'seconds')"
      ],
      "metadata": {
        "colab": {
          "base_uri": "https://localhost:8080/"
        },
        "id": "fVn4lBQ1MC-6",
        "outputId": "be356f12-7d39-4506-af59-2242648b9a07"
      },
      "execution_count": 166,
      "outputs": [
        {
          "output_type": "stream",
          "name": "stdout",
          "text": [
            "[LightGBM] [Warning] Unknown parameter: learning_rare\n",
            "LGBM: 0.057771921157836914 seconds\n"
          ]
        }
      ]
    },
    {
      "cell_type": "code",
      "source": [
        "y_pred_LightGBM =model_LGBM.predict(ts_data_X)"
      ],
      "metadata": {
        "id": "Xs4GPKEBMF3d"
      },
      "execution_count": 167,
      "outputs": []
    },
    {
      "cell_type": "code",
      "source": [
        "from sklearn.metrics import r2_score,mean_squared_error\n",
        "R2_LightGBM =r2_score(ts_data_Y, y_pred_LightGBM)\n",
        "mse_LightGBM= mean_squared_error(ts_data_Y, y_pred_LightGBM)\n",
        "import scipy\n",
        "r_LightGBM=scipy.stats.pearsonr(ts_data_Y,y_pred_LightGBM)"
      ],
      "metadata": {
        "id": "n7_bs7o0MIW2"
      },
      "execution_count": 147,
      "outputs": []
    },
    {
      "cell_type": "code",
      "source": [
        "print('R2_LightGBM=',R2_LightGBM)\n",
        "print('mse_LightGBM=',mse_LightGBM)\n",
        "print('R score_LightGBM=',r_LightGBM[0])"
      ],
      "metadata": {
        "colab": {
          "base_uri": "https://localhost:8080/"
        },
        "id": "hoPPHrcxMKfU",
        "outputId": "3cc038be-7cfa-40e9-deca-8badc5b0cbe9"
      },
      "execution_count": 148,
      "outputs": [
        {
          "output_type": "stream",
          "name": "stdout",
          "text": [
            "R2_LightGBM= 0.6139555508336603\n",
            "mse_LightGBM= 0.0034851377863713557\n",
            "R score_LightGBM= 0.7972605637008138\n"
          ]
        }
      ]
    },
    {
      "cell_type": "code",
      "source": [
        "y_pred_LightGBM"
      ],
      "metadata": {
        "colab": {
          "base_uri": "https://localhost:8080/"
        },
        "id": "V2Twg2dI1p6T",
        "outputId": "7574ee3d-28a3-4ac9-b1b6-1d54e032a1ab"
      },
      "execution_count": 164,
      "outputs": [
        {
          "output_type": "execute_result",
          "data": {
            "text/plain": [
              "array([0.65309272, 0.56861335, 0.70249289, 0.69737748, 0.65872186,\n",
              "       0.64268909, 0.77318922, 0.66308068, 0.73425773, 0.67454722,\n",
              "       0.73476507, 0.70213667, 0.72039797, 0.57526079, 0.63420845,\n",
              "       0.83633011, 0.83633011, 0.65248527, 0.51892704, 0.68832682,\n",
              "       0.70378136, 0.52083139, 0.68009453, 0.67216274, 0.76950278,\n",
              "       0.54271676, 0.71286389, 0.65789828, 0.59064014, 0.72505901,\n",
              "       0.66389369, 0.68890782, 0.70096531, 0.67225453, 0.68101946,\n",
              "       0.68101946, 0.77265115, 0.63266146, 0.74098984, 0.74098984,\n",
              "       0.66454775, 0.6671463 , 0.6671463 , 0.65880138, 0.68536923,\n",
              "       0.62283119, 0.71513538, 0.66852056, 0.63547694, 0.67693637,\n",
              "       0.67567828, 0.61040856, 0.68298875, 0.64200375, 0.64080624,\n",
              "       0.6409921 , 0.59042124, 0.65931717, 0.70485127, 0.69080723,\n",
              "       0.74981458])"
            ]
          },
          "metadata": {},
          "execution_count": 164
        }
      ]
    },
    {
      "cell_type": "code",
      "source": [
        "from sklearn.metrics import r2_score,mean_squared_error,mean_absolute_percentage_error,fowlkes_mallows_score\n",
        "score_LightGBM=r2_score(ts_data_Y, y_pred_LightGBM)\n",
        "mse_LightGBM=mean_squared_error(ts_data_Y, y_pred_LightGBM)\n",
        "mape=mean_absolute_percentage_error(ts_data_Y, y_pred_LightGBM)\n",
        "mallow=fowlkes_mallows_score(ts_data_Y, y_pred_LightGBM)\n",
        "import scipy\n",
        "r_LightGBM=scipy.stats.pearsonr(ts_data_Y,y_pred_LightGBM)\n",
        "from sklearn.metrics import mean_squared_log_error,mean_absolute_error\n",
        "msle=mean_squared_log_error(ts_data_Y, y_pred_LightGBM)\n",
        "mae=mean_absolute_error(ts_data_Y, y_pred_LightGBM)\n",
        "rmse=np.sqrt(mse_LightGBM)\n",
        "n = len(ts_data_Y)\n",
        "p = 6  # Number of predictors\n",
        "adjusted_r2 = 1 - (1 - score_LightGBM) * (n - 1) / (n - p - 1)\n",
        "mbe = np.mean(y_pred_LightGBM - ts_data_Y)\n",
        "rss = np.sum((y_pred_LightGBM - ts_data_Y)**2)\n",
        "mpe = np.mean((y_pred_LightGBM - ts_data_Y) / ts_data_Y) * 100\n",
        "print('R2_LightGBM=',score_LightGBM)\n",
        "print('mse_LightGBM=',mse_LightGBM)\n",
        "print('R score_LightGBM=',r_LightGBM[0])\n",
        "print('mape_LightGBM=',mape)\n",
        "print('mallow_LightGBM=',mallow)\n",
        "print('msle= ',msle)\n",
        "print('mae= ',mae)\n",
        "print('rmse= ',rmse)\n",
        "print('adjusted_r2=',adjusted_r2)\n",
        "print('mbe=',mbe)\n",
        "print('rss=',rss)\n",
        "print('mpe=',mpe)"
      ],
      "metadata": {
        "colab": {
          "base_uri": "https://localhost:8080/"
        },
        "id": "OrpSIP-Qyj5Q",
        "outputId": "ad0d5b02-ba5a-49f4-8c6a-3df7779fef24"
      },
      "execution_count": 149,
      "outputs": [
        {
          "output_type": "stream",
          "name": "stdout",
          "text": [
            "R2_LightGBM= 0.6139555508336603\n",
            "mse_LightGBM= 0.0034851377863713557\n",
            "R score_LightGBM= 0.7972605637008138\n",
            "mape_LightGBM= 0.07352670517830343\n",
            "mallow_LightGBM= 0.07453559924999299\n",
            "msle=  0.0013401012712741403\n",
            "mae=  0.04517637045826827\n",
            "rmse=  0.059035055571849473\n",
            "adjusted_r2= 0.5710617231485113\n",
            "mbe= -0.0026240233710128707\n",
            "rss= 0.2125934049686527\n",
            "mpe= 0.8153868849069857\n"
          ]
        }
      ]
    },
    {
      "cell_type": "code",
      "source": [
        "import warnings\n",
        "# Ignore the 'matplotlib.font_manager' warning\n",
        "warnings.filterwarnings('ignore', category=UserWarning, module='matplotlib.font_manager')\n",
        "# Your code for the scatter plot and other configurations\n",
        "sns.scatterplot(x=ts_data_Y, y=y_pred_LightGBM, c='#008080', edgecolor='black', s=200)\n",
        "font1 = {'family': 'STIXGeneral', 'color': '#6f045a', 'fontweight': 'bold', 'size': 18}\n",
        "plt.yticks(color='navy', fontweight='bold', size=15)\n",
        "plt.xticks(color='navy', fontweight='bold', size=15)\n",
        "plt.xlabel('Actual pce', fontdict=font1)\n",
        "plt.ylabel('Predicted pce', fontdict=font1)\n",
        "plt.title('LightGBM plot', c='#6f045a', fontdict=font1)\n",
        "\n",
        "# Show the plot\n",
        "plt.show()\n"
      ],
      "metadata": {
        "colab": {
          "base_uri": "https://localhost:8080/",
          "height": 489
        },
        "id": "zIFqEJ3LMOEs",
        "outputId": "f6f4ae42-7616-48ac-9c82-2aa902873397"
      },
      "execution_count": 150,
      "outputs": [
        {
          "output_type": "display_data",
          "data": {
            "text/plain": [
              "<Figure size 640x480 with 1 Axes>"
            ],
            "image/png": "[encoded data removed]"
          },
          "metadata": {}
        }
      ]
    },
    {
      "cell_type": "code",
      "source": [
        "pip install catboost"
      ],
      "metadata": {
        "colab": {
          "base_uri": "https://localhost:8080/"
        },
        "id": "FCuAsBxMMb8v",
        "outputId": "4c8e7f3e-88e1-4666-98ae-ab6b4577002f"
      },
      "execution_count": 151,
      "outputs": [
        {
          "output_type": "stream",
          "name": "stdout",
          "text": [
            "Requirement already satisfied: catboost in /usr/local/lib/python3.10/dist-packages (1.2)\n",
            "Requirement already satisfied: graphviz in /usr/local/lib/python3.10/dist-packages (from catboost) (0.20.1)\n",
            "Requirement already satisfied: matplotlib in /usr/local/lib/python3.10/dist-packages (from catboost) (3.7.1)\n",
            "Requirement already satisfied: numpy>=1.16.0 in /usr/local/lib/python3.10/dist-packages (from catboost) (1.23.5)\n",
            "Requirement already satisfied: pandas>=0.24 in /usr/local/lib/python3.10/dist-packages (from catboost) (1.5.3)\n",
            "Requirement already satisfied: scipy in /usr/local/lib/python3.10/dist-packages (from catboost) (1.10.1)\n",
            "Requirement already satisfied: plotly in /usr/local/lib/python3.10/dist-packages (from catboost) (5.13.1)\n",
            "Requirement already satisfied: six in /usr/local/lib/python3.10/dist-packages (from catboost) (1.16.0)\n",
            "Requirement already satisfied: python-dateutil>=2.8.1 in /usr/local/lib/python3.10/dist-packages (from pandas>=0.24->catboost) (2.8.2)\n",
            "Requirement already satisfied: pytz>=2020.1 in /usr/local/lib/python3.10/dist-packages (from pandas>=0.24->catboost) (2022.7.1)\n",
            "Requirement already satisfied: contourpy>=1.0.1 in /usr/local/lib/python3.10/dist-packages (from matplotlib->catboost) (1.1.0)\n",
            "Requirement already satisfied: cycler>=0.10 in /usr/local/lib/python3.10/dist-packages (from matplotlib->catboost) (0.11.0)\n",
            "Requirement already satisfied: fonttools>=4.22.0 in /usr/local/lib/python3.10/dist-packages (from matplotlib->catboost) (4.42.0)\n",
            "Requirement already satisfied: kiwisolver>=1.0.1 in /usr/local/lib/python3.10/dist-packages (from matplotlib->catboost) (1.4.4)\n",
            "Requirement already satisfied: packaging>=20.0 in /usr/local/lib/python3.10/dist-packages (from matplotlib->catboost) (23.1)\n",
            "Requirement already satisfied: pillow>=6.2.0 in /usr/local/lib/python3.10/dist-packages (from matplotlib->catboost) (9.4.0)\n",
            "Requirement already satisfied: pyparsing>=2.3.1 in /usr/local/lib/python3.10/dist-packages (from matplotlib->catboost) (3.1.1)\n",
            "Requirement already satisfied: tenacity>=6.2.0 in /usr/local/lib/python3.10/dist-packages (from plotly->catboost) (8.2.2)\n"
          ]
        }
      ]
    },
    {
      "cell_type": "code",
      "source": [
        "import time\n",
        "st = time.time()\n",
        "from catboost import CatBoostRegressor\n",
        "model=CatBoostRegressor(iterations=18, depth=4, learning_rate=0.1, loss_function='RMSE')\n",
        "model.fit(tr_data_X,tr_data_Y, eval_set=(ts_data_X,ts_data_Y),plot=True)\n",
        "y_pred_CatBoost = np.array(model.predict(ts_data_X))\n",
        "et = time.time()\n",
        "elapsed_time = et - st\n",
        "print('catboost:', elapsed_time, 'seconds')"
      ],
      "metadata": {
        "colab": {
          "base_uri": "https://localhost:8080/",
          "height": 416,
          "referenced_widgets": [
            "1a669ee80cee40f9b937b83f3f9000bc"
          ]
        },
        "id": "FUYoflACMQz9",
        "outputId": "49185ba0-431c-43c5-ea5c-3bfb33d4b86e"
      },
      "execution_count": 152,
      "outputs": [
        {
          "output_type": "display_data",
          "data": {
            "text/plain": [
              "MetricVisualizer(layout=Layout(align_self='stretch', height='500px'))"
            ],
            "application/vnd.jupyter.widget-view+json": {
              "version_major": 2,
              "version_minor": 0,
              "model_id": "1a669ee80cee40f9b937b83f3f9000bc"
            }
          },
          "metadata": {}
        },
        {
          "output_type": "stream",
          "name": "stdout",
          "text": [
            "0:\tlearn: 0.1039285\ttest: 0.0945232\tbest: 0.0945232 (0)\ttotal: 482us\tremaining: 8.2ms\n",
            "1:\tlearn: 0.1030364\ttest: 0.0942181\tbest: 0.0942181 (1)\ttotal: 1.34ms\tremaining: 10.8ms\n",
            "2:\tlearn: 0.1025334\ttest: 0.0940073\tbest: 0.0940073 (2)\ttotal: 1.92ms\tremaining: 9.6ms\n",
            "3:\tlearn: 0.1022371\ttest: 0.0935266\tbest: 0.0935266 (3)\ttotal: 2.4ms\tremaining: 8.39ms\n",
            "4:\tlearn: 0.1016398\ttest: 0.0932853\tbest: 0.0932853 (4)\ttotal: 2.95ms\tremaining: 7.68ms\n",
            "5:\tlearn: 0.1013625\ttest: 0.0931510\tbest: 0.0931510 (5)\ttotal: 3.5ms\tremaining: 6.99ms\n",
            "6:\tlearn: 0.1010759\ttest: 0.0930896\tbest: 0.0930896 (6)\ttotal: 4.05ms\tremaining: 6.36ms\n",
            "7:\tlearn: 0.1004772\ttest: 0.0927395\tbest: 0.0927395 (7)\ttotal: 4.35ms\tremaining: 5.43ms\n",
            "8:\tlearn: 0.1001614\ttest: 0.0924999\tbest: 0.0924999 (8)\ttotal: 4.75ms\tremaining: 4.75ms\n",
            "9:\tlearn: 0.0999886\ttest: 0.0924588\tbest: 0.0924588 (9)\ttotal: 5.56ms\tremaining: 4.45ms\n",
            "10:\tlearn: 0.0995049\ttest: 0.0922943\tbest: 0.0922943 (10)\ttotal: 5.88ms\tremaining: 3.74ms\n",
            "11:\tlearn: 0.0991711\ttest: 0.0920287\tbest: 0.0920287 (11)\ttotal: 6.67ms\tremaining: 3.33ms\n",
            "12:\tlearn: 0.0987849\ttest: 0.0920807\tbest: 0.0920287 (11)\ttotal: 7.07ms\tremaining: 2.72ms\n",
            "13:\tlearn: 0.0983098\ttest: 0.0918788\tbest: 0.0918788 (13)\ttotal: 7.37ms\tremaining: 2.11ms\n",
            "14:\tlearn: 0.0980361\ttest: 0.0913875\tbest: 0.0913875 (14)\ttotal: 7.83ms\tremaining: 1.57ms\n",
            "15:\tlearn: 0.0978192\ttest: 0.0912686\tbest: 0.0912686 (15)\ttotal: 8.2ms\tremaining: 1.02ms\n",
            "16:\tlearn: 0.0975155\ttest: 0.0910534\tbest: 0.0910534 (16)\ttotal: 8.57ms\tremaining: 504us\n",
            "17:\tlearn: 0.0972913\ttest: 0.0910047\tbest: 0.0910047 (17)\ttotal: 8.94ms\tremaining: 0us\n",
            "\n",
            "bestTest = 0.09100474626\n",
            "bestIteration = 17\n",
            "\n",
            "catboost: 0.07341122627258301 seconds\n"
          ]
        }
      ]
    },
    {
      "cell_type": "code",
      "source": [
        "from sklearn.metrics import r2_score,mean_squared_error\n",
        "R2_CatBoost =r2_score(ts_data_Y, y_pred_CatBoost)\n",
        "mse_CatBoost= mean_squared_error(ts_data_Y,y_pred_CatBoost)\n",
        "import scipy\n",
        "r_CatBoost=scipy.stats.pearsonr(ts_data_Y,y_pred_CatBoost)"
      ],
      "metadata": {
        "id": "PyM_-Gx5MZS5"
      },
      "execution_count": 153,
      "outputs": []
    },
    {
      "cell_type": "code",
      "source": [
        "print('R2_CatBoost=',R2_CatBoost)\n",
        "print('mse_CatBoost=',mse_CatBoost)\n",
        "print('R score_CatBoost=',r_CatBoost[0])"
      ],
      "metadata": {
        "colab": {
          "base_uri": "https://localhost:8080/"
        },
        "id": "lLL2DvlzMrWj",
        "outputId": "c452efc8-4c5f-40d5-e73c-5a3d680e9811"
      },
      "execution_count": 154,
      "outputs": [
        {
          "output_type": "stream",
          "name": "stdout",
          "text": [
            "R2_CatBoost= 0.08262803724061374\n",
            "mse_CatBoost= 0.008281864169980049\n",
            "R score_CatBoost= 0.34794177587273184\n"
          ]
        }
      ]
    },
    {
      "cell_type": "markdown",
      "source": [
        "ANN"
      ],
      "metadata": {
        "id": "2ogyY6_aNSrh"
      }
    },
    {
      "cell_type": "markdown",
      "source": [
        "ANN"
      ],
      "metadata": {
        "id": "kJNqO2NUbuyy"
      }
    },
    {
      "cell_type": "code",
      "source": [
        "import tensorflow as tf\n",
        "import time\n"
      ],
      "metadata": {
        "id": "laDBhJ21MwlA"
      },
      "execution_count": 155,
      "outputs": []
    },
    {
      "cell_type": "code",
      "source": [
        "from keras.models import Sequential\n",
        "from keras.layers import Dense\n",
        "from sklearn.metrics import mean_squared_error\n",
        "np.random.seed(seed=8)\n",
        "model = Sequential()\n",
        "model.add(Dense(units=20, input_dim=6, kernel_initializer='normal', activation='relu'))\n",
        "model.add(Dense(units=20, kernel_initializer='normal', activation='tanh'))\n",
        "model.add(Dense(1, kernel_initializer='normal'))\n",
        "model.compile(loss='mean_squared_error', optimizer='adam')\n",
        "model.fit(tr_data_X, tr_data_Y ,batch_size = 8, epochs = 100,verbose=0)\n",
        "pred=model.predict(ts_data_X)\n",
        "pred_ANN=[]\n",
        "for i in pred:\n",
        "  pred_ANN.append(i[0])\n",
        "pred_ANN=np.array(pred_ANN)\n",
        "rms = mean_squared_error(pred_ANN, ts_data_Y, squared=False)\n",
        "print(rms)"
      ],
      "metadata": {
        "colab": {
          "base_uri": "https://localhost:8080/"
        },
        "id": "sxCK3HzgNW7Z",
        "outputId": "3837a571-0014-4ae8-e9e8-63f6e366f04f"
      },
      "execution_count": 156,
      "outputs": [
        {
          "output_type": "stream",
          "name": "stdout",
          "text": [
            "2/2 [==============================] - 0s 21ms/step\n",
            "0.09428213360854781\n"
          ]
        }
      ]
    },
    {
      "cell_type": "code",
      "source": [
        "from sklearn.metrics import r2_score,mean_squared_error\n",
        "R2_ANN =r2_score(ts_data_Y, pred_ANN)\n",
        "mse_ANN= mean_squared_error(ts_data_Y,pred_ANN)\n",
        "import scipy\n",
        "r_ANN=scipy.stats.pearsonr(ts_data_Y,pred_ANN)"
      ],
      "metadata": {
        "id": "mlPgRwqtNaal"
      },
      "execution_count": 157,
      "outputs": []
    },
    {
      "cell_type": "code",
      "source": [
        "print('R2_ANN=',R2_ANN)\n",
        "print('mse_ANN=',mse_ANN)\n",
        "print('R score_ANN=',r_ANN[0])"
      ],
      "metadata": {
        "colab": {
          "base_uri": "https://localhost:8080/"
        },
        "id": "u2j_m3RFNp-Q",
        "outputId": "5e72ddab-89c9-42fe-fc7d-8c80fba11ebf"
      },
      "execution_count": 158,
      "outputs": [
        {
          "output_type": "stream",
          "name": "stdout",
          "text": [
            "R2_ANN= 0.015362972308363476\n",
            "mse_ANN= 0.008889120717780061\n",
            "R score_ANN= 0.2225075017287201\n"
          ]
        }
      ]
    },
    {
      "cell_type": "code",
      "source": [
        "# print('R2_LR=',score_lr)\n",
        "# print('mse_LR=',mse_lr)\n",
        "# print('R score_LR=',r_lr[0])\n",
        "print('-----------------------------------------')\n",
        "print('R2_dtr=',score_dtr)\n",
        "print('mse_dtr=',mse_dtr)\n",
        "print('R score_dtr=',r_dtr[0])\n",
        "print('-----------------------------------------')\n",
        "print('R2_xgb=',R2_xgb)\n",
        "print('mse_xgb=',mse_xgb)\n",
        "print('R score_xgb=',r_xgb[0])\n",
        "print('-----------------------------------------')\n",
        "print('R2_knn=',R2_knn)\n",
        "print('mse_knn=',mse_knn)\n",
        "print('R score_knn=',r_knn[0])\n",
        "print('-----------------------------------------')\n",
        "print('R2_svr=',R2_svr)\n",
        "print('mse_svr=',mse_svr)\n",
        "print('R score_svr=',r_svr[0])\n",
        "print('-----------------------------------------')\n",
        "print('R2_rf=',R2_rf)\n",
        "print('mse_rf=',mse_rf)\n",
        "print('R score_rf=',r_rf[0])\n",
        "print('-----------------------------------------')\n",
        "print('R2_AdB=',R2_AdB)\n",
        "print('mse_AdB=',mse_AdB)\n",
        "print('R score_AdB=',r_AdB[0])\n",
        "print('-----------------------------------------')\n",
        "print('R2_LightGBM=',R2_LightGBM)\n",
        "print('mse_LightGBM=',mse_LightGBM)\n",
        "print('R score_LightGBM=',r_LightGBM[0])\n",
        "print('-----------------------------------------')\n",
        "print('R2_CatBoost=',R2_CatBoost)\n",
        "print('mse_CatBoost=',mse_CatBoost)\n",
        "print('R score_CatBoost=',r_CatBoost[0])\n",
        "print('-----------------------------------------')\n",
        "print('R2_ANN=',R2_ANN)\n",
        "print('mse_ANN=',mse_ANN)\n",
        "print('R score_ANN=',r_ANN[0])"
      ],
      "metadata": {
        "id": "pQur5EwGNtEB",
        "colab": {
          "base_uri": "https://localhost:8080/"
        },
        "outputId": "b2fc7042-b1a5-4e14-cf13-3ed14e249847"
      },
      "execution_count": 159,
      "outputs": [
        {
          "output_type": "stream",
          "name": "stdout",
          "text": [
            "-----------------------------------------\n",
            "R2_dtr= 0.9520936980269573\n",
            "mse_dtr= 0.0004324892213114755\n",
            "R score_dtr= 0.8624965823646623\n",
            "-----------------------------------------\n",
            "R2_xgb= 0.7337559342209936\n",
            "mse_xgb= 0.002403602113817058\n",
            "R score_xgb= 0.8624965823646623\n",
            "-----------------------------------------\n",
            "R2_knn= 0.3795131131136388\n",
            "mse_knn= 0.005601640692167579\n",
            "R score_knn= 0.8797402745861761\n",
            "-----------------------------------------\n",
            "R2_svr= 0.0417508893366314\n",
            "mse_svr= 0.008650895490251345\n",
            "R score_svr= 0.2622989254266156\n",
            "-----------------------------------------\n",
            "R2_rf= 0.7258577678566824\n",
            "mse_rf= 0.0024749052969058214\n",
            "R score_rf= 0.8797402745861761\n",
            "-----------------------------------------\n",
            "R2_AdB= 0.012528866479623146\n",
            "mse_AdB= 0.008914706500286838\n",
            "R score_AdB= 0.33644810384031454\n",
            "-----------------------------------------\n",
            "R2_LightGBM= 0.6139555508336603\n",
            "mse_LightGBM= 0.0034851377863713557\n",
            "R score_LightGBM= 0.7972605637008138\n",
            "-----------------------------------------\n",
            "R2_CatBoost= 0.08262803724061374\n",
            "mse_CatBoost= 0.008281864169980049\n",
            "R score_CatBoost= 0.34794177587273184\n",
            "-----------------------------------------\n",
            "R2_ANN= 0.015362972308363476\n",
            "mse_ANN= 0.008889120717780061\n",
            "R score_ANN= 0.2225075017287201\n"
          ]
        }
      ]
    },
    {
      "cell_type": "code",
      "source": [],
      "metadata": {
        "id": "MPCXhOS9O6rk"
      },
      "execution_count": 159,
      "outputs": []
    }
  ]
}